{
 "cells": [
  {
   "cell_type": "markdown",
   "metadata": {},
   "source": [
    "# 26. Time Series Data\n",
    "## Learning Objective\n",
    "1. Learners can determine whether a given 'DataFrame' is usitable for time series analysis.\n",
    "2. Learners can generate data, time ,interval, and array data as time series data types.\n",
    "3. Learners can index and slice data frame using 'DatetimeIndex'\n",
    "\n",
    "### Concepts you will need to know from <FONT color = 'yellow'> previous unit </FONT>\n",
    "1. Section 23 : <FONT color = 'yellow'>Basics of Pandas Series for the data Process</FONT> \n",
    "2. Section 24 : <FONT color = 'yellow'>Basics of Pandas Dataframe for the data Process</FONT>\n",
    "    - Usage of Pandas \n",
    "    - Usage of Matplotlib\n",
    "3. Section 25 : <FONT color = 'yellow'>Data Tidying</FONT>\n",
    "    - How to Data tidying\n",
    "\n",
    "## Main Keywords\n",
    "1. Time series data \n",
    "2. Timestamp\n",
    "3. Period\n",
    "4. Timedelta \n",
    "5. DatetimeIndex\n",
    "6. Rolling statistics\n",
    "\n",
    "## Mission\n",
    "### 1. Seafood Production Data Analysis\n",
    "![alt text](images/Lession%2026/1.Seafood.png)\n",
    "![alt text](images/Lession%2026/Ourdata.png)\n",
    "![alt text](images/Lession%2026/Fish%20oversea.png)\n",
    "\n",
    "- Base on this data, lte's<FONT color = 'yellow'>compare the types of raw material supply dominating the current global seafoood production business.</FONT>\n",
    "\n",
    "![alt text](images/Lession%2026/fish%20grap.png)\n",
    "![alt text](images/Lession%2026/Download%20fish%20date%20set.png)\n",
    "![alt text](images/Lession%2026/Analysis%20data%20as%20follow.png)\n",
    "### 3. Programming Plan\n",
    "![alt text](images/Lession%2026/Programming%20plan.png)\n",
    "![alt text](images/Lession%2026/Programming%20plan%201.png)\n",
    "![alt text](images/Lession%2026/Programming%20plan%202.png)\n",
    "\n",
    "## Key concept\n",
    "### 1. What is time series data?\n",
    "![alt text](images/Lession%2026/What%20is%20a%20time%20seire.png)\n",
    "![alt text](images/Lession%2026/What%20is%20a%20time%20seires%201.png)\n",
    "![alt text](images/Lession%2026/pandas.png)\n",
    "![alt text](images/Lession%2026/pandas%201.png)\n",
    "### 2. Time series data and analysis widely used in the real world\n",
    "![alt text](images/Lession%2026/Time%20series%20data%20and%20analysis%20widely%20used%20in%20the%20real%20world.png)\n",
    "![alt text](images/Lession%2026/Time%20series%20data%20and%20analysis%20widely%20used%20in%20the%20real%20world%201.png)\n",
    "### 3. Pandas'time series data types \n",
    "![alt text](images/Lession%2026/Pandas'time%20series%20data%20types1.1.png)\n",
    "![alt text](images/Lession%2026/Pandas'time%20series%20data%20types%201.png)\n",
    "\n",
    "### 4. Element of time series data \n",
    "![alt text](images/Lession%2026/Element%20of%20time%20series%20data%20.png)\n",
    "![alt text](images/Lession%2026/Element%20of%20time%20series%20data%20%201.png)\n",
    "\n",
    "### 5. Creating dates,times ,frequencies, and time intervals\n",
    "#### 5.1 Creating dates and time using the Python datetime class\n",
    "![alt text](images/Lession%2026/Creating%20dates%20and%20time%20using%20the%20Python%20datetime%20class.png)\n",
    "![alt text](images/Lession%2026/Creating%20dates%20and%20time%20using%20the%20Python%20datetime%20class%201.png)\n",
    "\n",
    "\n",
    "\n"
   ]
  },
  {
   "cell_type": "code",
   "execution_count": 14,
   "metadata": {},
   "outputs": [
    {
     "data": {
      "text/plain": [
       "datetime.datetime(2021, 7, 7, 0, 0)"
      ]
     },
     "execution_count": 14,
     "metadata": {},
     "output_type": "execute_result"
    }
   ],
   "source": [
    "import pandas as pd \n",
    "import numpy as np\n",
    "import datetime\n",
    "\n",
    "from datetime import date, datetime ,time ,timezone \n",
    "\n",
    "datetime(2021,7,7)"
   ]
  },
  {
   "cell_type": "markdown",
   "metadata": {},
   "source": [
    "* Line 7\n",
    "  - At least three parameters corresponding to year , month, and day are required. The time and minute are returned as 0 by default."
   ]
  },
  {
   "cell_type": "code",
   "execution_count": 15,
   "metadata": {},
   "outputs": [
    {
     "data": {
      "text/plain": [
       "datetime.datetime(2021, 7, 7, 15, 50)"
      ]
     },
     "execution_count": 15,
     "metadata": {},
     "output_type": "execute_result"
    }
   ],
   "source": [
    "datetime(2021,7,7,15,50)"
   ]
  },
  {
   "cell_type": "markdown",
   "metadata": {},
   "source": [
    "* Line 1\n",
    "  - It is when setting the parameters for year,month,day,hour,and minute to 2021, july, 7 th, 15 hours, and 50 minutes, respectively."
   ]
  },
  {
   "cell_type": "code",
   "execution_count": 16,
   "metadata": {},
   "outputs": [
    {
     "data": {
      "text/plain": [
       "datetime.datetime(2021, 7, 7, 13, 26, 10)"
      ]
     },
     "execution_count": 16,
     "metadata": {},
     "output_type": "execute_result"
    }
   ],
   "source": [
    "d = date(2021,7 ,7)\n",
    "t = time (13,26,10)\n",
    "datetime.combine(d,t)"
   ]
  },
  {
   "cell_type": "markdown",
   "metadata": {},
   "source": [
    "* The 'combine()' method of the 'datetime'class allows us to create a 'dateitme' object using existing 'date' or 'time' objects."
   ]
  },
  {
   "cell_type": "code",
   "execution_count": 17,
   "metadata": {},
   "outputs": [
    {
     "data": {
      "text/plain": [
       "datetime.datetime(2024, 2, 26, 10, 2, 36, 446801)"
      ]
     },
     "execution_count": 17,
     "metadata": {},
     "output_type": "execute_result"
    }
   ],
   "source": [
    "datetime.now()"
   ]
  },
  {
   "cell_type": "markdown",
   "metadata": {},
   "source": [
    "* Line 1\n",
    "    - Current date and time with the local time zone."
   ]
  },
  {
   "cell_type": "code",
   "execution_count": 18,
   "metadata": {},
   "outputs": [
    {
     "data": {
      "text/plain": [
       "datetime.datetime(2024, 2, 26, 3, 2, 38, 227259, tzinfo=datetime.timezone.utc)"
      ]
     },
     "execution_count": 18,
     "metadata": {},
     "output_type": "execute_result"
    }
   ],
   "source": [
    "datetime.now(timezone.utc)"
   ]
  },
  {
   "cell_type": "markdown",
   "metadata": {},
   "source": [
    "* Line 1 \n",
    "    - Using the 'now' method with a time zone as a parameter, a 'datetime' object with the corresponding time zone is created."
   ]
  },
  {
   "cell_type": "code",
   "execution_count": 19,
   "metadata": {
    "scrolled": true
   },
   "outputs": [
    {
     "data": {
      "text/plain": [
       "datetime.date(2024, 2, 26)"
      ]
     },
     "execution_count": 19,
     "metadata": {},
     "output_type": "execute_result"
    }
   ],
   "source": [
    "datetime.now().date()"
   ]
  },
  {
   "cell_type": "markdown",
   "metadata": {},
   "source": [
    "* Line 1 \n",
    "    - Determining the current time and date and returning only the date."
   ]
  },
  {
   "cell_type": "markdown",
   "metadata": {},
   "source": [
    "#### 5.2 Creating specific points in time using Pandas timestamp\n",
    "![alt text](images/Lession%2026/Creating%20specific%20points%20in%20time%20using%20Pandas%20timestamp.png)"
   ]
  },
  {
   "cell_type": "code",
   "execution_count": 22,
   "metadata": {},
   "outputs": [
    {
     "data": {
      "text/plain": [
       "Timestamp('2017-01-15 00:00:00')"
      ]
     },
     "execution_count": 22,
     "metadata": {},
     "output_type": "execute_result"
    }
   ],
   "source": [
    "pd.Timestamp('2017, 1, 15')"
   ]
  },
  {
   "cell_type": "markdown",
   "metadata": {},
   "source": [
    "* Line 1 \n",
    "    - Both the date and time can be set when creating the timestamp."
   ]
  },
  {
   "cell_type": "code",
   "execution_count": 24,
   "metadata": {},
   "outputs": [
    {
     "data": {
      "text/plain": [
       "Timestamp('2017-01-15 12:00:00')"
      ]
     },
     "execution_count": 24,
     "metadata": {},
     "output_type": "execute_result"
    }
   ],
   "source": [
    "pd.Timestamp('2017, 1,15, 12:00')"
   ]
  },
  {
   "cell_type": "markdown",
   "metadata": {},
   "source": [
    "* Line 1 \n",
    "    - Creating a timestamp with specified date and time ."
   ]
  },
  {
   "cell_type": "code",
   "execution_count": 25,
   "metadata": {},
   "outputs": [
    {
     "data": {
      "text/plain": [
       "Timestamp('2024-02-26 12:00:00')"
      ]
     },
     "execution_count": 25,
     "metadata": {},
     "output_type": "execute_result"
    }
   ],
   "source": [
    "pd.Timestamp('12:00')"
   ]
  },
  {
   "cell_type": "markdown",
   "metadata": {},
   "source": [
    "* Line 1 \n",
    "    - If only the time is specified, the default value is today's date ."
   ]
  },
  {
   "cell_type": "markdown",
   "metadata": {},
   "source": [
    "#### 5.3 Creating time intervals using Pandas Timedelta\n",
    "![alt text](images/Lession%2026/Creating%20time%20intervals%20using%20Pandas%20Timedelta.png)\n",
    "![alt text](images/Lession%2026/Creating%20time%20intervals%20using%20Pandas%20Timedelta%201.png)"
   ]
  },
  {
   "cell_type": "code",
   "execution_count": 30,
   "metadata": {},
   "outputs": [
    {
     "name": "stdout",
     "output_type": "stream",
     "text": [
      "8033 days, 10:34:09.128795\n"
     ]
    }
   ],
   "source": [
    "import pandas as pd \n",
    "import datetime \n",
    "from datetime import datetime\n",
    "\n",
    "my_birth = datetime(2002, 3, 1)\n",
    "today = datetime.today()\n",
    "tomorrow = today + pd.Timedelta(days=1)\n",
    "print(tomorrow - my_birth)"
   ]
  },
  {
   "cell_type": "markdown",
   "metadata": {},
   "source": [
    "* Line 5,6,7,9\n",
    "  - 5 : Creat a specific date wit datetime.\n",
    "  - 6 : creat today's date.\n",
    "  - 7 : Calculate the day plus one day using timedelta.\n",
    "  - 9 : How long is tomorrow from my birthday?"
   ]
  },
  {
   "cell_type": "code",
   "execution_count": 32,
   "metadata": {},
   "outputs": [
    {
     "data": {
      "text/plain": [
       "datetime.timedelta(days=-8033, seconds=48350, microseconds=871205)"
      ]
     },
     "execution_count": 32,
     "metadata": {},
     "output_type": "execute_result"
    }
   ],
   "source": [
    "my_birth - today"
   ]
  },
  {
   "cell_type": "markdown",
   "metadata": {},
   "source": [
    "* Line 1\n",
    "  - 1: When calculating the number of days between two dates, date is returned in timedelta format."
   ]
  },
  {
   "cell_type": "code",
   "execution_count": null,
   "metadata": {},
   "outputs": [],
   "source": [
    "today = datetime.today()\n",
    "data = today + pd.Timed"
   ]
  },
  {
   "cell_type": "markdown",
   "metadata": {},
   "source": [
    "#### 5.4 Represt a period with Period\n",
    "![alt text](images/Lession%2026/Represt%20a%20period%20with%20Period.png)\n",
    "![alt text](images/Lession%2026/Represt%20a%20period%20with%20Period%201.png)"
   ]
  },
  {
   "cell_type": "markdown",
   "metadata": {},
   "source": [
    "* If we want to create a period representing one month starting from july 1973, we can do it as follows."
   ]
  },
  {
   "cell_type": "code",
   "execution_count": 34,
   "metadata": {},
   "outputs": [
    {
     "data": {
      "text/plain": [
       "Period('1973-07', 'M')"
      ]
     },
     "execution_count": 34,
     "metadata": {},
     "output_type": "execute_result"
    }
   ],
   "source": [
    "import pandas as pd\n",
    "special_day = pd.Period('1973-7',freq = 'M')\n",
    "special_day"
   ]
  },
  {
   "cell_type": "markdown",
   "metadata": {},
   "source": [
    "![alt text](images/Lession%2026/Represt%20a%20period%20with%20Period%202.png)"
   ]
  },
  {
   "cell_type": "code",
   "execution_count": 35,
   "metadata": {},
   "outputs": [
    {
     "data": {
      "text/plain": [
       "Timestamp('1973-07-31 23:59:59.999999999')"
      ]
     },
     "execution_count": 35,
     "metadata": {},
     "output_type": "execute_result"
    }
   ],
   "source": [
    "special_day.end_time"
   ]
  },
  {
   "cell_type": "markdown",
   "metadata": {},
   "source": [
    "* Line 1\n",
    "  - 1: Return the end time of te specific point in time."
   ]
  },
  {
   "cell_type": "markdown",
   "metadata": {},
   "source": [
    "* 'Period' can be shifted using simple arithmetic operations .\n",
    "* It can be shifted by the frequency to create a new period object.\n",
    "* The following examle demonstrates shifting the frequency of 'special_day' by two months"
   ]
  },
  {
   "cell_type": "code",
   "execution_count": 36,
   "metadata": {},
   "outputs": [
    {
     "name": "stdout",
     "output_type": "stream",
     "text": [
      "1973-07\n",
      "1973-09\n"
     ]
    }
   ],
   "source": [
    "n = special_day + 2\n",
    "\n",
    "print(special_day)\n",
    "print(n)"
   ]
  },
  {
   "cell_type": "code",
   "execution_count": 37,
   "metadata": {},
   "outputs": [
    {
     "data": {
      "text/plain": [
       "(Timestamp('1973-09-01 00:00:00'), Timestamp('1973-09-30 23:59:59.999999999'))"
      ]
     },
     "execution_count": 37,
     "metadata": {},
     "output_type": "execute_result"
    }
   ],
   "source": [
    "n.start_time, n.end_time"
   ]
  },
  {
   "cell_type": "markdown",
   "metadata": {},
   "source": [
    "* Line 1\n",
    "  - 1: The result shown that pandas correctly identifiees the entire dates of September 1973(which has 30 days)."
   ]
  },
  {
   "cell_type": "markdown",
   "metadata": {},
   "source": [
    "### 6.Indexubg and basic usage of time series data \n",
    "#### 6.1 Converting other data types to Timestamp and indexing \n",
    "![alt text](images/Lession%2026/Converting%20other%20data%20types%20to%20Timestamp%20and%20indexing.png)\n",
    "![alt text](images/Lession%2026/Converting%20other%20data%20types%20to%20Timestamp%20and%201%20indexing.png)"
   ]
  },
  {
   "cell_type": "code",
   "execution_count": 43,
   "metadata": {},
   "outputs": [
    {
     "data": {
      "text/html": [
       "<div>\n",
       "<style scoped>\n",
       "    .dataframe tbody tr th:only-of-type {\n",
       "        vertical-align: middle;\n",
       "    }\n",
       "\n",
       "    .dataframe tbody tr th {\n",
       "        vertical-align: top;\n",
       "    }\n",
       "\n",
       "    .dataframe thead th {\n",
       "        text-align: right;\n",
       "    }\n",
       "</style>\n",
       "<table border=\"1\" class=\"dataframe\">\n",
       "  <thead>\n",
       "    <tr style=\"text-align: right;\">\n",
       "      <th></th>\n",
       "      <th>DATE</th>\n",
       "      <th>DCOILWTICO</th>\n",
       "    </tr>\n",
       "  </thead>\n",
       "  <tbody>\n",
       "    <tr>\n",
       "      <th>0</th>\n",
       "      <td>1986-01-02</td>\n",
       "      <td>25.56</td>\n",
       "    </tr>\n",
       "    <tr>\n",
       "      <th>1</th>\n",
       "      <td>1986-01-03</td>\n",
       "      <td>26.00</td>\n",
       "    </tr>\n",
       "    <tr>\n",
       "      <th>2</th>\n",
       "      <td>1986-01-06</td>\n",
       "      <td>26.53</td>\n",
       "    </tr>\n",
       "    <tr>\n",
       "      <th>3</th>\n",
       "      <td>1986-01-07</td>\n",
       "      <td>25.85</td>\n",
       "    </tr>\n",
       "    <tr>\n",
       "      <th>4</th>\n",
       "      <td>1986-01-08</td>\n",
       "      <td>25.87</td>\n",
       "    </tr>\n",
       "  </tbody>\n",
       "</table>\n",
       "</div>"
      ],
      "text/plain": [
       "         DATE DCOILWTICO\n",
       "0  1986-01-02      25.56\n",
       "1  1986-01-03      26.00\n",
       "2  1986-01-06      26.53\n",
       "3  1986-01-07      25.85\n",
       "4  1986-01-08      25.87"
      ]
     },
     "execution_count": 43,
     "metadata": {},
     "output_type": "execute_result"
    }
   ],
   "source": [
    "import pandas as pd \n",
    "wti = pd.read_csv(\"Data/DCOILWTICO.csv\")\n",
    "wti.head()"
   ]
  },
  {
   "cell_type": "markdown",
   "metadata": {},
   "source": [
    "* It can be observed that the DATE column's data type is currently object/"
   ]
  },
  {
   "cell_type": "code",
   "execution_count": 44,
   "metadata": {},
   "outputs": [
    {
     "name": "stdout",
     "output_type": "stream",
     "text": [
      "<class 'pandas.core.frame.DataFrame'>\n",
      "RangeIndex: 9373 entries, 0 to 9372\n",
      "Data columns (total 2 columns):\n",
      " #   Column      Non-Null Count  Dtype \n",
      "---  ------      --------------  ----- \n",
      " 0   DATE        9373 non-null   object\n",
      " 1   DCOILWTICO  9373 non-null   object\n",
      "dtypes: object(2)\n",
      "memory usage: 146.6+ KB\n"
     ]
    }
   ],
   "source": [
    "wti.info()"
   ]
  },
  {
   "cell_type": "code",
   "execution_count": 45,
   "metadata": {},
   "outputs": [
    {
     "data": {
      "text/plain": [
       "0      1986-01-02\n",
       "1      1986-01-03\n",
       "2      1986-01-06\n",
       "3      1986-01-07\n",
       "4      1986-01-08\n",
       "          ...    \n",
       "9368   2021-11-30\n",
       "9369   2021-12-01\n",
       "9370   2021-12-02\n",
       "9371   2021-12-03\n",
       "9372   2021-12-06\n",
       "Name: N_DATE, Length: 9373, dtype: datetime64[ns]"
      ]
     },
     "execution_count": 45,
     "metadata": {},
     "output_type": "execute_result"
    }
   ],
   "source": [
    "wti['N_DATE'] = pd.to_datetime(wti['DATE'])\n",
    "wti['N_DATE']"
   ]
  },
  {
   "cell_type": "markdown",
   "metadata": {},
   "source": [
    "* Line 2\n",
    "  - The data type is change to datetime64 "
   ]
  },
  {
   "cell_type": "markdown",
   "metadata": {},
   "source": [
    "![alt text](images/Lession%2026/TIP.png)"
   ]
  },
  {
   "cell_type": "code",
   "execution_count": 47,
   "metadata": {},
   "outputs": [
    {
     "data": {
      "text/html": [
       "<div>\n",
       "<style scoped>\n",
       "    .dataframe tbody tr th:only-of-type {\n",
       "        vertical-align: middle;\n",
       "    }\n",
       "\n",
       "    .dataframe tbody tr th {\n",
       "        vertical-align: top;\n",
       "    }\n",
       "\n",
       "    .dataframe thead th {\n",
       "        text-align: right;\n",
       "    }\n",
       "</style>\n",
       "<table border=\"1\" class=\"dataframe\">\n",
       "  <thead>\n",
       "    <tr style=\"text-align: right;\">\n",
       "      <th></th>\n",
       "      <th>DCOILWTICO</th>\n",
       "      <th>N_DATE</th>\n",
       "    </tr>\n",
       "  </thead>\n",
       "  <tbody>\n",
       "    <tr>\n",
       "      <th>0</th>\n",
       "      <td>25.56</td>\n",
       "      <td>1986-01-02</td>\n",
       "    </tr>\n",
       "    <tr>\n",
       "      <th>1</th>\n",
       "      <td>26.00</td>\n",
       "      <td>1986-01-03</td>\n",
       "    </tr>\n",
       "    <tr>\n",
       "      <th>2</th>\n",
       "      <td>26.53</td>\n",
       "      <td>1986-01-06</td>\n",
       "    </tr>\n",
       "    <tr>\n",
       "      <th>3</th>\n",
       "      <td>25.85</td>\n",
       "      <td>1986-01-07</td>\n",
       "    </tr>\n",
       "    <tr>\n",
       "      <th>4</th>\n",
       "      <td>25.87</td>\n",
       "      <td>1986-01-08</td>\n",
       "    </tr>\n",
       "  </tbody>\n",
       "</table>\n",
       "</div>"
      ],
      "text/plain": [
       "  DCOILWTICO     N_DATE\n",
       "0      25.56 1986-01-02\n",
       "1      26.00 1986-01-03\n",
       "2      26.53 1986-01-06\n",
       "3      25.85 1986-01-07\n",
       "4      25.87 1986-01-08"
      ]
     },
     "execution_count": 47,
     "metadata": {},
     "output_type": "execute_result"
    }
   ],
   "source": [
    "df = wti.drop(['DATE'],axis = 1)\n",
    "df.head()"
   ]
  },
  {
   "cell_type": "markdown",
   "metadata": {},
   "source": [
    "* Line 1\n",
    "  - Delete the DATE column that was the existing object data type. "
   ]
  },
  {
   "cell_type": "code",
   "execution_count": 51,
   "metadata": {},
   "outputs": [
    {
     "data": {
      "text/html": [
       "<div>\n",
       "<style scoped>\n",
       "    .dataframe tbody tr th:only-of-type {\n",
       "        vertical-align: middle;\n",
       "    }\n",
       "\n",
       "    .dataframe tbody tr th {\n",
       "        vertical-align: top;\n",
       "    }\n",
       "\n",
       "    .dataframe thead th {\n",
       "        text-align: right;\n",
       "    }\n",
       "</style>\n",
       "<table border=\"1\" class=\"dataframe\">\n",
       "  <thead>\n",
       "    <tr style=\"text-align: right;\">\n",
       "      <th></th>\n",
       "      <th>DCOILWTICO</th>\n",
       "    </tr>\n",
       "    <tr>\n",
       "      <th>N_DATE</th>\n",
       "      <th></th>\n",
       "    </tr>\n",
       "  </thead>\n",
       "  <tbody>\n",
       "    <tr>\n",
       "      <th>1986-01-02</th>\n",
       "      <td>25.56</td>\n",
       "    </tr>\n",
       "    <tr>\n",
       "      <th>1986-01-03</th>\n",
       "      <td>26.00</td>\n",
       "    </tr>\n",
       "    <tr>\n",
       "      <th>1986-01-06</th>\n",
       "      <td>26.53</td>\n",
       "    </tr>\n",
       "    <tr>\n",
       "      <th>1986-01-07</th>\n",
       "      <td>25.85</td>\n",
       "    </tr>\n",
       "    <tr>\n",
       "      <th>1986-01-08</th>\n",
       "      <td>25.87</td>\n",
       "    </tr>\n",
       "  </tbody>\n",
       "</table>\n",
       "</div>"
      ],
      "text/plain": [
       "           DCOILWTICO\n",
       "N_DATE               \n",
       "1986-01-02      25.56\n",
       "1986-01-03      26.00\n",
       "1986-01-06      26.53\n",
       "1986-01-07      25.85\n",
       "1986-01-08      25.87"
      ]
     },
     "execution_count": 51,
     "metadata": {},
     "output_type": "execute_result"
    }
   ],
   "source": [
    "df.set_index('N_DATE', inplace=True)\n",
    "df.head()"
   ]
  },
  {
   "cell_type": "markdown",
   "metadata": {},
   "source": [
    "* Line 1\n",
    "  - Designate the newly created datetime64 colum as the index of the data frame."
   ]
  },
  {
   "cell_type": "markdown",
   "metadata": {},
   "source": [
    "* Now, this dataFarme is well-suited for indexing or slicing based on the chronological order of time "
   ]
  },
  {
   "cell_type": "code",
   "execution_count": 52,
   "metadata": {},
   "outputs": [
    {
     "name": "stdout",
     "output_type": "stream",
     "text": [
      "<class 'pandas.core.frame.DataFrame'>\n",
      "DatetimeIndex: 9373 entries, 1986-01-02 to 2021-12-06\n",
      "Data columns (total 1 columns):\n",
      " #   Column      Non-Null Count  Dtype \n",
      "---  ------      --------------  ----- \n",
      " 0   DCOILWTICO  9373 non-null   object\n",
      "dtypes: object(1)\n",
      "memory usage: 146.5+ KB\n"
     ]
    }
   ],
   "source": [
    "df.info()"
   ]
  },
  {
   "cell_type": "markdown",
   "metadata": {},
   "source": [
    "* Line 1\n",
    "  - This completes the data frame indexed by DatetimeIndex.\n",
    "#### 6.2 Slicing using DatetimeIndex"
   ]
  },
  {
   "cell_type": "code",
   "execution_count": 53,
   "metadata": {},
   "outputs": [
    {
     "data": {
      "text/html": [
       "<div>\n",
       "<style scoped>\n",
       "    .dataframe tbody tr th:only-of-type {\n",
       "        vertical-align: middle;\n",
       "    }\n",
       "\n",
       "    .dataframe tbody tr th {\n",
       "        vertical-align: top;\n",
       "    }\n",
       "\n",
       "    .dataframe thead th {\n",
       "        text-align: right;\n",
       "    }\n",
       "</style>\n",
       "<table border=\"1\" class=\"dataframe\">\n",
       "  <thead>\n",
       "    <tr style=\"text-align: right;\">\n",
       "      <th></th>\n",
       "      <th>DCOILWTICO</th>\n",
       "    </tr>\n",
       "    <tr>\n",
       "      <th>N_DATE</th>\n",
       "      <th></th>\n",
       "    </tr>\n",
       "  </thead>\n",
       "  <tbody>\n",
       "    <tr>\n",
       "      <th>2018-06-04</th>\n",
       "      <td>64.76</td>\n",
       "    </tr>\n",
       "    <tr>\n",
       "      <th>2018-06-05</th>\n",
       "      <td>65.51</td>\n",
       "    </tr>\n",
       "    <tr>\n",
       "      <th>2018-06-06</th>\n",
       "      <td>64.75</td>\n",
       "    </tr>\n",
       "    <tr>\n",
       "      <th>2018-06-07</th>\n",
       "      <td>65.96</td>\n",
       "    </tr>\n",
       "    <tr>\n",
       "      <th>2018-06-08</th>\n",
       "      <td>65.77</td>\n",
       "    </tr>\n",
       "  </tbody>\n",
       "</table>\n",
       "</div>"
      ],
      "text/plain": [
       "           DCOILWTICO\n",
       "N_DATE               \n",
       "2018-06-04      64.76\n",
       "2018-06-05      65.51\n",
       "2018-06-06      64.75\n",
       "2018-06-07      65.96\n",
       "2018-06-08      65.77"
      ]
     },
     "execution_count": 53,
     "metadata": {},
     "output_type": "execute_result"
    }
   ],
   "source": [
    "df['2018-06-04':'2018-06-10']"
   ]
  },
  {
   "cell_type": "markdown",
   "metadata": {},
   "source": [
    "* Line 1\n",
    "  - it is ver convenient to slice only the desired data by seecting specific dates."
   ]
  },
  {
   "cell_type": "markdown",
   "metadata": {},
   "source": [
    "### 7.Creating time series data\n",
    "#### 7.1 Generating time serise with a specific frequency using a Timestamp array \n",
    "![alt text](images/Lession%2026/Generating%20time%20serise%20with%20a%20specific%20frequency%20using%20a%20Timestamp%20array%20.png)\n",
    "![alt text](images/Lession%2026/Generating%20time%20serise%20with%20a%20specific%20frequency%20using%20a%20Timestamp%20array%202.png)\n",
    "![alt text](images/Lession%2026/Generating%20time%20serise%20with%20a%20specific%20frequency%20using%20a%20Timestamp%20array%202.1.png)\n",
    "![alt text](images/Lession%2026/Generating%20time%20serise%20with%20a%20specific%20frequency%20using%20a%20Timestamp%20array%203.png)"
   ]
  },
  {
   "cell_type": "markdown",
   "metadata": {},
   "source": [
    "* In the case of a native timezone without setting a timezone, count the number of genrated data."
   ]
  },
  {
   "cell_type": "code",
   "execution_count": 54,
   "metadata": {},
   "outputs": [
    {
     "data": {
      "text/plain": [
       "DatetimeIndex(['2021-01-01', '2021-01-02', '2021-01-03', '2021-01-04',\n",
       "               '2021-01-05'],\n",
       "              dtype='datetime64[ns]', freq='D')"
      ]
     },
     "execution_count": 54,
     "metadata": {},
     "output_type": "execute_result"
    }
   ],
   "source": [
    "import pandas as pd \n",
    "pd.date_range(start ='2021-01-01',end = None , periods = 5 , freq ='D', tz = None)"
   ]
  },
  {
   "cell_type": "markdown",
   "metadata": {},
   "source": [
    "* Since there are 5 periods, it means to create 5 Timestamps.\n",
    "* Line 2\n",
    "  - In case of a native timezone state where the timezone is not set, count the number of data created."
   ]
  },
  {
   "cell_type": "code",
   "execution_count": 57,
   "metadata": {
    "scrolled": true
   },
   "outputs": [
    {
     "data": {
      "text/plain": [
       "DatetimeIndex(['2021-01-01 00:00:00+09:00', '2021-04-02 00:00:00+09:00',\n",
       "               '2021-07-02 00:00:00+09:00', '2021-10-01 00:00:00+09:00',\n",
       "               '2021-12-31 00:00:00+09:00'],\n",
       "              dtype='datetime64[ns, Asia/Seoul]', freq=None)"
      ]
     },
     "execution_count": 57,
     "metadata": {},
     "output_type": "execute_result"
    }
   ],
   "source": [
    "pd.date_range(start ='2021-01-01',end = '2021-12-31' , periods = 5 , freq = None, tz = \"Asia/Seoul\")"
   ]
  },
  {
   "cell_type": "markdown",
   "metadata": {},
   "source": [
    "\n",
    "* Line 1\n",
    "  - When the timezone is set to Seoul."
   ]
  },
  {
   "cell_type": "code",
   "execution_count": 58,
   "metadata": {},
   "outputs": [
    {
     "data": {
      "text/plain": [
       "DatetimeIndex(['2021-01-31', '2021-02-28', '2021-03-31', '2021-04-30',\n",
       "               '2021-05-31'],\n",
       "              dtype='datetime64[ns]', freq='M')"
      ]
     },
     "execution_count": 58,
     "metadata": {},
     "output_type": "execute_result"
    }
   ],
   "source": [
    "pd.date_range(start ='2021-01-01',end = None , periods = 5 , freq ='M', tz = None)"
   ]
  },
  {
   "cell_type": "markdown",
   "metadata": {},
   "source": [
    "\n",
    "* Line 1\n",
    "  - When the parameter is set to month end frequency."
   ]
  },
  {
   "cell_type": "code",
   "execution_count": 59,
   "metadata": {},
   "outputs": [
    {
     "data": {
      "text/plain": [
       "DatetimeIndex([       '2021-01-01 00:00:00', '2021-01-01 00:00:00.001000',\n",
       "               '2021-01-01 00:00:00.002000', '2021-01-01 00:00:00.003000',\n",
       "               '2021-01-01 00:00:00.004000'],\n",
       "              dtype='datetime64[ns]', freq='L')"
      ]
     },
     "execution_count": 59,
     "metadata": {},
     "output_type": "execute_result"
    }
   ],
   "source": [
    "pd.date_range(start ='2021-01-01',end = None , periods = 5 , freq ='Ms', tz = None)"
   ]
  },
  {
   "cell_type": "markdown",
   "metadata": {},
   "source": [
    "\n",
    "* Line 1\n",
    "  - When the parameter is set to month start frequency."
   ]
  },
  {
   "cell_type": "markdown",
   "metadata": {},
   "source": [
    "#### 7.2 Generating time series with a specific frequnency using a period array \n",
    "![alt text](images/Lession%2026/Generating%20time%20series%20with%20a%20specific%20frequnency%20using%20a%20period%20array%20.png)"
   ]
  },
  {
   "cell_type": "code",
   "execution_count": 61,
   "metadata": {},
   "outputs": [
    {
     "data": {
      "text/plain": [
       "PeriodIndex(['2020-01', '2020-02', '2020-03', '2020-04', '2020-05', '2020-06',\n",
       "             '2020-07', '2020-08', '2020-09', '2020-10', '2020-11', '2020-12'],\n",
       "            dtype='period[M]')"
      ]
     },
     "execution_count": 61,
     "metadata": {},
     "output_type": "execute_result"
    }
   ],
   "source": [
    "import pandas as pd \n",
    "\n",
    "p_data = pd.period_range(start ='2020-1-1',\n",
    "                        end = '2020-12-31',\n",
    "                        periods = None,\n",
    "                        freq = 'M')\n",
    "\n",
    "p_data"
   ]
  },
  {
   "cell_type": "markdown",
   "metadata": {},
   "source": [
    "\n",
    "* Line 3,4,5,6\n",
    "  - 3: start of the date range.\n",
    "  - 4: end of the date range.\n",
    "  - 5: Length of the periods\n",
    "  - 6: Frequency unit to generate"
   ]
  },
  {
   "cell_type": "code",
   "execution_count": 62,
   "metadata": {},
   "outputs": [
    {
     "name": "stdout",
     "output_type": "stream",
     "text": [
      "2020-01-01 00:00:00,2020-01-31 23:59:59.999999999\n",
      "2020-02-01 00:00:00,2020-02-29 23:59:59.999999999\n",
      "2020-03-01 00:00:00,2020-03-31 23:59:59.999999999\n",
      "2020-04-01 00:00:00,2020-04-30 23:59:59.999999999\n",
      "2020-05-01 00:00:00,2020-05-31 23:59:59.999999999\n",
      "2020-06-01 00:00:00,2020-06-30 23:59:59.999999999\n",
      "2020-07-01 00:00:00,2020-07-31 23:59:59.999999999\n",
      "2020-08-01 00:00:00,2020-08-31 23:59:59.999999999\n",
      "2020-09-01 00:00:00,2020-09-30 23:59:59.999999999\n",
      "2020-10-01 00:00:00,2020-10-31 23:59:59.999999999\n",
      "2020-11-01 00:00:00,2020-11-30 23:59:59.999999999\n",
      "2020-12-01 00:00:00,2020-12-31 23:59:59.999999999\n"
     ]
    }
   ],
   "source": [
    "for i in p_data:\n",
    "    print(\"{0},{1}\".format(i.start_time , i.end_time))"
   ]
  },
  {
   "cell_type": "markdown",
   "metadata": {},
   "source": [
    "\n",
    "* Line 2\n",
    "  - 2: Let's examine the data closely.It automaticaly generates the starting and ending dates for each month."
   ]
  },
  {
   "cell_type": "markdown",
   "metadata": {},
   "source": [
    "### 8.Rolling window calculations\n",
    "![alt text](images/Lession%2026/Rolling%20window%20calculations.png)\n",
    "![alt text](images/Lession%2026/Rolling%20window%20calculations%201.png)\n",
    "![alt text](images/Lession%2026/Rolling%20.png)\n",
    "![alt text](images/Lession%2026/install%20yfin.png)"
   ]
  },
  {
   "cell_type": "markdown",
   "metadata": {},
   "source": [
    "* After the installation is complete, you can use the 'download' function of 'yfinance' to access stock data."
   ]
  },
  {
   "cell_type": "code",
   "execution_count": 66,
   "metadata": {},
   "outputs": [
    {
     "name": "stderr",
     "output_type": "stream",
     "text": [
      "[*********************100%%**********************]  1 of 1 completed\n"
     ]
    },
    {
     "data": {
      "text/html": [
       "<div>\n",
       "<style scoped>\n",
       "    .dataframe tbody tr th:only-of-type {\n",
       "        vertical-align: middle;\n",
       "    }\n",
       "\n",
       "    .dataframe tbody tr th {\n",
       "        vertical-align: top;\n",
       "    }\n",
       "\n",
       "    .dataframe thead th {\n",
       "        text-align: right;\n",
       "    }\n",
       "</style>\n",
       "<table border=\"1\" class=\"dataframe\">\n",
       "  <thead>\n",
       "    <tr style=\"text-align: right;\">\n",
       "      <th></th>\n",
       "      <th>Open</th>\n",
       "      <th>High</th>\n",
       "      <th>Low</th>\n",
       "      <th>Close</th>\n",
       "      <th>Adj Close</th>\n",
       "      <th>Volume</th>\n",
       "    </tr>\n",
       "    <tr>\n",
       "      <th>Date</th>\n",
       "      <th></th>\n",
       "      <th></th>\n",
       "      <th></th>\n",
       "      <th></th>\n",
       "      <th></th>\n",
       "      <th></th>\n",
       "    </tr>\n",
       "  </thead>\n",
       "  <tbody>\n",
       "    <tr>\n",
       "      <th>2020-01-02</th>\n",
       "      <td>55500.0</td>\n",
       "      <td>56000.0</td>\n",
       "      <td>55000.0</td>\n",
       "      <td>55200.0</td>\n",
       "      <td>49542.542969</td>\n",
       "      <td>12993228</td>\n",
       "    </tr>\n",
       "    <tr>\n",
       "      <th>2020-01-03</th>\n",
       "      <td>56000.0</td>\n",
       "      <td>56600.0</td>\n",
       "      <td>54900.0</td>\n",
       "      <td>55500.0</td>\n",
       "      <td>49811.792969</td>\n",
       "      <td>15422255</td>\n",
       "    </tr>\n",
       "    <tr>\n",
       "      <th>2020-01-06</th>\n",
       "      <td>54900.0</td>\n",
       "      <td>55600.0</td>\n",
       "      <td>54600.0</td>\n",
       "      <td>55500.0</td>\n",
       "      <td>49811.792969</td>\n",
       "      <td>10278951</td>\n",
       "    </tr>\n",
       "    <tr>\n",
       "      <th>2020-01-07</th>\n",
       "      <td>55700.0</td>\n",
       "      <td>56400.0</td>\n",
       "      <td>55600.0</td>\n",
       "      <td>55800.0</td>\n",
       "      <td>50081.050781</td>\n",
       "      <td>10009778</td>\n",
       "    </tr>\n",
       "    <tr>\n",
       "      <th>2020-01-08</th>\n",
       "      <td>56200.0</td>\n",
       "      <td>57400.0</td>\n",
       "      <td>55900.0</td>\n",
       "      <td>56800.0</td>\n",
       "      <td>50978.550781</td>\n",
       "      <td>23501171</td>\n",
       "    </tr>\n",
       "    <tr>\n",
       "      <th>...</th>\n",
       "      <td>...</td>\n",
       "      <td>...</td>\n",
       "      <td>...</td>\n",
       "      <td>...</td>\n",
       "      <td>...</td>\n",
       "      <td>...</td>\n",
       "    </tr>\n",
       "    <tr>\n",
       "      <th>2020-12-23</th>\n",
       "      <td>72400.0</td>\n",
       "      <td>74000.0</td>\n",
       "      <td>72300.0</td>\n",
       "      <td>73900.0</td>\n",
       "      <td>67676.171875</td>\n",
       "      <td>19411326</td>\n",
       "    </tr>\n",
       "    <tr>\n",
       "      <th>2020-12-24</th>\n",
       "      <td>74100.0</td>\n",
       "      <td>78800.0</td>\n",
       "      <td>74000.0</td>\n",
       "      <td>77800.0</td>\n",
       "      <td>71247.726562</td>\n",
       "      <td>32502870</td>\n",
       "    </tr>\n",
       "    <tr>\n",
       "      <th>2020-12-28</th>\n",
       "      <td>79000.0</td>\n",
       "      <td>80100.0</td>\n",
       "      <td>78200.0</td>\n",
       "      <td>78700.0</td>\n",
       "      <td>72071.945312</td>\n",
       "      <td>40085044</td>\n",
       "    </tr>\n",
       "    <tr>\n",
       "      <th>2020-12-29</th>\n",
       "      <td>78800.0</td>\n",
       "      <td>78900.0</td>\n",
       "      <td>77300.0</td>\n",
       "      <td>78300.0</td>\n",
       "      <td>73510.195312</td>\n",
       "      <td>30339449</td>\n",
       "    </tr>\n",
       "    <tr>\n",
       "      <th>2020-12-30</th>\n",
       "      <td>77400.0</td>\n",
       "      <td>81300.0</td>\n",
       "      <td>77300.0</td>\n",
       "      <td>81000.0</td>\n",
       "      <td>76045.039062</td>\n",
       "      <td>29417421</td>\n",
       "    </tr>\n",
       "  </tbody>\n",
       "</table>\n",
       "<p>248 rows × 6 columns</p>\n",
       "</div>"
      ],
      "text/plain": [
       "               Open     High      Low    Close     Adj Close    Volume\n",
       "Date                                                                  \n",
       "2020-01-02  55500.0  56000.0  55000.0  55200.0  49542.542969  12993228\n",
       "2020-01-03  56000.0  56600.0  54900.0  55500.0  49811.792969  15422255\n",
       "2020-01-06  54900.0  55600.0  54600.0  55500.0  49811.792969  10278951\n",
       "2020-01-07  55700.0  56400.0  55600.0  55800.0  50081.050781  10009778\n",
       "2020-01-08  56200.0  57400.0  55900.0  56800.0  50978.550781  23501171\n",
       "...             ...      ...      ...      ...           ...       ...\n",
       "2020-12-23  72400.0  74000.0  72300.0  73900.0  67676.171875  19411326\n",
       "2020-12-24  74100.0  78800.0  74000.0  77800.0  71247.726562  32502870\n",
       "2020-12-28  79000.0  80100.0  78200.0  78700.0  72071.945312  40085044\n",
       "2020-12-29  78800.0  78900.0  77300.0  78300.0  73510.195312  30339449\n",
       "2020-12-30  77400.0  81300.0  77300.0  81000.0  76045.039062  29417421\n",
       "\n",
       "[248 rows x 6 columns]"
      ]
     },
     "execution_count": 66,
     "metadata": {},
     "output_type": "execute_result"
    }
   ],
   "source": [
    "import yfinance as yf\n",
    "\n",
    "symbol = '005930.KS' # Stock code, Samsung Electronic\n",
    "start = '2020-01-01' \n",
    "end ='2020-12-31'\n",
    "\n",
    "sce = yf.download(symbol, start = start, end = end) # The start data is set usingthe timestamp store in the variable 'start',and the end data is set using the timestamp store in valriable 'end'\n",
    "sce"
   ]
  },
  {
   "cell_type": "code",
   "execution_count": 67,
   "metadata": {},
   "outputs": [
    {
     "name": "stdout",
     "output_type": "stream",
     "text": [
      "<class 'pandas.core.frame.DataFrame'>\n",
      "DatetimeIndex: 248 entries, 2020-01-02 to 2020-12-30\n",
      "Data columns (total 6 columns):\n",
      " #   Column     Non-Null Count  Dtype  \n",
      "---  ------     --------------  -----  \n",
      " 0   Open       248 non-null    float64\n",
      " 1   High       248 non-null    float64\n",
      " 2   Low        248 non-null    float64\n",
      " 3   Close      248 non-null    float64\n",
      " 4   Adj Close  248 non-null    float64\n",
      " 5   Volume     248 non-null    int64  \n",
      "dtypes: float64(5), int64(1)\n",
      "memory usage: 13.6 KB\n"
     ]
    }
   ],
   "source": [
    "sce.info()"
   ]
  },
  {
   "cell_type": "code",
   "execution_count": 68,
   "metadata": {},
   "outputs": [
    {
     "data": {
      "text/plain": [
       "Date\n",
       "2020-01-02             NaN\n",
       "2020-01-03             NaN\n",
       "2020-01-06             NaN\n",
       "2020-01-07             NaN\n",
       "2020-01-08    50045.146094\n",
       "2020-01-09    50655.452344\n",
       "2020-01-10    51373.459375\n",
       "2020-01-13    52181.217969\n",
       "2020-01-14    52935.125000\n",
       "2020-01-15    53330.028906\n",
       "Name: Adj Close, dtype: float64"
      ]
     },
     "execution_count": 68,
     "metadata": {},
     "output_type": "execute_result"
    }
   ],
   "source": [
    "ma5 = sce['Adj Close'].rolling(window = 5).mean()\n",
    "ma5.head(10)"
   ]
  },
  {
   "cell_type": "markdown",
   "metadata": {},
   "source": [
    "* Line 1\n",
    "    - The data forr a 5-day moving average can be easily calculated."
   ]
  },
  {
   "cell_type": "markdown",
   "metadata": {},
   "source": [
    "* Let's visualize each moving average data."
   ]
  },
  {
   "cell_type": "code",
   "execution_count": 69,
   "metadata": {},
   "outputs": [
    {
     "data": {
      "text/plain": [
       "Text(0, 0.5, 'close price')"
      ]
     },
     "execution_count": 69,
     "metadata": {},
     "output_type": "execute_result"
    },
    {
     "data": {
      "image/png": "[encoded data removed]",
      "text/plain": [
       "<Figure size 1500x1000 with 1 Axes>"
      ]
     },
     "metadata": {},
     "output_type": "display_data"
    }
   ],
   "source": [
    "import matplotlib.pyplot as plt \n",
    "\n",
    "close = sce['Adj Close']\n",
    "\n",
    "ma5 =close.rolling(window = 5).mean()\n",
    "ma10 =close.rolling(window = 10).mean()\n",
    "ma60 =close.rolling(window = 60).mean()\n",
    "ma120 =close.rolling(window = 120).mean()\n",
    "\n",
    "plt.figure(figsize=(15,10))\n",
    "\n",
    "plt.plot(close, label ='close', linewidth = 4)\n",
    "plt.plot(ma5, label =' 5 window')\n",
    "plt.plot(ma10, label =' 10 window')\n",
    "plt.plot(ma60, label =' 60 window')\n",
    "plt.plot(ma120, label =' 120 window')\n",
    "\n",
    "plt.legend()\n",
    "plt.title('Rolling window calculations')\n",
    "plt.xlabel('Date')\n",
    "plt.ylabel('close price')"
   ]
  },
  {
   "cell_type": "markdown",
   "metadata": {},
   "source": [
    "* Line 1 ,3, 4, 5,6,8,10,11,12,13,4\n",
    "    - 1: Separate th closing prices to compare with moving averages.\n",
    "    - 3: Average over Windows 5 days\n",
    "    - 4: Average over Windows 10 days\n",
    "    - 5: Average over Windows 60 days\n",
    "    - 6: Average over Windows 120 days\n",
    "    - 8: Set the size of the chart\n",
    "    - 10 : Express the closing price data as a line graph and name close. Since it is the reference data, it is expressed a litter thicker.\n",
    "    - 11 : Express the closing price data as a line graph and name the label 5 windows\n",
    "    - 12 : Express the closing price data as a line graph and name the label 10 windows\n",
    "    - 13 : Express the closing price data as a line graph and name the label 60 windows\n",
    "    - 14 : Express the closing price data as a line graph and name the label 120 windows"
   ]
  },
  {
   "cell_type": "markdown",
   "metadata": {},
   "source": [
    "## Let's code \n",
    "![alt text](images/Lession%2026/Mssion%201.png)\n",
    "![alt text](images/Lession%2026/Mssion%202.png)"
   ]
  },
  {
   "cell_type": "markdown",
   "metadata": {},
   "source": [
    "##### Step 1\n",
    "* Data acquistion and data frame transformation"
   ]
  },
  {
   "cell_type": "code",
   "execution_count": 119,
   "metadata": {},
   "outputs": [
    {
     "data": {
      "text/html": [
       "<div>\n",
       "<style scoped>\n",
       "    .dataframe tbody tr th:only-of-type {\n",
       "        vertical-align: middle;\n",
       "    }\n",
       "\n",
       "    .dataframe tbody tr th {\n",
       "        vertical-align: top;\n",
       "    }\n",
       "\n",
       "    .dataframe thead th {\n",
       "        text-align: right;\n",
       "    }\n",
       "</style>\n",
       "<table border=\"1\" class=\"dataframe\">\n",
       "  <thead>\n",
       "    <tr style=\"text-align: right;\">\n",
       "      <th></th>\n",
       "      <th>Entity</th>\n",
       "      <th>Code</th>\n",
       "      <th>Year</th>\n",
       "      <th>Aquaculture production (metric tons)</th>\n",
       "      <th>Capture fisheries production (metric tons)</th>\n",
       "    </tr>\n",
       "  </thead>\n",
       "  <tbody>\n",
       "    <tr>\n",
       "      <th>0</th>\n",
       "      <td>Afghanistan</td>\n",
       "      <td>AFG</td>\n",
       "      <td>1969</td>\n",
       "      <td>60.0</td>\n",
       "      <td>400.0</td>\n",
       "    </tr>\n",
       "    <tr>\n",
       "      <th>1</th>\n",
       "      <td>Afghanistan</td>\n",
       "      <td>AFG</td>\n",
       "      <td>1970</td>\n",
       "      <td>60.0</td>\n",
       "      <td>400.0</td>\n",
       "    </tr>\n",
       "    <tr>\n",
       "      <th>2</th>\n",
       "      <td>Afghanistan</td>\n",
       "      <td>AFG</td>\n",
       "      <td>1971</td>\n",
       "      <td>60.0</td>\n",
       "      <td>500.0</td>\n",
       "    </tr>\n",
       "    <tr>\n",
       "      <th>3</th>\n",
       "      <td>Afghanistan</td>\n",
       "      <td>AFG</td>\n",
       "      <td>1972</td>\n",
       "      <td>60.0</td>\n",
       "      <td>500.0</td>\n",
       "    </tr>\n",
       "    <tr>\n",
       "      <th>4</th>\n",
       "      <td>Afghanistan</td>\n",
       "      <td>AFG</td>\n",
       "      <td>1973</td>\n",
       "      <td>60.0</td>\n",
       "      <td>500.0</td>\n",
       "    </tr>\n",
       "  </tbody>\n",
       "</table>\n",
       "</div>"
      ],
      "text/plain": [
       "        Entity Code  Year  Aquaculture production (metric tons)  \\\n",
       "0  Afghanistan  AFG  1969                                  60.0   \n",
       "1  Afghanistan  AFG  1970                                  60.0   \n",
       "2  Afghanistan  AFG  1971                                  60.0   \n",
       "3  Afghanistan  AFG  1972                                  60.0   \n",
       "4  Afghanistan  AFG  1973                                  60.0   \n",
       "\n",
       "   Capture fisheries production (metric tons)  \n",
       "0                                       400.0  \n",
       "1                                       400.0  \n",
       "2                                       500.0  \n",
       "3                                       500.0  \n",
       "4                                       500.0  "
      ]
     },
     "execution_count": 119,
     "metadata": {},
     "output_type": "execute_result"
    }
   ],
   "source": [
    "import pandas as pd \n",
    "import numpy as np\n",
    "import datetime\n",
    "import matplotlib.pyplot as plt\n",
    "\n",
    "from datetime import date, datetime, time,timezone\n",
    "\n",
    "df = pd.read_csv(\"Data/capture-fisheries-vs-aquaculture.csv\")\n",
    "df.head()"
   ]
  },
  {
   "cell_type": "code",
   "execution_count": 120,
   "metadata": {},
   "outputs": [
    {
     "name": "stdout",
     "output_type": "stream",
     "text": [
      "<class 'pandas.core.frame.DataFrame'>\n",
      "RangeIndex: 12727 entries, 0 to 12726\n",
      "Data columns (total 5 columns):\n",
      " #   Column                                      Non-Null Count  Dtype  \n",
      "---  ------                                      --------------  -----  \n",
      " 0   Entity                                      12727 non-null  object \n",
      " 1   Code                                        11901 non-null  object \n",
      " 2   Year                                        12727 non-null  int64  \n",
      " 3   Aquaculture production (metric tons)        9710 non-null   float64\n",
      " 4   Capture fisheries production (metric tons)  12569 non-null  float64\n",
      "dtypes: float64(2), int64(1), object(2)\n",
      "memory usage: 497.3+ KB\n"
     ]
    }
   ],
   "source": [
    "df.info()"
   ]
  },
  {
   "cell_type": "markdown",
   "metadata": {},
   "source": [
    "* Line 1\n",
    "     - Let's check the data type of each column of the data frame."
   ]
  },
  {
   "cell_type": "markdown",
   "metadata": {},
   "source": [
    "##### Step 2\n",
    "* Preprocessing including data cleaning"
   ]
  },
  {
   "cell_type": "code",
   "execution_count": 121,
   "metadata": {},
   "outputs": [
    {
     "data": {
      "text/html": [
       "<div>\n",
       "<style scoped>\n",
       "    .dataframe tbody tr th:only-of-type {\n",
       "        vertical-align: middle;\n",
       "    }\n",
       "\n",
       "    .dataframe tbody tr th {\n",
       "        vertical-align: top;\n",
       "    }\n",
       "\n",
       "    .dataframe thead th {\n",
       "        text-align: right;\n",
       "    }\n",
       "</style>\n",
       "<table border=\"1\" class=\"dataframe\">\n",
       "  <thead>\n",
       "    <tr style=\"text-align: right;\">\n",
       "      <th></th>\n",
       "      <th>Entity</th>\n",
       "      <th>Year</th>\n",
       "      <th>Aquaculture production (metric tons)</th>\n",
       "      <th>Capture fisheries production (metric tons)</th>\n",
       "    </tr>\n",
       "  </thead>\n",
       "  <tbody>\n",
       "    <tr>\n",
       "      <th>0</th>\n",
       "      <td>Afghanistan</td>\n",
       "      <td>1969</td>\n",
       "      <td>60.0</td>\n",
       "      <td>400.0</td>\n",
       "    </tr>\n",
       "    <tr>\n",
       "      <th>1</th>\n",
       "      <td>Afghanistan</td>\n",
       "      <td>1970</td>\n",
       "      <td>60.0</td>\n",
       "      <td>400.0</td>\n",
       "    </tr>\n",
       "    <tr>\n",
       "      <th>2</th>\n",
       "      <td>Afghanistan</td>\n",
       "      <td>1971</td>\n",
       "      <td>60.0</td>\n",
       "      <td>500.0</td>\n",
       "    </tr>\n",
       "    <tr>\n",
       "      <th>3</th>\n",
       "      <td>Afghanistan</td>\n",
       "      <td>1972</td>\n",
       "      <td>60.0</td>\n",
       "      <td>500.0</td>\n",
       "    </tr>\n",
       "    <tr>\n",
       "      <th>4</th>\n",
       "      <td>Afghanistan</td>\n",
       "      <td>1973</td>\n",
       "      <td>60.0</td>\n",
       "      <td>500.0</td>\n",
       "    </tr>\n",
       "  </tbody>\n",
       "</table>\n",
       "</div>"
      ],
      "text/plain": [
       "        Entity  Year  Aquaculture production (metric tons)  \\\n",
       "0  Afghanistan  1969                                  60.0   \n",
       "1  Afghanistan  1970                                  60.0   \n",
       "2  Afghanistan  1971                                  60.0   \n",
       "3  Afghanistan  1972                                  60.0   \n",
       "4  Afghanistan  1973                                  60.0   \n",
       "\n",
       "   Capture fisheries production (metric tons)  \n",
       "0                                       400.0  \n",
       "1                                       400.0  \n",
       "2                                       500.0  \n",
       "3                                       500.0  \n",
       "4                                       500.0  "
      ]
     },
     "execution_count": 121,
     "metadata": {},
     "output_type": "execute_result"
    }
   ],
   "source": [
    "df.drop(['Code'], axis = 1, inplace=True)\n",
    "df.head()"
   ]
  },
  {
   "cell_type": "markdown",
   "metadata": {},
   "source": [
    "* Line 1\n",
    "     - Delete unnecessary columns. Let's delete the code column inthe statistice we want to do because we don't need it"
   ]
  },
  {
   "cell_type": "code",
   "execution_count": 122,
   "metadata": {},
   "outputs": [
    {
     "data": {
      "text/plain": [
       "Entity                                           0\n",
       "Year                                             0\n",
       "Aquaculture production (metric tons)          3017\n",
       "Capture fisheries production (metric tons)     158\n",
       "dtype: int64"
      ]
     },
     "execution_count": 122,
     "metadata": {},
     "output_type": "execute_result"
    }
   ],
   "source": [
    "# Search NaN data. You can check number of missing data for each column.\n",
    "df.isnull().sum()"
   ]
  },
  {
   "cell_type": "code",
   "execution_count": 123,
   "metadata": {},
   "outputs": [
    {
     "data": {
      "text/plain": [
       "Entity                                        0\n",
       "Year                                          0\n",
       "Aquaculture production (metric tons)          0\n",
       "Capture fisheries production (metric tons)    0\n",
       "dtype: int64"
      ]
     },
     "execution_count": 123,
     "metadata": {},
     "output_type": "execute_result"
    }
   ],
   "source": [
    "change_value = 0\n",
    "df.fillna(change_value, inplace = True)\n",
    "df.isnull().sum()"
   ]
  },
  {
   "cell_type": "markdown",
   "metadata": {},
   "source": [
    "* Line 1,2,3 \n",
    "     - 1: Create a variable with data you want to replace\n",
    "     - 2: Replace NaN with 0 in order not to affect the sum statistic.\n",
    "     - 3: When the substitution result was confirmed, all NaN data were subtitued with 0 and there is currently no number of NaN.\n",
    " \n",
    "* Change to time seriesdata type and replace index "
   ]
  },
  {
   "cell_type": "code",
   "execution_count": 124,
   "metadata": {},
   "outputs": [
    {
     "data": {
      "text/html": [
       "<div>\n",
       "<style scoped>\n",
       "    .dataframe tbody tr th:only-of-type {\n",
       "        vertical-align: middle;\n",
       "    }\n",
       "\n",
       "    .dataframe tbody tr th {\n",
       "        vertical-align: top;\n",
       "    }\n",
       "\n",
       "    .dataframe thead th {\n",
       "        text-align: right;\n",
       "    }\n",
       "</style>\n",
       "<table border=\"1\" class=\"dataframe\">\n",
       "  <thead>\n",
       "    <tr style=\"text-align: right;\">\n",
       "      <th></th>\n",
       "      <th>Entity</th>\n",
       "      <th>Aquaculture production (metric tons)</th>\n",
       "      <th>Capture fisheries production (metric tons)</th>\n",
       "    </tr>\n",
       "    <tr>\n",
       "      <th>new_Year</th>\n",
       "      <th></th>\n",
       "      <th></th>\n",
       "      <th></th>\n",
       "    </tr>\n",
       "  </thead>\n",
       "  <tbody>\n",
       "    <tr>\n",
       "      <th>1969-01-01</th>\n",
       "      <td>Afghanistan</td>\n",
       "      <td>60.0</td>\n",
       "      <td>400.0</td>\n",
       "    </tr>\n",
       "    <tr>\n",
       "      <th>1970-01-01</th>\n",
       "      <td>Afghanistan</td>\n",
       "      <td>60.0</td>\n",
       "      <td>400.0</td>\n",
       "    </tr>\n",
       "    <tr>\n",
       "      <th>1971-01-01</th>\n",
       "      <td>Afghanistan</td>\n",
       "      <td>60.0</td>\n",
       "      <td>500.0</td>\n",
       "    </tr>\n",
       "    <tr>\n",
       "      <th>1972-01-01</th>\n",
       "      <td>Afghanistan</td>\n",
       "      <td>60.0</td>\n",
       "      <td>500.0</td>\n",
       "    </tr>\n",
       "    <tr>\n",
       "      <th>1973-01-01</th>\n",
       "      <td>Afghanistan</td>\n",
       "      <td>60.0</td>\n",
       "      <td>500.0</td>\n",
       "    </tr>\n",
       "  </tbody>\n",
       "</table>\n",
       "</div>"
      ],
      "text/plain": [
       "                 Entity  Aquaculture production (metric tons)  \\\n",
       "new_Year                                                        \n",
       "1969-01-01  Afghanistan                                  60.0   \n",
       "1970-01-01  Afghanistan                                  60.0   \n",
       "1971-01-01  Afghanistan                                  60.0   \n",
       "1972-01-01  Afghanistan                                  60.0   \n",
       "1973-01-01  Afghanistan                                  60.0   \n",
       "\n",
       "            Capture fisheries production (metric tons)  \n",
       "new_Year                                                \n",
       "1969-01-01                                       400.0  \n",
       "1970-01-01                                       400.0  \n",
       "1971-01-01                                       500.0  \n",
       "1972-01-01                                       500.0  \n",
       "1973-01-01                                       500.0  "
      ]
     },
     "execution_count": 124,
     "metadata": {},
     "output_type": "execute_result"
    }
   ],
   "source": [
    "df['new_Year']= pd.to_datetime(df['Year'].astype(str),format ='%Y')\n",
    "df.set_index('new_Year', inplace = True)\n",
    "df.drop(['Year'], axis = 1, inplace =True)\n",
    "df.head()"
   ]
  },
  {
   "cell_type": "markdown",
   "metadata": {},
   "source": [
    "* Line 1,2,3,5\n",
    "     - 1: Year is an int64type. An error occurs if yuou change it to datetime. it is necessary to change the data type.\n",
    "     - 2: Specify the new_year column changed in the time series form as an index.\n",
    "     - 3: Delete the existing Year column because it is no longer need,ed.\n",
    "     - 5: Confirm the above processing result "
   ]
  },
  {
   "cell_type": "code",
   "execution_count": 125,
   "metadata": {},
   "outputs": [
    {
     "name": "stdout",
     "output_type": "stream",
     "text": [
      "<class 'pandas.core.frame.DataFrame'>\n",
      "DatetimeIndex: 12727 entries, 1969-01-01 to 1969-01-01\n",
      "Data columns (total 3 columns):\n",
      " #   Column                                      Non-Null Count  Dtype  \n",
      "---  ------                                      --------------  -----  \n",
      " 0   Entity                                      12727 non-null  object \n",
      " 1   Aquaculture production (metric tons)        12727 non-null  float64\n",
      " 2   Capture fisheries production (metric tons)  12727 non-null  float64\n",
      "dtypes: float64(2), object(1)\n",
      "memory usage: 397.7+ KB\n"
     ]
    }
   ],
   "source": [
    "df.info()"
   ]
  },
  {
   "cell_type": "markdown",
   "metadata": {},
   "source": [
    "* Line 1\n",
    "    - See the result, and you can confirm that the datetimeindex has been changes."
   ]
  },
  {
   "cell_type": "code",
   "execution_count": 126,
   "metadata": {},
   "outputs": [
    {
     "data": {
      "text/html": [
       "<div>\n",
       "<style scoped>\n",
       "    .dataframe tbody tr th:only-of-type {\n",
       "        vertical-align: middle;\n",
       "    }\n",
       "\n",
       "    .dataframe tbody tr th {\n",
       "        vertical-align: top;\n",
       "    }\n",
       "\n",
       "    .dataframe thead th {\n",
       "        text-align: right;\n",
       "    }\n",
       "</style>\n",
       "<table border=\"1\" class=\"dataframe\">\n",
       "  <thead>\n",
       "    <tr style=\"text-align: right;\">\n",
       "      <th></th>\n",
       "      <th>Entity</th>\n",
       "      <th>Aquaculture production (metric tons)</th>\n",
       "      <th>Capture fisheries production (metric tons)</th>\n",
       "    </tr>\n",
       "    <tr>\n",
       "      <th>new_Year</th>\n",
       "      <th></th>\n",
       "      <th></th>\n",
       "      <th></th>\n",
       "    </tr>\n",
       "  </thead>\n",
       "  <tbody>\n",
       "    <tr>\n",
       "      <th>1960-01-01</th>\n",
       "      <td>Cayman Islands</td>\n",
       "      <td>0.0</td>\n",
       "      <td>0.0</td>\n",
       "    </tr>\n",
       "    <tr>\n",
       "      <th>1960-01-01</th>\n",
       "      <td>Bahrain</td>\n",
       "      <td>0.0</td>\n",
       "      <td>1500.0</td>\n",
       "    </tr>\n",
       "    <tr>\n",
       "      <th>1960-01-01</th>\n",
       "      <td>North Korea</td>\n",
       "      <td>5236.0</td>\n",
       "      <td>299190.0</td>\n",
       "    </tr>\n",
       "    <tr>\n",
       "      <th>1960-01-01</th>\n",
       "      <td>Northern Mariana Islands</td>\n",
       "      <td>0.0</td>\n",
       "      <td>100.0</td>\n",
       "    </tr>\n",
       "    <tr>\n",
       "      <th>1960-01-01</th>\n",
       "      <td>Norway</td>\n",
       "      <td>1900.0</td>\n",
       "      <td>1609362.0</td>\n",
       "    </tr>\n",
       "  </tbody>\n",
       "</table>\n",
       "</div>"
      ],
      "text/plain": [
       "                              Entity  Aquaculture production (metric tons)  \\\n",
       "new_Year                                                                     \n",
       "1960-01-01            Cayman Islands                                   0.0   \n",
       "1960-01-01                   Bahrain                                   0.0   \n",
       "1960-01-01               North Korea                                5236.0   \n",
       "1960-01-01  Northern Mariana Islands                                   0.0   \n",
       "1960-01-01                    Norway                                1900.0   \n",
       "\n",
       "            Capture fisheries production (metric tons)  \n",
       "new_Year                                                \n",
       "1960-01-01                                         0.0  \n",
       "1960-01-01                                      1500.0  \n",
       "1960-01-01                                    299190.0  \n",
       "1960-01-01                                       100.0  \n",
       "1960-01-01                                   1609362.0  "
      ]
     },
     "execution_count": 126,
     "metadata": {},
     "output_type": "execute_result"
    }
   ],
   "source": [
    "new_df = df.sort_index()\n",
    "new_df.head()"
   ]
  },
  {
   "cell_type": "markdown",
   "metadata": {},
   "source": [
    "* Line 1\n",
    "    - Sorting dataframe based on set index."
   ]
  },
  {
   "cell_type": "code",
   "execution_count": 113,
   "metadata": {},
   "outputs": [
    {
     "name": "stdout",
     "output_type": "stream",
     "text": [
      "<class 'pandas.core.frame.DataFrame'>\n",
      "DatetimeIndex: 12727 entries, 1960-01-01 to 2018-01-01\n",
      "Data columns (total 3 columns):\n",
      " #   Column                                      Non-Null Count  Dtype   \n",
      "---  ------                                      --------------  -----   \n",
      " 0   Entity                                      12727 non-null  category\n",
      " 1   Aquaculture production (metric tons)        12727 non-null  float64 \n",
      " 2   Capture fisheries production (metric tons)  12727 non-null  float64 \n",
      "dtypes: category(1), float64(2)\n",
      "memory usage: 333.1 KB\n"
     ]
    }
   ],
   "source": [
    "new_df['Entity']=new_df['Entity'].astype('category')\n",
    "new_df.info()"
   ]
  },
  {
   "cell_type": "markdown",
   "metadata": {},
   "source": [
    "* Line 1\n",
    "    - You can see that the data types for country name has been changed from object to categorical."
   ]
  },
  {
   "cell_type": "code",
   "execution_count": 127,
   "metadata": {},
   "outputs": [
    {
     "data": {
      "text/plain": [
       "Entity\n",
       "Cayman Islands                  59\n",
       "Burkina Faso                    59\n",
       "Equatorial Guinea               59\n",
       "Ethiopia                        59\n",
       "Europe and Central Asia (WB)    59\n",
       "                                ..\n",
       "Montenegro                      13\n",
       "Saint Martin (French part)      12\n",
       "Sint Maarten (Dutch part)        8\n",
       "Curacao                          8\n",
       "South Sudan                      7\n",
       "Name: count, Length: 231, dtype: int64"
      ]
     },
     "execution_count": 127,
     "metadata": {},
     "output_type": "execute_result"
    }
   ],
   "source": [
    "new_df['Entity'].value_counts()"
   ]
  },
  {
   "cell_type": "markdown",
   "metadata": {},
   "source": [
    "* Line 1\n",
    "    - Let's check how many unique data there are in the column with country name. There are data for total of 231 countires."
   ]
  },
  {
   "cell_type": "markdown",
   "metadata": {},
   "source": [
    "##### Step 3\n",
    "* By adding up each country's catch and aquanculture production by year, we can visulize this to see trends in global catch and aquaculture.\n",
    "* If you see the data , there are separate data for each country and year. This can be solved by calculating the sum of the world (The sum of data from each country.) for each year through the group operation of pandas based on the year and viusalizing this."
   ]
  },
  {
   "cell_type": "code",
   "execution_count": 128,
   "metadata": {},
   "outputs": [],
   "source": [
    "g = new_df.groupby(['new_Year'])"
   ]
  },
  {
   "cell_type": "markdown",
   "metadata": {},
   "source": [
    "* Line 1\n",
    "    - Group are gruped based on the new_Year column and stored them in a new dat frame called g ."
   ]
  },
  {
   "cell_type": "code",
   "execution_count": 129,
   "metadata": {},
   "outputs": [
    {
     "data": {
      "text/html": [
       "<div>\n",
       "<style scoped>\n",
       "    .dataframe tbody tr th:only-of-type {\n",
       "        vertical-align: middle;\n",
       "    }\n",
       "\n",
       "    .dataframe tbody tr th {\n",
       "        vertical-align: top;\n",
       "    }\n",
       "\n",
       "    .dataframe thead th {\n",
       "        text-align: right;\n",
       "    }\n",
       "</style>\n",
       "<table border=\"1\" class=\"dataframe\">\n",
       "  <thead>\n",
       "    <tr style=\"text-align: right;\">\n",
       "      <th></th>\n",
       "      <th>Entity</th>\n",
       "      <th>Aquaculture production (metric tons)</th>\n",
       "      <th>Capture fisheries production (metric tons)</th>\n",
       "    </tr>\n",
       "    <tr>\n",
       "      <th>new_Year</th>\n",
       "      <th></th>\n",
       "      <th></th>\n",
       "      <th></th>\n",
       "    </tr>\n",
       "  </thead>\n",
       "  <tbody>\n",
       "    <tr>\n",
       "      <th>1960-01-01</th>\n",
       "      <td>Cayman Islands</td>\n",
       "      <td>0.0</td>\n",
       "      <td>0.0</td>\n",
       "    </tr>\n",
       "    <tr>\n",
       "      <th>1960-01-01</th>\n",
       "      <td>Bahrain</td>\n",
       "      <td>0.0</td>\n",
       "      <td>1500.0</td>\n",
       "    </tr>\n",
       "    <tr>\n",
       "      <th>1960-01-01</th>\n",
       "      <td>North Korea</td>\n",
       "      <td>5236.0</td>\n",
       "      <td>299190.0</td>\n",
       "    </tr>\n",
       "    <tr>\n",
       "      <th>1960-01-01</th>\n",
       "      <td>Northern Mariana Islands</td>\n",
       "      <td>0.0</td>\n",
       "      <td>100.0</td>\n",
       "    </tr>\n",
       "    <tr>\n",
       "      <th>1960-01-01</th>\n",
       "      <td>Norway</td>\n",
       "      <td>1900.0</td>\n",
       "      <td>1609362.0</td>\n",
       "    </tr>\n",
       "    <tr>\n",
       "      <th>...</th>\n",
       "      <td>...</td>\n",
       "      <td>...</td>\n",
       "      <td>...</td>\n",
       "    </tr>\n",
       "    <tr>\n",
       "      <th>2018-01-01</th>\n",
       "      <td>Indonesia</td>\n",
       "      <td>14772104.0</td>\n",
       "      <td>7270238.0</td>\n",
       "    </tr>\n",
       "    <tr>\n",
       "      <th>2018-01-01</th>\n",
       "      <td>Cape Verde</td>\n",
       "      <td>0.0</td>\n",
       "      <td>26586.0</td>\n",
       "    </tr>\n",
       "    <tr>\n",
       "      <th>2018-01-01</th>\n",
       "      <td>Cayman Islands</td>\n",
       "      <td>0.0</td>\n",
       "      <td>125.0</td>\n",
       "    </tr>\n",
       "    <tr>\n",
       "      <th>2018-01-01</th>\n",
       "      <td>Central African Republic</td>\n",
       "      <td>190.0</td>\n",
       "      <td>29000.0</td>\n",
       "    </tr>\n",
       "    <tr>\n",
       "      <th>2018-01-01</th>\n",
       "      <td>North Korea</td>\n",
       "      <td>629060.0</td>\n",
       "      <td>208700.0</td>\n",
       "    </tr>\n",
       "  </tbody>\n",
       "</table>\n",
       "<p>295 rows × 3 columns</p>\n",
       "</div>"
      ],
      "text/plain": [
       "                              Entity  Aquaculture production (metric tons)  \\\n",
       "new_Year                                                                     \n",
       "1960-01-01            Cayman Islands                                   0.0   \n",
       "1960-01-01                   Bahrain                                   0.0   \n",
       "1960-01-01               North Korea                                5236.0   \n",
       "1960-01-01  Northern Mariana Islands                                   0.0   \n",
       "1960-01-01                    Norway                                1900.0   \n",
       "...                              ...                                   ...   \n",
       "2018-01-01                 Indonesia                            14772104.0   \n",
       "2018-01-01                Cape Verde                                   0.0   \n",
       "2018-01-01            Cayman Islands                                   0.0   \n",
       "2018-01-01  Central African Republic                                 190.0   \n",
       "2018-01-01               North Korea                              629060.0   \n",
       "\n",
       "            Capture fisheries production (metric tons)  \n",
       "new_Year                                                \n",
       "1960-01-01                                         0.0  \n",
       "1960-01-01                                      1500.0  \n",
       "1960-01-01                                    299190.0  \n",
       "1960-01-01                                       100.0  \n",
       "1960-01-01                                   1609362.0  \n",
       "...                                                ...  \n",
       "2018-01-01                                   7270238.0  \n",
       "2018-01-01                                     26586.0  \n",
       "2018-01-01                                       125.0  \n",
       "2018-01-01                                     29000.0  \n",
       "2018-01-01                                    208700.0  \n",
       "\n",
       "[295 rows x 3 columns]"
      ]
     },
     "execution_count": 129,
     "metadata": {},
     "output_type": "execute_result"
    }
   ],
   "source": [
    "g.head()"
   ]
  },
  {
   "cell_type": "markdown",
   "metadata": {},
   "source": [
    "* Line 1\n",
    "    - if you check the saved result, you can see that the data frame was created based on the year. "
   ]
  },
  {
   "cell_type": "code",
   "execution_count": 130,
   "metadata": {},
   "outputs": [
    {
     "name": "stdout",
     "output_type": "stream",
     "text": [
      "+key (Timestamp('1960-01-01 00:00:00'),)\n",
      "+number 199\n",
      "                              Entity  Aquaculture production (metric tons)  \\\n",
      "new_Year                                                                     \n",
      "1960-01-01            Cayman Islands                                   0.0   \n",
      "1960-01-01                   Bahrain                                   0.0   \n",
      "1960-01-01               North Korea                                5236.0   \n",
      "1960-01-01  Northern Mariana Islands                                   0.0   \n",
      "1960-01-01                    Norway                                1900.0   \n",
      "\n",
      "            Capture fisheries production (metric tons)  \n",
      "new_Year                                                \n",
      "1960-01-01                                         0.0  \n",
      "1960-01-01                                      1500.0  \n",
      "1960-01-01                                    299190.0  \n",
      "1960-01-01                                       100.0  \n",
      "1960-01-01                                   1609362.0  \n",
      "\n",
      "\n",
      "+key (Timestamp('1961-01-01 00:00:00'),)\n",
      "+number 200\n",
      "                         Entity  Aquaculture production (metric tons)  \\\n",
      "new_Year                                                                \n",
      "1961-01-01                 Iraq                                   0.0   \n",
      "1961-01-01               Poland                                8700.0   \n",
      "1961-01-01         Burkina Faso                                   0.0   \n",
      "1961-01-01          North Korea                                6287.0   \n",
      "1961-01-01  Upper middle income                              842603.0   \n",
      "\n",
      "            Capture fisheries production (metric tons)  \n",
      "new_Year                                                \n",
      "1961-01-01                                      9000.0  \n",
      "1961-01-01                                    176822.0  \n",
      "1961-01-01                                      2500.0  \n",
      "1961-01-01                                    341100.0  \n",
      "1961-01-01                                  10005880.0  \n",
      "\n",
      "\n",
      "+key (Timestamp('1962-01-01 00:00:00'),)\n",
      "+number 200\n",
      "                                       Entity  \\\n",
      "new_Year                                        \n",
      "1962-01-01  Middle East and North Africa (WB)   \n",
      "1962-01-01                            Myanmar   \n",
      "1962-01-01                Lower middle income   \n",
      "1962-01-01                        Saint Lucia   \n",
      "1962-01-01                   Marshall Islands   \n",
      "\n",
      "            Aquaculture production (metric tons)  \\\n",
      "new_Year                                           \n",
      "1962-01-01                               15185.0   \n",
      "1962-01-01                                 140.0   \n",
      "1962-01-01                              310350.0   \n",
      "1962-01-01                                   0.0   \n",
      "1962-01-01                                   0.0   \n",
      "\n",
      "            Capture fisheries production (metric tons)  \n",
      "new_Year                                                \n",
      "1962-01-01                                    512290.0  \n",
      "1962-01-01                                    360000.0  \n",
      "1962-01-01                                   4921424.0  \n",
      "1962-01-01                                       600.0  \n",
      "1962-01-01                                         0.0  \n",
      "\n",
      "\n",
      "+key (Timestamp('1963-01-01 00:00:00'),)\n",
      "+number 200\n",
      "                      Entity  Aquaculture production (metric tons)  \\\n",
      "new_Year                                                             \n",
      "1963-01-01             Macao                                   0.0   \n",
      "1963-01-01            Brunei                                   0.0   \n",
      "1963-01-01          Barbados                                   0.0   \n",
      "1963-01-01  Papua New Guinea                                   0.0   \n",
      "1963-01-01           Liberia                                   0.0   \n",
      "\n",
      "            Capture fisheries production (metric tons)  \n",
      "new_Year                                                \n",
      "1963-01-01                                      5500.0  \n",
      "1963-01-01                                      1000.0  \n",
      "1963-01-01                                      2813.0  \n",
      "1963-01-01                                     15200.0  \n",
      "1963-01-01                                      4000.0  \n",
      "\n",
      "\n",
      "+key (Timestamp('1964-01-01 00:00:00'),)\n",
      "+number 200\n",
      "                Entity  Aquaculture production (metric tons)  \\\n",
      "new_Year                                                       \n",
      "1964-01-01  Mozambique                                   0.0   \n",
      "1964-01-01    Botswana                                   0.0   \n",
      "1964-01-01     Morocco                                   0.0   \n",
      "1964-01-01     Vanuatu                                   0.0   \n",
      "1964-01-01   Hong Kong                                1390.0   \n",
      "\n",
      "            Capture fisheries production (metric tons)  \n",
      "new_Year                                                \n",
      "1964-01-01                                     13900.0  \n",
      "1964-01-01                                       500.0  \n",
      "1964-01-01                                    208582.0  \n",
      "1964-01-01                                      1500.0  \n",
      "1964-01-01                                     62430.0  \n",
      "\n",
      "\n",
      "+key (Timestamp('1965-01-01 00:00:00'),)\n",
      "+number 200\n",
      "                Entity  Aquaculture production (metric tons)  \\\n",
      "new_Year                                                       \n",
      "1965-01-01       Japan                              412523.0   \n",
      "1965-01-01     Lebanon                                   0.0   \n",
      "1965-01-01      Belize                                   0.0   \n",
      "1965-01-01       Italy                               11813.0   \n",
      "1965-01-01  Low income                               14143.0   \n",
      "\n",
      "            Capture fisheries production (metric tons)  \n",
      "new_Year                                                \n",
      "1965-01-01                                   6566241.0  \n",
      "1965-01-01                                      2300.0  \n",
      "1965-01-01                                       800.0  \n",
      "1965-01-01                                    344541.0  \n",
      "1965-01-01                                    937800.0  \n",
      "\n",
      "\n",
      "+key (Timestamp('1966-01-01 00:00:00'),)\n",
      "+number 200\n",
      "              Entity  Aquaculture production (metric tons)  \\\n",
      "new_Year                                                     \n",
      "1966-01-01  Zimbabwe                                   0.0   \n",
      "1966-01-01    Cyprus                                   0.0   \n",
      "1966-01-01   Burundi                                   0.0   \n",
      "1966-01-01   Ecuador                                   0.0   \n",
      "1966-01-01  Dominica                                   0.0   \n",
      "\n",
      "            Capture fisheries production (metric tons)  \n",
      "new_Year                                                \n",
      "1966-01-01                                      2000.0  \n",
      "1966-01-01                                      1009.0  \n",
      "1966-01-01                                     16600.0  \n",
      "1966-01-01                                     48200.0  \n",
      "1966-01-01                                       500.0  \n",
      "\n",
      "\n",
      "+key (Timestamp('1967-01-01 00:00:00'),)\n",
      "+number 200\n",
      "                 Entity  Aquaculture production (metric tons)  \\\n",
      "new_Year                                                        \n",
      "1967-01-01     Djibouti                                   0.0   \n",
      "1967-01-01      Algeria                                   0.0   \n",
      "1967-01-01     Thailand                               54769.0   \n",
      "1967-01-01  Philippines                               66880.0   \n",
      "1967-01-01       Brunei                                   0.0   \n",
      "\n",
      "            Capture fisheries production (metric tons)  \n",
      "new_Year                                                \n",
      "1967-01-01                                       300.0  \n",
      "1967-01-01                                     21150.0  \n",
      "1967-01-01                                    806597.0  \n",
      "1967-01-01                                    738783.0  \n",
      "1967-01-01                                      1200.0  \n",
      "\n",
      "\n",
      "+key (Timestamp('1968-01-01 00:00:00'),)\n",
      "+number 201\n",
      "                         Entity  Aquaculture production (metric tons)  \\\n",
      "new_Year                                                                \n",
      "1968-01-01  Antigua and Barbuda                                   0.0   \n",
      "1968-01-01                Spain                               69700.0   \n",
      "1968-01-01               Zambia                                   0.0   \n",
      "1968-01-01                Libya                                   0.0   \n",
      "1968-01-01            Indonesia                              104175.0   \n",
      "\n",
      "            Capture fisheries production (metric tons)  \n",
      "new_Year                                                \n",
      "1968-01-01                                       800.0  \n",
      "1968-01-01                                   1455161.0  \n",
      "1968-01-01                                     41300.0  \n",
      "1968-01-01                                      5560.0  \n",
      "1968-01-01                                   1075825.0  \n",
      "\n",
      "\n",
      "+key (Timestamp('1969-01-01 00:00:00'),)\n",
      "+number 201\n",
      "                              Entity  Aquaculture production (metric tons)  \\\n",
      "new_Year                                                                     \n",
      "1969-01-01            Cayman Islands                                   0.0   \n",
      "1969-01-01                     China                             1513849.0   \n",
      "1969-01-01                      Cuba                                 220.0   \n",
      "1969-01-01                Costa Rica                                   0.0   \n",
      "1969-01-01  Central African Republic                                   0.0   \n",
      "\n",
      "            Capture fisheries production (metric tons)  \n",
      "new_Year                                                \n",
      "1969-01-01                                         0.0  \n",
      "1969-01-01                                   2553251.0  \n",
      "1969-01-01                                     78699.0  \n",
      "1969-01-01                                      4100.0  \n",
      "1969-01-01                                      6000.0  \n",
      "\n",
      "\n",
      "+key (Timestamp('1970-01-01 00:00:00'),)\n",
      "+number 207\n",
      "                                  Entity  \\\n",
      "new_Year                                   \n",
      "1970-01-01  Europe and Central Asia (WB)   \n",
      "1970-01-01                       Lesotho   \n",
      "1970-01-01                          Mali   \n",
      "1970-01-01  United States Virgin Islands   \n",
      "1970-01-01                       Namibia   \n",
      "\n",
      "            Aquaculture production (metric tons)  \\\n",
      "new_Year                                           \n",
      "1970-01-01                              472162.0   \n",
      "1970-01-01                                   0.0   \n",
      "1970-01-01                                   0.0   \n",
      "1970-01-01                                   0.0   \n",
      "1970-01-01                                   0.0   \n",
      "\n",
      "            Capture fisheries production (metric tons)  \n",
      "new_Year                                                \n",
      "1970-01-01                                  12205944.0  \n",
      "1970-01-01                                         0.0  \n",
      "1970-01-01                                    110000.0  \n",
      "1970-01-01                                       600.0  \n",
      "1970-01-01                                      6500.0  \n",
      "\n",
      "\n",
      "+key (Timestamp('1971-01-01 00:00:00'),)\n",
      "+number 207\n",
      "                 Entity  Aquaculture production (metric tons)  \\\n",
      "new_Year                                                        \n",
      "1971-01-01       Turkey                                 470.0   \n",
      "1971-01-01        Egypt                                7000.0   \n",
      "1971-01-01  Puerto Rico                                   0.0   \n",
      "1971-01-01       Brunei                                   0.0   \n",
      "1971-01-01      Nigeria                                3993.0   \n",
      "\n",
      "            Capture fisheries production (metric tons)  \n",
      "new_Year                                                \n",
      "1971-01-01                                    160410.0  \n",
      "1971-01-01                                     77268.0  \n",
      "1971-01-01                                      2200.0  \n",
      "1971-01-01                                      1500.0  \n",
      "1971-01-01                                    241303.0  \n",
      "\n",
      "\n",
      "+key (Timestamp('1972-01-01 00:00:00'),)\n",
      "+number 207\n",
      "                  Entity  Aquaculture production (metric tons)  \\\n",
      "new_Year                                                         \n",
      "1972-01-01         Libya                                   0.0   \n",
      "1972-01-01         Italy                               31224.0   \n",
      "1972-01-01        Norway                                 924.0   \n",
      "1972-01-01  Sierra Leone                                   0.0   \n",
      "1972-01-01      Botswana                                   0.0   \n",
      "\n",
      "            Capture fisheries production (metric tons)  \n",
      "new_Year                                                \n",
      "1972-01-01                                      2549.0  \n",
      "1972-01-01                                    407839.0  \n",
      "1972-01-01                                   3320112.0  \n",
      "1972-01-01                                     51128.0  \n",
      "1972-01-01                                      1200.0  \n",
      "\n",
      "\n",
      "+key (Timestamp('1973-01-01 00:00:00'),)\n",
      "+number 207\n",
      "                           Entity  Aquaculture production (metric tons)  \\\n",
      "new_Year                                                                  \n",
      "1973-01-01               Zimbabwe                                  12.0   \n",
      "1973-01-01                   Mali                                   0.0   \n",
      "1973-01-01                  Niger                                   0.0   \n",
      "1973-01-01  Sao Tome and Principe                                   0.0   \n",
      "1973-01-01               Dominica                                   0.0   \n",
      "\n",
      "            Capture fisheries production (metric tons)  \n",
      "new_Year                                                \n",
      "1973-01-01                                      3000.0  \n",
      "1973-01-01                                     85000.0  \n",
      "1973-01-01                                     16200.0  \n",
      "1973-01-01                                       800.0  \n",
      "1973-01-01                                       800.0  \n",
      "\n",
      "\n",
      "+key (Timestamp('1974-01-01 00:00:00'),)\n",
      "+number 207\n",
      "                         Entity  Aquaculture production (metric tons)  \\\n",
      "new_Year                                                                \n",
      "1974-01-01  Trinidad and Tobago                                   0.0   \n",
      "1974-01-01          Philippines                              140073.0   \n",
      "1974-01-01            Palestine                                   0.0   \n",
      "1974-01-01          North Korea                              143138.0   \n",
      "1974-01-01     Papua New Guinea                                   0.0   \n",
      "\n",
      "            Capture fisheries production (metric tons)  \n",
      "new_Year                                                \n",
      "1974-01-01                                      3725.0  \n",
      "1974-01-01                                   1263017.0  \n",
      "1974-01-01                                         0.0  \n",
      "1974-01-01                                    550000.0  \n",
      "1974-01-01                                    120247.0  \n",
      "\n",
      "\n",
      "+key (Timestamp('1975-01-01 00:00:00'),)\n",
      "+number 207\n",
      "                      Entity  Aquaculture production (metric tons)  \\\n",
      "new_Year                                                             \n",
      "1975-01-01       Switzerland                                  25.0   \n",
      "1975-01-01           Burundi                                   0.0   \n",
      "1975-01-01  Papua New Guinea                                   0.0   \n",
      "1975-01-01        Seychelles                                   0.0   \n",
      "1975-01-01   Solomon Islands                                   0.0   \n",
      "\n",
      "            Capture fisheries production (metric tons)  \n",
      "new_Year                                                \n",
      "1975-01-01                                      3875.0  \n",
      "1975-01-01                                     14547.0  \n",
      "1975-01-01                                     59438.0  \n",
      "1975-01-01                                      3950.0  \n",
      "1975-01-01                                     16940.0  \n",
      "\n",
      "\n",
      "+key (Timestamp('1976-01-01 00:00:00'),)\n",
      "+number 207\n",
      "                              Entity  Aquaculture production (metric tons)  \\\n",
      "new_Year                                                                     \n",
      "1976-01-01                     Ghana                                 219.0   \n",
      "1976-01-01       Upper middle income                             2320368.0   \n",
      "1976-01-01  Central African Republic                                  15.0   \n",
      "1976-01-01                     Macao                                   0.0   \n",
      "1976-01-01                   Morocco                                  65.0   \n",
      "\n",
      "            Capture fisheries production (metric tons)  \n",
      "new_Year                                                \n",
      "1976-01-01                                    246601.0  \n",
      "1976-01-01                                  14038188.0  \n",
      "1976-01-01                                     10465.0  \n",
      "1976-01-01                                      7400.0  \n",
      "1976-01-01                                    288930.0  \n",
      "\n",
      "\n",
      "+key (Timestamp('1977-01-01 00:00:00'),)\n",
      "+number 207\n",
      "                Entity  Aquaculture production (metric tons)  \\\n",
      "new_Year                                                       \n",
      "1977-01-01       Gabon                                   0.0   \n",
      "1977-01-01  Low income                              223907.0   \n",
      "1977-01-01     Austria                                1600.0   \n",
      "1977-01-01     Albania                                 164.0   \n",
      "1977-01-01  Mauritania                                   0.0   \n",
      "\n",
      "            Capture fisheries production (metric tons)  \n",
      "new_Year                                                \n",
      "1977-01-01                                     14010.0  \n",
      "1977-01-01                                   1514551.0  \n",
      "1977-01-01                                       870.0  \n",
      "1977-01-01                                      8336.0  \n",
      "1977-01-01                                     37897.0  \n",
      "\n",
      "\n",
      "+key (Timestamp('1978-01-01 00:00:00'),)\n",
      "+number 207\n",
      "                      Entity  Aquaculture production (metric tons)  \\\n",
      "new_Year                                                             \n",
      "1978-01-01            Guyana                                   0.0   \n",
      "1978-01-01        San Marino                                   0.0   \n",
      "1978-01-01             Nauru                                   0.0   \n",
      "1978-01-01  Papua New Guinea                                   0.0   \n",
      "1978-01-01          Paraguay                                   0.0   \n",
      "\n",
      "            Capture fisheries production (metric tons)  \n",
      "new_Year                                                \n",
      "1978-01-01                                     35978.0  \n",
      "1978-01-01                                         0.0  \n",
      "1978-01-01                                       130.0  \n",
      "1978-01-01                                     90267.0  \n",
      "1978-01-01                                      3100.0  \n",
      "\n",
      "\n",
      "+key (Timestamp('1979-01-01 00:00:00'),)\n",
      "+number 207\n",
      "                                      Entity  \\\n",
      "new_Year                                       \n",
      "1979-01-01          Central African Republic   \n",
      "1979-01-01  Saint Vincent and the Grenadines   \n",
      "1979-01-01                         Australia   \n",
      "1979-01-01                           Jamaica   \n",
      "1979-01-01                           Senegal   \n",
      "\n",
      "            Aquaculture production (metric tons)  \\\n",
      "new_Year                                           \n",
      "1979-01-01                                  64.0   \n",
      "1979-01-01                                   0.0   \n",
      "1979-01-01                                8702.0   \n",
      "1979-01-01                                  25.0   \n",
      "1979-01-01                                  92.0   \n",
      "\n",
      "            Capture fisheries production (metric tons)  \n",
      "new_Year                                                \n",
      "1979-01-01                                     13000.0  \n",
      "1979-01-01                                       547.0  \n",
      "1979-01-01                                    137912.0  \n",
      "1979-01-01                                      9826.0  \n",
      "1979-01-01                                    225146.0  \n",
      "\n",
      "\n",
      "+key (Timestamp('1980-01-01 00:00:00'),)\n",
      "+number 207\n",
      "                                Entity  Aquaculture production (metric tons)  \\\n",
      "new_Year                                                                       \n",
      "1980-01-01            Papua New Guinea                                   0.0   \n",
      "1980-01-01  East Asia and Pacific (WB)                             6159881.0   \n",
      "1980-01-01                      Jordan                                   0.0   \n",
      "1980-01-01                 Netherlands                               77052.0   \n",
      "1980-01-01                  Costa Rica                                  27.0   \n",
      "\n",
      "            Capture fisheries production (metric tons)  \n",
      "new_Year                                                \n",
      "1980-01-01                                     78126.0  \n",
      "1980-01-01                                  23802496.0  \n",
      "1980-01-01                                        56.0  \n",
      "1980-01-01                                    263460.0  \n",
      "1980-01-01                                     16426.0  \n",
      "\n",
      "\n",
      "+key (Timestamp('1981-01-01 00:00:00'),)\n",
      "+number 207\n",
      "                Entity  Aquaculture production (metric tons)  \\\n",
      "new_Year                                                       \n",
      "1981-01-01     Andorra                                   0.0   \n",
      "1981-01-01  Seychelles                                   0.0   \n",
      "1981-01-01       Gabon                                   0.0   \n",
      "1981-01-01     Austria                                3200.0   \n",
      "1981-01-01     Namibia                                   0.0   \n",
      "\n",
      "            Capture fisheries production (metric tons)  \n",
      "new_Year                                                \n",
      "1981-01-01                                         0.0  \n",
      "1981-01-01                                      5221.0  \n",
      "1981-01-01                                     20146.0  \n",
      "1981-01-01                                      1200.0  \n",
      "1981-01-01                                     10850.0  \n",
      "\n",
      "\n",
      "+key (Timestamp('1982-01-01 00:00:00'),)\n",
      "+number 207\n",
      "                                  Entity  \\\n",
      "new_Year                                   \n",
      "1982-01-01                 Middle income   \n",
      "1982-01-01  Democratic Republic of Congo   \n",
      "1982-01-01                        Panama   \n",
      "1982-01-01                          Fiji   \n",
      "1982-01-01      Central African Republic   \n",
      "\n",
      "            Aquaculture production (metric tons)  \\\n",
      "new_Year                                           \n",
      "1982-01-01                             4919721.0   \n",
      "1982-01-01                                   0.0   \n",
      "1982-01-01                                 993.0   \n",
      "1982-01-01                                   0.0   \n",
      "1982-01-01                                 111.0   \n",
      "\n",
      "            Capture fisheries production (metric tons)  \n",
      "new_Year                                                \n",
      "1982-01-01                                  25296028.0  \n",
      "1982-01-01                                    100700.0  \n",
      "1982-01-01                                    119023.0  \n",
      "1982-01-01                                     24931.0  \n",
      "1982-01-01                                     13000.0  \n",
      "\n",
      "\n",
      "+key (Timestamp('1983-01-01 00:00:00'),)\n",
      "+number 207\n",
      "                                      Entity  \\\n",
      "new_Year                                       \n",
      "1983-01-01  Saint Vincent and the Grenadines   \n",
      "1983-01-01                         Indonesia   \n",
      "1983-01-01                        Mauritania   \n",
      "1983-01-01                           Morocco   \n",
      "1983-01-01                     Faroe Islands   \n",
      "\n",
      "            Aquaculture production (metric tons)  \\\n",
      "new_Year                                           \n",
      "1983-01-01                                   0.0   \n",
      "1983-01-01                              303941.0   \n",
      "1983-01-01                                   0.0   \n",
      "1983-01-01                                 128.0   \n",
      "1983-01-01                                 390.0   \n",
      "\n",
      "            Capture fisheries production (metric tons)  \n",
      "new_Year                                                \n",
      "1983-01-01                                       481.0  \n",
      "1983-01-01                                   1944527.0  \n",
      "1983-01-01                                     81600.0  \n",
      "1983-01-01                                    459245.0  \n",
      "1983-01-01                                    331664.0  \n",
      "\n",
      "\n",
      "+key (Timestamp('1984-01-01 00:00:00'),)\n",
      "+number 207\n",
      "                          Entity  Aquaculture production (metric tons)  \\\n",
      "new_Year                                                                 \n",
      "1984-01-01         New Caledonia                                  51.0   \n",
      "1984-01-01         Cote d'Ivoire                                  21.0   \n",
      "1984-01-01  United Arab Emirates                                   7.0   \n",
      "1984-01-01              Djibouti                                   0.0   \n",
      "1984-01-01                 Tonga                                   0.0   \n",
      "\n",
      "            Capture fisheries production (metric tons)  \n",
      "new_Year                                                \n",
      "1984-01-01                                      3670.0  \n",
      "1984-01-01                                     73680.0  \n",
      "1984-01-01                                     72716.0  \n",
      "1984-01-01                                       409.0  \n",
      "1984-01-01                                      2385.0  \n",
      "\n",
      "\n",
      "+key (Timestamp('1985-01-01 00:00:00'),)\n",
      "+number 207\n",
      "                   Entity  Aquaculture production (metric tons)  \\\n",
      "new_Year                                                          \n",
      "1985-01-01       Eswatini                                  12.0   \n",
      "1985-01-01          World                            11354349.0   \n",
      "1985-01-01         Brunei                                   0.0   \n",
      "1985-01-01  Faroe Islands                                1620.0   \n",
      "1985-01-01       Zimbabwe                                 140.0   \n",
      "\n",
      "            Capture fisheries production (metric tons)  \n",
      "new_Year                                                \n",
      "1985-01-01                                        78.0  \n",
      "1985-01-01                                  79380104.0  \n",
      "1985-01-01                                      3967.0  \n",
      "1985-01-01                                    374918.0  \n",
      "1985-01-01                                     17260.0  \n",
      "\n",
      "\n",
      "+key (Timestamp('1986-01-01 00:00:00'),)\n",
      "+number 207\n",
      "                 Entity  Aquaculture production (metric tons)  \\\n",
      "new_Year                                                        \n",
      "1986-01-01      Bolivia                                   0.0   \n",
      "1986-01-01       Cyprus                                  57.0   \n",
      "1986-01-01      Ireland                               12741.0   \n",
      "1986-01-01    Nicaragua                                  36.0   \n",
      "1986-01-01  North Korea                              855100.0   \n",
      "\n",
      "            Capture fisheries production (metric tons)  \n",
      "new_Year                                                \n",
      "1986-01-01                                    3871.000  \n",
      "1986-01-01                                    2541.388  \n",
      "1986-01-01                                  248878.000  \n",
      "1986-01-01                                    2465.000  \n",
      "1986-01-01                                  773000.000  \n",
      "\n",
      "\n",
      "+key (Timestamp('1987-01-01 00:00:00'),)\n",
      "+number 207\n",
      "                                  Entity  \\\n",
      "new_Year                                   \n",
      "1987-01-01                  South Africa   \n",
      "1987-01-01                        Guyana   \n",
      "1987-01-01                       Namibia   \n",
      "1987-01-01                       Myanmar   \n",
      "1987-01-01  Europe and Central Asia (WB)   \n",
      "\n",
      "            Aquaculture production (metric tons)  \\\n",
      "new_Year                                           \n",
      "1987-01-01                                1096.0   \n",
      "1987-01-01                                  70.0   \n",
      "1987-01-01                                   0.0   \n",
      "1987-01-01                                5493.0   \n",
      "1987-01-01                             1049738.0   \n",
      "\n",
      "            Capture fisheries production (metric tons)  \n",
      "new_Year                                                \n",
      "1987-01-01                                   1466359.0  \n",
      "1987-01-01                                     82415.0  \n",
      "1987-01-01                                     32437.0  \n",
      "1987-01-01                                    680371.0  \n",
      "1987-01-01                                  12887862.0  \n",
      "\n",
      "\n",
      "+key (Timestamp('1988-01-01 00:00:00'),)\n",
      "+number 218\n",
      "                                       Entity  \\\n",
      "new_Year                                        \n",
      "1988-01-01                    South Asia (WB)   \n",
      "1988-01-01  Middle East and North Africa (WB)   \n",
      "1988-01-01                             Latvia   \n",
      "1988-01-01                             Zambia   \n",
      "1988-01-01                            Somalia   \n",
      "\n",
      "            Aquaculture production (metric tons)  \\\n",
      "new_Year                                           \n",
      "1988-01-01                             1082101.0   \n",
      "1988-01-01                              103775.0   \n",
      "1988-01-01                                2926.0   \n",
      "1988-01-01                                1147.0   \n",
      "1988-01-01                                   0.0   \n",
      "\n",
      "            Capture fisheries production (metric tons)  \n",
      "new_Year                                                \n",
      "1988-01-01                                   3675936.0  \n",
      "1988-01-01                                   1660684.6  \n",
      "1988-01-01                                    541212.0  \n",
      "1988-01-01                                     66430.0  \n",
      "1988-01-01                                     20327.0  \n",
      "\n",
      "\n",
      "+key (Timestamp('1989-01-01 00:00:00'),)\n",
      "+number 218\n",
      "                        Entity  Aquaculture production (metric tons)  \\\n",
      "new_Year                                                               \n",
      "1989-01-01         Isle of Man                                   0.0   \n",
      "1989-01-01            Portugal                                8549.0   \n",
      "1989-01-01  North America (WB)                              401703.0   \n",
      "1989-01-01              Sweden                                7914.0   \n",
      "1989-01-01               Egypt                               60500.0   \n",
      "\n",
      "            Capture fisheries production (metric tons)  \n",
      "new_Year                                                \n",
      "1989-01-01                                      5696.0  \n",
      "1989-01-01                                    331481.0  \n",
      "1989-01-01                                   7299894.5  \n",
      "1989-01-01                                    249844.0  \n",
      "1989-01-01                                    233105.8  \n",
      "\n",
      "\n",
      "+key (Timestamp('1990-01-01 00:00:00'),)\n",
      "+number 218\n",
      "              Entity  Aquaculture production (metric tons)  \\\n",
      "new_Year                                                     \n",
      "1990-01-01    Brunei                                   6.0   \n",
      "1990-01-01  Ethiopia                                  36.0   \n",
      "1990-01-01     Italy                              153744.0   \n",
      "1990-01-01     Samoa                                   0.0   \n",
      "1990-01-01   Hungary                               17600.0   \n",
      "\n",
      "            Capture fisheries production (metric tons)  \n",
      "new_Year                                                \n",
      "1990-01-01                                     2348.00  \n",
      "1990-01-01                                    14265.00  \n",
      "1990-01-01                                   376932.16  \n",
      "1990-01-01                                     1505.00  \n",
      "1990-01-01                                    16234.00  \n",
      "\n",
      "\n",
      "+key (Timestamp('1991-01-01 00:00:00'),)\n",
      "+number 218\n",
      "                     Entity  Aquaculture production (metric tons)  \\\n",
      "new_Year                                                            \n",
      "1991-01-01       Low income                              955220.0   \n",
      "1991-01-01            Gabon                                   3.0   \n",
      "1991-01-01         Bulgaria                                7798.0   \n",
      "1991-01-01  Solomon Islands                                   6.0   \n",
      "1991-01-01           Malawi                                 223.0   \n",
      "\n",
      "            Capture fisheries production (metric tons)  \n",
      "new_Year                                                \n",
      "1991-01-01                                 1451837.000  \n",
      "1991-01-01                                   22000.000  \n",
      "1991-01-01                                   50056.000  \n",
      "1991-01-01                                   63005.777  \n",
      "1991-01-01                                   65094.000  \n",
      "\n",
      "\n",
      "+key (Timestamp('1992-01-01 00:00:00'),)\n",
      "+number 222\n",
      "                  Entity  Aquaculture production (metric tons)  \\\n",
      "new_Year                                                         \n",
      "1992-01-01   Afghanistan                                 300.0   \n",
      "1992-01-01       Bahamas                                  10.0   \n",
      "1992-01-01         Nepal                               10645.0   \n",
      "1992-01-01       Somalia                                   0.0   \n",
      "1992-01-01  Sierra Leone                                  20.0   \n",
      "\n",
      "            Capture fisheries production (metric tons)  \n",
      "new_Year                                                \n",
      "1992-01-01                                    1200.000  \n",
      "1992-01-01                                   12205.532  \n",
      "1992-01-01                                    5895.000  \n",
      "1992-01-01                                   25750.000  \n",
      "1992-01-01                                   68510.000  \n",
      "\n",
      "\n",
      "+key (Timestamp('1993-01-01 00:00:00'),)\n",
      "+number 225\n",
      "                Entity  Aquaculture production (metric tons)  \\\n",
      "new_Year                                                       \n",
      "1993-01-01  Uzbekistan                               19043.0   \n",
      "1993-01-01      Tuvalu                                   0.0   \n",
      "1993-01-01     Bolivia                                 649.0   \n",
      "1993-01-01     Albania                                 389.0   \n",
      "1993-01-01     Comoros                                   0.0   \n",
      "\n",
      "            Capture fisheries production (metric tons)  \n",
      "new_Year                                                \n",
      "1993-01-01                                      4358.0  \n",
      "1993-01-01                                      1460.0  \n",
      "1993-01-01                                      5518.0  \n",
      "1993-01-01                                      2500.0  \n",
      "1993-01-01                                     12757.0  \n",
      "\n",
      "\n",
      "+key (Timestamp('1994-01-01 00:00:00'),)\n",
      "+number 225\n",
      "              Entity  Aquaculture production (metric tons)  \\\n",
      "new_Year                                                     \n",
      "1994-01-01    Jordan                                  86.0   \n",
      "1994-01-01   Denmark                               42892.0   \n",
      "1994-01-01  Cameroon                                  50.0   \n",
      "1994-01-01   Grenada                                   0.0   \n",
      "1994-01-01   Eritrea                                   0.0   \n",
      "\n",
      "            Capture fisheries production (metric tons)  \n",
      "new_Year                                                \n",
      "1994-01-01                                       410.0  \n",
      "1994-01-01                                   1877765.0  \n",
      "1994-01-01                                     79020.0  \n",
      "1994-01-01                                      1599.0  \n",
      "1994-01-01                                      2706.0  \n",
      "\n",
      "\n",
      "+key (Timestamp('1995-01-01 00:00:00'),)\n",
      "+number 225\n",
      "                             Entity  Aquaculture production (metric tons)  \\\n",
      "new_Year                                                                    \n",
      "1995-01-01            Guinea-Bissau                                   0.0   \n",
      "1995-01-01  Sub-Saharan Africa (WB)                               35999.0   \n",
      "1995-01-01                  Bahrain                                   4.0   \n",
      "1995-01-01                     Iraq                                2600.0   \n",
      "1995-01-01                   Angola                                   0.0   \n",
      "\n",
      "            Capture fisheries production (metric tons)  \n",
      "new_Year                                                \n",
      "1995-01-01                                      6328.0  \n",
      "1995-01-01                                   4595368.0  \n",
      "1995-01-01                                      9389.0  \n",
      "1995-01-01                                     28208.0  \n",
      "1995-01-01                                    122781.0  \n",
      "\n",
      "\n",
      "+key (Timestamp('1996-01-01 00:00:00'),)\n",
      "+number 225\n",
      "                           Entity  Aquaculture production (metric tons)  \\\n",
      "new_Year                                                                  \n",
      "1996-01-01  Saint Kitts and Nevis                                   0.0   \n",
      "1996-01-01                 Brunei                                 119.0   \n",
      "1996-01-01                  Ghana                                 550.0   \n",
      "1996-01-01                 Bhutan                                  30.0   \n",
      "1996-01-01                Bolivia                                 380.0   \n",
      "\n",
      "            Capture fisheries production (metric tons)  \n",
      "new_Year                                                \n",
      "1996-01-01                                       687.0  \n",
      "1996-01-01                                      5729.0  \n",
      "1996-01-01                                    476744.0  \n",
      "1996-01-01                                        70.0  \n",
      "1996-01-01                                      5988.0  \n",
      "\n",
      "\n",
      "+key (Timestamp('1997-01-01 00:00:00'),)\n",
      "+number 225\n",
      "                         Entity  Aquaculture production (metric tons)  \\\n",
      "new_Year                                                                \n",
      "1997-01-01  Upper middle income                            24909920.0   \n",
      "1997-01-01              Vanuatu                                   0.0   \n",
      "1997-01-01                India                             1864322.0   \n",
      "1997-01-01               Canada                               81676.0   \n",
      "1997-01-01             Bulgaria                                5437.0   \n",
      "\n",
      "            Capture fisheries production (metric tons)  \n",
      "new_Year                                                \n",
      "1997-01-01                                  38432804.0  \n",
      "1997-01-01                                     70357.0  \n",
      "1997-01-01                                   3620948.0  \n",
      "1997-01-01                                   1274391.0  \n",
      "1997-01-01                                     11237.0  \n",
      "\n",
      "\n",
      "+key (Timestamp('1998-01-01 00:00:00'),)\n",
      "+number 225\n",
      "                 Entity  Aquaculture production (metric tons)  \\\n",
      "new_Year                                                        \n",
      "1998-01-01      Albania                                 124.0   \n",
      "1998-01-01     Zimbabwe                                 170.0   \n",
      "1998-01-01        India                             1908485.0   \n",
      "1998-01-01  New Zealand                               93807.0   \n",
      "1998-01-01         Oman                                  13.0   \n",
      "\n",
      "            Capture fisheries production (metric tons)  \n",
      "new_Year                                                \n",
      "1998-01-01                                      2683.5  \n",
      "1998-01-01                                     57091.0  \n",
      "1998-01-01                                   3473492.0  \n",
      "1998-01-01                                    648045.1  \n",
      "1998-01-01                                    106171.0  \n",
      "\n",
      "\n",
      "+key (Timestamp('1999-01-01 00:00:00'),)\n",
      "+number 225\n",
      "             Entity  Aquaculture production (metric tons)  \\\n",
      "new_Year                                                    \n",
      "1999-01-01     Iran                               31800.0   \n",
      "1999-01-01   Poland                               33711.0   \n",
      "1999-01-01  Nigeria                               21737.0   \n",
      "1999-01-01   Guinea                                   0.0   \n",
      "1999-01-01     Guam                                 230.0   \n",
      "\n",
      "            Capture fisheries production (metric tons)  \n",
      "new_Year                                                \n",
      "1999-01-01                                    380197.0  \n",
      "1999-01-01                                    235724.0  \n",
      "1999-01-01                                    455628.0  \n",
      "1999-01-01                                     87314.0  \n",
      "1999-01-01                                       324.0  \n",
      "\n",
      "\n",
      "+key (Timestamp('2000-01-01 00:00:00'),)\n",
      "+number 225\n",
      "                              Entity  Aquaculture production (metric tons)  \\\n",
      "new_Year                                                                     \n",
      "2000-01-01  Turks and Caicos Islands                                  15.0   \n",
      "2000-01-01                  Thailand                              738155.0   \n",
      "2000-01-01                 Mauritius                                  87.0   \n",
      "2000-01-01                   Denmark                               43609.0   \n",
      "2000-01-01            American Samoa                                   5.0   \n",
      "\n",
      "            Capture fisheries production (metric tons)  \n",
      "new_Year                                                \n",
      "2000-01-01                                      3688.0  \n",
      "2000-01-01                                   3002069.0  \n",
      "2000-01-01                                      9615.0  \n",
      "2000-01-01                                   1538238.0  \n",
      "2000-01-01                                       846.0  \n",
      "\n",
      "\n",
      "+key (Timestamp('2001-01-01 00:00:00'),)\n",
      "+number 225\n",
      "                           Entity  Aquaculture production (metric tons)  \\\n",
      "new_Year                                                                  \n",
      "2001-01-01       French Polynesia                             932.62396   \n",
      "2001-01-01  Sao Tome and Principe                               0.00000   \n",
      "2001-01-01                Georgia                              80.00000   \n",
      "2001-01-01           Sierra Leone                              30.00000   \n",
      "2001-01-01               Botswana                               0.00000   \n",
      "\n",
      "            Capture fisheries production (metric tons)  \n",
      "new_Year                                                \n",
      "2001-01-01                                     15189.0  \n",
      "2001-01-01                                      3692.0  \n",
      "2001-01-01                                      1636.0  \n",
      "2001-01-01                                     75210.0  \n",
      "2001-01-01                                       270.0  \n",
      "\n",
      "\n",
      "+key (Timestamp('2002-01-01 00:00:00'),)\n",
      "+number 225\n",
      "               Entity  Aquaculture production (metric tons)  \\\n",
      "new_Year                                                      \n",
      "2002-01-01  Greenland                                   0.0   \n",
      "2002-01-01   Colombia                               57160.0   \n",
      "2002-01-01      Macao                                   0.0   \n",
      "2002-01-01     Malawi                                 642.0   \n",
      "2002-01-01    Austria                                2333.0   \n",
      "\n",
      "            Capture fisheries production (metric tons)  \n",
      "new_Year                                                \n",
      "2002-01-01                                    356596.0  \n",
      "2002-01-01                                    665378.0  \n",
      "2002-01-01                                      1500.0  \n",
      "2002-01-01                                     41389.0  \n",
      "2002-01-01                                       350.0  \n",
      "\n",
      "\n",
      "+key (Timestamp('2003-01-01 00:00:00'),)\n",
      "+number 225\n",
      "                      Entity  Aquaculture production (metric tons)  \\\n",
      "new_Year                                                             \n",
      "2003-01-01       New Zealand                               84641.0   \n",
      "2003-01-01             Kenya                                1012.0   \n",
      "2003-01-01         Mauritius                                  33.0   \n",
      "2003-01-01             Spain                              268279.0   \n",
      "2003-01-01  Marshall Islands                                   0.0   \n",
      "\n",
      "            Capture fisheries production (metric tons)  \n",
      "new_Year                                                \n",
      "2003-01-01                                    550962.0  \n",
      "2003-01-01                                    124343.0  \n",
      "2003-01-01                                     11086.0  \n",
      "2003-01-01                                    889683.4  \n",
      "2003-01-01                                     38885.0  \n",
      "\n",
      "\n",
      "+key (Timestamp('2004-01-01 00:00:00'),)\n",
      "+number 225\n",
      "                           Entity  Aquaculture production (metric tons)  \\\n",
      "new_Year                                                                  \n",
      "2004-01-01          New Caledonia                                2290.0   \n",
      "2004-01-01                Hungary                               12744.0   \n",
      "2004-01-01  Saint Kitts and Nevis                                   1.0   \n",
      "2004-01-01            High income                             6183697.0   \n",
      "2004-01-01    Trinidad and Tobago                                  25.5   \n",
      "\n",
      "            Capture fisheries production (metric tons)  \n",
      "new_Year                                                \n",
      "2004-01-01                                      3853.0  \n",
      "2004-01-01                                      7242.0  \n",
      "2004-01-01                                      1111.0  \n",
      "2004-01-01                                  32338854.0  \n",
      "2004-01-01                                     14713.0  \n",
      "\n",
      "\n",
      "+key (Timestamp('2005-01-01 00:00:00'),)\n",
      "+number 225\n",
      "                   Entity  Aquaculture production (metric tons)  \\\n",
      "new_Year                                                          \n",
      "2005-01-01          Syria                                8533.0   \n",
      "2005-01-01        Vietnam                             1452300.0   \n",
      "2005-01-01  New Caledonia                                2533.0   \n",
      "2005-01-01   Saudi Arabia                               14375.0   \n",
      "2005-01-01          Tonga                                  81.0   \n",
      "\n",
      "            Capture fisheries production (metric tons)  \n",
      "new_Year                                                \n",
      "2005-01-01                                      8447.0  \n",
      "2005-01-01                                   1991276.0  \n",
      "2005-01-01                                      3467.0  \n",
      "2005-01-01                                     60421.0  \n",
      "2005-01-01                                      2566.0  \n",
      "\n",
      "\n",
      "+key (Timestamp('2006-01-01 00:00:00'),)\n",
      "+number 227\n",
      "                Entity  Aquaculture production (metric tons)  \\\n",
      "new_Year                                                       \n",
      "2006-01-01     Bolivia                                 455.0   \n",
      "2006-01-01   Argentina                                2528.0   \n",
      "2006-01-01     Somalia                                   0.0   \n",
      "2006-01-01       World                            61591980.0   \n",
      "2006-01-01  Uzbekistan                                3800.0   \n",
      "\n",
      "            Capture fisheries production (metric tons)  \n",
      "new_Year                                                \n",
      "2006-01-01                                     50523.0  \n",
      "2006-01-01                                   1176616.0  \n",
      "2006-01-01                                     30000.0  \n",
      "2006-01-01                                  91237780.0  \n",
      "2006-01-01                                      3400.0  \n",
      "\n",
      "\n",
      "+key (Timestamp('2007-01-01 00:00:00'),)\n",
      "+number 228\n",
      "                         Entity  Aquaculture production (metric tons)  \\\n",
      "new_Year                                                                \n",
      "2007-01-01        Guinea-Bissau                          0.000000e+00   \n",
      "2007-01-01  Lower middle income                          1.339833e+07   \n",
      "2007-01-01               Rwanda                          6.020000e+01   \n",
      "2007-01-01     French Polynesia                          2.255192e+03   \n",
      "2007-01-01              Ecuador                          1.710200e+05   \n",
      "\n",
      "            Capture fisheries production (metric tons)  \n",
      "new_Year                                                \n",
      "2007-01-01                                      6500.0  \n",
      "2007-01-01                                  24369554.0  \n",
      "2007-01-01                                      9186.0  \n",
      "2007-01-01                                     13177.0  \n",
      "2007-01-01                                    408926.0  \n",
      "\n",
      "\n",
      "+key (Timestamp('2008-01-01 00:00:00'),)\n",
      "+number 228\n",
      "                Entity  Aquaculture production (metric tons)  \\\n",
      "new_Year                                                       \n",
      "2008-01-01     Andorra                                 0.000   \n",
      "2008-01-01    Cameroon                               546.000   \n",
      "2008-01-01     Iceland                              5098.000   \n",
      "2008-01-01  Azerbaijan                              1000.000   \n",
      "2008-01-01      Kuwait                               291.215   \n",
      "\n",
      "            Capture fisheries production (metric tons)  \n",
      "new_Year                                                \n",
      "2008-01-01                                         0.0  \n",
      "2008-01-01                                    155300.0  \n",
      "2008-01-01                                   1306719.0  \n",
      "2008-01-01                                      1524.0  \n",
      "2008-01-01                                      3979.0  \n",
      "\n",
      "\n",
      "+key (Timestamp('2009-01-01 00:00:00'),)\n",
      "+number 228\n",
      "                             Entity  Aquaculture production (metric tons)  \\\n",
      "new_Year                                                                    \n",
      "2009-01-01                  Bolivia                                 775.0   \n",
      "2009-01-01  Sub-Saharan Africa (WB)                              286889.0   \n",
      "2009-01-01                  Andorra                                   0.0   \n",
      "2009-01-01      Antigua and Barbuda                                   0.0   \n",
      "2009-01-01                  Vietnam                             2571080.0   \n",
      "\n",
      "            Capture fisheries production (metric tons)  \n",
      "new_Year                                                \n",
      "2009-01-01                                     35453.0  \n",
      "2009-01-01                                   5846867.0  \n",
      "2009-01-01                                         0.0  \n",
      "2009-01-01                                      2416.0  \n",
      "2009-01-01                                   2187883.0  \n",
      "\n",
      "\n",
      "+key (Timestamp('2010-01-01 00:00:00'),)\n",
      "+number 228\n",
      "                 Entity  Aquaculture production (metric tons)  \\\n",
      "new_Year                                                        \n",
      "2010-01-01      Bahamas                                   1.0   \n",
      "2010-01-01       Turkey                              167721.0   \n",
      "2010-01-01        Benin                                 364.0   \n",
      "2010-01-01    Palestine                                 280.0   \n",
      "2010-01-01  Switzerland                                1261.0   \n",
      "\n",
      "            Capture fisheries production (metric tons)  \n",
      "new_Year                                                \n",
      "2010-01-01                                    16342.44  \n",
      "2010-01-01                                   485925.00  \n",
      "2010-01-01                                    39791.00  \n",
      "2010-01-01                                     1699.00  \n",
      "2010-01-01                                     2101.00  \n",
      "\n",
      "\n",
      "+key (Timestamp('2011-01-01 00:00:00'),)\n",
      "+number 230\n",
      "                 Entity  Aquaculture production (metric tons)  \\\n",
      "new_Year                                                        \n",
      "2011-01-01      Algeria                               2245.77   \n",
      "2011-01-01  South Korea                            1499335.00   \n",
      "2011-01-01     Colombia                              83681.00   \n",
      "2011-01-01         Peru                              92200.35   \n",
      "2011-01-01    Hong Kong                               3438.00   \n",
      "\n",
      "            Capture fisheries production (metric tons)  \n",
      "new_Year                                                \n",
      "2011-01-01                                    101815.0  \n",
      "2011-01-01                                   1757763.0  \n",
      "2011-01-01                                    727586.0  \n",
      "2011-01-01                                   8254957.0  \n",
      "2011-01-01                                    170720.0  \n",
      "\n",
      "\n",
      "+key (Timestamp('2012-01-01 00:00:00'),)\n",
      "+number 231\n",
      "                Entity  Aquaculture production (metric tons)  \\\n",
      "new_Year                                                       \n",
      "2012-01-01   Hong Kong                                4093.0   \n",
      "2012-01-01  Mauritania                                   0.0   \n",
      "2012-01-01        Laos                              101895.0   \n",
      "2012-01-01        Cuba                               26179.2   \n",
      "2012-01-01        Oman                                 168.0   \n",
      "\n",
      "            Capture fisheries production (metric tons)  \n",
      "new_Year                                                \n",
      "2012-01-01                                    155230.0  \n",
      "2012-01-01                                    437709.0  \n",
      "2012-01-01                                     34106.0  \n",
      "2012-01-01                                     22320.0  \n",
      "2012-01-01                                    191563.0  \n",
      "\n",
      "\n",
      "+key (Timestamp('2013-01-01 00:00:00'),)\n",
      "+number 231\n",
      "                              Entity  Aquaculture production (metric tons)  \\\n",
      "new_Year                                                                     \n",
      "2013-01-01                   Belarus                               13548.0   \n",
      "2013-01-01     Saint Kitts and Nevis                                   1.0   \n",
      "2013-01-01  Northern Mariana Islands                                  31.0   \n",
      "2013-01-01               North Korea                              511675.0   \n",
      "2013-01-01        North America (WB)                              597026.0   \n",
      "\n",
      "            Capture fisheries production (metric tons)  \n",
      "new_Year                                                \n",
      "2013-01-01                                       697.0  \n",
      "2013-01-01                                     17717.0  \n",
      "2013-01-01                                       942.0  \n",
      "2013-01-01                                    209000.0  \n",
      "2013-01-01                                   6566280.0  \n",
      "\n",
      "\n",
      "+key (Timestamp('2014-01-01 00:00:00'),)\n",
      "+number 231\n",
      "                              Entity  Aquaculture production (metric tons)  \\\n",
      "new_Year                                                                     \n",
      "2014-01-01  Central African Republic                                180.00   \n",
      "2014-01-01  Turks and Caicos Islands                                  0.50   \n",
      "2014-01-01                    Latvia                                686.28   \n",
      "2014-01-01                      Chad                                 60.00   \n",
      "2014-01-01               Afghanistan                               4760.00   \n",
      "\n",
      "            Capture fisheries production (metric tons)  \n",
      "new_Year                                                \n",
      "2014-01-01                                     29000.0  \n",
      "2014-01-01                                      1469.0  \n",
      "2014-01-01                                    119536.0  \n",
      "2014-01-01                                    120020.0  \n",
      "2014-01-01                                      1600.0  \n",
      "\n",
      "\n",
      "+key (Timestamp('2015-01-01 00:00:00'),)\n",
      "+number 231\n",
      "                             Entity  Aquaculture production (metric tons)  \\\n",
      "new_Year                                                                    \n",
      "2015-01-01                    Nepal                             48000.000   \n",
      "2015-01-01                  Estonia                               798.700   \n",
      "2015-01-01               Uzbekistan                             36896.402   \n",
      "2015-01-01                    Aruba                                 0.000   \n",
      "2015-01-01  Sub-Saharan Africa (WB)                            609942.000   \n",
      "\n",
      "            Capture fisheries production (metric tons)  \n",
      "new_Year                                                \n",
      "2015-01-01                                     21500.0  \n",
      "2015-01-01                                     73616.0  \n",
      "2015-01-01                                     22956.0  \n",
      "2015-01-01                                       150.0  \n",
      "2015-01-01                                   7172001.0  \n",
      "\n",
      "\n",
      "+key (Timestamp('2016-01-01 00:00:00'),)\n",
      "+number 230\n",
      "                Entity  Aquaculture production (metric tons)  \\\n",
      "new_Year                                                       \n",
      "2016-01-01       Benin                                4207.0   \n",
      "2016-01-01        Iran                              398129.0   \n",
      "2016-01-01       Niger                                 300.0   \n",
      "2016-01-01     Jamaica                                 947.0   \n",
      "2016-01-01  Seychelles                                   0.0   \n",
      "\n",
      "            Capture fisheries production (metric tons)  \n",
      "new_Year                                                \n",
      "2016-01-01                                     49806.0  \n",
      "2016-01-01                                    689722.0  \n",
      "2016-01-01                                     34592.0  \n",
      "2016-01-01                                     16800.0  \n",
      "2016-01-01                                    127128.0  \n",
      "\n",
      "\n",
      "+key (Timestamp('2017-01-01 00:00:00'),)\n",
      "+number 229\n",
      "                    Entity  Aquaculture production (metric tons)  \\\n",
      "new_Year                                                           \n",
      "2017-01-01      East Timor                                1600.0   \n",
      "2017-01-01         Tunisia                               21930.0   \n",
      "2017-01-01       Indonesia                            16118238.0   \n",
      "2017-01-01  American Samoa                                  20.0   \n",
      "2017-01-01          Russia                              186544.0   \n",
      "\n",
      "            Capture fisheries production (metric tons)  \n",
      "new_Year                                                \n",
      "2017-01-01                                      3200.0  \n",
      "2017-01-01                                    108813.0  \n",
      "2017-01-01                                   6790477.5  \n",
      "2017-01-01                                      4042.0  \n",
      "2017-01-01                                   4884529.0  \n",
      "\n",
      "\n",
      "+key (Timestamp('2018-01-01 00:00:00'),)\n",
      "+number 229\n",
      "                              Entity  Aquaculture production (metric tons)  \\\n",
      "new_Year                                                                     \n",
      "2018-01-01                 Indonesia                            14772104.0   \n",
      "2018-01-01                Cape Verde                                   0.0   \n",
      "2018-01-01            Cayman Islands                                   0.0   \n",
      "2018-01-01  Central African Republic                                 190.0   \n",
      "2018-01-01               North Korea                              629060.0   \n",
      "\n",
      "            Capture fisheries production (metric tons)  \n",
      "new_Year                                                \n",
      "2018-01-01                                   7270238.0  \n",
      "2018-01-01                                     26586.0  \n",
      "2018-01-01                                       125.0  \n",
      "2018-01-01                                     29000.0  \n",
      "2018-01-01                                    208700.0  \n",
      "\n",
      "\n"
     ]
    }
   ],
   "source": [
    "for key,group in g:\n",
    "    print('+key',key)\n",
    "    print('+number',len(group))\n",
    "    print(group.head())\n",
    "    print('\\n')"
   ]
  },
  {
   "cell_type": "markdown",
   "metadata": {},
   "source": [
    "* Line 1\n",
    "    - print the contents of the g object using a loop."
   ]
  },
  {
   "cell_type": "markdown",
   "metadata": {},
   "source": [
    "##### Step 4\n",
    "visulize global data"
   ]
  },
  {
   "cell_type": "code",
   "execution_count": 131,
   "metadata": {},
   "outputs": [
    {
     "data": {
      "text/html": [
       "<div>\n",
       "<style scoped>\n",
       "    .dataframe tbody tr th:only-of-type {\n",
       "        vertical-align: middle;\n",
       "    }\n",
       "\n",
       "    .dataframe tbody tr th {\n",
       "        vertical-align: top;\n",
       "    }\n",
       "\n",
       "    .dataframe thead th {\n",
       "        text-align: right;\n",
       "    }\n",
       "</style>\n",
       "<table border=\"1\" class=\"dataframe\">\n",
       "  <thead>\n",
       "    <tr style=\"text-align: right;\">\n",
       "      <th></th>\n",
       "      <th>Entity</th>\n",
       "      <th>Aquaculture production (metric tons)</th>\n",
       "      <th>Capture fisheries production (metric tons)</th>\n",
       "    </tr>\n",
       "    <tr>\n",
       "      <th>new_Year</th>\n",
       "      <th></th>\n",
       "      <th></th>\n",
       "      <th></th>\n",
       "    </tr>\n",
       "  </thead>\n",
       "  <tbody>\n",
       "    <tr>\n",
       "      <th>1960-01-01</th>\n",
       "      <td>Cayman IslandsBahrainNorth KoreaNorthern Maria...</td>\n",
       "      <td>10977127.0</td>\n",
       "      <td>161077154.0</td>\n",
       "    </tr>\n",
       "    <tr>\n",
       "      <th>1961-01-01</th>\n",
       "      <td>IraqPolandBurkina FasoNorth KoreaUpper middle ...</td>\n",
       "      <td>10322252.0</td>\n",
       "      <td>180573888.0</td>\n",
       "    </tr>\n",
       "    <tr>\n",
       "      <th>1962-01-01</th>\n",
       "      <td>Middle East and North Africa (WB)MyanmarLower ...</td>\n",
       "      <td>10628086.0</td>\n",
       "      <td>198022581.0</td>\n",
       "    </tr>\n",
       "    <tr>\n",
       "      <th>1963-01-01</th>\n",
       "      <td>MacaoBruneiBarbadosPapua New GuineaLiberiaMala...</td>\n",
       "      <td>11882700.0</td>\n",
       "      <td>201874864.1</td>\n",
       "    </tr>\n",
       "    <tr>\n",
       "      <th>1964-01-01</th>\n",
       "      <td>MozambiqueBotswanaMoroccoVanuatuHong KongMaldi...</td>\n",
       "      <td>12981280.0</td>\n",
       "      <td>226019748.1</td>\n",
       "    </tr>\n",
       "  </tbody>\n",
       "</table>\n",
       "</div>"
      ],
      "text/plain": [
       "                                                       Entity  \\\n",
       "new_Year                                                        \n",
       "1960-01-01  Cayman IslandsBahrainNorth KoreaNorthern Maria...   \n",
       "1961-01-01  IraqPolandBurkina FasoNorth KoreaUpper middle ...   \n",
       "1962-01-01  Middle East and North Africa (WB)MyanmarLower ...   \n",
       "1963-01-01  MacaoBruneiBarbadosPapua New GuineaLiberiaMala...   \n",
       "1964-01-01  MozambiqueBotswanaMoroccoVanuatuHong KongMaldi...   \n",
       "\n",
       "            Aquaculture production (metric tons)  \\\n",
       "new_Year                                           \n",
       "1960-01-01                            10977127.0   \n",
       "1961-01-01                            10322252.0   \n",
       "1962-01-01                            10628086.0   \n",
       "1963-01-01                            11882700.0   \n",
       "1964-01-01                            12981280.0   \n",
       "\n",
       "            Capture fisheries production (metric tons)  \n",
       "new_Year                                                \n",
       "1960-01-01                                 161077154.0  \n",
       "1961-01-01                                 180573888.0  \n",
       "1962-01-01                                 198022581.0  \n",
       "1963-01-01                                 201874864.1  \n",
       "1964-01-01                                 226019748.1  "
      ]
     },
     "execution_count": 131,
     "metadata": {},
     "output_type": "execute_result"
    }
   ],
   "source": [
    "world_total = g.sum()\n",
    "world_total.head()"
   ]
  },
  {
   "cell_type": "code",
   "execution_count": 133,
   "metadata": {},
   "outputs": [
    {
     "data": {
      "image/png": "[encoded data removed]",
      "text/plain": [
       "<Figure size 2000x1000 with 1 Axes>"
      ]
     },
     "metadata": {},
     "output_type": "display_data"
    }
   ],
   "source": [
    "plt.style.use('ggplot')\n",
    "world_total.plot(kind = 'area',\n",
    "                alpha = 0.2,\n",
    "                stacked = False,\n",
    "                figsize = (20,10))\n",
    "plt.legend()\n",
    "plt.show()"
   ]
  },
  {
   "cell_type": "markdown",
   "metadata": {},
   "source": [
    "##### Step 5\n",
    "* Let's search for a specific country name and visulize it. you can do this easily if you remeber the practice of seaching for artist names in the DataFrame lecture."
   ]
  },
  {
   "cell_type": "code",
   "execution_count": 136,
   "metadata": {},
   "outputs": [
    {
     "name": "stdout",
     "output_type": "stream",
     "text": [
      "Entity\n",
      "Cayman Islands                  59\n",
      "Burkina Faso                    59\n",
      "Equatorial Guinea               59\n",
      "Ethiopia                        59\n",
      "Europe and Central Asia (WB)    59\n",
      "                                ..\n",
      "Montenegro                      13\n",
      "Saint Martin (French part)      12\n",
      "Sint Maarten (Dutch part)        8\n",
      "Curacao                          8\n",
      "South Sudan                      7\n",
      "Name: count, Length: 231, dtype: int64\n",
      "Datatype = > <class 'pandas.core.series.Series'>\n"
     ]
    }
   ],
   "source": [
    "country = new_df['Entity'].value_counts()\n",
    "print(country)\n",
    "print('Datatype = >',type(country))"
   ]
  },
  {
   "cell_type": "code",
   "execution_count": 137,
   "metadata": {},
   "outputs": [
    {
     "data": {
      "text/plain": [
       "True"
      ]
     },
     "execution_count": 137,
     "metadata": {},
     "output_type": "execute_result"
    }
   ],
   "source": [
    "'South Korea' in country"
   ]
  },
  {
   "cell_type": "markdown",
   "metadata": {},
   "source": [
    "* Line 1 \n",
    "    - If it is True when the country name you want is searched , it means that there is data for country."
   ]
  },
  {
   "cell_type": "markdown",
   "metadata": {},
   "source": [
    "*  Search for 3 or more countries with different cultural and geographic requirements, visualize and get data insights."
   ]
  },
  {
   "cell_type": "code",
   "execution_count": 138,
   "metadata": {},
   "outputs": [],
   "source": [
    "s = new_df.loc[new_df['Entity']=='South Korea']\n",
    "c = new_df.loc[new_df['Entity']=='China']\n",
    "a = new_df.loc[new_df['Entity']=='Afghanistan']"
   ]
  },
  {
   "cell_type": "markdown",
   "metadata": {},
   "source": [
    "* Line 1, 2 , 3\n",
    "    - 1 : Create a seprated data frame after cearching for the country name you want in the series data created eariler.\n",
    "    - 2 : Create a seprated data frame after cearching for the country name you want in the series data created eariler.\n",
    "    - 3 : Create a seprated data frame after cearching for the country name you want in the series data created eariler."
   ]
  },
  {
   "cell_type": "code",
   "execution_count": 142,
   "metadata": {},
   "outputs": [],
   "source": [
    "s_y = s[['Aquaculture production (metric tons)','Capture fisheries production (metric tons)']]\n",
    "s_x = s.index\n",
    "c_y = c[['Aquaculture production (metric tons)','Capture fisheries production (metric tons)']]\n",
    "c_x = c.index\n",
    "a_y = a[['Aquaculture production (metric tons)','Capture fisheries production (metric tons)']]\n",
    "a_x = a.index"
   ]
  },
  {
   "cell_type": "code",
   "execution_count": 146,
   "metadata": {},
   "outputs": [
    {
     "data": {
      "text/plain": [
       "Text(0.5, 0.98, 'Fish Production')"
      ]
     },
     "execution_count": 146,
     "metadata": {},
     "output_type": "execute_result"
    },
    {
     "data": {
      "image/png": "[encoded data removed]",
      "text/plain": [
       "<Figure size 1500x500 with 3 Axes>"
      ]
     },
     "metadata": {},
     "output_type": "display_data"
    }
   ],
   "source": [
    "import matplotlib.pyplot as plt \n",
    "fig, axs = plt.subplots(1, 3, figsize = (15,5))\n",
    "\n",
    "axs[0].plot(s_x,s_y)\n",
    "axs[1].plot(c_x,c_y)\n",
    "axs[2].plot(a_x,a_y)\n",
    "\n",
    "fig.suptitle('Fish Production')"
   ]
  },
  {
   "cell_type": "code",
   "execution_count": null,
   "metadata": {},
   "outputs": [],
   "source": []
  }
 ],
 "metadata": {
  "kernelspec": {
   "display_name": "Python 3 (ipykernel)",
   "language": "python",
   "name": "python3"
  },
  "language_info": {
   "codemirror_mode": {
    "name": "ipython",
    "version": 3
   },
   "file_extension": ".py",
   "mimetype": "text/x-python",
   "name": "python",
   "nbconvert_exporter": "python",
   "pygments_lexer": "ipython3",
   "version": "3.8.18"
  }
 },
 "nbformat": 4,
 "nbformat_minor": 4
}
