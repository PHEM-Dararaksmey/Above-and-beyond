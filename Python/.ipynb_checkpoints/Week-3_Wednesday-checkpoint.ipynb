{
 "cells": [
  {
   "cell_type": "markdown",
   "id": "6a538a17",
   "metadata": {},
   "source": [
    "## Wednesday,Feb 14 \n",
    "Time : 8:AM - 11AM (complete the lession 13)\n",
    "Time : 11:00AM - 5:00(Lession 14)"
   ]
  },
  {
   "cell_type": "markdown",
   "id": "b58b9ac0",
   "metadata": {},
   "source": [
    "#### 1.Review of dictionary methods\n",
    "##### 1.1 items method "
   ]
  },
  {
   "cell_type": "code",
   "execution_count": 7,
   "id": "d0f08a3a",
   "metadata": {},
   "outputs": [],
   "source": [
    "phone_book = {'David Doe':\"010-1234-56780\",\"John Smith\":\"010-1234-5679\",\"Jane Carter\":\"10-1234-5680\"}"
   ]
  },
  {
   "cell_type": "code",
   "execution_count": 8,
   "id": "d9d81aaf",
   "metadata": {},
   "outputs": [
    {
     "data": {
      "text/plain": [
       "dict_items([('David Doe', '010-1234-56780'), ('John Smith', '010-1234-5679'), ('Jane Carter', '10-1234-5680')])"
      ]
     },
     "execution_count": 8,
     "metadata": {},
     "output_type": "execute_result"
    }
   ],
   "source": [
    "phone_book.items()"
   ]
  },
  {
   "cell_type": "code",
   "execution_count": 9,
   "id": "d24645e2",
   "metadata": {},
   "outputs": [
    {
     "name": "stdout",
     "output_type": "stream",
     "text": [
      "David Doe : 010-1234-56780\n",
      "John Smith : 010-1234-5679\n",
      "Jane Carter : 10-1234-5680\n"
     ]
    }
   ],
   "source": [
    "for name,phone_num in phone_book.items():\n",
    "    print(name,':',phone_num)"
   ]
  },
  {
   "cell_type": "markdown",
   "id": "db3872ad",
   "metadata": {},
   "source": [
    "##### 1.1 items method \n",
    "<li> The keys method retrieves all the keys of the dictionary \n",
    "    <li> In a list you can find items using index, but in a dictionary, you need keys ot find values\n",
    "    <li>To print all the keys used in adictionry , use te keys method as follows"
   ]
  },
  {
   "cell_type": "code",
   "execution_count": 10,
   "id": "d8e480b4",
   "metadata": {},
   "outputs": [
    {
     "data": {
      "text/plain": [
       "dict_keys(['David Doe', 'John Smith', 'Jane Carter'])"
      ]
     },
     "execution_count": 10,
     "metadata": {},
     "output_type": "execute_result"
    }
   ],
   "source": [
    "phone_book.keys()"
   ]
  },
  {
   "cell_type": "markdown",
   "id": "1cd50bba",
   "metadata": {},
   "source": [
    "##### 1.2  values method \n",
    "<li> The values method retrieves all the values of the dictionary "
   ]
  },
  {
   "cell_type": "code",
   "execution_count": 12,
   "id": "0330ccce",
   "metadata": {},
   "outputs": [
    {
     "data": {
      "text/plain": [
       "dict_values(['010-1234-56780', '010-1234-5679', '10-1234-5680'])"
      ]
     },
     "execution_count": 12,
     "metadata": {},
     "output_type": "execute_result"
    }
   ],
   "source": [
    "phone_book.values()"
   ]
  },
  {
   "cell_type": "markdown",
   "id": "0870db14",
   "metadata": {},
   "source": [
    "#### 2.Printng a dictionary using loops \n",
    "##### 2.1 Output using a statment and itmes method "
   ]
  },
  {
   "cell_type": "code",
   "execution_count": 13,
   "id": "b3ffdadb",
   "metadata": {},
   "outputs": [
    {
     "name": "stdout",
     "output_type": "stream",
     "text": [
      "a b c d "
     ]
    }
   ],
   "source": [
    "x = {'a':10 ,'b':20,'c':30,'d':40}\n",
    "for i in x :\n",
    "    print(i,end=\" \")"
   ]
  },
  {
   "cell_type": "code",
   "execution_count": 16,
   "id": "aa3a26d3",
   "metadata": {},
   "outputs": [
    {
     "name": "stdout",
     "output_type": "stream",
     "text": [
      "a 10 b 20 c 30 d 40 "
     ]
    }
   ],
   "source": [
    "x = {'a':10 ,'b':20,'c':30,'d':40}\n",
    "for keys, value in x.items() :\n",
    "    print(keys,end=\" \")\n",
    "    print(value,end=\" \")"
   ]
  },
  {
   "cell_type": "markdown",
   "id": "5ecfa87b",
   "metadata": {},
   "source": [
    "##### 2.2 Output using a for statment and the keys method "
   ]
  },
  {
   "cell_type": "code",
   "execution_count": 23,
   "id": "ef9b666b",
   "metadata": {},
   "outputs": [
    {
     "name": "stdout",
     "output_type": "stream",
     "text": [
      "a b c d "
     ]
    }
   ],
   "source": [
    "x = {'a':10 ,'b':20,'c':30,'d':40}\n",
    "for keys in x.keys() :\n",
    "    print(keys,end=\" \")"
   ]
  },
  {
   "cell_type": "markdown",
   "id": "622948c7",
   "metadata": {},
   "source": [
    "##### 2.3 Output using a for statment and the values method "
   ]
  },
  {
   "cell_type": "code",
   "execution_count": 21,
   "id": "1ac00bde",
   "metadata": {},
   "outputs": [
    {
     "name": "stdout",
     "output_type": "stream",
     "text": [
      "10 20 30 40 "
     ]
    }
   ],
   "source": [
    "x = {'a':10 ,'b':20,'c':30,'d':40}\n",
    "for value in x.values() :\n",
    "    print(value,end=\" \")"
   ]
  },
  {
   "cell_type": "markdown",
   "id": "94870436",
   "metadata": {},
   "source": [
    "#### 3.Dictionary methods\n",
    "##### 3.1 The setdefault methods"
   ]
  },
  {
   "cell_type": "code",
   "execution_count": 25,
   "id": "1bd6f9a9",
   "metadata": {},
   "outputs": [
    {
     "name": "stdout",
     "output_type": "stream",
     "text": [
      "alphabet counting: {'a': 2, 'b': 2, 'c': 2, 'd': 1, 'e': 1}\n"
     ]
    }
   ],
   "source": [
    "str1 =['a','b','c','d','e','a','b','c']\n",
    "dic = {}\n",
    "for ch in str1:\n",
    "    if ch not in dic.keys():\n",
    "        dic[ch]=0\n",
    "    dic[ch] +=1 \n",
    "\n",
    "print(\"alphabet counting:\",dic)"
   ]
  },
  {
   "cell_type": "code",
   "execution_count": 26,
   "id": "7b5d7927",
   "metadata": {},
   "outputs": [
    {
     "name": "stdout",
     "output_type": "stream",
     "text": [
      "[('a', 1)]\n",
      "[('a', 1), ('b', 1)]\n",
      "[('a', 1), ('b', 1), ('c', 1)]\n",
      "[('a', 1), ('b', 1), ('c', 1), ('d', 1)]\n",
      "[('a', 1), ('b', 1), ('c', 1), ('d', 1), ('e', 1)]\n",
      "[('a', 2), ('b', 1), ('c', 1), ('d', 1), ('e', 1)]\n",
      "[('a', 2), ('b', 2), ('c', 1), ('d', 1), ('e', 1)]\n",
      "[('a', 2), ('b', 2), ('c', 2), ('d', 1), ('e', 1)]\n",
      "alphabet counting: {'a': 2, 'b': 2, 'c': 2, 'd': 1, 'e': 1}\n"
     ]
    }
   ],
   "source": [
    "str1 =['a','b','c','d','e','a','b','c']\n",
    "dic = {}\n",
    "for ch in str1:\n",
    "    dic.setdefault(ch,0) # The setdefault returns the key if it exists,otherwise it returns the second argument\n",
    "    dic[ch] +=1 \n",
    "    print(list(dic.items()))\n",
    "    # The print statment in the for statment block shows how the values of the key changes as each \n",
    "    # alphabet character is inputted\n",
    "\n",
    "print(\"alphabet counting:\",dic)"
   ]
  },
  {
   "cell_type": "code",
   "execution_count": 28,
   "id": "3d014715",
   "metadata": {},
   "outputs": [
    {
     "name": "stdout",
     "output_type": "stream",
     "text": [
      "{'a': 10, 'b': 20, 'c': 30, 'd': 40}\n",
      "{'a': 10, 'b': 20, 'c': 30, 'd': 40, 'f': 50}\n"
     ]
    }
   ],
   "source": [
    "# we can using the setdefault method to add value in dic\n",
    "dic = {'a':10,'b':20,\"c\":30,\"d\":40}\n",
    "dic.setdefault('f',50)\n",
    "print(dic)"
   ]
  },
  {
   "cell_type": "markdown",
   "id": "7ee06ac6",
   "metadata": {},
   "source": [
    "#### 4.Function of the Dictionary data types \n",
    "##### 4.1 The formkeys function "
   ]
  },
  {
   "cell_type": "code",
   "execution_count": 30,
   "id": "9323fa43",
   "metadata": {},
   "outputs": [
    {
     "data": {
      "text/plain": [
       "{'a': None, 'b': None, 'c': None, 'd': None}"
      ]
     },
     "execution_count": 30,
     "metadata": {},
     "output_type": "execute_result"
    }
   ],
   "source": [
    "keys = ['a','b','c','d']\n",
    "x = dic.fromkeys(keys) #when the list of keys is pased to dict.fromkeys, a dictionary is created\n",
    "x "
   ]
  },
  {
   "cell_type": "code",
   "execution_count": 32,
   "id": "3fe87dc0",
   "metadata": {},
   "outputs": [
    {
     "data": {
      "text/plain": [
       "{'a': None, 'b': None, 'c': None, 'd': None}"
      ]
     },
     "execution_count": 32,
     "metadata": {},
     "output_type": "execute_result"
    }
   ],
   "source": [
    "#create a dic form tuple\n",
    "keys = ('a','b','c','d')\n",
    "x = dic.fromkeys(keys) #when the list of keys is pased to dict.fromkeys, a dictionary is created\n",
    "x \n",
    "\n",
    "#syntax \n",
    "#dic.fromkeys(key list,value)"
   ]
  },
  {
   "cell_type": "code",
   "execution_count": 33,
   "id": "2fc35ca4",
   "metadata": {},
   "outputs": [
    {
     "data": {
      "text/plain": [
       "{'a': 100, 'b': 100, 'c': 100, 'd': 100}"
      ]
     },
     "execution_count": 33,
     "metadata": {},
     "output_type": "execute_result"
    }
   ],
   "source": [
    "y = dict.fromkeys(keys,100)\n",
    "y"
   ]
  },
  {
   "cell_type": "markdown",
   "id": "dc407841",
   "metadata": {},
   "source": [
    "![alt text](images/Lession%2014/14.4.1.png)"
   ]
  },
  {
   "cell_type": "markdown",
   "id": "ee404426",
   "metadata": {},
   "source": [
    "#### 5.Nested Dictionary \n",
    "##### 5.1 The formkeys function "
   ]
  },
  {
   "cell_type": "markdown",
   "id": "8a79d90b",
   "metadata": {},
   "source": [
    "![alt text](images/Lession%2014/14.5.1.png)"
   ]
  },
  {
   "cell_type": "markdown",
   "id": "7affbcbf",
   "metadata": {},
   "source": [
    "##### 5.2 Example code of a dirctionary inside a dictionary "
   ]
  },
  {
   "cell_type": "code",
   "execution_count": 36,
   "id": "cb1f6c42",
   "metadata": {},
   "outputs": [
    {
     "name": "stdout",
     "output_type": "stream",
     "text": [
      "6051.8\n"
     ]
    }
   ],
   "source": [
    "terrestrial_planet ={\n",
    "    'Mercury':{\n",
    "        'mean_radius':2439.7,\n",
    "        'mass':3.3022E+23,\n",
    "        'orbital_period':87.969\n",
    "    },\n",
    "    'Venus':{\n",
    "        'mean_radius':6051.8,\n",
    "        'mass':4.8676E+24,\n",
    "        'orbital_period':224.70069\n",
    "    },\n",
    "    'Earth':{\n",
    "        'mean_radius':6051.8,\n",
    "        'mass':5.97219E+24,\n",
    "        'orbital_period':365.25641\n",
    "    },\n",
    "    'Mars':{\n",
    "        'mean_radius':2439.7,\n",
    "        'mass':3.3022E+23,\n",
    "        'orbital_period':87.969\n",
    "    }\n",
    "}\n",
    "print(terrestrial_planet['Venus']['mean_radius'])"
   ]
  },
  {
   "cell_type": "markdown",
   "id": "4050f076",
   "metadata": {},
   "source": [
    "#### 6.Assignment and copying of dictionary\n",
    "##### 6.1 Assignment results in reference"
   ]
  },
  {
   "cell_type": "code",
   "execution_count": 37,
   "id": "d6353b0f",
   "metadata": {},
   "outputs": [],
   "source": [
    "x = {'a':0,'b':0,'c':0,'d':0}\n",
    "y = x"
   ]
  },
  {
   "cell_type": "code",
   "execution_count": 38,
   "id": "2ca9e593",
   "metadata": {},
   "outputs": [
    {
     "data": {
      "text/plain": [
       "True"
      ]
     },
     "execution_count": 38,
     "metadata": {},
     "output_type": "execute_result"
    }
   ],
   "source": [
    "x is y"
   ]
  },
  {
   "cell_type": "markdown",
   "id": "f546772a",
   "metadata": {},
   "source": [
    "![alt text](images/Lession%2014/14.6.1.png)"
   ]
  },
  {
   "cell_type": "markdown",
   "id": "1151236f",
   "metadata": {},
   "source": [
    "Focus: <br>\n",
    "thought the variable name are different,they point to the same object, so when the value of one variable changes the value of the other variable also changes"
   ]
  },
  {
   "cell_type": "code",
   "execution_count": 40,
   "id": "3f11e213",
   "metadata": {},
   "outputs": [],
   "source": [
    "y['a'] = 99"
   ]
  },
  {
   "cell_type": "code",
   "execution_count": 41,
   "id": "bfe057be",
   "metadata": {},
   "outputs": [
    {
     "data": {
      "text/plain": [
       "{'a': 99, 'b': 0, 'c': 0, 'd': 0}"
      ]
     },
     "execution_count": 41,
     "metadata": {},
     "output_type": "execute_result"
    }
   ],
   "source": [
    "y"
   ]
  },
  {
   "cell_type": "code",
   "execution_count": 42,
   "id": "c2ff7e5b",
   "metadata": {},
   "outputs": [
    {
     "data": {
      "text/plain": [
       "{'a': 99, 'b': 0, 'c': 0, 'd': 0}"
      ]
     },
     "execution_count": 42,
     "metadata": {},
     "output_type": "execute_result"
    }
   ],
   "source": [
    "x"
   ]
  },
  {
   "cell_type": "markdown",
   "id": "9ab327cf",
   "metadata": {},
   "source": [
    "##### 6.2 Result of copying using copy"
   ]
  },
  {
   "cell_type": "code",
   "execution_count": 55,
   "id": "32a8aebe",
   "metadata": {},
   "outputs": [],
   "source": [
    "x = {'a':0,'b':0,'c':0,'d':0}"
   ]
  },
  {
   "cell_type": "code",
   "execution_count": 56,
   "id": "4910172a",
   "metadata": {},
   "outputs": [],
   "source": [
    "y = x.copy()"
   ]
  },
  {
   "cell_type": "code",
   "execution_count": 57,
   "id": "227b2271",
   "metadata": {},
   "outputs": [
    {
     "data": {
      "text/plain": [
       "False"
      ]
     },
     "execution_count": 57,
     "metadata": {},
     "output_type": "execute_result"
    }
   ],
   "source": [
    "x is y"
   ]
  },
  {
   "cell_type": "code",
   "execution_count": 58,
   "id": "6e710df9",
   "metadata": {},
   "outputs": [
    {
     "data": {
      "text/plain": [
       "True"
      ]
     },
     "execution_count": 58,
     "metadata": {},
     "output_type": "execute_result"
    }
   ],
   "source": [
    "x == y"
   ]
  },
  {
   "cell_type": "markdown",
   "id": "552c2e60",
   "metadata": {},
   "source": [
    "![alt text](images/Lession%2014/14.6.2.png)"
   ]
  },
  {
   "cell_type": "code",
   "execution_count": 59,
   "id": "14945cb9",
   "metadata": {},
   "outputs": [],
   "source": [
    "y['a'] = 99"
   ]
  },
  {
   "cell_type": "code",
   "execution_count": 60,
   "id": "2fbccf05",
   "metadata": {},
   "outputs": [
    {
     "data": {
      "text/plain": [
       "False"
      ]
     },
     "execution_count": 60,
     "metadata": {},
     "output_type": "execute_result"
    }
   ],
   "source": [
    "x is y"
   ]
  },
  {
   "cell_type": "code",
   "execution_count": 61,
   "id": "27e3ee2b",
   "metadata": {},
   "outputs": [
    {
     "data": {
      "text/plain": [
       "False"
      ]
     },
     "execution_count": 61,
     "metadata": {},
     "output_type": "execute_result"
    }
   ],
   "source": [
    "x == y"
   ]
  },
  {
   "cell_type": "markdown",
   "id": "640d470c",
   "metadata": {},
   "source": [
    "##### 6.3 Deep copy"
   ]
  },
  {
   "cell_type": "code",
   "execution_count": 62,
   "id": "893ab743",
   "metadata": {},
   "outputs": [],
   "source": [
    "x = {'a':{'python':'2.7'},'b':{'python':'3.6'}}\n",
    "y = x.copy()"
   ]
  },
  {
   "cell_type": "code",
   "execution_count": 63,
   "id": "f89ecfec",
   "metadata": {},
   "outputs": [
    {
     "data": {
      "text/plain": [
       "{'a': {'python': '2.7'}, 'b': {'python': '3.6'}}"
      ]
     },
     "execution_count": 63,
     "metadata": {},
     "output_type": "execute_result"
    }
   ],
   "source": [
    "y"
   ]
  },
  {
   "cell_type": "code",
   "execution_count": 64,
   "id": "ea6a2852",
   "metadata": {},
   "outputs": [
    {
     "data": {
      "text/plain": [
       "{'a': {'python': '2.7.15'}, 'b': {'python': '3.6'}}"
      ]
     },
     "execution_count": 64,
     "metadata": {},
     "output_type": "execute_result"
    }
   ],
   "source": [
    "y['a']['python']='2.7.15'\n",
    "x"
   ]
  },
  {
   "cell_type": "code",
   "execution_count": 65,
   "id": "9ade73ee",
   "metadata": {},
   "outputs": [
    {
     "data": {
      "text/plain": [
       "{'a': {'python': '2.7.15'}, 'b': {'python': '3.6'}}"
      ]
     },
     "execution_count": 65,
     "metadata": {},
     "output_type": "execute_result"
    }
   ],
   "source": [
    "y"
   ]
  },
  {
   "cell_type": "markdown",
   "id": "5d7ea24d",
   "metadata": {},
   "source": [
    "the copy of a nestd dictionary with the copy() is not possilbe \n",
    "<li> To make a complete copy of a nested dictionary, we need to use the deepcopy()fucntion from the copy module instead of the copy() methods"
   ]
  },
  {
   "cell_type": "code",
   "execution_count": 67,
   "id": "d24cc02d",
   "metadata": {},
   "outputs": [
    {
     "data": {
      "text/plain": [
       "{'a': {'python': '2.7'}, 'b': {'python': '3.6'}}"
      ]
     },
     "execution_count": 67,
     "metadata": {},
     "output_type": "execute_result"
    }
   ],
   "source": [
    "import copy\n",
    "x = {'a':{'python':'2.7'},'b':{'python':'3.6'}}\n",
    "y = copy.deepcopy(x)\n",
    "y['a']['python']='2.7.15'\n",
    "x"
   ]
  },
  {
   "cell_type": "code",
   "execution_count": 68,
   "id": "7bb0d725",
   "metadata": {},
   "outputs": [
    {
     "data": {
      "text/plain": [
       "{'a': {'python': '2.7.15'}, 'b': {'python': '3.6'}}"
      ]
     },
     "execution_count": 68,
     "metadata": {},
     "output_type": "execute_result"
    }
   ],
   "source": [
    "y"
   ]
  },
  {
   "cell_type": "markdown",
   "id": "1c97ca7c",
   "metadata": {},
   "source": [
    "Deep copy :\n",
    "<br> Deep copy mean that it creates a separate copy of the data in a separate memory location,rather than just sharing the memory addresses of the data"
   ]
  },
  {
   "cell_type": "markdown",
   "id": "98713e0e",
   "metadata": {},
   "source": [
    "#### 7.Json Data and Dictionary\n",
    "##### 7.1 Web Service Standard Document"
   ]
  },
  {
   "cell_type": "markdown",
   "id": "3885b603",
   "metadata": {},
   "source": [
    "![alt text](images/Lession%2014/14.7.1.png)"
   ]
  },
  {
   "cell_type": "markdown",
   "id": "a786d534",
   "metadata": {},
   "source": [
    "##### 7.2 Json format"
   ]
  },
  {
   "cell_type": "markdown",
   "id": "23bf60fd",
   "metadata": {},
   "source": [
    "![alt text](images/Lession%2014/14.7.2.png)"
   ]
  },
  {
   "cell_type": "markdown",
   "id": "dc71bff9",
   "metadata": {},
   "source": [
    "##### 7.3 Json Data Example"
   ]
  },
  {
   "cell_type": "markdown",
   "id": "64199337",
   "metadata": {},
   "source": [
    "![alt text](images/Lession%2014/14.7.3.png)"
   ]
  },
  {
   "cell_type": "markdown",
   "id": "a3c2510b",
   "metadata": {},
   "source": [
    "##### 7.4 Json Converting json data to a dictionary"
   ]
  },
  {
   "cell_type": "markdown",
   "id": "3357fa84",
   "metadata": {},
   "source": [
    "![alt text](images/Lession%2014/14.74.png)"
   ]
  },
  {
   "cell_type": "code",
   "execution_count": 75,
   "id": "ca3cf282",
   "metadata": {},
   "outputs": [
    {
     "name": "stdout",
     "output_type": "stream",
     "text": [
      "<class 'dict'>\n",
      "David Doe\n",
      "{'father': 'John Doe', 'mother': 'Marry Doe'}\n",
      "True\n"
     ]
    }
   ],
   "source": [
    "import json\n",
    "data = '{\"Name\":\"David Doe\",\"Age\":25,\"Hobby\":[\"basketball\"],\\\n",
    "\"Family\":{\"father\":\"John Doe\",\"mother\":\"Marry Doe\"},\"Married\":true}'\n",
    "\n",
    "json_data = json.loads(data)\n",
    "print(type(json_data))\n",
    "print(json_data['Name'])\n",
    "print(json_data['Family'])\n",
    "print(json_data['Married'])"
   ]
  },
  {
   "cell_type": "markdown",
   "id": "cc396905",
   "metadata": {},
   "source": [
    "Create the inforamtion of Ernest Hemingway's novel \"The Old Man and The Sea\" in json format"
   ]
  },
  {
   "cell_type": "code",
   "execution_count": 81,
   "id": "bcf46e3b",
   "metadata": {},
   "outputs": [
    {
     "name": "stdout",
     "output_type": "stream",
     "text": [
      "<class 'dict'>\n",
      "The Old man and The Sea\n",
      "12345\n",
      " Ernest Hemingway\n"
     ]
    }
   ],
   "source": [
    "import json\n",
    "data1 = '{\"title\":\"The Old man and The Sea\",\"ISB\":\"12345\",\"Author\":\" Ernest Hemingway\"}'\n",
    "\n",
    "json_data = json.loads(data1)\n",
    "\n",
    "print(type(json_data))\n",
    "print(json_data['title'])\n",
    "print(json_data['ISB'])\n",
    "print(json_data['Author'])"
   ]
  },
  {
   "cell_type": "code",
   "execution_count": null,
   "id": "af4cbe7a",
   "metadata": {},
   "outputs": [],
   "source": []
  }
 ],
 "metadata": {
  "kernelspec": {
   "display_name": "Python 3 (ipykernel)",
   "language": "python",
   "name": "python3"
  },
  "language_info": {
   "codemirror_mode": {
    "name": "ipython",
    "version": 3
   },
   "file_extension": ".py",
   "mimetype": "text/x-python",
   "name": "python",
   "nbconvert_exporter": "python",
   "pygments_lexer": "ipython3",
   "version": "3.11.5"
  }
 },
 "nbformat": 4,
 "nbformat_minor": 5
}
