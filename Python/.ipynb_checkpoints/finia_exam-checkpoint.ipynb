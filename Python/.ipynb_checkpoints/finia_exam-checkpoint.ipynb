{
 "cells": [
  {
   "cell_type": "code",
   "execution_count": 2,
   "metadata": {},
   "outputs": [
    {
     "name": "stdout",
     "output_type": "stream",
     "text": [
      "[19, 7, 10]\n"
     ]
    }
   ],
   "source": [
    "import random as rd \n",
    "list_var = list(range(1,21))\n",
    "print(rd.sample(list_var,3))"
   ]
  },
  {
   "cell_type": "code",
   "execution_count": 3,
   "metadata": {},
   "outputs": [
    {
     "name": "stdout",
     "output_type": "stream",
     "text": [
      "['a', 'b', 'c', 1, 2]\n"
     ]
    }
   ],
   "source": [
    "list_var = ['b']\n",
    "list_var.append('c')\n",
    "list_var.insert(0, 'a')\n",
    "list_var.extend([1,2])\n",
    "print(list_var)"
   ]
  },
  {
   "cell_type": "code",
   "execution_count": 4,
   "metadata": {},
   "outputs": [
    {
     "name": "stdout",
     "output_type": "stream",
     "text": [
      "29\n"
     ]
    }
   ],
   "source": [
    "my_list = [2,5,8,3,10,7,6,4]\n",
    "my_list.pop()\n",
    "min_value = min(my_list)\n",
    "if min_value in my_list:\n",
    "    my_list.remove(min_value)\n",
    "\n",
    "max_index = my_list.index(max(my_list))\n",
    "del my_list[max_index]\n",
    "\n",
    "print(sum(my_list))"
   ]
  },
  {
   "cell_type": "code",
   "execution_count": 8,
   "metadata": {},
   "outputs": [
    {
     "name": "stdout",
     "output_type": "stream",
     "text": [
      "20\n"
     ]
    }
   ],
   "source": [
    "numbers = list(range(1,21))\n",
    "\n",
    "odd_number = []\n",
    "even_number = []\n",
    "\n",
    "for num in numbers:\n",
    "    if num % 2 == 0:\n",
    "        even_number.append(num)\n",
    "    else:\n",
    "        odd_number.append(numbers)\n",
    "\n",
    "odd_number = len(odd_number)\n",
    "even_number = len(even_number)\n",
    "\n",
    "print(odd_number + even_number)"
   ]
  },
  {
   "cell_type": "code",
   "execution_count": 5,
   "metadata": {},
   "outputs": [
    {
     "name": "stdout",
     "output_type": "stream",
     "text": [
      "720\n"
     ]
    }
   ],
   "source": [
    "n = 6 \n",
    "fact = 1 \n",
    "for i in range(1, n+ 1):\n",
    "    fact *= i\n",
    "print(fact)"
   ]
  },
  {
   "cell_type": "code",
   "execution_count": 10,
   "metadata": {},
   "outputs": [
    {
     "name": "stdout",
     "output_type": "stream",
     "text": [
      "1100\n"
     ]
    }
   ],
   "source": [
    "rest = 0 \n",
    "stop = 10 \n",
    "under = True \n",
    "\n",
    "while under:\n",
    "    rest += 1 \n",
    "    if rest == stop:\n",
    "        under = False \n",
    "        rest *= sum(range(stop + 1 )) * 2 \n",
    "        \n",
    "print(rest)"
   ]
  },
  {
   "cell_type": "code",
   "execution_count": 6,
   "metadata": {},
   "outputs": [
    {
     "name": "stdout",
     "output_type": "stream",
     "text": [
      "10\n"
     ]
    }
   ],
   "source": [
    "input_a , input_b = 100, 200\n",
    "cnt = 0\n",
    "for i in range(input_a,input_b + 1):\n",
    "    k, r =i, 0\n",
    "    while k != 0:\n",
    "        r = r * 10 + k % 10\n",
    "        k //=10 \n",
    "        \n",
    "    if i == r :\n",
    "        cnt += 1\n",
    "        \n",
    "print(cnt)"
   ]
  },
  {
   "cell_type": "code",
   "execution_count": 7,
   "metadata": {},
   "outputs": [
    {
     "name": "stdout",
     "output_type": "stream",
     "text": [
      "2\n"
     ]
    }
   ],
   "source": [
    "list1 = [10, 20, 30]\n",
    "list2 = [10, 20, 30]\n",
    "string1 = 'ABC'\n",
    "string2 = 'ABC'\n",
    "if list1 == list2:\n",
    "    if list1 is list2:\n",
    "        print(1)\n",
    "    else:\n",
    "        if string1 == string2:\n",
    "            if string1 is string2:\n",
    "                print(2)\n",
    "            else:\n",
    "                print(3)\n",
    "        else:\n",
    "            print(4)\n",
    "else:\n",
    "    print(5)"
   ]
  },
  {
   "cell_type": "code",
   "execution_count": 8,
   "metadata": {},
   "outputs": [
    {
     "data": {
      "text/plain": [
       "False"
      ]
     },
     "execution_count": 8,
     "metadata": {},
     "output_type": "execute_result"
    }
   ],
   "source": [
    "list1 is list2 "
   ]
  },
  {
   "cell_type": "code",
   "execution_count": 9,
   "metadata": {},
   "outputs": [
    {
     "data": {
      "text/plain": [
       "True"
      ]
     },
     "execution_count": 9,
     "metadata": {},
     "output_type": "execute_result"
    }
   ],
   "source": [
    "string1 is string2"
   ]
  },
  {
   "cell_type": "code",
   "execution_count": 13,
   "metadata": {},
   "outputs": [
    {
     "name": "stdout",
     "output_type": "stream",
     "text": [
      "1050\n"
     ]
    }
   ],
   "source": [
    "numbers = list(range(1,101))\n",
    "multiple5 = [num for num in numbers if num % 5 == 0]\n",
    "if any(multiple5):\n",
    "    total= sum(multiple5)\n",
    "else:\n",
    "    total = 0\n",
    "\n",
    "print(total)"
   ]
  },
  {
   "cell_type": "code",
   "execution_count": 15,
   "metadata": {},
   "outputs": [
    {
     "name": "stdout",
     "output_type": "stream",
     "text": [
      "45\n"
     ]
    }
   ],
   "source": [
    "matrix = [\n",
    "    [1,2,3],\n",
    "    [4,5,6],\n",
    "    [7,8,9]\n",
    "]\n",
    "print(sum(sum(row) for row in matrix))"
   ]
  },
  {
   "cell_type": "code",
   "execution_count": 16,
   "metadata": {},
   "outputs": [
    {
     "name": "stdout",
     "output_type": "stream",
     "text": [
      "34\n"
     ]
    }
   ],
   "source": [
    "matrix = [[i + j for j in range(3)]for i in range(3,6)]\n",
    "threstold = 5 \n",
    "result = [element for row in matrix for element in row if element >= threstold]\n",
    "\n",
    "print(sum(result))"
   ]
  },
  {
   "cell_type": "code",
   "execution_count": 26,
   "metadata": {},
   "outputs": [
    {
     "name": "stdout",
     "output_type": "stream",
     "text": [
      "False\n"
     ]
    }
   ],
   "source": [
    "import copy \n",
    "array1 = [[1,2,3],[4,5,6],[7,8,9]]\n",
    "array2 = copy.copy(array1)\n",
    "print(array1 is array2 ) "
   ]
  },
  {
   "cell_type": "code",
   "execution_count": 23,
   "metadata": {},
   "outputs": [
    {
     "name": "stdout",
     "output_type": "stream",
     "text": [
      "False\n"
     ]
    }
   ],
   "source": [
    "import copy \n",
    "array1 = [[1,2,3],[4,5,6],[7,8,9]]\n",
    "array2 = copy.deepcopy(array1)\n",
    "print(array1 is array2 ) "
   ]
  },
  {
   "cell_type": "code",
   "execution_count": null,
   "metadata": {},
   "outputs": [],
   "source": []
  }
 ],
 "metadata": {
  "kernelspec": {
   "display_name": "Python 3 (ipykernel)",
   "language": "python",
   "name": "python3"
  },
  "language_info": {
   "codemirror_mode": {
    "name": "ipython",
    "version": 3
   },
   "file_extension": ".py",
   "mimetype": "text/x-python",
   "name": "python",
   "nbconvert_exporter": "python",
   "pygments_lexer": "ipython3",
   "version": "3.8.18"
  }
 },
 "nbformat": 4,
 "nbformat_minor": 4
}
