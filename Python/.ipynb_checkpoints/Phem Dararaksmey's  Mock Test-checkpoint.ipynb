{
 "cells": [
  {
   "cell_type": "markdown",
   "id": "4b970dff-5dc6-4a0e-827e-fbc87ca426b2",
   "metadata": {},
   "source": [
    "## ID : AB2024022"
   ]
  },
  {
   "cell_type": "markdown",
   "id": "3fd25a23",
   "metadata": {},
   "source": [
    "# 3"
   ]
  },
  {
   "cell_type": "code",
   "execution_count": null,
   "id": "47173711",
   "metadata": {},
   "outputs": [],
   "source": [
    "a, b = input(\"Enter two integers: \").split()\n",
    "a = int(a)\n",
    "b = int(b)\n",
    "# create a empty list \n",
    "list_empty = []\n",
    "# append the a, b into the list \n",
    "list_empty.append(a)\n",
    "list_empty.append(b)\n",
    "# softed list from smallest to largest\n",
    "sorted_list =sorted(list_empty)\n",
    "# print the sortedList\n",
    "print(sorted_list)"
   ]
  },
  {
   "cell_type": "markdown",
   "id": "d5b27b7e",
   "metadata": {},
   "source": [
    "---"
   ]
  },
  {
   "cell_type": "markdown",
   "id": "163584c6",
   "metadata": {},
   "source": [
    "# 39"
   ]
  },
  {
   "cell_type": "code",
   "execution_count": 2,
   "id": "220e2f01",
   "metadata": {
    "scrolled": true
   },
   "outputs": [
    {
     "name": "stdout",
     "output_type": "stream",
     "text": [
      "#\n",
      "##\n",
      "###\n",
      "####\n",
      "#####\n"
     ]
    }
   ],
   "source": [
    "print(\"#\")\n",
    "print(\"##\")\n",
    "print(\"###\")\n",
    "print(\"####\")\n",
    "print(\"#####\")"
   ]
  },
  {
   "cell_type": "markdown",
   "id": "989f324b",
   "metadata": {},
   "source": [
    "---"
   ]
  },
  {
   "cell_type": "markdown",
   "id": "66316569",
   "metadata": {},
   "source": [
    "# 128"
   ]
  },
  {
   "cell_type": "code",
   "execution_count": 22,
   "id": "b50355ed",
   "metadata": {},
   "outputs": [
    {
     "name": "stdout",
     "output_type": "stream",
     "text": [
      "13\n",
      "2\n",
      "10\n",
      "1\n",
      "2\n",
      "1\n"
     ]
    }
   ],
   "source": []
  }
 ],
 "metadata": {
  "kernelspec": {
   "display_name": "Python 3 (ipykernel)",
   "language": "python",
   "name": "python3"
  },
  "language_info": {
   "codemirror_mode": {
    "name": "ipython",
    "version": 3
   },
   "file_extension": ".py",
   "mimetype": "text/x-python",
   "name": "python",
   "nbconvert_exporter": "python",
   "pygments_lexer": "ipython3",
   "version": "3.8.18"
  }
 },
 "nbformat": 4,
 "nbformat_minor": 5
}
