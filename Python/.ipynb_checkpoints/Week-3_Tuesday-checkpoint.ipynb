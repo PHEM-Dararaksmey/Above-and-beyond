{
 "cells": [
  {
   "cell_type": "markdown",
   "id": "a9c70811",
   "metadata": {},
   "source": [
    "## Tuesday \n",
    "Time : 8 AM - 5 PM "
   ]
  },
  {
   "cell_type": "markdown",
   "id": "2c428ec0",
   "metadata": {},
   "source": [
    "### Lession 12 2-dimensional list \n",
    "#### Main keyword :\n",
    "1,2-dimensional list ,2-dimensional index , Nested loop , Jagged list "
   ]
  },
  {
   "cell_type": "markdown",
   "id": "fa3cb1cc",
   "metadata": {},
   "source": [
    "![alt text](images/Lession%2012/12.1%20Mission.png)"
   ]
  },
  {
   "cell_type": "markdown",
   "id": "bbfa9e47",
   "metadata": {},
   "source": [
    "![alt text](images/Lession%2012/12.2%20Flowchart%201.png)"
   ]
  },
  {
   "cell_type": "markdown",
   "id": "639cee56",
   "metadata": {},
   "source": [
    "![alt text](images/Lession%2012/12.2%20Flowchart%202.png)"
   ]
  },
  {
   "cell_type": "markdown",
   "id": "65989eef",
   "metadata": {},
   "source": [
    "#### 1.Creating a 2-dimensional list \n",
    "##### 1.1 Example of a 2D list structure with 3 rows and 3 columns\n",
    "A two -dimensional list is a structure what groups 1-dimensioanl lists together.<br>\n",
    "To create  2-dimensional list, you need to create lists within a list"
   ]
  },
  {
   "cell_type": "code",
   "execution_count": 3,
   "id": "87f7651f",
   "metadata": {},
   "outputs": [],
   "source": [
    "list_array = [[1,2,3],[4,5,6],[7,8,9]]"
   ]
  },
  {
   "cell_type": "code",
   "execution_count": 4,
   "id": "a0e6cbc4",
   "metadata": {},
   "outputs": [],
   "source": [
    "list_array = [[1,2,3],\n",
    "              [4,5,6],\n",
    "              [7,8,9]]"
   ]
  },
  {
   "cell_type": "code",
   "execution_count": 5,
   "id": "ea7fc895",
   "metadata": {},
   "outputs": [
    {
     "data": {
      "text/plain": [
       "[1, 2, 3]"
      ]
     },
     "execution_count": 5,
     "metadata": {},
     "output_type": "execute_result"
    }
   ],
   "source": [
    "#access the refers to the first list\n",
    "list_array[0]"
   ]
  },
  {
   "cell_type": "markdown",
   "id": "3c073033",
   "metadata": {},
   "source": [
    "##### 1.2 Crating a 3x2 2D list using a for loop"
   ]
  },
  {
   "cell_type": "code",
   "execution_count": 7,
   "id": "76f3115f",
   "metadata": {},
   "outputs": [
    {
     "name": "stdout",
     "output_type": "stream",
     "text": [
      "[[0, 0], [0, 0], [0, 0]]\n"
     ]
    }
   ],
   "source": [
    "list1= []\n",
    "for i in range(3):\n",
    "    line =[]\n",
    "    for j in range(2):\n",
    "        line.append(0)\n",
    "    list1.append(line)\n",
    "print(list1)"
   ]
  },
  {
   "cell_type": "markdown",
   "id": "9d714545",
   "metadata": {},
   "source": [
    "##### 1.3 Crating a 2D list in One Line Expression "
   ]
  },
  {
   "cell_type": "code",
   "execution_count": 8,
   "id": "0218923b",
   "metadata": {},
   "outputs": [
    {
     "name": "stdout",
     "output_type": "stream",
     "text": [
      "[[0, 0], [0, 0], [0, 0]]\n"
     ]
    }
   ],
   "source": [
    "list_array = [[0] * 2 for i in range(3)]\n",
    "print(list_array)"
   ]
  },
  {
   "cell_type": "markdown",
   "id": "72f847ed",
   "metadata": {},
   "source": [
    "![alt text](images/Lession%2012/12.1.3.1.png)"
   ]
  },
  {
   "cell_type": "markdown",
   "id": "3ea089be",
   "metadata": {},
   "source": [
    "![alt text](images/Lession%2012/12.1.3.2.png)"
   ]
  },
  {
   "cell_type": "code",
   "execution_count": 10,
   "id": "7d951d35",
   "metadata": {},
   "outputs": [
    {
     "name": "stdout",
     "output_type": "stream",
     "text": [
      "[[0, 0], [0, 0], [0, 0]]\n"
     ]
    }
   ],
   "source": [
    "list_array = [[0 for j in range(2)]for i in range(3)]\n",
    "print(list_array)"
   ]
  },
  {
   "cell_type": "markdown",
   "id": "fef8b123",
   "metadata": {},
   "source": [
    "#### 2.Accessing elements of a 2D list\n",
    "##### 2.1 Indexing for elements access"
   ]
  },
  {
   "cell_type": "code",
   "execution_count": 16,
   "id": "b9f36b16",
   "metadata": {},
   "outputs": [
    {
     "data": {
      "text/plain": [
       "[1, 2, 3]"
      ]
     },
     "execution_count": 16,
     "metadata": {},
     "output_type": "execute_result"
    }
   ],
   "source": [
    "list_array = [[1,2,3],[4,5,6],[7,8,9]]\n",
    "list_array[0]"
   ]
  },
  {
   "cell_type": "code",
   "execution_count": 17,
   "id": "d1fd6380",
   "metadata": {},
   "outputs": [
    {
     "data": {
      "text/plain": [
       "3"
      ]
     },
     "execution_count": 17,
     "metadata": {},
     "output_type": "execute_result"
    }
   ],
   "source": [
    "list_array[0][2]"
   ]
  },
  {
   "cell_type": "markdown",
   "id": "3da2f05e",
   "metadata": {},
   "source": [
    "![alt text](images/Lession%2012/12.2.1.png)"
   ]
  },
  {
   "cell_type": "code",
   "execution_count": 18,
   "id": "37e2779d",
   "metadata": {},
   "outputs": [],
   "source": [
    "list_array = [[1,2,3],[4,5,6],[7,8,9]]"
   ]
  },
  {
   "cell_type": "code",
   "execution_count": 19,
   "id": "6aea3b1a",
   "metadata": {},
   "outputs": [
    {
     "data": {
      "text/plain": [
       "1"
      ]
     },
     "execution_count": 19,
     "metadata": {},
     "output_type": "execute_result"
    }
   ],
   "source": [
    "list_array[0][0]"
   ]
  },
  {
   "cell_type": "code",
   "execution_count": 20,
   "id": "f54e9b1b",
   "metadata": {},
   "outputs": [
    {
     "data": {
      "text/plain": [
       "9"
      ]
     },
     "execution_count": 20,
     "metadata": {},
     "output_type": "execute_result"
    }
   ],
   "source": [
    "list_array[2][2]"
   ]
  },
  {
   "cell_type": "code",
   "execution_count": 23,
   "id": "504be19a",
   "metadata": {},
   "outputs": [],
   "source": [
    "# assign the value 300 to the vertical index (row) 1 and the horizontal index (column)1\n",
    "list_array[1][1] = 300"
   ]
  },
  {
   "cell_type": "code",
   "execution_count": 24,
   "id": "b67f9b99",
   "metadata": {},
   "outputs": [
    {
     "name": "stdout",
     "output_type": "stream",
     "text": [
      "300\n"
     ]
    }
   ],
   "source": [
    "print(list_array[1][1])"
   ]
  },
  {
   "cell_type": "markdown",
   "id": "49ef88a4",
   "metadata": {},
   "source": [
    "#### 3.Printing elements of a 2D list\n",
    "##### 3.1 Using a for Statement to Print a 2D list"
   ]
  },
  {
   "cell_type": "code",
   "execution_count": 26,
   "id": "da93633c",
   "metadata": {},
   "outputs": [
    {
     "name": "stdout",
     "output_type": "stream",
     "text": [
      "item = [1, 2, 3]\n",
      "item = [4, 5, 6]\n",
      "item = [7, 8, 9]\n"
     ]
    }
   ],
   "source": [
    "list_array = [[1,2,3],[4,5,6],[7,8,9]]\n",
    "for item in list_array :\n",
    "    print('item =', item)"
   ]
  },
  {
   "cell_type": "code",
   "execution_count": 28,
   "id": "4d3c03c4",
   "metadata": {},
   "outputs": [
    {
     "name": "stdout",
     "output_type": "stream",
     "text": [
      "\n",
      "        i = 1\n",
      "        j = 2\n",
      "        k = 3\n",
      "    \n",
      "\n",
      "        i = 4\n",
      "        j = 5\n",
      "        k = 6\n",
      "    \n",
      "\n",
      "        i = 7\n",
      "        j = 8\n",
      "        k = 9\n",
      "    \n"
     ]
    }
   ],
   "source": [
    "list_array = [[1,2,3],[4,5,6],[7,8,9]]\n",
    "for i,j,k in list_array :\n",
    "    print(f\"\"\"\n",
    "        i = {i}\n",
    "        j = {j}\n",
    "        k = {k}\n",
    "    \"\"\")"
   ]
  },
  {
   "cell_type": "markdown",
   "id": "c921a8f0",
   "metadata": {},
   "source": [
    "##### 3.2 2D Lists and ValueError"
   ]
  },
  {
   "cell_type": "code",
   "execution_count": 33,
   "id": "b0cebc63",
   "metadata": {},
   "outputs": [
    {
     "name": "stdout",
     "output_type": "stream",
     "text": [
      "\n",
      "        i = 1\n",
      "        j = 2\n",
      "        k = 3\n",
      "    \n",
      "\n",
      "        i = 4\n",
      "        j = 5\n",
      "        k = 6\n",
      "    \n"
     ]
    },
    {
     "ename": "ValueError",
     "evalue": "not enough values to unpack (expected 3, got 1)",
     "output_type": "error",
     "traceback": [
      "\u001b[0;31m---------------------------------------------------------------------------\u001b[0m",
      "\u001b[0;31mValueError\u001b[0m                                Traceback (most recent call last)",
      "Cell \u001b[0;32mIn[33], line 2\u001b[0m\n\u001b[1;32m      1\u001b[0m list_array \u001b[38;5;241m=\u001b[39m [[\u001b[38;5;241m1\u001b[39m,\u001b[38;5;241m2\u001b[39m,\u001b[38;5;241m3\u001b[39m],[\u001b[38;5;241m4\u001b[39m,\u001b[38;5;241m5\u001b[39m,\u001b[38;5;241m6\u001b[39m],[\u001b[38;5;241m7\u001b[39m]]\n\u001b[0;32m----> 2\u001b[0m \u001b[38;5;28;01mfor\u001b[39;00m i,j,k \u001b[38;5;129;01min\u001b[39;00m list_array :\n\u001b[1;32m      3\u001b[0m     \u001b[38;5;28mprint\u001b[39m(\u001b[38;5;124mf\u001b[39m\u001b[38;5;124m\"\"\"\u001b[39m\n\u001b[1;32m      4\u001b[0m \u001b[38;5;124m        i = \u001b[39m\u001b[38;5;132;01m{\u001b[39;00mi\u001b[38;5;132;01m}\u001b[39;00m\n\u001b[1;32m      5\u001b[0m \u001b[38;5;124m        j = \u001b[39m\u001b[38;5;132;01m{\u001b[39;00mj\u001b[38;5;132;01m}\u001b[39;00m\n\u001b[1;32m      6\u001b[0m \u001b[38;5;124m        k = \u001b[39m\u001b[38;5;132;01m{\u001b[39;00mk\u001b[38;5;132;01m}\u001b[39;00m\n\u001b[1;32m      7\u001b[0m \u001b[38;5;124m    \u001b[39m\u001b[38;5;124m\"\"\"\u001b[39m)\n",
      "\u001b[0;31mValueError\u001b[0m: not enough values to unpack (expected 3, got 1)"
     ]
    }
   ],
   "source": [
    "list_array = [[1,2,3],[4,5,6],[7]]\n",
    "for i,j,k in list_array :\n",
    "    print(f\"\"\"\n",
    "        i = {i}\n",
    "        j = {j}\n",
    "        k = {k}\n",
    "    \"\"\")"
   ]
  },
  {
   "cell_type": "markdown",
   "id": "7e32574f",
   "metadata": {},
   "source": [
    "##### 3.3 Printing  a 2D Lists using te Nested loop 'for' statment"
   ]
  },
  {
   "cell_type": "code",
   "execution_count": 32,
   "id": "085cb49a",
   "metadata": {},
   "outputs": [
    {
     "name": "stdout",
     "output_type": "stream",
     "text": [
      "1 2 3 \n",
      "4 5 6 \n",
      "7 8 9 \n"
     ]
    }
   ],
   "source": [
    "list_array = [[1,2,3],[4,5,6],[7,8,9]]\n",
    "for item in list_array :\n",
    "    for j in item:\n",
    "        print(j,end =' ')\n",
    "    print()"
   ]
  },
  {
   "cell_type": "code",
   "execution_count": 38,
   "id": "a76c74fd",
   "metadata": {},
   "outputs": [
    {
     "name": "stdout",
     "output_type": "stream",
     "text": [
      "1 2 3 \n",
      "4 5 6 \n",
      "7 \n"
     ]
    }
   ],
   "source": [
    "list_array = [[1,2,3],[4,5,6],[7]]\n",
    "for i in list_array :\n",
    "    for j in i :\n",
    "        print (j, end = ' ')\n",
    "    print()"
   ]
  },
  {
   "cell_type": "markdown",
   "id": "44abc594",
   "metadata": {},
   "source": [
    "![alt text](images/Lession%2012/12.3.3.png)"
   ]
  },
  {
   "cell_type": "markdown",
   "id": "b880bf56",
   "metadata": {},
   "source": [
    "##### 3.4 Output using index"
   ]
  },
  {
   "cell_type": "code",
   "execution_count": 42,
   "id": "48bea83c",
   "metadata": {},
   "outputs": [
    {
     "name": "stdout",
     "output_type": "stream",
     "text": [
      "1 2 3 \n",
      "4 5 6 \n",
      "7 8 9 \n"
     ]
    }
   ],
   "source": [
    "list_array = [[1,2,3],[4,5,6],[7,8,9]]\n",
    "for i in range(len(list_array)):\n",
    "    for j in range(len(list_array[i])):\n",
    "        print(list_array[i][j], end =' ')\n",
    "    print()"
   ]
  },
  {
   "cell_type": "code",
   "execution_count": 43,
   "id": "ba8c992e",
   "metadata": {
    "scrolled": true
   },
   "outputs": [
    {
     "name": "stdout",
     "output_type": "stream",
     "text": [
      "1 2 3 \n",
      "4 5 6 \n",
      "7 \n"
     ]
    }
   ],
   "source": [
    "list_array = [[1,2,3],[4,5,6],[7]]\n",
    "for i in range(len(list_array)):##### 3.4 Output using index\n",
    "    for j in range(len(list_array[i])):\n",
    "        print(list_array[i][j], end =' ')\n",
    "    print()"
   ]
  },
  {
   "cell_type": "markdown",
   "id": "17b20965",
   "metadata": {},
   "source": [
    "##### 3.5 Printing a 2D list using a while statment "
   ]
  },
  {
   "cell_type": "code",
   "execution_count": 45,
   "id": "630a4cd0",
   "metadata": {},
   "outputs": [
    {
     "name": "stdout",
     "output_type": "stream",
     "text": [
      "1 2 3\n",
      "4 5 6\n",
      "7 8 9\n"
     ]
    }
   ],
   "source": [
    "list_array = [[1,2,3],[4,5,6],[7,8,9]]\n",
    "i = 0\n",
    "while i < len(list_array): #(Explain The while statement repeats as manay time as the number of inner \n",
    "    # lists in list_array)\n",
    "    a,b,c = list_array[i] #(a,b,c are assignd the items of list_array[i],so if i is 0, they will be assigned 1,2,3 respectively)\n",
    "    print(a,b,c)\n",
    "    i += 1"
   ]
  },
  {
   "cell_type": "markdown",
   "id": "2b5c50bc",
   "metadata": {},
   "source": [
    "#### 4. Assignment of a 2D list\n",
    "##### 4.1 Reference vs Copy"
   ]
  },
  {
   "cell_type": "code",
   "execution_count": 46,
   "id": "e101068a",
   "metadata": {},
   "outputs": [
    {
     "name": "stdout",
     "output_type": "stream",
     "text": [
      "[[1, 2, 3], [4, 5, 6], [7, 8, 9]]\n"
     ]
    }
   ],
   "source": [
    "list_array = [[1,2,3],[4,5,6],[7,8,9]]\n",
    "list1 = list_array\n",
    "print(list1)"
   ]
  },
  {
   "cell_type": "code",
   "execution_count": 48,
   "id": "71dbb3ce",
   "metadata": {},
   "outputs": [
    {
     "name": "stdout",
     "output_type": "stream",
     "text": [
      "[[90, 2, 3], [4, 5, 6], [7, 8, 9]]\n",
      "[[90, 2, 3], [4, 5, 6], [7, 8, 9]]\n"
     ]
    }
   ],
   "source": [
    "list1[0][0] = 90 \n",
    "print(list_array) \n",
    "print(list1)"
   ]
  },
  {
   "cell_type": "markdown",
   "id": "7a567922",
   "metadata": {},
   "source": [
    "![alt text](images/Lession%2012/4.1.png)"
   ]
  },
  {
   "cell_type": "code",
   "execution_count": 50,
   "id": "69e65547",
   "metadata": {},
   "outputs": [
    {
     "name": "stdout",
     "output_type": "stream",
     "text": [
      "[[1, 2, 3], [4, 5, 6], [7, 8, 9]]\n",
      "False\n"
     ]
    }
   ],
   "source": [
    "import copy #import modul copy \n",
    "list_array = [[1,2,3],[4,5,6],[7,8,9]] #create 2D list\n",
    "list1 = copy.deepcopy(list_array)#using deepcopy function to copy the list_array and assign it to List1 \n",
    "list1 [0][0] = 90 # change value of row 1 column 1 in the list 1 (form 5 to 90)\n",
    "print(list_array) # print the element of list_array\n",
    "print(list_array is list1) # using the boolen expression function \"IS\" to the list_array is list 1 (or the list_array has the same element as list 1)"
   ]
  },
  {
   "cell_type": "markdown",
   "id": "ec1bb4f6",
   "metadata": {},
   "source": [
    "#### 5. Creating a jagaed list\n",
    "##### 5.1 Code example of a jagged list"
   ]
  },
  {
   "cell_type": "code",
   "execution_count": 52,
   "id": "24708191",
   "metadata": {},
   "outputs": [
    {
     "name": "stdout",
     "output_type": "stream",
     "text": [
      "[[0], [0, 1], [0, 1, 2], [0, 1, 2, 3], [0, 1, 2, 3, 4]]\n"
     ]
    }
   ],
   "source": [
    "list1 =[1,2,3,4,5] # the width (number of items in the inner lists) of jagged list is stored in list1\n",
    "list2 = [] #The jagged list to created is list2, and empty list\n",
    "for i in list1 : # assign i to each item in list 1\n",
    "    line = []\n",
    "    for j in range(i):# 6-7 \n",
    "        line.append(j)# in the inner loop, a ranges ssequence generated with i is appenden to the 'line'\n",
    "        # list using the append method\n",
    "    list2.append(line)#in the outer \n",
    "print(list2)"
   ]
  },
  {
   "cell_type": "markdown",
   "id": "fcef0cdb",
   "metadata": {},
   "source": [
    "![alt text](images/Lession%2012/12.5.1.png)"
   ]
  },
  {
   "cell_type": "code",
   "execution_count": 54,
   "id": "893b0c1b",
   "metadata": {},
   "outputs": [
    {
     "name": "stdout",
     "output_type": "stream",
     "text": [
      "[[0], [0, 1], [0, 1, 2], [0, 1, 2, 3], [0, 1, 2, 3, 4]]\n"
     ]
    }
   ],
   "source": [
    "list = [[0],\n",
    "        [0,1],\n",
    "        [0,1,2],\n",
    "        [0,1,2,3],\n",
    "        [0,1,2,3,4]]\n",
    "print(list2)"
   ]
  },
  {
   "cell_type": "markdown",
   "id": "44fecd79",
   "metadata": {},
   "source": [
    "##### 5.2 Example code for creating a jagged list using the nested loop for statment "
   ]
  },
  {
   "cell_type": "markdown",
   "id": "7be4cadf",
   "metadata": {},
   "source": [
    "![alt text](images/Lession%2012/12.5.2.png)"
   ]
  },
  {
   "cell_type": "code",
   "execution_count": 56,
   "id": "04ffb160",
   "metadata": {},
   "outputs": [
    {
     "name": "stdout",
     "output_type": "stream",
     "text": [
      "0 \n",
      "0 1 \n",
      "0 1 2 \n",
      "0 1 2 3 \n",
      "0 1 2 3 4 \n"
     ]
    }
   ],
   "source": [
    "list1=[1,2,3,4,5]\n",
    "list2=[]\n",
    "for i in list1:\n",
    "    line = []\n",
    "    for j in range(i):\n",
    "        line.append(j)\n",
    "        print(j,end=' ')\n",
    "    list2.append(line)\n",
    "    print()"
   ]
  },
  {
   "cell_type": "markdown",
   "id": "bc1f8bd0",
   "metadata": {},
   "source": [
    "##### 5.3 Example code for creating a jagged list using the nessted for loop and randint method"
   ]
  },
  {
   "cell_type": "markdown",
   "id": "d83f770a",
   "metadata": {},
   "source": [
    "![alt text](images/Lession%2012/12.5.3.png)"
   ]
  },
  {
   "cell_type": "code",
   "execution_count": 61,
   "id": "9f1d28fd",
   "metadata": {},
   "outputs": [
    {
     "name": "stdout",
     "output_type": "stream",
     "text": [
      "16 \n",
      "58 64 \n",
      "61 50 98 \n",
      "5 95 35 95 \n",
      "19 67 100 1 15 \n"
     ]
    }
   ],
   "source": [
    "import random \n",
    "list1 = [1,2,3,4,5]\n",
    "list2 = []\n",
    "for i in list1:\n",
    "    line = []\n",
    "    for j in range(i):\n",
    "        line.append(random.randint(1,100))\n",
    "    list2.append(line)\n",
    "    \n",
    "for i in list2:\n",
    "    for j in i :\n",
    "        print(j,end =' ')\n",
    "    print()"
   ]
  },
  {
   "cell_type": "markdown",
   "id": "4b7f306f",
   "metadata": {},
   "source": [
    "##### 5.4 Example code for creating a jagged list using a one-liner expression"
   ]
  },
  {
   "cell_type": "code",
   "execution_count": 63,
   "id": "86b92b9d",
   "metadata": {},
   "outputs": [
    {
     "name": "stdout",
     "output_type": "stream",
     "text": [
      "[[0], [0, 0], [0, 0, 0], [0, 0, 0, 0], [0, 0, 0, 0, 0]]\n"
     ]
    }
   ],
   "source": [
    "list1 =[[0] * i for i in [1,2,3,4,5]]\n",
    "print(list1)"
   ]
  },
  {
   "cell_type": "code",
   "execution_count": 65,
   "id": "14c45179",
   "metadata": {},
   "outputs": [
    {
     "name": "stdout",
     "output_type": "stream",
     "text": [
      "0 \n",
      "0 0 \n",
      "0 0 0 \n",
      "0 0 0 0 \n",
      "0 0 0 0 0 \n"
     ]
    }
   ],
   "source": [
    "# creating a jagged list using a nests for loop\n",
    "for i in list1:\n",
    "    for j in i :\n",
    "        print(j,end=' ')\n",
    "    print()"
   ]
  },
  {
   "cell_type": "code",
   "execution_count": 66,
   "id": "6506706c",
   "metadata": {},
   "outputs": [
    {
     "name": "stdout",
     "output_type": "stream",
     "text": [
      "[[10], [20, 20], [30, 30, 30], [40, 40, 40, 40], [50, 50, 50, 50, 50]]\n"
     ]
    }
   ],
   "source": [
    "#add  new items to the jagged list \n",
    "list1 = [[10 * i]*i for i in [1,2,3,4,5]]\n",
    "print(list1)"
   ]
  },
  {
   "cell_type": "code",
   "execution_count": 67,
   "id": "21c7b9b0",
   "metadata": {},
   "outputs": [
    {
     "name": "stdout",
     "output_type": "stream",
     "text": [
      "[[10, 99], [20, 20, 77], [30, 30, 30], [40, 40, 40, 40], [50, 50, 50, 50, 50]]\n"
     ]
    }
   ],
   "source": [
    "list1[0].append(99)\n",
    "list1[1].append(77)\n",
    "print(list1)"
   ]
  },
  {
   "cell_type": "markdown",
   "id": "ce2ef651",
   "metadata": {},
   "source": [
    "#### Paper Code "
   ]
  },
  {
   "cell_type": "markdown",
   "id": "4c6db933",
   "metadata": {},
   "source": [
    "![alt text](images/Lession%2012/Paper%20code%20Q1.png)"
   ]
  },
  {
   "cell_type": "code",
   "execution_count": 95,
   "id": "5981efa1",
   "metadata": {},
   "outputs": [
    {
     "data": {
      "text/plain": [
       "30"
      ]
     },
     "execution_count": 95,
     "metadata": {},
     "output_type": "execute_result"
    }
   ],
   "source": [
    "list_array = [[10,20],[30,40],[50,60]]\n",
    "list_array[1][0]"
   ]
  },
  {
   "cell_type": "markdown",
   "id": "7a8e0875",
   "metadata": {},
   "source": [
    "![alt text](images/Lession%2012/Paper%20code%20Q2.png)"
   ]
  },
  {
   "cell_type": "code",
   "execution_count": 100,
   "id": "be0d8141",
   "metadata": {},
   "outputs": [
    {
     "name": "stdout",
     "output_type": "stream",
     "text": [
      "1234\n",
      "5678\n",
      "9101112\n",
      "13141516\n"
     ]
    }
   ],
   "source": [
    "list_array = [[1,2,3,4],[5,6,7,8],[9,10,11,12],[13,14,15,16]]\n",
    "for item in list_array :\n",
    "    for j in item:\n",
    "        print(j,end='')\n",
    "    print()\n",
    "    \n",
    "    "
   ]
  },
  {
   "cell_type": "markdown",
   "id": "7be8f385",
   "metadata": {},
   "source": [
    "#### Let code"
   ]
  },
  {
   "cell_type": "markdown",
   "id": "6738233c",
   "metadata": {},
   "source": [
    "![alt text](images/Lession%2012/Mission.png)"
   ]
  },
  {
   "cell_type": "code",
   "execution_count": 77,
   "id": "ba02504c",
   "metadata": {},
   "outputs": [
    {
     "name": "stdout",
     "output_type": "stream",
     "text": [
      "1 0 0 1 0 1 \n",
      "0 0 1 1 0 0 \n",
      "0 0 1 0 0 0 \n",
      "The number of seats left in the movie theater : 12\n"
     ]
    }
   ],
   "source": [
    "import random #import the random module\n",
    "\n",
    "seat = [] # create an empty list vairable class seat tor store 3 rows and 6 columns of seats\n",
    "#Create a nested loop (or double loop) using a for statement for the 3 row and 6 columns\n",
    "for i in range(3): \n",
    "    line = [] #create an empty to store the seats of each row, \n",
    "    for j in range(6):\n",
    "        rand = random.randrange(0,2) # assign random numbers of 1 and 0 to the rand variabe\n",
    "        line.append(rand) #append the random number to the end of the line list \n",
    "    seat.append(line) #append the line list to the end of the 'seat 'list\n",
    "available = 0 # set the value of the avaiable which will store the otal number of remaing seats avaible to 0 \n",
    "#Create nestd loop to print thestatus ofthe 'seat 'list\n",
    "for i in range(3):\n",
    "    for j in range(6):\n",
    "        print(seat[i][j],'',end='')\n",
    "        if seat[i][j] == 0: #to check if the value of i-th row and j-th column in the seat list is 0\n",
    "            available += 1 #if the seat is empty (value is 0), increment the available variable by 1\n",
    "    print() # print in a 3 rows and 6 columns format\n",
    "\n",
    "print(\"The number of seats left in the movie theater :\",available)"
   ]
  },
  {
   "cell_type": "markdown",
   "id": "942b8aca",
   "metadata": {},
   "source": [
    "#### Pair Programming"
   ]
  },
  {
   "cell_type": "code",
   "execution_count": 83,
   "id": "c959d79d",
   "metadata": {},
   "outputs": [
    {
     "name": "stdout",
     "output_type": "stream",
     "text": [
      "140\n"
     ]
    }
   ],
   "source": [
    "#Q5\n",
    "list_array = [[10 * i] * i for i in range(1,4)]\n",
    "num = 0\n",
    "for item in list_array:\n",
    "    for k in item:\n",
    "        num += k\n",
    "print(num)"
   ]
  },
  {
   "cell_type": "code",
   "execution_count": 84,
   "id": "cf0fe9c0",
   "metadata": {},
   "outputs": [
    {
     "name": "stdout",
     "output_type": "stream",
     "text": [
      "6\n"
     ]
    }
   ],
   "source": [
    "#Test 2\n",
    "list_array = [i for i in range(5) if i % 2 == 0]\n",
    "num = 0\n",
    "for item in list_array:\n",
    "    num += item\n",
    "    \n",
    "print(num)"
   ]
  },
  {
   "cell_type": "code",
   "execution_count": 85,
   "id": "c8e13838",
   "metadata": {},
   "outputs": [
    {
     "name": "stdout",
     "output_type": "stream",
     "text": [
      "30\n"
     ]
    }
   ],
   "source": [
    "#Test 1\n",
    "list_array = [i** 2 for i in range(5)]\n",
    "num = 0\n",
    "for item in list_array:\n",
    "    num += item\n",
    "    \n",
    "print(num)"
   ]
  },
  {
   "cell_type": "code",
   "execution_count": 87,
   "id": "4ca8878d",
   "metadata": {},
   "outputs": [
    {
     "name": "stdout",
     "output_type": "stream",
     "text": [
      "12\n"
     ]
    }
   ],
   "source": [
    "#Test 3\n",
    "list_array = [[2] * 2 for i in range(3)]\n",
    "num = 0\n",
    "for item in list_array:\n",
    "    for j in item:\n",
    "        num += j  \n",
    "print(num)"
   ]
  },
  {
   "cell_type": "code",
   "execution_count": 88,
   "id": "9e2387d6",
   "metadata": {},
   "outputs": [
    {
     "name": "stdout",
     "output_type": "stream",
     "text": [
      "27\n"
     ]
    }
   ],
   "source": [
    "#Test 4\n",
    "list_array = [[3 for i in range(3)] for j in range(3)]\n",
    "num = 0\n",
    "for item in list_array:\n",
    "    for k in item:\n",
    "        num += k\n",
    "    \n",
    "print(num)"
   ]
  },
  {
   "cell_type": "code",
   "execution_count": null,
   "id": "87fe69fa",
   "metadata": {},
   "outputs": [],
   "source": []
  }
 ],
 "metadata": {
  "kernelspec": {
   "display_name": "Python 3 (ipykernel)",
   "language": "python",
   "name": "python3"
  },
  "language_info": {
   "codemirror_mode": {
    "name": "ipython",
    "version": 3
   },
   "file_extension": ".py",
   "mimetype": "text/x-python",
   "name": "python",
   "nbconvert_exporter": "python",
   "pygments_lexer": "ipython3",
   "version": "3.11.5"
  }
 },
 "nbformat": 4,
 "nbformat_minor": 5
}
