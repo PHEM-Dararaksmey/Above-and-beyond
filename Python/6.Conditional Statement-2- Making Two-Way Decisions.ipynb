{
 "cells": [
  {
   "cell_type": "code",
   "execution_count": null,
   "metadata": {},
   "outputs": [],
   "source": []
  },
  {
   "cell_type": "markdown",
   "metadata": {},
   "source": [
    "### Lession 6 Conditional Statement-2: Making Two-Way Decisions\n",
    "keyword : if-else , if-else-elif. Duoble Conditional statment , Random numbers"
   ]
  },
  {
   "cell_type": "markdown",
   "metadata": {},
   "source": [
    "#### 1.Two-way Decision-Making Using else and elif statment\n",
    "##### 1.1 if statement without else statement"
   ]
  },
  {
   "cell_type": "code",
   "execution_count": null,
   "metadata": {},
   "outputs": [
    {
     "name": "stdout",
     "output_type": "stream",
     "text": [
      "It is morning\n"
     ]
    }
   ],
   "source": [
    "hour = 10\n",
    "if (hour < 12):\n",
    "    print('It is morning')\n",
    "if (hour >= 12):\n",
    "    print(\"it is afternoon\")"
   ]
  },
  {
   "cell_type": "markdown",
   "metadata": {},
   "source": [
    "##### 1.2if-else statement"
   ]
  },
  {
   "cell_type": "code",
   "execution_count": null,
   "metadata": {},
   "outputs": [
    {
     "name": "stdout",
     "output_type": "stream",
     "text": [
      "It is morning\n"
     ]
    }
   ],
   "source": [
    "hour = 10\n",
    "if (hour < 12):\n",
    "    print('It is morning')\n",
    "else:\n",
    "    print(\"it is afternoon\")"
   ]
  },
  {
   "cell_type": "markdown",
   "metadata": {},
   "source": [
    "##### 1.3Comparaison of flowcharts between if-else and if  "
   ]
  },
  {
   "cell_type": "markdown",
   "metadata": {},
   "source": [
    "![alt text](images/Lession%206/1.3%20compari%20if-else%20and%20if.png)"
   ]
  },
  {
   "cell_type": "markdown",
   "metadata": {},
   "source": [
    "#### 2.Various example of if-else statement\n",
    "##### 2.1Pass or fail determination based on score"
   ]
  },
  {
   "cell_type": "code",
   "execution_count": null,
   "metadata": {},
   "outputs": [
    {
     "name": "stdout",
     "output_type": "stream",
     "text": [
      "You passed.\n",
      "Get a scholarship , too\n"
     ]
    }
   ],
   "source": [
    "score = 99 \n",
    "if score > 90 :\n",
    "    print(\"You passed.\")\n",
    "    print(\"Get a scholarship , too\")\n",
    "else:\n",
    "    print(\"You failed\")"
   ]
  },
  {
   "cell_type": "markdown",
   "metadata": {},
   "source": [
    "##### 2.2Oadd and even number determination "
   ]
  },
  {
   "cell_type": "code",
   "execution_count": null,
   "metadata": {},
   "outputs": [
    {
     "name": "stdout",
     "output_type": "stream",
     "text": [
      "10 is an even number\n"
     ]
    }
   ],
   "source": [
    "num = 10 \n",
    "if num % 2 == 0:\n",
    "    print(num , \"is an even number\")\n",
    "else:\n",
    "    print(num, \"is an oadd number\")"
   ]
  },
  {
   "cell_type": "markdown",
   "metadata": {},
   "source": [
    "##### 2.3Numeric type determination "
   ]
  },
  {
   "cell_type": "code",
   "execution_count": null,
   "metadata": {},
   "outputs": [
    {
     "name": "stdout",
     "output_type": "stream",
     "text": [
      "Input data type  <class 'str'>\n"
     ]
    }
   ],
   "source": [
    "x = input(\"Enter the first integer :\")\n",
    "print(\"Input data type \", type(x))"
   ]
  },
  {
   "cell_type": "code",
   "execution_count": null,
   "metadata": {},
   "outputs": [
    {
     "name": "stdout",
     "output_type": "stream",
     "text": [
      "Input data type:  <class 'int'>\n"
     ]
    }
   ],
   "source": [
    "if x.isdigit()== True:\n",
    "    x = int(x)\n",
    "    print(\"Input data type: \",type(x))\n",
    "else:\n",
    "    print('x is not a nueric character')"
   ]
  },
  {
   "cell_type": "markdown",
   "metadata": {},
   "source": [
    "##### 2.4 Program to check if the ID matches "
   ]
  },
  {
   "cell_type": "code",
   "execution_count": null,
   "metadata": {},
   "outputs": [
    {
     "name": "stdout",
     "output_type": "stream",
     "text": [
      "Welcome\n"
     ]
    }
   ],
   "source": [
    "id = 'ilovepython'\n",
    "user_input=input(\"Enter your ID:\")\n",
    "if user_input == id:\n",
    "    print(\"Welcome\")\n",
    "else:\n",
    "    print(\"No ID Founded\")"
   ]
  },
  {
   "cell_type": "markdown",
   "metadata": {},
   "source": [
    "##### 2.5Creating a coin filipping game with the randomfunction "
   ]
  },
  {
   "cell_type": "markdown",
   "metadata": {},
   "source": [
    "![alt text](images/Lession%206//2.5%20coin%20fipping%20game.png)"
   ]
  },
  {
   "cell_type": "code",
   "execution_count": null,
   "metadata": {},
   "outputs": [
    {
     "name": "stdout",
     "output_type": "stream",
     "text": [
      "Start coin toossing game.\n",
      "Back\n",
      "Game finished.\n"
     ]
    }
   ],
   "source": [
    "import random\n",
    "\n",
    "print(\"Start coin toossing game.\")\n",
    "coin = random.randrange(2)\n",
    "if coin == 0 :\n",
    "    print(\"Fornt\")\n",
    "else:\n",
    "    print(\"Back\")\n",
    "print(\"Game finished.\")\n"
   ]
  },
  {
   "cell_type": "markdown",
   "metadata": {},
   "source": [
    "#### 3.Nested conditional statements \n",
    "##### 3.1What is nested conditional statment "
   ]
  },
  {
   "cell_type": "markdown",
   "metadata": {},
   "source": [
    "![alt text](images/Lession%206/3.1%20what%20is%20nested%20statement.png)"
   ]
  },
  {
   "cell_type": "markdown",
   "metadata": {},
   "source": [
    "##### 3.2Putting if-else statement inside if_else statement "
   ]
  },
  {
   "cell_type": "code",
   "execution_count": null,
   "metadata": {},
   "outputs": [
    {
     "name": "stdout",
     "output_type": "stream",
     "text": [
      "Enter an integer : -20\n",
      "it's a negetive number :\n"
     ]
    }
   ],
   "source": [
    "num = int(input(\"Enter an integer :\"))\n",
    "print(\"Enter an integer :\",num)\n",
    "if num >=0 :\n",
    "    if num == 0:\n",
    "        print(\"It's 0\")\n",
    "    else:\n",
    "        print(\"It's a possitive number.\")\n",
    "else:\n",
    "    print(\"it's a negetive number :\")"
   ]
  },
  {
   "cell_type": "markdown",
   "metadata": {},
   "source": [
    "#### 4.Various Example of Nested Conditional Statements \n",
    "##### 4.1 Using neting to determine even or odd "
   ]
  },
  {
   "cell_type": "code",
   "execution_count": null,
   "metadata": {},
   "outputs": [
    {
     "name": "stdout",
     "output_type": "stream",
     "text": [
      "100 is not a negative number\n",
      "100 is an even number\n"
     ]
    }
   ],
   "source": [
    "num = 100 \n",
    "if num < 0 :\n",
    "    print(num,\"is a negative number :\")\n",
    "else: \n",
    "    print(num,\"is not a negative number\")\n",
    "    if num % 2 == 0:\n",
    "        print(num,\"is an even number\")\n",
    "    else:\n",
    "        print(num,\"is an odd number :\")\n",
    "    "
   ]
  },
  {
   "cell_type": "code",
   "execution_count": null,
   "metadata": {},
   "outputs": [
    {
     "name": "stdout",
     "output_type": "stream",
     "text": [
      "-100 is a negative number :\n"
     ]
    }
   ],
   "source": [
    "# the behavior of the code when num is -100 \n",
    "num = -100 \n",
    "if num < 0 :\n",
    "    print(num,\"is a negative number :\")\n",
    "else: \n",
    "    print(num,\"is not a negative number\")\n",
    "    if num % 2 == 0:\n",
    "        print(num,\"is an even number\")\n",
    "    else:\n",
    "        print(num,\"is an odd number :\")\n",
    "    "
   ]
  },
  {
   "cell_type": "markdown",
   "metadata": {},
   "source": [
    "#### 5.Making Multi-directional Decisions Using elif\n",
    "##### 5.1 Checking multiple conditions sequentially"
   ]
  },
  {
   "cell_type": "markdown",
   "metadata": {},
   "source": [
    "![alt text](images/Lession%206/5.1.png)"
   ]
  },
  {
   "cell_type": "markdown",
   "metadata": {},
   "source": [
    "##### 5.2Code example to print wheater an integer is positive , zero, or ,negative "
   ]
  },
  {
   "cell_type": "code",
   "execution_count": null,
   "metadata": {},
   "outputs": [
    {
     "name": "stdout",
     "output_type": "stream",
     "text": [
      "It's zero(0)\n"
     ]
    }
   ],
   "source": [
    "num = int(input(\"Enter an integer\"))\n",
    "if num >0 :\n",
    "    print(\"It's a positive number\")\n",
    "elif num == 0:\n",
    "    print(\"It's zero(0)\")\n",
    "else:\n",
    "    print(\"It's a negativa numer\")\n",
    "    "
   ]
  },
  {
   "cell_type": "markdown",
   "metadata": {},
   "source": [
    "#### 6.Various Examples of if-elif-else statements \n",
    "##### 6.1Automatic menu ordering system "
   ]
  },
  {
   "cell_type": "code",
   "execution_count": null,
   "metadata": {},
   "outputs": [
    {
     "name": "stdout",
     "output_type": "stream",
     "text": [
      "##############################\n",
      "It's Divid's fruit shop.\n",
      "1: Apple (Price : 5,000 won)\n",
      "2: Grape  (Price : 6,000 won)\n",
      "3: Melon  (Price : 8,000 won)\n",
      "4: Orange  (Price : 2,000 won)\n",
      "##############################\n",
      "The fruit you chose is : Apple\n",
      "THe price of the selecetd fruit is : 5000\n",
      "The number you selecetd is :  10\n",
      "The total amount is : 50000 won\n",
      "Got 100000 won the change is 50000 won\n"
     ]
    }
   ],
   "source": [
    "print(\"#\" * 30)\n",
    "print(\"It's Divid's fruit shop.\")\n",
    "print(\"1: Apple (Price : 5,000 won)\")\n",
    "print(\"2: Grape  (Price : 6,000 won)\")\n",
    "print(\"3: Melon  (Price : 8,000 won)\")\n",
    "print(\"4: Orange  (Price : 2,000 won)\")\n",
    "print(\"#\" * 30)\n",
    "# 2 Recived user input :\n",
    "number_of_item = int(input(\"Enter the number of the item(between 1 and 4 >> )\"))\n",
    "# 3 the amount of total \n",
    "total = 0 \n",
    "# 4 Recived the quty of the item from the user :\n",
    "quty_of_item = int(input(\"Enter the quty of item (between 1 > 10)\"))\n",
    "#using if elif else statment \n",
    "if number_of_item == 1 :\n",
    "    fruit = 'Apple'\n",
    "    price = 5000\n",
    "elif number_of_item == 2:\n",
    "    fruit = 'Grape'\n",
    "    price = 6000\n",
    "elif number_of_item == 3:\n",
    "    fruit = 'Melon'\n",
    "    price = 8000\n",
    "else:\n",
    "    fruit = 'Orange'\n",
    "    price = 2000   \n",
    "    \n",
    "#output the result of item\n",
    "print(\"The fruit you chose is :\", fruit)\n",
    "print(\"THe price of the selecetd fruit is :\",price)\n",
    "print(\"The number you selecetd is : \",quty_of_item)\n",
    "print(\"The total amount is :\", price * quty_of_item, \"won\")\n",
    "\n",
    "#check if the money is insufficent or not \n",
    "money = int(input(\"Plase pu the money in (ex: 15000)>>> \"))\n",
    "if money < price * quty_of_item :\n",
    "    price(\"Not enough money\")\n",
    "else:\n",
    "    change  = money - price * quty_of_item\n",
    "    print(f\"Got {money} won the change is {change} won\")\n",
    "    \n",
    "\n",
    "\n",
    "\n"
   ]
  },
  {
   "cell_type": "markdown",
   "metadata": {},
   "source": [
    "##### 6.2Program to check if the ID and Passowrd match "
   ]
  },
  {
   "cell_type": "code",
   "execution_count": null,
   "metadata": {},
   "outputs": [
    {
     "name": "stdout",
     "output_type": "stream",
     "text": [
      "welcome\n"
     ]
    }
   ],
   "source": [
    "id = \"ilovepython\"\n",
    "password = \"mypass1234\"\n",
    "input_id = input(\"Enter your ID :\")\n",
    "input_password = input(\"Enter you password\")\n",
    "\n",
    "if input_id == id and input_password == password:\n",
    "    print(\"welcome\")\n",
    "else:\n",
    "    print(\"Your id or password is incorrect\")"
   ]
  },
  {
   "cell_type": "markdown",
   "metadata": {},
   "source": [
    "#### 7.Comparison in conditional statements \n",
    "##### 7.1GPA calculator"
   ]
  },
  {
   "cell_type": "code",
   "execution_count": null,
   "metadata": {},
   "outputs": [
    {
     "name": "stdout",
     "output_type": "stream",
     "text": [
      "Your grade: A\n"
     ]
    }
   ],
   "source": [
    "#example A : mulitple if statement\n",
    "score = int(input(\"Enter your score :\"))\n",
    "if score >= 90:\n",
    "    grade = \"A\"\n",
    "if score < 90 and score >= 80:\n",
    "    grade = \"B\"\n",
    "if score < 80 and score >= 70:\n",
    "    grade = \"C\"\n",
    "if score < 70 and score >= 60:\n",
    "    grade = \"D\"\n",
    "if score < 60:\n",
    "    grade = \"F\"\n",
    "print(\"Your grade:\", grade)"
   ]
  },
  {
   "cell_type": "code",
   "execution_count": null,
   "metadata": {},
   "outputs": [
    {
     "name": "stdout",
     "output_type": "stream",
     "text": [
      "Your grade: A\n"
     ]
    }
   ],
   "source": [
    "#example B : nested if - else statement\n",
    "score = int(input(\"Enter your score :\"))\n",
    "if score >= 90:\n",
    "    grade = \"A\"\n",
    "else: \n",
    "    if score < 90 and score >= 80:\n",
    "        grade = \"B\"\n",
    "    else:\n",
    "        if score < 80 and score >= 70:\n",
    "            grade = \"C\"\n",
    "        else:\n",
    "            if score < 70 and score >= 60:\n",
    "                grade = \"D\"\n",
    "            else : \n",
    "                grade = \"F\"\n",
    "print(\"Your grade:\", grade)"
   ]
  },
  {
   "cell_type": "code",
   "execution_count": null,
   "metadata": {},
   "outputs": [],
   "source": [
    "#example C : if elif else statement \n",
    "score = int(input(\"Enter your score :\"))\n",
    "if score >= 90:\n",
    "    grade = \"A\"\n",
    "elif score < 90 and score >= 80:\n",
    "    grade = \"B\"\n",
    "elif score < 80 and score >= 70:\n",
    "    grade = \"C\"\n",
    "elif score < 70 and score >= 60:\n",
    "    grade = \"D\"\n",
    "else:\n",
    "    grade = \"F\"\n",
    "print(\"Your grade:\", grade)"
   ]
  },
  {
   "cell_type": "markdown",
   "metadata": {},
   "source": [
    "#### Paper Coding"
   ]
  },
  {
   "cell_type": "markdown",
   "metadata": {},
   "source": [
    "![alt text](images/Lession%206/Paper%20code%20Q1.png)"
   ]
  },
  {
   "cell_type": "code",
   "execution_count": null,
   "metadata": {},
   "outputs": [
    {
     "name": "stdout",
     "output_type": "stream",
     "text": [
      "k is a consonat\n"
     ]
    }
   ],
   "source": [
    "#setp one rective a single character from the user \n",
    "single_character = input(\"Enter the alphabet :\")\n",
    "#setp tow using the condtional statment if elif else statment to determine the it's a vowel or it's a consonat\n",
    "if single_character == 'a':\n",
    "    print(f\"{single_character} is a vowel\")\n",
    "elif single_character =='e':\n",
    "    print(f\"{single_character} is a vowel\")\n",
    "elif single_character =='i':\n",
    "    print(f\"{single_character} is a vowel\")\n",
    "elif single_character =='o':\n",
    "    print(f\"{single_character} is a vowel\")\n",
    "elif single_character =='u':\n",
    "    print(f\"{single_character} is a vowel\")\n",
    "else:\n",
    "    print(f\"{single_character} is a consonat\")"
   ]
  },
  {
   "cell_type": "markdown",
   "metadata": {},
   "source": [
    "![alt text](images/Lession%206/Paper%20code%20Q2.png)"
   ]
  },
  {
   "cell_type": "code",
   "execution_count": null,
   "metadata": {},
   "outputs": [
    {
     "name": "stdout",
     "output_type": "stream",
     "text": [
      "30 is multiple of 3\n"
     ]
    }
   ],
   "source": [
    "a,b = input(\"Enter integer value of a and b\").split(\" \")\n",
    "a = int(a)\n",
    "b = int(b)\n",
    "if a % b == 0 :\n",
    "    print(f\"{a} is multiple of {b}\")\n",
    "else:\n",
    "    print(f\"{a} is not multiple of {b}\")"
   ]
  },
  {
   "cell_type": "markdown",
   "metadata": {},
   "source": [
    "#### Let code "
   ]
  },
  {
   "cell_type": "markdown",
   "metadata": {},
   "source": [
    "![alt text](images/Lession%206/Mission.png)"
   ]
  },
  {
   "cell_type": "code",
   "execution_count": null,
   "metadata": {},
   "outputs": [
    {
     "name": "stdout",
     "output_type": "stream",
     "text": [
      "No goal\n",
      "the goal_kepper is on the center\n"
     ]
    }
   ],
   "source": [
    "#step one import randoms\n",
    "import random\n",
    "goal_keepper = random.randint(1,3)\n",
    "#step two Revie the attacker from the user \n",
    "attacker = int(input(\"what the possition you want to attack (Left , Center , Right)\"))\n",
    "#step three determine the possite left , center ,right by generating a random number\n",
    "if goal_keepper == 1 :\n",
    "    postion = 'left'\n",
    "elif goal_keepper == 2:\n",
    "    postion = 'center'\n",
    "else:\n",
    "    postion ='right'\n",
    "#setp four if the attacekr is the same of goal_keepper print no goal\n",
    "if  goal_keepper == attacker:\n",
    "    print(\"No goal\")\n",
    "else:\n",
    "    print(\"GOAL!\")\n",
    "#setp five display the goal_keepper possition \n",
    "print(f\"the goal_kepper is on the {postion}\")"
   ]
  },
  {
   "cell_type": "markdown",
   "metadata": {},
   "source": [
    "#### Pair Program "
   ]
  },
  {
   "cell_type": "markdown",
   "metadata": {},
   "source": [
    "![alt text](images/Lession%206/Pair%20Programm%20Q1.png)"
   ]
  },
  {
   "cell_type": "code",
   "execution_count": null,
   "metadata": {},
   "outputs": [
    {
     "name": "stdout",
     "output_type": "stream",
     "text": [
      "1): addtion , 2):substract , 3): multiplication , 4): division\n",
      "10 + 20 = 30\n"
     ]
    }
   ],
   "source": [
    "#Q1 user input 1 add and value of two number 10 and 20\n",
    "#step one create a menu for the operation number \n",
    "print(\"1): addtion , 2):substract , 3): multiplication , 4): division\")\n",
    "#setp two recive the user choice from keyborad\n",
    "user_choice = int(input(\"Plase enter the number corresponding to the operation :\"))\n",
    "#setp three recive the tow number for the operation\n",
    "value_of_firstNumber, value_of_SecondNumber = input(\"Plase enter tow numbers for the operation:\").split(\" \")\n",
    "#step four convert the value_of_firstNumber and value_of_SecondNumber from string to integer\n",
    "value_of_firstNumber = int(value_of_firstNumber)\n",
    "value_of_SecondNumber = int(value_of_SecondNumber)\n",
    "#step five using the condtional statmen to create a operation follow by the menu \n",
    "if user_choice == 1:\n",
    "    total =  value_of_firstNumber + value_of_SecondNumber\n",
    "    print(f\"{value_of_firstNumber} + {value_of_SecondNumber} = {total}\")\n",
    "elif user_choice == 2:\n",
    "    total =  value_of_firstNumber - value_of_SecondNumber\n",
    "    print(f\"{value_of_firstNumber} - {value_of_SecondNumber} = {total}\")\n",
    "elif user_choice == 3:\n",
    "    total =  value_of_firstNumber * value_of_SecondNumber\n",
    "    print(f\"{value_of_firstNumber} * {value_of_SecondNumber} = {total}\")\n",
    "elif user_choice == 4:\n",
    "    total =  value_of_firstNumber / value_of_SecondNumber\n",
    "    print(f\"{value_of_firstNumber} / {value_of_SecondNumber} = {total}\")\n",
    "else:\n",
    "    print(\"Invalid input\")\n",
    "    pass"
   ]
  },
  {
   "cell_type": "code",
   "execution_count": null,
   "metadata": {},
   "outputs": [
    {
     "name": "stdout",
     "output_type": "stream",
     "text": [
      "1): addtion , 2):substract , 3): multiplication , 4): division\n",
      "Invalid input\n"
     ]
    }
   ],
   "source": [
    "#Q1 user input 5 \n",
    "#step one create a menu for the operation number \n",
    "print(\"1): addtion , 2):substract , 3): multiplication , 4): division\")\n",
    "#setp two recive the user choice from keyborad\n",
    "user_choice = int(input(\"Plase enter the number corresponding to the operation :\"))\n",
    "#setp three recive the tow number for the operation\n",
    "value_of_firstNumber, value_of_SecondNumber = input(\"Plase enter tow numbers for the operation:\").split(\" \")\n",
    "#step four convert the value_of_firstNumber and value_of_SecondNumber from string to integer\n",
    "value_of_firstNumber = int(value_of_firstNumber)\n",
    "value_of_SecondNumber = int(value_of_SecondNumber)\n",
    "#step five using the condtional statmen to create a operation follow by the menu \n",
    "if user_choice == 1:\n",
    "    total =  value_of_firstNumber + value_of_SecondNumber\n",
    "    print(f\"{value_of_firstNumber} + {value_of_SecondNumber} = {total}\")\n",
    "elif user_choice == 2:\n",
    "    total =  value_of_firstNumber - value_of_SecondNumber\n",
    "    print(f\"{value_of_firstNumber} - {value_of_SecondNumber} = {total}\")\n",
    "elif user_choice == 3:\n",
    "    total =  value_of_firstNumber * value_of_SecondNumber\n",
    "    print(f\"{value_of_firstNumber} * {value_of_SecondNumber} = {total}\")\n",
    "elif user_choice == 4:\n",
    "    total =  value_of_firstNumber / value_of_SecondNumber\n",
    "    print(f\"{value_of_firstNumber} / {value_of_SecondNumber} = {total}\")\n",
    "else:\n",
    "    print(\"Invalid input\")\n",
    "    pass"
   ]
  },
  {
   "cell_type": "markdown",
   "metadata": {},
   "source": [
    "![alt text](images/Lession%206/Pair%20Porgramm%20Q2.png)"
   ]
  },
  {
   "cell_type": "code",
   "execution_count": null,
   "metadata": {},
   "outputs": [
    {
     "name": "stdout",
     "output_type": "stream",
     "text": [
      "The point (-5, 6) lies in Second Quadrant.\n"
     ]
    }
   ],
   "source": [
    "#Q2\n",
    "#step one take a point with x and y coordinates as input from the user \n",
    "x , y =input(\"Enter x , y coordinates :\").split()\n",
    "#step two convert string to int\n",
    "x =int(x)\n",
    "y =int(y)\n",
    "#using conditional statement to determines wihci quadrant point belongs to \n",
    "if x > 0 and y > 0:\n",
    "    print(f\"The point ({x}, {y}) lies in first Quadrant.\")\n",
    "elif x < 0 and y > 0:\n",
    "    print(f\"The point ({x}, {y}) lies in Second Quadrant.\")\n",
    "elif x < 0 and y < 0:\n",
    "    print(f\"The point ({x}, {y}) lies in thrid Quadrant.\")\n",
    "elif x > 0 and y < 0:\n",
    "    print(f\"The point ({x}, {y}) lies in four Quadrant.\")\n",
    "else:\n",
    "    print (\"The point lies on one of the axes or at the origin.\")\n"
   ]
  },
  {
   "cell_type": "markdown",
   "metadata": {},
   "source": [
    "![alt text](images/Lession%206/Pair%20Program%20Q3.png)"
   ]
  },
  {
   "cell_type": "code",
   "execution_count": null,
   "metadata": {},
   "outputs": [
    {
     "name": "stdout",
     "output_type": "stream",
     "text": [
      "Welcom to Yummy restaurant. Gere is the menu\n",
      "        -Burger (enter b)\n",
      "        -Chicken(enter c)\n",
      "        -Pizza (enter p)\n",
      "      \n",
      "You chose pizza\n"
     ]
    }
   ],
   "source": [
    "#Q3\n",
    "#setp one create menu for the user to pic \n",
    "print(\"\"\"Welcom to Yummy restaurant. Gere is the menu\n",
    "        -Burger (enter b)\n",
    "        -Chicken(enter c)\n",
    "        -Pizza (enter p)\n",
    "      \"\"\")\n",
    "#setp two recive the user input \n",
    "user_choose = input(\"Chosse a menu (enter b, c ,p):\")\n",
    "#using conditional statmen to determines user chose\n",
    "if user_choose == 'b'or user_choose == 'B':\n",
    "    print(\"You chose Burger\")\n",
    "elif user_choose == 'c' or user_choose == 'C':\n",
    "    print(\"You chose Chicken\")\n",
    "elif user_choose == 'p' or user_choose == 'P':\n",
    "    print(\"You chose pizza\")\n",
    "else:\n",
    "    print(\"Plase enter the menu again\")"
   ]
  }
 ],
 "metadata": {
  "language_info": {
   "name": "python"
  }
 },
 "nbformat": 4,
 "nbformat_minor": 2
}
