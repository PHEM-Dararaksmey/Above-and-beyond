{
 "cells": [
  {
   "cell_type": "code",
   "execution_count": null,
   "metadata": {},
   "outputs": [],
   "source": []
  },
  {
   "cell_type": "markdown",
   "metadata": {},
   "source": [
    "### Lession 5 Conditional Statement-1: Condition and Decision Making"
   ]
  },
  {
   "cell_type": "markdown",
   "metadata": {},
   "source": [
    "#### 1.Programming with different flows depending on conditions "
   ]
  },
  {
   "cell_type": "markdown",
   "metadata": {},
   "source": [
    "There are three type of contro satement :<br>\n",
    " 1.Conditional stament <br>\n",
    " 2.Loop statement <br>\n",
    " 3.Flow-altering command<br> "
   ]
  },
  {
   "cell_type": "markdown",
   "metadata": {},
   "source": [
    "##### 1.2The need for conditional selective flow \n",
    "<br> Why do we need conditional statements \n",
    " <br> if there is more than one possible path to processd, we need to decide whic path to choose<br>\n",
    " <br> without selection structures, we cannot determine which path to choose resulting in the program always a signle path"
   ]
  },
  {
   "cell_type": "markdown",
   "metadata": {},
   "source": [
    "#### 2.2if statment syntax "
   ]
  },
  {
   "cell_type": "code",
   "execution_count": null,
   "metadata": {},
   "outputs": [
    {
     "name": "stdout",
     "output_type": "stream",
     "text": [
      "Youth discount\n"
     ]
    }
   ],
   "source": [
    "#situaltion 1 \n",
    "# if the age is under 20,output 'Youth discount '\n",
    "age = 18\n",
    "if age<20:\n",
    "    print(\"Youth discount\")"
   ]
  },
  {
   "cell_type": "code",
   "execution_count": null,
   "metadata": {},
   "outputs": [
    {
     "name": "stdout",
     "output_type": "stream",
     "text": [
      "How many step you done to day1000\n",
      "Achieved the goal\n"
     ]
    }
   ],
   "source": [
    "#situaltion 2 \n",
    "# if the step count is over 1000 output 'Goal achiveved'\n",
    "walk_count= int(input(\"How many step you done to day\"))\n",
    "if walk_count >= 1000:\n",
    "    print(\"Achieved the goal\")"
   ]
  },
  {
   "cell_type": "markdown",
   "metadata": {},
   "source": [
    "#### 2.3Blocks and Python's indentation"
   ]
  },
  {
   "cell_type": "code",
   "execution_count": null,
   "metadata": {},
   "outputs": [
    {
     "ename": "IndentationError",
     "evalue": "expected an indented block after 'if' statement on line 2 (1810150639.py, line 3)",
     "output_type": "error",
     "traceback": [
      "\u001b[0;36m  Cell \u001b[0;32mIn[11], line 3\u001b[0;36m\u001b[0m\n",
      "\u001b[0;31m    print('youth discount')\u001b[0m\n",
      "\u001b[0m    ^\u001b[0m\n",
      "\u001b[0;31mIndentationError\u001b[0m\u001b[0;31m:\u001b[0m expected an indented block after 'if' statement on line 2\n"
     ]
    }
   ],
   "source": [
    "age = 18 \n",
    "if age < 20:\n",
    "print('youth discount')"
   ]
  },
  {
   "cell_type": "markdown",
   "metadata": {},
   "source": [
    "Note : Python is a programming language where indentation holds significant importance.\n",
    "<br> Different results are produced based on the indentation"
   ]
  },
  {
   "cell_type": "code",
   "execution_count": null,
   "metadata": {},
   "outputs": [
    {
     "name": "stdout",
     "output_type": "stream",
     "text": [
      "Age : 24\n",
      "Welcome\n"
     ]
    }
   ],
   "source": [
    "age = 24 \n",
    "print('Age :', age)\n",
    "if age < 20:\n",
    "    print('Youth age')\n",
    "    print('Youth discount')\n",
    "print('Welcome')"
   ]
  },
  {
   "cell_type": "code",
   "execution_count": null,
   "metadata": {},
   "outputs": [
    {
     "name": "stdout",
     "output_type": "stream",
     "text": [
      "Age : 24\n",
      "Youth discount\n",
      "Welcome\n"
     ]
    }
   ],
   "source": [
    "age = 24 \n",
    "print('Age :', age)\n",
    "if age < 20:\n",
    "    print('Youth age')\n",
    "print('Youth discount')\n",
    "print('Welcome')"
   ]
  },
  {
   "cell_type": "markdown",
   "metadata": {},
   "source": [
    "##### 2.4The pass keyword\n",
    "<br> The pass statement in python is used to skip the code within a block\n",
    "<br> It is primaryily used when you want to write the code later because the precise processibgdetails are not yet available "
   ]
  },
  {
   "cell_type": "code",
   "execution_count": null,
   "metadata": {},
   "outputs": [],
   "source": [
    "age = 18 \n",
    "if age <20 :\n",
    "    pass \n"
   ]
  },
  {
   "cell_type": "markdown",
   "metadata": {},
   "source": [
    "#### 3Various Conditional Statement Examples \n",
    "##### 3.1Checking for value equality "
   ]
  },
  {
   "cell_type": "code",
   "execution_count": null,
   "metadata": {},
   "outputs": [
    {
     "name": "stdout",
     "output_type": "stream",
     "text": [
      "Enter your id :david\n",
      "ID match :\n"
     ]
    }
   ],
   "source": [
    "my_id = 'david'\n",
    "s = input(\"Enter your id :\")\n",
    "if s == my_id:\n",
    "    print('ID match :')"
   ]
  },
  {
   "cell_type": "markdown",
   "metadata": {},
   "source": [
    "##### 3.2Checking for multiples of 3 "
   ]
  },
  {
   "cell_type": "code",
   "execution_count": null,
   "metadata": {},
   "outputs": [
    {
     "name": "stdout",
     "output_type": "stream",
     "text": [
      "Enter an integer :6\n",
      "6 is a multiple of 3\n"
     ]
    }
   ],
   "source": [
    "number = int(input(\"Enter an integer :\"))\n",
    "if (number % 3 ) == 0 :\n",
    "        print(number,\"is a multiple of 3\")"
   ]
  },
  {
   "cell_type": "markdown",
   "metadata": {},
   "source": [
    "##### 3.3checking for multiples of 3 and 5 imulanously"
   ]
  },
  {
   "cell_type": "code",
   "execution_count": null,
   "metadata": {},
   "outputs": [
    {
     "name": "stdout",
     "output_type": "stream",
     "text": [
      "Enter an integer :15\n",
      "15 is a multiple of 3 and 5\n"
     ]
    }
   ],
   "source": [
    "number = int(input(\"Enter an integer :\"))\n",
    "if (number % 3 ) == 0 and (number % 5)== 0 :\n",
    "        print(number,\"is a multiple of 3 and 5\")"
   ]
  },
  {
   "cell_type": "markdown",
   "metadata": {},
   "source": [
    "##### 3.4Checking for even number "
   ]
  },
  {
   "cell_type": "code",
   "execution_count": null,
   "metadata": {},
   "outputs": [
    {
     "name": "stdout",
     "output_type": "stream",
     "text": [
      "Enter an integer :50 \n",
      "n =  50\n",
      "50 is an even number\n"
     ]
    }
   ],
   "source": [
    "n = int(input(\"Enter an integer :\"))\n",
    "print(\"n = \", n)\n",
    "if n % 2 == 0:\n",
    "    print(n, \"is an even number\")"
   ]
  },
  {
   "cell_type": "markdown",
   "metadata": {},
   "source": [
    "##### 3.5Checking for string equlity \n"
   ]
  },
  {
   "cell_type": "code",
   "execution_count": null,
   "metadata": {},
   "outputs": [
    {
     "name": "stdout",
     "output_type": "stream",
     "text": [
      "The two string are not the same\n"
     ]
    }
   ],
   "source": [
    "String1='aaa'\n",
    "String2='bbb'\n",
    "if(String1 == String2):\n",
    "    print(\"The two string are the same\")\n",
    "if(String1 != String2):\n",
    "    print(\"The two string are not the same\")"
   ]
  },
  {
   "cell_type": "markdown",
   "metadata": {},
   "source": [
    "##### 3.6Determining pass or fail based on score "
   ]
  },
  {
   "cell_type": "code",
   "execution_count": null,
   "metadata": {},
   "outputs": [
    {
     "name": "stdout",
     "output_type": "stream",
     "text": [
      "Enter your scoure : 90\n",
      "Congratulations.\n",
      "You passed.\n",
      "You can also get a scholarship\n"
     ]
    }
   ],
   "source": [
    "score = int(input(\"Enter your scoure : \"))\n",
    "if score >= 90:\n",
    "    print(\"Congratulations.\")\n",
    "    print(\"You passed.\")\n",
    "    print(\"You can also get a scholarship\")"
   ]
  },
  {
   "cell_type": "markdown",
   "metadata": {},
   "source": [
    "##### 3.7Example using logical operator \n",
    "<br>when you combine comparison operators and logical operators. This is called \"logical operation\""
   ]
  },
  {
   "cell_type": "code",
   "execution_count": null,
   "metadata": {},
   "outputs": [
    {
     "name": "stdout",
     "output_type": "stream",
     "text": [
      "both numbers are even numbers\n",
      "One or more of the two numbers are even\n"
     ]
    }
   ],
   "source": [
    "a = 10\n",
    "b = 14\n",
    "if (a%2 == 0) and (b % 2 == 0):\n",
    "    print(\"both numbers are even numbers\")\n",
    "if (a % 2 == 0) or (b % 2 == 0):\n",
    "    print(\"One or more of the two numbers are even\")"
   ]
  },
  {
   "cell_type": "code",
   "execution_count": null,
   "metadata": {},
   "outputs": [
    {
     "name": "stdout",
     "output_type": "stream",
     "text": [
      "One or more of the two numbers are even\n"
     ]
    }
   ],
   "source": [
    "a = 10\n",
    "b = 13\n",
    "if (a%2 == 0) and (b % 2 == 0):\n",
    "    print(\"both numbers are even numbers\")\n",
    "if (a % 2 == 0) or (b % 2 == 0):\n",
    "    print(\"One or more of the two numbers are even\")"
   ]
  },
  {
   "cell_type": "markdown",
   "metadata": {},
   "source": [
    "#### Paper Code "
   ]
  },
  {
   "cell_type": "markdown",
   "metadata": {},
   "source": [
    "##### Q1.if the game score of game user is 1000 or more , print(\"you are a pro\")\n",
    "\n",
    "write the entircode and the expected output result on the note <br>\n"
   ]
  },
  {
   "cell_type": "markdown",
   "metadata": {},
   "source": [
    "![alt text](images/Lession%205/paper%20code%20Q1.png)"
   ]
  },
  {
   "cell_type": "code",
   "execution_count": null,
   "metadata": {},
   "outputs": [
    {
     "name": "stdout",
     "output_type": "stream",
     "text": [
      "Enter game_score :100\n",
      "Your game score =  100 you still need score about  900 more to be a pro\n"
     ]
    }
   ],
   "source": [
    "game_score = int(input(\"Enter game_score :\"))\n",
    "if game_score >= 1000:\n",
    "    print(\"Your are a pro\")\n",
    "else:\n",
    "    print(\"Your game score = \",game_score,\"you still need score about \", 1000 - game_score,\"more to be a pro\")"
   ]
  },
  {
   "cell_type": "markdown",
   "metadata": {},
   "source": [
    "##### Q2.Write a program that takes a random integer x between -100 and 100 and performs the following taksk\n",
    "<br>1 print x on the screen\n",
    "<br>2 if x is a positive integer and print is a natural number\n",
    "\n"
   ]
  },
  {
   "cell_type": "markdown",
   "metadata": {},
   "source": [
    "![alt text](images/Lession%205/paper%20code%202.png)"
   ]
  },
  {
   "cell_type": "code",
   "execution_count": null,
   "metadata": {},
   "outputs": [
    {
     "name": "stdout",
     "output_type": "stream",
     "text": [
      "69 is a natural number.\n"
     ]
    }
   ],
   "source": [
    "import random \n",
    "#generation x random number for -100 to 100\n",
    "x = random.randint(-100 , 100)\n",
    "\n",
    "if 0 < x <= 100:\n",
    "    print(f\"{x} is a natural number.\")\n",
    "else:\n",
    "    print(\"the number of x = \", x)"
   ]
  },
  {
   "cell_type": "markdown",
   "metadata": {},
   "source": [
    "#### Mission : Lottery Winning Simulation"
   ]
  },
  {
   "cell_type": "markdown",
   "metadata": {},
   "source": [
    "![alt text](images/Lession%205/Mission.png)"
   ]
  },
  {
   "cell_type": "code",
   "execution_count": null,
   "metadata": {},
   "outputs": [
    {
     "name": "stdout",
     "output_type": "stream",
     "text": [
      "Enter three number a : 2\n",
      "Enter three number b : 3\n",
      "Enter three number c : 9\n",
      "you won \n"
     ]
    }
   ],
   "source": [
    "# step one initialize \n",
    "n1 = 2\n",
    "n2 = 3\n",
    "n3 = 9\n",
    "# step two initialize n as 0 \n",
    "n = 0 \n",
    "# setp three take input a ,b ,c as number (int)\n",
    "a = int(input(\"Enter three number a : \"))\n",
    "b = int(input(\"Enter three number b : \"))\n",
    "c = int(input(\"Enter three number c : \"))\n",
    "#if n match one of 2,3,9\n",
    "if (a == n1 or a == n2 or a == n3):\n",
    "    n+=1\n",
    "    if (b== n1 or b == n2 or b == n3):\n",
    "        n+=1\n",
    "        if(c == n1 or c == n2 or c == n3):\n",
    "            n+= 1\n",
    "if n == 3 :\n",
    "    print(\"you won \")\n",
    "else:\n",
    "    print(\"you lose\")\n",
    "    "
   ]
  },
  {
   "cell_type": "code",
   "execution_count": null,
   "metadata": {},
   "outputs": [
    {
     "name": "stdout",
     "output_type": "stream",
     "text": [
      "Enter three number a : 9\n",
      "Enter three number b : 3\n",
      "Enter three number c : 2\n",
      "you won \n"
     ]
    }
   ],
   "source": [
    "# step one initialize \n",
    "n1 = 2\n",
    "n2 = 3\n",
    "n3 = 9\n",
    "# step two initialize n as 0 \n",
    "n = 0 \n",
    "# setp three take input a ,b ,c as number (int)\n",
    "a = int(input(\"Enter three number a : \"))\n",
    "b = int(input(\"Enter three number b : \"))\n",
    "c = int(input(\"Enter three number c : \"))\n",
    "#if n match one of 2,3,9\n",
    "if (a == n1 or a == n2 or a == n3):\n",
    "    n+=1\n",
    "    if (b== n1 or b == n2 or b == n3):\n",
    "        n+=1\n",
    "        if(c == n1 or c == n2 or c == n3):\n",
    "            n+= 1\n",
    "if n == 3 :\n",
    "    print(\"you won \")\n",
    "else:\n",
    "    print(\"you lose\")"
   ]
  },
  {
   "cell_type": "markdown",
   "metadata": {},
   "source": [
    "#### Piar Programming "
   ]
  },
  {
   "cell_type": "markdown",
   "metadata": {},
   "source": [
    "##### Q1  \n",
    "Write code what prompts the user to enter their age and prints \"Adult\" if the age is 20 or above ,\"Youth\" if the age is 10 or above <br>\n",
    "but less than 20 and \"kid\" if the age is below 10 "
   ]
  },
  {
   "cell_type": "markdown",
   "metadata": {},
   "source": [
    "\n",
    "![alt text](images/Lession%205/Lession%205%20Pair%20Q1.png)\n"
   ]
  },
  {
   "cell_type": "code",
   "execution_count": null,
   "metadata": {},
   "outputs": [
    {
     "name": "stdout",
     "output_type": "stream",
     "text": [
      "User entered age : 20\n",
      "Youth\n"
     ]
    }
   ],
   "source": [
    "#setp one recived the user input  \n",
    "age = int(input(\"Enter your age :\"))\n",
    "print(\"User entered age :\", age)\n",
    "#setp using control statement \n",
    "if (age > 20):\n",
    "    print(\"Adult\")\n",
    "if ( 10 <= age and age <= 20):\n",
    "    print(\"Youth\")\n",
    "if (age < 10):\n",
    "    print(\"kid\")"
   ]
  },
  {
   "cell_type": "markdown",
   "metadata": {},
   "source": [
    "##### Q2"
   ]
  },
  {
   "cell_type": "markdown",
   "metadata": {},
   "source": [
    "![alt text](images/Lession%205/Lession%205%20Pair%20Q2.png)"
   ]
  },
  {
   "cell_type": "code",
   "execution_count": null,
   "metadata": {},
   "outputs": [
    {
     "name": "stdout",
     "output_type": "stream",
     "text": [
      "Enter you age : 20\n",
      "Enter your height (in cm): 180\n",
      "You can enter\n"
     ]
    }
   ],
   "source": [
    "# step one recive the user age and height \n",
    "age = int(input(\"Enter your age :\"))\n",
    "height = int(input(\"Enter your height (in cm) :\"))\n",
    "\n",
    "#step three print user enter \n",
    "print(\"Enter you age :\",age)\n",
    "print(\"Enter your height (in cm):\",height)\n",
    "\n",
    "#setp tow using control statement \n",
    "if (age <= 65 and height >= 110):\n",
    "    print(\"You can enter\")\n"
   ]
  }
 ],
 "metadata": {
  "language_info": {
   "name": "python"
  }
 },
 "nbformat": 4,
 "nbformat_minor": 2
}
