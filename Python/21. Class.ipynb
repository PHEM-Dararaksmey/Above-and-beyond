{
 "cells": [
  {
   "cell_type": "markdown",
   "metadata": {},
   "source": [
    "# 21.Class \n",
    "Learning objective\n",
    "1. Learner can understand the concepts of object-oriented programming and explain its significance.\n",
    "2. Learner can learn the concpts of classes, instances ,and object and differentiate between them.\n",
    "3. Learner can design class, understand how to create objects and implement them.\n",
    "4. Learner can comprehend the concept of a constructor and use the parameter'self'in constructors.\n",
    "5. Learner can understand and define the structe of variables and methods in a class \n",
    "6. Learner can defin the dunder method, which is is special method called by operators and build-int function, in a class.\n",
    "7. Learner can understand the concept of encapsulation and create encapsulated code for programm stability,\n",
    "8. Learner can defin new classes by inheriting from specific classes.\n",
    "Main keywords\n",
    "1. Instances and objects of a class \n",
    "2. Contructor \n",
    "3. Parameters 'self'\n",
    "4. Dunder Method \n",
    "5. Encapsulation \n",
    "6. Inheritance \n",
    "\n",
    "## 1.Real world problem \n",
    "### 1.1 Bank and Computerization system\n",
    "![alt text](images/Lession%2021/Real%20world%20probelm.png)\n",
    "![alt text](images/Lession%2021/Real%20world%20problem%201.png)\n",
    "![alt text](images/Lession%2021/Real%20world%20problem%202.png)\n",
    "### 1.2 History of Banking \n",
    "![alt text](images/Lession%2021/History%20of%20bank.png)\n",
    "## 2.Solution\n",
    "### 2.1.Bank Account\n",
    "![alt text](images/Lession%2021/Bank%20account.png)\n",
    "\n",
    "* In this mission,after creating a BankAccount class,let's create an account named account1 with the name 'David'and deposit 2000 won.\n",
    "\n",
    "* Print the account information and then withdraw 500 won.\n",
    "\n",
    "* Print he account information again\n",
    "\n",
    "* Finally, withdraw 5000 won. print the account balance and display a message stating that the withdrawl is not possible.\n",
    "\n",
    "* Unlike procedural methods , the code for this mission operates by giving methods to objects.\n",
    "\n",
    "## 3.Mission \n",
    "### 3.1 Bank Account Operation Process \n",
    "![alt text](images/Lession%2021/Bank%20account%20process.png)\n",
    "### 3.2 Programming Plan \n",
    "![alt text](images/Lession%2021/Programming%20plan%201.png)\n",
    "![alt text](images/Lession%2021/Programming%20plan%202.png)\n",
    "### 3.3 Class diagram\n",
    "![alt text](images/Lession%2021/Class%20digram%201.png) \n",
    "![alt text](images/Lession%2021/Class%20digram%202.png) \n",
    "![alt text](images/Lession%2021/Class%20digram%203.png) \n",
    "![alt text](images/Lession%2021/Class%20digram%204.png)\n",
    "## Key Concept\n",
    "### 1.Programming and Objects\n",
    "#### 1.1 Classes, Instances , Objects\n",
    "\n",
    "Object \n",
    "- > An object is an element in a computer system that has attributes and methods to perform various function \n",
    "* Let's look at the following code."
   ]
  },
  {
   "cell_type": "code",
   "execution_count": 5,
   "metadata": {},
   "outputs": [
    {
     "data": {
      "text/plain": [
       "['cat', 'dog', 'lion', 'tiger']"
      ]
     },
     "execution_count": 5,
     "metadata": {},
     "output_type": "execute_result"
    }
   ],
   "source": [
    "animels = ['lion','tiger','cat','dog']\n",
    "animels.sort()\n",
    "animels"
   ]
  },
  {
   "cell_type": "code",
   "execution_count": 6,
   "metadata": {},
   "outputs": [
    {
     "data": {
      "text/plain": [
       "['cat', 'dog', 'lion', 'tiger', 'rabbit']"
      ]
     },
     "execution_count": 6,
     "metadata": {},
     "output_type": "execute_result"
    }
   ],
   "source": [
    "animels.append('rabbit')\n",
    "animels"
   ]
  },
  {
   "cell_type": "code",
   "execution_count": 7,
   "metadata": {},
   "outputs": [
    {
     "data": {
      "text/plain": [
       "['rabbit', 'tiger', 'lion', 'dog', 'cat']"
      ]
     },
     "execution_count": 7,
     "metadata": {},
     "output_type": "execute_result"
    }
   ],
   "source": [
    "animels.reverse()\n",
    "animels"
   ]
  },
  {
   "cell_type": "markdown",
   "metadata": {},
   "source": [
    "* When an object calls a method, the dot(.)operator is used."
   ]
  },
  {
   "cell_type": "code",
   "execution_count": 8,
   "metadata": {},
   "outputs": [
    {
     "data": {
      "text/plain": [
       "'TIGER'"
      ]
     },
     "execution_count": 8,
     "metadata": {},
     "output_type": "execute_result"
    }
   ],
   "source": [
    "'tiger'.upper()"
   ]
  },
  {
   "cell_type": "markdown",
   "metadata": {},
   "source": [
    "![alt text](images/Lession%2021/When%20an%20object%20calls%20a%20method.png)\n",
    "![alt text](images/Lession%2021/Every%20thing%20in%20python%20is%20an%20object.png)\n",
    "![alt text](images/Lession%2021/Every%20thing%20in%20python%20is%20an%20object%201.png)\n",
    "![alt text](images/Lession%2021/Class.png)\n",
    "![alt text](images/Lession%2021/Instant.png)\n",
    "![alt text](images/Lession%2021/In%20stant%201.png)\n",
    "![alt text](images/Lession%2021/Sumarry.png) \n",
    "\n",
    "#### 1.2 Comparison of Procedurl Programming and Object-Oriented Programming\n",
    "![alt text](images/Lession%2021/OOP.png)\n",
    "![alt text](images/Lession%2021/Procedural%20Programming%20language.png)\n",
    "![alt text](images/Lession%2021/Procedural%20programming%20language%201.png)\n",
    "![alt text](images/Lession%2021/OOAP.png)\n",
    "### 2. Class\n",
    "#### 2.1 Defining a Class\n",
    "- > A class is defined using the 'class' keyword, a colon(:), and indentation.\n",
    "- > After the <'clss'> keyword, the name of the class is written."
   ]
  },
  {
   "cell_type": "code",
   "execution_count": 10,
   "metadata": {},
   "outputs": [
    {
     "name": "stdout",
     "output_type": "stream",
     "text": [
      "<__main__.Cat object at 0x103427940>\n"
     ]
    }
   ],
   "source": [
    "class Cat :\n",
    "    pass \n",
    "\n",
    "nabi = Cat() # When creating a 'Cat' instance ,parentheses are requird.\n",
    "print(nabi) # When printing like 'print(nabi)', the id value of object is printed in hexadecimal."
   ]
  },
  {
   "cell_type": "code",
   "execution_count": 11,
   "metadata": {},
   "outputs": [],
   "source": [
    "class Cat:\n",
    "    def __init__(self,name,color): # Constructor '__init__' \n",
    "        self.name = name\n",
    "        self.color = color\n",
    "    \n",
    "    def meow(self):\n",
    "        pass\n",
    "    def run(self):\n",
    "        pass\n",
    "    def walk(self):\n",
    "        pass\n",
    "\n",
    "nabi = Cat('Nabi','Black')\n",
    "nabi = Cat('Nero','White')"
   ]
  },
  {
   "cell_type": "markdown",
   "metadata": {},
   "source": [
    "![alt text](images/Lession%2021/Constructor%20'__init__'%20%201.png)\n",
    "![alt text](images/Lession%2021/self%20parameter.png)\n",
    "![alt text](images/Lession%2021/the%20second%20parameter%201.png)\n",
    "![alt text](images/Lession%2021/Explain%20the%20instance%20.png)\n",
    "\n",
    "* The 'method' is a function defined inside a class and used by the class or class instances.\n"
   ]
  },
  {
   "cell_type": "code",
   "execution_count": 12,
   "metadata": {},
   "outputs": [],
   "source": [
    "class Cat :\n",
    "    def __init__(self,name,color):\n",
    "        self.name = name\n",
    "        self.color = color \n",
    "\n",
    "    def meow(self):\n",
    "        pass\n",
    "    \n",
    "    def run(self):\n",
    "        pass\n",
    "\n",
    "    def walk(self):\n",
    "        pass\n",
    "nabi = Cat('Nabi','Black')\n",
    "nero = Cat('Nero','White')"
   ]
  },
  {
   "cell_type": "markdown",
   "metadata": {},
   "source": [
    "![alt text](images/Lession%2021/Seft%20method%20explain.png)\n",
    "\n",
    "* Python's naming conventions for class names are as follows.\n",
    "    - The first letter of function, object, and variable names is lowercase.\n",
    "    - The first letter of class names is uppercase.\n",
    "    - When using multiple words in a name,capitalize the first letter of the second word.\n",
    "    - When defining protected attributes within a class or object, start the name with an underscore(_).(<FONT color = \"lightblue\">Protected attributes are meant to be accessed indirectly by external classes and objects.</FONT>)\n",
    "    - if you want to use a variable name that is the same as a reserved word, add an underscore after reserved word.\n",
    "    - (<FONT color = \"lightblue\">Privated attributes of a class or object have a name that is changed to make it difficult to access directly from outside.</FONT>)\n",
    "        - This is achieved by adding a double underscore(__) before the name, which automatically converts it to' _classname__name', making it harder to call directly by its original name.\n",
    "        - Special attributes or dunder methods used internally by Python have a double underscore(__) before and after the name, such as' __ init __' for the contructor.\n",
    "\n",
    "#### 2.2 Calling class methods \n"
   ]
  },
  {
   "cell_type": "code",
   "execution_count": 13,
   "metadata": {},
   "outputs": [
    {
     "name": "stdout",
     "output_type": "stream",
     "text": [
      "My name is Nabi, color is Black, meow meow ~~\n",
      "My name is Nero, color is White, meow meow ~~\n",
      "My name is Mimi, color is Brown, meow meow ~~\n"
     ]
    }
   ],
   "source": [
    "class Cat:\n",
    "    def __init__(self,name,color):\n",
    "        self.name = name\n",
    "        self.color = color\n",
    "\n",
    "    def meow(self):\n",
    "        print('My name is {}, color is {}, meow meow ~~'.format(self.name,self.color))\n",
    "\n",
    "nabi = Cat('Nabi','Black')\n",
    "nero = Cat('Nero','White')\n",
    "mimi = Cat('Mimi','Brown')\n",
    "\n",
    "nabi.meow()\n",
    "nero.meow()\n",
    "mimi.meow()"
   ]
  },
  {
   "cell_type": "markdown",
   "metadata": {},
   "source": [
    "* The method of an instance is called using the dot (.) operator. For example,the instance 'nabi' can use the method'meow' of the 'Cat' class\n",
    "\n",
    "* A function inside the 'Cat' class is called a method.\n",
    "\n",
    "* Create an object of the 'Cat' class through 'Cat', and now method invocation is possible through 'nabi.meow'.\n",
    "\n",
    "### 3.Instance variables and class variables \n",
    "#### 3.1 What are instance variables?\n",
    "\n",
    "* In Python, both class variables and instance variables are used as attributes of a class or object.\n",
    "\n",
    "* However,their usage and scope are different.\n",
    "\n",
    "* Let's consider the following 'Circle'Class."
   ]
  },
  {
   "cell_type": "code",
   "execution_count": 15,
   "metadata": {},
   "outputs": [
    {
     "name": "stdout",
     "output_type": "stream",
     "text": [
      "Area of c1: 50.24\n",
      "Area of c2: 113.076\n",
      "Area of c2: 78.53750000000001\n"
     ]
    }
   ],
   "source": [
    "class Circle:\n",
    "    def __init__(self,name,radius,PI):\n",
    "        self.__name = name \n",
    "        self.__radius = radius\n",
    "        self.__PI = PI\n",
    "    def area(self):\n",
    "        return self.__PI * self.__radius ** 2\n",
    "\n",
    "c1 =Circle('C1',4,3.14)\n",
    "print(\"Area of c1:\",c1.area())\n",
    "c2 =Circle('C2',6,3.141)\n",
    "print(\"Area of c2:\",c2.area())\n",
    "c3 =Circle('C3',5,3.1415)\n",
    "print(\"Area of c2:\",c3.area())"
   ]
  },
  {
   "cell_type": "markdown",
   "metadata": {},
   "source": [
    "- __name , __radius , __PI can have different values for each individual instance. These variables are called instance variables.\n",
    "\n",
    "- The reason for having a double underscore before the variable name is to make it difficult to access this instance from outside.\n",
    "\n",
    "#### 3.2 What are class variables?\n",
    "\n",
    "* Among the instance variables, there may be common attributes that the class should share.\n",
    "\n",
    "* In the example code we will examine, the attribute representing the mathematical constant PI is designed to be shared by all individual instances.\n",
    "\n",
    "* If all individual instances share this attribute, it reduces data duplication and makes it easier to identify the cause of errors.\n",
    "\n",
    "* For the 'self.__PI' value of the 'Circle' class to remain consisten, there is a need for PI values to be shared among 'c1' , 'c2', and 'c3'\n",
    "\n",
    "* In this case, the variable used is called a class variable.\n",
    "\n",
    "* The class variable 'PI' in 'Circle' is a variable shared by instances of this class, while the class attributes' __name' and ' __radius' are instance variables that each instance has."
   ]
  },
  {
   "cell_type": "code",
   "execution_count": null,
   "metadata": {},
   "outputs": [],
   "source": [
    "class Circle :\n",
    "    PI = 3.1415  # Class variable\n",
    "    def __init__(self,name,radius):\n",
    "        self.__name = name      # Instance variable\n",
    "        self.__radius = radius  # Instance variable "
   ]
  },
  {
   "cell_type": "markdown",
   "metadata": {},
   "source": [
    "![alt text](images/Lession%2021/What%20are%20class%20variables.png)"
   ]
  },
  {
   "cell_type": "code",
   "execution_count": 18,
   "metadata": {},
   "outputs": [
    {
     "name": "stdout",
     "output_type": "stream",
     "text": [
      "Area of c1: 50.264\n",
      "Area of c1: 113.09400000000001\n",
      "Area of c1: 78.53750000000001\n"
     ]
    }
   ],
   "source": [
    "class Circle:\n",
    "    PI = 3.1415\n",
    "    def __init__(self,name,radius):\n",
    "        self.__name = name\n",
    "        self.__radius = radius\n",
    "\n",
    "    def area(self):\n",
    "        return Circle.PI * self.__radius ** 2\n",
    "    \n",
    "c1 = Circle(\"C1\",4)\n",
    "print(\"Area of c1:\",c1.area())\n",
    "c2 = Circle(\"C2\",6)\n",
    "print(\"Area of c1:\",c2.area())\n",
    "c3 = Circle(\"C3\",5)\n",
    "print(\"Area of c1:\",c3.area())"
   ]
  },
  {
   "cell_type": "markdown",
   "metadata": {},
   "source": [
    "* This class varialbe 'PI' is shared by the instances 'c1','c2',and 'c3'\n",
    "### 4.Dunder Method \n",
    "#### 4.1 The Importance of Dunder Methods"
   ]
  },
  {
   "cell_type": "code",
   "execution_count": 19,
   "metadata": {},
   "outputs": [
    {
     "ename": "TypeError",
     "evalue": "unsupported operand type(s) for +: 'Vector2D' and 'Vector2D'",
     "output_type": "error",
     "traceback": [
      "\u001b[0;31m---------------------------------------------------------------------------\u001b[0m",
      "\u001b[0;31mTypeError\u001b[0m                                 Traceback (most recent call last)",
      "Cell \u001b[0;32mIn[19], line 8\u001b[0m\n\u001b[1;32m      6\u001b[0m v1 \u001b[38;5;241m=\u001b[39m Vector2D(\u001b[38;5;241m30\u001b[39m,\u001b[38;5;241m40\u001b[39m)\n\u001b[1;32m      7\u001b[0m v2 \u001b[38;5;241m=\u001b[39m Vector2D(\u001b[38;5;241m10\u001b[39m,\u001b[38;5;241m20\u001b[39m)\n\u001b[0;32m----> 8\u001b[0m v3 \u001b[38;5;241m=\u001b[39m \u001b[43mv1\u001b[49m\u001b[43m \u001b[49m\u001b[38;5;241;43m+\u001b[39;49m\u001b[43m \u001b[49m\u001b[43mv2\u001b[49m\n\u001b[1;32m      9\u001b[0m \u001b[38;5;28mprint\u001b[39m(\u001b[38;5;124mf\u001b[39m\u001b[38;5;124m\"\u001b[39m\u001b[38;5;124mv1 + v2 = \u001b[39m\u001b[38;5;132;01m{\u001b[39;00mv3\u001b[38;5;132;01m}\u001b[39;00m\u001b[38;5;124m\"\u001b[39m)\n",
      "\u001b[0;31mTypeError\u001b[0m: unsupported operand type(s) for +: 'Vector2D' and 'Vector2D'"
     ]
    }
   ],
   "source": [
    "class Vector2D:\n",
    "    def __init__(self,x,y):\n",
    "        self.x = x\n",
    "        self.y = y\n",
    "    \n",
    "v1 = Vector2D(30,40)\n",
    "v2 = Vector2D(10,20)\n",
    "v3 = v1 + v2\n",
    "print(f\"v1 + v2 = {v3}\")"
   ]
  },
  {
   "cell_type": "markdown",
   "metadata": {},
   "source": [
    "![alt text](images/Lession%2021/Importance%20of%20Dunder%20Methods.png)"
   ]
  },
  {
   "cell_type": "code",
   "execution_count": null,
   "metadata": {},
   "outputs": [],
   "source": []
  }
 ],
 "metadata": {
  "kernelspec": {
   "display_name": "Python 3",
   "language": "python",
   "name": "python3"
  },
  "language_info": {
   "codemirror_mode": {
    "name": "ipython",
    "version": 3
   },
   "file_extension": ".py",
   "mimetype": "text/x-python",
   "name": "python",
   "nbconvert_exporter": "python",
   "pygments_lexer": "ipython3",
   "version": "3.9.6"
  }
 },
 "nbformat": 4,
 "nbformat_minor": 2
}
