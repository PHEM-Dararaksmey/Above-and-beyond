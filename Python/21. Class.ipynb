{
 "cells": [
  {
   "cell_type": "markdown",
   "metadata": {},
   "source": [
    "# 21.Class \n",
    "Learning objective\n",
    "1. Learner can understand the concepts of object-oriented programming and explain its significance.\n",
    "2. Learner can learn the concpts of classes, instances ,and object and differentiate between them.\n",
    "3. Learner can design class, understand how to create objects and implement them.\n",
    "4. Learner can comprehend the concept of a constructor and use the parameter'self'in constructors.\n",
    "5. Learner can understand and define the structe of variables and methods in a class \n",
    "6. Learner can defin the dunder method, which is is special method called by operators and build-int function, in a class.\n",
    "7. Learner can understand the concept of encapsulation and create encapsulated code for programm stability,\n",
    "8. Learner can defin new classes by inheriting from specific classes.\n",
    "Main keywords\n",
    "1. Instances and objects of a class \n",
    "2. Contructor \n",
    "3. Parameters 'self'\n",
    "4. Dunder Method \n",
    "5. Encapsulation \n",
    "6. Inheritance \n",
    "\n",
    "## 1.Real world problem \n",
    "### 1.1 Bank and Computerization system\n",
    "![alt text](images/Lession%2021/Real%20world%20probelm.png)\n",
    "![alt text](images/Lession%2021/Real%20world%20problem%201.png)\n",
    "![alt text](images/Lession%2021/Real%20world%20problem%202.png)\n",
    "### 1.2 History of Banking \n",
    "![alt text](images/Lession%2021/History%20of%20bank.png)\n",
    "## 2.Solution\n",
    "### 2.1.Bank Account\n",
    "![alt text](images/Lession%2021/Bank%20account.png)\n",
    "\n",
    "* In this mission,after creating a BankAccount class,let's create an account named account1 with the name 'David'and deposit 2000 won.\n",
    "\n",
    "* Print the account information and then withdraw 500 won.\n",
    "\n",
    "* Print he account information again\n",
    "\n",
    "* Finally, withdraw 5000 won. print the account balance and display a message stating that the withdrawl is not possible.\n",
    "\n",
    "* Unlike procedural methods , the code for this mission operates by giving methods to objects.\n",
    "\n",
    "## 3.Mission \n",
    "### 3.1 Bank Account Operation Process \n",
    "![alt text](images/Lession%2021/Bank%20account%20process.png)\n",
    "### 3.2 Programming Plan \n",
    "![alt text](images/Lession%2021/Programming%20plan%201.png)\n",
    "![alt text](images/Lession%2021/Programming%20plan%202.png)\n",
    "### 3.3 Class diagram\n",
    "![alt text](images/Lession%2021/Class%20digram%201.png) \n",
    "![alt text](images/Lession%2021/Class%20digram%202.png) \n",
    "![alt text](images/Lession%2021/Class%20digram%203.png) \n",
    "![alt text](images/Lession%2021/Class%20digram%204.png)\n",
    "## Key Concept\n",
    "### 1.Programming and Objects\n",
    "#### 1.1 Classes, Instances , Objects\n",
    "\n",
    "Object \n",
    "- > An object is an element in a computer system that has attributes and methods to perform various function \n",
    "* Let's look at the following code."
   ]
  },
  {
   "cell_type": "code",
   "execution_count": 5,
   "metadata": {},
   "outputs": [
    {
     "data": {
      "text/plain": [
       "['cat', 'dog', 'lion', 'tiger']"
      ]
     },
     "execution_count": 5,
     "metadata": {},
     "output_type": "execute_result"
    }
   ],
   "source": [
    "animels = ['lion','tiger','cat','dog']\n",
    "animels.sort()\n",
    "animels"
   ]
  },
  {
   "cell_type": "code",
   "execution_count": 6,
   "metadata": {},
   "outputs": [
    {
     "data": {
      "text/plain": [
       "['cat', 'dog', 'lion', 'tiger', 'rabbit']"
      ]
     },
     "execution_count": 6,
     "metadata": {},
     "output_type": "execute_result"
    }
   ],
   "source": [
    "animels.append('rabbit')\n",
    "animels"
   ]
  },
  {
   "cell_type": "code",
   "execution_count": 7,
   "metadata": {},
   "outputs": [
    {
     "data": {
      "text/plain": [
       "['rabbit', 'tiger', 'lion', 'dog', 'cat']"
      ]
     },
     "execution_count": 7,
     "metadata": {},
     "output_type": "execute_result"
    }
   ],
   "source": [
    "animels.reverse()\n",
    "animels"
   ]
  },
  {
   "cell_type": "markdown",
   "metadata": {},
   "source": [
    "* When an object calls a method, the dot(.)operator is used."
   ]
  },
  {
   "cell_type": "code",
   "execution_count": 8,
   "metadata": {},
   "outputs": [
    {
     "data": {
      "text/plain": [
       "'TIGER'"
      ]
     },
     "execution_count": 8,
     "metadata": {},
     "output_type": "execute_result"
    }
   ],
   "source": [
    "'tiger'.upper()"
   ]
  },
  {
   "cell_type": "markdown",
   "metadata": {},
   "source": [
    "![alt text](images/Lession%2021/When%20an%20object%20calls%20a%20method.png)\n",
    "![alt text](images/Lession%2021/Every%20thing%20in%20python%20is%20an%20object.png)\n",
    "![alt text](images/Lession%2021/Every%20thing%20in%20python%20is%20an%20object%201.png)\n",
    "![alt text](images/Lession%2021/Class.png)\n",
    "![alt text](images/Lession%2021/Instant.png)\n",
    "![alt text](images/Lession%2021/In%20stant%201.png)\n",
    "![alt text](images/Lession%2021/Sumarry.png) \n",
    "\n",
    "#### 1.2 Comparison of Procedurl Programming and Object-Oriented Programming\n",
    "![alt text](images/Lession%2021/OOP.png)\n",
    "![alt text](images/Lession%2021/Procedural%20Programming%20language.png)\n",
    "![alt text](images/Lession%2021/Procedural%20programming%20language%201.png)\n",
    "![alt text](images/Lession%2021/OOAP.png)\n",
    "### 2. Class\n",
    "#### 2.1 Defining a Class\n",
    "- > A class is defined using the 'class' keyword, a colon(:), and indentation.\n",
    "- > After the <'clss'> keyword, the name of the class is written."
   ]
  },
  {
   "cell_type": "code",
   "execution_count": 10,
   "metadata": {},
   "outputs": [
    {
     "name": "stdout",
     "output_type": "stream",
     "text": [
      "<__main__.Cat object at 0x103427940>\n"
     ]
    }
   ],
   "source": [
    "class Cat :\n",
    "    pass \n",
    "\n",
    "nabi = Cat() # When creating a 'Cat' instance ,parentheses are requird.\n",
    "print(nabi) # When printing like 'print(nabi)', the id value of object is printed in hexadecimal."
   ]
  },
  {
   "cell_type": "code",
   "execution_count": 11,
   "metadata": {},
   "outputs": [],
   "source": [
    "class Cat:\n",
    "    def __init__(self,name,color): # Constructor '__init__' \n",
    "        self.name = name\n",
    "        self.color = color\n",
    "    \n",
    "    def meow(self):\n",
    "        pass\n",
    "    def run(self):\n",
    "        pass\n",
    "    def walk(self):\n",
    "        pass\n",
    "\n",
    "nabi = Cat('Nabi','Black')\n",
    "nabi = Cat('Nero','White')"
   ]
  },
  {
   "cell_type": "markdown",
   "metadata": {},
   "source": [
    "![alt text](images/Lession%2021/Constructor%20'__init__'%20%201.png)\n",
    "![alt text](images/Lession%2021/self%20parameter.png)\n",
    "![alt text](images/Lession%2021/the%20second%20parameter%201.png)\n",
    "![alt text](images/Lession%2021/Explain%20the%20instance%20.png)\n",
    "\n",
    "* The 'method' is a function defined inside a class and used by the class or class instances.\n"
   ]
  },
  {
   "cell_type": "code",
   "execution_count": 12,
   "metadata": {},
   "outputs": [],
   "source": [
    "class Cat :\n",
    "    def __init__(self,name,color):\n",
    "        self.name = name\n",
    "        self.color = color \n",
    "\n",
    "    def meow(self):\n",
    "        pass\n",
    "    \n",
    "    def run(self):\n",
    "        pass\n",
    "\n",
    "    def walk(self):\n",
    "        pass\n",
    "nabi = Cat('Nabi','Black')\n",
    "nero = Cat('Nero','White')"
   ]
  },
  {
   "cell_type": "markdown",
   "metadata": {},
   "source": [
    "![alt text](images/Lession%2021/Seft%20method%20explain.png)\n",
    "\n",
    "* Python's naming conventions for class names are as follows.\n",
    "    - The first letter of function, object, and variable names is lowercase.\n",
    "    - The first letter of class names is uppercase.\n",
    "    - When using multiple words in a name,capitalize the first letter of the second word.\n",
    "    - When defining protected attributes within a class or object, start the name with an underscore(_).(<FONT color = \"lightblue\">Protected attributes are meant to be accessed indirectly by external classes and objects.</FONT>)\n",
    "    - if you want to use a variable name that is the same as a reserved word, add an underscore after reserved word.\n",
    "    - (<FONT color = \"lightblue\">Privated attributes of a class or object have a name that is changed to make it difficult to access directly from outside.</FONT>)\n",
    "        - This is achieved by adding a double underscore(__) before the name, which automatically converts it to' _classname__name', making it harder to call directly by its original name.\n",
    "        - Special attributes or dunder methods used internally by Python have a double underscore(__) before and after the name, such as' __ init __' for the contructor.\n",
    "\n",
    "#### 2.2 Calling class methods \n"
   ]
  },
  {
   "cell_type": "code",
   "execution_count": 13,
   "metadata": {},
   "outputs": [
    {
     "name": "stdout",
     "output_type": "stream",
     "text": [
      "My name is Nabi, color is Black, meow meow ~~\n",
      "My name is Nero, color is White, meow meow ~~\n",
      "My name is Mimi, color is Brown, meow meow ~~\n"
     ]
    }
   ],
   "source": [
    "class Cat:\n",
    "    def __init__(self,name,color):\n",
    "        self.name = name\n",
    "        self.color = color\n",
    "\n",
    "    def meow(self):\n",
    "        print('My name is {}, color is {}, meow meow ~~'.format(self.name,self.color))\n",
    "\n",
    "nabi = Cat('Nabi','Black')\n",
    "nero = Cat('Nero','White')\n",
    "mimi = Cat('Mimi','Brown')\n",
    "\n",
    "nabi.meow()\n",
    "nero.meow()\n",
    "mimi.meow()"
   ]
  },
  {
   "cell_type": "markdown",
   "metadata": {},
   "source": [
    "* The method of an instance is called using the dot (.) operator. For example,the instance 'nabi' can use the method'meow' of the 'Cat' class\n",
    "\n",
    "* A function inside the 'Cat' class is called a method.\n",
    "\n",
    "* Create an object of the 'Cat' class through 'Cat', and now method invocation is possible through 'nabi.meow'.\n",
    "\n",
    "### 3.Instance variables and class variables \n",
    "#### 3.1 What are instance variables?\n",
    "\n",
    "* In Python, both class variables and instance variables are used as attributes of a class or object.\n",
    "\n",
    "* However,their usage and scope are different.\n",
    "\n",
    "* Let's consider the following 'Circle'Class."
   ]
  },
  {
   "cell_type": "code",
   "execution_count": 15,
   "metadata": {},
   "outputs": [
    {
     "name": "stdout",
     "output_type": "stream",
     "text": [
      "Area of c1: 50.24\n",
      "Area of c2: 113.076\n",
      "Area of c2: 78.53750000000001\n"
     ]
    }
   ],
   "source": [
    "class Circle:\n",
    "    def __init__(self,name,radius,PI):\n",
    "        self.__name = name \n",
    "        self.__radius = radius\n",
    "        self.__PI = PI\n",
    "    def area(self):\n",
    "        return self.__PI * self.__radius ** 2\n",
    "\n",
    "c1 =Circle('C1',4,3.14)\n",
    "print(\"Area of c1:\",c1.area())\n",
    "c2 =Circle('C2',6,3.141)\n",
    "print(\"Area of c2:\",c2.area())\n",
    "c3 =Circle('C3',5,3.1415)\n",
    "print(\"Area of c2:\",c3.area())"
   ]
  },
  {
   "cell_type": "markdown",
   "metadata": {},
   "source": [
    "- __name , __radius , __PI can have different values for each individual instance. These variables are called instance variables.\n",
    "\n",
    "- The reason for having a double underscore before the variable name is to make it difficult to access this instance from outside.\n",
    "\n",
    "#### 3.2 What are class variables?\n",
    "\n",
    "* Among the instance variables, there may be common attributes that the class should share.\n",
    "\n",
    "* In the example code we will examine, the attribute representing the mathematical constant PI is designed to be shared by all individual instances.\n",
    "\n",
    "* If all individual instances share this attribute, it reduces data duplication and makes it easier to identify the cause of errors.\n",
    "\n",
    "* For the 'self.__PI' value of the 'Circle' class to remain consisten, there is a need for PI values to be shared among 'c1' , 'c2', and 'c3'\n",
    "\n",
    "* In this case, the variable used is called a class variable.\n",
    "\n",
    "* The class variable 'PI' in 'Circle' is a variable shared by instances of this class, while the class attributes' __name' and ' __radius' are instance variables that each instance has."
   ]
  },
  {
   "cell_type": "code",
   "execution_count": null,
   "metadata": {},
   "outputs": [],
   "source": [
    "class Circle :\n",
    "    PI = 3.1415  # Class variable\n",
    "    def __init__(self,name,radius):\n",
    "        self.__name = name      # Instance variable\n",
    "        self.__radius = radius  # Instance variable "
   ]
  },
  {
   "cell_type": "markdown",
   "metadata": {},
   "source": [
    "![alt text](images/Lession%2021/What%20are%20class%20variables.png)"
   ]
  },
  {
   "cell_type": "code",
   "execution_count": 18,
   "metadata": {},
   "outputs": [
    {
     "name": "stdout",
     "output_type": "stream",
     "text": [
      "Area of c1: 50.264\n",
      "Area of c1: 113.09400000000001\n",
      "Area of c1: 78.53750000000001\n"
     ]
    }
   ],
   "source": [
    "class Circle:\n",
    "    PI = 3.1415\n",
    "    def __init__(self,name,radius):\n",
    "        self.__name = name\n",
    "        self.__radius = radius\n",
    "\n",
    "    def area(self):\n",
    "        return Circle.PI * self.__radius ** 2\n",
    "    \n",
    "c1 = Circle(\"C1\",4)\n",
    "print(\"Area of c1:\",c1.area())\n",
    "c2 = Circle(\"C2\",6)\n",
    "print(\"Area of c1:\",c2.area())\n",
    "c3 = Circle(\"C3\",5)\n",
    "print(\"Area of c1:\",c3.area())"
   ]
  },
  {
   "cell_type": "markdown",
   "metadata": {},
   "source": [
    "* This class varialbe 'PI' is shared by the instances 'c1','c2',and 'c3'\n",
    "### 4.Dunder Method \n",
    "#### 4.1 The Importance of Dunder Methods"
   ]
  },
  {
   "cell_type": "code",
   "execution_count": 19,
   "metadata": {},
   "outputs": [
    {
     "ename": "TypeError",
     "evalue": "unsupported operand type(s) for +: 'Vector2D' and 'Vector2D'",
     "output_type": "error",
     "traceback": [
      "\u001b[0;31m---------------------------------------------------------------------------\u001b[0m",
      "\u001b[0;31mTypeError\u001b[0m                                 Traceback (most recent call last)",
      "Cell \u001b[0;32mIn[19], line 8\u001b[0m\n\u001b[1;32m      6\u001b[0m v1 \u001b[38;5;241m=\u001b[39m Vector2D(\u001b[38;5;241m30\u001b[39m,\u001b[38;5;241m40\u001b[39m)\n\u001b[1;32m      7\u001b[0m v2 \u001b[38;5;241m=\u001b[39m Vector2D(\u001b[38;5;241m10\u001b[39m,\u001b[38;5;241m20\u001b[39m)\n\u001b[0;32m----> 8\u001b[0m v3 \u001b[38;5;241m=\u001b[39m \u001b[43mv1\u001b[49m\u001b[43m \u001b[49m\u001b[38;5;241;43m+\u001b[39;49m\u001b[43m \u001b[49m\u001b[43mv2\u001b[49m\n\u001b[1;32m      9\u001b[0m \u001b[38;5;28mprint\u001b[39m(\u001b[38;5;124mf\u001b[39m\u001b[38;5;124m\"\u001b[39m\u001b[38;5;124mv1 + v2 = \u001b[39m\u001b[38;5;132;01m{\u001b[39;00mv3\u001b[38;5;132;01m}\u001b[39;00m\u001b[38;5;124m\"\u001b[39m)\n",
      "\u001b[0;31mTypeError\u001b[0m: unsupported operand type(s) for +: 'Vector2D' and 'Vector2D'"
     ]
    }
   ],
   "source": [
    "class Vector2D:\n",
    "    def __init__(self,x,y):\n",
    "        self.x = x\n",
    "        self.y = y\n",
    "    \n",
    "v1 = Vector2D(30,40)\n",
    "v2 = Vector2D(10,20)\n",
    "v3 = v1 + v2\n",
    "print(f\"v1 + v2 = {v3}\")"
   ]
  },
  {
   "cell_type": "markdown",
   "metadata": {},
   "source": [
    "![alt text](images/Lession%2021/Importance%20of%20Dunder%20Methods.png)"
   ]
  },
  {
   "cell_type": "code",
   "execution_count": 20,
   "metadata": {},
   "outputs": [
    {
     "name": "stdout",
     "output_type": "stream",
     "text": [
      "v1 + v2 = (40,60)\n"
     ]
    }
   ],
   "source": [
    "class Vector2D:\n",
    "    def __init__(self,x,y):\n",
    "        self.x = x\n",
    "        self.y = y\n",
    "    def __str__(self):\n",
    "        return \"({},{})\".format(self.x,self.y)\n",
    "    def add(self,other):\n",
    "        return Vector2D(self.x + other.x , self.y + other.y)\n",
    "    \n",
    "v1 = Vector2D(30,40)\n",
    "v2 = Vector2D(10,20)\n",
    "v3 = v1 .add(v2)  ## The dunder method'__ add __' allows the use of the ' + ' operator instead of the 'add ()' method.\n",
    "print(f\"v1 + v2 = {v3}\")"
   ]
  },
  {
   "cell_type": "markdown",
   "metadata": {},
   "source": [
    "![alt text](images/Lession%2021/Importance%20of%20Dunder%20Methods%201.png)\n",
    "* Line 12 \n",
    "    * Use the 'add' method , 'v1.add(v2)' to print the sum of the two vectors.\n",
    "    * It would be more convenient to use operators like'+' and '-' instead of the 'add' method.\n",
    "\n",
    "* Instead of the 'add' method, let's implement the functionlity of caculating the sum of vectors in the '__ add __' dunder method.\n",
    "\n",
    "* The expression ' v1 + v2 ' is equivalent to calling 'v1.__ add __ (v2)'.\n",
    "since'v1 + v2' is more intuitive, we prefer to use the operator instead of method calls\n",
    "\n",
    "* In Python, it is possible to add new functionality to the original functionlity of the '+' operator.\n",
    "\n",
    "#### 4.2 What are Dunder Methods?\n",
    "\n",
    "* The dunder method or the magic method is a method that serves specific designated purposes in Python classes.\n",
    "\n",
    "* Dunder method have a double underscore before and after the method name. (Example :__ next __())\n",
    "\n",
    "* They are primarily used when redefining operators or functions, which are already defined and used in Python, within the class.\n",
    "\n",
    "#### 4.3 The __str__Method \n",
    "\n",
    "* What would happen if we remove the '__ str __ ' method from the 'Vector2D' Class?\n",
    "\n",
    "* The desired value is not printed as follows.\n"
   ]
  },
  {
   "cell_type": "code",
   "execution_count": 21,
   "metadata": {},
   "outputs": [
    {
     "name": "stdout",
     "output_type": "stream",
     "text": [
      "v1 + v2 =  <__main__.Vector2D object at 0x103721e80>\n",
      "v1 add v2 =  <__main__.Vector2D object at 0x1035a6520>\n"
     ]
    }
   ],
   "source": [
    "class Vector2D:\n",
    "    def __init__(self,x,y):\n",
    "        self.x =x\n",
    "        self.y = y \n",
    "    def __add__(self, other):\n",
    "        return Vector2D(self.x + other.x, self.y + other.y)\n",
    "    def add(self,other):\n",
    "        return Vector2D(self.x + other.x, self.y + other.y)\n",
    "    \n",
    "v1 = Vector2D(30,40)\n",
    "v2 = Vector2D(10,20)\n",
    "v3 = v1 + v2 \n",
    "print('v1 + v2 = ',v3)\n",
    "v3 = v1.add(v2)\n",
    "print('v1 add v2 = ',v3)"
   ]
  },
  {
   "cell_type": "markdown",
   "metadata": {},
   "source": [
    "<FONT color = \"lightblue\">__ str __ method</FONT>\n",
    "\n",
    "- The '__ str __' method is a method that provides information about an object in the form of a string \n",
    "\n",
    "- It is automatically called by the 'print' function.\n",
    "\n",
    "- It defines the string representation of an object and must return a string "
   ]
  },
  {
   "cell_type": "code",
   "execution_count": 22,
   "metadata": {},
   "outputs": [
    {
     "name": "stdout",
     "output_type": "stream",
     "text": [
      "v1 + v2 =  40,60\n",
      "v1 add v2 =  40,60\n"
     ]
    }
   ],
   "source": [
    "class Vector2D:\n",
    "    def __init__(self,x,y):\n",
    "        self.x =x\n",
    "        self.y = y\n",
    "    def __str__(self):\n",
    "        return (\"{},{}\").format(self.x,self.y)\n",
    "    def __add__(self, other):\n",
    "        return Vector2D(self.x + other.x, self.y + other.y)\n",
    "    def add(self,other):\n",
    "        return Vector2D(self.x + other.x, self.y + other.y)\n",
    "    \n",
    "v1 = Vector2D(30,40)\n",
    "v2 = Vector2D(10,20)\n",
    "v3 = v1 + v2 \n",
    "print('v1 + v2 = ',v3)\n",
    "v3 = v1.add(v2)\n",
    "print('v1 add v2 = ',v3)"
   ]
  },
  {
   "cell_type": "markdown",
   "metadata": {},
   "source": [
    "* Let's add the '__ str __ ' method to the 'Cat' class. \n",
    "    * Define the functionality of '__ str __' method to return the name and color of a cat\n",
    "    * To print the name and color of a cat, using 'print(nabi)' automatically calls 'print(nabi.__ st __())"
   ]
  },
  {
   "cell_type": "code",
   "execution_count": 24,
   "metadata": {},
   "outputs": [
    {
     "name": "stdout",
     "output_type": "stream",
     "text": [
      "Cat(name = Nabi, color = Black)\n",
      "Cat(name = Nero, color = While)\n"
     ]
    }
   ],
   "source": [
    "class Cat:\n",
    "    def __init__(self,name,color):\n",
    "        self.name = name\n",
    "        self.color = color\n",
    "    def __str__(self):\n",
    "        return'Cat(name = ' + self.name + ', color = ' + self.color +')'\n",
    "\n",
    "nabi = Cat('Nabi','Black')\n",
    "nero = Cat('Nero','While')\n",
    "\n",
    "print(nabi)\n",
    "print(nero)"
   ]
  },
  {
   "cell_type": "markdown",
   "metadata": {},
   "source": [
    "![alt text](images/Lession%2021/__str__%20mehod.png)\n",
    "#### 4.4 Operators and Dunder methods\n",
    "* Let's also implement the '__sub __' method , which calculates the difference between two vectors."
   ]
  },
  {
   "cell_type": "code",
   "execution_count": 26,
   "metadata": {},
   "outputs": [
    {
     "name": "stdout",
     "output_type": "stream",
     "text": [
      "v1 add v2 =  40,60\n",
      "v1 sub v2 =  20,20\n"
     ]
    }
   ],
   "source": [
    "class Vector2D:\n",
    "    def __init__(self,x,y):\n",
    "        self.x =x\n",
    "        self.y = y\n",
    "    def __str__(self):\n",
    "        return (\"{},{}\").format(self.x,self.y)\n",
    "    def __add__(self, other):\n",
    "        return Vector2D(self.x + other.x, self.y + other.y)\n",
    "    def __sub__(self, other): \n",
    "        return Vector2D(self.x - other.x, self.y - other.y)\n",
    "        \n",
    "v1 = Vector2D(30,40)\n",
    "v2 = Vector2D(10,20)\n",
    "v3 = v1 + v2 \n",
    "print('v1 add v2 = ',v3)\n",
    "v3 = v1+(v2)\n",
    "print('v1 sub v2 = ',v4)\n",
    "v4 = v1-v2"
   ]
  },
  {
   "cell_type": "markdown",
   "metadata": {},
   "source": [
    "![alt text](images/Lession%2021/Operation%20and%20dunner%20method.png)\n",
    "![alt text](images/Lession%2021/Operation%20and%20dunner%20method%201.png)\n",
    "![alt text](images/Lession%2021/Compare%20operation%20and%20dunner%20method%20.png)\n",
    "\n",
    "#### 4.5 The build-in Function and Dunnder Methods\n",
    "\n",
    "* In addition , Pyhond has many build-in functions such as len, float ,int,str,abs,hash,and iter.\n",
    "\n",
    "* These Build-ind function work by calling dunder methods such as __len __ , __float __, __int __, __ str __, __ abs __, __hash __,and __iter __.\n",
    "\n",
    "* In other words. the 'len' build-in function works by calling the '__ len __' dunder method.\n",
    "\n",
    "* The dunnder method ' __next __', which is a method of iterators, is called when the built-in function 'next()' is called.\n",
    "\n",
    "* When you use 'data type. __next __' , it works in the samey way as calling the next function, returning the iterable data type if it exists.\n"
   ]
  },
  {
   "cell_type": "code",
   "execution_count": 27,
   "metadata": {},
   "outputs": [
    {
     "name": "stdout",
     "output_type": "stream",
     "text": [
      "10\n",
      "20\n"
     ]
    }
   ],
   "source": [
    "lst =[10,20,30]\n",
    "l_iter = iter(lst)\n",
    "print(next(l_iter))\n",
    "print(l_iter.__next__())"
   ]
  },
  {
   "cell_type": "markdown",
   "metadata": {},
   "source": [
    "#### 4.6 Using __dict__ to check attribute information of class objects"
   ]
  },
  {
   "cell_type": "code",
   "execution_count": 29,
   "metadata": {},
   "outputs": [
    {
     "name": "stdout",
     "output_type": "stream",
     "text": [
      "Attributes of c1: {'name': 'C1', 'radius': 4}\n",
      "value of the 'name' variable in c1: C1\n",
      "value of the 'name' variable in c1: 4\n"
     ]
    }
   ],
   "source": [
    "class Circle : \n",
    "    PI = 3.14\n",
    "    def __init__(self,name,radius):\n",
    "        self.name = name\n",
    "        self.radius = radius\n",
    "    \n",
    "c1 =Circle(\"C1\",4)\n",
    "print(\"Attributes of c1:\",c1.__dict__)\n",
    "print(\"value of the 'name' variable in c1:\",c1.__dict__['name'] )\n",
    "print(\"value of the 'name' variable in c1:\",c1.__dict__['radius'] )"
   ]
  },
  {
   "cell_type": "markdown",
   "metadata": {},
   "source": [
    "* The '__ dict __' attributes is very useful when writing programs.\n",
    "\n",
    "* The variables of  class object can be converted into a dictionary format as shown in the following code \n",
    "\n",
    "* By creating it in dictionary format, the attribute values can be easily retrieved.\n",
    "\n",
    "![alt text](images/Lession%2021/Convert%20object%20into%20the%20dic%20format.png)\n",
    "\n",
    "* When there is an instance variable with a name starting with __ (double underscore), the way to acess it is as follows."
   ]
  },
  {
   "cell_type": "code",
   "execution_count": 35,
   "metadata": {},
   "outputs": [
    {
     "name": "stdout",
     "output_type": "stream",
     "text": [
      "Attributes of c1: {'_Circle__name': 'C1', '_Circle__radius': 4}\n",
      "value of the 'name' variable in c1: C1\n",
      "value of the 'name' variable in c1: 4\n"
     ]
    }
   ],
   "source": [
    "class Circle : \n",
    "    PI = 3.14\n",
    "    def __init__(self,name,radius):\n",
    "        self.__name = name\n",
    "        self.__radius = radius\n",
    "    \n",
    "c1 =Circle(\"C1\",4)\n",
    "print(\"Attributes of c1:\",c1.__dict__)\n",
    "print(\"value of the 'name' variable in c1:\",c1.__dict__['_Circle__name'] )\n",
    "print(\"value of the 'name' variable in c1:\",c1.__dict__['_Circle__radius'] )"
   ]
  },
  {
   "cell_type": "markdown",
   "metadata": {},
   "source": [
    "![alt text](images/Lession%2021/access%20double%20underscore.png)\n",
    "\n",
    "### 5. Class Design and Encapsulation \n",
    "#### 5.1 What is Encapsulation?\n",
    "\n",
    "* We assigned an attribute called 'age' to the 'Cat' class to represent the age.\n",
    "\n",
    "* Now, if we create an object name 'nab' and assign 'nabi.age = -5', what happend?"
   ]
  },
  {
   "cell_type": "code",
   "execution_count": 37,
   "metadata": {},
   "outputs": [
    {
     "name": "stdout",
     "output_type": "stream",
     "text": [
      "Cat(name = Nabi, age = 3)\n",
      "Cat(name = Nabi, age = -5)\n"
     ]
    }
   ],
   "source": [
    "class Cat :\n",
    "    def __init__(self,name,age):\n",
    "        self.name = name\n",
    "        self.age = age\n",
    "    def __str__(self):\n",
    "        return 'Cat(name = '+ self.name + ', age = ' + str(self.age) + ')'\n",
    "nabi = Cat('Nabi',3)\n",
    "print(nabi)\n",
    "nabi.age = 4\n",
    "nabi.age = -5 \n",
    "print(nabi)"
   ]
  },
  {
   "cell_type": "markdown",
   "metadata": {},
   "source": [
    "* The mentionaed issues arise when the attributes of a class are modified freely from the outside.Let's consider ways to reduce this problem.\n",
    "\n",
    "* <FONT color = \"Red\">Encapsulation</FONT>\n",
    "    -   A method of reducing errors when accessing the attributes of a class from the otside.\n",
    "    -   It involves specifying funtions that restrict external modification of the class'attributes.\n",
    "    \n",
    "![atl text](images/Lession%2021/The%20concep%20of%20encluation.png)\n",
    "\n",
    "#### 5.2 Setter and Getter \n",
    "* By using an if condition, we can prvent assignment of the 'age' value when it is negative.\n",
    "* Methods starting with setXXX are called setters \n",
    "* Conversely , it is also possible to read member values through methods starting with getXXX,called getters.\n",
    "    * By allowing values to be assigned only through setters and retrieved only through getters at the program become safer.\n",
    "    * Encapsulation allows for better protection of internal variables within members.\n",
    "    ![alt text](images/Lession%2021/setter%20and%20getter.png)\n",
    "* We created the setter method 'set_age', and by adding the condition 'if age > 0 :',\n",
    "we prevent'self.__age = age ' from executing when the age is negative.\n",
    "\n"
   ]
  },
  {
   "cell_type": "code",
   "execution_count": 2,
   "metadata": {},
   "outputs": [
    {
     "name": "stdout",
     "output_type": "stream",
     "text": [
      "Cat(name =Nabi, age=3)\n",
      "Cat(name =Nabi, age=4)\n"
     ]
    }
   ],
   "source": [
    "class Cat :\n",
    "    def __init__(self,name,ages):\n",
    "        self.__name = name \n",
    "        self.__age = ages\n",
    "    def __str__(self):\n",
    "        return 'Cat(name =' + self.__name +', age=' + str(self.__age)+ ')'\n",
    "    def set_age(self, age):\n",
    "        if age > 0 :\n",
    "            self.__age = age\n",
    "    def get_age(self):\n",
    "        return self.__age\n",
    "    \n",
    "nabi = Cat('Nabi',3)\n",
    "print(nabi)\n",
    "nabi.set_age(4)\n",
    "nabi.set_age(-5)\n",
    "print(nabi)"
   ]
  },
  {
   "cell_type": "markdown",
   "metadata": {},
   "source": [
    "### 6. Class Inheritance \n",
    "#### 6.1 What is class Inheritance ?\n",
    "* The concept of inheritance is a technique is fotware development where a child class is created based on a previously created class ,inheriting the attributes and methods of that class.\n",
    "\n",
    "* The reason for a child class inheriting the functionlity of a parent class is to facilitate efficient development.\n",
    "\n",
    "* Inheritancem which involves defining a new class based on an existing class when defining a new class ,is a significant characteristic of object-oriented programming.\n",
    "\n",
    "* Before using inheritance in a python programm, let's first clarify the terminology.\n",
    "\n",
    "    * irst of all the upper class that passes on the attributs and methods of a class in referred to as the 'parent class', 'super class' or ' base class'.\n",
    "\n",
    "    * The class that receives the inheritances is referred to as the 'child class', 'subclass' or 'derived class'.\n",
    "\n",
    "![alt text](images/Lession%2021/The%20concept%20of%20inheritance.png)\n",
    "* 'Person' may have general attributes such as age ,gender and name.\n",
    "![alt text](images/Lession%2021/The%20concept%20of%20inheritance%201.png)\n",
    "* How is class inheritance expressed in Python syntax? The syntax for class inheritance in python \n",
    "as follow \n",
    "\n",
    "```python\n",
    "    class A:\n",
    "        statements\n",
    "    class B(A):\n",
    "        statements\n",
    "```\n",
    "* In this way , the cild class explicitly states that it is inheriting from its parent class by enclosing the parent class'sname in parentheses.\n",
    "\n",
    "* In doing so the child class B can directly inherit the attributes and methods of the parent class A , while also defing its own new attributes and methods.\n",
    "\n",
    "* Class inheritance Syntax \n"
   ]
  },
  {
   "cell_type": "code",
   "execution_count": 3,
   "metadata": {},
   "outputs": [
    {
     "name": "stdout",
     "output_type": "stream",
     "text": [
      "a.PI 3.14\n",
      "b.PI 3.14\n"
     ]
    }
   ],
   "source": [
    "class A:\n",
    "    PI = 3.14\n",
    "class B(A):\n",
    "    pass\n",
    "\n",
    "a = A()\n",
    "b = B()\n",
    "print('a.PI',a.PI)\n",
    "print('b.PI',b.PI)"
   ]
  },
  {
   "cell_type": "markdown",
   "metadata": {},
   "source": [
    "#### 6.3 Example of implementing hierarchical class structure \n",
    "![alt text](images/Lession%2021/Example%20of%20hierarchical.png)\n",
    "![alt text](images/Lession%2021/Example%20of%20hierarchical%201.png)\n",
    "![alt text](images/Lession%2021/Example%20of%20hierarchical%202.png)"
   ]
  },
  {
   "cell_type": "code",
   "execution_count": 6,
   "metadata": {},
   "outputs": [
    {
     "name": "stdout",
     "output_type": "stream",
     "text": [
      "Employee :David Doe, Staff ID :1111\n",
      "Employee :Pault Carter, Staff ID :2222\n",
      "Employer :Anna Smith, Possition :CFO\n"
     ]
    }
   ],
   "source": [
    "# The parent class 'Person' has n attribute called'name',\n",
    "# which represents the name and a method called 'get_name()'\n",
    "\n",
    "class Person : # Parent class\n",
    "    def __init__(self,name):\n",
    "        self.name = name \n",
    "    def get_name(self):\n",
    "        return self.name\n",
    "    \n",
    "class Employee(Person): # child class\n",
    "    def __init__(self, name, staff_id):\n",
    "        Person.__init__(self,name)\n",
    "        self.staff_id = staff_id\n",
    "    def info(self):\n",
    "        return 'Employee :' + self.get_name() + ', Staff ID :' + str(self.staff_id)\n",
    "    \n",
    "class Manager(Person): # child class\n",
    "    def __init__(self, name, position):\n",
    "        Person.__init__(self,name)\n",
    "        self.position = position \n",
    "    def info(self):\n",
    "        return 'Employer :' + self.get_name() + ', Possition :' + str(self.position)\n",
    "\n",
    "# create object with different attributes\n",
    "worker_1 = Employee(\"David Doe\",1111)\n",
    "worker_2 = Employee(\"Pault Carter\",2222)\n",
    "cfo = Manager(\"Anna Smith\",'CFO')\n",
    "\n",
    "print(worker_1.info())\n",
    "print(worker_2.info())\n",
    "print(cfo.info())"
   ]
  },
  {
   "cell_type": "markdown",
   "metadata": {},
   "source": [
    "## Paper code \n",
    "Q1\n",
    "![alt text](images/Lession%2021/Paper%20code%20Q1.png)"
   ]
  },
  {
   "cell_type": "code",
   "execution_count": 1,
   "metadata": {},
   "outputs": [],
   "source": [
    "#Q1"
   ]
  },
  {
   "cell_type": "markdown",
   "metadata": {},
   "source": [
    "Q2 \n",
    "![alt text](images/Lession%2021/Paper%20code%20Q2.png)\n",
    "![alt text](images/Lession%2021/Paper%20code%20Q2.1.png)"
   ]
  },
  {
   "cell_type": "code",
   "execution_count": 2,
   "metadata": {},
   "outputs": [],
   "source": [
    "#Q2 "
   ]
  },
  {
   "cell_type": "markdown",
   "metadata": {},
   "source": [
    "## Mission \n",
    "![alt text](images/Lession%2021/MIssion.png)"
   ]
  },
  {
   "cell_type": "code",
   "execution_count": 5,
   "metadata": {},
   "outputs": [],
   "source": [
    "#Mission \n",
    "#Setp 1 Create class BankAcount\n",
    "class BankAccount:\n",
    "    def __init__(self,name,account_num,balance = 0): #constructor\n",
    "        self.name = name\n",
    "        self.account_num = account_num\n",
    "        self.balance = balance\n",
    "account1 = BankAccount(\"David\",\"1234-0001\")"
   ]
  },
  {
   "cell_type": "markdown",
   "metadata": {},
   "source": [
    "* Define the BankAccount class with a constructor '__init __' that takes the attributes of the BankAccount class as parameters.\n",
    "\n",
    "* The attributes of the class are 'name' , which represent the number of the account holder , account_num which represents the account number, and 'balance', which represents the balance.\n",
    "\n",
    "* By default ,the balance 'balance' is set to 0 Wwhen an instance of the BankAccount class in created."
   ]
  },
  {
   "cell_type": "code",
   "execution_count": 7,
   "metadata": {},
   "outputs": [
    {
     "name": "stdout",
     "output_type": "stream",
     "text": [
      "The balance of David's account is 1234-0001 is 0 won.\n"
     ]
    }
   ],
   "source": [
    "#setp 2\n",
    "class BankAccount:\n",
    "    def __init__(self,name,account_num,balance = 0): #constructor\n",
    "        self.name = name\n",
    "        self.account_num = account_num\n",
    "        self.balance = balance\n",
    "    def __str__(self):\n",
    "        return f\"The balance of {self.name}'s account is {self.account_num} is {self.balance} won.\"\n",
    "account1 = BankAccount(\"David\",\"1234-0001\")\n",
    "print(account1)"
   ]
  },
  {
   "cell_type": "markdown",
   "metadata": {},
   "source": [
    "* When the 'account1' instance is printed using the print function, it is intenally converted to a string \n",
    "* This triggers the invocation of the __ str __ douner method of the object passsed as a parameter to the str function \n",
    "* Therefore, it is necessary to ddefine the __str__dunner method ithin the BankAccount class, which returns a formatted string that prints the attribute value of 'account 1' .\n",
    "* Print the 'account 1 ' instanc, which ill print the name'David' account number '1234-0001' and the balance. The default balance is 0 won"
   ]
  },
  {
   "cell_type": "code",
   "execution_count": 8,
   "metadata": {},
   "outputs": [
    {
     "name": "stdout",
     "output_type": "stream",
     "text": [
      "The balance of David's account is 1234-0001 is 0 won.\n",
      "2000 won has been deposited. The balance is 2000\n",
      "The balance of David's account is 1234-0001 is 2000 won.\n"
     ]
    }
   ],
   "source": [
    "# step 3 \n",
    "class BankAccount:\n",
    "    def __init__(self,name,account_num,balance = 0): #constructor\n",
    "        self.name = name\n",
    "        self.account_num = account_num\n",
    "        self.balance = balance\n",
    "\n",
    "    def deposit (self,amount):\n",
    "        self.balance += amount\n",
    "        print(f\"{amount} won has been deposited. The balance is {self.balance}\")\n",
    "        return self.balance\n",
    "    \n",
    "    def __str__(self):\n",
    "        return f\"The balance of {self.name}'s account is {self.account_num} is {self.balance} won.\"\n",
    "\n",
    "account1 = BankAccount(\"David\",\"1234-0001\")\n",
    "print(account1)\n",
    "account1.deposit(2000)\n",
    "print(account1)"
   ]
  },
  {
   "cell_type": "markdown",
   "metadata": {},
   "source": [
    "* define the 'deposit' method witin the BankAccount class, which prints the deposit amount and balance when 2,000 won is deposited into the account 'account1'.\n",
    "* This method adds the value of the 'amount' paprameter to the 'balance'attribute of the BankAccount class.\n",
    "* It print the deposit amount and the updated balance using string formatting with the print function."
   ]
  },
  {
   "cell_type": "code",
   "execution_count": 11,
   "metadata": {},
   "outputs": [
    {
     "name": "stdout",
     "output_type": "stream",
     "text": [
      "The balance of David's account is 1234-0001 is 0 won.\n",
      "2000 won has been deposited. The balance is 2000\n",
      "The balance of David's account is 1234-0001 is 2000 won.\n",
      "The balance of David's account is 1234-0001 is 1000 won.\n"
     ]
    }
   ],
   "source": [
    "# step 4\n",
    "class BankAccount:\n",
    "    def __init__(self,name,account_num,balance = 0): #constructor\n",
    "        self.name = name\n",
    "        self.account_num = account_num\n",
    "        self.balance = balance\n",
    "\n",
    "    def deposit (self,amount):\n",
    "        self.balance += amount\n",
    "        print(f\"{amount} won has been deposited. The balance is {self.balance}\")\n",
    "        return self.balance\n",
    "    def winthdraw(self, amount):\n",
    "        self.balance -= amount \n",
    "\n",
    "    def __str__(self):\n",
    "        return f\"The balance of {self.name}'s account is {self.account_num} is {self.balance} won.\"\n",
    "\n",
    "account1 = BankAccount(\"David\",\"1234-0001\")\n",
    "print(account1)\n",
    "account1.deposit(2000)\n",
    "print(account1)\n",
    "account1.winthdraw(1000)\n",
    "print(account1)"
   ]
  },
  {
   "cell_type": "code",
   "execution_count": 14,
   "metadata": {},
   "outputs": [
    {
     "name": "stdout",
     "output_type": "stream",
     "text": [
      "The balance of David's account is 1234-0001 is 0 won.\n",
      "2000 won has been deposited. The balance is 2000\n",
      "The balance of David's account is 1234-0001 is 2000 won.\n",
      "The balance of David's account is 1234-0001 is 1000 won.\n",
      "The account balanc is 1000 won, which is less than the withdrawal amoun of 10000 won\n"
     ]
    }
   ],
   "source": [
    "# step 5\n",
    "class BankAccount:\n",
    "    def __init__(self,name,account_num,balance = 0): #constructor\n",
    "        self.name = name\n",
    "        self.account_num = account_num\n",
    "        self.balance = balance\n",
    "\n",
    "    def deposit (self,amount):\n",
    "        self.balance += amount\n",
    "        print(f\"{amount} won has been deposited. The balance is {self.balance}\")\n",
    "        return self.balance\n",
    "    def winthdraw(self, amount):\n",
    "        if self.balance - amount > 0 :\n",
    "            self.balance -= amount \n",
    "        else:\n",
    "            print(f'The account balanc is {self.balance} won, which is less than the withdrawal amoun of {amount} won')\n",
    "    def __str__(self):\n",
    "        return f\"The balance of {self.name}'s account is {self.account_num} is {self.balance} won.\"\n",
    "\n",
    "account1 = BankAccount(\"David\",\"1234-0001\")\n",
    "print(account1)\n",
    "account1.deposit(2000)\n",
    "print(account1)\n",
    "account1.winthdraw(1000)\n",
    "print(account1)\n",
    "account1.winthdraw(10000)"
   ]
  },
  {
   "cell_type": "code",
   "execution_count": 15,
   "metadata": {},
   "outputs": [
    {
     "name": "stdout",
     "output_type": "stream",
     "text": [
      "The balance of David's account is 1234-0001 is 0 won.\n",
      "2000 won has been deposited. The balance is 2000\n",
      "The balance of David's account is 1234-0001 is 2000 won.\n",
      "The balance of David's account is 1234-0001 is 1000 won.\n",
      "The account balanc is 1000 won, which is less than the withdrawal amoun of 10000 won\n"
     ]
    }
   ],
   "source": [
    "# step 6\n",
    "class BankAccount:\n",
    "    def __init__(self,name,account_num,balance = 0): #constructor\n",
    "        self.name = name\n",
    "        self.account_num = account_num\n",
    "        self.balance = balance\n",
    "    def get_name(self):\n",
    "        return self.name\n",
    "    \n",
    "    def get_account_num(self):\n",
    "        return self.account_num\n",
    "    \n",
    "    def get_balance(self):\n",
    "        return self.balance\n",
    "\n",
    "    def deposit (self,amount):\n",
    "        self.balance += amount\n",
    "        print(f\"{amount} won has been deposited. The balance is {self.balance}\")\n",
    "        return self.balance\n",
    "    def winthdraw(self, amount):\n",
    "        if self.balance - amount > 0 :\n",
    "            self.balance -= amount \n",
    "        else:\n",
    "            print(f'The account balanc is {self.balance} won, which is less than the withdrawal amoun of {amount} won')\n",
    "    def __str__(self):\n",
    "        return f\"The balance of {self.name}'s account is {self.account_num} is {self.balance} won.\"\n",
    "\n",
    "account1 = BankAccount(\"David\",\"1234-0001\")\n",
    "print(account1)\n",
    "account1.deposit(2000)\n",
    "print(account1)\n",
    "account1.winthdraw(1000)\n",
    "print(account1)\n",
    "account1.winthdraw(10000)"
   ]
  },
  {
   "cell_type": "markdown",
   "metadata": {},
   "source": [
    "## Pair programming \n",
    "\n",
    "![alt text](images/Lession%2021/)"
   ]
  },
  {
   "cell_type": "code",
   "execution_count": null,
   "metadata": {},
   "outputs": [],
   "source": [
    "![alt t]"
   ]
  }
 ],
 "metadata": {
  "kernelspec": {
   "display_name": "Python 3",
   "language": "python",
   "name": "python3"
  },
  "language_info": {
   "codemirror_mode": {
    "name": "ipython",
    "version": 3
   },
   "file_extension": ".py",
   "mimetype": "text/x-python",
   "name": "python",
   "nbconvert_exporter": "python",
   "pygments_lexer": "ipython3",
   "version": "3.8.0"
  }
 },
 "nbformat": 4,
 "nbformat_minor": 2
}
