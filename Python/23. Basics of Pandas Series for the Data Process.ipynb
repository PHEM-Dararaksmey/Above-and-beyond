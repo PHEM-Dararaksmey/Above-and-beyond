{
 "cells": [
  {
   "cell_type": "markdown",
   "metadata": {},
   "source": [
    "# 23. Basics of Pandas Series for the Data Process\n",
    "## Learning Objective\n",
    "1. Learners can install the lastes version of the Pandas library in the current virtual enviromnet.\n",
    "2. Learners understand the two Data structures of Pandas, Seires, and DataFrame.\n",
    "3. Learners can create Pandas Series from lists and dictionaries.\n",
    "4. Learners can select specific data elemetns and perform arithmetic operation in Pandas Series\n",
    "5. Learners can differentiate the nature of data and draw appropriate grapsh.\n",
    "### Concepts you will need to know from <FONT color ='yellow'>previous units</FONT>\n",
    "- Section 07: List Data Type:\n",
    "    - Usage of list\n",
    "- Section 11: Dictionary Data Type:\n",
    "    - Usage of dictionary\n",
    "### Main Keywords\n",
    "- Pandas\n",
    "- Series \n",
    "- DataFrame\n",
    "- Matplot\n",
    "- Line graph\n",
    "- Bar graph\n",
    "### Mission\n",
    "#### 1.Population Density\n",
    "![alt text](images/Lession%2023/Population%20Density.png)\n",
    "![alt text](images/Lession%2023/Population%20Density%201.png)\n",
    "![alt text](images/Lession%2023/Population%20Density%202.png)\n",
    "![alt text](images/Lession%2023/Analysis%20data%20as%20follow.png)\n",
    "![alt text](images/Lession%2023/Datascoure.png)"
   ]
  },
  {
   "cell_type": "code",
   "execution_count": 1,
   "metadata": {},
   "outputs": [],
   "source": [
    "population_2020 = {'Tokyo': 37339804,\n",
    "                   'Delhi': 31181376,\n",
    "                   'Shanghai': 27795702,\n",
    "                   'Sao Paulo': 22237472,\n",
    "                   'Mexicon City': 21918936,\n",
    "                   'Dhaka': 21741090,\n",
    "                   'Cairo': 21322750,\n",
    "                   'Karachi': 16459472,\n",
    "                   'Istanbul': 15415197,\n",
    "                   'Buenos Aires': 15257673,\n",
    "                   'Kinshasa': 14970460,\n",
    "                   'Lagos':14862111,\n",
    "                   'Manila': 14158573,\n",
    "                   'Rio de Janeiro': 13544462,\n",
    "                   'Moscow': 12593252,\n",
    "                   'Bogota': 11167392,\n",
    "                   'Paris': 11078546,\n",
    "                   'Jakarta': 10915364,\n",
    "                   'Lima': 10882757}"
   ]
  },
  {
   "cell_type": "markdown",
   "metadata": {},
   "source": [
    "![alt text](images/Lession%2023/Data%20scoure%201.png)"
   ]
  },
  {
   "cell_type": "code",
   "execution_count": 2,
   "metadata": {},
   "outputs": [],
   "source": [
    "population_2021 = {'Tokyo': 37393128,\n",
    "                   'Delhi': 30290936,\n",
    "                   'Shanghai': 27058480,\n",
    "                   'Sao Paulo': 22237472,\n",
    "                   'Mexicon City': 21918936,\n",
    "                   'Dhaka': 21741090,\n",
    "                   'Cairo': 21322750,\n",
    "                   'Karachi': 16459472,\n",
    "                   'Istanbul': 15415197,\n",
    "                   'Buenos Aires': 15257673,\n",
    "                   'Kinshasa': 14342439,\n",
    "                   'Lagos':14368332,\n",
    "                   'Manila': 13923452,\n",
    "                   'Rio de Janeiro': 13458075,\n",
    "                   'Moscow': 12537954,\n",
    "                   'Bogota': 10978360,\n",
    "                   'Paris': 11017230,\n",
    "                   'Jakarta': 10770487,\n",
    "                   'Lima': 10719188}"
   ]
  },
  {
   "cell_type": "markdown",
   "metadata": {},
   "source": [
    "![alt text](images/Lession%2023/city'.png)"
   ]
  },
  {
   "cell_type": "code",
   "execution_count": 3,
   "metadata": {},
   "outputs": [],
   "source": [
    "city_are = {\n",
    "    'Tokyo': 2194,\n",
    "    'Delhi': 1484,\n",
    "    'Shanghai': 6340,\n",
    "    'Sao Paulo': 1521,\n",
    "    'Mexicon City': 1485,\n",
    "    'Dhaka': 306.4,\n",
    "    'Cairo': 3085,\n",
    "    'Karachi': 3780,\n",
    "    'Istanbul': 5343,\n",
    "    'Buenos Aires': 203,\n",
    "    'Kinshasa': 9965,\n",
    "    'Lagos':1171,\n",
    "    'Manila': 42.88,\n",
    "    'Rio de Janeiro': 1255,\n",
    "    'Moscow': 2511,\n",
    "    'Bogota': 1775,\n",
    "    'Paris': 105.4,\n",
    "    'Jakarta': 661.5,\n",
    "    'Lima': 2672\n",
    "}"
   ]
  },
  {
   "cell_type": "markdown",
   "metadata": {},
   "source": [
    "#### Population Density Operation Process \n",
    "![alt text](images/Lession%2023/Process%201%20.png)\n",
    "![alt text](images/Lession%2023/Process%202.png)\n",
    "![alt text](images/Lession%2023/Process%203.png)\n",
    "![alt text](images/Lession%2023/Process%204.png)\n"
   ]
  },
  {
   "cell_type": "markdown",
   "metadata": {},
   "source": [
    "### Programming Plan\n",
    "![alt text](images/Lession%2023/Programming%20plan.png)\n",
    "![alt text](images/Lession%2023/Programming%20plan%201.png)"
   ]
  },
  {
   "cell_type": "markdown",
   "metadata": {},
   "source": [
    "## Keyconcepts"
   ]
  },
  {
   "cell_type": "markdown",
   "metadata": {},
   "source": [
    "### 1. Introduction to Pandas\n",
    "![alt text](images/Lession%2023/Introduction%20to%20Pandas.png)\n",
    "![alt text](images/Lession%2023/Introduction%20to%20Pandas%201.png)\n",
    "![alt text](images/Lession%2023/Introduction%20to%20Pandas%202.png)"
   ]
  },
  {
   "cell_type": "markdown",
   "metadata": {},
   "source": [
    "### 2. What is the appropriate use of Pandas?\n",
    "![alt text](images/Lession%2023/What%20is%20the%20appropriate%20use%20of%20Pandas.png)\n",
    "![alt text](images/Lession%2023/What%20is%20the%20appropriate%20use%20of%20Pandas%201.png)\n",
    "![alt text](images/Lession%2023/What%20is%20the%20appropriate%20use%20of%20Pandas%202.png)\n",
    "![alt text](images/Lession%2023/What%20is%20the%20appropriate%20use%20of%20Pandas%203.png)"
   ]
  },
  {
   "cell_type": "markdown",
   "metadata": {},
   "source": [
    "### 3. Pandas have two type of data structures.\n",
    "![alt text](images/Lession%2023/structure%20of%20pandas%20.png)\n",
    "![alt text](images/Lession%2023/structure%20of%20pandas%20%201.png)\n",
    "![alt text](images/Lession%2023/structure%20of%20pandas%20%202.png)"
   ]
  },
  {
   "cell_type": "markdown",
   "metadata": {},
   "source": [
    "### 4. Installing the Pandas library \n",
    "![alt text](images/Lession%2023/Installing%20the%20Pandas%20library%20.png)\n",
    "![alt text](images/Lession%2023/Installing%20the%20Pandas%20library%20%201.png)\n",
    "![alt text](images/Lession%2023/Installing%20the%20Pandas%20library%202.png)\n",
    "![alt text](images/Lession%2023/Installing%20the%20Pandas%20library%203.png)"
   ]
  },
  {
   "cell_type": "code",
   "execution_count": 4,
   "metadata": {},
   "outputs": [
    {
     "data": {
      "text/plain": [
       "'2.0.3'"
      ]
     },
     "execution_count": 4,
     "metadata": {},
     "output_type": "execute_result"
    }
   ],
   "source": [
    "import pandas as pd \n",
    "pd.__version__"
   ]
  },
  {
   "cell_type": "markdown",
   "metadata": {},
   "source": [
    "![alt](images/Lession%2023/Installing%20the%20Pandas%20library%204.png)\n",
    "* You can use the sys module in Python to find the location as follows"
   ]
  },
  {
   "cell_type": "code",
   "execution_count": 5,
   "metadata": {},
   "outputs": [
    {
     "data": {
      "text/plain": [
       "['/Users/anbschool0022/Downloads/Above-and-beyond/Python',\n",
       " '/Users/anbschool0022/anaconda3/envs/python_work/lib/python38.zip',\n",
       " '/Users/anbschool0022/anaconda3/envs/python_work/lib/python3.8',\n",
       " '/Users/anbschool0022/anaconda3/envs/python_work/lib/python3.8/lib-dynload',\n",
       " '',\n",
       " '/Users/anbschool0022/anaconda3/envs/python_work/lib/python3.8/site-packages']"
      ]
     },
     "execution_count": 5,
     "metadata": {},
     "output_type": "execute_result"
    }
   ],
   "source": [
    "import sys\n",
    "sys.path"
   ]
  },
  {
   "cell_type": "markdown",
   "metadata": {},
   "source": [
    "![alt text](images/Lession%2023/Installing%20the%20Pandas%20library%205.png)\n",
    "![alt text](images/Lession%2023/Installing%20the%20Pandas%20library%206.png)"
   ]
  },
  {
   "cell_type": "markdown",
   "metadata": {},
   "source": [
    "### 5. Optional dependencies \n",
    "![alt text](images/Lession%2023/Optional%20dependencies%20.png)\n",
    "![alt text](images/Lession%2023/Optional%20dependencies%201.png)\n",
    "![alt text](images/Lession%2023/Optional%20dependencies%202.png)"
   ]
  },
  {
   "cell_type": "markdown",
   "metadata": {},
   "source": [
    "### 6.Series \n",
    "* Series is the fundamental data structure in Pandas."
   ]
  },
  {
   "cell_type": "code",
   "execution_count": 6,
   "metadata": {},
   "outputs": [
    {
     "name": "stdout",
     "output_type": "stream",
     "text": [
      "0    1\n",
      "1    2\n",
      "2    3\n",
      "3    4\n",
      "4    5\n",
      "dtype: int64\n"
     ]
    }
   ],
   "source": [
    "import pandas as pd \n",
    "s = pd.Series([1,2,3,4,5])\n",
    "\n",
    "print(s)"
   ]
  },
  {
   "cell_type": "markdown",
   "metadata": {},
   "source": [
    "![alt text](images/Lession%2023/Explain%20series.png)"
   ]
  },
  {
   "cell_type": "markdown",
   "metadata": {},
   "source": [
    "### 7. Creating a Series \n",
    "![alt text](images/Lession%2023/Creating%20a%20Series%20.png)\n",
    "#### 7.1 Create a Series from Python lists or dictionaries\n",
    "> Pandas.Series(list or dictionary)"
   ]
  },
  {
   "cell_type": "code",
   "execution_count": 7,
   "metadata": {},
   "outputs": [
    {
     "name": "stdout",
     "output_type": "stream",
     "text": [
      "0           Iron Man\n",
      "1    Captain Americe\n",
      "2               Thor\n",
      "3     Winter Soldier\n",
      "4             Ultron\n",
      "5            Ant-Man\n",
      "6         Spider-Man\n",
      "dtype: object\n"
     ]
    }
   ],
   "source": [
    "#Create a Series from List \n",
    "import pandas as pd\n",
    "\n",
    "marvel = ['Iron Man','Captain Americe','Thor','Winter Soldier','Ultron','Ant-Man','Spider-Man']\n",
    "\n",
    "s = pd.Series(marvel)\n",
    "\n",
    "print(s)"
   ]
  },
  {
   "cell_type": "code",
   "execution_count": 8,
   "metadata": {},
   "outputs": [
    {
     "name": "stdout",
     "output_type": "stream",
     "text": [
      "Iron Man           2010\n",
      "Captain Americe    2021\n",
      "Thor               2013\n",
      "Winter Soldier     2014\n",
      "Ultron             2015\n",
      "dtype: int64\n"
     ]
    },
    {
     "data": {
      "text/plain": [
       "Index(['Iron Man', 'Captain Americe', 'Thor', 'Winter Soldier', 'Ultron'], dtype='object')"
      ]
     },
     "execution_count": 8,
     "metadata": {},
     "output_type": "execute_result"
    }
   ],
   "source": [
    "#Create a Series from dictionary \n",
    "import pandas as pd\n",
    "\n",
    "marvel = {'Iron Man':2010,'Captain Americe':2021,'Thor':2013,'Winter Soldier':2014,'Ultron':2015}\n",
    "\n",
    "s = pd.Series(marvel)\n",
    "\n",
    "print(s)\n",
    "\n",
    "s.index"
   ]
  },
  {
   "cell_type": "markdown",
   "metadata": {},
   "source": [
    "![alt text](images/Lession%2023/Explain%20series%202.png)"
   ]
  },
  {
   "cell_type": "markdown",
   "metadata": {},
   "source": [
    "#### 7.2 Creating a Series from arrays generated by NumPy\n",
    "* Series objects can be initialized using various NumPy functions.\n",
    "* Let's create a Series using some function and methods that generate arrays."
   ]
  },
  {
   "cell_type": "code",
   "execution_count": 10,
   "metadata": {},
   "outputs": [
    {
     "name": "stdout",
     "output_type": "stream",
     "text": [
      "0    0.548814\n",
      "1    0.715189\n",
      "2    0.602763\n",
      "3    0.544883\n",
      "4    0.423655\n",
      "5    0.645894\n",
      "dtype: float64\n"
     ]
    }
   ],
   "source": [
    "import pandas as pd \n",
    "import numpy as np\n",
    "\n",
    "np.random.seed(0)\n",
    "r = np.random.random(size= 6) # Generates 6 random number for a normal distribution and stores \n",
    "                              # them in the variable 'r'.\n",
    "\n",
    "s = pd.Series(r) # Convert the arrays generated by NumPy into a Series object.\n",
    "\n",
    "print(s)"
   ]
  },
  {
   "cell_type": "markdown",
   "metadata": {},
   "source": [
    "#### 7.3 Creating using values\n",
    "* A Series object can be initialized using values.\n",
    "* Create a simple Series object with only one data."
   ]
  },
  {
   "cell_type": "code",
   "execution_count": 11,
   "metadata": {},
   "outputs": [
    {
     "name": "stdout",
     "output_type": "stream",
     "text": [
      "0    4\n",
      "dtype: int64\n"
     ]
    }
   ],
   "source": [
    "import pandas as pd \n",
    "import numpy as np\n",
    "\n",
    "s = pd.Series(4)\n",
    "\n",
    "print(s)"
   ]
  },
  {
   "cell_type": "markdown",
   "metadata": {},
   "source": [
    "![alt text](images/Lession%2023/Creating%20using%20values.png)"
   ]
  },
  {
   "cell_type": "code",
   "execution_count": 13,
   "metadata": {},
   "outputs": [
    {
     "name": "stdout",
     "output_type": "stream",
     "text": [
      "q      1\n",
      "1      2\n",
      "cat    3\n",
      "d      4\n",
      "dog    5\n",
      "dtype: int64\n"
     ]
    }
   ],
   "source": [
    "import pandas as pd\n",
    "s = pd.Series([1,2,3,4,5],index=['q',1,'cat','d','dog'])\n",
    "print(s)"
   ]
  },
  {
   "cell_type": "code",
   "execution_count": 14,
   "metadata": {},
   "outputs": [
    {
     "name": "stdout",
     "output_type": "stream",
     "text": [
      "DatetimeIndex(['2021-01-01', '2021-01-02', '2021-01-03', '2021-01-04',\n",
      "               '2021-01-05', '2021-01-06', '2021-01-07'],\n",
      "              dtype='datetime64[ns]', freq='D')\n"
     ]
    }
   ],
   "source": [
    "import pandas as pd \n",
    "dates = pd.date_range('2021 -01-01','2021-01-07')\n",
    "\n",
    "print(dates)"
   ]
  },
  {
   "cell_type": "code",
   "execution_count": 15,
   "metadata": {},
   "outputs": [
    {
     "name": "stdout",
     "output_type": "stream",
     "text": [
      "2021-01-01           Iron Man\n",
      "2021-01-02    Captain Americe\n",
      "2021-01-03               Thor\n",
      "2021-01-04     Winter Soldier\n",
      "2021-01-05             Ultron\n",
      "2021-01-06            Ant-Man\n",
      "2021-01-07         Spider-Man\n",
      "Freq: D, dtype: object\n"
     ]
    }
   ],
   "source": [
    "\n",
    "import pandas as pd\n",
    "\n",
    "marvel = ['Iron Man','Captain Americe','Thor','Winter Soldier','Ultron','Ant-Man','Spider-Man']\n",
    "\n",
    "s = pd.Series(marvel, index= dates)\n",
    "\n",
    "print(s)"
   ]
  },
  {
   "cell_type": "markdown",
   "metadata": {},
   "source": [
    "### 8. Selecting Specific Data (Elements) from a Series \n",
    "* As explained earlier, there are two types of index.\n",
    "    - The default integer index, which is automatically generated starting from 0 when noting is specifed, and the index name,also know as index label, which can be specifically assigned.\n"
   ]
  },
  {
   "cell_type": "markdown",
   "metadata": {},
   "source": [
    "\n",
    "<FONT color ='lightblue'>Series composed of non-integer index names</FONT>"
   ]
  },
  {
   "cell_type": "code",
   "execution_count": 16,
   "metadata": {},
   "outputs": [
    {
     "data": {
      "text/plain": [
       "a    element1\n",
       "b    element2\n",
       "c    element3\n",
       "d    element4\n",
       "e    element5\n",
       "dtype: object"
      ]
     },
     "execution_count": 16,
     "metadata": {},
     "output_type": "execute_result"
    }
   ],
   "source": [
    "import pandas as pd \n",
    "\n",
    "s = ['element1','element2','element3','element4','element5']\n",
    "pd.Series(s, index =('a','b','c','d','e'))"
   ]
  },
  {
   "cell_type": "markdown",
   "metadata": {},
   "source": [
    "<FONT color ='lightblue'>Series with an integer index starting from 0</FONT>"
   ]
  },
  {
   "cell_type": "code",
   "execution_count": 17,
   "metadata": {},
   "outputs": [
    {
     "data": {
      "text/plain": [
       "0    element1\n",
       "1    element2\n",
       "2    element3\n",
       "3    element4\n",
       "4    element5\n",
       "dtype: object"
      ]
     },
     "execution_count": 17,
     "metadata": {},
     "output_type": "execute_result"
    }
   ],
   "source": [
    "s = ['element1','element2','element3','element4','element5']\n",
    "pd.Series(s)"
   ]
  },
  {
   "cell_type": "markdown",
   "metadata": {},
   "source": [
    "* Series_name.index: You can view the entire index values of the corresponding Series data.\n",
    "\n",
    "* Series_name.value: You can view the entire element value of corresponding Series data"
   ]
  },
  {
   "cell_type": "code",
   "execution_count": 19,
   "metadata": {},
   "outputs": [],
   "source": [
    "import pandas as pd \n",
    "\n",
    "marvel = ['Iron Man','Captain Americe','Thor','Winter Soldier','Ultron','Ant-Man','Spider-Man']\n",
    "s = pd.Series(marvel) # Convert a list into a Series object to prepare the practice data."
   ]
  },
  {
   "cell_type": "code",
   "execution_count": 20,
   "metadata": {},
   "outputs": [
    {
     "data": {
      "text/plain": [
       "RangeIndex(start=0, stop=7, step=1)"
      ]
     },
     "execution_count": 20,
     "metadata": {},
     "output_type": "execute_result"
    }
   ],
   "source": [
    "s.index # by using the index attribute, you can view only the index values that the Series has."
   ]
  },
  {
   "cell_type": "code",
   "execution_count": 22,
   "metadata": {},
   "outputs": [
    {
     "data": {
      "text/plain": [
       "array(['Iron Man', 'Captain Americe', 'Thor', 'Winter Soldier', 'Ultron',\n",
       "       'Ant-Man', 'Spider-Man'], dtype=object)"
      ]
     },
     "execution_count": 22,
     "metadata": {},
     "output_type": "execute_result"
    }
   ],
   "source": [
    "s.values # By using the values attribute, you can view all the data elements that the series has."
   ]
  },
  {
   "cell_type": "markdown",
   "metadata": {},
   "source": [
    "#### 8.1 Selecting Series Elements\n",
    "\n",
    "* The approach of selecting elements differs depending on whether the index is the default integer inx or a separately named index label.\n",
    "\n",
    "* <FONT color ='yellow'>Selecting elements from an integer index</FONT>"
   ]
  },
  {
   "cell_type": "code",
   "execution_count": 26,
   "metadata": {},
   "outputs": [
    {
     "name": "stdout",
     "output_type": "stream",
     "text": [
      "0    element1\n",
      "1    element2\n",
      "2    element3\n",
      "3    element4\n",
      "4    element5\n",
      "5    element5\n",
      "dtype: object\n"
     ]
    }
   ],
   "source": [
    "import pandas as pd \n",
    "s = ['element1','element2','element3','element4','element5','element5']\n",
    "sr=pd.Series(s)\n",
    "\n",
    "sr[2]\n",
    "sr[[4, 5]] # When selecting multiple index data.\n",
    "\n",
    "print(sr)"
   ]
  },
  {
   "cell_type": "code",
   "execution_count": 31,
   "metadata": {},
   "outputs": [
    {
     "name": "stdout",
     "output_type": "stream",
     "text": [
      "a    element1\n",
      "b    element2\n",
      "c    element3\n",
      "d    element4\n",
      "e    element5\n",
      "f    element6\n",
      "dtype: object\n"
     ]
    }
   ],
   "source": [
    "import pandas as pd \n",
    "s = ['element1','element2','element3','element4','element5','element6']\n",
    "sr=pd.Series(s, index =('a','b','c','d','e','f'))\n",
    "\n",
    "sr['b']\n",
    "sr[['d','e']] # When selecting multiple index data.\n",
    "\n",
    "print(sr)"
   ]
  },
  {
   "cell_type": "markdown",
   "metadata": {},
   "source": [
    "### 9. Basic Arithmetic Operations on Series Objects (+ , -, /, * ....)\n",
    "![alt text](images/Lession%2023/Basic%20Arithmetic%20Operations%20on%20Series%20Objects.png)\n",
    "\n",
    "#### 9.1 Arithmetic operations on a single Series object"
   ]
  },
  {
   "cell_type": "code",
   "execution_count": 32,
   "metadata": {},
   "outputs": [
    {
     "name": "stdout",
     "output_type": "stream",
     "text": [
      "0    10\n",
      "1    20\n",
      "2    30\n",
      "3    40\n",
      "4    50\n",
      "dtype: int64\n",
      "0     100\n",
      "1     400\n",
      "2     900\n",
      "3    1600\n",
      "4    2500\n",
      "dtype: int64\n"
     ]
    }
   ],
   "source": [
    "import pandas as pd \n",
    "s = [10,20,30,40,50]\n",
    "sr = pd.Series(s)\n",
    "\n",
    "print(sr)\n",
    "print(sr**2)"
   ]
  },
  {
   "cell_type": "markdown",
   "metadata": {},
   "source": [
    "#### 9.2 Arithmetic operations on a two or more Series object\n",
    "\n",
    "* Arithmetic operation on two or more Series objects are based on the index.\n",
    "* However, if the number of elements for each index does not match, the result of the operation will be NaN"
   ]
  },
  {
   "cell_type": "code",
   "execution_count": 33,
   "metadata": {},
   "outputs": [
    {
     "name": "stdout",
     "output_type": "stream",
     "text": [
      "0     33.0\n",
      "1    365.0\n",
      "2    153.0\n",
      "3      NaN\n",
      "4      NaN\n",
      "dtype: float64\n"
     ]
    }
   ],
   "source": [
    "import pandas as pd \n",
    "s = [10,20,30,40,50]\n",
    "s1 = [23,345,123]\n",
    "sr = pd.Series(s)\n",
    "sr1 =pd.Series(s1)\n",
    "\n",
    "sr2 = sr + sr1\n",
    "print(sr2)"
   ]
  },
  {
   "cell_type": "markdown",
   "metadata": {},
   "source": [
    "### 10. Many easy-to-use descriptive statistical functions \n",
    "![alt text](images/Lession%2023/Many%20easy-to-use%20descriptive%20statistical%20functions%20.png)"
   ]
  },
  {
   "cell_type": "markdown",
   "metadata": {},
   "source": [
    "### 11. Pandas provides many easy-to-use descriptive statistical functions."
   ]
  },
  {
   "cell_type": "code",
   "execution_count": 35,
   "metadata": {},
   "outputs": [
    {
     "name": "stdout",
     "output_type": "stream",
     "text": [
      "0     33.0\n",
      "1    365.0\n",
      "2    153.0\n",
      "3      NaN\n",
      "4      NaN\n",
      "dtype: float64\n",
      "3\n",
      "551.0\n"
     ]
    }
   ],
   "source": [
    "import pandas as pd \n",
    "s = [10,20,30,40,50]\n",
    "s1 = [23,345,123]\n",
    "sr = pd.Series(s)\n",
    "sr1 =pd.Series(s1)\n",
    "\n",
    "sr2 = sr + sr1\n",
    "print(sr2)\n",
    "\n",
    "print(sr2.count()) # Return the number of elements excluding mission data\n",
    "print(sr2.sum()) # Return the sum of elements excluding missing data."
   ]
  },
  {
   "cell_type": "markdown",
   "metadata": {},
   "source": [
    "### 12.1 Drawing a line graph\n",
    "![alt text](images/Lession%2023/Drawing%20a%20line%20graph.png)"
   ]
  },
  {
   "cell_type": "code",
   "execution_count": 36,
   "metadata": {},
   "outputs": [
    {
     "data": {
      "image/png": "[encoded data removed]",
      "text/plain": [
       "<Figure size 640x480 with 1 Axes>"
      ]
     },
     "metadata": {},
     "output_type": "display_data"
    }
   ],
   "source": [
    "import matplotlib.pyplot as plt \n",
    "plt.plot([1,2,3,4])\n",
    "\n",
    "plt.show()"
   ]
  },
  {
   "cell_type": "markdown",
   "metadata": {},
   "source": [
    "![alt text](images/Lession%2023/drawing%20graph.png)"
   ]
  },
  {
   "cell_type": "code",
   "execution_count": 37,
   "metadata": {},
   "outputs": [
    {
     "data": {
      "image/png": "[encoded data removed]",
      "text/plain": [
       "<Figure size 640x480 with 1 Axes>"
      ]
     },
     "metadata": {},
     "output_type": "display_data"
    }
   ],
   "source": [
    "import matplotlib.pyplot as plt \n",
    "plt.plot([1,2,3,4],[1,4,9,16])\n",
    "\n",
    "plt.show()"
   ]
  },
  {
   "cell_type": "code",
   "execution_count": 40,
   "metadata": {},
   "outputs": [
    {
     "data": {
      "image/png": "[encoded data removed]",
      "text/plain": [
       "<Figure size 640x480 with 1 Axes>"
      ]
     },
     "metadata": {},
     "output_type": "display_data"
    }
   ],
   "source": [
    "import matplotlib.pyplot as plt \n",
    "\n",
    "x = range(100)\n",
    "y = [value ** 2 for value in x]\n",
    "plt.plot(x,y, linewidth = 5.0, color = 'red') \n",
    "#linewidth is an attribute that adjust the thickness of line\n",
    "#color spefifies the color.\n",
    "plt.title('hello world of chart')\n",
    "plt.title('y-some numbers')\n",
    "plt.title('x-some numbers')\n",
    "\n",
    "\n",
    "plt.show()"
   ]
  },
  {
   "cell_type": "markdown",
   "metadata": {},
   "source": [
    "![alt text](images/Lession%2023/THe%20list%20.png)"
   ]
  },
  {
   "cell_type": "markdown",
   "metadata": {},
   "source": [
    "#### 12.2 Drawing a Bar Graph\n",
    "![alt text](images/Lession%2023/bar%20chart.png)\n",
    "\n",
    "* THe usage is very simple. Draw a bar graph with plt.bar()"
   ]
  },
  {
   "cell_type": "code",
   "execution_count": 42,
   "metadata": {},
   "outputs": [
    {
     "data": {
      "image/png": "[encoded data removed]",
      "text/plain": [
       "<Figure size 640x480 with 1 Axes>"
      ]
     },
     "metadata": {},
     "output_type": "display_data"
    }
   ],
   "source": [
    "from matplotlib import pyplot as plt \n",
    "days_in_year =[88,25,365,687,4333]\n",
    "plt.bar(range(len(days_in_year)),days_in_year)\n",
    "plt.show()"
   ]
  },
  {
   "cell_type": "markdown",
   "metadata": {},
   "source": [
    "### Let's code \n"
   ]
  }
 ],
 "metadata": {
  "kernelspec": {
   "display_name": "python_work",
   "language": "python",
   "name": "python3"
  },
  "language_info": {
   "codemirror_mode": {
    "name": "ipython",
    "version": 3
   },
   "file_extension": ".py",
   "mimetype": "text/x-python",
   "name": "python",
   "nbconvert_exporter": "python",
   "pygments_lexer": "ipython3",
   "version": "3.8.0"
  }
 },
 "nbformat": 4,
 "nbformat_minor": 2
}
