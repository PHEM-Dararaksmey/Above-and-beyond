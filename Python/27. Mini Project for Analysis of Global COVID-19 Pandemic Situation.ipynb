{
 "cells": [
  {
   "cell_type": "markdown",
   "metadata": {},
   "source": [
    "# 27. Mini Project for Analysis of Global COVID-19 Pandemic Situation\n",
    "\n",
    "## Mission \n",
    "\n",
    "### 1.Pandemic Data Analysis \n",
    "\n",
    "![alt text](images/Lession%2027/Pandemic%20Data%20analysis.png)\n",
    "![alt text](images/Lession%2027/27.1.1.png)\n",
    "![alt text](images/Lession%2027/27.1.2.png)\n",
    "![alt text](images/Lession%2027/27.1.3.png)\n",
    "![alt text](images/Lession%2027/27.1.4.png)\n",
    "![alt text](images/Lession%2027/27.1.5.png)\n",
    "\n",
    "### 2.Pandemic Data Analysis Operation Process\n",
    "\n",
    "![alt text](images/Lession%2027/27.2.1.png)\n",
    "![alt text](images/Lession%2027/27.2.2.png)\n",
    "![alt text](images/Lession%2027/27.2.3.png)\n",
    "![alt text](images/Lession%2027/27.2.4.png)\n",
    "![alt text](images/Lession%2027/27.2.5.png)\n",
    "![alt text](images/Lession%2027/27.2.6.png)\n",
    "![alt text](images/Lession%2027/27.2.7.png)\n",
    "\n",
    "### 3.Programming Planning \n",
    "\n",
    "![alt text](images/Lession%2027/27.3.1.png)\n",
    "![alt text](images/Lession%2027/27.3.3.png)"
   ]
  },
  {
   "cell_type": "markdown",
   "metadata": {},
   "source": [
    "## Let's code \n",
    "\n",
    "![alt text](images/Lession%2027/Mission.png)"
   ]
  },
  {
   "cell_type": "markdown",
   "metadata": {},
   "source": [
    "#### Step 1 \n",
    "* Prepare the data "
   ]
  },
  {
   "cell_type": "code",
   "execution_count": null,
   "metadata": {},
   "outputs": [],
   "source": []
  }
 ],
 "metadata": {
  "kernelspec": {
   "display_name": "Python 3",
   "language": "python",
   "name": "python3"
  },
  "language_info": {
   "name": "python",
   "version": "3.11.7"
  }
 },
 "nbformat": 4,
 "nbformat_minor": 2
}
