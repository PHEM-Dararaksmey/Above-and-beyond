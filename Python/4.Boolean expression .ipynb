{
 "cells": [
  {
   "cell_type": "code",
   "execution_count": null,
   "metadata": {},
   "outputs": [],
   "source": []
  },
  {
   "cell_type": "markdown",
   "metadata": {},
   "source": [
    "## Tuesday : 06/ 02/ 2024"
   ]
  },
  {
   "cell_type": "markdown",
   "metadata": {},
   "source": [
    "\n",
    "### Lession 4 : Boolean expression \n",
    "<br>\n",
    "learning object : bool data type , comparison operator , logic operator , identity operator, membership operator , operator precedence "
   ]
  },
  {
   "cell_type": "markdown",
   "metadata": {},
   "source": [
    "#### 1.Mission "
   ]
  },
  {
   "cell_type": "markdown",
   "metadata": {},
   "source": [
    "Leap Year Calculator Operation Process \n",
    "formulate :"
   ]
  },
  {
   "cell_type": "markdown",
   "metadata": {},
   "source": [
    "bool data type consists of True and False which represent true and false resoctively"
   ]
  },
  {
   "cell_type": "code",
   "execution_count": null,
   "metadata": {},
   "outputs": [
    {
     "name": "stdout",
     "output_type": "stream",
     "text": [
      "True\n",
      "False\n",
      "False\n",
      "False\n"
     ]
    }
   ],
   "source": [
    "# Data of non-bool type can be also be converted to bool type \n",
    "print(bool(1))\n",
    "print(bool(0))\n",
    "print(bool(''))\n",
    "print(bool(None))"
   ]
  },
  {
   "cell_type": "markdown",
   "metadata": {},
   "source": [
    "#### 2.Comparison Operators \n",
    "##### 2.1What is the Comparison Operator? <br>\n",
    "<br>\n",
    "<b>Comparison Operators </b> is compares two operands, and return True or Flase as the result "
   ]
  },
  {
   "cell_type": "code",
   "execution_count": null,
   "metadata": {},
   "outputs": [
    {
     "name": "stdout",
     "output_type": "stream",
     "text": [
      "Result of 10 > 5 : True\n",
      "Result of a > b : False\n",
      "Result of 5 < 1 : False\n",
      "Result of 5 == 5 : True\n",
      "Result of 5 != 5 : False\n"
     ]
    }
   ],
   "source": [
    "print(\"Result of 10 > 5 :\", 10 > 5)\n",
    "print(\"Result of a > b :\", 'a' > 'b')\n",
    "print(\"Result of 5 < 1 :\", 5 < 1)\n",
    "print(\"Result of 5 == 5 :\", 5 == 5)\n",
    "print(\"Result of 5 != 5 :\", 5 != 5)"
   ]
  },
  {
   "cell_type": "markdown",
   "metadata": {},
   "source": [
    "##### 2.2Numeric Type and Comparison Operator "
   ]
  },
  {
   "cell_type": "code",
   "execution_count": null,
   "metadata": {},
   "outputs": [
    {
     "name": "stdout",
     "output_type": "stream",
     "text": [
      "False\n",
      "True\n",
      "True\n",
      "False\n",
      "False\n",
      "True\n"
     ]
    }
   ],
   "source": [
    "a = 100 \n",
    "b = 200 \n",
    "print(a == b)\n",
    "print(a != b)\n",
    "print(a < b)\n",
    "print(a > b)\n",
    "print(a >= b)\n",
    "print(a <= b)"
   ]
  },
  {
   "cell_type": "code",
   "execution_count": null,
   "metadata": {},
   "outputs": [
    {
     "name": "stdout",
     "output_type": "stream",
     "text": [
      "Is this an even number  True\n"
     ]
    }
   ],
   "source": [
    "n = int(input(\"Enter an integer \"))\n",
    "print(\"Is this an even number \", n % 2  == 0)"
   ]
  },
  {
   "cell_type": "markdown",
   "metadata": {},
   "source": [
    "Python allows the use of more than onc comparison operator"
   ]
  },
  {
   "cell_type": "code",
   "execution_count": null,
   "metadata": {},
   "outputs": [
    {
     "name": "stdout",
     "output_type": "stream",
     "text": [
      "n = 100\n",
      "True\n"
     ]
    }
   ],
   "source": [
    "n = 100 \n",
    "print('n =', n)\n",
    "print(0 < n < 200)"
   ]
  },
  {
   "cell_type": "markdown",
   "metadata": {},
   "source": [
    "##### 2.3String and Comparison Operator <br>\n",
    "<br>\n",
    "The == operator for strings return Ture only if the two string are exactly the same \n"
   ]
  },
  {
   "cell_type": "code",
   "execution_count": null,
   "metadata": {},
   "outputs": [
    {
     "name": "stdout",
     "output_type": "stream",
     "text": [
      "True\n",
      "False\n"
     ]
    }
   ],
   "source": [
    "print('aaa' == 'aaa')\n",
    "print('bbb' == 'aaa')"
   ]
  },
  {
   "cell_type": "markdown",
   "metadata": {},
   "source": [
    "The != operator for strings returns True if the two strings are not exactly the same "
   ]
  },
  {
   "cell_type": "code",
   "execution_count": null,
   "metadata": {},
   "outputs": [
    {
     "name": "stdout",
     "output_type": "stream",
     "text": [
      "False\n",
      "True\n"
     ]
    }
   ],
   "source": [
    "print('aaa' != 'aaa')\n",
    "print('bbb' != 'aaa')"
   ]
  },
  {
   "cell_type": "markdown",
   "metadata": {},
   "source": [
    "##### 2.4Precaitopms when using Comparison Operator "
   ]
  },
  {
   "cell_type": "code",
   "execution_count": null,
   "metadata": {},
   "outputs": [
    {
     "ename": "SyntaxError",
     "evalue": "invalid syntax (171220688.py, line 3)",
     "output_type": "error",
     "traceback": [
      "\u001b[0;36m  Cell \u001b[0;32mIn[9], line 3\u001b[0;36m\u001b[0m\n",
      "\u001b[0;31m    number1 =< number2\u001b[0m\n",
      "\u001b[0m             ^\u001b[0m\n",
      "\u001b[0;31mSyntaxError\u001b[0m\u001b[0;31m:\u001b[0m invalid syntax\n"
     ]
    }
   ],
   "source": [
    "number1 = 100\n",
    "number2 = 200\n",
    "number1 =< number2"
   ]
  },
  {
   "cell_type": "markdown",
   "metadata": {},
   "source": [
    "####  3 Logical Operators \n",
    "##### 3.1 What is a Logical Operator ?<br>\n",
    "<br>\n",
    "<b> Logical operators</b> evaluate logical expressions and return True or False"
   ]
  },
  {
   "cell_type": "code",
   "execution_count": null,
   "metadata": {},
   "outputs": [
    {
     "name": "stdout",
     "output_type": "stream",
     "text": [
      "False\n",
      "True\n",
      "False\n",
      "True\n"
     ]
    }
   ],
   "source": [
    "x = True\n",
    "y =False \n",
    "print(x and y)\n",
    "print(x or y)\n",
    "print(not x)\n",
    "print(not y)"
   ]
  },
  {
   "cell_type": "markdown",
   "metadata": {},
   "source": [
    "##### 3.1 Logical Operation <br>\n",
    "<br>\n",
    "<b>Logical Operation</b>combine bol value to create a new bool value "
   ]
  },
  {
   "cell_type": "code",
   "execution_count": null,
   "metadata": {},
   "outputs": [
    {
     "name": "stdout",
     "output_type": "stream",
     "text": [
      "Is this integer an even number within the range of 0 to 100 ? False\n"
     ]
    }
   ],
   "source": [
    "num = int(input(\"Enter integer\"))\n",
    "result = num >= 0 and num <= 100 and num % 2 == 0\n",
    "print('Is this integer an even number within the range of 0 to 100 ?' ,result)"
   ]
  },
  {
   "cell_type": "markdown",
   "metadata": {},
   "source": [
    "##### 3.2Logical Opeartion and Parentheses "
   ]
  },
  {
   "cell_type": "code",
   "execution_count": null,
   "metadata": {},
   "outputs": [
    {
     "data": {
      "text/plain": [
       "False"
      ]
     },
     "metadata": {},
     "output_type": "display_data"
    }
   ],
   "source": [
    "num = 2023 \n",
    "(num % 4 == 0 and num % 100 != 0) or num % 400 == 0"
   ]
  },
  {
   "cell_type": "markdown",
   "metadata": {},
   "source": [
    "#### 4.Identity Operators \n",
    "##### 4.1The difference between the 'is' operator and the == Operator <br>\n",
    "<br>\n",
    "The 'is' Operator compares the identity of the objects by comparing their identifiers and return True of False indicating whether the tow variable refer to the same object"
   ]
  },
  {
   "cell_type": "code",
   "execution_count": null,
   "metadata": {},
   "outputs": [
    {
     "name": "stdout",
     "output_type": "stream",
     "text": [
      "True\n",
      "False\n"
     ]
    }
   ],
   "source": [
    "a = 1\n",
    "b = 1.0\n",
    "print(a == b)\n",
    "print(a is b)"
   ]
  },
  {
   "cell_type": "markdown",
   "metadata": {},
   "source": [
    "#### 5.Membership Operators \n",
    "The 'in' Operator determines whether the left value is present in the right data and returns True or False "
   ]
  },
  {
   "cell_type": "code",
   "execution_count": null,
   "metadata": {},
   "outputs": [
    {
     "name": "stdout",
     "output_type": "stream",
     "text": [
      "True\n",
      "True\n",
      "False\n"
     ]
    }
   ],
   "source": [
    "print('aaa' in 'aaa-bbb-ccc')\n",
    "print('bbb' in 'aaa-bbb-ccc')\n",
    "print('ddd' in 'aaa-bbb-ccc')"
   ]
  },
  {
   "cell_type": "markdown",
   "metadata": {},
   "source": [
    "#### 6.Order of operation "
   ]
  },
  {
   "cell_type": "code",
   "execution_count": null,
   "metadata": {},
   "outputs": [
    {
     "name": "stdout",
     "output_type": "stream",
     "text": [
      "Average =  20.0\n"
     ]
    }
   ],
   "source": [
    "x = int(input(\"Enter the first number :\"))\n",
    "y = int(input(\"Enter the second number :\"))\n",
    "z = int(input(\"Enter the third numbr:\"))\n",
    "\n",
    "avg = (x + y + z) / 3\n",
    "print(\"Average = \", avg)"
   ]
  },
  {
   "cell_type": "markdown",
   "metadata": {},
   "source": [
    "#### Paper Coding "
   ]
  },
  {
   "cell_type": "markdown",
   "metadata": {},
   "source": [
    "##### Write a code that receives that value of n throught the user's keyword <br>\n",
    "input and print True if the given integer n is odd and false if it is even"
   ]
  },
  {
   "cell_type": "markdown",
   "metadata": {},
   "source": [
    "![alt text](images/Lession%204/paper%20code%20Q1.png)"
   ]
  },
  {
   "cell_type": "code",
   "execution_count": null,
   "metadata": {},
   "outputs": [
    {
     "name": "stdout",
     "output_type": "stream",
     "text": [
      "Enter an integer :  21\n",
      "is this number odd ? True\n"
     ]
    }
   ],
   "source": [
    "n = int(input(\"Enter number :\"))\n",
    "result = n >= 0 and n % 2 != 0\n",
    "print(\"Enter an integer : \", n)\n",
    "print(\"is this number odd ?\",result)\n"
   ]
  },
  {
   "cell_type": "markdown",
   "metadata": {},
   "source": [
    "##### Q2 Write a code that determines whether the integer value n received from the user is an even number within the range of o to 10."
   ]
  },
  {
   "cell_type": "markdown",
   "metadata": {},
   "source": [
    "![alt text](images/Lession%204/paird%20programm%20q2.png)"
   ]
  },
  {
   "cell_type": "code",
   "execution_count": null,
   "metadata": {},
   "outputs": [
    {
     "name": "stdout",
     "output_type": "stream",
     "text": [
      "Enter an integer : 12\n",
      "Is the entered integer an even number within the range of 0 to 10 ? : False\n"
     ]
    }
   ],
   "source": [
    "n = int(input(\"Enter number\"))\n",
    "result = n >= 0 and n <= 10 and n % 2 == 0\n",
    "print(\"Enter an integer :\", n)\n",
    "print(\"Is the entered integer an even number within the range of 0 to 10 ? :\" , result)"
   ]
  },
  {
   "cell_type": "markdown",
   "metadata": {},
   "source": [
    "#### Let Code \n",
    "##### Mission leap year "
   ]
  },
  {
   "cell_type": "markdown",
   "metadata": {},
   "source": [
    "![alt text](images/Lession%204/Mission.png)"
   ]
  },
  {
   "cell_type": "code",
   "execution_count": null,
   "metadata": {},
   "outputs": [
    {
     "name": "stdout",
     "output_type": "stream",
     "text": [
      "The user's input year :  300\n",
      "The user's input year is a leap year ? :  False\n"
     ]
    }
   ],
   "source": [
    "#setp one take input form user\n",
    "year = int(input(\"Enter number of year \"))\n",
    "#determine if it true or false by using the \n",
    "leap_year = (year > 0 and year % 4 == 0 and year % 100 != 0 ) or year % 400 == 0 \n",
    "#print the leap year \n",
    "print(\"The user's input year : \", year)\n",
    "print(\"The user's input year is a leap year ? : \", leap_year)\n"
   ]
  },
  {
   "cell_type": "markdown",
   "metadata": {},
   "source": [
    "#### Pair Programming \n",
    "##### Q1. Plase input a three-digit integer from the user if the hundreds digit of the input teger n is 3 <br>\n",
    "output Ture ,otherwies output flase "
   ]
  },
  {
   "cell_type": "markdown",
   "metadata": {},
   "source": [
    "![alt text](images/Lession%204/paird%20programm%20Q1%20(1).png)"
   ]
  },
  {
   "cell_type": "code",
   "execution_count": null,
   "metadata": {},
   "outputs": [
    {
     "name": "stdout",
     "output_type": "stream",
     "text": [
      "Enter an integer 321\n",
      "True\n"
     ]
    }
   ],
   "source": [
    "three_digit = int(input(\"Enter three digit integer :\"))\n",
    "result = (three_digit > 0 and three_digit // 100 ) % 3 == 0\n",
    "print(\"Enter an integer\",three_digit)\n",
    "print(result)"
   ]
  },
  {
   "cell_type": "markdown",
   "metadata": {},
   "source": [
    "##### Q2 input a signle integer and output True if it is a multiple of 5 otherwise output false"
   ]
  },
  {
   "cell_type": "markdown",
   "metadata": {},
   "source": [
    "![alt text](images/Lession%204/paird%20programm%20q2.png)"
   ]
  },
  {
   "cell_type": "code",
   "execution_count": null,
   "metadata": {},
   "outputs": [
    {
     "name": "stdout",
     "output_type": "stream",
     "text": [
      "Enter an integer : 125\n",
      "True\n"
     ]
    }
   ],
   "source": [
    "Single_integer = int(input(\"Enter an integer :\"))\n",
    "result = (Single_integer > 0 and Single_integer % 5 == 0)\n",
    "print(\"Enter an integer :\", Single_integer)\n",
    "print(result)"
   ]
  },
  {
   "cell_type": "code",
   "execution_count": null,
   "metadata": {},
   "outputs": [
    {
     "name": "stdout",
     "output_type": "stream",
     "text": [
      "True\n",
      "True\n"
     ]
    }
   ],
   "source": [
    "print(bool('string'))\n",
    "print(bool(-1))"
   ]
  },
  {
   "cell_type": "code",
   "execution_count": null,
   "metadata": {},
   "outputs": [
    {
     "name": "stdout",
     "output_type": "stream",
     "text": [
      "True\n"
     ]
    }
   ],
   "source": [
    "a = 2 \n",
    "b = 2.0\n",
    "c = a == b \n",
    "print(c)"
   ]
  },
  {
   "cell_type": "code",
   "execution_count": null,
   "metadata": {},
   "outputs": [],
   "source": [
    "a = 2 \n",
    "b = 2 "
   ]
  }
 ],
 "metadata": {
  "language_info": {
   "name": "python"
  }
 },
 "nbformat": 4,
 "nbformat_minor": 2
}
