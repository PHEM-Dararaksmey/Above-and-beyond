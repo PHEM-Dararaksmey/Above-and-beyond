{
 "cells": [
  {
   "cell_type": "markdown",
   "metadata": {},
   "source": [
    "# 17.User defined function\n",
    "Learning Objective \n",
    "*  1 Learners can understand function and create user-defined function \n",
    "*  2 Learners can name function using def statement and call function using their names.\n",
    "*  3 Learners can use parameters to receive value within a function\n",
    "*  4 Learners can understand and use variable parameters for convenient function usage\n",
    "*  5 Learners can assign default values to parameters using default parameters, so that default values are used if no arguments are passed during function call \n",
    "*  6 Learners can specify keyword arguments during function calls to use parameters regardless of their order\n",
    "*  7 Learners can use the return statement to return the results of a function\n",
    "*  8 Learners can understand the concepts of local variables and global variables \n",
    "\n",
    "## Main keyword\n",
    "* Variables-length parameters of the function \n",
    "* Default parameter of the function \n",
    "* Keyword parameter of the function \n",
    "* Multiple returns of the function \n",
    "* Local variable \n",
    "* Global variable \n",
    "\n",
    "## Real word problem\n",
    "###  1.1 Digital world and encryption \n",
    "![alt text](images/Lession%2017/Real_world_problem%20.png)\n",
    "![alt text](images/Lession%2017/Real_world_problem_1%20.png)\n",
    "##   1.2 Caesar cipher \n",
    "* The caesar cipher is a type of simple <FONT color=\"#ADD8E6\">substitution cipher used in cryptography.</FONT>\n",
    "* in fact, the Roman emperor Caesar himself used this Caesar cipher.\n",
    "* The Caesar cipher is a method of substituting each letter by shifting it a certain number of positions down the alphabet.\n",
    "![alt text](images/Lession%2017/Caesar_cipher.png)\n",
    "![alt text](images/Lession%2017/Caesar_chipher_(1).png)\n",
    "##   1.3 Additional Resources Realted to the Caesar chipher \n",
    "![alt text](images/Lession%2017/Additional_Resources_Realted_to%20the_Caesar%20chipher%20.png)\n",
    "* There are web services that provide Caesar chipher encoder functionalily.\n",
    "* You can visit [https://cryptii.com/pipes/caesar-cipher](https://cryptii.com/pipes/caesar-cipher) to input plaintext and generate ciphertext\n",
    "![alt text](images/Lession%2017/Additional_Resources_Realted_to_the_Caesar_chipher_1.png)\n",
    "## 2.Solution \n",
    "### 2.1 Creating a Caesar Cipher Program\n",
    "* Write a program that receives and encrypted sentence using the Caesar cipher techniques and decrypts it\n",
    "* To solve the problem,import the string module,which define various contants, and use the string constant'asci_uppercase'representing uppercase letters ABCDEFGHIJKLMNOPQRSTUVWXYZ in ASCII code.\n",
    "➡️ Put this value into the 'src_str' variable and slove the problem\n",
    "* In this case , also use string slicing\n",
    "<table>\n",
    "    <tr>\n",
    "        <td>\n",
    "        <img src=\"./images/Lession 17/Creating_a_Caesar_Cipher_Program.png\">\n",
    "        <td>\n",
    "        <td>\n",
    "         <img src=\"./images/Lession 17/Code_2.1.png\">\n",
    "        <td>\n",
    "    </tr>\n",
    "</table>\n",
    "\n",
    "## 3. Mission\n",
    "### 3.1 The Caesar Cipher Operation Process \n",
    "![alt text](images/Lession%2017/The_Caesar_Cipher_Operation_Process%20.png)\n",
    "### 3.2 Programming Plan\n",
    "![alt text](images/Lession%2017/Programing_plan.png)"
   ]
  },
  {
   "cell_type": "markdown",
   "metadata": {
    "vscode": {
     "languageId": "plaintext"
    }
   },
   "source": [
    "## Key concpt\n",
    "### 1.1 What is a Function ?\n",
    "* A function is a collection of code that performs a specific task within a programm and is executed when called \n",
    "* It is a fundamental component of programming \n",
    "* The software we use is acutlly created by combining various function and modules\n",
    "\n",
    "Think of assembling Lego blocks to create the desired shape.\n",
    "![alt text](images/Lession%2017/What_is_a_function.png)\n",
    "<br>\n",
    "In programming, we also need to combine and arrange the necessary functionlities in the correct order to create large programs with thousands of lines or more.\n",
    "<br>\n",
    "<FONT color =\"yellow\">Function Provide the following advantages.</FONT>\n",
    "\n",
    "* 1 Structural programming is possible because a large program can be divided into multiple parts and written separately \n",
    "* 2 Reusing functions in different programms is possible.\n",
    "* 3 The readability of the code increases.\n",
    "* 4 Maintenance becomes easier as only specific functions need to be modified when updating a program\n",
    "* 5 Utilizing already developed functions can save time and cost in program development.\n",
    "\n",
    "### 1.2 Defining a Function\n",
    "* Functions are written following these setps.\n",
    "\n",
    "```{python}\n",
    "    def func_name( x1, x2, ...):\n",
    "    code 1\n",
    "    code 2 \n",
    "    .....\n",
    "    return n1[, n2, ....]\n",
    "```\n",
    "\n",
    "### 1.3 The pass Keyword\n",
    "* When implementing a function, you can use the pass statemnt to define only the name and postpone \n",
    "implementing the functionality for later.\n",
    "* The following function is intenden to define only the name and postpone implementing the functionality for later "
   ]
  },
  {
   "cell_type": "code",
   "execution_count": 8,
   "metadata": {},
   "outputs": [],
   "source": [
    "def fun():\n",
    "    pass\n",
    "\n",
    "fun()"
   ]
  },
  {
   "cell_type": "markdown",
   "metadata": {},
   "source": [
    "* Even when there is no implemented code and you just want to test by creating a name, you can use the pass keyword to indicate that the function has not been implemented yet.\n",
    "* if the function's body is left empty without the pass statement , an error will occur."
   ]
  },
  {
   "cell_type": "code",
   "execution_count": 9,
   "metadata": {},
   "outputs": [
    {
     "ename": "IndentationError",
     "evalue": "expected an indented block (1649175319.py, line 4)",
     "output_type": "error",
     "traceback": [
      "\u001b[0;36m  Cell \u001b[0;32mIn[9], line 4\u001b[0;36m\u001b[0m\n\u001b[0;31m    func()\u001b[0m\n\u001b[0m    ^\u001b[0m\n\u001b[0;31mIndentationError\u001b[0m\u001b[0;31m:\u001b[0m expected an indented block\n"
     ]
    }
   ],
   "source": [
    "def func():\n",
    "\n",
    "\n",
    "func()"
   ]
  },
  {
   "cell_type": "markdown",
   "metadata": {},
   "source": [
    "### 1.4 Parameters and Arguments \n",
    "* Let's reveiw key terms related to functions.\n",
    "![alt text](images/Lession%2017/Parameter_and_argument.png)\n",
    "![alt text](images/Lession%2017/parameter_and_argument_1.png)\n",
    "### 1.5 Function call without parameters.\n",
    "* Let's define and call a function without parameters"
   ]
  },
  {
   "cell_type": "code",
   "execution_count": 10,
   "metadata": {},
   "outputs": [
    {
     "name": "stdout",
     "output_type": "stream",
     "text": [
      "**********\n"
     ]
    }
   ],
   "source": [
    "def print_star():\n",
    "    print('*'*10)\n",
    "\n",
    "print_star()"
   ]
  },
  {
   "cell_type": "markdown",
   "metadata": {},
   "source": [
    "* A function is a collection of commands define to perform a specific task, and  each time the function is called from outside , these commands are executed."
   ]
  },
  {
   "cell_type": "code",
   "execution_count": 12,
   "metadata": {},
   "outputs": [
    {
     "name": "stdout",
     "output_type": "stream",
     "text": [
      "**********\n",
      "**********\n",
      "**********\n",
      "**********\n"
     ]
    }
   ],
   "source": [
    "def print_star():\n",
    "    print('*'*10)\n",
    "\n",
    "print_star()\n",
    "print_star()\n",
    "print_star()\n",
    "print_star()"
   ]
  },
  {
   "cell_type": "markdown",
   "metadata": {},
   "source": [
    "### 1.6 Function call with parameters.\n",
    "* Let's define and call a function with parameters\n",
    "* The star printing function with parameter can repeat the star printing 4 times through argument 4. Four line were printed, with 10 stars each."
   ]
  },
  {
   "cell_type": "code",
   "execution_count": 13,
   "metadata": {},
   "outputs": [
    {
     "name": "stdout",
     "output_type": "stream",
     "text": [
      "**********\n",
      "**********\n",
      "**********\n",
      "**********\n"
     ]
    }
   ],
   "source": [
    "def print_star(n):\n",
    "    for _ in range(n):\n",
    "        print('*'*10)\n",
    "        \n",
    "print_star(4)"
   ]
  },
  {
   "cell_type": "markdown",
   "metadata": {},
   "source": [
    "* Lets' take a colser loop at the star printing function with parameters.\n",
    "<br>\n",
    "![alt text](images/Lession%2017/Function_with_parameter.png)\n",
    "\n",
    "* This time,let's define a function called 'print_hello' that take the number of repetitions as a prameters."
   ]
  },
  {
   "cell_type": "code",
   "execution_count": 15,
   "metadata": {},
   "outputs": [
    {
     "name": "stdout",
     "output_type": "stream",
     "text": [
      "Print hello twice.\n",
      "Hello Hello \n",
      "Print hello three times.\n",
      "Hello Hello Hello Hello \n",
      "Print hello four times.\n",
      "Hello Hello Hello Hello \n"
     ]
    }
   ],
   "source": [
    "def print_hello(n):\n",
    "    print(\"Hello \" * n)\n",
    "\n",
    "print(\"Print hello twice.\")\n",
    "print_hello(2)\n",
    "print(\"Print hello three times.\")\n",
    "print_hello(4)\n",
    "print(\"Print hello four times.\")\n",
    "print_hello(4)"
   ]
  },
  {
   "cell_type": "markdown",
   "metadata": {},
   "source": [
    "### 1.7 Caution when calling a function.\n",
    "* Let's define a function and called 'print_sum' that uses paramters to print the sum of the argument values,and call it.\n",
    "* The sum of the arguments 10,20,100,and 200 is calculated inside the function."
   ]
  },
  {
   "cell_type": "code",
   "execution_count": 19,
   "metadata": {},
   "outputs": [
    {
     "name": "stdout",
     "output_type": "stream",
     "text": [
      "The sum of 10 and 20 is 30.\n",
      "The sum of 100 and 200 is 300.\n"
     ]
    }
   ],
   "source": [
    "def print_sum(a, b):\n",
    "        result = a + b \n",
    "        print(f'The sum of {a} and {b} is {result}.')\n",
    "\n",
    "print_sum(10,20)\n",
    "print_sum(100,200)"
   ]
  },
  {
   "cell_type": "markdown",
   "metadata": {},
   "source": [
    "![alt text](images/Lession%2017/Erroy_type_1.7.png)"
   ]
  },
  {
   "cell_type": "markdown",
   "metadata": {},
   "source": [
    "### 1.8 Using the return statement to return results.\n",
    "* Let's learn about the return statemtn.\n",
    "![alt text](images/Lession%2017/Retrun_statment%20.png)"
   ]
  },
  {
   "cell_type": "code",
   "execution_count": 20,
   "metadata": {},
   "outputs": [
    {
     "data": {
      "text/plain": [
       "10"
      ]
     },
     "execution_count": 20,
     "metadata": {},
     "output_type": "execute_result"
    }
   ],
   "source": [
    "def get_sum(start,end):\n",
    "    s = 0 \n",
    "    for i in range(start,end + 1):\n",
    "        s += 1 \n",
    "    return s \n",
    "\n",
    "x = get_sum(1,10)\n",
    "x"
   ]
  },
  {
   "cell_type": "markdown",
   "metadata": {},
   "source": [
    "![alt text](images/Lession%2017/Let_take_a_coler_loop_at_the_1.8.png)\n",
    "\n",
    "* When using return to return a value, it is also possible to pu an expression after the return keyword  to return the result of the expression"
   ]
  },
  {
   "cell_type": "code",
   "execution_count": 21,
   "metadata": {},
   "outputs": [
    {
     "name": "stdout",
     "output_type": "stream",
     "text": [
      "Sum of the tow numbers's 300\n"
     ]
    }
   ],
   "source": [
    "def get_sum(a,b):\n",
    "    return a + b\n",
    "\n",
    "result = get_sum(100, 200)\n",
    "print(\"Sum of the tow numbers's\",result)"
   ]
  },
  {
   "cell_type": "markdown",
   "metadata": {},
   "source": [
    "### 1.9 Multiple return\n",
    "* When there are two return values, they are returned as a tuple. The external code also receives the return values in tuple format.\n",
    "* A return statment that returns two or more values separated by commas, thus returing multiple value, is called <FONT color=\"yellow\"> a multiple return statement</FONT>\n",
    "* Let's define a function to fin the roots of a quadratic equation using paramters"
   ]
  },
  {
   "cell_type": "code",
   "execution_count": 22,
   "metadata": {},
   "outputs": [
    {
     "name": "stdout",
     "output_type": "stream",
     "text": [
      "The solution is  2.0 or -4.0\n"
     ]
    }
   ],
   "source": [
    "def get_root(a,b,c):\n",
    "    root_1 = (-b + (b ** 2 - 4 * a * c)** 0.5)/(2* a)\n",
    "    root_2 = (-b - (b ** 2 - 4 * a * c)** 0.5)/(2* a)\n",
    "    return root_1 , root_2\n",
    "\n",
    "result_1 , result_2 = get_root(1,2,-8)\n",
    "print(\"The solution is \", result_1,'or',result_2)"
   ]
  },
  {
   "cell_type": "markdown",
   "metadata": {},
   "source": [
    "* This time ,let's define a functin that returns the area and circumference of a circle"
   ]
  },
  {
   "cell_type": "code",
   "execution_count": 34,
   "metadata": {},
   "outputs": [
    {
     "name": "stdout",
     "output_type": "stream",
     "text": [
      "The are of a circle wiht radius10.0is 314.0, The circumference of the circle is 62.8\n"
     ]
    }
   ],
   "source": [
    "def circle_area_circum(radius):\n",
    "    area = 3.14 * radius ** 2\n",
    "    circum = 2 * 3.14 * radius\n",
    "    return area, circum\n",
    "\n",
    "radius = 10\n",
    "area , circum = circle_area_circum(radius)\n",
    "print(f\"The are of a circle wiht radius{radius:.1f}is {area}, The circumference of the circle is {circum:.1f}\")"
   ]
  },
  {
   "cell_type": "markdown",
   "metadata": {},
   "source": [
    "### 1.10 Variable-length parameter \n",
    "* Let's learn about Varaible-lenght argument passign.\n",
    "    - There are case where the number of arguments is not fiexd when using functions and this is called the variable-length argument.\n",
    "    - When receiving variable arguments is a function , and asterisk(*) is placed before the parameter.\n",
    "    - The variable inside a function that receives variable-length arguments is a <FONT color =\"yellow\">variable-length parameter</FONT>\n",
    "* Let's create a function what works well even when 3 or 2 arguments are provided throught the variable-length argument passing\n"
   ]
  },
  {
   "cell_type": "code",
   "execution_count": 35,
   "metadata": {},
   "outputs": [
    {
     "name": "stdout",
     "output_type": "stream",
     "text": [
      "Hello A !\n",
      "Hello B !\n",
      "Hello C !\n",
      "Hello James !\n",
      "Hello Thomas !\n"
     ]
    }
   ],
   "source": [
    "def greet(*names):\n",
    "    for name in names:\n",
    "        print(\"Hello\",name,'!')\n",
    "\n",
    "greet('A','B','C')\n",
    "greet('James','Thomas')"
   ]
  },
  {
   "cell_type": "markdown",
   "metadata": {},
   "source": [
    "* Let's create a program that calculate the sum of the numbers passed as arguments "
   ]
  },
  {
   "cell_type": "code",
   "execution_count": 36,
   "metadata": {},
   "outputs": [
    {
     "name": "stdout",
     "output_type": "stream",
     "text": [
      "60\n",
      "150\n"
     ]
    }
   ],
   "source": [
    "def sum_nums(* numbers):\n",
    "    result = 0\n",
    "    for n in numbers:\n",
    "        result += n\n",
    "    return result \n",
    "print(sum_nums(10,20,30))\n",
    "print(sum_nums(10,20,30,40,50))\n",
    "        "
   ]
  },
  {
   "cell_type": "markdown",
   "metadata": {},
   "source": [
    "### 1.11 Default parameter \n",
    "![alt text](images/Lession%2017/why_that_code_error_1.11.png)\n",
    "![alt text](images/Lession%2017/Default_parameter.png)"
   ]
  },
  {
   "cell_type": "markdown",
   "metadata": {},
   "source": [
    "* While it is necessary to provide precise arguments to delegate specific tasks to a function, there are time when using default values is convenient to prevnts errors and provide more flexibility.\n",
    "* In this case, what is used is <FONT color = \"yellow\"> a default parameter</FONT>.\n",
    "* A default value can be assigned to a parameter using the syntax '=1'"
   ]
  },
  {
   "cell_type": "code",
   "execution_count": 38,
   "metadata": {},
   "outputs": [
    {
     "name": "stdout",
     "output_type": "stream",
     "text": [
      "**********\n"
     ]
    }
   ],
   "source": [
    "def print_star(n = 1):\n",
    "    for _ in range(n):\n",
    "        print(\"*\"*10)\n",
    "\n",
    "print_star()"
   ]
  },
  {
   "cell_type": "markdown",
   "metadata": {},
   "source": [
    "- Even when called without an arguments , the default values of 1 is passed to the parameters 'n', so a line of starts is printed normolly\n",
    "![alt text](images/Lession%2017/Default_value.png)\n",
    "\n",
    "### 1.12 Precautions when using default arguments\n",
    "![alt text](images/Lession%2017/Precautions_when_using_default_arguments.png)\n",
    "![alt text](images/Lession%2017/Error_typePrecautions_when_using_default_arguments.png)\n",
    "\n",
    "* Default parameters <FONT color =\"lightblue\">should be assigned for all variable</FONT> or staring from <FONT color =\"yellow\">variable that appear later in the parameter list</FONT>.\n",
    "* Let's modify the function called'div' that uses two parameters so that the second parameter has a default value of 2 "
   ]
  },
  {
   "cell_type": "code",
   "execution_count": 39,
   "metadata": {},
   "outputs": [
    {
     "name": "stdout",
     "output_type": "stream",
     "text": [
      "div(4) =  2.0\n",
      "div(6/3)= 2.0\n"
     ]
    }
   ],
   "source": [
    "def div(a,b=2):\n",
    "    return a / b\n",
    "print('div(4) = ',div(4))\n",
    "print('div(6/3)=',div(6,3))"
   ]
  },
  {
   "cell_type": "markdown",
   "metadata": {},
   "source": [
    "### 1.13 Keyword parameter\n",
    "![alt text](images/Lession%2017/Keyword_parameter.png)\n",
    "![alt text](images/Lession%2017/Focus_keyword_parameter.png)\n",
    "\n",
    "* Let's find out if it is possible to specify not only the value of an argument but also its name when calling a function\n",
    "* keyword parameter passign apporach \n",
    "    - When calling a function, both the parameter name and its value are specified together."
   ]
  },
  {
   "cell_type": "code",
   "execution_count": 40,
   "metadata": {},
   "outputs": [
    {
     "name": "stdout",
     "output_type": "stream",
     "text": [
      "The solution is  2.0 or -4.0\n"
     ]
    }
   ],
   "source": [
    "def get_root(a,b,c):\n",
    "    root_1 = (-b + (b ** 2 - 4 * a * c)** 0.5)/(2* a)\n",
    "    root_2 = (-b - (b ** 2 - 4 * a * c)** 0.5)/(2* a)\n",
    "    return root_1 , root_2\n",
    "\n",
    "result_1 , result_2 = get_root(1,2,-8)\n",
    "print(\"The solution is \", result_1,'or',result_2)"
   ]
  },
  {
   "cell_type": "code",
   "execution_count": 42,
   "metadata": {},
   "outputs": [
    {
     "name": "stdout",
     "output_type": "stream",
     "text": [
      "The solution is  -0.25 or 0.5\n"
     ]
    }
   ],
   "source": [
    "result_1 , result_2 = get_root(-8,2,1)\n",
    "print(\"The solution is \", result_1,'or',result_2)"
   ]
  },
  {
   "cell_type": "code",
   "execution_count": 43,
   "metadata": {},
   "outputs": [
    {
     "name": "stdout",
     "output_type": "stream",
     "text": [
      "The solution is  2.0 or -4.0\n"
     ]
    }
   ],
   "source": [
    "result_1 , result_2 = get_root(a = 1, b= 2, c= -8)\n",
    "print(\"The solution is \", result_1,'or',result_2)"
   ]
  },
  {
   "cell_type": "markdown",
   "metadata": {},
   "source": [
    "* Keyword parameters allow passign arguments based on their name ,regardless of their positions.\n",
    "![alt text](images/Lession%2017/Keyword_parameter_1.13.png)\n",
    "### 1.14 Precautions when using keyword arguments \n",
    "![alt text](images/Lession%2017/Precautions_when_using_keyword_arguments%20.png)\n",
    "* However, when mixing these two methods, the keyword arguments must come after the positional arguments \n",
    "![alt text](images/Lession%2017/Error_type_Precautions_when_using_keyword_arguments%20.png)\n",
    "- if positional arguments are not specified before keyword argumetns , an error will occur.\n",
    "- When mixing keyword and positional arguments, the ppositional arguments must be specified first."
   ]
  },
  {
   "cell_type": "code",
   "execution_count": 44,
   "metadata": {},
   "outputs": [
    {
     "name": "stdout",
     "output_type": "stream",
     "text": [
      "The solution is 2.0 or -4.0\n"
     ]
    }
   ],
   "source": [
    "result_1,result_2 = get_root(1,2,c = -8)\n",
    "print(\"The solution is\",result_1,'or',result_2)"
   ]
  },
  {
   "cell_type": "markdown",
   "metadata": {},
   "source": [
    "- First, list the positional arguments in order, and then the keyword arguments can be listed in any desired order "
   ]
  },
  {
   "cell_type": "code",
   "execution_count": 45,
   "metadata": {},
   "outputs": [
    {
     "data": {
      "text/plain": [
       "0"
      ]
     },
     "execution_count": 45,
     "metadata": {},
     "output_type": "execute_result"
    }
   ],
   "source": [
    "def func(a,b,c = 3,d=4,e=5):\n",
    "    return a + b + c + d\n",
    "func(1,2,e=0,d=-6)"
   ]
  },
  {
   "cell_type": "markdown",
   "metadata": {},
   "source": [
    "### 1.15 Example of creating a Cartesian produt function \n",
    "* Let's use a function to generate the Cartesian product, which we learned from the set data type \n",
    "    - The Cartesian product A3, which is used in matematics , can be defined as A x A x A.\n",
    "    - A x A x A has the following elements.\n",
    "    ![alt text](images/Lession%2017%20/A%20x%20A%20x%20A.png)\n",
    "* Let's implement this operation by repeatedly calling the product_set functions.\n",
    "* By using the defined function product_set, we can also calculated all possible outcome when throwing tow dice."
   ]
  },
  {
   "cell_type": "code",
   "execution_count": 46,
   "metadata": {},
   "outputs": [
    {
     "name": "stdout",
     "output_type": "stream",
     "text": [
      "{(3, 4), (4, 3), (3, 1), (5, 4), (4, 6), (5, 1), (2, 2), (1, 6), (2, 5), (1, 3), (6, 2), (6, 5), (4, 2), (4, 5), (3, 3), (5, 6), (3, 6), (5, 3), (2, 4), (1, 2), (2, 1), (1, 5), (6, 1), (6, 4), (3, 2), (4, 1), (3, 5), (5, 2), (4, 4), (5, 5), (1, 1), (1, 4), (2, 3), (2, 6), (6, 6), (6, 3)}\n"
     ]
    }
   ],
   "source": [
    "def product_set(set1, set2):\n",
    "    res =set()\n",
    "    for i in set1:\n",
    "        for j in set2:\n",
    "            res = res | {(i,j)}\n",
    "    return res\n",
    "\n",
    "case = {1,2,3,4,5,6}\n",
    "case_2time = product_set(case,case)\n",
    "print(case_2time)"
   ]
  },
  {
   "cell_type": "markdown",
   "metadata": {},
   "source": [
    "## 2. Global variables and local variables \n",
    "### 2.1 What are gobal variables?\n",
    "![alt text](images/Lession%2017/Gloabal_variable.png)\n"
   ]
  },
  {
   "cell_type": "markdown",
   "metadata": {},
   "source": [
    "- By examining the following code and diagram ,we can see that the variables 'a' and 'b' are used both in the python scipt file and in the 'print_sum' function\n",
    "### 2.2 What are local variables?\n",
    "![alt text](images/Lession%2017/Local_variable.png)\n",
    "![alt text](images/Lession%2017/Local_variable_2.png)\n",
    "- Let's examine the code in detail"
   ]
  },
  {
   "cell_type": "code",
   "execution_count": 48,
   "metadata": {},
   "outputs": [
    {
     "name": "stdout",
     "output_type": "stream",
     "text": [
      "print_sum(internal): The sum of  100 and 200 is 300 .\n",
      "print_sum(external): The sum of  10 and 20 is 30 .\n"
     ]
    }
   ],
   "source": [
    "def print_sum():\n",
    "    a = 100\n",
    "    b = 200 \n",
    "    result = a + b \n",
    "    print('print_sum(internal):','The sum of ',a,'and',b,'is',result,'.')\n",
    "\n",
    "a = 10 \n",
    "b = 20 \n",
    "print_sum()\n",
    "result = a + b \n",
    "print('print_sum(external):','The sum of ',a,'and',b,'is',result,'.')"
   ]
  },
  {
   "cell_type": "code",
   "execution_count": 49,
   "metadata": {},
   "outputs": [
    {
     "name": "stdout",
     "output_type": "stream",
     "text": [
      "print_sum(internal): The sum of  100 and 200 is 300 .\n",
      "print_sum(external): The sum of  100 and 200 is 300 .\n"
     ]
    }
   ],
   "source": [
    "def print_sum():\n",
    "    global a, b\n",
    "    a = 100\n",
    "    b = 200 \n",
    "    result = a + b \n",
    "    print('print_sum(internal):','The sum of ',a,'and',b,'is',result,'.')\n",
    "\n",
    "a = 10 \n",
    "b = 20 \n",
    "print_sum()\n",
    "result = a + b \n",
    "print('print_sum(external):','The sum of ',a,'and',b,'is',result,'.')"
   ]
  },
  {
   "cell_type": "markdown",
   "metadata": {},
   "source": [
    "### 2.3 global keyword\n",
    "![alt text](images/Lession%2017/Gloabal_1.png)\n",
    "![alt text](images/Lession%2017/Error_type_Golobal_1.png)\n",
    "### 2.4 Utiliziing Global Variables as Global Constants \n",
    "![alt text](images/Lession%2017/Utiliziing_Global_Variables_as_Global_Constants%20.png)"
   ]
  },
  {
   "cell_type": "code",
   "execution_count": 50,
   "metadata": {},
   "outputs": [
    {
     "name": "stdout",
     "output_type": "stream",
     "text": [
      "102400\n"
     ]
    }
   ],
   "source": [
    "GLOBAL_VALUE = 1024\n",
    "def foo():\n",
    "    global GLOBAL_VALUE\n",
    "    a = GLOBAL_VALUE * 100\n",
    "    print(a)\n",
    "\n",
    "foo()"
   ]
  },
  {
   "cell_type": "markdown",
   "metadata": {},
   "source": [
    "### Paper Code "
   ]
  },
  {
   "cell_type": "markdown",
   "metadata": {},
   "source": [
    "![alt text](images/Lession%2017/Paper_code_Q1.png)"
   ]
  },
  {
   "cell_type": "code",
   "execution_count": null,
   "metadata": {},
   "outputs": [],
   "source": [
    "#Q1"
   ]
  },
  {
   "cell_type": "markdown",
   "metadata": {},
   "source": [
    "![alt text](images/Lession%2017/Paper_codevQ2.png)"
   ]
  },
  {
   "cell_type": "code",
   "execution_count": null,
   "metadata": {},
   "outputs": [],
   "source": [
    "#Q2"
   ]
  },
  {
   "cell_type": "markdown",
   "metadata": {},
   "source": [
    "![alt text](images/Lession%2017/Paper_code_Q3.png)"
   ]
  },
  {
   "cell_type": "code",
   "execution_count": null,
   "metadata": {},
   "outputs": [],
   "source": [
    "#Q3"
   ]
  },
  {
   "cell_type": "markdown",
   "metadata": {},
   "source": [
    "![alt text](images/Lession%2017/paper_code_Q4.png)"
   ]
  },
  {
   "cell_type": "code",
   "execution_count": 68,
   "metadata": {},
   "outputs": [],
   "source": [
    "#Q4"
   ]
  },
  {
   "cell_type": "markdown",
   "metadata": {},
   "source": [
    "## Let's code \n",
    "![alt text](images/Lession%2017/Mission.png)"
   ]
  },
  {
   "cell_type": "markdown",
   "metadata": {},
   "source": [
    "## Pair Programming \n",
    "![alt text](images/Lession%2017/Pair_Programming.png)"
   ]
  },
  {
   "cell_type": "code",
   "execution_count": null,
   "metadata": {},
   "outputs": [],
   "source": []
  },
  {
   "cell_type": "markdown",
   "metadata": {},
   "source": [
    "![alt text](images/Lession%2017/Pair_Programming_Q2.png)"
   ]
  },
  {
   "cell_type": "markdown",
   "metadata": {},
   "source": [
    "## Python Test 17"
   ]
  },
  {
   "cell_type": "markdown",
   "metadata": {},
   "source": []
  }
 ],
 "metadata": {
  "kernelspec": {
   "display_name": "Python 3",
   "language": "python",
   "name": "python3"
  },
  "language_info": {
   "codemirror_mode": {
    "name": "ipython",
    "version": 3
   },
   "file_extension": ".py",
   "mimetype": "text/x-python",
   "name": "python",
   "nbconvert_exporter": "python",
   "pygments_lexer": "ipython3",
   "version": "3.9.6"
  }
 },
 "nbformat": 4,
 "nbformat_minor": 2
}
