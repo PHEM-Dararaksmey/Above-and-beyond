{
 "cells": [
  {
   "cell_type": "markdown",
   "metadata": {},
   "source": [
    "### Date 03 / 02 / 2024\n",
    "#  2. Variables and Data Types Operators\n",
    "## Learning Objective\n",
    "1. Learners understand the various data types and can perform operations using data types and operators.\n",
    "2. Learners can perform addition, subtraction, multiplication, division, and exponentiation operations using Python. They also understand and can use advanced features to calculate quotients and remainders in Python division.\n",
    "3. Learners can use operator precedence to express mathematical expression. \n",
    "4. Learners understand the concept of variables, comprehend the behavior of assignment operators, and can use variables.\n",
    "5. Learners explore the concept and types of shorthand operators and can perform cumulative operations using variables. \n",
    "\n",
    "### Concepts you will need to know from <FONT color ='yellow'>previous units</FONT>\n",
    "- Section 01 : <FONT color ='yellow'>Sequential Programming Plan</FONT> \n",
    "    - How to use Jupyter Notebook\n",
    "    - Hot to use the print statement \n",
    "### Main Keywords :\n",
    "1. String data type\n",
    "2. Numeric data type\n",
    "3. bool data type\n",
    "4. Variables\n",
    "5. Naming Conventions \n",
    "6. Assignment operators\n",
    "7. Arithmetic operators\n",
    "8. Shorthand  operators\n",
    "9. Comments\n",
    "\n",
    "### 1. Real word problem\n",
    "#### 1.1 Solving Earth's Climate Crisis with Python\n",
    "\n",
    "![alt text](images/Lession%202/2.1.1.png)\n",
    "![alt text](images/Lession%202/2.1.1.1.png)\n",
    "\n",
    "#### 1.2 Python's Significant Contribution to Black Hole Shadow Observation\n",
    "\n",
    "![alt text](images/Lession%202/2.1.2.png)\n",
    "![alt text](images/Lession%202/2.1.2.1.png)\n",
    "\n",
    "#### 1.3 Observing the Shadow of a Black Hole\n",
    "\n",
    "![alt text](images/Lession%202/2.1.3.png)\n",
    "![alt text](images/Lession%202/2.1.3.1.png)\n",
    "\n",
    "#### 1.4 Formulas for the Circumference and Area of a Circle\n",
    "\n",
    "![alt text](images/Lession%202/2.1.4.png)\n",
    "![alt text](images/Lession%202/2.1.4.1.png)\n",
    "\n",
    "### 2. Solution\n",
    "#### 2.1 Printing the Circumference and Area of a Circle\n",
    "\n",
    "* Create a variable for the radius of the circle.\n",
    "\n",
    "* Use operators to calculate the circumference and area of the circle.\n",
    "\n",
    "* Output the calculated circumference and area of the circle on the screen.\n",
    "\n",
    "### 3. Mission\n",
    "#### 3.1 Printing the Circumference and Area of a Circle Operation Process\n",
    "\n",
    "![alt text](images/Lession%202/2.3.1.png)\n",
    "\n",
    "#### 3.2 Programming plan\n",
    "\n",
    "![alt text](images/Lession%202/2.3.2.png)\n",
    "![alt text](images/Lession%202/2.3.2.1.png)\n"
   ]
  },
  {
   "cell_type": "markdown",
   "metadata": {},
   "source": [
    "# Key concept\n",
    "### 1.1 String and Number Data Type \n",
    "* Earlier, we printed a number and a string enclosed in quotation marks using the print statement.\n"
   ]
  },
  {
   "cell_type": "code",
   "execution_count": null,
   "metadata": {},
   "outputs": [
    {
     "name": "stdout",
     "output_type": "stream",
     "text": [
      "The radius of a circle 4.0\n"
     ]
    }
   ],
   "source": [
    "print(\"The radius of a circle\", 4.0)"
   ]
  },
  {
   "cell_type": "markdown",
   "metadata": {},
   "source": [
    "* Number data type consist of numbers, including integer(0,1,2,etc.), and floating-point number with decimal places(0.1,0.12,etc). they are referred to <FONT color =\"lightblue\">numeric types 'or' number data types</FONT>.\n",
    "\n",
    "* Numeric types cam perform calculations such as addition, subtraction,multiplication and division. \n",
    "\n",
    "* Word or sentences are in the form of a sequence of characters.\n",
    "\n",
    "* They must be enclosed in a single or double quotation mark to indicate to the computer where to start and end reading.\n",
    "\n",
    "* The data type enclosed in quotation marks is called a <FONT color =\"lightblue\">string data type</FONT>. and is commonly referred to as a <FONT color =\"lightblue\">string</FONT>.\n",
    "\n",
    "### 1.2 Number Data Types and Operators \n",
    "\n",
    "* It is common in programming to perform operations using numerical information and then utilize this data.\n",
    "> example : Information like a person's height and weight is represented by numerical values such as 177cm and 58kg.\n",
    "\n",
    "* In python, numerical data is represented using numbers.\n",
    "* Various mathematical operators are available for numerical data.\n",
    "> example : We can perform the addition operators between the numbers 100 and 20 using 100 + 20.\n",
    "\n",
    "* Let's learn the terminology for operations. The data value or variable that is the subject of the operation is called an operand.\n",
    "\n",
    "* The entity performing the operation is called an operator. Let's consider the example of the operation \"100 + 200\".\n",
    "\n",
    "![alt text](images/Lession%202/100%20+%20200.png)\n",
    "\n",
    "* The following table describes Python's operators and their functions.\n",
    "\n",
    "![alt text](images/Lession%202/Pyhon's%20operators.png)\n",
    "![alt text](images/Lession%202/Pyhon's%20operators%201.png)\n",
    "\n"
   ]
  },
  {
   "cell_type": "markdown",
   "metadata": {},
   "source": [
    "* You can perform operation on numerical data using numeric data types and operation such as  +, -, *, /, //, %, **.d"
   ]
  },
  {
   "cell_type": "code",
   "execution_count": null,
   "metadata": {},
   "outputs": [
    {
     "data": {
      "text/plain": [
       "300"
      ]
     },
     "metadata": {},
     "output_type": "display_data"
    }
   ],
   "source": [
    "# Example of 100 + 200 \n",
    "100 + 200 "
   ]
  },
  {
   "cell_type": "code",
   "execution_count": null,
   "metadata": {},
   "outputs": [
    {
     "data": {
      "text/plain": [
       "300"
      ]
     },
     "metadata": {},
     "output_type": "display_data"
    }
   ],
   "source": [
    "100 + 200 # add"
   ]
  },
  {
   "cell_type": "code",
   "execution_count": null,
   "metadata": {},
   "outputs": [
    {
     "data": {
      "text/plain": [
       "2000"
      ]
     },
     "metadata": {},
     "output_type": "display_data"
    }
   ],
   "source": [
    "100 * 20 # multip"
   ]
  },
  {
   "cell_type": "code",
   "execution_count": null,
   "metadata": {},
   "outputs": [
    {
     "data": {
      "text/plain": [
       "80"
      ]
     },
     "metadata": {},
     "output_type": "display_data"
    }
   ],
   "source": [
    "100 - 20 # sub"
   ]
  },
  {
   "cell_type": "code",
   "execution_count": null,
   "metadata": {},
   "outputs": [
    {
     "data": {
      "text/plain": [
       "5.0"
      ]
     },
     "metadata": {},
     "output_type": "display_data"
    }
   ],
   "source": [
    "100 / 20 # divide"
   ]
  },
  {
   "cell_type": "code",
   "execution_count": null,
   "metadata": {},
   "outputs": [
    {
     "data": {
      "text/plain": [
       "5"
      ]
     },
     "metadata": {},
     "output_type": "display_data"
    }
   ],
   "source": [
    "100 // 20 # Divide numerical value (integer division)"
   ]
  },
  {
   "cell_type": "code",
   "execution_count": null,
   "metadata": {},
   "outputs": [
    {
     "data": {
      "text/plain": [
       "0"
      ]
     },
     "metadata": {},
     "output_type": "display_data"
    }
   ],
   "source": [
    "100 % 20 # Modulus"
   ]
  },
  {
   "cell_type": "markdown",
   "metadata": {},
   "source": [
    "### 1.3 Order of Operator Execution \n",
    "\n",
    "* When addition and multiplication operators appear in the same statement, multiplication take precedence over addition."
   ]
  },
  {
   "cell_type": "code",
   "execution_count": null,
   "metadata": {},
   "outputs": [
    {
     "data": {
      "text/plain": [
       "610"
      ]
     },
     "metadata": {},
     "output_type": "display_data"
    }
   ],
   "source": [
    "10 + 20 * 30"
   ]
  },
  {
   "cell_type": "markdown",
   "metadata": {},
   "source": [
    "* if parentheses appear in a statement, <FONT color = 'yellow'>the operators inside the parentheses are executed firs </FONT>.\n",
    "\n",
    "* The oder of operator precedence affects the results of the calculation with in the statement."
   ]
  },
  {
   "cell_type": "code",
   "execution_count": null,
   "metadata": {},
   "outputs": [
    {
     "data": {
      "text/plain": [
       "900"
      ]
     },
     "metadata": {},
     "output_type": "display_data"
    }
   ],
   "source": [
    "(10 + 20) * 30"
   ]
  },
  {
   "cell_type": "markdown",
   "metadata": {},
   "source": [
    "### 1. 4 Distinguishing Data Type\n",
    "\n",
    "* Distinguishing between data types in crucial in Python.\n",
    "* Although characters and numbers can have the same form, they can have very different characteristics.\n",
    "> Example The number 10 can be used in arithmetic operations, but the string'10' cannot.\n",
    "\n",
    "* The behavior of operators differs based on the data types in python."
   ]
  },
  {
   "cell_type": "markdown",
   "metadata": {},
   "source": [
    "1.4 Formulas for the circumference and area of circle <br>\n",
    "    Circumference = 2 PI * radius <br>\n",
    "    Area = PI * radius^ 2 <br>\n"
   ]
  },
  {
   "cell_type": "code",
   "execution_count": null,
   "metadata": {},
   "outputs": [
    {
     "name": "stdout",
     "output_type": "stream",
     "text": [
      "The total of circum = 43.96\n",
      "The total of area: 153.86\n"
     ]
    }
   ],
   "source": [
    "PI = 3.14 \n",
    "radiust = float(input(\"Enter number of radiust\"))\n",
    "circum = 2*PI * radiust\n",
    "area = PI * radiust * radiust\n",
    "print(f\"The total of circum = {circum}\")\n",
    "print(f\"The total of area: {area}\")"
   ]
  },
  {
   "cell_type": "markdown",
   "metadata": {},
   "source": [
    "* The result of multiplication operation (*) between the number 100 and 2 is 200 "
   ]
  },
  {
   "cell_type": "code",
   "execution_count": null,
   "metadata": {},
   "outputs": [
    {
     "data": {
      "text/plain": [
       "200"
      ]
     },
     "metadata": {},
     "output_type": "display_data"
    }
   ],
   "source": [
    "100 * 2 "
   ]
  },
  {
   "cell_type": "markdown",
   "metadata": {},
   "source": [
    "* However, the result of the multiplication operation (*) between the string '100' and number 2 is '100100', and the result of the multiplication operation(*)between the string 'Hello' and the number 2 is 'HelloHello'"
   ]
  },
  {
   "cell_type": "code",
   "execution_count": null,
   "metadata": {},
   "outputs": [
    {
     "data": {
      "text/plain": [
       "'Hello Hello '"
      ]
     },
     "metadata": {},
     "output_type": "display_data"
    }
   ],
   "source": [
    "'Hello ' * 2"
   ]
  },
  {
   "cell_type": "code",
   "execution_count": null,
   "metadata": {},
   "outputs": [
    {
     "data": {
      "text/plain": [
       "'100100'"
      ]
     },
     "metadata": {},
     "output_type": "display_data"
    }
   ],
   "source": [
    "'100' * 2"
   ]
  },
  {
   "cell_type": "markdown",
   "metadata": {},
   "source": [
    "* The behavior of operators differs based on the data type in Python."
   ]
  },
  {
   "cell_type": "code",
   "execution_count": null,
   "metadata": {},
   "outputs": [
    {
     "ename": "",
     "evalue": "",
     "output_type": "error",
     "traceback": [
      "\u001b[1;31mRunning cells with 'c:\\Users\\Phem Dararaksmey\\AppData\\Local\\Microsoft\\WindowsApps\\python3.11.exe' requires the ipykernel package.\n",
      "\u001b[1;31mRun the following command to install 'ipykernel' into the Python environment. \n",
      "\u001b[1;31mCommand: '\"c:/Users/Phem Dararaksmey/AppData/Local/Microsoft/WindowsApps/python3.11.exe\" -m pip install ipykernel -U --user --force-reinstall'"
     ]
    }
   ],
   "source": [
    "100 + 2"
   ]
  },
  {
   "cell_type": "code",
   "execution_count": null,
   "metadata": {},
   "outputs": [
    {
     "ename": "",
     "evalue": "",
     "output_type": "error",
     "traceback": [
      "\u001b[1;31mRunning cells with 'c:\\Users\\Phem Dararaksmey\\AppData\\Local\\Microsoft\\WindowsApps\\python3.11.exe' requires the ipykernel package.\n",
      "\u001b[1;31mRun the following command to install 'ipykernel' into the Python environment. \n",
      "\u001b[1;31mCommand: '\"c:/Users/Phem Dararaksmey/AppData/Local/Microsoft/WindowsApps/python3.11.exe\" -m pip install ipykernel -U --user --force-reinstall'"
     ]
    }
   ],
   "source": [
    "'100' + '2'"
   ]
  },
  {
   "cell_type": "code",
   "execution_count": null,
   "metadata": {},
   "outputs": [
    {
     "ename": "",
     "evalue": "",
     "output_type": "error",
     "traceback": [
      "\u001b[1;31mRunning cells with 'c:\\Users\\Phem Dararaksmey\\AppData\\Local\\Microsoft\\WindowsApps\\python3.11.exe' requires the ipykernel package.\n",
      "\u001b[1;31mRun the following command to install 'ipykernel' into the Python environment. \n",
      "\u001b[1;31mCommand: '\"c:/Users/Phem Dararaksmey/AppData/Local/Microsoft/WindowsApps/python3.11.exe\" -m pip install ipykernel -U --user --force-reinstall'"
     ]
    }
   ],
   "source": [
    "'Hello ' + 'Hello!'"
   ]
  },
  {
   "cell_type": "markdown",
   "metadata": {},
   "source": [
    "Check Data type <br>\n",
    "using type function()"
   ]
  },
  {
   "cell_type": "code",
   "execution_count": null,
   "metadata": {},
   "outputs": [
    {
     "data": {
      "text/plain": [
       "int"
      ]
     },
     "metadata": {},
     "output_type": "display_data"
    }
   ],
   "source": [
    "type(100)"
   ]
  },
  {
   "cell_type": "code",
   "execution_count": null,
   "metadata": {},
   "outputs": [
    {
     "data": {
      "text/plain": [
       "float"
      ]
     },
     "metadata": {},
     "output_type": "display_data"
    }
   ],
   "source": [
    "type(10.0)"
   ]
  },
  {
   "cell_type": "code",
   "execution_count": null,
   "metadata": {},
   "outputs": [
    {
     "data": {
      "text/plain": [
       "str"
      ]
     },
     "metadata": {},
     "output_type": "display_data"
    }
   ],
   "source": [
    "type('string')"
   ]
  },
  {
   "cell_type": "markdown",
   "metadata": {},
   "source": [
    "## One step furter "
   ]
  },
  {
   "cell_type": "code",
   "execution_count": null,
   "metadata": {},
   "outputs": [
    {
     "data": {
      "text/plain": [
       "int"
      ]
     },
     "metadata": {},
     "output_type": "display_data"
    }
   ],
   "source": [
    "type(10)"
   ]
  },
  {
   "cell_type": "code",
   "execution_count": null,
   "metadata": {},
   "outputs": [
    {
     "name": "stdout",
     "output_type": "stream",
     "text": [
      "<class 'int'>\n"
     ]
    }
   ],
   "source": [
    "print(type(10))"
   ]
  },
  {
   "cell_type": "markdown",
   "metadata": {},
   "source": [
    "## 1.6 Data type Conversion"
   ]
  },
  {
   "cell_type": "code",
   "execution_count": null,
   "metadata": {},
   "outputs": [
    {
     "data": {
      "text/plain": [
       "5.0"
      ]
     },
     "metadata": {},
     "output_type": "display_data"
    }
   ],
   "source": [
    "int('10') / 2  #Convert string '10' into integer and divide by 2 "
   ]
  },
  {
   "cell_type": "code",
   "execution_count": null,
   "metadata": {},
   "outputs": [
    {
     "data": {
      "text/plain": [
       "'i like number 10'"
      ]
     },
     "metadata": {},
     "output_type": "display_data"
    }
   ],
   "source": [
    "\"i like number \" + str(10) # convert number 10 into string and using + operator "
   ]
  },
  {
   "cell_type": "markdown",
   "metadata": {},
   "source": [
    "### 2. Variable <br>\n",
    "2.1 what is a variable <br>\n",
    "variables are the key concept in programming. <br>\n",
    "variables are used to sotre value within a computer \n",
    "\n"
   ]
  },
  {
   "cell_type": "code",
   "execution_count": null,
   "metadata": {},
   "outputs": [
    {
     "name": "stdout",
     "output_type": "stream",
     "text": [
      "The radius of a circel 4.0\n",
      "the area of circle 50.24\n",
      "the area of circumference of circle 25.12\n"
     ]
    }
   ],
   "source": [
    "print(\"The radius of a circel\", 4.0)\n",
    "print(\"the area of circle\", 3.14 * 4.0 * 4.0)\n",
    "print(\"the area of circumference of circle\", 3.14 * 2 * 4.0)"
   ]
  },
  {
   "cell_type": "code",
   "execution_count": null,
   "metadata": {},
   "outputs": [
    {
     "name": "stdout",
     "output_type": "stream",
     "text": [
      "The radius of a circel 4.0\n",
      "the area of circle 50.24\n",
      "the area of circumference of circle 25.12\n"
     ]
    }
   ],
   "source": [
    "radius = 4.0\n",
    "print(\"The radius of a circel\", radius)\n",
    "print(\"the area of circle\", 3.14 * radius * radius)\n",
    "print(\"the area of circumference of circle\", 3.14 * 2 * radius)"
   ]
  },
  {
   "cell_type": "markdown",
   "metadata": {},
   "source": [
    "2.2 Defining variable "
   ]
  },
  {
   "cell_type": "code",
   "execution_count": null,
   "metadata": {},
   "outputs": [
    {
     "data": {
      "text/plain": [
       "78.7"
      ]
     },
     "metadata": {},
     "output_type": "display_data"
    }
   ],
   "source": [
    "weight = 78.7\n",
    "weight"
   ]
  },
  {
   "cell_type": "markdown",
   "metadata": {},
   "source": [
    "one setp futer "
   ]
  },
  {
   "cell_type": "code",
   "execution_count": null,
   "metadata": {},
   "outputs": [
    {
     "name": "stdout",
     "output_type": "stream",
     "text": [
      "<class 'int'>\n",
      "<class 'float'>\n",
      "<class 'str'>\n"
     ]
    }
   ],
   "source": [
    "num = 85 \n",
    "print(type(num))\n",
    "\n",
    "pi =3.14 \n",
    "print(type(pi))\n",
    "\n",
    "message =\"Good morning\"\n",
    "print(type(message))"
   ]
  },
  {
   "cell_type": "markdown",
   "metadata": {},
   "source": [
    "2.3 Naming Conventions <br>\n",
    "to check Python's keywords "
   ]
  },
  {
   "cell_type": "code",
   "execution_count": null,
   "metadata": {},
   "outputs": [
    {
     "name": "stdout",
     "output_type": "stream",
     "text": [
      "Python keyword list\n",
      "['False', 'None', 'True', 'and', 'as', 'assert', 'async', 'await', 'break', 'class', 'continue', 'def', 'del', 'elif', 'else', 'except', 'finally', 'for', 'from', 'global', 'if', 'import', 'in', 'is', 'lambda', 'nonlocal', 'not', 'or', 'pass', 'raise', 'return', 'try', 'while', 'with', 'yield']\n"
     ]
    }
   ],
   "source": [
    "import keyword\n",
    "print(\"Python keyword list\")\n",
    "print(keyword.kwlist)"
   ]
  },
  {
   "cell_type": "markdown",
   "metadata": {},
   "source": [
    "2.4 Multiple Assignment"
   ]
  },
  {
   "cell_type": "code",
   "execution_count": null,
   "metadata": {},
   "outputs": [
    {
     "name": "stdout",
     "output_type": "stream",
     "text": [
      "200 200 200\n"
     ]
    }
   ],
   "source": [
    "number1 = number2 = number3 = 200 \n",
    "print(number1,number2,number3)"
   ]
  },
  {
   "cell_type": "markdown",
   "metadata": {},
   "source": [
    "2.5 simultaneous Assignment "
   ]
  },
  {
   "cell_type": "code",
   "execution_count": null,
   "metadata": {},
   "outputs": [
    {
     "name": "stdout",
     "output_type": "stream",
     "text": [
      "300\n"
     ]
    }
   ],
   "source": [
    "x , y = 100, 200\n",
    "result = x + y\n",
    "print(result)"
   ]
  },
  {
   "cell_type": "markdown",
   "metadata": {},
   "source": [
    "use None keyword if the data type is not determined "
   ]
  },
  {
   "cell_type": "code",
   "execution_count": null,
   "metadata": {},
   "outputs": [
    {
     "data": {
      "text/plain": [
       "NoneType"
      ]
     },
     "metadata": {},
     "output_type": "display_data"
    }
   ],
   "source": [
    "a = None \n",
    "type(a)"
   ]
  },
  {
   "cell_type": "markdown",
   "metadata": {},
   "source": [
    "Shorthand Operators \n"
   ]
  },
  {
   "cell_type": "code",
   "execution_count": null,
   "metadata": {},
   "outputs": [
    {
     "name": "stdout",
     "output_type": "stream",
     "text": [
      "300\n"
     ]
    }
   ],
   "source": [
    "result = 100 \n",
    "result = result + 200\n",
    "print(result)"
   ]
  },
  {
   "cell_type": "code",
   "execution_count": null,
   "metadata": {},
   "outputs": [
    {
     "name": "stdout",
     "output_type": "stream",
     "text": [
      "300\n"
     ]
    }
   ],
   "source": [
    "result = 100\n",
    "result += 200\n",
    "print(result)"
   ]
  },
  {
   "cell_type": "markdown",
   "metadata": {},
   "source": [
    "3.2 Python's Swap "
   ]
  },
  {
   "cell_type": "code",
   "execution_count": null,
   "metadata": {},
   "outputs": [
    {
     "name": "stdout",
     "output_type": "stream",
     "text": [
      "before swap:  100 and 200\n",
      "Swap result using tuple : a = 200 b = 100\n"
     ]
    }
   ],
   "source": [
    "a = 100 \n",
    "b = 200 \n",
    "print('before swap: ',a ,'and',b)\n",
    "a , b = b,a \n",
    "print(\"Swap result using tuple : a =\", a , 'b =', b)"
   ]
  },
  {
   "cell_type": "markdown",
   "metadata": {},
   "source": [
    "4.1 Command single line and multiple line "
   ]
  },
  {
   "cell_type": "code",
   "execution_count": null,
   "metadata": {},
   "outputs": [
    {
     "name": "stdout",
     "output_type": "stream",
     "text": [
      "The radius of a circle : 4.0\n",
      "the area of a circle  50.24\n",
      "The circum of a circle : 25.12\n"
     ]
    }
   ],
   "source": [
    "# define variable name for radius of circle as ' radius'\n",
    "radius = 4.0\n",
    "#Output the radius of a circle \n",
    "print(\"The radius of a circle :\",radius)\n",
    "#Output the area of a circle \n",
    "#apply the formula for calculating the area of a circle \n",
    "print(\"the area of a circle \", 3.14 * radius * radius)\n",
    "#output the circum of a circle \n",
    "#apply the formula for calculating the area of a circle \n",
    "print('The circum of a circle :', 2 * 3.14 * radius)"
   ]
  },
  {
   "cell_type": "code",
   "execution_count": null,
   "metadata": {},
   "outputs": [],
   "source": [
    "a = 10 \n",
    "b = [1,2,3]\n"
   ]
  },
  {
   "cell_type": "code",
   "execution_count": null,
   "metadata": {},
   "outputs": [],
   "source": [
    "a = 10 \n",
    "b = [1 ,2 ,3 ]\n"
   ]
  },
  {
   "cell_type": "code",
   "execution_count": null,
   "metadata": {},
   "outputs": [
    {
     "name": "stdout",
     "output_type": "stream",
     "text": [
      "The radius of a circle : 4.0\n",
      "the area of a circle \\  50.24\n",
      "The circum of a circle : 25.12\n"
     ]
    }
   ],
   "source": [
    "# define variable name for radius of circle as ' radius'\n",
    "radius = 4.0\n",
    "#Output the radius of a circle \n",
    "print(\"The radius of a circle :\", radius)\n",
    "#Output the area of a circle \n",
    "#apply the formula for calculating the area of a circle \n",
    "print(\"the area of a circle \\ \", 3.14 * radius * radius)\n",
    "#output the circum of a circle \n",
    "#apply the formula for calculating the area of a circle \n",
    "print('The circum of a circle :', 2 * 3.14 * radius)"
   ]
  },
  {
   "cell_type": "markdown",
   "metadata": {},
   "source": [
    "### Coding papaer \n",
    "Q1 Use the int statment to add the string \"50\" and number 50 to output 100 <br>\n",
    "Use the str output the 5050"
   ]
  },
  {
   "cell_type": "code",
   "execution_count": null,
   "metadata": {},
   "outputs": [
    {
     "data": {
      "text/plain": [
       "100"
      ]
     },
     "metadata": {},
     "output_type": "display_data"
    }
   ],
   "source": [
    "int(\"50\") + 50 "
   ]
  },
  {
   "cell_type": "code",
   "execution_count": null,
   "metadata": {},
   "outputs": [
    {
     "data": {
      "text/plain": [
       "'5050'"
      ]
     },
     "metadata": {},
     "output_type": "display_data"
    }
   ],
   "source": [
    "\"50\" + str(50)"
   ]
  },
  {
   "cell_type": "markdown",
   "metadata": {},
   "source": [
    "Q2 You have one instance of the character'1' and three instances of the character '0'. Use these to create the number 1000"
   ]
  },
  {
   "cell_type": "code",
   "execution_count": null,
   "metadata": {},
   "outputs": [
    {
     "data": {
      "text/plain": [
       "'1000'"
      ]
     },
     "metadata": {},
     "output_type": "display_data"
    }
   ],
   "source": [
    "a = '1' + '0' +'0'+'0'\n",
    "a"
   ]
  },
  {
   "cell_type": "code",
   "execution_count": null,
   "metadata": {},
   "outputs": [
    {
     "data": {
      "text/plain": [
       "1000"
      ]
     },
     "metadata": {},
     "output_type": "display_data"
    }
   ],
   "source": [
    "int(a)"
   ]
  },
  {
   "cell_type": "markdown",
   "metadata": {},
   "source": [
    "### Misson\n",
    "print the circumference and area of a circle <br>\n",
    "<br>\n",
    "1 Create a variable with the radius of the circle <br>\n",
    "2 Use operators to calculate the circumrence and area of the circle <br>\n",
    "3 print the calcuate circumference and area of the circle on the screen <br>"
   ]
  },
  {
   "cell_type": "code",
   "execution_count": null,
   "metadata": {},
   "outputs": [
    {
     "name": "stdout",
     "output_type": "stream",
     "text": [
      "The area of the circle : 50.24\n",
      "The circum of circle : 25.12\n"
     ]
    }
   ],
   "source": [
    "# Setp one \n",
    "# Create a variable with the radius of the circle \n",
    "radius = 4\n",
    "# Create a variable PI \n",
    "PI = 3.14\n",
    "# Setp two\n",
    "#Calculate the area of a circle (foumal : area = PI * radius^2)\n",
    "area = PI * radius * radius\n",
    "#calculate the circumference of a circle (foumal : circumferenc = 2 * PI * radius)\n",
    "circumferenc = 2 * PI * radius\n",
    "# setp Three\n",
    "#print these output \n",
    "print(\"The area of the circle :\", area )\n",
    "print(\"The circum of circle :\", circumferenc)\n",
    "\n"
   ]
  },
  {
   "cell_type": "markdown",
   "metadata": {},
   "source": [
    "### Let code\n",
    "#### Q1 \n",
    "The factorial of n, denoted as n! is defined as n * (n-1) * (n-2) *...* 2 * 1.<br>\n",
    "Using integers and the * opeartor, caulate 5! and 10! and output them as follows <br>"
   ]
  },
  {
   "cell_type": "code",
   "execution_count": null,
   "metadata": {},
   "outputs": [
    {
     "name": "stdout",
     "output_type": "stream",
     "text": [
      "5! = 120\n",
      "10! = 3628800\n"
     ]
    }
   ],
   "source": [
    "# Calculate the factorial of 5!\n",
    "\n",
    "factorial_of_five = 5 * 4 * 3 * 2 * 1\n",
    "print(f\"5! = {factorial_of_five}\")\n",
    "\n",
    "# Calculate the factorial of 10!\n",
    "factorial_of_ten = 10 * 9 * 8 * 7 * 6 * 5 * 4 * 3 * 2 *1 \n",
    "print(f\"10! = {factorial_of_ten}\")"
   ]
  },
  {
   "cell_type": "code",
   "execution_count": null,
   "metadata": {},
   "outputs": [],
   "source": [
    "#Exam 2\n",
    "a = 30 \n",
    "a %= 4 \n",
    "a **=2 \n",
    "a //=3 "
   ]
  },
  {
   "cell_type": "code",
   "execution_count": null,
   "metadata": {},
   "outputs": [
    {
     "name": "stdout",
     "output_type": "stream",
     "text": [
      "1\n"
     ]
    }
   ],
   "source": [
    "print(a)"
   ]
  },
  {
   "cell_type": "code",
   "execution_count": null,
   "metadata": {},
   "outputs": [
    {
     "name": "stdout",
     "output_type": "stream",
     "text": [
      "64\n"
     ]
    }
   ],
   "source": [
    "a = 2\n",
    "b = 2\n",
    "c = (a ** 2 + b ** 2)\n",
    "result = c ** 2 \n",
    "print(result)"
   ]
  }
 ],
 "metadata": {
  "kernelspec": {
   "display_name": "Python 3",
   "language": "python",
   "name": "python3"
  },
  "language_info": {
   "name": "python",
   "version": "3.11.8"
  }
 },
 "nbformat": 4,
 "nbformat_minor": 2
}
