{
 "cells": [
  {
   "cell_type": "markdown",
   "metadata": {},
   "source": [
    "![alt text](images/Lession%201/Above%20and%20beyond%20logo.png)\n",
    "# 1 Sequential Programming Plan \n",
    " Leaning object\n",
    "* 1 Learners can write a programming plan that executes sequentially\n",
    "* 2 Learners can install the necessary software for Python coding on their own in a situatin where the pactice enviroment is not set up \n",
    "* 3 Learners can write code using the print statement to ouput text \n",
    "* 4 Leaners can infer coding sequence based on the ouput results\n",
    "\n",
    "### Key word \n",
    "![alt text](images/Lession%201/Keywords.png)\n",
    "\n"
   ]
  },
  {
   "cell_type": "markdown",
   "metadata": {},
   "source": [
    "## <FONT COLOR=\"blue\"> Mission </FONT>\n",
    "\n",
    "### <FONT COLOR=\"blue\">1. Real world problem </FONT>\n"
   ]
  },
  {
   "cell_type": "markdown",
   "metadata": {},
   "source": [
    "\n",
    "#### **1.1.  47% of jobs will disappear in the next 20 years due to tech innovations**\n",
    "\n",
    "<table style=\"width:100%\">\n",
    "  <tr>\n",
    "    <td><img style=\"float: left;\"<img src=\"./images/Lession%201/Revolutions.png\" width= \"1000px\" /></div></td>\n",
    "    <td><ul>\n",
    "  <li>With the rapid development of computer technology and artificial intelligence, the demand and required skills in the job market are changing</li>\n",
    "  <li>According to a study by Stanford University,it is predicted that around 47% of jobs will be replaced or disappear within the next 20 year due to automation and AI </li>\n",
    "  <li>As a result, future jobs will increasingly rely one human qualities such as creativity, responsibility, and the ability to learn through experience.</li>\n",
    "  <li>The Organization for Economic Cooperation and Development(OECD) announced for competencies required for future talents</li>\n",
    "</ul></td>\n",
    "  </tr>\n",
    "</table>\n",
    "\n",
    "\n"
   ]
  },
  {
   "cell_type": "markdown",
   "metadata": {},
   "source": [
    "#### **1.2. The 5Cs of 21st Century Skills**\n",
    "![alt text](images/Lession%201/5Cs.png)"
   ]
  },
  {
   "cell_type": "markdown",
   "metadata": {},
   "source": [
    "#### **1.3. Thinking like a Computer**\n",
    "[![YT_TED](images/Lession%201/YT_TED.png)](https://youtu.be/1mLQFm3wEfw)"
   ]
  },
  {
   "cell_type": "markdown",
   "metadata": {},
   "source": [
    "#### **1.4. How should we prepare for computational thinking?**\n",
    "\n",
    "<table style=\"width:100%\">\n",
    "  <tr>\n",
    "    <td><img style=\"float: center;\"<img src=\"./images/Lession%201/Computer thinking.png\" width= \"500px\" /></div></td>\n",
    "    <td> <b>Computation thinking</b>\n",
    "        <li>Computational thinking refers to <FONT COLOR=\"ADD8E6\">thinking like a computer scientist and problem-sloving</FONT></li>\n",
    "        <li>It encompasses concepts such as algorithms,patterns,abstraction,generalization,evaluation and automation</li>\n",
    "    </td>\n",
    "  </tr>\n",
    "  <tr>\n",
    "    <td><img style=\"float: center;\"<img src=\"./images/Lession%201/Computer thinking 2.png\" width= \"500px\" /></div></td>\n",
    "    <td> \n",
    "        <li>Coding is an effective tool for training and practicing computational thinking</li>\n",
    "        <li>Many countries wordwide have chosed programming as an alternative tool for educating future talents(both through formal and informal eduction)</li>\n",
    "        <li>While coding is not the only means to develop computational thinking, it is an excellen option available to us</li>\n",
    "    </td>\n",
    "  </tr>\n",
    "</table>"
   ]
  },
  {
   "cell_type": "markdown",
   "metadata": {},
   "source": [
    "### <FONT COLOR=\"blue\">2. Solution </FONT>\n",
    "#### **2.1. Process of identifying problem and finding solutions**\n",
    "[![YT_TED](images/Lession%201/2.1.%20Process%20of%20identifying%20problem%20and%20finding%20solution.png)](https://youtu.be/crjU5hu2fag?si=D2Sm3B_07TMB38Bb)"
   ]
  },
  {
   "cell_type": "markdown",
   "metadata": {},
   "source": [
    "### Key concept \n",
    "#### 1.1 Sequential Structure \n",
    "![alt text](images/Lession%201/Sequential%20Structure.png)\n",
    "![alt text](images/Lession%201/SequenceExplain%201.png)\n",
    "![alt text](images/Lession%201/SequenceExplain%202.png)\n",
    "\n",
    "* Similarly, if the order of commands changes, the result will be different and it will be difficult to achieve the desired outcome.\n",
    "\n",
    "#### 1.2 Pseudocode\n",
    "![alt text](images/Lession%201/psedocode.png)\n",
    "![alt text](images/Lession%201/Pseudocode%202.png)\n",
    "![alt text](images/Lession%201/Pseudocode%20Exampe.png)\n",
    "\n",
    "#### 1.3 Flowchart\n",
    "\n",
    "![alt text](images/Lession%201/Flow%20chart.png)\n",
    "![alt text](images/Lession%201/Flow%20chart%20symbol.png)\n",
    "\n",
    "#### 1.4 Three Structures Represented by Flowcharts for Program Execution\n",
    "![alt text](images/Lession%201/Structre%20flow%20chart.png)\n",
    "![alt text](images/Lession%201/Strucutre%20flow%20chart%201.png)\n",
    "\n",
    "#### 1.5 Expression, statement, Programs\n",
    "![alt text](images/Lession%201/Expression,%20statement,Programs.png)\n"
   ]
  },
  {
   "cell_type": "markdown",
   "metadata": {},
   "source": [
    "### 2. Setting up the Practical Enviroment \n",
    "#### 2.1 Installing Anaconda\n",
    "* We will set up the development enviroment using Anaconda for doding.\n",
    "![alt text](images/Lession%201/Ananconda%20homepage.png)\n",
    "![alt text](images/Lession%201/AnacondaInstall.png)\n",
    "![alt text](images/Lession%201/AnacondaInstall2.png)\n",
    "* after downloading the Anaconda installation file , run it and follow the step below to install the program.\n",
    "\n",
    "![alt text](images/Lession%201/AnacondaInstall3.png)\n",
    "\n",
    "* When installing Anaconda, the computer's username must be in English. Otherwise, the program will not be installed.\n",
    "\n",
    "#### 2.2 Creating Virtual Environments\n",
    "\n",
    "* When programming with Python, you often use <FONT color = 'yellow'>external packages</FONT>.\n",
    "\n",
    "* When managing multiple projects that use external package or strating a new project,<br>\n",
    "you may need to use the <FONT color ='yellow'>latest version of Python or different types/versions of packages</FONT>.\n",
    "\n",
    "* In such cases, it become very difficult to <FONT color = 'yellow' >manage modules and versions,</FONT><br>\n",
    "and problem can occur if they are not compatible between <FONT color = 'yellow'>version.</FONT>\n",
    "\n",
    "* For this reason, we will learn how to create virtual environments.\n",
    "* A python <FONT color = 'yellow'>virtual environments</FONT> provides an independent space where you can manage modules and versions for each project. it allow you to build various virtual environments on a single server/computer.\n",
    "\n",
    "![alt text](images/Lession%201/Create%20virual%20enviroments.png)\n",
    "\n",
    "* To create a Python virtual environments, run <FONT color = 'yellow'>Terminal on macOS or Anaconda Prompt on Windows</FONT>.\n",
    "\n",
    "* In the Terminal or Anaconda Prompt window , enter the command \"conda create - n python_work python = 3.8 \" to create a virtual enviroment compatible with Python 3.8 'python_work' is the name of the virtual workspace and can be defined with a different name.\n",
    "\n",
    "![alt text](images/Lession%201/CreateEnv.png)\n",
    "\n",
    "* When the prompt display \"Proceed([y]/n)?\", enter 'y' to continue the process. \n",
    "\n",
    "![alt text](images/Lession%201/Proceed%20create%20Virtual%20Environments.png)\n",
    "\n",
    "* Let's try entering the command \"conda create -n data_science python = 3.7\" in the Terminal or Anaconda Prompt. This will create a new virtual workspace named'data_science'compatible with Python 3.7.\n",
    "\n",
    "![alt text](images/Lession%201/CreateEnv37.png)\n",
    "\n",
    "#### 2.3 Anaconda Commands for Managing Virtual Environments \n",
    "\n",
    "* You can preform various operations related to virtual environments by entering the following virtual environment commands in <FONT color ='yellow'>Terminal or Anaconda Prompt.</FONT>\n",
    "\n",
    "![alt text](images/Lession%201/Managing%20Virtual%20Environments.png)\n",
    "\n",
    "* Run \"conda env list\" command in <FONT color = 'yellow' >Terminal or Anaconda Prompt </FONT> to see the list of virtual environments in Python.<br>\n",
    "\n",
    "* The default value is 'base', and you should select the virtual environment you want to install. Previous virtual environments such as 'data_science' and 'python_work' should be listed.\n",
    "\n",
    "![alt text](images/Lession%201/EnvList.png)\n",
    "\n",
    "* Use the command \"conda activate data_science\" to switch to a new working environment The prompt will change from 'base' to 'data_science' to indicate the changed working environment.\n",
    "\n",
    "![alt text](images/Lession%201/Actiave%20env.png)\n",
    "\n",
    "#### 2.4 Installing Jupyter Notebook \n",
    "\n",
    "![alt text](images/Lession%201/Anaconda%20Open.png)\n",
    "\n",
    "* When Anaconda Navigator is launched as shown below, the Home screen wil appear.\n",
    "\n",
    "![alt text](images/Lession%201/Anaconda%20lunched.png)\n",
    "\n",
    "* You can select the virtual environment on the top right of the screen. The default is 'base'<br>\n",
    "<FONT color ='yellow'>It is recommended to select the virtual environment you want to install.</FONT>\n",
    "\n",
    "![alt text](images/Lession%201/base(root).png)\n",
    "\n",
    "* Click on the 'install' button of Jupyter Notebook as shown below and complete the installation.\n",
    "\n",
    "![alt text](images/Lession%201/JupyterInstall.png)\n",
    "\n",
    "#### 2.5 Running Jupyter Notebook\n",
    "\n",
    "![alt text](images/Lession%201/Runing%20jupyter%20notebook.png)\n",
    "\n",
    "![alt text](images/Lession%201/Running%20Juypter%20nootbook%201.png)\n",
    "\n",
    "![alt text](images/Lession%201/Running%20Jupyter%20Notebook%202.png)\n",
    "\n",
    "![alt text](images/Lession%201/Running%20Juypter%20nootbook%203.png)\n",
    "\n",
    "\n",
    "#### 2.6 Jupyter NoteBook UI overview\n",
    "\n",
    "* When you run Jupyter Notebook, you will see the following screen.\n",
    "![alt text](images/Lession%201/Jupyter%20note%20UI.png)\n",
    "\n",
    "* Clicking the 'New' button in the upper right corner will display a dropdown menu.\n",
    "\n",
    "![alt text](images/Lession%201/new%20button.png)\n",
    "\n",
    "* You can click on 'Folder' to create a new folder.\n",
    "\n",
    "![alt text](images/Lession%201/Folder.png)\n",
    "\n",
    "* Then you can rename the folder, move it to a different location , or delete it as shown below.\n",
    "\n",
    "![alt text](images/Lession%201/move%20folder.png)\n",
    "\n",
    "![alt text](images/Lession%201/Rename%20dirctory.png)\n",
    "\n",
    "![alt text](images/Lession%201/Python%203.7.png)\n",
    "![alt text](images/Lession%201/new%20python%20file.png)\n",
    "![alt text](images/Lession%201/File%20python.png)\n",
    "\n",
    "![alt text](images/Lession%201/Code%20in%20jupyter'.png)\n",
    "![alt text](images/Lession%201/Code%20in%20jupyter%202.png)\n",
    "\n",
    "### 3. Writing Output statement in Jupyter Notebook\n",
    "#### 3.1 Basic Usage of the print Statement\n",
    "\n",
    "* Let's write a code to print \"Hello World!\" in Jupyter Notebook.\n",
    "\n",
    "* The print()statement <FONT color ='yellow'>is used to display the value inside the parentheses.</FONT>\n",
    "\n",
    "![alt text](images/Lession%201/print.png)\n",
    "\n",
    "**<FONT color = 'lightblue'>TIP</FONT>**\n",
    "Unlike other language, Python automatically adds a line break after printing a string with a single print statement.\n",
    "\n",
    "#### 3.2 Printing Strings and Values\n",
    "* To print a string using the print statement, enclose the string in quotation marks.\n"
   ]
  },
  {
   "cell_type": "code",
   "execution_count": null,
   "metadata": {},
   "outputs": [],
   "source": [
    "print(\"Hello world\")\n",
    "print(\"Hello world\")"
   ]
  },
  {
   "cell_type": "markdown",
   "metadata": {},
   "source": [
    "* To print a numeric value,simply enter the number without quotation marks."
   ]
  },
  {
   "cell_type": "code",
   "execution_count": null,
   "metadata": {},
   "outputs": [],
   "source": [
    "print(10)\n",
    "print(7.5)"
   ]
  },
  {
   "cell_type": "markdown",
   "metadata": {},
   "source": [
    "* You can use a comma(,) with in the print statement to print multiple values at once."
   ]
  },
  {
   "cell_type": "code",
   "execution_count": null,
   "metadata": {},
   "outputs": [],
   "source": [
    "print(\"The radius of a circle\",4.0)"
   ]
  },
  {
   "cell_type": "markdown",
   "metadata": {},
   "source": [
    "#### 3.3 Creating a Self-Introduction \n",
    "\n",
    "* Let's create a self-introduction using the print statement."
   ]
  },
  {
   "cell_type": "code",
   "execution_count": null,
   "metadata": {},
   "outputs": [],
   "source": [
    "print(\"Hello! I will introduce myself.\")\n",
    "print('Name : Phem Dararaksmey')\n",
    "print('Age : 22 year old')\n",
    "print('Job : Student at Above and beyond school')\n",
    "print('Address : Sensok , Phnom Penh')\n",
    "print('Place of Birth : Kampong Chhang')"
   ]
  },
  {
   "cell_type": "markdown",
   "metadata": {},
   "source": [
    "* You can decorate the self-introduction by repeating asterisks (*) or hyphens(-)."
   ]
  },
  {
   "cell_type": "code",
   "execution_count": null,
   "metadata": {},
   "outputs": [],
   "source": [
    "print(\"************************\")\n",
    "print(\"------------------------\")"
   ]
  },
  {
   "cell_type": "markdown",
   "metadata": {},
   "source": [
    "### 4.Basic Terminology for Learning \n",
    "* When encountering new terms during the learning process, it's important to make a note of them and verify their exact definitions.\n",
    "\n",
    "* It's a good idea to refer to tutorials provided by the official Python documentation.\n",
    "\n",
    "![alt text](images/Lession%201/PythonDoc.png)\n",
    "![alt text](images/Lession%201/One%20more%20step%20python.png)"
   ]
  },
  {
   "cell_type": "markdown",
   "metadata": {},
   "source": [
    "### Paper Code"
   ]
  },
  {
   "cell_type": "markdown",
   "metadata": {},
   "source": [
    "![alt text](images/Lession%201/Paper%20Code%20Q1.png)"
   ]
  },
  {
   "cell_type": "code",
   "execution_count": null,
   "metadata": {},
   "outputs": [],
   "source": [
    "#Q1"
   ]
  },
  {
   "cell_type": "markdown",
   "metadata": {},
   "source": [
    "![alt text](images/Lession%201/Paper%20Code%20Q2.png)"
   ]
  },
  {
   "cell_type": "code",
   "execution_count": null,
   "metadata": {},
   "outputs": [],
   "source": [
    "#Q2"
   ]
  },
  {
   "cell_type": "markdown",
   "metadata": {},
   "source": [
    "![alt text](images/Lession%201/Paper%20Q3.png)"
   ]
  },
  {
   "cell_type": "code",
   "execution_count": null,
   "metadata": {},
   "outputs": [],
   "source": [
    "#Q3"
   ]
  },
  {
   "cell_type": "markdown",
   "metadata": {},
   "source": [
    "![alt text](images/Lession%201/Paper%20Q4%201.png)\n",
    "![alt text](images/Lession%201/Paper%20Q4%202.png)\n",
    "![alt text](images/Lession%201/Paper%20Q4%203.png)"
   ]
  },
  {
   "cell_type": "code",
   "execution_count": null,
   "metadata": {},
   "outputs": [],
   "source": [
    "#Q4"
   ]
  },
  {
   "cell_type": "markdown",
   "metadata": {},
   "source": [
    "### Pair programming\n",
    "![alt text](images/Lession%201/Pair%20Programm%20Q1.png)"
   ]
  },
  {
   "cell_type": "code",
   "execution_count": null,
   "metadata": {},
   "outputs": [],
   "source": [
    "#Pair Q1"
   ]
  },
  {
   "cell_type": "markdown",
   "metadata": {},
   "source": [
    "![alt text](images/Lession%201/Pair%20Programm%20Q2.png)"
   ]
  },
  {
   "cell_type": "code",
   "execution_count": null,
   "metadata": {},
   "outputs": [],
   "source": [
    "#Q2"
   ]
  },
  {
   "cell_type": "markdown",
   "metadata": {},
   "source": [
    "### Python test 1\n",
    "\n",
    "__Test 1__\n",
    "\n",
    "![alt text](images/Lession%201/Python%20Test%201.png)\n",
    "\n",
    "The correct answer is = <FONT color ='green'>print</FONT>"
   ]
  },
  {
   "cell_type": "code",
   "execution_count": null,
   "metadata": {},
   "outputs": [],
   "source": [
    "print(\"Hello!\")"
   ]
  },
  {
   "cell_type": "markdown",
   "metadata": {},
   "source": [
    "__Test 2__ <br>\n",
    "\n",
    "![alt text](images/Lession%201/Python%20Test%202.png)\n",
    "\n",
    "* Test 3 <br>\n",
    "\n",
    "![alt text](images/Lession%201/Python%20Test%203.png)\n",
    "\n",
    "* Test 4 <br>\n",
    "\n",
    "![alt text](images/Lession%201/Python%20Test%204.png)\n",
    "\n",
    "* Test 5 <br>\n",
    "![alt text](images/Lession%201/Python%20Test%205.png)"
   ]
  },
  {
   "cell_type": "markdown",
   "metadata": {},
   "source": [
    "# End of section 1 Sequential Programming Plan \n",
    "date 2/2/2024 Time : 8 AM to 5 PM"
   ]
  }
 ],
 "metadata": {
  "kernelspec": {
   "display_name": "Python 3",
   "language": "python",
   "name": "python3"
  },
  "language_info": {
   "name": "python",
   "version": "3.11.8"
  }
 },
 "nbformat": 4,
 "nbformat_minor": 2
}
