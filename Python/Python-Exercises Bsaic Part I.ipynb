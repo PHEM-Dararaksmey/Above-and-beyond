{
 "cells": [
  {
   "cell_type": "markdown",
   "metadata": {},
   "source": [
    "# 10\n",
    "Write a Python program that accepts an integer (n) and computes the value of n+nn+nnn."
   ]
  },
  {
   "cell_type": "code",
   "execution_count": 4,
   "metadata": {},
   "outputs": [
    {
     "name": "stdout",
     "output_type": "stream",
     "text": [
      "Sample value of n is  5\n",
      "Expceted Result :  615\n"
     ]
    }
   ],
   "source": [
    "n = input(\"Enter an number of n : \")\n",
    "n1 = n + n\n",
    "n2 = n + n + n\n",
    "n = int(n)\n",
    "n1 = int(n1)\n",
    "n2 = int(n2)\n",
    "sum = n + n1 + n2\n",
    "print(\"Sample value of n is \", n)\n",
    "print(\"Expceted Result : \",sum)"
   ]
  },
  {
   "cell_type": "markdown",
   "metadata": {},
   "source": [
    "# 11 \n",
    "Write a Python program to print the documents (syntax, description etc.) of Python built-in function(s)."
   ]
  },
  {
   "cell_type": "code",
   "execution_count": 5,
   "metadata": {},
   "outputs": [
    {
     "name": "stdout",
     "output_type": "stream",
     "text": [
      "Return the absolute value of the argument.\n"
     ]
    }
   ],
   "source": [
    "print(abs.__doc__)"
   ]
  },
  {
   "cell_type": "markdown",
   "metadata": {},
   "source": [
    "# 12 \n",
    "Write a Python program that prints the calendar for a given month and year.\n",
    "Note : Use 'calendar' module."
   ]
  },
  {
   "cell_type": "code",
   "execution_count": 7,
   "metadata": {},
   "outputs": [
    {
     "name": "stdout",
     "output_type": "stream",
     "text": [
      "     March 2024\n",
      "Mo Tu We Th Fr Sa Su\n",
      "             1  2  3\n",
      " 4  5  6  7  8  9 10\n",
      "11 12 13 14 15 16 17\n",
      "18 19 20 21 22 23 24\n",
      "25 26 27 28 29 30 31\n",
      "\n"
     ]
    }
   ],
   "source": [
    "import calendar \n",
    "\n",
    "year = int(input(\"Enter the year : \"))\n",
    "month = int(input(\"Enter the month : \"))\n",
    "\n",
    "print(calendar.month(year,month))\n"
   ]
  },
  {
   "cell_type": "markdown",
   "metadata": {},
   "source": [
    "# 13\n",
    "Write a Python program to print the following 'here document'.\n",
    "<br>Sample string :\n",
    "<br> a string that you \"don't\" have to escape\n",
    "<br>This\n",
    "<br>is a ....... multi-line\n",
    "<br>heredoc string --------> example"
   ]
  },
  {
   "cell_type": "code",
   "execution_count": 9,
   "metadata": {},
   "outputs": [
    {
     "name": "stdout",
     "output_type": "stream",
     "text": [
      "\n",
      "     a strng that you \"don't\" have to eascape \n",
      "     This \n",
      "     is a ....... multi-line\n",
      "     heredoc string ----> example\n",
      "      \n"
     ]
    }
   ],
   "source": [
    "print(\"\"\"\n",
    "     a strng that you \"don't\" have to eascape \n",
    "     This \n",
    "     is a ....... multi-line\n",
    "     heredoc string ----> example\n",
    "      \"\"\")"
   ]
  },
  {
   "cell_type": "markdown",
   "metadata": {},
   "source": [
    "# 14 \n",
    "Write a Python program to calculate the number of days between tow dates.\n",
    "<br>Sample dates : (2014, 7, 2), (2014, 7, 11)\n",
    "<br>Expected output : 9 days"
   ]
  },
  {
   "cell_type": "code",
   "execution_count": 17,
   "metadata": {},
   "outputs": [
    {
     "name": "stdout",
     "output_type": "stream",
     "text": [
      "Sample dates :  2014-07-02  2014-07-11\n",
      "Expected output :  9 days\n"
     ]
    }
   ],
   "source": [
    "from datetime import date\n",
    "\n",
    "first_date = date(2014, 7, 2)\n",
    "last_date = date(2014, 7, 11)\n",
    "calculate_date = last_date - first_date\n",
    "\n",
    "print(\"Sample dates : \", first_date ,'',last_date)\n",
    "print(\"Expected output : \",  calculate_date.days, \"days\")"
   ]
  },
  {
   "cell_type": "markdown",
   "metadata": {},
   "source": [
    "# 15\n",
    " Write a Python program to get the volume of a sphere with radius six."
   ]
  },
  {
   "cell_type": "code",
   "execution_count": 20,
   "metadata": {},
   "outputs": [
    {
     "name": "stdout",
     "output_type": "stream",
     "text": [
      "The volume of a sphere :  904.3199999999999\n"
     ]
    }
   ],
   "source": [
    "radius = 6 \n",
    "PI = 3.14\n",
    "volume_of_sphere = 4/3 * PI * (radius ** 3)\n",
    "print(\"The volume of a sphere : \",volume_of_sphere)"
   ]
  },
  {
   "cell_type": "markdown",
   "metadata": {},
   "source": [
    "# 16 \n",
    "Write a Python program to calculate the difference between a given number and 17. If the number is greater than 17, return twice the absolute difference."
   ]
  },
  {
   "cell_type": "code",
   "execution_count": 35,
   "metadata": {},
   "outputs": [
    {
     "name": "stdout",
     "output_type": "stream",
     "text": [
      "3\n"
     ]
    }
   ],
   "source": [
    "n = int(input(\"number of n \"))\n",
    "\n",
    "if n < 17:\n",
    "    sum = 17 - n\n",
    "else:\n",
    "    sum = (n - 17) * 2\n",
    "    \n",
    "print(sum)\n"
   ]
  },
  {
   "cell_type": "markdown",
   "metadata": {},
   "source": [
    "# 17\n",
    "Write a Python program to test whether a number is within 100 of 1000 or 2000."
   ]
  },
  {
   "cell_type": "code",
   "execution_count": 49,
   "metadata": {},
   "outputs": [
    {
     "name": "stdout",
     "output_type": "stream",
     "text": [
      "False\n"
     ]
    }
   ],
   "source": [
    "def near_thousand(test_number):\n",
    "    return ((abs(1000 - test_number) <= 100) or (abs(2000 - test_number)<= 100))\n",
    "\n",
    "test_number = int(input(\"Enter the test number \"))\n",
    "\n",
    "print(near_thousand(test_number))"
   ]
  },
  {
   "cell_type": "markdown",
   "metadata": {},
   "source": [
    "# 18 \n",
    "Write a Python program to calculate the sum of three given numbers. If the values are equal, return three times their sum."
   ]
  },
  {
   "cell_type": "code",
   "execution_count": 3,
   "metadata": {},
   "outputs": [
    {
     "name": "stdout",
     "output_type": "stream",
     "text": [
      "The total of three sum integer =  18\n"
     ]
    }
   ],
   "source": [
    "integer_one,integer_two,integer_three = input(\"Enter three integer number : \").split()\n",
    "integer_one = int(integer_one)\n",
    "integer_two = int(integer_two)\n",
    "integer_three = int(integer_three)\n",
    "if (integer_one == integer_two == integer_three):\n",
    "    sum_of_three_integer = (integer_one + integer_two + integer_three) * 3\n",
    "else:\n",
    "    sum_of_three_integer = integer_one + integer_two + integer_three\n",
    "    \n",
    "print(\"The total of three sum integer = \", sum_of_three_integer)\n",
    "\n"
   ]
  },
  {
   "cell_type": "markdown",
   "metadata": {},
   "source": [
    "# 19 \n",
    "Write a Python program to get a newly-generated string from a given string where \"Is\" has been added to the front. Return the string unchanged if the given string already begins with \"Is\"."
   ]
  },
  {
   "cell_type": "code",
   "execution_count": 4,
   "metadata": {},
   "outputs": [
    {
     "name": "stdout",
     "output_type": "stream",
     "text": [
      "IsArray\n",
      "IsEmpty\n"
     ]
    }
   ],
   "source": [
    "def new_string(text):\n",
    "    if len(text) >= 2 and text[:2] == \"Is\":\n",
    "        return text\n",
    "    else:\n",
    "        return \"Is\" + text\n",
    "print(new_string(\"Array\"))\n",
    "print(new_string(\"IsEmpty\"))"
   ]
  },
  {
   "cell_type": "markdown",
   "metadata": {},
   "source": [
    "# 20\n",
    "Write a Python program that returns a string that is n (non-negative integer) copies of a given string"
   ]
  },
  {
   "cell_type": "code",
   "execution_count": 5,
   "metadata": {},
   "outputs": [
    {
     "name": "stdout",
     "output_type": "stream",
     "text": [
      " abcabc\n"
     ]
    }
   ],
   "source": [
    "def larger_string(text , n):\n",
    "    result = \" \"    \n",
    "    for i in range(n):\n",
    "        result = result + text\n",
    "    return result\n",
    "\n",
    "print(larger_string(\"abc\",2))\n"
   ]
  },
  {
   "cell_type": "markdown",
   "metadata": {},
   "source": [
    "# 21 \n",
    "Write a Python program that determines whether a given number (accepted from the user) is even or odd, and prints an appropriate message to the user."
   ]
  },
  {
   "cell_type": "code",
   "execution_count": 7,
   "metadata": {},
   "outputs": [
    {
     "name": "stdout",
     "output_type": "stream",
     "text": [
      "The user enter number is even :  20\n"
     ]
    }
   ],
   "source": [
    "user_number = int(input(\"Enter the number : \"))\n",
    "if user_number % 2 == 0 :\n",
    "    print(\"The user enter number is even : \",user_number)\n",
    "else:\n",
    "    print(\"The user enter number is odd : \",user_number)\n",
    "    "
   ]
  },
  {
   "cell_type": "markdown",
   "metadata": {},
   "source": [
    "# 22 \n",
    "Write a Python program to count the number 4 in a given list."
   ]
  },
  {
   "cell_type": "code",
   "execution_count": 12,
   "metadata": {},
   "outputs": [
    {
     "name": "stdout",
     "output_type": "stream",
     "text": [
      "3\n"
     ]
    }
   ],
   "source": [
    "list_array = [1,4,5,7,4,4]\n",
    "count = 0\n",
    "for i in list_array:\n",
    "    if i == 4:\n",
    "        count += 1 \n",
    "\n",
    "print(count)"
   ]
  },
  {
   "cell_type": "markdown",
   "metadata": {},
   "source": [
    "# 23\n",
    "Write a Python program to get n (non-negative integer) copies of the first 2 characters of a given string. Return n copies of the whole string if the length is less than 2."
   ]
  },
  {
   "cell_type": "code",
   "execution_count": 14,
   "metadata": {},
   "outputs": [
    {
     "name": "stdout",
     "output_type": "stream",
     "text": [
      " abab\n"
     ]
    }
   ],
   "source": [
    "def substring_copy(text,n):\n",
    "    flen = 2 \n",
    "    if flen > len(text):\n",
    "        flen = len(text)\n",
    "    substr = text[:flen]\n",
    "    resutl = \" \"\n",
    "    for i in range (n):\n",
    "        resutl = resutl + substr\n",
    "    return resutl\n",
    "\n",
    "print(substring_copy('abcd',2))"
   ]
  },
  {
   "cell_type": "markdown",
   "metadata": {},
   "source": [
    "# 24 \n",
    "Write a Python program to test whether a passed letter is a vowel or not.\n"
   ]
  },
  {
   "cell_type": "code",
   "execution_count": 19,
   "metadata": {},
   "outputs": [
    {
     "name": "stdout",
     "output_type": "stream",
     "text": [
      "It's apla bet\n"
     ]
    }
   ],
   "source": [
    "character = input(\"Enter a signle character = \")\n",
    "all_vowles = 'aeios'\n",
    "#if character == 'a' or character == 'e' or character == 'i'or character == 'o'or character == 'u':\n",
    "    #print(\"It's is a vowel \")\n",
    "#else:\n",
    "    #print(\"It's a alpha bet\")\n",
    "if character in all_vowles:\n",
    "    print(\"It's a vowles\")\n",
    "else:\n",
    "    print(\"It's aplabet\")"
   ]
  },
  {
   "cell_type": "markdown",
   "metadata": {},
   "source": [
    "# 25 \n",
    "Write a Python Program that checks whether a specified values in contained within a group of values.\n",
    "<br>Test Data :\n",
    "<br>3 -> [1, 5, 8, 3] : True\n",
    "<br>-1 -> [1, 5, 8, 3] : False"
   ]
  },
  {
   "cell_type": "code",
   "execution_count": 24,
   "metadata": {},
   "outputs": [
    {
     "name": "stdout",
     "output_type": "stream",
     "text": [
      "True\n",
      "False\n"
     ]
    }
   ],
   "source": [
    "def is_group_member(group_data, n):\n",
    "    for value in group_data:\n",
    "        if n == value:\n",
    "            return True\n",
    "    return False\n",
    "\n",
    "print(is_group_member([1,5,8,3], 3))\n",
    "print(is_group_member([1,5,8,3], -1))"
   ]
  },
  {
   "cell_type": "markdown",
   "metadata": {},
   "source": [
    "# 26 \n",
    "Write a Python program to create a histogram from a given list of integers."
   ]
  },
  {
   "cell_type": "code",
   "execution_count": 1,
   "metadata": {},
   "outputs": [
    {
     "name": "stdout",
     "output_type": "stream",
     "text": [
      "**\n",
      "***\n",
      "******\n",
      "*****\n"
     ]
    }
   ],
   "source": [
    "\n",
    "# Define a function called histogram that takes a list of items as a parameter.\n",
    "def histogram(items):\n",
    "    # Iterate through the items in the list.\n",
    "    for n in items:\n",
    "        output = ''  # Initialize an empty string called output.\n",
    "        times = n     # Set the times variable to the value of n.\n",
    "        \n",
    "        # Use a while loop to append '*' to the output string 'times' number of times.\n",
    "        while times > 0:\n",
    "            output += '*'\n",
    "            times = times - 1  # Decrement the times variable.\n",
    "        \n",
    "        # Print the resulting output string.\n",
    "        print(output)\n",
    "\n",
    "# Call the histogram function with a list of numbers and print the histogram.\n",
    "histogram([2, 3, 6, 5])\n"
   ]
  },
  {
   "cell_type": "markdown",
   "metadata": {},
   "source": [
    "# 27\n",
    "Concatenate all elements in a list into a string"
   ]
  },
  {
   "cell_type": "code",
   "execution_count": 2,
   "metadata": {},
   "outputs": [
    {
     "name": "stdout",
     "output_type": "stream",
     "text": [
      "15122\n"
     ]
    }
   ],
   "source": [
    "def concatenate_list_data(lst):\n",
    "    result = ''\n",
    "    for element in lst:\n",
    "        result += str(element)\n",
    "    return result\n",
    "\n",
    "print(concatenate_list_data([1,5,12,2]))"
   ]
  },
  {
   "cell_type": "markdown",
   "metadata": {},
   "source": [
    "# 28\n",
    "Write a Python program to print all even numbers from a given list of numbers in the same order and stop printing any after 237 in the sequence.\n",
    "Sample numbers list :\n",
    "\n",
    "numbers = [<br>    \n",
    "    386, 462, 47, 418, 907, 344, 236, 375, 823, 566, 597, 978, 328, 615, 953, 345, \n",
    "    399, 162, 758, 219, 918, 237, 412, 566, 826, 248, 866, 950, 626, 949, 687, 217, \n",
    "    815, 67, 104, 58, 512, 24, 892, 894, 767, 553, 81, 379, 843, 831, 445, 742, 717, \n",
    "    958,743, 527\n",
    "    <br>]"
   ]
  },
  {
   "cell_type": "code",
   "execution_count": 8,
   "metadata": {},
   "outputs": [
    {
     "name": "stdout",
     "output_type": "stream",
     "text": [
      "386\n",
      "462\n",
      "418\n",
      "344\n",
      "236\n",
      "566\n",
      "978\n",
      "328\n",
      "162\n",
      "758\n",
      "918\n",
      "237\n",
      "None\n"
     ]
    }
   ],
   "source": [
    "def print_all_element(lst):\n",
    "    for element in lst:\n",
    "        if element == 237:\n",
    "            print(element)\n",
    "            break\n",
    "        elif element % 2 == 0:\n",
    "            print(element)\n",
    "            \n",
    "list_1 = [386, 462, 47, 418, 907, 344, 236, 375, 823, 566, 597, 978, 328, 615, 953, 345, \n",
    "    399, 162, 758, 219, 918, 237, 412, 566, 826, 248, 866, 950, 626, 949, 687, 217, \n",
    "    815, 67, 104, 58, 512, 24, 892, 894, 767, 553, 81, 379, 843, 831, 445, 742, 717, \n",
    "    958,743, 527]\n",
    "print(print_all_element(list_1))"
   ]
  },
  {
   "cell_type": "markdown",
   "metadata": {},
   "source": [
    "# 29\n",
    "Write a Python program that prints out all colors from color_list_1 that are not present in color_list_2.\n",
    "<br>Test Data :\n",
    "<br>color_list_1 = set([\"White\", \"Black\", \"Red\"])\n",
    "<br>color_list_2 = set([\"Red\", \"Green\"])\n",
    "<br>Expected Output :\n",
    "<br>{'Black', 'White'}"
   ]
  },
  {
   "cell_type": "code",
   "execution_count": 11,
   "metadata": {},
   "outputs": [
    {
     "name": "stdout",
     "output_type": "stream",
     "text": [
      "{'Black', 'White'}\n",
      "{'Green'}\n"
     ]
    }
   ],
   "source": [
    "color_list_1 = set(['White','Black','Red'])\n",
    "color_list_2 = set(['Red','Green'])\n",
    "\n",
    "print(color_list_1.difference(color_list_2))\n",
    "print(color_list_2.difference(color_list_1))"
   ]
  },
  {
   "cell_type": "markdown",
   "metadata": {},
   "source": [
    "# 30 \n",
    "Write a Python program that will accept the base and height of a triangle and compute its area."
   ]
  },
  {
   "cell_type": "code",
   "execution_count": 13,
   "metadata": {},
   "outputs": [
    {
     "name": "stdout",
     "output_type": "stream",
     "text": [
      "Input the base : 20\n",
      "Input the height : 40\n",
      "The are of the height is :  400.0\n"
     ]
    }
   ],
   "source": [
    "base = int(input(\"enter the base of triangle : \"))\n",
    "height = int(input(\"enter the height of triangle : \"))\n",
    "\n",
    "area_of_triangle = 1/2 * base * height\n",
    "print(\"Input the base :\",base)\n",
    "print(\"Input the height :\", height)\n",
    "print(\"The are of the height is : \",area_of_triangle)"
   ]
  },
  {
   "cell_type": "markdown",
   "metadata": {},
   "source": [
    "# 31\n",
    "Write a Python program that computes the greatest common divisor (GCD) of two positive integers."
   ]
  },
  {
   "cell_type": "code",
   "execution_count": 14,
   "metadata": {},
   "outputs": [
    {
     "name": "stdout",
     "output_type": "stream",
     "text": [
      "GCD of 12 & 17 =  1\n"
     ]
    }
   ],
   "source": [
    "def greatest_common_divisor(x , y):\n",
    "    gcd = 1 \n",
    "    if x % y == 0:\n",
    "        return y\n",
    "    for i in range(int(y / 2 ),0 ,-1):\n",
    "        if x % i == 0 and y % i == 0 :\n",
    "            gcd = i \n",
    "            break\n",
    "    return gcd\n",
    "\n",
    "print(\"GCD of 12 & 17 = \", greatest_common_divisor(12, 17))"
   ]
  },
  {
   "cell_type": "markdown",
   "metadata": {},
   "source": [
    "# 32 \n",
    "Write a Python program to find the least common multiple (LCM) of two positive integers"
   ]
  },
  {
   "cell_type": "code",
   "execution_count": 16,
   "metadata": {},
   "outputs": [
    {
     "name": "stdout",
     "output_type": "stream",
     "text": [
      "12\n"
     ]
    }
   ],
   "source": [
    "def least_common_multiple(x,y):\n",
    "    if x > y :\n",
    "        z = x \n",
    "    else:\n",
    "        z = y\n",
    "    \n",
    "    while True:\n",
    "        if (z % x == 0) and (z % y == 0):\n",
    "            lcm = z \n",
    "            break\n",
    "        z +=1 \n",
    "    return lcm\n",
    "\n",
    "print(least_common_multiple(4, 6)) "
   ]
  },
  {
   "cell_type": "markdown",
   "metadata": {},
   "source": [
    "# 33 \n",
    "Write a Python program to sum three given integers. However, if two values are equal, the sum will be zero."
   ]
  },
  {
   "cell_type": "code",
   "execution_count": 22,
   "metadata": {},
   "outputs": [
    {
     "name": "stdout",
     "output_type": "stream",
     "text": [
      "6\n"
     ]
    }
   ],
   "source": [
    "integer_one,integer_two,integer_three = input(\"Enter three integer number : \").split()\n",
    "integer_one = int(integer_one)\n",
    "integer_two = int(integer_two)\n",
    "integer_three = int(integer_three)\n",
    "\n",
    "if integer_one == integer_two or integer_two == integer_three or integer_one == integer_three:\n",
    "    sum = 0\n",
    "else:\n",
    "    sum = integer_one + integer_two + integer_three\n",
    "    \n",
    "print(sum)"
   ]
  },
  {
   "cell_type": "markdown",
   "metadata": {},
   "source": [
    "# Class "
   ]
  },
  {
   "cell_type": "markdown",
   "metadata": {},
   "source": [
    "## 1\n",
    "Write a  Python program to import a built-in array module and display the namespace of the said module."
   ]
  },
  {
   "cell_type": "code",
   "execution_count": 23,
   "metadata": {},
   "outputs": [
    {
     "name": "stdout",
     "output_type": "stream",
     "text": [
      "__name__\n",
      "__doc__\n",
      "__package__\n",
      "__loader__\n",
      "__spec__\n",
      "_array_reconstructor\n",
      "__file__\n",
      "ArrayType\n",
      "array\n",
      "typecodes\n"
     ]
    }
   ],
   "source": [
    "import array \n",
    "for name in array.__dict__:\n",
    "    print(name)"
   ]
  },
  {
   "cell_type": "markdown",
   "metadata": {},
   "source": [
    "## 2 \n",
    "Write a Python program to create a class and display the namespace of that class.\n"
   ]
  },
  {
   "cell_type": "code",
   "execution_count": 24,
   "metadata": {},
   "outputs": [
    {
     "name": "stdout",
     "output_type": "stream",
     "text": [
      "__module__\n",
      "sub_sets\n",
      "subsetsRecur\n",
      "__dict__\n",
      "__weakref__\n",
      "__doc__\n"
     ]
    }
   ],
   "source": [
    "class py_solution:  \n",
    "    def sub_sets(self, sset):\n",
    "        return self.subsetsRecur([], sorted(sset))\n",
    "    def subsetsRecur(self, current, sset):\n",
    "        if sset :\n",
    "            return self.subsetsRecur(current, sset[1:]) + self.subsetsRecur(current +[sset[0]], sset[1:])\n",
    "        return [current]\n",
    "\n",
    "for name in py_solution.__dict__:\n",
    "    print(name)"
   ]
  },
  {
   "cell_type": "markdown",
   "metadata": {},
   "source": [
    "Code war easy mode\n",
    "\n",
    "Make multiple functions that will return the sum, difference, modulus, product, quotient, and the exponent respectively.\n",
    "\n",
    "Please use the following function names:\n",
    "\n",
    "addition = add\n",
    "\n",
    "multiply = multiply\n",
    "\n",
    "division = divide (both integer and float divisions are accepted)\n",
    "\n",
    "modulus = mod\n",
    "\n",
    "exponential = exponent\n",
    "\n",
    "subtraction = subt\n",
    "\n",
    "Note: All math operations will be: a (operation) b\n",
    "\n"
   ]
  },
  {
   "cell_type": "code",
   "execution_count": 26,
   "metadata": {},
   "outputs": [
    {
     "name": "stdout",
     "output_type": "stream",
     "text": [
      "6\n",
      "18\n",
      "5.6\n",
      "0\n",
      "81\n",
      "6\n"
     ]
    }
   ],
   "source": [
    "def add (a, b):\n",
    "    return a + b \n",
    "def multiply(a, b):\n",
    "    return a * b\n",
    "def divide(a, b):\n",
    "    return a / b\n",
    "def mod(a, b):\n",
    "    return a % b\n",
    "def exponent(a,b):\n",
    "    return a ** b\n",
    "def subt(a,b):\n",
    "    return a - b \n",
    "\n",
    "print(add(2, 4))\n",
    "print(multiply( 2, 9))\n",
    "print(divide(11.2, 2.0))\n",
    "print(mod(9, 3))\n",
    "print(exponent(9, 2))\n",
    "print(subt(9 , 3))"
   ]
  },
  {
   "cell_type": "markdown",
   "metadata": {},
   "source": [
    "Create a function that takes an integer as an argument and returns \"Even\" for even numbers or \"Odd\" for odd numbers."
   ]
  },
  {
   "cell_type": "code",
   "execution_count": 34,
   "metadata": {},
   "outputs": [
    {
     "name": "stdout",
     "output_type": "stream",
     "text": [
      "Even\n",
      "Odd\n"
     ]
    }
   ],
   "source": [
    "def even_or_oadd(number):\n",
    "    return 'Odd' if number % 2 else \"Even\"\n",
    "    \n",
    "print(even_or_oadd(4))\n",
    "print(even_or_oadd(3))"
   ]
  },
  {
   "cell_type": "markdown",
   "metadata": {},
   "source": [
    "Python is now supported on Codewars!\n",
    "\n",
    "For those of us who are not very familiar with Python, let's handle the very basic challenge of creating a class named Python. We want to give our Pythons a name, so it should take a name argument that we can retrieve later.\n",
    "\n",
    "For example:\n",
    "\n",
    "bubba = Python('Bubba')\n",
    "bubba.name # should return 'Bubba'\n",
    "\n"
   ]
  },
  {
   "cell_type": "code",
   "execution_count": 35,
   "metadata": {},
   "outputs": [
    {
     "data": {
      "text/plain": [
       "'Bubba'"
      ]
     },
     "execution_count": 35,
     "metadata": {},
     "output_type": "execute_result"
    }
   ],
   "source": [
    "class Python:\n",
    "    def __init__(self,name):\n",
    "        self.name = name\n",
    "\n",
    "\n",
    "bubba = Python(\"Bubba\")\n",
    "bubba.name"
   ]
  },
  {
   "cell_type": "markdown",
   "metadata": {},
   "source": [
    "Teach snoopy and scooby doo how to bark using object methods. Currently only snoopy can bark and not scooby doo.\n"
   ]
  },
  {
   "cell_type": "code",
   "execution_count": null,
   "metadata": {},
   "outputs": [],
   "source": [
    "class "
   ]
  }
 ],
 "metadata": {
  "kernelspec": {
   "display_name": "python_work",
   "language": "python",
   "name": "python3"
  },
  "language_info": {
   "codemirror_mode": {
    "name": "ipython",
    "version": 3
   },
   "file_extension": ".py",
   "mimetype": "text/x-python",
   "name": "python",
   "nbconvert_exporter": "python",
   "pygments_lexer": "ipython3",
   "version": "3.8.18"
  }
 },
 "nbformat": 4,
 "nbformat_minor": 2
}
