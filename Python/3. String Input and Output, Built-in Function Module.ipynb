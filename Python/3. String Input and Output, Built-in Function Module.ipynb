{
 "cells": [
  {
   "cell_type": "markdown",
   "metadata": {},
   "source": [
    "### Lession 3 String Input and Output, Built-in Function Module\n",
    "time start : 8 AM <br>\n",
    "<br>\n",
    "keyword of this lesson : String data type , string indexing ,string methods,Escape sequence, String formatting , String splitting ,input statment, build in function , build in modules"
   ]
  },
  {
   "cell_type": "markdown",
   "metadata": {},
   "source": [
    "#### .Real world problem <br>\n",
    "1.1 Overweight and social issues <br>\n",
    "<br>\n",
    "2.1 BMI Calculator \n"
   ]
  },
  {
   "cell_type": "code",
   "execution_count": null,
   "metadata": {},
   "outputs": [
    {
     "name": "stdout",
     "output_type": "stream",
     "text": [
      "THE BMI Calculate Process \n",
      "Your information\n",
      "Name :Phem Dararaksmey\n",
      "Weight:60\n",
      "hight in cm:165\n",
      "high_m:16500\n",
      "Your BMI result is = 2.2038567493112948e-07\n"
     ]
    }
   ],
   "source": [
    "print(\"THE BMI Calculate Process \")\n",
    "#Receive the name\n",
    "name = input(\"Enter your name:\")\n",
    "#Receive the weight \n",
    "weight = int(input(\"Enter your weight :\"))\n",
    "# Receive the hight \n",
    "hight_cm = int(input(\"Enter your hight in cm :\"))\n",
    "# convert the hight \n",
    "hight_m = (hight_cm * 100)\n",
    "#Calculate the BMI (formula : BMI = kg/m2)\n",
    "BMI_result = (weight / (hight_m ** 2))\n",
    "#print out the BMI result\n",
    "print(\"Your information\")\n",
    "print(f\"Name :{name}\")\n",
    "print(f\"Weight:{weight}\")\n",
    "print(f\"hight in cm:{hight_cm}\")\n",
    "print(f\"high_m:{hight_m}\")\n",
    "print(f\"Your BMI result is = {BMI_result}\")\n",
    "\n"
   ]
  },
  {
   "cell_type": "markdown",
   "metadata": {},
   "source": [
    "##### 1 string "
   ]
  },
  {
   "cell_type": "code",
   "execution_count": null,
   "metadata": {},
   "outputs": [
    {
     "name": "stdout",
     "output_type": "stream",
     "text": [
      "Hello world\n",
      "Hello world\n"
     ]
    }
   ],
   "source": [
    "print(\"Hello world\")\n",
    "print('Hello world')"
   ]
  },
  {
   "cell_type": "markdown",
   "metadata": {},
   "source": [
    "##### 1.2 String and variable "
   ]
  },
  {
   "cell_type": "code",
   "execution_count": null,
   "metadata": {},
   "outputs": [
    {
     "name": "stdout",
     "output_type": "stream",
     "text": [
      "Hello world\n"
     ]
    }
   ],
   "source": [
    "String1 = 'Hello world'\n",
    "print(String1)"
   ]
  },
  {
   "cell_type": "markdown",
   "metadata": {},
   "source": [
    "##### 1.3 Concatenation Operator and Repetition Operator "
   ]
  },
  {
   "cell_type": "code",
   "execution_count": null,
   "metadata": {},
   "outputs": [
    {
     "name": "stdout",
     "output_type": "stream",
     "text": [
      "HelloWorld\n"
     ]
    }
   ],
   "source": [
    "String1 = \"Hello\" \n",
    "String2 = \"World\"\n",
    "String_combine = String1 + String2\n",
    "print(String_combine)"
   ]
  },
  {
   "cell_type": "code",
   "execution_count": null,
   "metadata": {},
   "outputs": [
    {
     "data": {
      "text/plain": [
       "'PythonPythonPythonPythonPythonPythonPythonPythonPythonPython'"
      ]
     },
     "metadata": {},
     "output_type": "display_data"
    }
   ],
   "source": [
    "'Python' * 10 "
   ]
  },
  {
   "cell_type": "code",
   "execution_count": null,
   "metadata": {},
   "outputs": [
    {
     "data": {
      "text/plain": [
       "'**************************************************'"
      ]
     },
     "metadata": {},
     "output_type": "display_data"
    }
   ],
   "source": [
    "'*' * 50 "
   ]
  },
  {
   "cell_type": "code",
   "execution_count": null,
   "metadata": {},
   "outputs": [
    {
     "data": {
      "text/plain": [
       "'100100100100100100100100100100'"
      ]
     },
     "metadata": {},
     "output_type": "display_data"
    }
   ],
   "source": [
    "str(100) * 10"
   ]
  },
  {
   "cell_type": "code",
   "execution_count": null,
   "metadata": {},
   "outputs": [
    {
     "ename": "TypeError",
     "evalue": "can't multiply sequence by non-int of type 'float'",
     "output_type": "error",
     "traceback": [
      "\u001b[0;31m---------------------------------------------------------------------------\u001b[0m\n",
      "\u001b[0;31mTypeError\u001b[0m                                 Traceback (most recent call last)\n",
      "Cell \u001b[0;32mIn[25], line 1\u001b[0m\n",
      "\u001b[0;32m----> 1\u001b[0m \u001b[38;5;124;43m'\u001b[39;49m\u001b[38;5;124;43m*\u001b[39;49m\u001b[38;5;124;43m'\u001b[39;49m\u001b[43m \u001b[49m\u001b[38;5;241;43m*\u001b[39;49m\u001b[43m \u001b[49m\u001b[38;5;241;43m3.1\u001b[39;49m\n",
      "\n",
      "\u001b[0;31mTypeError\u001b[0m: can't multiply sequence by non-int of type 'float'"
     ]
    }
   ],
   "source": [
    "'*' * 3.1"
   ]
  },
  {
   "cell_type": "code",
   "execution_count": null,
   "metadata": {},
   "outputs": [
    {
     "ename": "TypeError",
     "evalue": "can only concatenate str (not \"int\") to str",
     "output_type": "error",
     "traceback": [
      "\u001b[0;31m---------------------------------------------------------------------------\u001b[0m\n",
      "\u001b[0;31mTypeError\u001b[0m                                 Traceback (most recent call last)\n",
      "Cell \u001b[0;32mIn[26], line 1\u001b[0m\n",
      "\u001b[0;32m----> 1\u001b[0m \u001b[38;5;124;43m'\u001b[39;49m\u001b[38;5;124;43mA\u001b[39;49m\u001b[38;5;124;43m'\u001b[39;49m\u001b[43m \u001b[49m\u001b[38;5;241;43m+\u001b[39;49m\u001b[43m \u001b[49m\u001b[38;5;241;43m1\u001b[39;49m\n",
      "\n",
      "\u001b[0;31mTypeError\u001b[0m: can only concatenate str (not \"int\") to str"
     ]
    }
   ],
   "source": [
    "'A' + 1"
   ]
  },
  {
   "cell_type": "code",
   "execution_count": null,
   "metadata": {},
   "outputs": [
    {
     "data": {
      "text/plain": [
       "'A1'"
      ]
     },
     "metadata": {},
     "output_type": "display_data"
    }
   ],
   "source": [
    "'A' + str(1)"
   ]
  },
  {
   "cell_type": "markdown",
   "metadata": {},
   "source": [
    "##### 1.4 String indexing"
   ]
  },
  {
   "cell_type": "code",
   "execution_count": null,
   "metadata": {},
   "outputs": [
    {
     "name": "stdout",
     "output_type": "stream",
     "text": [
      "<class 'str'>\n"
     ]
    }
   ],
   "source": [
    "print(type(\"This is a string \"))"
   ]
  },
  {
   "cell_type": "code",
   "execution_count": null,
   "metadata": {},
   "outputs": [
    {
     "data": {
      "text/plain": [
       "'H'"
      ]
     },
     "metadata": {},
     "output_type": "display_data"
    }
   ],
   "source": [
    "\"Hello\"[0]"
   ]
  },
  {
   "cell_type": "code",
   "execution_count": null,
   "metadata": {},
   "outputs": [
    {
     "data": {
      "text/plain": [
       "'l'"
      ]
     },
     "metadata": {},
     "output_type": "display_data"
    }
   ],
   "source": [
    "\"Hello\"[2]"
   ]
  },
  {
   "cell_type": "code",
   "execution_count": null,
   "metadata": {},
   "outputs": [
    {
     "data": {
      "text/plain": [
       "'o'"
      ]
     },
     "metadata": {},
     "output_type": "display_data"
    }
   ],
   "source": [
    "\"Hello\"[-1]"
   ]
  },
  {
   "cell_type": "code",
   "execution_count": null,
   "metadata": {},
   "outputs": [
    {
     "data": {
      "text/plain": [
       "'H'"
      ]
     },
     "metadata": {},
     "output_type": "display_data"
    }
   ],
   "source": [
    "\"Hello\"[-5]"
   ]
  },
  {
   "cell_type": "code",
   "execution_count": null,
   "metadata": {},
   "outputs": [
    {
     "ename": "IndexError",
     "evalue": "string index out of range",
     "output_type": "error",
     "traceback": [
      "\u001b[0;31m---------------------------------------------------------------------------\u001b[0m\n",
      "\u001b[0;31mIndexError\u001b[0m                                Traceback (most recent call last)\n",
      "Cell \u001b[0;32mIn[34], line 1\u001b[0m\n",
      "\u001b[0;32m----> 1\u001b[0m \u001b[38;5;124;43m\"\u001b[39;49m\u001b[38;5;124;43mHello\u001b[39;49m\u001b[38;5;124;43m\"\u001b[39;49m\u001b[43m[\u001b[49m\u001b[38;5;241;43m5\u001b[39;49m\u001b[43m]\u001b[49m\n",
      "\n",
      "\u001b[0;31mIndexError\u001b[0m: string index out of range"
     ]
    }
   ],
   "source": [
    "\"Hello\"[5]"
   ]
  },
  {
   "cell_type": "markdown",
   "metadata": {},
   "source": [
    "##### 1.5 Muliting String "
   ]
  },
  {
   "cell_type": "code",
   "execution_count": null,
   "metadata": {},
   "outputs": [
    {
     "name": "stdout",
     "output_type": "stream",
     "text": [
      "The first line \n",
      "the secon line \n"
     ]
    }
   ],
   "source": [
    "text = '''The first line \n",
    "the secon line '''\n",
    "print(text)"
   ]
  },
  {
   "cell_type": "code",
   "execution_count": null,
   "metadata": {},
   "outputs": [
    {
     "name": "stdout",
     "output_type": "stream",
     "text": [
      "the first line\n",
      "the second line \n"
     ]
    }
   ],
   "source": [
    "text=\"\"\"the first line\n",
    "the second line \"\"\"\n",
    "print(text)"
   ]
  },
  {
   "cell_type": "markdown",
   "metadata": {},
   "source": [
    "##### 1.6 Wrring Quotes within String \n"
   ]
  },
  {
   "cell_type": "code",
   "execution_count": null,
   "metadata": {},
   "outputs": [
    {
     "name": "stdout",
     "output_type": "stream",
     "text": [
      "\"double quotation marks\"\n"
     ]
    }
   ],
   "source": [
    "text = '\"double quotation marks\"'\n",
    "print(text)"
   ]
  },
  {
   "cell_type": "code",
   "execution_count": null,
   "metadata": {},
   "outputs": [
    {
     "name": "stdout",
     "output_type": "stream",
     "text": [
      "'double quotation marks'\n"
     ]
    }
   ],
   "source": [
    "text = \"'double quotation marks'\"\n",
    "print(text)"
   ]
  },
  {
   "cell_type": "code",
   "execution_count": null,
   "metadata": {},
   "outputs": [
    {
     "name": "stdout",
     "output_type": "stream",
     "text": [
      "\"double quotation marks\"\n"
     ]
    }
   ],
   "source": [
    "text = \"\\\"double quotation marks\\\"\"\n",
    "print(text)"
   ]
  },
  {
   "cell_type": "code",
   "execution_count": null,
   "metadata": {},
   "outputs": [
    {
     "name": "stdout",
     "output_type": "stream",
     "text": [
      "'double quotation marks'\n"
     ]
    }
   ],
   "source": [
    "text = '\\'double quotation marks\\''\n",
    "print(text)"
   ]
  },
  {
   "cell_type": "markdown",
   "metadata": {},
   "source": [
    "##### 1.7 Escape sequence <br>\n",
    "<br>\n",
    "\\n : Newline character<br>\n",
    "<br>\n",
    "\\' : Single quoe<br>\n",
    "<br>\n",
    "\\\" : double quoe<br>\n",
    "<br>\n",
    "\\t : tab character<br>"
   ]
  },
  {
   "cell_type": "code",
   "execution_count": null,
   "metadata": {},
   "outputs": [
    {
     "name": "stdout",
     "output_type": "stream",
     "text": [
      "Write a \ttab in the midel of text \n"
     ]
    }
   ],
   "source": [
    "text = 'Write a \\ttab in the midel of text '\n",
    "print(text)"
   ]
  },
  {
   "cell_type": "markdown",
   "metadata": {},
   "source": [
    "##### 1.8 String formatting<br>\n",
    "<br>\n",
    "string formating is a way to insert variables , value , and expression into a string \n",
    "<br>"
   ]
  },
  {
   "cell_type": "code",
   "execution_count": null,
   "metadata": {},
   "outputs": [
    {
     "name": "stdout",
     "output_type": "stream",
     "text": [
      "first value 1 and second value2\n"
     ]
    }
   ],
   "source": [
    "Value1 = 1\n",
    "Value2 = '2'\n",
    "String_formating = ('first value {} and second value{}').format(Value1,Value2)\n",
    "print(String_formating)"
   ]
  },
  {
   "cell_type": "code",
   "execution_count": null,
   "metadata": {},
   "outputs": [
    {
     "data": {
      "text/plain": [
       "'HelloPython'"
      ]
     },
     "metadata": {},
     "output_type": "display_data"
    }
   ],
   "source": [
    "'Hello{}'.format('Python')"
   ]
  },
  {
   "cell_type": "code",
   "execution_count": null,
   "metadata": {},
   "outputs": [
    {
     "data": {
      "text/plain": [
       "'first value 1 and second value 2'"
      ]
     },
     "metadata": {},
     "output_type": "display_data"
    }
   ],
   "source": [
    "'first value {} and second value {}'.format(1,2)\n"
   ]
  },
  {
   "cell_type": "code",
   "execution_count": null,
   "metadata": {},
   "outputs": [
    {
     "data": {
      "text/plain": [
       "'1+2 = 3'"
      ]
     },
     "metadata": {},
     "output_type": "display_data"
    }
   ],
   "source": [
    "'{}+{} = {}'.format(1,2,1+2)"
   ]
  },
  {
   "cell_type": "markdown",
   "metadata": {},
   "source": [
    "{} we can call it placeholder <br>\n",
    "<br>\n",
    "inside the placeholder u need to specify the order of integer value <br>\n",
    "<br>\n",
    "if no order is specified, it defaults to 0,1, etc.\n",
    "\n"
   ]
  },
  {
   "cell_type": "code",
   "execution_count": null,
   "metadata": {},
   "outputs": [
    {
     "data": {
      "text/plain": [
       "'I like Python and Java'"
      ]
     },
     "metadata": {},
     "output_type": "display_data"
    }
   ],
   "source": [
    "'I like {} and {}'.format('Python','Java')\n"
   ]
  },
  {
   "cell_type": "code",
   "execution_count": null,
   "metadata": {},
   "outputs": [
    {
     "data": {
      "text/plain": [
       "'I like Python and Java'"
      ]
     },
     "metadata": {},
     "output_type": "display_data"
    }
   ],
   "source": [
    "'I like {0} and {1}'.format('Python','Java')\n"
   ]
  },
  {
   "cell_type": "code",
   "execution_count": null,
   "metadata": {},
   "outputs": [
    {
     "data": {
      "text/plain": [
       "'I like Java and Python'"
      ]
     },
     "metadata": {},
     "output_type": "display_data"
    }
   ],
   "source": [
    "'I like {1} and {0}'.format('Python','Java')\n"
   ]
  },
  {
   "cell_type": "markdown",
   "metadata": {},
   "source": [
    "note: if uinsg {:} in the placeholder it's spacing between character "
   ]
  },
  {
   "cell_type": "code",
   "execution_count": null,
   "metadata": {},
   "outputs": [
    {
     "data": {
      "text/plain": [
       "'       123'"
      ]
     },
     "metadata": {},
     "output_type": "display_data"
    }
   ],
   "source": [
    "'{:10}'.format(123) #it spacing 10 space"
   ]
  },
  {
   "cell_type": "code",
   "execution_count": null,
   "metadata": {},
   "outputs": [
    {
     "data": {
      "text/plain": [
       "'Hello     '"
      ]
     },
     "metadata": {},
     "output_type": "display_data"
    }
   ],
   "source": [
    "'{:10}'.format('Hello') #it spacing 10 space"
   ]
  },
  {
   "cell_type": "markdown",
   "metadata": {},
   "source": [
    "When specifying a filed width using a colon (:) inside the placeholder you can alow specify the alignment<br>\n",
    "<br>\n",
    "{:<10} :file width of 10, left alignment<br>\n",
    "<br>\n",
    "{:>10} :field width of 10, right alignment<br>\n",
    "<br>\n",
    "{:^10} :field width of 10 , center alignment<br>\n",
    "<br>"
   ]
  },
  {
   "cell_type": "code",
   "execution_count": null,
   "metadata": {},
   "outputs": [
    {
     "name": "stdout",
     "output_type": "stream",
     "text": [
      "       123\n",
      "123       \n",
      "       123\n",
      "   123    \n"
     ]
    }
   ],
   "source": [
    "Value = 123 \n",
    "formatted_value ='{:10}'.format(Value)\n",
    "print(formatted_value)\n",
    "formatted_value ='{:<10}'.format(Value)\n",
    "print(formatted_value)\n",
    "formatted_value ='{:>10}'.format(Value)\n",
    "print(formatted_value)\n",
    "formatted_value ='{:^10}'.format(Value)\n",
    "print(formatted_value)"
   ]
  },
  {
   "cell_type": "markdown",
   "metadata": {},
   "source": [
    "string is letf-aligned by default, leaving space on the right "
   ]
  },
  {
   "cell_type": "code",
   "execution_count": null,
   "metadata": {},
   "outputs": [
    {
     "name": "stdout",
     "output_type": "stream",
     "text": [
      "Hello     \n",
      "Hello     \n",
      "     Hello\n",
      "  Hello   \n"
     ]
    }
   ],
   "source": [
    "Value = 'Hello'\n",
    "formatted_value ='{:10}'.format(Value)\n",
    "print(formatted_value)\n",
    "formatted_value ='{:<10}'.format(Value)\n",
    "print(formatted_value)\n",
    "formatted_value ='{:>10}'.format(Value)\n",
    "print(formatted_value)\n",
    "formatted_value ='{:^10}'.format(Value)\n",
    "print(formatted_value)"
   ]
  },
  {
   "cell_type": "markdown",
   "metadata": {},
   "source": [
    "note:<br>\n",
    "<br>\n",
    "d inside the placeholder can recevie integer value <br>\n",
    "<br>\n",
    "f can recevie floating-point value and also integer too"
   ]
  },
  {
   "cell_type": "code",
   "execution_count": null,
   "metadata": {},
   "outputs": [
    {
     "name": "stdout",
     "output_type": "stream",
     "text": [
      "123.000000\n",
      "123.000000\n",
      "123.000000\n",
      "123.000000\n"
     ]
    }
   ],
   "source": [
    "Value = 123\n",
    "formatted_value ='{:10f}'.format(Value)\n",
    "print(formatted_value)\n",
    "formatted_value ='{:<10f}'.format(Value)\n",
    "print(formatted_value)\n",
    "formatted_value ='{:>10f}'.format(Value)\n",
    "print(formatted_value)\n",
    "formatted_value ='{:^10f}'.format(Value)\n",
    "print(formatted_value)"
   ]
  },
  {
   "cell_type": "markdown",
   "metadata": {},
   "source": [
    "Note :<br>\n",
    "<br>\n",
    "adding a dot and a number in front of f, you can specify how many decimal places to display"
   ]
  },
  {
   "cell_type": "code",
   "execution_count": null,
   "metadata": {},
   "outputs": [
    {
     "name": "stdout",
     "output_type": "stream",
     "text": [
      "   123.500\n",
      "123.500   \n",
      "   123.500\n",
      " 123.500  \n"
     ]
    }
   ],
   "source": [
    "Value = 123.5\n",
    "formatted_value ='{:10.3f}'.format(Value)\n",
    "print(formatted_value)\n",
    "formatted_value ='{:<10.3f}'.format(Value)\n",
    "print(formatted_value)\n",
    "formatted_value ='{:>10.3f}'.format(Value)\n",
    "print(formatted_value)\n",
    "formatted_value ='{:^10.3f}'.format(Value)\n",
    "print(formatted_value)"
   ]
  },
  {
   "cell_type": "markdown",
   "metadata": {},
   "source": [
    "##### 1.9 String spliting \n"
   ]
  },
  {
   "cell_type": "code",
   "execution_count": null,
   "metadata": {},
   "outputs": [
    {
     "data": {
      "text/plain": [
       "['Python', 'is', 'beautiful']"
      ]
     },
     "metadata": {},
     "output_type": "display_data"
    }
   ],
   "source": [
    "'Python is beautiful'.split()"
   ]
  },
  {
   "cell_type": "code",
   "execution_count": null,
   "metadata": {},
   "outputs": [
    {
     "name": "stdout",
     "output_type": "stream",
     "text": [
      "Python is beautiful\n"
     ]
    }
   ],
   "source": [
    "word1, word2,word3 = 'Python is beautiful'.split()\n",
    "print(word1, word2, word3)"
   ]
  },
  {
   "cell_type": "code",
   "execution_count": null,
   "metadata": {},
   "outputs": [
    {
     "name": "stdout",
     "output_type": "stream",
     "text": [
      "05 02 2024\n"
     ]
    }
   ],
   "source": [
    "year ,month, day = '05.02.2024'.split('.')\n",
    "print(year,month,day)"
   ]
  },
  {
   "cell_type": "markdown",
   "metadata": {},
   "source": [
    "note : <br>\n",
    "<br>\"isdigit\" statement checks each character of the given string and returns Ture or False, indicating whether it consists only of numeric characters "
   ]
  },
  {
   "cell_type": "code",
   "execution_count": null,
   "metadata": {},
   "outputs": [
    {
     "name": "stdout",
     "output_type": "stream",
     "text": [
      "True\n",
      "False\n",
      "False\n"
     ]
    }
   ],
   "source": [
    "String1='12345'\n",
    "print(String1.isdigit())\n",
    "String2=\"Hello\"\n",
    "print(String2.isdigit())\n",
    "String3='3.14'\n",
    "print(String3.isdigit())\n"
   ]
  },
  {
   "cell_type": "code",
   "execution_count": null,
   "metadata": {},
   "outputs": [
    {
     "ename": "ValueError",
     "evalue": "invalid literal for int() with base 10: 'Hello'",
     "output_type": "error",
     "traceback": [
      "\u001b[0;31m---------------------------------------------------------------------------\u001b[0m\n",
      "\u001b[0;31mValueError\u001b[0m                                Traceback (most recent call last)\n",
      "Cell \u001b[0;32mIn[76], line 1\u001b[0m\n",
      "\u001b[0;32m----> 1\u001b[0m \u001b[38;5;28;43mint\u001b[39;49m\u001b[43m(\u001b[49m\u001b[38;5;124;43m\"\u001b[39;49m\u001b[38;5;124;43mHello\u001b[39;49m\u001b[38;5;124;43m\"\u001b[39;49m\u001b[43m)\u001b[49m\n",
      "\n",
      "\u001b[0;31mValueError\u001b[0m: invalid literal for int() with base 10: 'Hello'"
     ]
    }
   ],
   "source": [
    "int(\"Hello\")"
   ]
  },
  {
   "cell_type": "markdown",
   "metadata": {},
   "source": [
    "#### 2.Writing input statement \n",
    "##### 2.1 Basic Usage of the input statment "
   ]
  },
  {
   "cell_type": "code",
   "execution_count": null,
   "metadata": {},
   "outputs": [
    {
     "name": "stdout",
     "output_type": "stream",
     "text": [
      "hello Dararaksmey\n"
     ]
    }
   ],
   "source": [
    "name = input('Plase input your name')\n",
    "print(\"hello\",name)"
   ]
  },
  {
   "cell_type": "markdown",
   "metadata": {},
   "source": [
    "##### 2.2Getting a number input from the user "
   ]
  },
  {
   "cell_type": "code",
   "execution_count": null,
   "metadata": {},
   "outputs": [
    {
     "name": "stdout",
     "output_type": "stream",
     "text": [
      "10 and 20 sum up to 30\n"
     ]
    }
   ],
   "source": [
    "x = int(input(\"Enter the first integer\"))\n",
    "y = int(input(\"Enter the second iteger\"))\n",
    "s = x + y \n",
    "print(f\"{x} and {y} sum up to {s}\")"
   ]
  },
  {
   "cell_type": "code",
   "execution_count": null,
   "metadata": {},
   "outputs": [
    {
     "name": "stdout",
     "output_type": "stream",
     "text": [
      "Your BMI = 22.857142857142858\n"
     ]
    }
   ],
   "source": [
    "weight = float(input(\"Enter your weight in kilograms(kg)\"))\n",
    "high = float(input(\"Enter your hgiht in meters(m)\"))\n",
    "\n",
    "bmi = (weight / (high ** 2))\n",
    "print(\"Your BMI =\" , bmi)"
   ]
  },
  {
   "cell_type": "markdown",
   "metadata": {},
   "source": [
    "##### 2.3 Spliting and input string from the user "
   ]
  },
  {
   "cell_type": "code",
   "execution_count": null,
   "metadata": {},
   "outputs": [
    {
     "name": "stdout",
     "output_type": "stream",
     "text": [
      "1 2 3\n"
     ]
    }
   ],
   "source": [
    "number1,number2,number3 = input('Enter three integer sparate by space').split()\n",
    "print(number1,number2,number3)"
   ]
  },
  {
   "cell_type": "markdown",
   "metadata": {},
   "source": [
    "##### 2.4 Writing input satements with string formatting "
   ]
  },
  {
   "cell_type": "code",
   "execution_count": null,
   "metadata": {},
   "outputs": [
    {
     "name": "stdout",
     "output_type": "stream",
     "text": [
      "Emcast\n"
     ]
    }
   ],
   "source": [
    "number = 1 \n",
    "text = 'name'\n",
    "name = input('Q{}. Plase enter your{}:'.format(number , text))\n",
    "print(name)"
   ]
  },
  {
   "cell_type": "markdown",
   "metadata": {},
   "source": [
    "##### 2.5 Change Calculator program"
   ]
  },
  {
   "cell_type": "code",
   "execution_count": null,
   "metadata": {},
   "outputs": [
    {
     "name": "stdout",
     "output_type": "stream",
     "text": [
      "Change: 4700\n",
      "The number of 500 won coins: 9\n",
      "The number of 100 won coins: 2\n"
     ]
    }
   ],
   "source": [
    "money = int(input(\"Your input Money :\"))\n",
    "price = int(input(\"Price of goods: \"))\n",
    "\n",
    "change = money - price\n",
    "print(\"Change:\", change)\n",
    "coin500s = change // 500\n",
    "change = change % 500 \n",
    "coin100s = change // 100\n",
    "\n",
    "print(\"The number of 500 won coins:\", coin500s)\n",
    "print(\"The number of 100 won coins:\",coin100s)"
   ]
  },
  {
   "cell_type": "markdown",
   "metadata": {},
   "source": [
    "#### 3.String and output \n",
    "##### 3.1The print statement and commas "
   ]
  },
  {
   "cell_type": "code",
   "execution_count": null,
   "metadata": {},
   "outputs": [
    {
     "name": "stdout",
     "output_type": "stream",
     "text": [
      "I am  23 year olds!\n",
      "I really really really  love python!\n"
     ]
    }
   ],
   "source": [
    "print('I am ', 23 ,'year olds!')\n",
    "print('I','really '  * 3 ,'love','python!')\n"
   ]
  },
  {
   "cell_type": "markdown",
   "metadata": {},
   "source": [
    "##### 3.2The print statemetn and the end parameter "
   ]
  },
  {
   "cell_type": "code",
   "execution_count": null,
   "metadata": {},
   "outputs": [
    {
     "name": "stdout",
     "output_type": "stream",
     "text": [
      "HelloWorld!\n"
     ]
    }
   ],
   "source": [
    "print('Hello',end = '')\n",
    "print('World!')"
   ]
  },
  {
   "cell_type": "code",
   "execution_count": null,
   "metadata": {},
   "outputs": [
    {
     "name": "stdout",
     "output_type": "stream",
     "text": [
      "12\n"
     ]
    }
   ],
   "source": [
    "print(1,end ='')\n",
    "print(2)"
   ]
  },
  {
   "cell_type": "code",
   "execution_count": null,
   "metadata": {},
   "outputs": [
    {
     "name": "stdout",
     "output_type": "stream",
     "text": [
      "Hello,World!\n"
     ]
    }
   ],
   "source": [
    "print('Hello',end = ',')\n",
    "print('World!')"
   ]
  },
  {
   "cell_type": "code",
   "execution_count": null,
   "metadata": {},
   "outputs": [
    {
     "name": "stdout",
     "output_type": "stream",
     "text": [
      "Hello World!\n"
     ]
    }
   ],
   "source": [
    "print('Hello',end = ' ')\n",
    "print('World!')"
   ]
  },
  {
   "cell_type": "markdown",
   "metadata": {},
   "source": [
    "##### 3.3Print statment and separator "
   ]
  },
  {
   "cell_type": "code",
   "execution_count": null,
   "metadata": {},
   "outputs": [
    {
     "name": "stdout",
     "output_type": "stream",
     "text": [
      "Hello,world\n"
     ]
    }
   ],
   "source": [
    "print(\"Hello\", \"world\", sep=',')"
   ]
  },
  {
   "cell_type": "markdown",
   "metadata": {},
   "source": [
    "##### 3.4Output Using String Formatting "
   ]
  },
  {
   "cell_type": "code",
   "execution_count": null,
   "metadata": {},
   "outputs": [
    {
     "name": "stdout",
     "output_type": "stream",
     "text": [
      "Your name is Phem Dararaksmey,and 22 year old m job isStudent\n"
     ]
    }
   ],
   "source": [
    "name = input(\"Enter your name:\")\n",
    "age = input(\"Enter your age:\")\n",
    "job = input(\"Enter your job\")\n",
    "\n",
    "print('Your name is {},and {} year old m job is{}'.format(name,age,job))"
   ]
  },
  {
   "cell_type": "markdown",
   "metadata": {},
   "source": [
    "#### 5 Built-in Function "
   ]
  },
  {
   "cell_type": "code",
   "execution_count": null,
   "metadata": {},
   "outputs": [
    {
     "data": {
      "text/plain": [
       "3"
      ]
     },
     "metadata": {},
     "output_type": "display_data"
    }
   ],
   "source": [
    "String1 = \"Foo\"\n",
    "len(String1) # the len function is return the length of string stored in the variables "
   ]
  },
  {
   "cell_type": "code",
   "execution_count": null,
   "metadata": {},
   "outputs": [
    {
     "data": {
      "text/plain": [
       "str"
      ]
     },
     "metadata": {},
     "output_type": "display_data"
    }
   ],
   "source": [
    "type(String1) # return the type of variable "
   ]
  },
  {
   "cell_type": "code",
   "execution_count": null,
   "metadata": {},
   "outputs": [
    {
     "data": {
      "text/plain": [
       "4363979120"
      ]
     },
     "metadata": {},
     "output_type": "display_data"
    }
   ],
   "source": [
    "id(String1) # The id function returns the identity of the variable string that sotres the string \" Foo\""
   ]
  },
  {
   "cell_type": "code",
   "execution_count": null,
   "metadata": {},
   "outputs": [
    {
     "data": {
      "text/plain": [
       "600"
      ]
     },
     "metadata": {},
     "output_type": "display_data"
    }
   ],
   "source": [
    "eval(\"100  + 200 + 300\") # the eval function takse a sring , evaluates the contents of the string as an expression and return the evaluated value "
   ]
  },
  {
   "cell_type": "code",
   "execution_count": null,
   "metadata": {},
   "outputs": [
    {
     "data": {
      "text/plain": [
       "100"
      ]
     },
     "metadata": {},
     "output_type": "display_data"
    }
   ],
   "source": [
    "abs(-100) # the abs function take the integer -100 as input and returns its absoulte value 100"
   ]
  },
  {
   "cell_type": "code",
   "execution_count": null,
   "metadata": {},
   "outputs": [
    {
     "data": {
      "text/plain": [
       "10"
      ]
     },
     "metadata": {},
     "output_type": "display_data"
    }
   ],
   "source": [
    "min(20,10,30,40)"
   ]
  },
  {
   "cell_type": "code",
   "execution_count": null,
   "metadata": {},
   "outputs": [
    {
     "data": {
      "text/plain": [
       "400"
      ]
     },
     "metadata": {},
     "output_type": "display_data"
    }
   ],
   "source": [
    "max(200,100,300,400)"
   ]
  },
  {
   "cell_type": "code",
   "execution_count": null,
   "metadata": {},
   "outputs": [
    {
     "data": {
      "text/plain": [
       "['A', 'B', 'D', 'E', 'F']"
      ]
     },
     "metadata": {},
     "output_type": "display_data"
    }
   ],
   "source": [
    "sorted(\"EABFD\")"
   ]
  },
  {
   "cell_type": "code",
   "execution_count": null,
   "metadata": {},
   "outputs": [
    {
     "data": {
      "text/plain": [
       "['F', 'E', 'D', 'B', 'A']"
      ]
     },
     "metadata": {},
     "output_type": "display_data"
    }
   ],
   "source": [
    "sorted(\"EABFD\",reverse=True)"
   ]
  },
  {
   "cell_type": "markdown",
   "metadata": {},
   "source": [
    "methods cannot be called independently becasue it's belong to specific object. "
   ]
  },
  {
   "cell_type": "markdown",
   "metadata": {},
   "source": [
    "#### 6.Built-in Modules \n",
    "\n"
   ]
  },
  {
   "cell_type": "code",
   "execution_count": null,
   "metadata": {},
   "outputs": [
    {
     "name": "stdout",
     "output_type": "stream",
     "text": [
      "Enter your information:\n",
      "Here is your information\n",
      "Your name is  Smey\n",
      "your employee id is : id = 1 \n",
      "And your age is :  22\n"
     ]
    }
   ],
   "source": [
    "print(\"Enter your information:\")\n",
    "id = input(\"Enter your id:\")\n",
    "name = input(\"Enter your name\")\n",
    "age = int(input(\"Age : \"))\n",
    "\n",
    "print(\"Here is your information\")\n",
    "print('Your name is ',name)\n",
    "print(\"your employee id is :\", id)\n",
    "print(\"And your age is : \", age)\n",
    "\n"
   ]
  },
  {
   "cell_type": "code",
   "execution_count": null,
   "metadata": {},
   "outputs": [
    {
     "name": "stdout",
     "output_type": "stream",
     "text": [
      "The total of 20 +  20 = 40\n"
     ]
    }
   ],
   "source": [
    "a = int(input(\"Enter the value of a :\"))\n",
    "b = int(input(\"Enter the value of b :\"))\n",
    "\n",
    "total = a + b #opeartion \n",
    "\n",
    "print(f\"The total of {a} +  {b} = {total}\")"
   ]
  },
  {
   "cell_type": "markdown",
   "metadata": {},
   "source": [
    "##### 6.1 "
   ]
  },
  {
   "cell_type": "code",
   "execution_count": null,
   "metadata": {},
   "outputs": [
    {
     "data": {
      "text/plain": [
       "datetime.datetime(2024, 12, 25, 13, 15, 20, 334934)"
      ]
     },
     "metadata": {},
     "output_type": "display_data"
    }
   ],
   "source": [
    "import datetime as dt\n",
    "start_time = dt.datetime.now()\n",
    "start_time.replace(month=12,day=25)"
   ]
  },
  {
   "cell_type": "markdown",
   "metadata": {},
   "source": [
    "Note : from-import statment is a way to import only what is needed from a module"
   ]
  },
  {
   "cell_type": "code",
   "execution_count": null,
   "metadata": {},
   "outputs": [
    {
     "data": {
      "text/plain": [
       "datetime.datetime(2024, 12, 25, 13, 24, 32, 66548)"
      ]
     },
     "metadata": {},
     "output_type": "display_data"
    }
   ],
   "source": [
    "from datetime import datetime \n",
    "start_time = datetime.now()\n",
    "start_time.replace(month=12,day=25)\n"
   ]
  },
  {
   "cell_type": "markdown",
   "metadata": {},
   "source": [
    "##### 6.2  The Dateime Module for Receiving and Maniplulating Dates and time "
   ]
  },
  {
   "cell_type": "code",
   "execution_count": null,
   "metadata": {},
   "outputs": [
    {
     "name": "stdout",
     "output_type": "stream",
     "text": [
      "2024-02-05 13:26:46.696511\n"
     ]
    }
   ],
   "source": [
    "Today = datetime.today()\n",
    "print(Today)"
   ]
  },
  {
   "cell_type": "code",
   "execution_count": null,
   "metadata": {},
   "outputs": [
    {
     "data": {
      "text/plain": [
       "datetime.datetime(2024, 2, 5, 13, 26, 46, 696511)"
      ]
     },
     "metadata": {},
     "output_type": "display_data"
    }
   ],
   "source": [
    "Today"
   ]
  },
  {
   "cell_type": "code",
   "execution_count": null,
   "metadata": {},
   "outputs": [
    {
     "data": {
      "text/plain": [
       "2024"
      ]
     },
     "metadata": {},
     "output_type": "display_data"
    }
   ],
   "source": [
    "Today.year"
   ]
  },
  {
   "cell_type": "code",
   "execution_count": null,
   "metadata": {},
   "outputs": [
    {
     "data": {
      "text/plain": [
       "2"
      ]
     },
     "metadata": {},
     "output_type": "display_data"
    }
   ],
   "source": [
    "Today.month"
   ]
  },
  {
   "cell_type": "markdown",
   "metadata": {},
   "source": [
    "Use the dir function to print the functions and variables that the module has "
   ]
  },
  {
   "cell_type": "code",
   "execution_count": null,
   "metadata": {},
   "outputs": [
    {
     "name": "stdout",
     "output_type": "stream",
     "text": [
      "['__add__', '__class__', '__delattr__', '__dir__', '__doc__', '__eq__', '__format__', '__ge__', '__getattribute__', '__gt__', '__hash__', '__init__', '__init_subclass__', '__le__', '__lt__', '__ne__', '__new__', '__radd__', '__reduce__', '__reduce_ex__', '__repr__', '__rsub__', '__setattr__', '__sizeof__', '__str__', '__sub__', '__subclasshook__', 'astimezone', 'combine', 'ctime', 'date', 'day', 'dst', 'fold', 'fromisocalendar', 'fromisoformat', 'fromordinal', 'fromtimestamp', 'hour', 'isocalendar', 'isoformat', 'isoweekday', 'max', 'microsecond', 'min', 'minute', 'month', 'now', 'replace', 'resolution', 'second', 'strftime', 'strptime', 'time', 'timestamp', 'timetuple', 'timetz', 'today', 'toordinal', 'tzinfo', 'tzname', 'utcfromtimestamp', 'utcnow', 'utcoffset', 'utctimetuple', 'weekday', 'year']\n"
     ]
    }
   ],
   "source": [
    "print(dir(datetime),sep=\",\")\n"
   ]
  },
  {
   "cell_type": "markdown",
   "metadata": {},
   "source": [
    "##### 6.3 The time module<br>\n",
    "<br>\n",
    "The following code indicates the elasped time in seconds since the eoicg time(january 1, 1970, 0:00:00)"
   ]
  },
  {
   "cell_type": "code",
   "execution_count": null,
   "metadata": {},
   "outputs": [
    {
     "name": "stdout",
     "output_type": "stream",
     "text": [
      "Time after epoch =  1707114746.3860009\n"
     ]
    }
   ],
   "source": [
    "import time \n",
    "second = time.time()\n",
    "print('Time after epoch = ',second)\n"
   ]
  },
  {
   "cell_type": "markdown",
   "metadata": {},
   "source": [
    "6.3 The time module<br>\n",
    "<br>\n",
    "localtime method of the ime modeuls <br>\n",
    "<br>\n",
    "The localtime method takes and epoch time value and returns the local time as a date and time format"
   ]
  },
  {
   "cell_type": "code",
   "execution_count": null,
   "metadata": {},
   "outputs": [
    {
     "data": {
      "text/plain": [
       "time.struct_time(tm_year=2024, tm_mon=2, tm_mday=5, tm_hour=13, tm_min=33, tm_sec=16, tm_wday=0, tm_yday=36, tm_isdst=0)"
      ]
     },
     "metadata": {},
     "output_type": "display_data"
    }
   ],
   "source": [
    "import time \n",
    "unix_timestamp = time.time()\n",
    "local_time = time.localtime(unix_timestamp)\n",
    "local_time"
   ]
  },
  {
   "cell_type": "markdown",
   "metadata": {},
   "source": [
    "6.3 The time module<br>\n",
    "<br>\n",
    "The strftime method allows us to format the time obtanined from localtime according to the desired date/time format\n",
    "\n",
    "Note :<br>\n",
    "<br>\n",
    "%y = year %m = month %d = day %H = Hour %M= Minet %S = second <br>\n",
    "<br>\n",
    "for %y-%m-%d %H-%M-%S \"-\" it's use to put the - between the year month and day"
   ]
  },
  {
   "cell_type": "code",
   "execution_count": null,
   "metadata": {},
   "outputs": [
    {
     "name": "stdout",
     "output_type": "stream",
     "text": [
      "24-02-05 13-41-46\n"
     ]
    }
   ],
   "source": [
    "import time \n",
    "unix_timestamp = time.time()\n",
    "local_time = time.localtime(unix_timestamp)\n",
    "print(time.strftime('%y-%m-%d %H-%M-%S',local_time))"
   ]
  },
  {
   "cell_type": "markdown",
   "metadata": {},
   "source": [
    "##### 6.4 The Math Module <br>\n",
    "<br>\n",
    "The math module allow us ti use mathematical functions <br>\n",
    "<br>\n",
    "math module\n",
    "    it include mathmatical functions like sin,con,tan,log,pow,ceild,floor,trunc,fabs, and copysign(x,y)"
   ]
  },
  {
   "cell_type": "code",
   "execution_count": null,
   "metadata": {},
   "outputs": [
    {
     "name": "stdout",
     "output_type": "stream",
     "text": [
      "['__doc__', '__file__', '__loader__', '__name__', '__package__', '__spec__', 'acos', 'acosh', 'asin', 'asinh', 'atan', 'atan2', 'atanh', 'ceil', 'comb', 'copysign', 'cos', 'cosh', 'degrees', 'dist', 'e', 'erf', 'erfc', 'exp', 'expm1', 'fabs', 'factorial', 'floor', 'fmod', 'frexp', 'fsum', 'gamma', 'gcd', 'hypot', 'inf', 'isclose', 'isfinite', 'isinf', 'isnan', 'isqrt', 'ldexp', 'lgamma', 'log', 'log10', 'log1p', 'log2', 'modf', 'nan', 'perm', 'pi', 'pow', 'prod', 'radians', 'remainder', 'sin', 'sinh', 'sqrt', 'tan', 'tanh', 'tau', 'trunc']\n"
     ]
    }
   ],
   "source": [
    "import math\n",
    "print(dir(math))"
   ]
  },
  {
   "cell_type": "code",
   "execution_count": null,
   "metadata": {},
   "outputs": [
    {
     "data": {
      "text/plain": [
       "27.0"
      ]
     },
     "metadata": {},
     "output_type": "display_data"
    }
   ],
   "source": [
    "import math as m \n",
    "m.pow(3,3)\n"
   ]
  },
  {
   "cell_type": "code",
   "execution_count": null,
   "metadata": {},
   "outputs": [
    {
     "data": {
      "text/plain": [
       "99.0"
      ]
     },
     "metadata": {},
     "output_type": "display_data"
    }
   ],
   "source": [
    "m.fabs(-99)"
   ]
  },
  {
   "cell_type": "code",
   "execution_count": null,
   "metadata": {},
   "outputs": [
    {
     "data": {
      "text/plain": [
       "3"
      ]
     },
     "metadata": {},
     "output_type": "display_data"
    }
   ],
   "source": [
    "m.ceil(2.1)"
   ]
  },
  {
   "cell_type": "code",
   "execution_count": null,
   "metadata": {},
   "outputs": [
    {
     "data": {
      "text/plain": [
       "-2"
      ]
     },
     "metadata": {},
     "output_type": "display_data"
    }
   ],
   "source": [
    "m.ceil(-2.1)"
   ]
  },
  {
   "cell_type": "code",
   "execution_count": null,
   "metadata": {},
   "outputs": [
    {
     "data": {
      "text/plain": [
       "2"
      ]
     },
     "metadata": {},
     "output_type": "display_data"
    }
   ],
   "source": [
    "m.floor(2.1)"
   ]
  },
  {
   "cell_type": "code",
   "execution_count": null,
   "metadata": {},
   "outputs": [
    {
     "data": {
      "text/plain": [
       "0.999999327347282"
      ]
     },
     "metadata": {},
     "output_type": "display_data"
    }
   ],
   "source": [
    "m.log(2.71828)"
   ]
  },
  {
   "cell_type": "code",
   "execution_count": null,
   "metadata": {},
   "outputs": [
    {
     "data": {
      "text/plain": [
       "2.0"
      ]
     },
     "metadata": {},
     "output_type": "display_data"
    }
   ],
   "source": [
    "m.log(100,10)"
   ]
  },
  {
   "cell_type": "code",
   "execution_count": null,
   "metadata": {},
   "outputs": [
    {
     "data": {
      "text/plain": [
       "0.0"
      ]
     },
     "metadata": {},
     "output_type": "display_data"
    }
   ],
   "source": [
    "m.sin(0.0)"
   ]
  },
  {
   "cell_type": "code",
   "execution_count": null,
   "metadata": {},
   "outputs": [
    {
     "data": {
      "text/plain": [
       "0.8939966636005579"
      ]
     },
     "metadata": {},
     "output_type": "display_data"
    }
   ],
   "source": [
    "m.sin(90.0)"
   ]
  },
  {
   "cell_type": "code",
   "execution_count": null,
   "metadata": {},
   "outputs": [
    {
     "data": {
      "text/plain": [
       "1.0"
      ]
     },
     "metadata": {},
     "output_type": "display_data"
    }
   ],
   "source": [
    "m.sin(m.pi / 2)"
   ]
  },
  {
   "cell_type": "markdown",
   "metadata": {},
   "source": [
    "##### The random module "
   ]
  },
  {
   "cell_type": "code",
   "execution_count": null,
   "metadata": {},
   "outputs": [
    {
     "name": "stdout",
     "output_type": "stream",
     "text": [
      "0.3274829434918505\n",
      "0.10726370306529054\n",
      "1\n",
      "2\n",
      "6\n"
     ]
    }
   ],
   "source": [
    "import random as rd \n",
    "print(rd.random())\n",
    "print(rd.random())\n",
    "print(rd.randrange(1,7))\n",
    "print(rd.randrange(0,10,2))\n",
    "print(rd.randint(1,10))"
   ]
  },
  {
   "cell_type": "markdown",
   "metadata": {},
   "source": [
    "##### The shuffle() : Return sequence with its elements shuffled in a differnet order each time "
   ]
  },
  {
   "cell_type": "code",
   "execution_count": null,
   "metadata": {},
   "outputs": [
    {
     "name": "stdout",
     "output_type": "stream",
     "text": [
      "[50, 30, 20, 40, 10]\n"
     ]
    }
   ],
   "source": [
    "numlist = [10,20,30,40,50]\n",
    "\n",
    "rd.shuffle(numlist)\n",
    "print(numlist)"
   ]
  },
  {
   "cell_type": "code",
   "execution_count": null,
   "metadata": {},
   "outputs": [
    {
     "name": "stdout",
     "output_type": "stream",
     "text": [
      "[5, 8, 3, 2, 10, 9, 6, 1, 7, 4]\n"
     ]
    }
   ],
   "source": [
    "a = list(range(1,11))\n",
    "rd.shuffle(a)\n",
    "print(a)"
   ]
  },
  {
   "cell_type": "markdown",
   "metadata": {},
   "source": [
    "##### choice() : Extracts a randowm element from the give sequence "
   ]
  },
  {
   "cell_type": "code",
   "execution_count": null,
   "metadata": {},
   "outputs": [
    {
     "name": "stdout",
     "output_type": "stream",
     "text": [
      "10\n"
     ]
    }
   ],
   "source": [
    "print(rd.choice(numlist))"
   ]
  },
  {
   "cell_type": "markdown",
   "metadata": {},
   "source": [
    "##### sample(): Return elements randomly. The number of element to be returned can be specified as an argument"
   ]
  },
  {
   "cell_type": "code",
   "execution_count": null,
   "metadata": {},
   "outputs": [
    {
     "name": "stdout",
     "output_type": "stream",
     "text": [
      "[10, 40, 50]\n"
     ]
    }
   ],
   "source": [
    "print(rd.sample(numlist,3))"
   ]
  },
  {
   "cell_type": "code",
   "execution_count": null,
   "metadata": {},
   "outputs": [
    {
     "name": "stdout",
     "output_type": "stream",
     "text": [
      "[8, 5, 1]\n"
     ]
    }
   ],
   "source": [
    "a = list(range(1,11))\n",
    "b= rd.sample(a,3)\n",
    "print(b)"
   ]
  },
  {
   "cell_type": "markdown",
   "metadata": {},
   "source": [
    "#### Paper code "
   ]
  },
  {
   "cell_type": "markdown",
   "metadata": {},
   "source": [
    "#### Let code the mission "
   ]
  },
  {
   "cell_type": "markdown",
   "metadata": {},
   "source": [
    "##### Q1 "
   ]
  },
  {
   "cell_type": "markdown",
   "metadata": {},
   "source": [
    "![alt text](images/Lession%203/Paper%20coding%20Q1.png)"
   ]
  },
  {
   "cell_type": "code",
   "execution_count": null,
   "metadata": {},
   "outputs": [],
   "source": []
  },
  {
   "cell_type": "markdown",
   "metadata": {},
   "source": [
    "##### Q2 \n",
    "![alt text](images/Lession%203/Paper%20coding%20Q2.png)"
   ]
  },
  {
   "cell_type": "code",
   "execution_count": null,
   "metadata": {},
   "outputs": [],
   "source": []
  },
  {
   "cell_type": "markdown",
   "metadata": {},
   "source": [
    "##### Mission\n",
    "BMI Calculator <br>\n",
    "1. Calculate and ouput the BMI(Body Mass index) by obtaining the user's name height and weight\n",
    "2. BMI is calculate by dividing on's weight by the square of their height and the formulat is kg/m2"
   ]
  },
  {
   "cell_type": "markdown",
   "metadata": {},
   "source": [
    "![alt text](images/Lession%203/Mission.png)"
   ]
  },
  {
   "cell_type": "code",
   "execution_count": null,
   "metadata": {},
   "outputs": [
    {
     "name": "stdout",
     "output_type": "stream",
     "text": [
      "Your BMI is  22.03856749311295\n"
     ]
    }
   ],
   "source": [
    "# Setp one obtaning the user's name hight and weight \n",
    "name = input(\"Enter your name :\")\n",
    "hight = int(input(\"Enter your hight in cm :\"))\n",
    "#convert it to m\n",
    "high_m = hight/ 100\n",
    "weight = int(input(\"Enter your weight in kg :\"))\n",
    "# Setp two calculate the BMI (formulat is weigt / hgiht ** 2)\n",
    "BMI = (weight/(high_m ** 2))\n",
    "print(\"Your BMI is \",BMI)"
   ]
  },
  {
   "cell_type": "markdown",
   "metadata": {},
   "source": [
    "#### Pairs programming "
   ]
  },
  {
   "cell_type": "markdown",
   "metadata": {},
   "source": [
    "##### Q1 Receive a radius value from the user and ouput the circumference and rea of a circle with that radius as follows <br>\n",
    "To calculate these values use the variable PI = 3.141592 "
   ]
  },
  {
   "cell_type": "markdown",
   "metadata": {},
   "source": [
    "![alt text](images/Lession%203/Pair%20programming%20Q1.png)"
   ]
  },
  {
   "cell_type": "code",
   "execution_count": null,
   "metadata": {},
   "outputs": [
    {
     "name": "stdout",
     "output_type": "stream",
     "text": [
      "Circumerence of the circle =  69.115024\n",
      "Area of the circle =  380.13263200000006\n"
     ]
    }
   ],
   "source": [
    "# Setp one receive the radius value from user \n",
    "radius = int(input(\"Enter the radius :\"))\n",
    "# Setp two define variable PI = 3.141592\n",
    "PI = 3.141592\n",
    "# Setp three calculate circumference and the area\n",
    "circumference_result = 2 * PI * radius\n",
    "Area_result = PI * radius *radius\n",
    "# Setp four output the result of circumference and area of a circle \n",
    "print(\"Circumerence of the circle = \",circumference_result)\n",
    "print(\"Area of the circle = \", Area_result)"
   ]
  },
  {
   "cell_type": "markdown",
   "metadata": {},
   "source": [
    "#### Q2 Write code in square_table.py to display a table of squared values from 2 to 6"
   ]
  },
  {
   "cell_type": "markdown",
   "metadata": {},
   "source": [
    "![alt text](images/Lession%203/Pair%20programming%20Q2.png)"
   ]
  },
  {
   "cell_type": "code",
   "execution_count": null,
   "metadata": {},
   "outputs": [
    {
     "name": "stdout",
     "output_type": "stream",
     "text": [
      "4\n",
      "9\n",
      "16\n",
      "25\n",
      "36\n"
     ]
    }
   ],
   "source": [
    "#Using math module \n",
    "import math as m \n",
    "\n",
    "# define n = 2\n",
    "n = 2 \n",
    "a = {}\n",
    "for number in range(2,7):\n",
    "    print(number ** n)\n",
    "\n"
   ]
  },
  {
   "cell_type": "markdown",
   "metadata": {},
   "source": [
    "###### Q3 Lets store your name and address in variable named = \"name\" amd \"address\" and then display them"
   ]
  },
  {
   "cell_type": "markdown",
   "metadata": {},
   "source": [
    "![alt text](images/Lession%203/pair%20programm%20q3.png)"
   ]
  },
  {
   "cell_type": "code",
   "execution_count": null,
   "metadata": {},
   "outputs": [
    {
     "name": "stdout",
     "output_type": "stream",
     "text": [
      "Phem Dararaksmey\n",
      "Phnom Penh\n"
     ]
    }
   ],
   "source": [
    "#sotre name and adress in variable name\n",
    "name =\"Phem Dararaksmey\"\n",
    "address =\"Phnom Penh\"\n",
    "print(name)\n",
    "print(address)"
   ]
  }
 ],
 "metadata": {
  "language_info": {
   "name": "python"
  }
 },
 "nbformat": 4,
 "nbformat_minor": 2
}
