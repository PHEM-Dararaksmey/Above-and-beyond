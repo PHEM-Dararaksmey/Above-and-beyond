{
 "cells": [
  {
   "cell_type": "markdown",
   "id": "a9c70811",
   "metadata": {},
   "source": [
    "## Tuesday \n",
    "Time : 8 AM - 5 PM "
   ]
  },
  {
   "cell_type": "markdown",
   "id": "2c428ec0",
   "metadata": {},
   "source": [
    "### Lession 12 2-dimensional list \n",
    "#### Main keyword :\n",
    "1,2-dimensional list ,2-dimensional index , Nested loop , Jagged list "
   ]
  },
  {
   "cell_type": "markdown",
   "id": "fa3cb1cc",
   "metadata": {},
   "source": [
    "![alt text](images/Lession%2012/12.1%20Mission.png)"
   ]
  },
  {
   "cell_type": "markdown",
   "id": "bbfa9e47",
   "metadata": {},
   "source": [
    "![alt text](images/Lession%2012/12.2%20Flowchart%201.png)"
   ]
  },
  {
   "cell_type": "markdown",
   "id": "639cee56",
   "metadata": {},
   "source": [
    "![alt text](images/Lession%2012/12.2%20Flowchart%202.png)"
   ]
  },
  {
   "cell_type": "markdown",
   "id": "65989eef",
   "metadata": {},
   "source": [
    "#### 1.Creating a 2-dimensional list \n",
    "##### 1.1 Example of a 2D list structure with 3 rows and 3 columns\n",
    "A two -dimensional list is a structure what groups 1-dimensioanl lists together.<br>\n",
    "To create  2-dimensional list, you need to create lists within a list"
   ]
  },
  {
   "cell_type": "code",
   "execution_count": 3,
   "id": "87f7651f",
   "metadata": {},
   "outputs": [],
   "source": [
    "list_array = [[1,2,3],[4,5,6],[7,8,9]]"
   ]
  },
  {
   "cell_type": "code",
   "execution_count": 4,
   "id": "a0e6cbc4",
   "metadata": {},
   "outputs": [],
   "source": [
    "list_array = [[1,2,3],\n",
    "              [4,5,6],\n",
    "              [7,8,9]]"
   ]
  },
  {
   "cell_type": "code",
   "execution_count": 5,
   "id": "ea7fc895",
   "metadata": {},
   "outputs": [
    {
     "data": {
      "text/plain": [
       "[1, 2, 3]"
      ]
     },
     "execution_count": 5,
     "metadata": {},
     "output_type": "execute_result"
    }
   ],
   "source": [
    "#access the refers to the first list\n",
    "list_array[0]"
   ]
  },
  {
   "cell_type": "markdown",
   "id": "3c073033",
   "metadata": {},
   "source": [
    "##### 1.2 Crating a 3x2 2D list using a for loop"
   ]
  },
  {
   "cell_type": "code",
   "execution_count": 7,
   "id": "76f3115f",
   "metadata": {},
   "outputs": [
    {
     "name": "stdout",
     "output_type": "stream",
     "text": [
      "[[0, 0], [0, 0], [0, 0]]\n"
     ]
    }
   ],
   "source": [
    "list1= []\n",
    "for i in range(3):\n",
    "    line =[]\n",
    "    for j in range(2):\n",
    "        line.append(0)\n",
    "    list1.append(line)\n",
    "print(list1)"
   ]
  },
  {
   "cell_type": "markdown",
   "id": "9d714545",
   "metadata": {},
   "source": [
    "##### 1.3 Crating a 2D list in One Line Expression "
   ]
  },
  {
   "cell_type": "code",
   "execution_count": 8,
   "id": "0218923b",
   "metadata": {},
   "outputs": [
    {
     "name": "stdout",
     "output_type": "stream",
     "text": [
      "[[0, 0], [0, 0], [0, 0]]\n"
     ]
    }
   ],
   "source": [
    "list_array = [[0] * 2 for i in range(3)]\n",
    "print(list_array)"
   ]
  },
  {
   "cell_type": "markdown",
   "id": "72f847ed",
   "metadata": {},
   "source": [
    "![alt text](images/Lession%2012/12.1.3.1.png)"
   ]
  },
  {
   "cell_type": "markdown",
   "id": "3ea089be",
   "metadata": {},
   "source": [
    "![alt text](images/Lession%2012/12.1.3.2.png)"
   ]
  },
  {
   "cell_type": "code",
   "execution_count": 10,
   "id": "7d951d35",
   "metadata": {},
   "outputs": [
    {
     "name": "stdout",
     "output_type": "stream",
     "text": [
      "[[0, 0], [0, 0], [0, 0]]\n"
     ]
    }
   ],
   "source": [
    "list_array = [[0 for j in range(2)]for i in range(3)]\n",
    "print(list_array)"
   ]
  },
  {
   "cell_type": "markdown",
   "id": "fef8b123",
   "metadata": {},
   "source": [
    "#### 2.Accessing elements of a 2D list\n",
    "##### 2.1 Indexing for elements access"
   ]
  },
  {
   "cell_type": "code",
   "execution_count": 16,
   "id": "b9f36b16",
   "metadata": {},
   "outputs": [
    {
     "data": {
      "text/plain": [
       "[1, 2, 3]"
      ]
     },
     "execution_count": 16,
     "metadata": {},
     "output_type": "execute_result"
    }
   ],
   "source": [
    "list_array = [[1,2,3],[4,5,6],[7,8,9]]\n",
    "list_array[0]"
   ]
  },
  {
   "cell_type": "code",
   "execution_count": 17,
   "id": "d1fd6380",
   "metadata": {},
   "outputs": [
    {
     "data": {
      "text/plain": [
       "3"
      ]
     },
     "execution_count": 17,
     "metadata": {},
     "output_type": "execute_result"
    }
   ],
   "source": [
    "list_array[0][2]"
   ]
  },
  {
   "cell_type": "markdown",
   "id": "3da2f05e",
   "metadata": {},
   "source": [
    "![alt text](images/Lession%2012/12.2.1.png)"
   ]
  },
  {
   "cell_type": "code",
   "execution_count": 18,
   "id": "37e2779d",
   "metadata": {},
   "outputs": [],
   "source": [
    "list_array = [[1,2,3],[4,5,6],[7,8,9]]"
   ]
  },
  {
   "cell_type": "code",
   "execution_count": 19,
   "id": "6aea3b1a",
   "metadata": {},
   "outputs": [
    {
     "data": {
      "text/plain": [
       "1"
      ]
     },
     "execution_count": 19,
     "metadata": {},
     "output_type": "execute_result"
    }
   ],
   "source": [
    "list_array[0][0]"
   ]
  },
  {
   "cell_type": "code",
   "execution_count": 20,
   "id": "f54e9b1b",
   "metadata": {},
   "outputs": [
    {
     "data": {
      "text/plain": [
       "9"
      ]
     },
     "execution_count": 20,
     "metadata": {},
     "output_type": "execute_result"
    }
   ],
   "source": [
    "list_array[2][2]"
   ]
  },
  {
   "cell_type": "code",
   "execution_count": 23,
   "id": "504be19a",
   "metadata": {},
   "outputs": [],
   "source": [
    "# assign the value 300 to the vertical index (row) 1 and the horizontal index (column)1\n",
    "list_array[1][1] = 300"
   ]
  },
  {
   "cell_type": "code",
   "execution_count": 24,
   "id": "b67f9b99",
   "metadata": {},
   "outputs": [
    {
     "name": "stdout",
     "output_type": "stream",
     "text": [
      "300\n"
     ]
    }
   ],
   "source": [
    "print(list_array[1][1])"
   ]
  },
  {
   "cell_type": "markdown",
   "id": "49ef88a4",
   "metadata": {},
   "source": [
    "#### 3.Printing elements of a 2D list\n",
    "##### 3.1 Using a for Statement to Print a 2D list"
   ]
  },
  {
   "cell_type": "code",
   "execution_count": 26,
   "id": "da93633c",
   "metadata": {},
   "outputs": [
    {
     "name": "stdout",
     "output_type": "stream",
     "text": [
      "item = [1, 2, 3]\n",
      "item = [4, 5, 6]\n",
      "item = [7, 8, 9]\n"
     ]
    }
   ],
   "source": [
    "list_array = [[1,2,3],[4,5,6],[7,8,9]]\n",
    "for item in list_array :\n",
    "    print('item =', item)"
   ]
  },
  {
   "cell_type": "code",
   "execution_count": 28,
   "id": "4d3c03c4",
   "metadata": {},
   "outputs": [
    {
     "name": "stdout",
     "output_type": "stream",
     "text": [
      "\n",
      "        i = 1\n",
      "        j = 2\n",
      "        k = 3\n",
      "    \n",
      "\n",
      "        i = 4\n",
      "        j = 5\n",
      "        k = 6\n",
      "    \n",
      "\n",
      "        i = 7\n",
      "        j = 8\n",
      "        k = 9\n",
      "    \n"
     ]
    }
   ],
   "source": [
    "list_array = [[1,2,3],[4,5,6],[7,8,9]]\n",
    "for i,j,k in list_array :\n",
    "    print(f\"\"\"\n",
    "        i = {i}\n",
    "        j = {j}\n",
    "        k = {k}\n",
    "    \"\"\")"
   ]
  },
  {
   "cell_type": "markdown",
   "id": "c921a8f0",
   "metadata": {},
   "source": [
    "##### 3.2 2D Lists and ValueError"
   ]
  },
  {
   "cell_type": "code",
   "execution_count": 33,
   "id": "b0cebc63",
   "metadata": {},
   "outputs": [
    {
     "name": "stdout",
     "output_type": "stream",
     "text": [
      "\n",
      "        i = 1\n",
      "        j = 2\n",
      "        k = 3\n",
      "    \n",
      "\n",
      "        i = 4\n",
      "        j = 5\n",
      "        k = 6\n",
      "    \n"
     ]
    },
    {
     "ename": "ValueError",
     "evalue": "not enough values to unpack (expected 3, got 1)",
     "output_type": "error",
     "traceback": [
      "\u001b[0;31m---------------------------------------------------------------------------\u001b[0m",
      "\u001b[0;31mValueError\u001b[0m                                Traceback (most recent call last)",
      "Cell \u001b[0;32mIn[33], line 2\u001b[0m\n\u001b[1;32m      1\u001b[0m list_array \u001b[38;5;241m=\u001b[39m [[\u001b[38;5;241m1\u001b[39m,\u001b[38;5;241m2\u001b[39m,\u001b[38;5;241m3\u001b[39m],[\u001b[38;5;241m4\u001b[39m,\u001b[38;5;241m5\u001b[39m,\u001b[38;5;241m6\u001b[39m],[\u001b[38;5;241m7\u001b[39m]]\n\u001b[0;32m----> 2\u001b[0m \u001b[38;5;28;01mfor\u001b[39;00m i,j,k \u001b[38;5;129;01min\u001b[39;00m list_array :\n\u001b[1;32m      3\u001b[0m     \u001b[38;5;28mprint\u001b[39m(\u001b[38;5;124mf\u001b[39m\u001b[38;5;124m\"\"\"\u001b[39m\n\u001b[1;32m      4\u001b[0m \u001b[38;5;124m        i = \u001b[39m\u001b[38;5;132;01m{\u001b[39;00mi\u001b[38;5;132;01m}\u001b[39;00m\n\u001b[1;32m      5\u001b[0m \u001b[38;5;124m        j = \u001b[39m\u001b[38;5;132;01m{\u001b[39;00mj\u001b[38;5;132;01m}\u001b[39;00m\n\u001b[1;32m      6\u001b[0m \u001b[38;5;124m        k = \u001b[39m\u001b[38;5;132;01m{\u001b[39;00mk\u001b[38;5;132;01m}\u001b[39;00m\n\u001b[1;32m      7\u001b[0m \u001b[38;5;124m    \u001b[39m\u001b[38;5;124m\"\"\"\u001b[39m)\n",
      "\u001b[0;31mValueError\u001b[0m: not enough values to unpack (expected 3, got 1)"
     ]
    }
   ],
   "source": [
    "list_array = [[1,2,3],[4,5,6],[7]]\n",
    "for i,j,k in list_array :\n",
    "    print(f\"\"\"\n",
    "        i = {i}\n",
    "        j = {j}\n",
    "        k = {k}\n",
    "    \"\"\")"
   ]
  },
  {
   "cell_type": "markdown",
   "id": "7e32574f",
   "metadata": {},
   "source": [
    "##### 3.3 Printing  a 2D Lists using te Nested loop 'for' statment"
   ]
  },
  {
   "cell_type": "code",
   "execution_count": 32,
   "id": "085cb49a",
   "metadata": {},
   "outputs": [
    {
     "name": "stdout",
     "output_type": "stream",
     "text": [
      "1 2 3 \n",
      "4 5 6 \n",
      "7 8 9 \n"
     ]
    }
   ],
   "source": [
    "list_array = [[1,2,3],[4,5,6],[7,8,9]]\n",
    "for item in list_array :\n",
    "    for j in item:\n",
    "        print(j,end =' ')\n",
    "    print()"
   ]
  },
  {
   "cell_type": "code",
   "execution_count": 38,
   "id": "a76c74fd",
   "metadata": {},
   "outputs": [
    {
     "name": "stdout",
     "output_type": "stream",
     "text": [
      "1 2 3 \n",
      "4 5 6 \n",
      "7 \n"
     ]
    }
   ],
   "source": [
    "list_array = [[1,2,3],[4,5,6],[7]]\n",
    "for i in list_array :\n",
    "    for j in i :\n",
    "        print (j, end = ' ')\n",
    "    print()"
   ]
  },
  {
   "cell_type": "markdown",
   "id": "44abc594",
   "metadata": {},
   "source": [
    "![alt text](images/Lession%2012/12.3.3.png)"
   ]
  },
  {
   "cell_type": "markdown",
   "id": "b880bf56",
   "metadata": {},
   "source": [
    "##### 3.4 Output using index"
   ]
  },
  {
   "cell_type": "code",
   "execution_count": 42,
   "id": "48bea83c",
   "metadata": {},
   "outputs": [
    {
     "name": "stdout",
     "output_type": "stream",
     "text": [
      "1 2 3 \n",
      "4 5 6 \n",
      "7 8 9 \n"
     ]
    }
   ],
   "source": [
    "list_array = [[1,2,3],[4,5,6],[7,8,9]]\n",
    "for i in range(len(list_array)):\n",
    "    for j in range(len(list_array[i])):\n",
    "        print(list_array[i][j], end =' ')\n",
    "    print()"
   ]
  },
  {
   "cell_type": "code",
   "execution_count": 43,
   "id": "ba8c992e",
   "metadata": {
    "scrolled": true
   },
   "outputs": [
    {
     "name": "stdout",
     "output_type": "stream",
     "text": [
      "1 2 3 \n",
      "4 5 6 \n",
      "7 \n"
     ]
    }
   ],
   "source": [
    "list_array = [[1,2,3],[4,5,6],[7]]\n",
    "for i in range(len(list_array)):##### 3.4 Output using index\n",
    "    for j in range(len(list_array[i])):\n",
    "        print(list_array[i][j], end =' ')\n",
    "    print()"
   ]
  },
  {
   "cell_type": "markdown",
   "id": "17b20965",
   "metadata": {},
   "source": [
    "##### 3.5 Printing a 2D list using a while statment "
   ]
  },
  {
   "cell_type": "code",
   "execution_count": 45,
   "id": "630a4cd0",
   "metadata": {},
   "outputs": [
    {
     "name": "stdout",
     "output_type": "stream",
     "text": [
      "1 2 3\n",
      "4 5 6\n",
      "7 8 9\n"
     ]
    }
   ],
   "source": [
    "list_array = [[1,2,3],[4,5,6],[7,8,9]]\n",
    "i = 0\n",
    "while i < len(list_array): #(Explain The while statement repeats as manay time as the number of inner \n",
    "    # lists in list_array)\n",
    "    a,b,c = list_array[i] #(a,b,c are assignd the items of list_array[i],so if i is 0, they will be assigned 1,2,3 respectively)\n",
    "    print(a,b,c)\n",
    "    i += 1"
   ]
  },
  {
   "cell_type": "markdown",
   "id": "2b5c50bc",
   "metadata": {},
   "source": [
    "#### 4. Assignment of a 2D list\n",
    "##### 4.1 Reference vs Copy"
   ]
  },
  {
   "cell_type": "code",
   "execution_count": 46,
   "id": "e101068a",
   "metadata": {},
   "outputs": [
    {
     "name": "stdout",
     "output_type": "stream",
     "text": [
      "[[1, 2, 3], [4, 5, 6], [7, 8, 9]]\n"
     ]
    }
   ],
   "source": [
    "list_array = [[1,2,3],[4,5,6],[7,8,9]]\n",
    "list1 = list_array\n",
    "print(list1)"
   ]
  },
  {
   "cell_type": "code",
   "execution_count": 48,
   "id": "71dbb3ce",
   "metadata": {},
   "outputs": [
    {
     "name": "stdout",
     "output_type": "stream",
     "text": [
      "[[90, 2, 3], [4, 5, 6], [7, 8, 9]]\n",
      "[[90, 2, 3], [4, 5, 6], [7, 8, 9]]\n"
     ]
    }
   ],
   "source": [
    "list1[0][0] = 90 \n",
    "print(list_array) \n",
    "print(list1)"
   ]
  },
  {
   "cell_type": "markdown",
   "id": "7a567922",
   "metadata": {},
   "source": [
    "![alt text](images/Lession%2012/4.1.png)"
   ]
  },
  {
   "cell_type": "code",
   "execution_count": 50,
   "id": "69e65547",
   "metadata": {},
   "outputs": [
    {
     "name": "stdout",
     "output_type": "stream",
     "text": [
      "[[1, 2, 3], [4, 5, 6], [7, 8, 9]]\n",
      "False\n"
     ]
    }
   ],
   "source": [
    "import copy #import modul copy \n",
    "list_array = [[1,2,3],[4,5,6],[7,8,9]] #create 2D list\n",
    "list1 = copy.deepcopy(list_array)#using deepcopy function to copy the list_array and assign it to List1 \n",
    "list1 [0][0] = 90 # change value of row 1 column 1 in the list 1 (form 5 to 90)\n",
    "print(list_array) # print the element of list_array\n",
    "print(list_array is list1) # using the boolen expression function \"IS\" to the list_array is list 1 (or the list_array has the same element as list 1)"
   ]
  },
  {
   "cell_type": "markdown",
   "id": "ec1bb4f6",
   "metadata": {},
   "source": [
    "#### 5. Creating a jagaed list\n",
    "##### 5.1 Code example of a jagged list"
   ]
  },
  {
   "cell_type": "code",
   "execution_count": 52,
   "id": "24708191",
   "metadata": {},
   "outputs": [
    {
     "name": "stdout",
     "output_type": "stream",
     "text": [
      "[[0], [0, 1], [0, 1, 2], [0, 1, 2, 3], [0, 1, 2, 3, 4]]\n"
     ]
    }
   ],
   "source": [
    "list1 =[1,2,3,4,5] # the width (number of items in the inner lists) of jagged list is stored in list1\n",
    "list2 = [] #The jagged list to created is list2, and empty list\n",
    "for i in list1 : # assign i to each item in list 1\n",
    "    line = []\n",
    "    for j in range(i):# 6-7 \n",
    "        line.append(j)# in the inner loop, a ranges ssequence generated with i is appenden to the 'line'\n",
    "        # list using the append method\n",
    "    list2.append(line)#in the outer \n",
    "print(list2)"
   ]
  },
  {
   "cell_type": "markdown",
   "id": "fcef0cdb",
   "metadata": {},
   "source": [
    "![alt text](images/Lession%2012/12.5.1.png)"
   ]
  },
  {
   "cell_type": "code",
   "execution_count": 54,
   "id": "893b0c1b",
   "metadata": {},
   "outputs": [
    {
     "name": "stdout",
     "output_type": "stream",
     "text": [
      "[[0], [0, 1], [0, 1, 2], [0, 1, 2, 3], [0, 1, 2, 3, 4]]\n"
     ]
    }
   ],
   "source": [
    "list = [[0],\n",
    "        [0,1],\n",
    "        [0,1,2],\n",
    "        [0,1,2,3],\n",
    "        [0,1,2,3,4]]\n",
    "print(list2)"
   ]
  },
  {
   "cell_type": "markdown",
   "id": "44fecd79",
   "metadata": {},
   "source": [
    "##### 5.2 Example code for creating a jagged list using the nested loop for statment "
   ]
  },
  {
   "cell_type": "markdown",
   "id": "7be4cadf",
   "metadata": {},
   "source": [
    "![alt text](images/Lession%2012/12.5.2.png)"
   ]
  },
  {
   "cell_type": "code",
   "execution_count": 56,
   "id": "04ffb160",
   "metadata": {},
   "outputs": [
    {
     "name": "stdout",
     "output_type": "stream",
     "text": [
      "0 \n",
      "0 1 \n",
      "0 1 2 \n",
      "0 1 2 3 \n",
      "0 1 2 3 4 \n"
     ]
    }
   ],
   "source": [
    "list1=[1,2,3,4,5]\n",
    "list2=[]\n",
    "for i in list1:\n",
    "    line = []\n",
    "    for j in range(i):\n",
    "        line.append(j)\n",
    "        print(j,end=' ')\n",
    "    list2.append(line)\n",
    "    print()"
   ]
  },
  {
   "cell_type": "markdown",
   "id": "bc1f8bd0",
   "metadata": {},
   "source": [
    "##### 5.3 Example code for creating a jagged list using the nessted for loop and randint method"
   ]
  },
  {
   "cell_type": "markdown",
   "id": "d83f770a",
   "metadata": {},
   "source": [
    "![alt text](images/Lession%2012/12.5.3.png)"
   ]
  },
  {
   "cell_type": "code",
   "execution_count": 61,
   "id": "9f1d28fd",
   "metadata": {},
   "outputs": [
    {
     "name": "stdout",
     "output_type": "stream",
     "text": [
      "16 \n",
      "58 64 \n",
      "61 50 98 \n",
      "5 95 35 95 \n",
      "19 67 100 1 15 \n"
     ]
    }
   ],
   "source": [
    "import random \n",
    "list1 = [1,2,3,4,5]\n",
    "list2 = []\n",
    "for i in list1:\n",
    "    line = []\n",
    "    for j in range(i):\n",
    "        line.append(random.randint(1,100))\n",
    "    list2.append(line)\n",
    "    \n",
    "for i in list2:\n",
    "    for j in i :\n",
    "        print(j,end =' ')\n",
    "    print()"
   ]
  },
  {
   "cell_type": "markdown",
   "id": "4b7f306f",
   "metadata": {},
   "source": [
    "##### 5.4 Example code for creating a jagged list using a one-liner expression"
   ]
  },
  {
   "cell_type": "code",
   "execution_count": 63,
   "id": "86b92b9d",
   "metadata": {},
   "outputs": [
    {
     "name": "stdout",
     "output_type": "stream",
     "text": [
      "[[0], [0, 0], [0, 0, 0], [0, 0, 0, 0], [0, 0, 0, 0, 0]]\n"
     ]
    }
   ],
   "source": [
    "list1 =[[0] * i for i in [1,2,3,4,5]]\n",
    "print(list1)"
   ]
  },
  {
   "cell_type": "code",
   "execution_count": 65,
   "id": "14c45179",
   "metadata": {},
   "outputs": [
    {
     "name": "stdout",
     "output_type": "stream",
     "text": [
      "0 \n",
      "0 0 \n",
      "0 0 0 \n",
      "0 0 0 0 \n",
      "0 0 0 0 0 \n"
     ]
    }
   ],
   "source": [
    "# creating a jagged list using a nests for loop\n",
    "for i in list1:\n",
    "    for j in i :\n",
    "        print(j,end=' ')\n",
    "    print()"
   ]
  },
  {
   "cell_type": "code",
   "execution_count": 66,
   "id": "6506706c",
   "metadata": {},
   "outputs": [
    {
     "name": "stdout",
     "output_type": "stream",
     "text": [
      "[[10], [20, 20], [30, 30, 30], [40, 40, 40, 40], [50, 50, 50, 50, 50]]\n"
     ]
    }
   ],
   "source": [
    "#add  new items to the jagged list \n",
    "list1 = [[10 * i]*i for i in [1,2,3,4,5]]\n",
    "print(list1)"
   ]
  },
  {
   "cell_type": "code",
   "execution_count": 67,
   "id": "21c7b9b0",
   "metadata": {},
   "outputs": [
    {
     "name": "stdout",
     "output_type": "stream",
     "text": [
      "[[10, 99], [20, 20, 77], [30, 30, 30], [40, 40, 40, 40], [50, 50, 50, 50, 50]]\n"
     ]
    }
   ],
   "source": [
    "list1[0].append(99)\n",
    "list1[1].append(77)\n",
    "print(list1)"
   ]
  },
  {
   "cell_type": "markdown",
   "id": "ce2ef651",
   "metadata": {},
   "source": [
    "#### Paper Code "
   ]
  },
  {
   "cell_type": "markdown",
   "id": "4c6db933",
   "metadata": {},
   "source": [
    "![alt text](images/Lession%2012/Paper%20code%20Q1.png)"
   ]
  },
  {
   "cell_type": "code",
   "execution_count": 95,
   "id": "5981efa1",
   "metadata": {},
   "outputs": [
    {
     "data": {
      "text/plain": [
       "30"
      ]
     },
     "execution_count": 95,
     "metadata": {},
     "output_type": "execute_result"
    }
   ],
   "source": [
    "list_array = [[10,20],[30,40],[50,60]]\n",
    "list_array[1][0]"
   ]
  },
  {
   "cell_type": "markdown",
   "id": "7a8e0875",
   "metadata": {},
   "source": [
    "![alt text](images/Lession%2012/Paper%20code%20Q2.png)"
   ]
  },
  {
   "cell_type": "code",
   "execution_count": 100,
   "id": "be0d8141",
   "metadata": {},
   "outputs": [
    {
     "name": "stdout",
     "output_type": "stream",
     "text": [
      "1234\n",
      "5678\n",
      "9101112\n",
      "13141516\n"
     ]
    }
   ],
   "source": [
    "list_array = [[1,2,3,4],[5,6,7,8],[9,10,11,12],[13,14,15,16]]\n",
    "for item in list_array :\n",
    "    for j in item:\n",
    "        print(j,end='')\n",
    "    print()\n",
    "    \n",
    "    "
   ]
  },
  {
   "cell_type": "markdown",
   "id": "7be8f385",
   "metadata": {},
   "source": [
    "#### Let code"
   ]
  },
  {
   "cell_type": "markdown",
   "id": "6738233c",
   "metadata": {},
   "source": [
    "![alt text](images/Lession%2012/Mission.png)"
   ]
  },
  {
   "cell_type": "code",
   "execution_count": 77,
   "id": "ba02504c",
   "metadata": {},
   "outputs": [
    {
     "name": "stdout",
     "output_type": "stream",
     "text": [
      "1 0 0 1 0 1 \n",
      "0 0 1 1 0 0 \n",
      "0 0 1 0 0 0 \n",
      "The number of seats left in the movie theater : 12\n"
     ]
    }
   ],
   "source": [
    "import random #import the random module\n",
    "\n",
    "seat = [] # create an empty list vairable class seat tor store 3 rows and 6 columns of seats\n",
    "#Create a nested loop (or double loop) using a for statement for the 3 row and 6 columns\n",
    "for i in range(3): \n",
    "    line = [] #create an empty to store the seats of each row, \n",
    "    for j in range(6):\n",
    "        rand = random.randrange(0,2) # assign random numbers of 1 and 0 to the rand variabe\n",
    "        line.append(rand) #append the random number to the end of the line list \n",
    "    seat.append(line) #append the line list to the end of the 'seat 'list\n",
    "available = 0 # set the value of the avaiable which will store the otal number of remaing seats avaible to 0 \n",
    "#Create nestd loop to print thestatus ofthe 'seat 'list\n",
    "for i in range(3):\n",
    "    for j in range(6):\n",
    "        print(seat[i][j],'',end='')\n",
    "        if seat[i][j] == 0: #to check if the value of i-th row and j-th column in the seat list is 0\n",
    "            available += 1 #if the seat is empty (value is 0), increment the available variable by 1\n",
    "    print() # print in a 3 rows and 6 columns format\n",
    "\n",
    "print(\"The number of seats left in the movie theater :\",available)"
   ]
  },
  {
   "cell_type": "markdown",
   "id": "942b8aca",
   "metadata": {},
   "source": [
    "#### Pair Programming"
   ]
  },
  {
   "cell_type": "markdown",
   "id": "4ec6a8dc",
   "metadata": {},
   "source": [
    "![alt text](images/Lession%2012/Pair%20programming%20Q1.png)"
   ]
  },
  {
   "cell_type": "code",
   "execution_count": 83,
   "id": "c959d79d",
   "metadata": {},
   "outputs": [
    {
     "name": "stdout",
     "output_type": "stream",
     "text": [
      "140\n"
     ]
    }
   ],
   "source": [
    "#Q5\n",
    "list_array = [[10 * i] * i for i in range(1,4)]\n",
    "num = 0\n",
    "for item in list_array:\n",
    "    for k in item:\n",
    "        num += k\n",
    "print(num)"
   ]
  },
  {
   "cell_type": "code",
   "execution_count": 84,
   "id": "cf0fe9c0",
   "metadata": {},
   "outputs": [
    {
     "name": "stdout",
     "output_type": "stream",
     "text": [
      "6\n"
     ]
    }
   ],
   "source": [
    "#Test 2\n",
    "list_array = [i for i in range(5) if i % 2 == 0]\n",
    "num = 0\n",
    "for item in list_array:\n",
    "    num += item\n",
    "    \n",
    "print(num)"
   ]
  },
  {
   "cell_type": "code",
   "execution_count": 85,
   "id": "c8e13838",
   "metadata": {},
   "outputs": [
    {
     "name": "stdout",
     "output_type": "stream",
     "text": [
      "30\n"
     ]
    }
   ],
   "source": [
    "#Test 1\n",
    "list_array = [i** 2 for i in range(5)]\n",
    "num = 0\n",
    "for item in list_array:\n",
    "    num += item\n",
    "    \n",
    "print(num)"
   ]
  },
  {
   "cell_type": "code",
   "execution_count": 87,
   "id": "4ca8878d",
   "metadata": {},
   "outputs": [
    {
     "name": "stdout",
     "output_type": "stream",
     "text": [
      "12\n"
     ]
    }
   ],
   "source": [
    "#Test 3\n",
    "list_array = [[2] * 2 for i in range(3)]\n",
    "num = 0\n",
    "for item in list_array:\n",
    "    for j in item:\n",
    "        num += j  \n",
    "print(num)"
   ]
  },
  {
   "cell_type": "code",
   "execution_count": 88,
   "id": "9e2387d6",
   "metadata": {},
   "outputs": [
    {
     "name": "stdout",
     "output_type": "stream",
     "text": [
      "27\n"
     ]
    }
   ],
   "source": [
    "#Test 4\n",
    "list_array = [[3 for i in range(3)] for j in range(3)]\n",
    "num = 0\n",
    "for item in list_array:\n",
    "    for k in item:\n",
    "        num += k\n",
    "    \n",
    "print(num)"
   ]
  },
  {
   "cell_type": "markdown",
   "id": "1a704050",
   "metadata": {},
   "source": [
    "### Lession 13 File Input/Output and Exception Handling"
   ]
  },
  {
   "cell_type": "markdown",
   "id": "a7fd21a8",
   "metadata": {},
   "source": [
    "#### 1.Exception handling\n",
    "##### 1.1 The importance of exception handling \n",
    "<li> Programmers need to code for exceptional stiualtions. There is a risk of programm interruption due to incorrect input</li>\n",
    "<li>To handle unexpected situaltions where exceptions may occur ,they should be wrapped in a try-except statement</li>\n"
   ]
  },
  {
   "cell_type": "code",
   "execution_count": 3,
   "id": "0c5eb5ee",
   "metadata": {},
   "outputs": [
    {
     "name": "stdout",
     "output_type": "stream",
     "text": [
      "Enter two numbers:10 2\n",
      "10/2 = 5.0\n"
     ]
    }
   ],
   "source": [
    "try:\n",
    "    a,b = input(\"Enter two numbers:\").split()\n",
    "    result = int(a) / int(b)\n",
    "    print('{}/{} = {}'.format(a,b,result))\n",
    "except:\n",
    "    print(\"please check if the numbers are correct.\")"
   ]
  },
  {
   "cell_type": "code",
   "execution_count": 4,
   "id": "ce6c74f0",
   "metadata": {},
   "outputs": [
    {
     "name": "stdout",
     "output_type": "stream",
     "text": [
      "Enter two numbers:100 two\n",
      "please check if the numbers are correct.\n"
     ]
    }
   ],
   "source": [
    "try:\n",
    "    a,b = input(\"Enter two numbers:\").split()\n",
    "    result = int(a) / int(b)\n",
    "    print('{}/{} = {}'.format(a,b,result))\n",
    "except:\n",
    "    print(\"please check if the numbers are correct.\")"
   ]
  },
  {
   "cell_type": "code",
   "execution_count": 5,
   "id": "864c49df",
   "metadata": {},
   "outputs": [
    {
     "name": "stdout",
     "output_type": "stream",
     "text": [
      "Enter two numbers:100 0\n",
      "please check if the numbers are correct.\n"
     ]
    }
   ],
   "source": [
    "try:\n",
    "    a,b = input(\"Enter two numbers:\").split()\n",
    "    result = int(a) / int(b)\n",
    "    print('{}/{} = {}'.format(a,b,result))\n",
    "except:\n",
    "    print(\"please check if the numbers are correct.\")"
   ]
  },
  {
   "cell_type": "markdown",
   "id": "773b48d8",
   "metadata": {},
   "source": [
    "![alt text](images/Lession%2013/13.1.1.png)"
   ]
  },
  {
   "cell_type": "markdown",
   "id": "374a857e",
   "metadata": {},
   "source": [
    "##### 1.2 try -except Exception as e statment "
   ]
  },
  {
   "cell_type": "code",
   "execution_count": 7,
   "id": "14c2730d",
   "metadata": {},
   "outputs": [
    {
     "name": "stdout",
     "output_type": "stream",
     "text": [
      "Error : division by zero\n"
     ]
    }
   ],
   "source": [
    "try : \n",
    "    b =  2 / 0\n",
    "    a = 1 + 'hundred'\n",
    "except Exception as e:\n",
    "    print(\"Error :\", e)"
   ]
  },
  {
   "cell_type": "code",
   "execution_count": 8,
   "id": "e0ecdd3a",
   "metadata": {},
   "outputs": [
    {
     "data": {
      "text/plain": [
       "Exception"
      ]
     },
     "execution_count": 8,
     "metadata": {},
     "output_type": "execute_result"
    }
   ],
   "source": [
    "Exception"
   ]
  },
  {
   "cell_type": "code",
   "execution_count": 9,
   "id": "14409428",
   "metadata": {},
   "outputs": [
    {
     "name": "stdout",
     "output_type": "stream",
     "text": [
      "<class 'Exception'>\n"
     ]
    }
   ],
   "source": [
    "print(Exception)"
   ]
  },
  {
   "cell_type": "markdown",
   "id": "819420b2",
   "metadata": {},
   "source": [
    "##### 1.3 try -except statment  and exception types "
   ]
  },
  {
   "cell_type": "code",
   "execution_count": 10,
   "id": "cadd8152",
   "metadata": {},
   "outputs": [
    {
     "name": "stdout",
     "output_type": "stream",
     "text": [
      "Enter the radius:three\n",
      "Invalid input. Please enter a number for the radius\n",
      "Enter the radius:3\n",
      "The area of a circle with radius 3.0 is 28.26\n"
     ]
    }
   ],
   "source": [
    "while True:\n",
    "    try :\n",
    "        radius = float(input(\"Enter the radius:\"))\n",
    "        area = 3.14 * (radius ** 2)\n",
    "        print(f\"The area of a circle with radius {radius} is {area}\")\n",
    "        break\n",
    "    except ValueError:\n",
    "        print(\"Invalid input. Please enter a number for the radius\")"
   ]
  },
  {
   "cell_type": "code",
   "execution_count": 1,
   "id": "3b34bf42",
   "metadata": {},
   "outputs": [
    {
     "name": "stdout",
     "output_type": "stream",
     "text": [
      "Thhe index desn't exits\n"
     ]
    }
   ],
   "source": [
    "a = [1,2,3]\n",
    "try: \n",
    "    print(a[4])\n",
    "except IndexError:\n",
    "    print(\"Thhe index desn't exits\")"
   ]
  },
  {
   "cell_type": "markdown",
   "id": "5d524a6a",
   "metadata": {},
   "source": [
    "![alt text](images/Lession%2013/13.3.1(1).png)"
   ]
  },
  {
   "cell_type": "markdown",
   "id": "f3a37467",
   "metadata": {},
   "source": [
    "##### 1.4 try-except-else-finally statement"
   ]
  },
  {
   "cell_type": "code",
   "execution_count": 3,
   "id": "5ba1cfd1",
   "metadata": {},
   "outputs": [
    {
     "name": "stdout",
     "output_type": "stream",
     "text": [
      "Calling divide(100 , 2) fucntion :\n",
      "Result 50.0\n",
      "Execution complete\n",
      "Calling divide(100 , 0)  function :\n",
      "Error : Division by zero!\n",
      "Execution complete\n"
     ]
    }
   ],
   "source": [
    "def divide(x,y):\n",
    "    try:\n",
    "        result = x / y\n",
    "    except ZeroDivisionError:\n",
    "        print(\"Error : Division by zero!\")\n",
    "    else:\n",
    "        print(\"Result\",result)\n",
    "    finally:\n",
    "        print(\"Execution complete\")\n",
    "\n",
    "print(\"Calling divide(100 , 2) fucntion :\")\n",
    "divide(100,2)\n",
    "print(\"Calling divide(100 , 0)  function :\")\n",
    "divide(100, 0)"
   ]
  },
  {
   "cell_type": "markdown",
   "id": "5f9939fb",
   "metadata": {},
   "source": [
    "![alt text](images/Lession%2013/13.1.4.png)"
   ]
  },
  {
   "cell_type": "markdown",
   "id": "fabbc8b1",
   "metadata": {},
   "source": [
    "#### 2.File input / output \n",
    "##### 2.1 What is a file \n",
    "<br>\n",
    "<li>A file is a logical unit used to store data within a computer's storage device\n",
    "<br>\n",
    "<li>Once stored in storage devices such as a hard disk or external disk m the data can be retrieved and used whenever neccessaray"
   ]
  },
  {
   "cell_type": "markdown",
   "id": "d3ee4586",
   "metadata": {},
   "source": [
    "##### 2.2 Step to use file in Python "
   ]
  },
  {
   "cell_type": "markdown",
   "id": "a5783b20",
   "metadata": {},
   "source": [
    "![alt text](images/Lession%2013/13.2.2.png)"
   ]
  },
  {
   "cell_type": "markdown",
   "id": "7b34c2a1",
   "metadata": {},
   "source": [
    "##### 2.3 The open function "
   ]
  },
  {
   "cell_type": "code",
   "execution_count": 4,
   "id": "f3ce71b0",
   "metadata": {},
   "outputs": [
    {
     "data": {
      "text/plain": [
       "<function TextIOWrapper.close()>"
      ]
     },
     "execution_count": 4,
     "metadata": {},
     "output_type": "execute_result"
    }
   ],
   "source": [
    "open_file = open('hello.txt','w')\n",
    "open_file.write('Hello world')\n",
    "open_file.close"
   ]
  },
  {
   "cell_type": "markdown",
   "id": "b0dd3a7c",
   "metadata": {},
   "source": [
    "![alt text](images/Lession%2013/13.2.3.png)"
   ]
  },
  {
   "cell_type": "code",
   "execution_count": 6,
   "id": "3e8134ed",
   "metadata": {},
   "outputs": [
    {
     "name": "stdout",
     "output_type": "stream",
     "text": [
      "/Users/anbschool0022/Documents/Phem Dararaksmey/Python\n"
     ]
    }
   ],
   "source": [
    "import os \n",
    "cwd = os.getcwd()\n",
    "print(cwd)"
   ]
  },
  {
   "cell_type": "markdown",
   "id": "85eab735",
   "metadata": {},
   "source": [
    "##### 2.4 Various file input / output mode of the open function "
   ]
  },
  {
   "cell_type": "markdown",
   "id": "a4139b7f",
   "metadata": {},
   "source": [
    "![alt text](images/Lession%2013/13.2.4.png)"
   ]
  },
  {
   "cell_type": "markdown",
   "id": "637286ca",
   "metadata": {},
   "source": [
    "![alt text](images/Lession%2013/13.2.4.1.png)"
   ]
  },
  {
   "cell_type": "markdown",
   "id": "90962bd7",
   "metadata": {},
   "source": [
    "##### 2.5 Example code for the open function \n"
   ]
  },
  {
   "cell_type": "code",
   "execution_count": 7,
   "id": "c513c590",
   "metadata": {},
   "outputs": [],
   "source": [
    "open_file = open('hello.txt','wt') # w mean write mode and text mode mean create text file "
   ]
  },
  {
   "cell_type": "code",
   "execution_count": 8,
   "id": "4d145b71",
   "metadata": {},
   "outputs": [],
   "source": [
    "open_file = open('hello.txt','wb') # w mean write mode and b binary mode mean create binary file "
   ]
  },
  {
   "cell_type": "code",
   "execution_count": 9,
   "id": "a971d01f",
   "metadata": {},
   "outputs": [],
   "source": [
    "open_file = open('hello.txt','r+t') # r mean read mode and t mean create text file and + is combination "
   ]
  },
  {
   "cell_type": "markdown",
   "id": "82d78fd9",
   "metadata": {},
   "source": [
    "##### 2.6 write metod()"
   ]
  },
  {
   "cell_type": "code",
   "execution_count": 10,
   "id": "f03c3f4a",
   "metadata": {},
   "outputs": [],
   "source": [
    "open_file = open('hello.txt','w+t') # default mode for (w + t ) is write mode but it also allows reading "
   ]
  },
  {
   "cell_type": "code",
   "execution_count": 12,
   "id": "ad6cd4d0",
   "metadata": {},
   "outputs": [],
   "source": [
    "open_file = open('hello.txt','a+t') # 'a + t' mode appends content to the end of an existing file preserving all its previous contents it allows reading as well and creates the file if it done's extit"
   ]
  },
  {
   "cell_type": "code",
   "execution_count": 13,
   "id": "a3a46def",
   "metadata": {},
   "outputs": [
    {
     "data": {
      "text/plain": [
       "32"
      ]
     },
     "execution_count": 13,
     "metadata": {},
     "output_type": "execute_result"
    }
   ],
   "source": [
    "open_file.write('Love of my life, you\\'ve hurt me\\n')\n",
    "open_file.write('You\\'ve broken my heart and now you leave me\\n')\n",
    "open_file.write('Love of my life, can\\'t you see?\\n')"
   ]
  },
  {
   "cell_type": "markdown",
   "id": "6cb1e1bf",
   "metadata": {},
   "source": [
    "##### 2.7 close metod()"
   ]
  },
  {
   "cell_type": "code",
   "execution_count": 14,
   "id": "43a57d49",
   "metadata": {},
   "outputs": [],
   "source": [
    "open_file.close()"
   ]
  },
  {
   "cell_type": "markdown",
   "id": "1ed5e06a",
   "metadata": {},
   "source": [
    "![alt text](images/Lession%2013/13.2.7.png)"
   ]
  },
  {
   "cell_type": "markdown",
   "id": "2c9ae2d9",
   "metadata": {},
   "source": [
    "![alt text](images/Lession%2013/13.2.7.1.png)"
   ]
  },
  {
   "cell_type": "markdown",
   "id": "e2082b98",
   "metadata": {},
   "source": [
    "##### 2.8 read metod()"
   ]
  },
  {
   "cell_type": "code",
   "execution_count": 16,
   "id": "16cd0a2f",
   "metadata": {},
   "outputs": [
    {
     "name": "stdout",
     "output_type": "stream",
     "text": [
      "Love of my life, you've hurt me\n",
      "You've broken my heart and now you leave me\n",
      "Love of my life, can't you see?\n",
      "\n"
     ]
    }
   ],
   "source": [
    "Open_file = open('hello.txt','r')\n",
    "Read_file = Open_file.read()\n",
    "print(Read_file)\n",
    "Open_file.close()"
   ]
  },
  {
   "cell_type": "code",
   "execution_count": 17,
   "id": "12b5f1d0",
   "metadata": {},
   "outputs": [
    {
     "name": "stdout",
     "output_type": "stream",
     "text": [
      "Love \n"
     ]
    }
   ],
   "source": [
    "Open_file = open('hello.txt','r')\n",
    "Read_file = Open_file.read(5)\n",
    "print(Read_file)\n",
    "Open_file.close()"
   ]
  },
  {
   "cell_type": "markdown",
   "id": "71df9936",
   "metadata": {},
   "source": [
    "##### 2.9 readline method"
   ]
  },
  {
   "cell_type": "code",
   "execution_count": 20,
   "id": "07d143fe",
   "metadata": {
    "scrolled": true
   },
   "outputs": [
    {
     "name": "stdout",
     "output_type": "stream",
     "text": [
      "Love of my life, you've hurt me\n",
      " You've broken my heart and now you leave me\n",
      " "
     ]
    }
   ],
   "source": [
    "Open_file = open('hello.txt','r')\n",
    "Read_file = Open_file.readline() #read the first line of the file\n",
    "print(Read_file,end=' ')\n",
    "Read_file = Open_file.readline() #if it's calling again it's read the next line\n",
    "print(Read_file,end=' ')\n",
    "Open_file.close()"
   ]
  },
  {
   "cell_type": "markdown",
   "id": "bd88fc6e",
   "metadata": {},
   "source": [
    "##### 2.10 Example of Writing and Reading with File Appending "
   ]
  },
  {
   "cell_type": "code",
   "execution_count": 21,
   "id": "62e5a662",
   "metadata": {},
   "outputs": [],
   "source": [
    "open_file = open('hello.txt','a+')\n",
    "open_file.write(\"This is appened.\\n\")\n",
    "open_file.write(\"This too.\\n\")\n",
    "open_file.close()"
   ]
  },
  {
   "cell_type": "code",
   "execution_count": 22,
   "id": "fd57c41b",
   "metadata": {},
   "outputs": [
    {
     "name": "stdout",
     "output_type": "stream",
     "text": [
      "Love of my life, you've hurt me\n",
      "You've broken my heart and now you leave me\n",
      "Love of my life, can't you see?\n",
      "This is appened.\n",
      "This too.\n",
      "\n"
     ]
    }
   ],
   "source": [
    "Open_file = open('hello.txt','r')\n",
    "Read_file = Open_file.read()\n",
    "print(Read_file)\n",
    "Open_file.close()"
   ]
  },
  {
   "cell_type": "markdown",
   "id": "2aa076a3",
   "metadata": {},
   "source": [
    "##### 2.11 File input and Output for Data Processing "
   ]
  },
  {
   "cell_type": "code",
   "execution_count": 38,
   "id": "2a78c621",
   "metadata": {},
   "outputs": [
    {
     "name": "stdout",
     "output_type": "stream",
     "text": [
      "Enter an integer :10\n",
      "Enter an integer :20\n",
      "Enter an integer :30\n",
      "Enter an integer :40\n",
      "Enter an integer :50\n"
     ]
    }
   ],
   "source": [
    "#step one input the integer in to file\n",
    "f = open('data5.txt','w')\n",
    "for _ in range(5):\n",
    "    n = input(\"Enter an integer :\")\n",
    "    f.write(n)\n",
    "    f.write('\\n')\n",
    "f.close()"
   ]
  },
  {
   "cell_type": "code",
   "execution_count": 39,
   "id": "f54f52df",
   "metadata": {},
   "outputs": [
    {
     "name": "stdout",
     "output_type": "stream",
     "text": [
      "The um of five number = 150, average = 30.0\n"
     ]
    }
   ],
   "source": [
    "#step two read file from the text file (data 5.txt)\n",
    "f = open('data5.txt','r')\n",
    "su = 0\n",
    "for _ in range(5):\n",
    "    n = int(f.readline()) #Convert number from data5 (string to int)\n",
    "    su += n\n",
    "print('The um of five number = {}, average = {}'.format(su, su /5))\n",
    "f.close()"
   ]
  },
  {
   "cell_type": "markdown",
   "id": "1fb81a7a",
   "metadata": {},
   "source": [
    "##### 2.12 With-as statement\n",
    "<li> The with-as statment allows for simple writting and clossing files\n",
    "<li> Since the file writing is completed, f.close is automatically performed, eliminating the need for a finally statement "
   ]
  },
  {
   "cell_type": "code",
   "execution_count": null,
   "id": "95299ac7",
   "metadata": {},
   "outputs": [],
   "source": [
    "with open(\"hello.txt\",'w')as f:\n",
    "    f.write('hello world!')"
   ]
  },
  {
   "cell_type": "markdown",
   "id": "742abb47",
   "metadata": {},
   "source": [
    "![alt text](images/Lession%2013/13.2.11.png)"
   ]
  },
  {
   "cell_type": "code",
   "execution_count": 42,
   "id": "16b35497",
   "metadata": {},
   "outputs": [
    {
     "name": "stdout",
     "output_type": "stream",
     "text": [
      "b'<!doctype html>\\n<!--[if lt IE 7]>   <html class=\"no-js ie6 lt-ie7 lt-ie8 lt-ie9\">   <![endif]-->\\n<!--[if IE 7]>      <html class=\"no-js ie7 lt-ie8 lt-ie9\">          <![endif]-->\\n<!--[if IE 8]>      <html class=\"no-js ie8 lt-ie9\">                 <![endif]-->\\n<!--[if gt IE 8]><!--><html class=\"no-js\" lang=\"en\" dir=\"ltr\">  <!--<![endif]-->\\n\\n<head>\\n    <!-- Google tag (gtag.js) -->\\n    <script async src=\"https://www.googletagmanager.com/gtag/js?id=G-TF35YF9CVH\"></script>\\n    <script>\\n      window.dataLayer = window.dataLayer || [];\\n      function gtag(){dataLayer.push(arguments);}\\n      gtag(\\'js\\', new Date());\\n      gtag(\\'config\\', \\'G-TF35YF9CVH\\');\\n    </script>\\n\\n    <meta charset=\"utf-8\">\\n    <meta http-equiv=\"X-UA-Compatible\" content=\"IE=edge\">\\n\\n    <link rel=\"prefetch\" href=\"//ajax.googleapis.com/ajax/libs/jquery/1.8.2/jquery.min.js\">\\n    <link rel=\"prefetch\" href=\"//ajax.googleapis.com/ajax/libs/jqueryui/1.12.1/jquery-ui.min.js\">\\n\\n    <meta name=\"application-name\" content=\"Python.org\">\\n    <meta name=\"msapplication-tooltip\" content=\"The official home of the Python Programming Language\">\\n    <meta name=\"apple-mobile-web-app-title\" content=\"Python.org\">\\n    <meta name=\"apple-mobile-web-app-capable\" content=\"yes\">\\n    <meta name=\"apple-mobile-web-app-status-bar-style\" content=\"black\">\\n\\n    <meta name=\"viewport\" content=\"width=device-width, initial-scale=1.0\">\\n    <meta name=\"HandheldFriendly\" content=\"True\">\\n    <meta name=\"format-detection\" content=\"telephone=no\">\\n    <meta http-equiv=\"cleartype\" content=\"on\">\\n    <meta http-equiv=\"imagetoolbar\" content=\"false\">\\n\\n    <script async\\n            src=\"https://media.ethicalads.io/media/client/v1.4.0/ethicalads.min.js\"\\n            integrity=\"sha256-U3hKDidudIaxBDEzwGJApJgPEf2mWk6cfMWghrAa6i0= sha384-UcmsCqcNRSLW/dV3Lo1oCi2/VaurXbib6p4HyUEOeIa/4OpsrnucrugAefzVZJfI sha512-q4t1L4xEjGV2R4hzqCa41P8jrgFUS8xTb8rdNv4FGvw7FpydVj/kkxBJHOiaoxHa8olCcx1Slk9K+3sNbsM4ug==\"\\n            crossorigin=\"anonymous\"\\n    ></script>\\n    <script src=\"/static/js/libs/modernizr.js\"></script>\\n\\n    <link href=\"/static/stylesheets/style.1c0f356ef3c7.css\" rel=\"stylesheet\" type=\"text/css\" media=\"all\" title=\"default\" />\\n    <link href=\"/static/stylesheets/mq.f9187444a4a1.css\" rel=\"stylesheet\" type=\"text/css\" media=\"not print, braille, embossed, speech, tty\" />\\n    <link href=\"/static/stylesheets/no-mq.bf0c425cdb73.css\" rel=\"stylesheet\" type=\"text/css\" media=\"screen\" />\\n    \\n\\n    <!--[if (lte IE 8)&(!IEMobile)]>\\n    <link href=\"/static/stylesheets/no-mq.bf0c425cdb73.css\" rel=\"stylesheet\" type=\"text/css\" media=\"screen\" />\\n    \\n    \\n    <![endif]-->\\n    <link rel=\"stylesheet\" href=\"//ajax.googleapis.com/ajax/libs/jqueryui/1.12.1/themes/smoothness/jquery-ui.css\">\\n\\n    \\n    <link rel=\"icon\" type=\"image/x-icon\" href=\"/static/favicon.ico\">\\n    <link rel=\"apple-touch-icon-precomposed\" sizes=\"144x144\" href=\"/static/apple-touch-icon-144x144-precomposed.png\">\\n    <link rel=\"apple-touch-icon-precomposed\" sizes=\"114x114\" href=\"/static/apple-touch-icon-114x114-precomposed.png\">\\n    <link rel=\"apple-touch-icon-precomposed\" sizes=\"72x72\" href=\"/static/apple-touch-icon-72x72-precomposed.png\">\\n    <link rel=\"apple-touch-icon-precomposed\" href=\"/static/apple-touch-icon-precomposed.png\">\\n    <link rel=\"apple-touch-icon\" href=\"/static/apple-touch-icon-precomposed.png\">\\n\\n    \\n    <meta name=\"msapplication-TileImage\" content=\"/static/metro-icon-144x144-precomposed.png\"><!-- white shape -->\\n    <meta name=\"msapplication-TileColor\" content=\"#3673a5\"><!-- python blue -->\\n    <meta name=\"msapplication-navbutton-color\" content=\"#3673a5\">\\n\\n    <title>Welcome to Python.org</title>\\n\\n    <meta name=\"description\" content=\"The official home of the Python Programming Language\">\\n    <meta name=\"keywords\" content=\"Python programming language object oriented web free open source software license documentation download community\">\\n\\n    \\n    <meta property=\"og:type\" content=\"website\">\\n    <meta property=\"og:site_name\" content=\"Python.org\">\\n    <meta property=\"og:title\" content=\"Welcome to Python.org\">\\n    <meta property=\"og:description\" content=\"The official home of the Python Programming Language\">\\n    \\n    <meta property=\"og:image\" content=\"https://www.python.org/static/opengraph-icon-200x200.png\">\\n    <meta property=\"og:image:secure_url\" content=\"https://www.python.org/static/opengraph-icon-200x200.png\">\\n    \\n    <meta property=\"og:url\" content=\"https://www.python.org/\">\\n\\n    <link rel=\"author\" href=\"/humans.txt\">\\n\\n    <link rel=\"alternate\" type=\"application/rss+xml\" title=\"Python Enhancement Proposals\"\\n          href=\"https://peps.python.org/peps.rss\">\\n    <link rel=\"alternate\" type=\"application/rss+xml\" title=\"Python Job Opportunities\"\\n          href=\"https://www.python.org/jobs/feed/rss/\">\\n    <link rel=\"alternate\" type=\"application/rss+xml\" title=\"Python Software Foundation News\"\\n          href=\"https://feeds.feedburner.com/PythonSoftwareFoundationNews\">\\n    <link rel=\"alternate\" type=\"application/rss+xml\" title=\"Python Insider\"\\n          href=\"https://feeds.feedburner.com/PythonInsider\">\\n\\n    \\n\\n    \\n    <script type=\"application/ld+json\">\\n     {\\n       \"@context\": \"https://schema.org\",\\n       \"@type\": \"WebSite\",\\n       \"url\": \"https://www.python.org/\",\\n       \"potentialAction\": {\\n         \"@type\": \"SearchAction\",\\n         \"target\": \"https://www.python.org/search/?q={search_term_string}\",\\n         \"query-input\": \"required name=search_term_string\"\\n       }\\n     }\\n    </script>\\n\\n    \\n    <script type=\"text/javascript\">\\n    var _gaq = _gaq || [];\\n    _gaq.push([\\'_setAccount\\', \\'UA-39055973-1\\']);\\n    _gaq.push([\\'_trackPageview\\']);\\n\\n    (function() {\\n        var ga = document.createElement(\\'script\\'); ga.type = \\'text/javascript\\'; ga.async = true;\\n        ga.src = (\\'https:\\' == document.location.protocol ? \\'https://ssl\\' : \\'http://www\\') + \\'.google-analytics.com/ga.js\\';\\n        var s = document.getElementsByTagName(\\'script\\')[0]; s.parentNode.insertBefore(ga, s);\\n    })();\\n    </script>\\n    \\n</head>\\n\\n<body class=\"python home\" id=\"homepage\">\\n\\n    <div id=\"touchnav-wrapper\">\\n\\n        <div id=\"nojs\" class=\"do-not-print\">\\n            <p><strong>Notice:</strong> While JavaScript is not essential for this website, your interaction with the content will be limited. Please turn JavaScript on for the full experience. </p>\\n        </div>\\n\\n        <!--[if lte IE 8]>\\n        <div id=\"oldie-warning\" class=\"do-not-print\">\\n            <p>\\n                <strong>Notice:</strong> Your browser is <em>ancient</em>. Please\\n                <a href=\"http://browsehappy.com/\">upgrade to a different browser</a> to experience a better web.\\n            </p>\\n        </div>\\n        <![endif]-->\\n\\n        <!-- Sister Site Links -->\\n        <div id=\"top\" class=\"top-bar do-not-print\">\\n\\n            <nav class=\"meta-navigation container\" role=\"navigation\">\\n\\n                \\n                <div class=\"skip-link screen-reader-text\">\\n                    <a href=\"#content\" title=\"Skip to content\">Skip to content</a>\\n                </div>\\n\\n                \\n                <a id=\"close-python-network\" class=\"jump-link\" href=\"#python-network\" aria-hidden=\"true\">\\n                    <span aria-hidden=\"true\" class=\"icon-arrow-down\"><span>&#9660;</span></span> Close\\n                </a>\\n\\n                \\n\\n<ul class=\"menu\" role=\"tree\">\\n    \\n    <li class=\"python-meta current_item selectedcurrent_branch selected\">\\n        <a href=\"/\" title=\"The Python Programming Language\" class=\"current_item selectedcurrent_branch selected\">Python</a>\\n    </li>\\n    \\n    <li class=\"psf-meta \">\\n        <a href=\"https://www.python.org/psf/\" title=\"The Python Software Foundation\" >PSF</a>\\n    </li>\\n    \\n    <li class=\"docs-meta \">\\n        <a href=\"https://docs.python.org\" title=\"Python Documentation\" >Docs</a>\\n    </li>\\n    \\n    <li class=\"pypi-meta \">\\n        <a href=\"https://pypi.org/\" title=\"Python Package Index\" >PyPI</a>\\n    </li>\\n    \\n    <li class=\"jobs-meta \">\\n        <a href=\"/jobs/\" title=\"Python Job Board\" >Jobs</a>\\n    </li>\\n    \\n    <li class=\"shop-meta \">\\n        <a href=\"/community-landing/\"  >Community</a>\\n    </li>\\n    \\n</ul>\\n\\n\\n                <a id=\"python-network\" class=\"jump-link\" href=\"#top\" aria-hidden=\"true\">\\n                    <span aria-hidden=\"true\" class=\"icon-arrow-up\"><span>&#9650;</span></span> The Python Network\\n                </a>\\n\\n            </nav>\\n\\n        </div>\\n\\n        <!-- Header elements -->\\n        <header class=\"main-header\" role=\"banner\">\\n            <div class=\"container\">\\n\\n                <h1 class=\"site-headline\">\\n                    <a href=\"/\"><img class=\"python-logo\" src=\"/static/img/python-logo.png\" alt=\"python&trade;\"></a>\\n                </h1>\\n\\n                <div class=\"options-bar-container do-not-print\">\\n                    <a href=\"https://psfmember.org/civicrm/contribute/transact?reset=1&id=2\" class=\"donate-button\">Donate</a>\\n                    <div class=\"options-bar\">\\n                        \\n                        <a id=\"site-map-link\" class=\"jump-to-menu\" href=\"#site-map\"><span class=\"menu-icon\">&equiv;</span> Menu</a><form class=\"search-the-site\" action=\"/search/\" method=\"get\">\\n                            <fieldset title=\"Search Python.org\">\\n\\n                                <span aria-hidden=\"true\" class=\"icon-search\"></span>\\n\\n                                <label class=\"screen-reader-text\" for=\"id-search-field\">Search This Site</label>\\n                                <input id=\"id-search-field\" name=\"q\" type=\"search\" role=\"textbox\" class=\"search-field\" placeholder=\"Search\" value=\"\" tabindex=\"1\">\\n\\n                                <button type=\"submit\" name=\"submit\" id=\"submit\" class=\"search-button\" title=\"Submit this Search\" tabindex=\"3\">\\n                                    GO\\n                                </button>\\n\\n                                \\n                                <!--[if IE]><input type=\"text\" style=\"display: none;\" disabled=\"disabled\" size=\"1\" tabindex=\"4\"><![endif]-->\\n\\n                            </fieldset>\\n                        </form><span class=\"breaker\"></span><div class=\"adjust-font-size\" aria-hidden=\"true\">\\n                            <ul class=\"navigation menu\" aria-label=\"Adjust Text Size on Page\">\\n                                <li class=\"tier-1 last\" aria-haspopup=\"true\">\\n                                    <a href=\"#\" class=\"action-trigger\"><strong><small>A</small> A</strong></a>\\n                                    <ul class=\"subnav menu\">\\n                                        <li class=\"tier-2 element-1\" role=\"treeitem\"><a class=\"text-shrink\" title=\"Make Text Smaller\" href=\"javascript:;\">Smaller</a></li>\\n                                        <li class=\"tier-2 element-2\" role=\"treeitem\"><a class=\"text-grow\" title=\"Make Text Larger\" href=\"javascript:;\">Larger</a></li>\\n                                        <li class=\"tier-2 element-3\" role=\"treeitem\"><a class=\"text-reset\" title=\"Reset any font size changes I have made\" href=\"javascript:;\">Reset</a></li>\\n                                    </ul>\\n                                </li>\\n                            </ul>\\n                        </div><div class=\"winkwink-nudgenudge\">\\n                            <ul class=\"navigation menu\" aria-label=\"Social Media Navigation\">\\n                                <li class=\"tier-1 last\" aria-haspopup=\"true\">\\n                                    <a href=\"#\" class=\"action-trigger\">Socialize</a>\\n                                    <ul class=\"subnav menu\">\\n                                        <li class=\"tier-2 element-1\" role=\"treeitem\"><a href=\"https://www.linkedin.com/company/python-software-foundation/\"><i aria-hidden=\"true\" class=\"fa fa-linkedin-square\"></i></span>LinkedIn</a></li>\\n                                        <li class=\"tier-2 element-2\" role=\"treeitem\"><a href=\"https://fosstodon.org/@ThePSF\"><span aria-hidden=\"true\" class=\"icon-mastodon\"></span>Mastodon</a></li>\\n                                        <li class=\"tier-2 element-3\" role=\"treeitem\"><a href=\"/community/irc/\"><span aria-hidden=\"true\" class=\"icon-freenode\"></span>Chat on IRC</a></li>\\n                                        <li class=\"tier-2 element-4\" role=\"treeitem\"><a href=\"https://twitter.com/ThePSF\"><span aria-hidden=\"true\" class=\"icon-twitter\"></span>Twitter</a></li>\\n                                    </ul>\\n                                </li>\\n                            </ul>\\n                        </div>\\n                        <span data-html-include=\"/authenticated\"></span>\\n                    </div><!-- end options-bar -->\\n                </div>\\n\\n                <nav id=\"mainnav\" class=\"python-navigation main-navigation do-not-print\" role=\"navigation\">\\n                    \\n                        \\n<ul class=\"navigation menu\" role=\"menubar\" aria-label=\"Main Navigation\">\\n  \\n    \\n    \\n    <li id=\"about\" class=\"tier-1 element-1  \" aria-haspopup=\"true\">\\n        <a href=\"/about/\" title=\"\" class=\"\">About</a>\\n        \\n            \\n\\n<ul class=\"subnav menu\" role=\"menu\" aria-hidden=\"true\">\\n    \\n        <li class=\"tier-2 element-1\" role=\"treeitem\"><a href=\"/about/apps/\" title=\"\">Applications</a></li>\\n    \\n        <li class=\"tier-2 element-2\" role=\"treeitem\"><a href=\"/about/quotes/\" title=\"\">Quotes</a></li>\\n    \\n        <li class=\"tier-2 element-3\" role=\"treeitem\"><a href=\"/about/gettingstarted/\" title=\"\">Getting Started</a></li>\\n    \\n        <li class=\"tier-2 element-4\" role=\"treeitem\"><a href=\"/about/help/\" title=\"\">Help</a></li>\\n    \\n        <li class=\"tier-2 element-5\" role=\"treeitem\"><a href=\"http://brochure.getpython.info/\" title=\"\">Python Brochure</a></li>\\n    \\n</ul>\\n\\n        \\n    </li>\\n    \\n    \\n    \\n    <li id=\"downloads\" class=\"tier-1 element-2  \" aria-haspopup=\"true\">\\n        <a href=\"/downloads/\" title=\"\" class=\"\">Downloads</a>\\n        \\n            \\n\\n<ul class=\"subnav menu\" role=\"menu\" aria-hidden=\"true\">\\n    \\n        <li class=\"tier-2 element-1\" role=\"treeitem\"><a href=\"/downloads/\" title=\"\">All releases</a></li>\\n    \\n        <li class=\"tier-2 element-2\" role=\"treeitem\"><a href=\"/downloads/source/\" title=\"\">Source code</a></li>\\n    \\n        <li class=\"tier-2 element-3\" role=\"treeitem\"><a href=\"/downloads/windows/\" title=\"\">Windows</a></li>\\n    \\n        <li class=\"tier-2 element-4\" role=\"treeitem\"><a href=\"/downloads/macos/\" title=\"\">macOS</a></li>\\n    \\n        <li class=\"tier-2 element-5\" role=\"treeitem\"><a href=\"/download/other/\" title=\"\">Other Platforms</a></li>\\n    \\n        <li class=\"tier-2 element-6\" role=\"treeitem\"><a href=\"https://docs.python.org/3/license.html\" title=\"\">License</a></li>\\n    \\n        <li class=\"tier-2 element-7\" role=\"treeitem\"><a href=\"/download/alternatives\" title=\"\">Alternative Implementations</a></li>\\n    \\n</ul>\\n\\n        \\n    </li>\\n    \\n    \\n    \\n    <li id=\"documentation\" class=\"tier-1 element-3  \" aria-haspopup=\"true\">\\n        <a href=\"/doc/\" title=\"\" class=\"\">Documentation</a>\\n        \\n            \\n\\n<ul class=\"subnav menu\" role=\"menu\" aria-hidden=\"true\">\\n    \\n        <li class=\"tier-2 element-1\" role=\"treeitem\"><a href=\"/doc/\" title=\"\">Docs</a></li>\\n    \\n        <li class=\"tier-2 element-2\" role=\"treeitem\"><a href=\"/doc/av\" title=\"\">Audio/Visual Talks</a></li>\\n    \\n        <li class=\"tier-2 element-3\" role=\"treeitem\"><a href=\"https://wiki.python.org/moin/BeginnersGuide\" title=\"\">Beginner&#39;s Guide</a></li>\\n    \\n        <li class=\"tier-2 element-4\" role=\"treeitem\"><a href=\"https://devguide.python.org/\" title=\"\">Developer&#39;s Guide</a></li>\\n    \\n        <li class=\"tier-2 element-5\" role=\"treeitem\"><a href=\"https://docs.python.org/faq/\" title=\"\">FAQ</a></li>\\n    \\n        <li class=\"tier-2 element-6\" role=\"treeitem\"><a href=\"http://wiki.python.org/moin/Languages\" title=\"\">Non-English Docs</a></li>\\n    \\n        <li class=\"tier-2 element-7\" role=\"treeitem\"><a href=\"https://peps.python.org\" title=\"\">PEP Index</a></li>\\n    \\n        <li class=\"tier-2 element-8\" role=\"treeitem\"><a href=\"https://wiki.python.org/moin/PythonBooks\" title=\"\">Python Books</a></li>\\n    \\n        <li class=\"tier-2 element-9\" role=\"treeitem\"><a href=\"/doc/essays/\" title=\"\">Python Essays</a></li>\\n    \\n</ul>\\n\\n        \\n    </li>\\n    \\n    \\n    \\n    <li id=\"community\" class=\"tier-1 element-4  \" aria-haspopup=\"true\">\\n        <a href=\"/community/\" title=\"\" class=\"\">Community</a>\\n        \\n            \\n\\n<ul class=\"subnav menu\" role=\"menu\" aria-hidden=\"true\">\\n    \\n        <li class=\"tier-2 element-1\" role=\"treeitem\"><a href=\"/community/diversity/\" title=\"\">Diversity</a></li>\\n    \\n        <li class=\"tier-2 element-2\" role=\"treeitem\"><a href=\"/community/lists/\" title=\"\">Mailing Lists</a></li>\\n    \\n        <li class=\"tier-2 element-3\" role=\"treeitem\"><a href=\"/community/irc/\" title=\"\">IRC</a></li>\\n    \\n        <li class=\"tier-2 element-4\" role=\"treeitem\"><a href=\"/community/forums/\" title=\"\">Forums</a></li>\\n    \\n        <li class=\"tier-2 element-5\" role=\"treeitem\"><a href=\"/psf/annual-report/2021/\" title=\"\">PSF Annual Impact Report</a></li>\\n    \\n        <li class=\"tier-2 element-6\" role=\"treeitem\"><a href=\"/community/workshops/\" title=\"\">Python Conferences</a></li>\\n    \\n        <li class=\"tier-2 element-7\" role=\"treeitem\"><a href=\"/community/sigs/\" title=\"\">Special Interest Groups</a></li>\\n    \\n        <li class=\"tier-2 element-8\" role=\"treeitem\"><a href=\"/community/logos/\" title=\"\">Python Logo</a></li>\\n    \\n        <li class=\"tier-2 element-9\" role=\"treeitem\"><a href=\"https://wiki.python.org/moin/\" title=\"\">Python Wiki</a></li>\\n    \\n        <li class=\"tier-2 element-10\" role=\"treeitem\"><a href=\"/psf/conduct/\" title=\"\">Code of Conduct</a></li>\\n    \\n        <li class=\"tier-2 element-11\" role=\"treeitem\"><a href=\"/community/awards\" title=\"\">Community Awards</a></li>\\n    \\n        <li class=\"tier-2 element-12\" role=\"treeitem\"><a href=\"/psf/get-involved/\" title=\"\">Get Involved</a></li>\\n    \\n        <li class=\"tier-2 element-13\" role=\"treeitem\"><a href=\"/psf/community-stories/\" title=\"\">Shared Stories</a></li>\\n    \\n</ul>\\n\\n        \\n    </li>\\n    \\n    \\n    \\n    <li id=\"success-stories\" class=\"tier-1 element-5  \" aria-haspopup=\"true\">\\n        <a href=\"/success-stories/\" title=\"success-stories\" class=\"\">Success Stories</a>\\n        \\n            \\n\\n<ul class=\"subnav menu\" role=\"menu\" aria-hidden=\"true\">\\n    \\n        <li class=\"tier-2 element-1\" role=\"treeitem\"><a href=\"/success-stories/category/arts/\" title=\"\">Arts</a></li>\\n    \\n        <li class=\"tier-2 element-2\" role=\"treeitem\"><a href=\"/success-stories/category/business/\" title=\"\">Business</a></li>\\n    \\n        <li class=\"tier-2 element-3\" role=\"treeitem\"><a href=\"/success-stories/category/education/\" title=\"\">Education</a></li>\\n    \\n        <li class=\"tier-2 element-4\" role=\"treeitem\"><a href=\"/success-stories/category/engineering/\" title=\"\">Engineering</a></li>\\n    \\n        <li class=\"tier-2 element-5\" role=\"treeitem\"><a href=\"/success-stories/category/government/\" title=\"\">Government</a></li>\\n    \\n        <li class=\"tier-2 element-6\" role=\"treeitem\"><a href=\"/success-stories/category/scientific/\" title=\"\">Scientific</a></li>\\n    \\n        <li class=\"tier-2 element-7\" role=\"treeitem\"><a href=\"/success-stories/category/software-development/\" title=\"\">Software Development</a></li>\\n    \\n</ul>\\n\\n        \\n    </li>\\n    \\n    \\n    \\n    <li id=\"news\" class=\"tier-1 element-6  \" aria-haspopup=\"true\">\\n        <a href=\"/blogs/\" title=\"News from around the Python world\" class=\"\">News</a>\\n        \\n            \\n\\n<ul class=\"subnav menu\" role=\"menu\" aria-hidden=\"true\">\\n    \\n        <li class=\"tier-2 element-1\" role=\"treeitem\"><a href=\"/blogs/\" title=\"Python Insider Blog Posts\">Python News</a></li>\\n    \\n        <li class=\"tier-2 element-2\" role=\"treeitem\"><a href=\"/psf/newsletter/\" title=\"Python Software Foundation Newsletter\">PSF Newsletter</a></li>\\n    \\n        <li class=\"tier-2 element-3\" role=\"treeitem\"><a href=\"http://pyfound.blogspot.com/\" title=\"PSF Blog\">PSF News</a></li>\\n    \\n        <li class=\"tier-2 element-4\" role=\"treeitem\"><a href=\"http://pycon.blogspot.com/\" title=\"PyCon Blog\">PyCon US News</a></li>\\n    \\n        <li class=\"tier-2 element-5\" role=\"treeitem\"><a href=\"http://planetpython.org/\" title=\"Planet Python\">News from the Community</a></li>\\n    \\n</ul>\\n\\n        \\n    </li>\\n    \\n    \\n    \\n    <li id=\"events\" class=\"tier-1 element-7  \" aria-haspopup=\"true\">\\n        <a href=\"/events/\" title=\"\" class=\"\">Events</a>\\n        \\n            \\n\\n<ul class=\"subnav menu\" role=\"menu\" aria-hidden=\"true\">\\n    \\n        <li class=\"tier-2 element-1\" role=\"treeitem\"><a href=\"/events/python-events/\" title=\"\">Python Events</a></li>\\n    \\n        <li class=\"tier-2 element-2\" role=\"treeitem\"><a href=\"/events/python-user-group/\" title=\"\">User Group Events</a></li>\\n    \\n        <li class=\"tier-2 element-3\" role=\"treeitem\"><a href=\"/events/python-events/past/\" title=\"\">Python Events Archive</a></li>\\n    \\n        <li class=\"tier-2 element-4\" role=\"treeitem\"><a href=\"/events/python-user-group/past/\" title=\"\">User Group Events Archive</a></li>\\n    \\n        <li class=\"tier-2 element-5\" role=\"treeitem\"><a href=\"https://wiki.python.org/moin/PythonEventsCalendar#Submitting_an_Event\" title=\"\">Submit an Event</a></li>\\n    \\n</ul>\\n\\n        \\n    </li>\\n    \\n    \\n    \\n    \\n  \\n</ul>\\n\\n                    \\n                </nav>\\n\\n                <div class=\"header-banner \"> <!-- for optional \"do-not-print\" class -->\\n                    \\n        <div id=\"dive-into-python\" class=\"flex-slideshow slideshow\">\\n\\n            <ul class=\"launch-shell menu\" id=\"launch-shell\">\\n                <li>\\n                    <a class=\"button prompt\" id=\"start-shell\" data-shell-container=\"#dive-into-python\" href=\"/shell/\">&gt;_\\n                        <span class=\"message\">Launch Interactive Shell</span>\\n                    </a>\\n                </li>\\n            </ul>\\n\\n            <ul class=\"slides menu\">\\n                \\n                <li>\\n                    <div class=\"slide-code\"><pre><code><span class=\"comment\"># Python 3: Fibonacci series up to n</span>\\r\\n>>> def fib(n):\\r\\n>>>     a, b = 0, 1\\r\\n>>>     while a &lt; n:\\r\\n>>>         print(a, end=\\' \\')\\r\\n>>>         a, b = b, a+b\\r\\n>>>     print()\\r\\n>>> fib(1000)\\r\\n<span class=\"output\">0 1 1 2 3 5 8 13 21 34 55 89 144 233 377 610 987</span></code></pre></div>\\n                    <div class=\"slide-copy\"><h1>Functions Defined</h1>\\r\\n<p>The core of extensible programming is defining functions. Python allows mandatory and optional arguments, keyword arguments, and even arbitrary argument lists. <a href=\"//docs.python.org/3/tutorial/controlflow.html#defining-functions\">More about defining functions in Python&nbsp;3</a></p></div>\\n                </li>\\n                \\n                <li>\\n                    <div class=\"slide-code\"><pre><code><span class=\"comment\"># Python 3: List comprehensions</span>\\r\\n>>> fruits = [\\'Banana\\', \\'Apple\\', \\'Lime\\']\\r\\n>>> loud_fruits = [fruit.upper() for fruit in fruits]\\r\\n>>> print(loud_fruits)\\r\\n<span class=\"output\">[\\'BANANA\\', \\'APPLE\\', \\'LIME\\']</span>\\r\\n\\r\\n<span class=\"comment\"># List and the enumerate function</span>\\r\\n>>> list(enumerate(fruits))\\r\\n<span class=\"output\">[(0, \\'Banana\\'), (1, \\'Apple\\'), (2, \\'Lime\\')]</span></code></pre></div>\\n                    <div class=\"slide-copy\"><h1>Compound Data Types</h1>\\r\\n<p>Lists (known as arrays in other languages) are one of the compound data types that Python understands. Lists can be indexed, sliced and manipulated with other built-in functions. <a href=\"//docs.python.org/3/tutorial/introduction.html#lists\">More about lists in Python&nbsp;3</a></p></div>\\n                </li>\\n                \\n                <li>\\n                    <div class=\"slide-code\"><pre><code><span class=\"comment\"># Python 3: Simple arithmetic</span>\\r\\n>>> 1 / 2\\r\\n<span class=\"output\">0.5</span>\\r\\n>>> 2 ** 3\\r\\n<span class=\"output\">8</span>\\r\\n>>> 17 / 3  <span class=\"comment\"># classic division returns a float</span>\\r\\n<span class=\"output\">5.666666666666667</span>\\r\\n>>> 17 // 3  <span class=\"comment\"># floor division</span>\\r\\n<span class=\"output\">5</span></code></pre></div>\\n                    <div class=\"slide-copy\"><h1>Intuitive Interpretation</h1>\\r\\n<p>Calculations are simple with Python, and expression syntax is straightforward: the operators <code>+</code>, <code>-</code>, <code>*</code> and <code>/</code> work as expected; parentheses <code>()</code> can be used for grouping. <a href=\"http://docs.python.org/3/tutorial/introduction.html#using-python-as-a-calculator\">More about simple math functions in Python&nbsp;3</a>.</p></div>\\n                </li>\\n                \\n                <li>\\n                    <div class=\"slide-code\"><pre><code><span class=\"comment\"># For loop on a list</span>\\r\\n>>> numbers = [2, 4, 6, 8]\\r\\n>>> product = 1\\r\\n>>> for number in numbers:\\r\\n...    product = product * number\\r\\n... \\r\\n>>> print(\\'The product is:\\', product)\\r\\n<span class=\"output\">The product is: 384</span></code></pre></div>\\n                    <div class=\"slide-copy\"><h1>All the Flow You&rsquo;d Expect</h1>\\r\\n<p>Python knows the usual control flow statements that other languages speak &mdash; <code>if</code>, <code>for</code>, <code>while</code> and <code>range</code> &mdash; with some of its own twists, of course. <a href=\"//docs.python.org/3/tutorial/controlflow.html\">More control flow tools in Python&nbsp;3</a></p></div>\\n                </li>\\n                \\n                <li>\\n                    <div class=\"slide-code\"><pre><code><span class=\"comment\"># Simple output (with Unicode)</span>\\r\\n>>> print(\"Hello, I\\'m Python!\")\\r\\n<span class=\"output\">Hello, I\\'m Python!</span>\\r\\n<span class=\"comment\"># Input, assignment</span>\\r\\n>>> name = input(\\'What is your name?\\\\n\\')\\r\\n<span class=\"output\">What is your name?\\r\\nPython</span>\\r\\n>>> print(f\\'Hi, {name}.\\')\\r\\n<span class=\"output\">Hi, Python.</span></code>\\r\\n</pre></div>\\n                    <div class=\"slide-copy\"><h1>Quick &amp; Easy to Learn</h1>\\r\\n<p>Experienced programmers in any other language can pick up Python very quickly, and beginners find the clean syntax and indentation structure easy to learn. <a href=\"//docs.python.org/3/tutorial/\">Whet your appetite</a> with our Python&nbsp;3 overview.</p></div>\\n                </li>\\n                \\n            </ul>\\n        </div>\\n\\n\\n                </div>\\n\\n                \\n        <div class=\"introduction\">\\n            <p>Python is a programming language that lets you work quickly <span class=\"breaker\"></span>and integrate systems more effectively. <a class=\"readmore\" href=\"/doc/\">Learn More</a></p>\\n        </div>\\n\\n\\n             </div><!-- end .container -->\\n        </header>\\n\\n        <div id=\"content\" class=\"content-wrapper\">\\n            <!-- Main Content Column -->\\n            <div class=\"container\">\\n\\n                <section class=\"main-content \" role=\"main\">\\n\\n                    \\n                    \\n\\n                    \\n\\n                    \\n\\n                \\n\\n                <div class=\"row\">\\n\\n                    <div class=\"small-widget get-started-widget\">\\n                        <h2 class=\"widget-title\"><span aria-hidden=\"true\" class=\"icon-get-started\"></span>Get Started</h2>\\r\\n<p>Whether you\\'re new to programming or an experienced developer, it\\'s easy to learn and use Python.</p>\\r\\n<p><a href=\"/about/gettingstarted/\">Start with our Beginner&rsquo;s Guide</a></p>\\n                    </div>\\n\\n                    <div class=\"small-widget download-widget\">\\n                        <h2 class=\"widget-title\"><span aria-hidden=\"true\" class=\"icon-download\"></span>Download</h2>\\n<p>Python source code and installers are available for download for all versions!</p>\\n<p>Latest: <a href=\"/downloads/release/python-3122/\">Python 3.12.2</a></p>\\n                    </div>\\n\\n                    <div class=\"small-widget documentation-widget\">\\n                        <h2 class=\"widget-title\"><span aria-hidden=\"true\" class=\"icon-documentation\"></span>Docs</h2>\\r\\n<p>Documentation for Python\\'s standard library, along with tutorials and guides, are available online.</p>\\r\\n<p><a href=\"https://docs.python.org\">docs.python.org</a></p>\\n                    </div>\\n\\n                    <div class=\"small-widget jobs-widget last\">\\n                        <h2 class=\"widget-title\"><span aria-hidden=\"true\" class=\"icon-jobs\"></span>Jobs</h2>\\r\\n<p>Looking for work or have a Python related position that you\\'re trying to hire for? Our <strong>relaunched community-run job board</strong> is the place to go.</p>\\r\\n<p><a href=\"//jobs.python.org\">jobs.python.org</a></p>\\n                    </div>\\n\\n                </div>\\n\\n                <div class=\"list-widgets row\">\\n\\n                    <div class=\"medium-widget blog-widget\">\\n                        \\n                        <div class=\"shrubbery\">\\n                        \\n                            <h2 class=\"widget-title\"><span aria-hidden=\"true\" class=\"icon-news\"></span>Latest News</h2>\\n                            <p class=\"give-me-more\"><a href=\"https://blog.python.org\" title=\"More News\">More</a></p>\\n                            \\n                            <ul class=\"menu\">\\n                                \\n                                \\n                                <li>\\n<time datetime=\"2024-02-08T15:53:00.000003+00:00\"><span class=\"say-no-more\">2024-</span>02-08</time>\\n <a href=\"https://pyfound.blogspot.com/2024/02/software-bill-of-materials-now-available-for-cpython.html\">Software Bill-of-Materials documents are now available for CPython</a></li>\\n                                \\n                                <li>\\n<time datetime=\"2024-02-07T16:33:00.000002+00:00\"><span class=\"say-no-more\">2024-</span>02-07</time>\\n <a href=\"https://pyfound.blogspot.com/2024/02/introducing-psf-grants-office-hours.html\">Introducing PSF Grants Program Office Hours</a></li>\\n                                \\n                                <li>\\n<time datetime=\"2024-02-07T15:07:00.000002+00:00\"><span class=\"say-no-more\">2024-</span>02-07</time>\\n <a href=\"https://pythoninsider.blogspot.com/2024/02/python-3122-and-3118-are-now-available.html\">Python 3.12.2 and 3.11.8 are now available.</a></li>\\n                                \\n                                <li>\\n<time datetime=\"2024-01-31T13:00:00.000002+00:00\"><span class=\"say-no-more\">2024-</span>01-31</time>\\n <a href=\"https://pyfound.blogspot.com/2024/01/kicking-off-2024-strong.html\">Kicking off 2024 strong, thanks to our community!</a></li>\\n                                \\n                                <li>\\n<time datetime=\"2024-01-18T14:44:00.000003+00:00\"><span class=\"say-no-more\">2024-</span>01-18</time>\\n <a href=\"https://pyfound.blogspot.com/2024/01/announcing-python-software-foundation.html\">Announcing Python Software Foundation Fellow Members for Q3 2023! \\xf0\\x9f\\x8e\\x89</a></li>\\n                                \\n                            </ul>\\n                        </div><!-- end .shrubbery -->\\n\\n                    </div>\\n\\n                    <div class=\"medium-widget event-widget last\">\\n                        \\n                        <div class=\"shrubbery\">\\n                        \\n                            <h2 class=\"widget-title\"><span aria-hidden=\"true\" class=\"icon-calendar\"></span>Upcoming Events</h2>\\n                            <p class=\"give-me-more\"><a href=\"/events/calendars/\" title=\"More Events\">More</a></p>\\n                            \\n                            <ul class=\"menu\">\\n                                \\n                                \\n                                \\n                                <li>\\n<time datetime=\"2024-02-15T12:00:00+00:00\"><span class=\"say-no-more\">2024-</span>02-15</time>\\n <a href=\"/events/python-user-group/1709/\">The 82th meeting of Tehran Python users group </a></li>\\n                                \\n                                \\n                                \\n                                <li>\\n<time datetime=\"2024-02-21T05:30:00+00:00\"><span class=\"say-no-more\">2024-</span>02-21</time>\\n <a href=\"/events/python-user-group/1702/\">NZPUG-Auckland: The Python Community in 2024</a></li>\\n                                \\n                                \\n                                \\n                                <li>\\n<time datetime=\"2024-02-24T00:00:00+00:00\"><span class=\"say-no-more\">2024-</span>02-24</time>\\n <a href=\"/events/python-user-group/1658/\">Django Girls Ho</a></li>\\n                                \\n                                \\n                                \\n                                <li>\\n<time datetime=\"2024-02-24T00:00:00+00:00\"><span class=\"say-no-more\">2024-</span>02-24</time>\\n <a href=\"/events/python-events/1653/\">Prague Python Pizza 2024</a></li>\\n                                \\n                                \\n                                \\n                                <li>\\n<time datetime=\"2024-02-25T00:00:00+00:00\"><span class=\"say-no-more\">2024-</span>02-25</time>\\n <a href=\"/events/python-events/1661/\">PyCon PH 2024</a></li>\\n                                \\n                                \\n                            </ul>\\n                        </div>\\n\\n                    </div>\\n\\n                </div>\\n\\n                <div class=\"row\">\\n\\n                    <div class=\"medium-widget success-stories-widget\">\\n                        \\n\\n\\n\\n                        <div class=\"shrubbery\">\\n                            \\n\\n                            <h2 class=\"widget-title\"><span aria-hidden=\"true\" class=\"icon-success-stories\"></span>Success Stories</h2>\\n                            <p class=\"give-me-more\"><a href=\"/success-stories/\" title=\"More Success Stories\">More</a></p>\\n\\n                            \\n                            <div class=\"success-story-item\" id=\"success-story-1211\">\\n\\n                            <blockquote>\\n                                <a href=\"/success-stories/reimagining-data-science-with-python-based-operators-in-einblicks-visual-canvas/\">Einblick reimagines the modern data science workflow in a collaborative data science canvas, rather than a linear notebook. Working in a canvas environment offers many advantages including live collaboration, an expansive visual interface, and a progressive computation engine. In this article, we\\xe2\\x80\\x99ll highlight one of the key ways we\\xe2\\x80\\x99re saving data scientists time\\xe2\\x80\\x93our operators. We\\xe2\\x80\\x99ll go through a couple of our core operators, why Python is such a crucial part of our software solution, and how we augmented our offerings with a user operator interface. The latter allows users to customize and use their own operators, which can be used in any Einblick canvas, and shared with other Einblick users.</a>\\n                            </blockquote>\\n\\n                            <table cellpadding=\"0\" cellspacing=\"0\" border=\"0\" width=\"100%\" class=\"quote-from\">\\n                                <tbody>\\n                                    <tr>\\n                                        \\n                                        <td><p><a href=\"/success-stories/reimagining-data-science-with-python-based-operators-in-einblicks-visual-canvas/\">Reimagining data science with Python-based operators in Einblick\\xe2\\x80\\x99s visual canvas</a> <em>by Becca Weng</em></p></td>\\n                                    </tr>\\n                                </tbody>\\n                            </table>\\n                            </div>\\n                            \\n\\n                        </div><!-- end .shrubbery -->\\n\\n                    </div>\\n\\n                    <div class=\"medium-widget applications-widget last\">\\n                        <div class=\"shrubbery\">\\n                            <h2 class=\"widget-title\"><span aria-hidden=\"true\" class=\"icon-python\"></span>Use Python for&hellip;</h2>\\r\\n<p class=\"give-me-more\"><a href=\"/about/apps\" title=\"More Applications\">More</a></p>\\r\\n\\r\\n<ul class=\"menu\">\\r\\n    <li><b>Web Development</b>:\\r\\n        <span class=\"tag-wrapper\"><a class=\"tag\" href=\"http://www.djangoproject.com/\">Django</a>, <a class=\"tag\" href=\"http://www.pylonsproject.org/\">Pyramid</a>, <a class=\"tag\" href=\"http://bottlepy.org\">Bottle</a>, <a class=\"tag\" href=\"http://tornadoweb.org\">Tornado</a>, <a href=\"http://flask.pocoo.org/\" class=\"tag\">Flask</a>, <a class=\"tag\" href=\"http://www.web2py.com/\">web2py</a></span></li>\\r\\n    <li><b>GUI Development</b>:\\r\\n        <span class=\"tag-wrapper\"><a class=\"tag\" href=\"http://wiki.python.org/moin/TkInter\">tkInter</a>, <a class=\"tag\" href=\"https://wiki.gnome.org/Projects/PyGObject\">PyGObject</a>, <a class=\"tag\" href=\"http://www.riverbankcomputing.co.uk/software/pyqt/intro\">PyQt</a>, <a class=\"tag\" href=\"https://wiki.qt.io/PySide\">PySide</a>, <a class=\"tag\" href=\"https://kivy.org/\">Kivy</a>, <a class=\"tag\" href=\"http://www.wxpython.org/\">wxPython</a></span></li>\\r\\n    <li><b>Scientific and Numeric</b>:\\r\\n        <span class=\"tag-wrapper\">\\r\\n<a class=\"tag\" href=\"http://www.scipy.org\">SciPy</a>, <a class=\"tag\" href=\"http://pandas.pydata.org/\">Pandas</a>, <a href=\"http://ipython.org\" class=\"tag\">IPython</a></span></li>\\r\\n    <li><b>Software Development</b>:\\r\\n        <span class=\"tag-wrapper\"><a class=\"tag\" href=\"http://buildbot.net/\">Buildbot</a>, <a class=\"tag\" href=\"http://trac.edgewall.org/\">Trac</a>, <a class=\"tag\" href=\"http://roundup.sourceforge.net/\">Roundup</a></span></li>\\r\\n    <li><b>System Administration</b>:\\r\\n        <span class=\"tag-wrapper\"><a class=\"tag\" href=\"http://www.ansible.com\">Ansible</a>, <a class=\"tag\" href=\"https://saltproject.io\">Salt</a>, <a class=\"tag\" href=\"https://www.openstack.org\">OpenStack</a>, <a class=\"tag\" href=\"https://xon.sh\">xonsh</a></span></li>\\r\\n</ul>\\n                        </div><!-- end .shrubbery -->\\n                    </div>\\n\\n                </div>\\n\\n                \\n                <div class=\"pep-widget\">\\n\\n                    <h2 class=\"widget-title\">\\n                        <span class=\"prompt\">&gt;&gt;&gt;</span> <a href=\"/dev/peps/\">Python Enhancement Proposals<span class=\"say-no-more\"> (PEPs)</span></a>: The future of Python<span class=\"say-no-more\"> is discussed here.</span>\\n                        <a aria-hidden=\"true\" class=\"rss-link\" href=\"/dev/peps/peps.rss\"><span class=\"icon-feed\"></span> RSS</a>\\n                    </h2>\\n\\n\\n                    \\n                    \\n                </div>\\n\\n                                <div class=\"psf-widget\">\\n\\n                    <div class=\"python-logo\"></div>\\n                    \\n                    <h2 class=\"widget-title\">\\r\\n    <span class=\"prompt\">&gt;&gt;&gt;</span> <a href=\"/psf/\">Python Software Foundation</a>\\r\\n</h2>\\r\\n<p>The mission of the Python Software Foundation is to promote, protect, and advance the Python programming language, and to support and facilitate the growth of a diverse and international community of Python programmers. <a class=\"readmore\" href=\"/psf/\">Learn more</a> </p>\\r\\n<p class=\"click-these\">\\r\\n    <a class=\"button\" href=\"/users/membership/\">Become a Member</a>\\r\\n    <a class=\"button\" href=\"/psf/donations/\">Donate to the PSF</a>\\r\\n</p>\\n                </div>\\n\\n\\n\\n\\n                </section>\\n\\n                \\n                \\n\\n                \\n                \\n\\n\\n            </div><!-- end .container -->\\n        </div><!-- end #content .content-wrapper -->\\n\\n        <!-- Footer and social media list -->\\n        \\n        <footer id=\"site-map\" class=\"main-footer\" role=\"contentinfo\">\\n            <div class=\"main-footer-links\">\\n                <div class=\"container\">\\n\\n                    \\n                    <a id=\"back-to-top-1\" class=\"jump-link\" href=\"#python-network\"><span aria-hidden=\"true\" class=\"icon-arrow-up\"><span>&#9650;</span></span> Back to Top</a>\\n\\n                    \\n\\n<ul class=\"sitemap navigation menu do-not-print\" role=\"tree\" id=\"container\">\\n    \\n    <li class=\"tier-1 element-1\">\\n        <a href=\"/about/\" >About</a>\\n        \\n            \\n\\n<ul class=\"subnav menu\">\\n    \\n        <li class=\"tier-2 element-1\" role=\"treeitem\"><a href=\"/about/apps/\" title=\"\">Applications</a></li>\\n    \\n        <li class=\"tier-2 element-2\" role=\"treeitem\"><a href=\"/about/quotes/\" title=\"\">Quotes</a></li>\\n    \\n        <li class=\"tier-2 element-3\" role=\"treeitem\"><a href=\"/about/gettingstarted/\" title=\"\">Getting Started</a></li>\\n    \\n        <li class=\"tier-2 element-4\" role=\"treeitem\"><a href=\"/about/help/\" title=\"\">Help</a></li>\\n    \\n        <li class=\"tier-2 element-5\" role=\"treeitem\"><a href=\"http://brochure.getpython.info/\" title=\"\">Python Brochure</a></li>\\n    \\n</ul>\\n\\n        \\n    </li>\\n    \\n    <li class=\"tier-1 element-2\">\\n        <a href=\"/downloads/\" >Downloads</a>\\n        \\n            \\n\\n<ul class=\"subnav menu\">\\n    \\n        <li class=\"tier-2 element-1\" role=\"treeitem\"><a href=\"/downloads/\" title=\"\">All releases</a></li>\\n    \\n        <li class=\"tier-2 element-2\" role=\"treeitem\"><a href=\"/downloads/source/\" title=\"\">Source code</a></li>\\n    \\n        <li class=\"tier-2 element-3\" role=\"treeitem\"><a href=\"/downloads/windows/\" title=\"\">Windows</a></li>\\n    \\n        <li class=\"tier-2 element-4\" role=\"treeitem\"><a href=\"/downloads/macos/\" title=\"\">macOS</a></li>\\n    \\n        <li class=\"tier-2 element-5\" role=\"treeitem\"><a href=\"/download/other/\" title=\"\">Other Platforms</a></li>\\n    \\n        <li class=\"tier-2 element-6\" role=\"treeitem\"><a href=\"https://docs.python.org/3/license.html\" title=\"\">License</a></li>\\n    \\n        <li class=\"tier-2 element-7\" role=\"treeitem\"><a href=\"/download/alternatives\" title=\"\">Alternative Implementations</a></li>\\n    \\n</ul>\\n\\n        \\n    </li>\\n    \\n    <li class=\"tier-1 element-3\">\\n        <a href=\"/doc/\" >Documentation</a>\\n        \\n            \\n\\n<ul class=\"subnav menu\">\\n    \\n        <li class=\"tier-2 element-1\" role=\"treeitem\"><a href=\"/doc/\" title=\"\">Docs</a></li>\\n    \\n        <li class=\"tier-2 element-2\" role=\"treeitem\"><a href=\"/doc/av\" title=\"\">Audio/Visual Talks</a></li>\\n    \\n        <li class=\"tier-2 element-3\" role=\"treeitem\"><a href=\"https://wiki.python.org/moin/BeginnersGuide\" title=\"\">Beginner&#39;s Guide</a></li>\\n    \\n        <li class=\"tier-2 element-4\" role=\"treeitem\"><a href=\"https://devguide.python.org/\" title=\"\">Developer&#39;s Guide</a></li>\\n    \\n        <li class=\"tier-2 element-5\" role=\"treeitem\"><a href=\"https://docs.python.org/faq/\" title=\"\">FAQ</a></li>\\n    \\n        <li class=\"tier-2 element-6\" role=\"treeitem\"><a href=\"http://wiki.python.org/moin/Languages\" title=\"\">Non-English Docs</a></li>\\n    \\n        <li class=\"tier-2 element-7\" role=\"treeitem\"><a href=\"https://peps.python.org\" title=\"\">PEP Index</a></li>\\n    \\n        <li class=\"tier-2 element-8\" role=\"treeitem\"><a href=\"https://wiki.python.org/moin/PythonBooks\" title=\"\">Python Books</a></li>\\n    \\n        <li class=\"tier-2 element-9\" role=\"treeitem\"><a href=\"/doc/essays/\" title=\"\">Python Essays</a></li>\\n    \\n</ul>\\n\\n        \\n    </li>\\n    \\n    <li class=\"tier-1 element-4\">\\n        <a href=\"/community/\" >Community</a>\\n        \\n            \\n\\n<ul class=\"subnav menu\">\\n    \\n        <li class=\"tier-2 element-1\" role=\"treeitem\"><a href=\"/community/diversity/\" title=\"\">Diversity</a></li>\\n    \\n        <li class=\"tier-2 element-2\" role=\"treeitem\"><a href=\"/community/lists/\" title=\"\">Mailing Lists</a></li>\\n    \\n        <li class=\"tier-2 element-3\" role=\"treeitem\"><a href=\"/community/irc/\" title=\"\">IRC</a></li>\\n    \\n        <li class=\"tier-2 element-4\" role=\"treeitem\"><a href=\"/community/forums/\" title=\"\">Forums</a></li>\\n    \\n        <li class=\"tier-2 element-5\" role=\"treeitem\"><a href=\"/psf/annual-report/2021/\" title=\"\">PSF Annual Impact Report</a></li>\\n    \\n        <li class=\"tier-2 element-6\" role=\"treeitem\"><a href=\"/community/workshops/\" title=\"\">Python Conferences</a></li>\\n    \\n        <li class=\"tier-2 element-7\" role=\"treeitem\"><a href=\"/community/sigs/\" title=\"\">Special Interest Groups</a></li>\\n    \\n        <li class=\"tier-2 element-8\" role=\"treeitem\"><a href=\"/community/logos/\" title=\"\">Python Logo</a></li>\\n    \\n        <li class=\"tier-2 element-9\" role=\"treeitem\"><a href=\"https://wiki.python.org/moin/\" title=\"\">Python Wiki</a></li>\\n    \\n        <li class=\"tier-2 element-10\" role=\"treeitem\"><a href=\"/psf/conduct/\" title=\"\">Code of Conduct</a></li>\\n    \\n        <li class=\"tier-2 element-11\" role=\"treeitem\"><a href=\"/community/awards\" title=\"\">Community Awards</a></li>\\n    \\n        <li class=\"tier-2 element-12\" role=\"treeitem\"><a href=\"/psf/get-involved/\" title=\"\">Get Involved</a></li>\\n    \\n        <li class=\"tier-2 element-13\" role=\"treeitem\"><a href=\"/psf/community-stories/\" title=\"\">Shared Stories</a></li>\\n    \\n</ul>\\n\\n        \\n    </li>\\n    \\n    <li class=\"tier-1 element-5\">\\n        <a href=\"/success-stories/\" title=\"success-stories\">Success Stories</a>\\n        \\n            \\n\\n<ul class=\"subnav menu\">\\n    \\n        <li class=\"tier-2 element-1\" role=\"treeitem\"><a href=\"/success-stories/category/arts/\" title=\"\">Arts</a></li>\\n    \\n        <li class=\"tier-2 element-2\" role=\"treeitem\"><a href=\"/success-stories/category/business/\" title=\"\">Business</a></li>\\n    \\n        <li class=\"tier-2 element-3\" role=\"treeitem\"><a href=\"/success-stories/category/education/\" title=\"\">Education</a></li>\\n    \\n        <li class=\"tier-2 element-4\" role=\"treeitem\"><a href=\"/success-stories/category/engineering/\" title=\"\">Engineering</a></li>\\n    \\n        <li class=\"tier-2 element-5\" role=\"treeitem\"><a href=\"/success-stories/category/government/\" title=\"\">Government</a></li>\\n    \\n        <li class=\"tier-2 element-6\" role=\"treeitem\"><a href=\"/success-stories/category/scientific/\" title=\"\">Scientific</a></li>\\n    \\n        <li class=\"tier-2 element-7\" role=\"treeitem\"><a href=\"/success-stories/category/software-development/\" title=\"\">Software Development</a></li>\\n    \\n</ul>\\n\\n        \\n    </li>\\n    \\n    <li class=\"tier-1 element-6\">\\n        <a href=\"/blogs/\" title=\"News from around the Python world\">News</a>\\n        \\n            \\n\\n<ul class=\"subnav menu\">\\n    \\n        <li class=\"tier-2 element-1\" role=\"treeitem\"><a href=\"/blogs/\" title=\"Python Insider Blog Posts\">Python News</a></li>\\n    \\n        <li class=\"tier-2 element-2\" role=\"treeitem\"><a href=\"/psf/newsletter/\" title=\"Python Software Foundation Newsletter\">PSF Newsletter</a></li>\\n    \\n        <li class=\"tier-2 element-3\" role=\"treeitem\"><a href=\"http://pyfound.blogspot.com/\" title=\"PSF Blog\">PSF News</a></li>\\n    \\n        <li class=\"tier-2 element-4\" role=\"treeitem\"><a href=\"http://pycon.blogspot.com/\" title=\"PyCon Blog\">PyCon US News</a></li>\\n    \\n        <li class=\"tier-2 element-5\" role=\"treeitem\"><a href=\"http://planetpython.org/\" title=\"Planet Python\">News from the Community</a></li>\\n    \\n</ul>\\n\\n        \\n    </li>\\n    \\n    <li class=\"tier-1 element-7\">\\n        <a href=\"/events/\" >Events</a>\\n        \\n            \\n\\n<ul class=\"subnav menu\">\\n    \\n        <li class=\"tier-2 element-1\" role=\"treeitem\"><a href=\"/events/python-events/\" title=\"\">Python Events</a></li>\\n    \\n        <li class=\"tier-2 element-2\" role=\"treeitem\"><a href=\"/events/python-user-group/\" title=\"\">User Group Events</a></li>\\n    \\n        <li class=\"tier-2 element-3\" role=\"treeitem\"><a href=\"/events/python-events/past/\" title=\"\">Python Events Archive</a></li>\\n    \\n        <li class=\"tier-2 element-4\" role=\"treeitem\"><a href=\"/events/python-user-group/past/\" title=\"\">User Group Events Archive</a></li>\\n    \\n        <li class=\"tier-2 element-5\" role=\"treeitem\"><a href=\"https://wiki.python.org/moin/PythonEventsCalendar#Submitting_an_Event\" title=\"\">Submit an Event</a></li>\\n    \\n</ul>\\n\\n        \\n    </li>\\n    \\n    <li class=\"tier-1 element-8\">\\n        <a href=\"/dev/\" >Contributing</a>\\n        \\n            \\n\\n<ul class=\"subnav menu\">\\n    \\n        <li class=\"tier-2 element-1\" role=\"treeitem\"><a href=\"https://devguide.python.org/\" title=\"\">Developer&#39;s Guide</a></li>\\n    \\n        <li class=\"tier-2 element-2\" role=\"treeitem\"><a href=\"https://bugs.python.org/\" title=\"\">Issue Tracker</a></li>\\n    \\n        <li class=\"tier-2 element-3\" role=\"treeitem\"><a href=\"https://mail.python.org/mailman/listinfo/python-dev\" title=\"\">python-dev list</a></li>\\n    \\n        <li class=\"tier-2 element-4\" role=\"treeitem\"><a href=\"/dev/core-mentorship/\" title=\"\">Core Mentorship</a></li>\\n    \\n        <li class=\"tier-2 element-5\" role=\"treeitem\"><a href=\"/dev/security/\" title=\"\">Report a Security Issue</a></li>\\n    \\n</ul>\\n\\n        \\n    </li>\\n    \\n</ul>\\n\\n\\n                    <a id=\"back-to-top-2\" class=\"jump-link\" href=\"#python-network\"><span aria-hidden=\"true\" class=\"icon-arrow-up\"><span>&#9650;</span></span> Back to Top</a>\\n                    \\n\\n                </div><!-- end .container -->\\n            </div> <!-- end .main-footer-links -->\\n\\n            <div class=\"site-base\">\\n                <div class=\"container\">\\n                    \\n                    <ul class=\"footer-links navigation menu do-not-print\" role=\"tree\">\\n                        <li class=\"tier-1 element-1\"><a href=\"/about/help/\">Help &amp; <span class=\"say-no-more\">General</span> Contact</a></li>\\n                        <li class=\"tier-1 element-2\"><a href=\"/community/diversity/\">Diversity <span class=\"say-no-more\">Initiatives</span></a></li>\\n                        <li class=\"tier-1 element-3\"><a href=\"https://github.com/python/pythondotorg/issues\">Submit Website Bug</a></li>\\n                        <li class=\"tier-1 element-4\">\\n                            <a href=\"https://status.python.org/\">Status <span class=\"python-status-indicator-default\" id=\"python-status-indicator\"></span></a>\\n                        </li>\\n                    </ul>\\n\\n                    <div class=\"copyright\">\\n                        <p><small>\\n                            <span class=\"pre\">Copyright &copy;2001-2024.</span>\\n                            &nbsp;<span class=\"pre\"><a href=\"/psf-landing/\">Python Software Foundation</a></span>\\n                            &nbsp;<span class=\"pre\"><a href=\"/about/legal/\">Legal Statements</a></span>\\n                            &nbsp;<span class=\"pre\"><a href=\"/privacy/\">Privacy Policy</a></span>\\n                            <!--&nbsp;<span class=\"pre\"><a href=\"/psf/community-infrastructure\">Powered by PSF Community Infrastructure</a></span>-->\\n                        </small></p>\\n                    </div>\\n\\n                </div><!-- end .container -->\\n            </div><!-- end .site-base -->\\n\\n        </footer>\\n        \\n\\n    </div><!-- end #touchnav-wrapper -->\\n\\n    \\n    <script src=\"//ajax.googleapis.com/ajax/libs/jquery/1.8.2/jquery.min.js\"></script>\\n    <script>window.jQuery || document.write(\\'<script src=\"/static/js/libs/jquery-1.8.2.min.js\"><\\\\/script>\\')</script>\\n    <script src=\"//ajax.googleapis.com/ajax/libs/jqueryui/1.12.1/jquery-ui.min.js\"></script>\\n    <script>window.jQuery || document.write(\\'<script src=\"/static/js/libs/jquery-ui-1.12.1.min.js\"><\\\\/script>\\')</script>\\n\\n    <script src=\"/static/js/libs/masonry.pkgd.min.js\"></script>\\n    <script src=\"/static/js/libs/html-includes.js\"></script>\\n\\n    <script type=\"text/javascript\" src=\"/static/js/main-min.f5487accf7ed.js\" charset=\"utf-8\"></script>\\n    \\n\\n    <!--[if lte IE 7]>\\n    <script type=\"text/javascript\" src=\"/static/js/plugins/IE8-min.8af6e26c7a3b.js\" charset=\"utf-8\"></script>\\n    \\n    \\n    <![endif]-->\\n\\n    <!--[if lte IE 8]>\\n    <script type=\"text/javascript\" src=\"/static/js/plugins/getComputedStyle-min.d41d8cd98f00.js\" charset=\"utf-8\"></script>\\n    \\n    \\n    <![endif]-->\\n\\n    \\n\\n    \\n    \\n\\n</body>\\n</html>\\n'\n"
     ]
    }
   ],
   "source": [
    "import urllib.request as ul\n",
    "with ul.urlopen('https://www.python.org') as response:\n",
    "    html = response.read()\n",
    "    print(html)"
   ]
  },
  {
   "cell_type": "markdown",
   "id": "0e0289df",
   "metadata": {},
   "source": [
    "#### Paper Coding\n",
    "you are trying to convert strigns in give list into integers and print them <br>\n",
    "\n",
    "An exception occurs when trying to convert the string \"ABC\" into an integer "
   ]
  },
  {
   "cell_type": "markdown",
   "id": "c4e8803a",
   "metadata": {},
   "source": [
    "![alt text](images/Lession%2013/Paper%20code%20Q1.png)"
   ]
  },
  {
   "cell_type": "code",
   "execution_count": 44,
   "id": "d61c7a87",
   "metadata": {},
   "outputs": [
    {
     "name": "stdout",
     "output_type": "stream",
     "text": [
      "1\n",
      "2\n",
      "Exception occurred: Unable to convert x to an integer\n"
     ]
    }
   ],
   "source": [
    "list =[1,2,'ABC']\n",
    "num = 0 \n",
    "try:\n",
    "    for i in list:\n",
    "        i = int(i)\n",
    "        print(i)\n",
    "    num+=1\n",
    "except ValueError:\n",
    "    print(\"Exception occurred: Unable to convert x to an integer\")\n"
   ]
  },
  {
   "cell_type": "markdown",
   "id": "df2f207c",
   "metadata": {},
   "source": [
    "#### Let's Code"
   ]
  },
  {
   "cell_type": "markdown",
   "id": "125295bd",
   "metadata": {},
   "source": [
    "![alt text](images/Lession%2013/Mission.png)"
   ]
  },
  {
   "cell_type": "code",
   "execution_count": 62,
   "id": "83dd3782",
   "metadata": {},
   "outputs": [],
   "source": [
    "#step open file hello .txt\n",
    "with open(\"hello.txt\",'a')as f:\n",
    "    f.write('hello!\\n')"
   ]
  },
  {
   "cell_type": "code",
   "execution_count": 65,
   "id": "6e65bbc1",
   "metadata": {},
   "outputs": [
    {
     "name": "stdout",
     "output_type": "stream",
     "text": [
      "hello!hello!\n",
      "\n"
     ]
    }
   ],
   "source": [
    "with open(\"hello.txt\",'r')as f:\n",
    "    read_file = f.readline()\n",
    "    print(read_file)"
   ]
  },
  {
   "cell_type": "markdown",
   "id": "f3ba3bc6",
   "metadata": {},
   "source": [
    "#### Pair Programming "
   ]
  },
  {
   "cell_type": "markdown",
   "id": "29ea0018",
   "metadata": {},
   "source": [
    "![alt text](images/Lession%2013/Pair%20programming%20Q1.png)"
   ]
  },
  {
   "cell_type": "markdown",
   "id": "1a580fca",
   "metadata": {},
   "source": [
    "![alt text](images/Lession%2013/Pair%20Programming%20Q1%20(1).png)\n"
   ]
  },
  {
   "cell_type": "code",
   "execution_count": 108,
   "id": "04e831c5",
   "metadata": {},
   "outputs": [
    {
     "name": "stdout",
     "output_type": "stream",
     "text": [
      "Enter the two integer :12 \n",
      "Enter the two integer :3\n",
      "Division result: 4.0\n",
      "Exiting the program.\n"
     ]
    }
   ],
   "source": [
    "try:\n",
    "    #take user input\n",
    "    first_integer = int(input(\"Enter the two integer :\"))\n",
    "    second_integer = int(input(\"Enter the two integer :\"))\n",
    "    total = (first_integer / second_integer)\n",
    "except ZeroDivisionError:\n",
    "        print(\"The zero can't be using for Divission\")\n",
    "except ValueError:\n",
    "        print(\"Invalid input. Pleas enter an integer\")\n",
    "else:\n",
    "        print(\"Division result:\",total)\n",
    "finally:\n",
    "        print(\"Exiting the program.\")"
   ]
  },
  {
   "cell_type": "code",
   "execution_count": null,
   "id": "3b5aca4a",
   "metadata": {},
   "outputs": [],
   "source": []
  }
 ],
 "metadata": {
  "kernelspec": {
   "display_name": "Python 3 (ipykernel)",
   "language": "python",
   "name": "python3"
  },
  "language_info": {
   "codemirror_mode": {
    "name": "ipython",
    "version": 3
   },
   "file_extension": ".py",
   "mimetype": "text/x-python",
   "name": "python",
   "nbconvert_exporter": "python",
   "pygments_lexer": "ipython3",
   "version": "3.0.0"
  }
 },
 "nbformat": 4,
 "nbformat_minor": 5
}
