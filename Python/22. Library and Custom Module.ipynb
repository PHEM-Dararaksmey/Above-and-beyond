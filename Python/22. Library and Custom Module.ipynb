{
 "cells": [
  {
   "cell_type": "markdown",
   "metadata": {},
   "source": [
    "# 22. Library and Custom Module\n",
    "Learning Objective\n",
    "1. Learners can explain that a module isa collection of class , functions variable, and executable code , and why it is neccessary .\n",
    "2. Learners can interpret documentation on module usage to distinguish and use functions, classes , parameters, etc. provided by the module.\n",
    "3. Learners can choose and use import,from,and as statements for module usage depending on the situation.\n",
    "4. Learners can generate integr and float distributed data as desired using the random function when encountering a situation requiring unspecefied test data.\n",
    "5. Learners can interpret documentation on module usage to distinguish and use functions, classes, parameters,etc. provided by the module.\n",
    "\n",
    "* Concepts you will need to know from previous units \n",
    "    - > Section 17 <FONT color ='yellow'>User-defined Functin</FONT>:\n",
    "    - > Section 21 <FONT color ='yellow'>Class</FONT>:\n",
    "* Main keywords\n",
    "    - > import \n",
    "    - > Standard Library\n",
    "    - > External module\n",
    "    - > pip install\n",
    "## 1.Realword problem\n",
    "![alt text](images/Lession%2022/Real%20world%20problem.png)\n",
    "## 3.Programming Plan \n",
    "![alt text](images/Lession%2022/Programming%20plan%201.png)\n",
    "![alt text](images/Lession%2022/Programming%20plan%202.png)\n",
    "![alt text](images/Lession%2022/Programming%20plan%203.png)\n",
    "\n",
    "## Key Conectp\n",
    "### 1.Module\n",
    "#### 1.1 What is a module?\n",
    "\n",
    "* A module is used to<FONT color = \"yellow\"> logically group and manage python Code,</FONT> allowing it to be used.\n",
    "Typically,a single Python <FONT color = \"yellow\">.py file</FONT> become a module.\n",
    "![alt text](images/Lession%2022/What%20is%20moudel.png)\n",
    "\n",
    "* Module are divided into standard modules and external modules.\n",
    "  \n",
    "![alt text](images/Lession%2022/Model%20divie%20in%20tow%202.png)\n",
    "\n",
    "* To use these modules, you can import them <FONT color ='yellow'>using the 'import' statement</FONT> in the code <br>\n",
    "The import statement can import <FONT color =\"yellow\">one or multiple modules</FONT> as follows:\n",
    "```py\n",
    "    import module_name # using only single module \n",
    "\n",
    "    import module_name1[,module_name2,module_name3,...]\n",
    " ```\n",
    "* after importing a module, you can use <FONT color =\"yellow\">specific functions or variables</FONT>from that module using the following syntax:\n",
    "\n",
    "- > module_name.variable\n",
    "- > module_name.function_name()\n",
    "- > module_name.class_name()\n",
    "\n",
    "#### 1.2 Standard Modules, Standard Library \n",
    "\n",
    "* Standard modules are installed together with python.\n",
    "\n",
    "* <FONT color = \"yellow\"> Prominent features of the standard libray : </FONT>\n",
    "\n",
    "- > Data and Time module\n",
    "\n",
    "- > Number and Math module\n",
    "\n",
    "- > File system module\n",
    "\n",
    "- > Operating system module\n",
    "\n",
    "- > Modules for reading and writing specific data formats such as HTML, XML, Json\n",
    "\n",
    "- > Modules for using internet protocols like HTTP, SMTP,FTP\n",
    "\n",
    "- > Modules for working with multimedia data like sound and video\n",
    "\n",
    "- > Modules for using localized inofrmation such as currency and date\n",
    "\n",
    "* The standar librabry is built-in , so there is no separate installation process.<br>\n",
    "you can use it <FONT color = \"yellow\" >immediately by importing it.</FONT>\n"
   ]
  },
  {
   "cell_type": "code",
   "execution_count": 3,
   "metadata": {},
   "outputs": [],
   "source": [
    "import math"
   ]
  },
  {
   "cell_type": "markdown",
   "metadata": {},
   "source": [
    "* > math module is one of the standarad libraries that contains mathematical function."
   ]
  },
  {
   "cell_type": "code",
   "execution_count": 4,
   "metadata": {},
   "outputs": [
    {
     "data": {
      "text/plain": [
       "0.8414709848078965"
      ]
     },
     "execution_count": 4,
     "metadata": {},
     "output_type": "execute_result"
    }
   ],
   "source": [
    "math.sin(1)"
   ]
  },
  {
   "cell_type": "markdown",
   "metadata": {},
   "source": [
    "#### 1.3 External modules ,external librries \n",
    "\n",
    "* External modules are code writted by other (such as open-source libraries), so in order to use them in your code, you need to install them first.\n",
    "\n",
    "* The most recommended and secure wat to install external libraries is by using 'pip' \n",
    "Starting from Python 3.4 , 'pip' is included in the Python binary installation program, making it easy to use\n",
    "\n",
    "* 'pip' is a <FONT color ='yellow'>utility that acesses the widely used Python Packge Index(PyPi).</FONT>\n",
    "\n",
    "* if you want to install a module with special functionality, search for suitable candidate libraraies on PyPI and then install them using 'pip'."
   ]
  },
  {
   "cell_type": "code",
   "execution_count": 2,
   "metadata": {},
   "outputs": [
    {
     "name": "stdout",
     "output_type": "stream",
     "text": [
      "▇        \n",
      "▇        \n",
      "▇        \n",
      "▇        \n",
      "▇ ▇      \n",
      "▇ ▇      \n",
      "▇ ▇      \n",
      "▇ ▇     ▇\n",
      "▇ ▇     ▇\n",
      "▇ ▇   ▇ ▇\n",
      "\n"
     ]
    }
   ],
   "source": [
    "# 1.3 External modules ,external librries \n",
    "import chart\n",
    "x = [1,2,4,3,3,1,7,9,9,1,3,2,1,2]\n",
    "chart.histogram(x)"
   ]
  },
  {
   "cell_type": "markdown",
   "metadata": {},
   "source": [
    "#### 1.4 User-define modules\n",
    "\n",
    "* Python module .py file can not only be imported and used ,but also the entire script within the module file can be executed directly.\n",
    "\n",
    "* Let's practice importing modules through an exercise that calculate funds for a hospital.\n",
    "![alt text](images/Lession%2022/User-define%20modules.png)\n"
   ]
  },
  {
   "cell_type": "code",
   "execution_count": 3,
   "metadata": {},
   "outputs": [
    {
     "name": "stdout",
     "output_type": "stream",
     "text": [
      "Total fundraising is : 4\n"
     ]
    }
   ],
   "source": [
    "import fund_cal\n",
    "\n",
    "def main():\n",
    "    t = int(input(\"Enter the total number of people ateending the hospital fund event: \"))\n",
    "    total = fund_cal.fund(t)\n",
    "    print('Total fundraising is :', total)\n",
    "\n",
    "main()"
   ]
  },
  {
   "cell_type": "code",
   "execution_count": 6,
   "metadata": {},
   "outputs": [
    {
     "name": "stdout",
     "output_type": "stream",
     "text": [
      "The sum of all the number from 1 to 3  is : 6\n",
      "The value of adding all the consecutive numbers from 1 to 3 is : 3\n"
     ]
    }
   ],
   "source": [
    "import cal_n \n",
    "\n",
    "def main():\n",
    "    n = int(input(\"Enter the number you want to calculate :\"))\n",
    "    sum_v = cal_n.sum_n(n)\n",
    "    print('The sum of all the number from 1 to',n,' is :',sum_v)\n",
    "    \n",
    "    sum_vv = cal_n.sum_n2(n)\n",
    "    print('The value of adding all the consecutive numbers from 1 to',n,'is :',sum_vv)\n",
    "    \n",
    "main()"
   ]
  },
  {
   "cell_type": "markdown",
   "metadata": {},
   "source": [
    "#### 1.5 The 'from' statement \n",
    "* Module contain many variables and functions but it is rate to use all of them \n",
    "\n",
    "* When you only wnat to use specific functions from a module , you can use the ofollowing format with the 'from' statemen \n",
    "\n",
    "- > <FONT color = \"yellow\">from</FONT> module <FONT color = \"yellow\"> import </FONT> function_name \n",
    "- > <FONT color = \"yellow\">from</FONT> module <FONT color = \"yellow\"> import </FONT> clss_name \n",
    "- > <FONT color = \"yellow\">from</FONT> module <FONT color = \"yellow\"> import </FONT> variable_name \n",
    "\n",
    "* if we want to change 'math.sin(1)' from the previous practice , it would be as follows.\n"
   ]
  },
  {
   "cell_type": "code",
   "execution_count": 8,
   "metadata": {},
   "outputs": [
    {
     "data": {
      "text/plain": [
       "0.8414709848078965"
      ]
     },
     "execution_count": 8,
     "metadata": {},
     "output_type": "execute_result"
    }
   ],
   "source": [
    "from math import sin\n",
    "sin(1)"
   ]
  },
  {
   "cell_type": "markdown",
   "metadata": {},
   "source": [
    "* you can also use multiple variables or function from the module using the following format "
   ]
  },
  {
   "cell_type": "code",
   "execution_count": 12,
   "metadata": {},
   "outputs": [
    {
     "data": {
      "text/plain": [
       "0.8414709848078965"
      ]
     },
     "execution_count": 12,
     "metadata": {},
     "output_type": "execute_result"
    }
   ],
   "source": [
    "from math import sin, cos, tan\n",
    "sin(1)"
   ]
  },
  {
   "cell_type": "code",
   "execution_count": 10,
   "metadata": {},
   "outputs": [
    {
     "data": {
      "text/plain": [
       "0.5403023058681398"
      ]
     },
     "execution_count": 10,
     "metadata": {},
     "output_type": "execute_result"
    }
   ],
   "source": [
    "cos(1)"
   ]
  },
  {
   "cell_type": "code",
   "execution_count": 13,
   "metadata": {},
   "outputs": [
    {
     "data": {
      "text/plain": [
       "1.557407724654902"
      ]
     },
     "execution_count": 13,
     "metadata": {},
     "output_type": "execute_result"
    }
   ],
   "source": [
    "tan(1)"
   ]
  },
  {
   "cell_type": "markdown",
   "metadata": {},
   "source": [
    "* However, if you find it inconvenient to use the module name in front and just want to code using only the function, you can also use the format __from module_name inmport *__, which import the entire functionality of that module.\n",
    "- > <FONT color = \"yellow\">from</FONT> module <FONT color = \"yellow\"> import </FONT> *"
   ]
  },
  {
   "cell_type": "code",
   "execution_count": 2,
   "metadata": {},
   "outputs": [],
   "source": [
    "from math import *"
   ]
  },
  {
   "cell_type": "code",
   "execution_count": 3,
   "metadata": {},
   "outputs": [
    {
     "data": {
      "text/plain": [
       "0.8414709848078965"
      ]
     },
     "execution_count": 3,
     "metadata": {},
     "output_type": "execute_result"
    }
   ],
   "source": [
    "sin(1)"
   ]
  },
  {
   "cell_type": "code",
   "execution_count": 5,
   "metadata": {},
   "outputs": [
    {
     "data": {
      "text/plain": [
       "3"
      ]
     },
     "execution_count": 5,
     "metadata": {},
     "output_type": "execute_result"
    }
   ],
   "source": [
    "floor(3.2)"
   ]
  },
  {
   "cell_type": "code",
   "execution_count": 6,
   "metadata": {},
   "outputs": [
    {
     "data": {
      "text/plain": [
       "5"
      ]
     },
     "execution_count": 6,
     "metadata": {},
     "output_type": "execute_result"
    }
   ],
   "source": [
    "ceil(4.6)"
   ]
  },
  {
   "cell_type": "markdown",
   "metadata": {},
   "source": [
    "#### 1.6 as statement \n",
    "* Sometimes, the name of a module can be long and inconvenient to use in code.\n",
    "\n",
    "* Additionaly, there are cases where external libraries are installed, and there can be overlapping names. In such casesm you can use the as statement to rename the libraray or use a shortened word as an identifier.\n",
    "- > <FONT color = \"yellow\">import</FONT> module <FONT color = \"yellow\"> as </FONT> desired_module_name(identifier)"
   ]
  },
  {
   "cell_type": "code",
   "execution_count": 7,
   "metadata": {},
   "outputs": [],
   "source": [
    "import math as m "
   ]
  },
  {
   "cell_type": "code",
   "execution_count": 8,
   "metadata": {},
   "outputs": [
    {
     "data": {
      "text/plain": [
       "0.8414709848078965"
      ]
     },
     "execution_count": 8,
     "metadata": {},
     "output_type": "execute_result"
    }
   ],
   "source": [
    "m.sin(1)"
   ]
  },
  {
   "cell_type": "code",
   "execution_count": 9,
   "metadata": {},
   "outputs": [
    {
     "data": {
      "text/plain": [
       "2"
      ]
     },
     "execution_count": 9,
     "metadata": {},
     "output_type": "execute_result"
    }
   ],
   "source": [
    "m.floor(2.7)"
   ]
  },
  {
   "cell_type": "markdown",
   "metadata": {},
   "source": [
    "* In the earlier explanation about the 'from' statement, when using 'import', it was mentioned that you can import multiple variables or function names using commas.\n",
    "\n",
    "- > <FONT color = \"yellow\">from</FONT> module <FONT color = \"yellow\"> import </FONT> variable  <FONT color = \"yellow\">as</FONT> name1, function <FONT color = \"yellow\">as </FONT> name2,class <FONT color = \"yellow\">as </FONT> name3"
   ]
  },
  {
   "cell_type": "code",
   "execution_count": 10,
   "metadata": {},
   "outputs": [],
   "source": [
    "from math import sin as s, cos as c, tan as t "
   ]
  },
  {
   "cell_type": "code",
   "execution_count": 11,
   "metadata": {},
   "outputs": [
    {
     "data": {
      "text/plain": [
       "0.8414709848078965"
      ]
     },
     "execution_count": 11,
     "metadata": {},
     "output_type": "execute_result"
    }
   ],
   "source": [
    "s(1)"
   ]
  },
  {
   "cell_type": "code",
   "execution_count": 12,
   "metadata": {},
   "outputs": [
    {
     "data": {
      "text/plain": [
       "0.5403023058681398"
      ]
     },
     "execution_count": 12,
     "metadata": {},
     "output_type": "execute_result"
    }
   ],
   "source": [
    "c(1)"
   ]
  },
  {
   "cell_type": "code",
   "execution_count": 13,
   "metadata": {},
   "outputs": [
    {
     "data": {
      "text/plain": [
       "1.557407724654902"
      ]
     },
     "execution_count": 13,
     "metadata": {},
     "output_type": "execute_result"
    }
   ],
   "source": [
    "t(1)"
   ]
  },
  {
   "cell_type": "markdown",
   "metadata": {},
   "source": [
    "### 2. Using Representative Standard Libraries \n",
    "#### 2.1 Basic usage of the random module for generating random numbers \n",
    "\n",
    "* This module is used to generate random numbers. it can also be used to <FONT color ='yellow'>\n",
    "sample and extract parts from a list.</FONT>\n",
    "\n",
    "* Random means that <FONT color = 'yellow'>the result appears unpredictably each time </FONT>\n",
    "\n",
    "![alt text](images/Lession%2022/Basic%20usage%20of%20the%20random%20module%20for%20generating%20random%20numbers.png)\n",
    "\n",
    "1. Example of using random number generation \n",
    "\n",
    "    - random() is a function in the 'random' module that generates a random floating-point \n",
    "    number in range from 0 inclusive to 1 <FONT color = 'yellow'>exclusive.</FONT>"
   ]
  },
  {
   "cell_type": "code",
   "execution_count": 14,
   "metadata": {},
   "outputs": [
    {
     "name": "stdout",
     "output_type": "stream",
     "text": [
      "0.05055180212928578\n",
      "0.972931388389891\n",
      "0.7703961898135407\n",
      "0.8842911497123804\n",
      "0.42402906178542044\n",
      "0.44066691839719485\n",
      "0.09945608504311299\n",
      "0.1658991886306057\n",
      "0.2568309689621595\n",
      "0.5233972057930376\n"
     ]
    }
   ],
   "source": [
    "import random \n",
    "i = 0 \n",
    "for i in range(10):\n",
    "    a = random.random() # random() generates a randm floating-point number between 0 inclusive and 1 exclusive.\n",
    "    print(a)"
   ]
  },
  {
   "cell_type": "markdown",
   "metadata": {},
   "source": [
    "2. Example of sampling and extracting parts randomly from a list or tuple \n",
    "\n",
    "    - 'simple(list_name , sample_size)' is function that performs random sampling of the specified \n",
    "    list with the specified sample size. It is used for non-repetitie random sampling.\n",
    "\n",
    "    - Instead of a list, a tuple or set can also be used as the collection from which dat is extracted.\n",
    "\n"
   ]
  },
  {
   "cell_type": "code",
   "execution_count": 15,
   "metadata": {},
   "outputs": [
    {
     "name": "stdout",
     "output_type": "stream",
     "text": [
      "[10, 12, 1, 7, 3, 9]\n"
     ]
    }
   ],
   "source": [
    "import random \n",
    "\n",
    "data = [1,2,3,4,5,6,7,8,9,10,11,12,13]\n",
    "\n",
    "a = random.sample(data,6)\n",
    "\n",
    "print(a)"
   ]
  },
  {
   "cell_type": "markdown",
   "metadata": {},
   "source": [
    "- The choice()function extract a random element from a collection without specifying the sampling size."
   ]
  },
  {
   "cell_type": "code",
   "execution_count": 16,
   "metadata": {},
   "outputs": [
    {
     "name": "stdout",
     "output_type": "stream",
     "text": [
      "Labrador Retriever\n"
     ]
    }
   ],
   "source": [
    "import random\n",
    "\n",
    "dog_list = ('Labrador Retriever','German Shepherd','Bulldog','Beagle','Yorkshire Terrier')\n",
    "my_lovely_dog = random.choice(dog_list) # Randomly extracts an elemetn ad stores it in the 'variab my_lovely_dog'.\n",
    "\n",
    "print(my_lovely_dog)"
   ]
  },
  {
   "cell_type": "markdown",
   "metadata": {},
   "source": [
    "#### 2.2 Function of the random module fro Generating Floating-Point Distributions \n",
    "- > <FONT color = \"yellow\">random.random()</FONT> \n",
    "\n",
    "- Return the next random floating-point number from the interval [0.0,1.0]."
   ]
  },
  {
   "cell_type": "code",
   "execution_count": 17,
   "metadata": {},
   "outputs": [
    {
     "data": {
      "text/plain": [
       "0.7857722304467363"
      ]
     },
     "execution_count": 17,
     "metadata": {},
     "output_type": "execute_result"
    }
   ],
   "source": [
    "random.random()"
   ]
  },
  {
   "cell_type": "markdown",
   "metadata": {},
   "source": [
    "- > <FONT color = \"yellow\">random.uniform(a, b)</FONT> \n",
    "\n",
    "- <FONT color = 'yellow'> a <= b </FONT>\n",
    "\n",
    "- Return the next random floating-point number N that  the <FONT color = 'yellow'>satisfies a <= N <= b</FONT>.\n",
    "\n",
    "- <FONT color = 'yellow'>  b < a </FONT>\n",
    "\n",
    "- Return the next random floating-point number N that  the <FONT color = 'yellow'>satisfies b < N < a</FONT>.\n",
    "\n",
    "- <FONT color = 'yellow'> The endpoint values </FONT>\n",
    "\n",
    "- may or may not be included in the range dependingon the rounding of the floating-point value of the equation <FONT color = 'yellow'>a + (b-a) * randmom()</FONT>."
   ]
  },
  {
   "cell_type": "code",
   "execution_count": 19,
   "metadata": {},
   "outputs": [
    {
     "name": "stdout",
     "output_type": "stream",
     "text": [
      "When a <= b , a <= N <= b,  2.9720580415007913\n",
      "When b < a , b < N < A,  6.419754600082868\n"
     ]
    }
   ],
   "source": [
    "# To exaplain more easily , set'a'as the minimum value and 'b' asthe maximun value.\n",
    "import random \n",
    "x = random.uniform(1.5, 10)\n",
    "y = random.uniform(10,1.5)\n",
    "print('When a <= b , a <= N <= b, ', x)\n",
    "print('When b < a , b < N < A, ', y)"
   ]
  },
  {
   "cell_type": "markdown",
   "metadata": {},
   "source": [
    "#### 2.3 Function of the random module fro Generating interger Distributions \n",
    "- > <FONT color = \"yellow\">random.randint(a,b)</FONT> \n",
    "\n",
    "- Return a random integer ( a < N < b) between the minimum value 'a' and ' the maxminun value 'b'."
   ]
  },
  {
   "cell_type": "code",
   "execution_count": 20,
   "metadata": {},
   "outputs": [
    {
     "name": "stdout",
     "output_type": "stream",
     "text": [
      "89\n"
     ]
    }
   ],
   "source": [
    "import random\n",
    "\n",
    "x = random.randint(1,100)\n",
    "print (x)"
   ]
  },
  {
   "cell_type": "markdown",
   "metadata": {},
   "source": [
    "\n",
    "- > <FONT color = \"yellow\">random.randrange(start, stop, step)</FONT> \n",
    "\n",
    "- Return a random integer from a range of values starting from the 'start' value up to, but not including ,the 'stop' value, with a setp size of 'step'."
   ]
  },
  {
   "cell_type": "code",
   "execution_count": 21,
   "metadata": {},
   "outputs": [
    {
     "name": "stdout",
     "output_type": "stream",
     "text": [
      "31\n"
     ]
    }
   ],
   "source": [
    "import random \n",
    "x = random.randrange(1,100,2)\n",
    "print(x)"
   ]
  },
  {
   "cell_type": "markdown",
   "metadata": {},
   "source": [
    "\n",
    "- > <FONT color = \"yellow\">random.randint(a,b)</FONT> \n",
    "\n",
    "- Return a random integer N that satusfues a <=N <= b >.\n",
    "\n",
    "<FONT color = \"red\">TIP</FONT>\n",
    "- The random module is used for generating random numbers and shoulb not be used for security purposes.\n",
    "\n",
    "- For security or encryption, it is recommended to use the 'secrets' module."
   ]
  },
  {
   "cell_type": "code",
   "execution_count": 22,
   "metadata": {},
   "outputs": [
    {
     "name": "stdout",
     "output_type": "stream",
     "text": [
      "You rolled 9.\n"
     ]
    }
   ],
   "source": [
    "import random \n",
    "roll = random.randint(1,10)\n",
    "print(f\"You rolled { roll}.\")"
   ]
  },
  {
   "cell_type": "markdown",
   "metadata": {},
   "source": [
    "#### 2.4 Basic Usage of the 'time' module for Time-realated Operations \n",
    "- > <FONT color = \"yellow\">time.slep(secs)</FONT> \n",
    "\n",
    "- This is the most commonly use function among the function in the 'time' module.\n",
    "\n",
    "- It temporarily suspends the execution for a thread for the given number of seonds\n",
    "\n"
   ]
  },
  {
   "cell_type": "code",
   "execution_count": 24,
   "metadata": {},
   "outputs": [
    {
     "name": "stdout",
     "output_type": "stream",
     "text": [
      "Hello 1\n",
      "Hello 2\n",
      "Hello 3\n",
      "Hello 4\n",
      "Hello 5\n",
      "Hello 6\n",
      "Hello 7\n",
      "Hello 8\n",
      "Hello 9\n",
      "Hello 10\n"
     ]
    }
   ],
   "source": [
    "import time \n",
    "for i in range(10):\n",
    "    print(\"Hello\", i + 1)\n",
    "    time.sleep(2)"
   ]
  },
  {
   "cell_type": "markdown",
   "metadata": {},
   "source": [
    "\n",
    "- > <FONT color = \"yellow\">time.time()</FONT> \n",
    "\n",
    "- it is a function that obtains <FONT color = 'yellow'>the current time </FONT>.\n",
    "\n",
    "- It provides that eeapsed time <FONT color = 'yellow'>in seconds </FONT> based on <FONT color = 'yellow'>the Unix timestamp </FONT>.<br>\n",
    "However, the return value is a floating-point value that is difficulat to interpret.\n",
    "\n",
    "![alt text](images/Lession%2022/unix%20timestamp.png)\n",
    "\n",
    "- > <FONT color = \"yellow\">time.ctime()</FONT> \n",
    "\n",
    "- It is a function to obtain the time in a form that we can understand/\n",
    "\n",
    "\n"
   ]
  },
  {
   "cell_type": "code",
   "execution_count": 25,
   "metadata": {},
   "outputs": [
    {
     "name": "stdout",
     "output_type": "stream",
     "text": [
      "1708658722.1349812\n",
      "Fri Feb 23 10:25:22 2024\n"
     ]
    }
   ],
   "source": [
    "import time\n",
    "\n",
    "a = time.time();\n",
    "b = time.ctime();\n",
    "\n",
    "print(a)\n",
    "print(b)"
   ]
  },
  {
   "cell_type": "markdown",
   "metadata": {},
   "source": [
    "* Let's create simple digital clock."
   ]
  },
  {
   "cell_type": "code",
   "execution_count": 26,
   "metadata": {},
   "outputs": [
    {
     "name": "stdout",
     "output_type": "stream",
     "text": [
      "Fri Feb 23 10:26:29 2024\n",
      "Fri Feb 23 10:26:30 2024\n",
      "Fri Feb 23 10:26:31 2024\n",
      "Fri Feb 23 10:26:32 2024\n",
      "Fri Feb 23 10:26:33 2024\n",
      "Fri Feb 23 10:26:34 2024\n",
      "Fri Feb 23 10:26:35 2024\n",
      "Fri Feb 23 10:26:36 2024\n",
      "Fri Feb 23 10:26:37 2024\n",
      "Fri Feb 23 10:26:38 2024\n"
     ]
    }
   ],
   "source": [
    "import time \n",
    "\n",
    "for i in range(10):\n",
    "    time.sleep(1)\n",
    "    print(time.ctime())"
   ]
  },
  {
   "cell_type": "markdown",
   "metadata": {},
   "source": [
    "- > <FONT color = \"yellow\">time.strftime('format','time_object)</FONT>\n",
    "\n",
    "* It is a function that returns the date and time information as a string in a specific format.\n",
    "\n",
    "* if the %y form code is provided, itrepresents the two-digit year. Values 69-99 represent 1969 -1999, and value 0-68 represent 2000-2068\n",
    "\n",
    "- <FONT color = 'red'> %a </FONT> : abbreviated weekday name\n",
    "- <FONT color = 'red'> %b </FONT> : abbreviated month name\n",
    "- <FONT color = 'red'> %d </FONT> : date as a two-digit decimal\n",
    "- <FONT color = 'red'> %Y </FONT> : year as a four-digit decimal"
   ]
  },
  {
   "cell_type": "code",
   "execution_count": 27,
   "metadata": {},
   "outputs": [
    {
     "data": {
      "text/plain": [
       "'Fri , 23 , Feb , 2024 , 03:33:35 + 0000 '"
      ]
     },
     "execution_count": 27,
     "metadata": {},
     "output_type": "execute_result"
    }
   ],
   "source": [
    "from time import gmtime, strftime \n",
    "strftime('%a , %d , %b , %Y , %H:%M:%S + 0000 ', gmtime())"
   ]
  },
  {
   "cell_type": "code",
   "execution_count": 29,
   "metadata": {},
   "outputs": [
    {
     "data": {
      "text/plain": [
       "'Fri , 23 , Feb , 2024 , 10:35:08 + 0000 '"
      ]
     },
     "execution_count": 29,
     "metadata": {},
     "output_type": "execute_result"
    }
   ],
   "source": [
    "from time import localtime, strftime \n",
    "strftime('%a , %d , %b , %Y , %H:%M:%S + 0000 ', localtime())"
   ]
  },
  {
   "cell_type": "markdown",
   "metadata": {},
   "source": [
    "#### 2.5 Basic Usage of the 'datetime' module realated to date and time \n",
    "- > <FONT color = \"yellow\">datetime.date.today()</FONT> \n",
    "\n",
    "- It is a module realted to data and time and is ofen used when creating <FONT color ='yellow'>data formats</FONT>\n",
    "\n",
    "- The following are <FONT color = 'yellow'>various cases of outputting basic dates.</FONT>\n",
    "\n"
   ]
  },
  {
   "cell_type": "code",
   "execution_count": 30,
   "metadata": {},
   "outputs": [
    {
     "name": "stdout",
     "output_type": "stream",
     "text": [
      "2024-02-23\n",
      "2024 year\n",
      "2 month\n",
      "23 day\n"
     ]
    }
   ],
   "source": [
    "import datetime \n",
    "today = datetime.date.today()\n",
    "print(today)\n",
    "print(today.year,'year')\n",
    "print(today.month,'month')\n",
    "print(today.day,'day')"
   ]
  },
  {
   "cell_type": "code",
   "execution_count": 31,
   "metadata": {},
   "outputs": [
    {
     "name": "stdout",
     "output_type": "stream",
     "text": [
      "2024-02-23 10:55:07.133546\n",
      "2024 year\n",
      "2 month\n",
      "23 day\n",
      "10 hour\n",
      "55 minute\n",
      "7 second\n"
     ]
    }
   ],
   "source": [
    "import datetime \n",
    "now = datetime.datetime.now()\n",
    "print(now)\n",
    "print(now.year,'year')\n",
    "print(now.month,'month')\n",
    "print(now.day,'day')\n",
    "print(now.hour,'hour')\n",
    "print(now.minute,'minute')\n",
    "print(now.second,'second')"
   ]
  },
  {
   "cell_type": "markdown",
   "metadata": {},
   "source": [
    "- > <FONT color = \"yellow\">datetime.timedelta(days=0, seconds=0, microseconds=0, milliseconds=0 ,minutes=0 , hours=0 , weeks =0)</FONT>\n",
    "\n",
    "* Represents the duration between two dates and times.\n",
    "\n",
    "* All arguments are not required, optional and have a default value of 0.<br>\n",
    "They can be entered as integers or floating-point numbers, and positive and negative values can be used.\n",
    "\n",
    "- <FONT color = 'red'> Millisenconds </FONT> : are converted to <FONT color = 'red'> 1000 </FONT> microsecods. \n",
    "- <FONT color = 'red'> Minutes </FONT> : are conveted <FONT color = 'red'> 60 </FONT> seconds.\n",
    "- <FONT color = 'red'> Hours </FONT> : are converted to <FONT color = 'red'> 3600 </FONT> second.\n",
    "- <FONT color = 'red'> Weeks </FONT> :  are converted to <FONT color = 'red'>7</FONT> days."
   ]
  },
  {
   "cell_type": "code",
   "execution_count": 32,
   "metadata": {},
   "outputs": [
    {
     "name": "stdout",
     "output_type": "stream",
     "text": [
      "64 days, 8:05:56.000010\n"
     ]
    }
   ],
   "source": [
    "from datetime import timedelta\n",
    "\n",
    "delta = timedelta(\n",
    "    days= 50,\n",
    "    seconds= 27,\n",
    "    microseconds= 10,\n",
    "    milliseconds= 29000,\n",
    "    minutes= 5,\n",
    "    hours= 8,\n",
    "    weeks= 2\n",
    ")\n",
    "print (delta)"
   ]
  },
  {
   "cell_type": "markdown",
   "metadata": {},
   "source": [
    "- > <FONT color = \"yellow\">datetime.replace(year = , month = , day= , hour = , minute= , second= , microsecond= )</FONT>"
   ]
  },
  {
   "cell_type": "code",
   "execution_count": 33,
   "metadata": {},
   "outputs": [
    {
     "name": "stdout",
     "output_type": "stream",
     "text": [
      "2000-06-02 00:00:00\n"
     ]
    }
   ],
   "source": [
    "from datetime import timedelta\n",
    "d = datetime.datetime(2000,5,3)\n",
    "delta = datetime.timedelta(days = 30)\n",
    "print(d + delta)"
   ]
  },
  {
   "cell_type": "code",
   "execution_count": 35,
   "metadata": {},
   "outputs": [
    {
     "name": "stdout",
     "output_type": "stream",
     "text": [
      "2024-02-23 11:12:18.441049\n",
      "2024-12-30 11:12:18.441049\n"
     ]
    }
   ],
   "source": [
    "from datetime import datetime\n",
    "now = datetime.now()\n",
    "\n",
    "print(now)\n",
    "\n",
    "replace_time = now.replace(month = 12,day = 30)\n",
    "\n",
    "print(replace_time)"
   ]
  },
  {
   "cell_type": "markdown",
   "metadata": {},
   "source": [
    "#### 2.6 Basic usage of the 'os' module relatedto operating systems \n",
    "* This module contains function related to operating system.\n",
    "    - It allows you create a new folder on your computer or examine the list of file inside  \n",
    "    a folder using the os module.\n",
    "- <FONT color = 'red'> os.mkdir </FONT> :(\"folder name\") <FONT color = 'red'> Creates a folder. </FONT> \n",
    "- <FONT color = 'red'> os.rmkdir </FONT> :(\"folder name\") <FONT color = 'red'> Deletes  a folder. </FONT> \n",
    "- <FONT color = 'red'> os.getcwd() </FONT> : Return <FONT color = 'red'> the current path </FONT> \n",
    "- <FONT color = 'red'> os.listdir() </FONT> : Retrieve a list of  <FONT color = 'red'> files </FONT> and <FONT color = 'red'> directoies. </FONT> \n"
   ]
  },
  {
   "cell_type": "code",
   "execution_count": 36,
   "metadata": {},
   "outputs": [
    {
     "data": {
      "text/plain": [
       "'/Users/anbschool0022/Documents/Phem Dararaksmey/Python'"
      ]
     },
     "execution_count": 36,
     "metadata": {},
     "output_type": "execute_result"
    }
   ],
   "source": [
    "import os \n",
    "os .getcwd()"
   ]
  },
  {
   "cell_type": "code",
   "execution_count": 37,
   "metadata": {},
   "outputs": [
    {
     "data": {
      "text/plain": [
       "['.DS_Store',\n",
       " '21. Class.ipynb',\n",
       " 'images',\n",
       " 'Week-3_Tuesday.ipynb',\n",
       " 'Week-3_Thursday.ipynb',\n",
       " 'Pair programming - every unit.ipynb',\n",
       " 'book.json',\n",
       " 'Week-2_Thursday.ipynb',\n",
       " 'Week-2_Monday_n_Tuesday.ipynb',\n",
       " '2. Variables and Data Types Operators.ipynb',\n",
       " '__pycache__',\n",
       " 'PythonNotesForProfessionals.pdf',\n",
       " '22. Library and Custom Module.ipynb',\n",
       " 'Python test every unit-1.ipynb',\n",
       " 'Week-3_Wednesday.ipynb',\n",
       " '17. User-defined Function.ipynb',\n",
       " 'cal_n.py',\n",
       " '.ipynb_checkpoints',\n",
       " '19. Lambda.ipynb',\n",
       " 'Week-1.ipynb',\n",
       " 'Paper code-every-unit .ipynb',\n",
       " 'Week-2_Friday.ipynb',\n",
       " 'fund_cal.py',\n",
       " 'hello1.txt',\n",
       " '3. String Input and Output, Built-in Function Module.ipynb',\n",
       " 'Mission-every unit.ipynb',\n",
       " 'Week-2_Wednesday.ipynb',\n",
       " 'hello.txt',\n",
       " '6.Conditional Statement-2- Making Two-Way Decisions.ipynb',\n",
       " '20. Closure.ipynb',\n",
       " '5.Conditional Statement-1- Condition and Decision Making.ipynb',\n",
       " 'Week-3_Friday.ipynb',\n",
       " 'data5.txt',\n",
       " '4.Boolean expression .ipynb']"
      ]
     },
     "execution_count": 37,
     "metadata": {},
     "output_type": "execute_result"
    }
   ],
   "source": [
    "import os \n",
    "os.listdir()"
   ]
  },
  {
   "cell_type": "markdown",
   "metadata": {},
   "source": [
    "### 3. Turtle Graphic \n",
    "#### 3.1 A tool for drawing in Python, Turtle Graphics \n",
    "* Let's briefly look at Turtle Graphics, a tool for drawing in Python.\n",
    "\n",
    "![alt text](images/Lession%2022/Turtle%20Graphic%20.png)\n",
    "\n",
    "#### 3.2 Drawing picture using turtle \n",
    "* When you run the ode below, the turtle execution window appears on the screen, and the cursor move to draw a picture.\n",
    "\n",
    "```python\n",
    "    import turtle as t \n",
    "        t.setup(width= 400, height= 400)\n",
    "        for i in range(200):\n",
    "        t.forward(i)\n",
    "        t.left(93)\n",
    "    t.done()\n",
    "```\n",
    "#### 3.3 Initializing the Turtle and Changing its Appearance"
   ]
  },
  {
   "cell_type": "code",
   "execution_count": null,
   "metadata": {},
   "outputs": [],
   "source": [
    "import turtle as t  # 't' s an alias for the turtle module.\n",
    "t.setup(width= 400, height= 400) # 't.setup' function specifies the size of the dialog box that appears on the screen, \n",
    "                                 #along wiht its title and various attributes.\n",
    "for i in range(200):\n",
    "    t.forward(i) # 't.forward(i)' moves the cursor to the left by 'i' pixels and simulaneously draws a black solid line.\n",
    "    t.left(93) # 't.left(93)' rotates the cursor to the left by 93 degrees.\n",
    "t.done()"
   ]
  },
  {
   "cell_type": "markdown",
   "metadata": {},
   "source": [
    "#### 3.4 Turtle Commands\n",
    "\n",
    "![alt text](images/Lession%2022/Turtle%20Commands.png)\n",
    "\n",
    "![alt text](images/Lession%2022/Turtle%20Commands%201.png)\n",
    "\n",
    "![alt text](images/Lession%2022/Turtle%20Commands%20%202.png)\n",
    "\n",
    "![alt text](images/Lession%2022/Turtle%20Commands3.png)\n",
    "\n",
    "![alt text](images/Lession%2022/Turtle%20Commands4.png)\n",
    "\n",
    "#### 3.5 Creating Artwork with Turtle\n",
    "\n",
    "![alt text](images/Lession%2022/Art%20with%20tuple.png)\n",
    "\n",
    "```python \n",
    "    import turtle \n",
    "\n",
    "    color = ['red','yellow','blue','orange','green','red'] # create a geometric rainbow pattern\n",
    "\n",
    "    aiden = turtle.Turtle() \n",
    "    turtle.bgcolor('black') # change to back group to black\n",
    "\n",
    "    for n in range(36): # make 36 hexagons,each 10 degrees apart\n",
    "        for i in range(6): # make hexagon by repeating 6 times\n",
    "            aiden.color(color[i]) # Pick color at postion 'i'\n",
    "            aiden.forward(100) # \n",
    "            aiden.left(60)\n",
    "            aiden.right(10) # Add a turn before the next hexagon\n",
    "\n",
    "    aiden.penup() # prepare to draw 36 circlue\n",
    "    aiden.color('while') \n",
    "    for i in range(36): # Repeat 36 times to maktch the 36 hexagons\n",
    "        aiden.forward(200) \n",
    "        aiden.pendown()\n",
    "        aiden.circle(5)\n",
    "        aiden.penup()\n",
    "        aiden.backward(220)\n",
    "        aiden.right(10)\n",
    "            \n",
    "    aiden.hideturtle() # Hid turtle to finish the drawing\n",
    "            \n",
    "```\n",
    "__OUTPUT__\n",
    "\n",
    "![alt text](images/Lession%2022/The%20output%20of%20code.png)\n",
    "\n",
    "### 4. Regular Expressions and Meta Characters \n",
    "#### 4.1 What is a Regualr Expression\n",
    "\n",
    "* A regular reexpression is a language with rules used to <FONT color = 'yellow'>represent strings that have specific patterns</FONT>.\n",
    "\n",
    "* Regular expressions are very important in internet <FONT color = 'yellow'>web page parsing and crawling</FONT>.\n",
    "\n",
    "![alt text](images/Lession%2022/regular%20.png)\n",
    "\n",
    "#### 4.2 Searching with Regular Expression \n",
    "\n",
    "* Regular expression have complex syntax. Here, we will focus on <FONT color ='yellow'>basic search</FONT>\n",
    "\n",
    "* To use regular expression in Python, you need to include the <FONT color = 'yellow'>'re' module </FONT>\n",
    "\n",
    "* You can use the <FONT color = 'yellow'>'search' function</FONT> to check if a specific string is present in a text.\n",
    "\n",
    "* Let's ind out if <FONT color = 'yellow'>the string 'Life'</FONT> is present in the two strings,'text1' and 'text2'\n"
   ]
  },
  {
   "cell_type": "code",
   "execution_count": null,
   "metadata": {},
   "outputs": [],
   "source": [
    "import re \n",
    "\n",
    "text1 = 'Life is too short, you need python'\n",
    "text2 = 'The best moments of my life.'\n",
    "print(re.search('Life',text1))"
   ]
  },
  {
   "cell_type": "code",
   "execution_count": null,
   "metadata": {},
   "outputs": [],
   "source": [
    "print(re.search('Life',text2))"
   ]
  },
  {
   "cell_type": "code",
   "execution_count": null,
   "metadata": {},
   "outputs": [],
   "source": []
  }
 ],
 "metadata": {
  "kernelspec": {
   "display_name": "Python 3 (ipykernel)",
   "language": "python",
   "name": "python3"
  },
  "language_info": {
   "codemirror_mode": {
    "name": "ipython",
    "version": 3
   },
   "file_extension": ".py",
   "mimetype": "text/x-python",
   "name": "python",
   "nbconvert_exporter": "python",
   "pygments_lexer": "ipython3",
   "version": "3.8.18"
  }
 },
 "nbformat": 4,
 "nbformat_minor": 2
}
