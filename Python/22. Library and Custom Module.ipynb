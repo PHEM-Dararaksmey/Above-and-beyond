{
 "cells": [
  {
   "cell_type": "markdown",
   "metadata": {},
   "source": [
    "# 22. Library and Custom Module\n",
    "Learning Objective\n",
    "1. Learners can explain that a module isa collection of class , functions variable, and executable code , and why it is neccessary .\n",
    "2. Learners can interpret documentation on module usage to distinguish and use functions, classes , parameters, etc. provided by the module.\n",
    "3. Learners can choose and use import,from,and as statements for module usage depending on the situation.\n",
    "4. Learners can generate integr and float distributed data as desired using the random function when encountering a situation requiring unspecefied test data.\n",
    "5. Learners can interpret documentation on module usage to distinguish and use functions, classes, parameters,etc. provided by the module.\n",
    "\n",
    "* Concepts you will need to know from previous units \n",
    "    - > Section 17 <FONT color ='yellow'>User-defined Functin</FONT>:\n",
    "    - > Section 21 <FONT color ='yellow'>Class</FONT>:\n",
    "* Main keywords\n",
    "    - > import \n",
    "    - > Standard Library\n",
    "    - > External module\n",
    "    - > pip install\n",
    "## 1.Realword problem\n",
    "![alt text](images/Lession%2022/Real%20world%20problem.png)\n",
    "## 3.Programming Plan \n",
    "![alt text](images/Lession%2022/Programming%20plan%201.png)\n",
    "![alt text](images/Lession%2022/Programming%20plan%202.png)\n",
    "![alt text](images/Lession%2022/Programming%20plan%203.png)\n",
    "\n",
    "## Key Conectp\n",
    "### 1.Module\n",
    "#### 1.1 What is a module?\n",
    "\n",
    "* A module is used to<FONT color = \"yellow\"> logically group and manage python Code,</FONT> allowing it to be used.\n",
    "Typically,a single Python <FONT color = \"yellow\">.py file</FONT> become a module.\n",
    "![alt text](images/Lession%2022/What%20is%20moudel.png)\n",
    "\n",
    "* Module are divided into standard modules and external modules.\n",
    "  \n",
    "![alt text](images/Lession%2022/Model%20divie%20in%20tow%202.png)\n",
    "\n",
    "* To use these modules, you can import them <FONT color ='yellow'>using the 'import' statement</FONT> in the code <br>\n",
    "The import statement can import <FONT color =\"yellow\">one or multiple modules</FONT> as follows:\n",
    "```py\n",
    "    import module_name # using only single module \n",
    "\n",
    "    import module_name1[,module_name2,module_name3,...]\n",
    " ```\n",
    "* after importing a module, you can use <FONT color =\"yellow\">specific functions or variables</FONT>from that module using the following syntax:\n",
    "\n",
    "- > module_name.variable\n",
    "- > module_name.function_name()\n",
    "- > module_name.class_name()\n",
    "\n",
    "#### 1.2 Standard Modules, Standard Library \n",
    "\n",
    "* Standard modules are installed together with python.\n",
    "\n",
    "* <FONT color = \"yellow\"> Prominent features of the standard libray : </FONT>\n",
    "\n",
    "- > Data and Time module\n",
    "\n",
    "- > Number and Math module\n",
    "\n",
    "- > File system module\n",
    "\n",
    "- > Operating system module\n",
    "\n",
    "- > Modules for reading and writing specific data formats such as HTML, XML, Json\n",
    "\n",
    "- > Modules for using internet protocols like HTTP, SMTP,FTP\n",
    "\n",
    "- > Modules for working with multimedia data like sound and video\n",
    "\n",
    "- > Modules for using localized inofrmation such as currency and date\n",
    "\n",
    "* The standar librabry is built-in , so there is no separate installation process.<br>\n",
    "you can use it <FONT color = \"yellow\" >immediately by importing it.</FONT>\n"
   ]
  },
  {
   "cell_type": "code",
   "execution_count": 3,
   "metadata": {},
   "outputs": [],
   "source": [
    "import math"
   ]
  },
  {
   "cell_type": "markdown",
   "metadata": {},
   "source": [
    "* > math module is one of the standarad libraries that contains mathematical function."
   ]
  },
  {
   "cell_type": "code",
   "execution_count": 4,
   "metadata": {},
   "outputs": [
    {
     "data": {
      "text/plain": [
       "0.8414709848078965"
      ]
     },
     "execution_count": 4,
     "metadata": {},
     "output_type": "execute_result"
    }
   ],
   "source": [
    "math.sin(1)"
   ]
  },
  {
   "cell_type": "markdown",
   "metadata": {},
   "source": [
    "#### 1.3 External modules ,external librries \n",
    "\n",
    "* External modules are code writted by other (such as open-source libraries), so in order to use them in your code, you need to install them first.\n",
    "\n",
    "* The most recommended and secure wat to install external libraries is by using 'pip' \n",
    "Starting from Python 3.4 , 'pip' is included in the Python binary installation program, making it easy to use\n",
    "\n",
    "* 'pip' is a <FONT color ='yellow'>utility that acesses the widely used Python Packge Index(PyPi).</FONT>\n",
    "\n",
    "* if you want to install a module with special functionality, search for suitable candidate libraraies on PyPI and then install them using 'pip'."
   ]
  },
  {
   "cell_type": "code",
   "execution_count": 2,
   "metadata": {},
   "outputs": [
    {
     "name": "stdout",
     "output_type": "stream",
     "text": [
      "▇        \n",
      "▇        \n",
      "▇        \n",
      "▇        \n",
      "▇ ▇      \n",
      "▇ ▇      \n",
      "▇ ▇      \n",
      "▇ ▇     ▇\n",
      "▇ ▇     ▇\n",
      "▇ ▇   ▇ ▇\n",
      "\n"
     ]
    }
   ],
   "source": [
    "# 1.3 External modules ,external librries \n",
    "import chart\n",
    "x = [1,2,4,3,3,1,7,9,9,1,3,2,1,2]\n",
    "chart.histogram(x)"
   ]
  },
  {
   "cell_type": "markdown",
   "metadata": {},
   "source": [
    "#### 1.4 User-define modules\n",
    "\n",
    "* Python module .py file can not only be imported and used ,but also the entire script within the module file can be executed directly.\n",
    "\n",
    "* Let's practice importing modules through an exercise that calculate funds for a hospital.\n",
    "![alt text](images/Lession%2022/User-define%20modules.png)\n"
   ]
  },
  {
   "cell_type": "code",
   "execution_count": 3,
   "metadata": {},
   "outputs": [
    {
     "name": "stdout",
     "output_type": "stream",
     "text": [
      "Total fundraising is : 4\n"
     ]
    }
   ],
   "source": [
    "import fund_cal\n",
    "\n",
    "def main():\n",
    "    t = int(input(\"Enter the total number of people ateending the hospital fund event: \"))\n",
    "    total = fund_cal.fund(t)\n",
    "    print('Total fundraising is :', total)\n",
    "\n",
    "main()"
   ]
  },
  {
   "cell_type": "code",
   "execution_count": 6,
   "metadata": {},
   "outputs": [
    {
     "name": "stdout",
     "output_type": "stream",
     "text": [
      "The sum of all the number from 1 to 3  is : 6\n",
      "The value of adding all the consecutive numbers from 1 to 3 is : 3\n"
     ]
    }
   ],
   "source": [
    "import cal_n \n",
    "\n",
    "def main():\n",
    "    n = int(input(\"Enter the number you want to calculate :\"))\n",
    "    sum_v = cal_n.sum_n(n)\n",
    "    print('The sum of all the number from 1 to',n,' is :',sum_v)\n",
    "    \n",
    "    sum_vv = cal_n.sum_n2(n)\n",
    "    print('The value of adding all the consecutive numbers from 1 to',n,'is :',sum_vv)\n",
    "    \n",
    "main()"
   ]
  },
  {
   "cell_type": "markdown",
   "metadata": {},
   "source": [
    "#### 1.5 The 'from' statement \n",
    "* Module contain many variables and functions but it is rate to use all of them \n",
    "\n",
    "* When you only wnat to use specific functions from a module , you can use the ofollowing format with the 'from' statemen \n",
    "\n",
    "- > <FONT color = \"yellow\">from</FONT> module <FONT color = \"yellow\"> import </FONT> function_name \n",
    "- > <FONT color = \"yellow\">from</FONT> module <FONT color = \"yellow\"> import </FONT> clss_name \n",
    "- > <FONT color = \"yellow\">from</FONT> module <FONT color = \"yellow\"> import </FONT> variable_name \n",
    "\n",
    "* if we want to change 'math.sin(1)' from the previous practice , it would be as follows.\n"
   ]
  },
  {
   "cell_type": "code",
   "execution_count": 8,
   "metadata": {},
   "outputs": [
    {
     "data": {
      "text/plain": [
       "0.8414709848078965"
      ]
     },
     "execution_count": 8,
     "metadata": {},
     "output_type": "execute_result"
    }
   ],
   "source": [
    "from math import sin\n",
    "sin(1)"
   ]
  },
  {
   "cell_type": "markdown",
   "metadata": {},
   "source": [
    "* you can also use multiple variables or function from the module using the following format "
   ]
  },
  {
   "cell_type": "code",
   "execution_count": 12,
   "metadata": {},
   "outputs": [
    {
     "data": {
      "text/plain": [
       "0.8414709848078965"
      ]
     },
     "execution_count": 12,
     "metadata": {},
     "output_type": "execute_result"
    }
   ],
   "source": [
    "from math import sin, cos, tan\n",
    "sin(1)"
   ]
  },
  {
   "cell_type": "code",
   "execution_count": 10,
   "metadata": {},
   "outputs": [
    {
     "data": {
      "text/plain": [
       "0.5403023058681398"
      ]
     },
     "execution_count": 10,
     "metadata": {},
     "output_type": "execute_result"
    }
   ],
   "source": [
    "cos(1)"
   ]
  },
  {
   "cell_type": "code",
   "execution_count": 13,
   "metadata": {},
   "outputs": [
    {
     "data": {
      "text/plain": [
       "1.557407724654902"
      ]
     },
     "execution_count": 13,
     "metadata": {},
     "output_type": "execute_result"
    }
   ],
   "source": [
    "tan(1)"
   ]
  },
  {
   "cell_type": "code",
   "execution_count": null,
   "metadata": {},
   "outputs": [],
   "source": [
    "#1.5"
   ]
  }
 ],
 "metadata": {
  "kernelspec": {
   "display_name": "Python 3 (ipykernel)",
   "language": "python",
   "name": "python3"
  },
  "language_info": {
   "codemirror_mode": {
    "name": "ipython",
    "version": 3
   },
   "file_extension": ".py",
   "mimetype": "text/x-python",
   "name": "python",
   "nbconvert_exporter": "python",
   "pygments_lexer": "ipython3",
   "version": "3.8.18"
  }
 },
 "nbformat": 4,
 "nbformat_minor": 2
}
