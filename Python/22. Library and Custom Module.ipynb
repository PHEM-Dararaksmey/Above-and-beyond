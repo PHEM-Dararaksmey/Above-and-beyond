{
 "cells": [
  {
   "cell_type": "markdown",
   "metadata": {},
   "source": [
    "# 22. Library and Custom Module\n",
    "Learning Objective\n",
    "1. Learners can explain that a module isa collection of class , functions variable, and executable code , and why it is neccessary .\n",
    "2. Learners can interpret documentation on module usage to distinguish and use functions, classes , parameters, etc. provided by the module.\n",
    "3. Learners can choose and use import,from,and as statements for module usage depending on the situation.\n",
    "4. Learners can generate integr and float distributed data as desired using the random function when encountering a situation requiring unspecefied test data.\n",
    "5. Learners can interpret documentation on module usage to distinguish and use functions, classes, parameters,etc. provided by the module.\n",
    "\n",
    "* Concepts you will need to know from previous units \n",
    "    - > Section 17 <FONT color ='yellow'>User-defined Functin</FONT>:\n",
    "    - > Section 21 <FONT color ='yellow'>Class</FONT>:\n",
    "* Main keywords\n",
    "    - > import \n",
    "    - > Standard Library\n",
    "    - > External module\n",
    "    - > pip install\n",
    "## 1.Realword problem\n",
    "![alt text](images/Lession%2022/Real%20world%20problem.png)\n",
    "## 3.Programming Plan \n",
    "![alt text](images/Lession%2022/Programming%20plan%201.png)\n",
    "![alt text](images/Lession%2022/Programming%20plan%202.png)\n",
    "![alt text](images/Lession%2022/Programming%20plan%203.png)\n",
    "\n",
    "## Key Conectp\n",
    "### 1.Module\n",
    "#### 1.1 What is a module?\n",
    "\n",
    "* A module is used to<FONT color = \"yellow\"> logically group and manage python Code,</FONT> allowing it to be used.\n",
    "Typically,a single Python <FONT color = \"yellow\">.py file</FONT> become a module.\n",
    "![alt text](images/Lession%2022/What%20is%20moudel.png)\n",
    "\n",
    "* Module are divided into standard modules and external modules.\n",
    "  \n",
    "![alt text](images/Lession%2022/Model%20divie%20in%20tow%202.png)\n",
    "\n",
    "* To use these modules, you can import them <FONT color ='yellow'>using the 'import' statement</FONT> in the code <br>\n",
    "The import statement can import <FONT color =\"yellow\">one or multiple modules</FONT> as follows:\n"
   ]
  },
  {
   "cell_type": "code",
   "execution_count": 1,
   "metadata": {},
   "outputs": [],
   "source": [
    "import math"
   ]
  },
  {
   "cell_type": "code",
   "execution_count": 2,
   "metadata": {},
   "outputs": [
    {
     "data": {
      "text/plain": [
       "0.8414709848078965"
      ]
     },
     "execution_count": 2,
     "metadata": {},
     "output_type": "execute_result"
    }
   ],
   "source": [
    "math.sin(1)"
   ]
  },
  {
   "cell_type": "code",
   "execution_count": 2,
   "metadata": {},
   "outputs": [
    {
     "name": "stdout",
     "output_type": "stream",
     "text": [
      "▇        \n",
      "▇        \n",
      "▇        \n",
      "▇        \n",
      "▇ ▇      \n",
      "▇ ▇      \n",
      "▇ ▇      \n",
      "▇ ▇     ▇\n",
      "▇ ▇     ▇\n",
      "▇ ▇   ▇ ▇\n",
      "\n"
     ]
    }
   ],
   "source": [
    "# 1.3 External modules ,external librries \n",
    "import chart \n",
    "x = [1,2,4,3,3,1,7,9,9,1,3,2,1,2]\n",
    "chart.histogram(x)"
   ]
  },
  {
   "cell_type": "code",
   "execution_count": 3,
   "metadata": {},
   "outputs": [
    {
     "ename": "SyntaxError",
     "evalue": "invalid syntax (129999871.py, line 2)",
     "output_type": "error",
     "traceback": [
      "\u001b[0;36m  Cell \u001b[0;32mIn[3], line 2\u001b[0;36m\u001b[0m\n\u001b[0;31m    return t+\u001b[0m\n\u001b[0m             ^\u001b[0m\n\u001b[0;31mSyntaxError\u001b[0m\u001b[0;31m:\u001b[0m invalid syntax\n"
     ]
    }
   ],
   "source": []
  },
  {
   "cell_type": "code",
   "execution_count": null,
   "metadata": {},
   "outputs": [],
   "source": []
  }
 ],
 "metadata": {
  "kernelspec": {
   "display_name": "Python 3 (ipykernel)",
   "language": "python",
   "name": "python3"
  },
  "language_info": {
   "codemirror_mode": {
    "name": "ipython",
    "version": 3
   },
   "file_extension": ".py",
   "mimetype": "text/x-python",
   "name": "python",
   "nbconvert_exporter": "python",
   "pygments_lexer": "ipython3",
   "version": "3.11.5"
  }
 },
 "nbformat": 4,
 "nbformat_minor": 2
}
