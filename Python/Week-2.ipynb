{
 "cells": [
  {
   "cell_type": "markdown",
   "metadata": {},
   "source": [
    "# Week 2"
   ]
  },
  {
   "cell_type": "markdown",
   "metadata": {},
   "source": [
    "## Monday : 05 / 02 / 2024 \n",
    "Time : 8 AM - 5PM"
   ]
  },
  {
   "cell_type": "markdown",
   "metadata": {},
   "source": [
    "### Lession 3 String Input and Output, Built-in Function Module\n",
    "time start : 8 AM <br>\n",
    "<br>\n",
    "keyword of this lesson : String data type , string indexing ,string methods,Escape sequence, String formatting , String splitting ,input statment, build in function , build in modules"
   ]
  },
  {
   "cell_type": "markdown",
   "metadata": {},
   "source": [
    "#### .Real world problem <br>\n",
    "1.1 Overweight and social issues <br>\n",
    "<br>\n",
    "2.1 BMI Calculator \n"
   ]
  },
  {
   "cell_type": "code",
   "execution_count": 85,
   "metadata": {},
   "outputs": [
    {
     "name": "stdout",
     "output_type": "stream",
     "text": [
      "THE BMI Calculate Process \n",
      "Your information\n",
      "Name :Phem Dararaksmey\n",
      "Weight:60\n",
      "hight in cm:165\n",
      "high_m:16500\n",
      "Your BMI result is = 2.2038567493112948e-07\n"
     ]
    }
   ],
   "source": [
    "print(\"THE BMI Calculate Process \")\n",
    "#Receive the name\n",
    "name = input(\"Enter your name:\")\n",
    "#Receive the weight \n",
    "weight = int(input(\"Enter your weight :\"))\n",
    "# Receive the hight \n",
    "hight_cm = int(input(\"Enter your hight in cm :\"))\n",
    "# convert the hight \n",
    "hight_m = (hight_cm * 100)\n",
    "#Calculate the BMI (formula : BMI = kg/m2)\n",
    "BMI_result = (weight / (hight_m ** 2))\n",
    "#print out the BMI result\n",
    "print(\"Your information\")\n",
    "print(f\"Name :{name}\")\n",
    "print(f\"Weight:{weight}\")\n",
    "print(f\"hight in cm:{hight_cm}\")\n",
    "print(f\"high_m:{hight_m}\")\n",
    "print(f\"Your BMI result is = {BMI_result}\")\n",
    "\n"
   ]
  },
  {
   "cell_type": "markdown",
   "metadata": {},
   "source": [
    "##### 1 string "
   ]
  },
  {
   "cell_type": "code",
   "execution_count": 19,
   "metadata": {},
   "outputs": [
    {
     "name": "stdout",
     "output_type": "stream",
     "text": [
      "Hello world\n",
      "Hello world\n"
     ]
    }
   ],
   "source": [
    "print(\"Hello world\")\n",
    "print('Hello world')"
   ]
  },
  {
   "cell_type": "markdown",
   "metadata": {},
   "source": [
    "##### 1.2 String and variable "
   ]
  },
  {
   "cell_type": "code",
   "execution_count": 20,
   "metadata": {},
   "outputs": [
    {
     "name": "stdout",
     "output_type": "stream",
     "text": [
      "Hello world\n"
     ]
    }
   ],
   "source": [
    "String1 = 'Hello world'\n",
    "print(String1)"
   ]
  },
  {
   "cell_type": "markdown",
   "metadata": {},
   "source": [
    "##### 1.3 Concatenation Operator and Repetition Operator "
   ]
  },
  {
   "cell_type": "code",
   "execution_count": 21,
   "metadata": {},
   "outputs": [
    {
     "name": "stdout",
     "output_type": "stream",
     "text": [
      "HelloWorld\n"
     ]
    }
   ],
   "source": [
    "String1 = \"Hello\" \n",
    "String2 = \"World\"\n",
    "String_combine = String1 + String2\n",
    "print(String_combine)"
   ]
  },
  {
   "cell_type": "code",
   "execution_count": 22,
   "metadata": {},
   "outputs": [
    {
     "data": {
      "text/plain": [
       "'PythonPythonPythonPythonPythonPythonPythonPythonPythonPython'"
      ]
     },
     "execution_count": 22,
     "metadata": {},
     "output_type": "execute_result"
    }
   ],
   "source": [
    "'Python' * 10 "
   ]
  },
  {
   "cell_type": "code",
   "execution_count": 23,
   "metadata": {},
   "outputs": [
    {
     "data": {
      "text/plain": [
       "'**************************************************'"
      ]
     },
     "execution_count": 23,
     "metadata": {},
     "output_type": "execute_result"
    }
   ],
   "source": [
    "'*' * 50 "
   ]
  },
  {
   "cell_type": "code",
   "execution_count": 24,
   "metadata": {},
   "outputs": [
    {
     "data": {
      "text/plain": [
       "'100100100100100100100100100100'"
      ]
     },
     "execution_count": 24,
     "metadata": {},
     "output_type": "execute_result"
    }
   ],
   "source": [
    "str(100) * 10"
   ]
  },
  {
   "cell_type": "code",
   "execution_count": 25,
   "metadata": {},
   "outputs": [
    {
     "ename": "TypeError",
     "evalue": "can't multiply sequence by non-int of type 'float'",
     "output_type": "error",
     "traceback": [
      "\u001b[0;31m---------------------------------------------------------------------------\u001b[0m",
      "\u001b[0;31mTypeError\u001b[0m                                 Traceback (most recent call last)",
      "Cell \u001b[0;32mIn[25], line 1\u001b[0m\n\u001b[0;32m----> 1\u001b[0m \u001b[38;5;124;43m'\u001b[39;49m\u001b[38;5;124;43m*\u001b[39;49m\u001b[38;5;124;43m'\u001b[39;49m\u001b[43m \u001b[49m\u001b[38;5;241;43m*\u001b[39;49m\u001b[43m \u001b[49m\u001b[38;5;241;43m3.1\u001b[39;49m\n",
      "\u001b[0;31mTypeError\u001b[0m: can't multiply sequence by non-int of type 'float'"
     ]
    }
   ],
   "source": [
    "'*' * 3.1"
   ]
  },
  {
   "cell_type": "code",
   "execution_count": 26,
   "metadata": {},
   "outputs": [
    {
     "ename": "TypeError",
     "evalue": "can only concatenate str (not \"int\") to str",
     "output_type": "error",
     "traceback": [
      "\u001b[0;31m---------------------------------------------------------------------------\u001b[0m",
      "\u001b[0;31mTypeError\u001b[0m                                 Traceback (most recent call last)",
      "Cell \u001b[0;32mIn[26], line 1\u001b[0m\n\u001b[0;32m----> 1\u001b[0m \u001b[38;5;124;43m'\u001b[39;49m\u001b[38;5;124;43mA\u001b[39;49m\u001b[38;5;124;43m'\u001b[39;49m\u001b[43m \u001b[49m\u001b[38;5;241;43m+\u001b[39;49m\u001b[43m \u001b[49m\u001b[38;5;241;43m1\u001b[39;49m\n",
      "\u001b[0;31mTypeError\u001b[0m: can only concatenate str (not \"int\") to str"
     ]
    }
   ],
   "source": [
    "'A' + 1"
   ]
  },
  {
   "cell_type": "code",
   "execution_count": 27,
   "metadata": {},
   "outputs": [
    {
     "data": {
      "text/plain": [
       "'A1'"
      ]
     },
     "execution_count": 27,
     "metadata": {},
     "output_type": "execute_result"
    }
   ],
   "source": [
    "'A' + str(1)"
   ]
  },
  {
   "cell_type": "markdown",
   "metadata": {},
   "source": [
    "##### 1.4 String indexing"
   ]
  },
  {
   "cell_type": "code",
   "execution_count": 28,
   "metadata": {},
   "outputs": [
    {
     "name": "stdout",
     "output_type": "stream",
     "text": [
      "<class 'str'>\n"
     ]
    }
   ],
   "source": [
    "print(type(\"This is a string \"))"
   ]
  },
  {
   "cell_type": "code",
   "execution_count": 29,
   "metadata": {},
   "outputs": [
    {
     "data": {
      "text/plain": [
       "'H'"
      ]
     },
     "execution_count": 29,
     "metadata": {},
     "output_type": "execute_result"
    }
   ],
   "source": [
    "\"Hello\"[0]"
   ]
  },
  {
   "cell_type": "code",
   "execution_count": 30,
   "metadata": {},
   "outputs": [
    {
     "data": {
      "text/plain": [
       "'l'"
      ]
     },
     "execution_count": 30,
     "metadata": {},
     "output_type": "execute_result"
    }
   ],
   "source": [
    "\"Hello\"[2]"
   ]
  },
  {
   "cell_type": "code",
   "execution_count": 32,
   "metadata": {},
   "outputs": [
    {
     "data": {
      "text/plain": [
       "'o'"
      ]
     },
     "execution_count": 32,
     "metadata": {},
     "output_type": "execute_result"
    }
   ],
   "source": [
    "\"Hello\"[-1]"
   ]
  },
  {
   "cell_type": "code",
   "execution_count": 33,
   "metadata": {},
   "outputs": [
    {
     "data": {
      "text/plain": [
       "'H'"
      ]
     },
     "execution_count": 33,
     "metadata": {},
     "output_type": "execute_result"
    }
   ],
   "source": [
    "\"Hello\"[-5]"
   ]
  },
  {
   "cell_type": "code",
   "execution_count": 34,
   "metadata": {},
   "outputs": [
    {
     "ename": "IndexError",
     "evalue": "string index out of range",
     "output_type": "error",
     "traceback": [
      "\u001b[0;31m---------------------------------------------------------------------------\u001b[0m",
      "\u001b[0;31mIndexError\u001b[0m                                Traceback (most recent call last)",
      "Cell \u001b[0;32mIn[34], line 1\u001b[0m\n\u001b[0;32m----> 1\u001b[0m \u001b[38;5;124;43m\"\u001b[39;49m\u001b[38;5;124;43mHello\u001b[39;49m\u001b[38;5;124;43m\"\u001b[39;49m\u001b[43m[\u001b[49m\u001b[38;5;241;43m5\u001b[39;49m\u001b[43m]\u001b[49m\n",
      "\u001b[0;31mIndexError\u001b[0m: string index out of range"
     ]
    }
   ],
   "source": [
    "\"Hello\"[5]"
   ]
  },
  {
   "cell_type": "markdown",
   "metadata": {},
   "source": [
    "##### 1.5 Muliting String "
   ]
  },
  {
   "cell_type": "code",
   "execution_count": 35,
   "metadata": {},
   "outputs": [
    {
     "name": "stdout",
     "output_type": "stream",
     "text": [
      "The first line \n",
      "the secon line \n"
     ]
    }
   ],
   "source": [
    "text = '''The first line \n",
    "the secon line '''\n",
    "print(text)"
   ]
  },
  {
   "cell_type": "code",
   "execution_count": 36,
   "metadata": {},
   "outputs": [
    {
     "name": "stdout",
     "output_type": "stream",
     "text": [
      "the first line\n",
      "the second line \n"
     ]
    }
   ],
   "source": [
    "text=\"\"\"the first line\n",
    "the second line \"\"\"\n",
    "print(text)"
   ]
  },
  {
   "cell_type": "markdown",
   "metadata": {},
   "source": [
    "##### 1.6 Wrring Quotes within String \n"
   ]
  },
  {
   "cell_type": "code",
   "execution_count": 37,
   "metadata": {},
   "outputs": [
    {
     "name": "stdout",
     "output_type": "stream",
     "text": [
      "\"double quotation marks\"\n"
     ]
    }
   ],
   "source": [
    "text = '\"double quotation marks\"'\n",
    "print(text)"
   ]
  },
  {
   "cell_type": "code",
   "execution_count": 38,
   "metadata": {},
   "outputs": [
    {
     "name": "stdout",
     "output_type": "stream",
     "text": [
      "'double quotation marks'\n"
     ]
    }
   ],
   "source": [
    "text = \"'double quotation marks'\"\n",
    "print(text)"
   ]
  },
  {
   "cell_type": "code",
   "execution_count": 40,
   "metadata": {},
   "outputs": [
    {
     "name": "stdout",
     "output_type": "stream",
     "text": [
      "\"double quotation marks\"\n"
     ]
    }
   ],
   "source": [
    "text = \"\\\"double quotation marks\\\"\"\n",
    "print(text)"
   ]
  },
  {
   "cell_type": "code",
   "execution_count": 42,
   "metadata": {},
   "outputs": [
    {
     "name": "stdout",
     "output_type": "stream",
     "text": [
      "'double quotation marks'\n"
     ]
    }
   ],
   "source": [
    "text = '\\'double quotation marks\\''\n",
    "print(text)"
   ]
  },
  {
   "cell_type": "markdown",
   "metadata": {},
   "source": [
    "##### 1.7 Escape sequence <br>\n",
    "<br>\n",
    "\\n : Newline character<br>\n",
    "<br>\n",
    "\\' : Single quoe<br>\n",
    "<br>\n",
    "\\\" : double quoe<br>\n",
    "<br>\n",
    "\\t : tab character<br>"
   ]
  },
  {
   "cell_type": "code",
   "execution_count": 50,
   "metadata": {},
   "outputs": [
    {
     "name": "stdout",
     "output_type": "stream",
     "text": [
      "Write a \ttab in the midel of text \n"
     ]
    }
   ],
   "source": [
    "text = 'Write a \\ttab in the midel of text '\n",
    "print(text)"
   ]
  },
  {
   "cell_type": "markdown",
   "metadata": {},
   "source": [
    "##### 1.8 String formatting<br>\n",
    "<br>\n",
    "string formating is a way to insert variables , value , and expression into a string \n",
    "<br>"
   ]
  },
  {
   "cell_type": "code",
   "execution_count": 53,
   "metadata": {},
   "outputs": [
    {
     "name": "stdout",
     "output_type": "stream",
     "text": [
      "first value 1 and second value2\n"
     ]
    }
   ],
   "source": [
    "Value1 = 1\n",
    "Value2 = '2'\n",
    "String_formating = ('first value {} and second value{}').format(Value1,Value2)\n",
    "print(String_formating)"
   ]
  },
  {
   "cell_type": "code",
   "execution_count": 54,
   "metadata": {},
   "outputs": [
    {
     "data": {
      "text/plain": [
       "'HelloPython'"
      ]
     },
     "execution_count": 54,
     "metadata": {},
     "output_type": "execute_result"
    }
   ],
   "source": [
    "'Hello{}'.format('Python')"
   ]
  },
  {
   "cell_type": "code",
   "execution_count": 55,
   "metadata": {},
   "outputs": [
    {
     "data": {
      "text/plain": [
       "'first value 1 and second value 2'"
      ]
     },
     "execution_count": 55,
     "metadata": {},
     "output_type": "execute_result"
    }
   ],
   "source": [
    "'first value {} and second value {}'.format(1,2)\n"
   ]
  },
  {
   "cell_type": "code",
   "execution_count": 56,
   "metadata": {},
   "outputs": [
    {
     "data": {
      "text/plain": [
       "'1+2 = 3'"
      ]
     },
     "execution_count": 56,
     "metadata": {},
     "output_type": "execute_result"
    }
   ],
   "source": [
    "'{}+{} = {}'.format(1,2,1+2)"
   ]
  },
  {
   "cell_type": "markdown",
   "metadata": {},
   "source": [
    "{} we can call it placeholder <br>\n",
    "<br>\n",
    "inside the placeholder u need to specify the order of integer value <br>\n",
    "<br>\n",
    "if no order is specified, it defaults to 0,1, etc.\n",
    "\n"
   ]
  },
  {
   "cell_type": "code",
   "execution_count": 57,
   "metadata": {},
   "outputs": [
    {
     "data": {
      "text/plain": [
       "'I like Python and Java'"
      ]
     },
     "execution_count": 57,
     "metadata": {},
     "output_type": "execute_result"
    }
   ],
   "source": [
    "'I like {} and {}'.format('Python','Java')\n"
   ]
  },
  {
   "cell_type": "code",
   "execution_count": 58,
   "metadata": {},
   "outputs": [
    {
     "data": {
      "text/plain": [
       "'I like Python and Java'"
      ]
     },
     "execution_count": 58,
     "metadata": {},
     "output_type": "execute_result"
    }
   ],
   "source": [
    "'I like {0} and {1}'.format('Python','Java')\n"
   ]
  },
  {
   "cell_type": "code",
   "execution_count": 59,
   "metadata": {},
   "outputs": [
    {
     "data": {
      "text/plain": [
       "'I like Java and Python'"
      ]
     },
     "execution_count": 59,
     "metadata": {},
     "output_type": "execute_result"
    }
   ],
   "source": [
    "'I like {1} and {0}'.format('Python','Java')\n"
   ]
  },
  {
   "cell_type": "markdown",
   "metadata": {},
   "source": [
    "note: if uinsg {:} in the placeholder it's spacing between character "
   ]
  },
  {
   "cell_type": "code",
   "execution_count": 60,
   "metadata": {},
   "outputs": [
    {
     "data": {
      "text/plain": [
       "'       123'"
      ]
     },
     "execution_count": 60,
     "metadata": {},
     "output_type": "execute_result"
    }
   ],
   "source": [
    "'{:10}'.format(123) #it spacing 10 space"
   ]
  },
  {
   "cell_type": "code",
   "execution_count": 61,
   "metadata": {},
   "outputs": [
    {
     "data": {
      "text/plain": [
       "'Hello     '"
      ]
     },
     "execution_count": 61,
     "metadata": {},
     "output_type": "execute_result"
    }
   ],
   "source": [
    "'{:10}'.format('Hello') #it spacing 10 space"
   ]
  },
  {
   "cell_type": "markdown",
   "metadata": {},
   "source": [
    "When specifying a filed width using a colon (:) inside the placeholder you can alow specify the alignment<br>\n",
    "<br>\n",
    "{:<10} :file width of 10, left alignment<br>\n",
    "<br>\n",
    "{:>10} :field width of 10, right alignment<br>\n",
    "<br>\n",
    "{:^10} :field width of 10 , center alignment<br>\n",
    "<br>"
   ]
  },
  {
   "cell_type": "code",
   "execution_count": 62,
   "metadata": {},
   "outputs": [
    {
     "name": "stdout",
     "output_type": "stream",
     "text": [
      "       123\n",
      "123       \n",
      "       123\n",
      "   123    \n"
     ]
    }
   ],
   "source": [
    "Value = 123 \n",
    "formatted_value ='{:10}'.format(Value)\n",
    "print(formatted_value)\n",
    "formatted_value ='{:<10}'.format(Value)\n",
    "print(formatted_value)\n",
    "formatted_value ='{:>10}'.format(Value)\n",
    "print(formatted_value)\n",
    "formatted_value ='{:^10}'.format(Value)\n",
    "print(formatted_value)"
   ]
  },
  {
   "cell_type": "markdown",
   "metadata": {},
   "source": [
    "string is letf-aligned by default, leaving space on the right "
   ]
  },
  {
   "cell_type": "code",
   "execution_count": 63,
   "metadata": {},
   "outputs": [
    {
     "name": "stdout",
     "output_type": "stream",
     "text": [
      "Hello     \n",
      "Hello     \n",
      "     Hello\n",
      "  Hello   \n"
     ]
    }
   ],
   "source": [
    "Value = 'Hello'\n",
    "formatted_value ='{:10}'.format(Value)\n",
    "print(formatted_value)\n",
    "formatted_value ='{:<10}'.format(Value)\n",
    "print(formatted_value)\n",
    "formatted_value ='{:>10}'.format(Value)\n",
    "print(formatted_value)\n",
    "formatted_value ='{:^10}'.format(Value)\n",
    "print(formatted_value)"
   ]
  },
  {
   "cell_type": "markdown",
   "metadata": {},
   "source": [
    "note:<br>\n",
    "<br>\n",
    "d inside the placeholder can recevie integer value <br>\n",
    "<br>\n",
    "f can recevie floating-point value and also integer too"
   ]
  },
  {
   "cell_type": "code",
   "execution_count": 64,
   "metadata": {},
   "outputs": [
    {
     "name": "stdout",
     "output_type": "stream",
     "text": [
      "123.000000\n",
      "123.000000\n",
      "123.000000\n",
      "123.000000\n"
     ]
    }
   ],
   "source": [
    "Value = 123\n",
    "formatted_value ='{:10f}'.format(Value)\n",
    "print(formatted_value)\n",
    "formatted_value ='{:<10f}'.format(Value)\n",
    "print(formatted_value)\n",
    "formatted_value ='{:>10f}'.format(Value)\n",
    "print(formatted_value)\n",
    "formatted_value ='{:^10f}'.format(Value)\n",
    "print(formatted_value)"
   ]
  },
  {
   "cell_type": "markdown",
   "metadata": {},
   "source": [
    "Note :<br>\n",
    "<br>\n",
    "adding a dot and a number in front of f, you can specify how many decimal places to display"
   ]
  },
  {
   "cell_type": "code",
   "execution_count": 68,
   "metadata": {},
   "outputs": [
    {
     "name": "stdout",
     "output_type": "stream",
     "text": [
      "   123.500\n",
      "123.500   \n",
      "   123.500\n",
      " 123.500  \n"
     ]
    }
   ],
   "source": [
    "Value = 123.5\n",
    "formatted_value ='{:10.3f}'.format(Value)\n",
    "print(formatted_value)\n",
    "formatted_value ='{:<10.3f}'.format(Value)\n",
    "print(formatted_value)\n",
    "formatted_value ='{:>10.3f}'.format(Value)\n",
    "print(formatted_value)\n",
    "formatted_value ='{:^10.3f}'.format(Value)\n",
    "print(formatted_value)"
   ]
  },
  {
   "cell_type": "markdown",
   "metadata": {},
   "source": [
    "##### 1.9 String spliting \n"
   ]
  },
  {
   "cell_type": "code",
   "execution_count": 69,
   "metadata": {},
   "outputs": [
    {
     "data": {
      "text/plain": [
       "['Python', 'is', 'beautiful']"
      ]
     },
     "execution_count": 69,
     "metadata": {},
     "output_type": "execute_result"
    }
   ],
   "source": [
    "'Python is beautiful'.split()"
   ]
  },
  {
   "cell_type": "code",
   "execution_count": 70,
   "metadata": {},
   "outputs": [
    {
     "name": "stdout",
     "output_type": "stream",
     "text": [
      "Python is beautiful\n"
     ]
    }
   ],
   "source": [
    "word1, word2,word3 = 'Python is beautiful'.split()\n",
    "print(word1, word2, word3)"
   ]
  },
  {
   "cell_type": "code",
   "execution_count": 72,
   "metadata": {},
   "outputs": [
    {
     "name": "stdout",
     "output_type": "stream",
     "text": [
      "05 02 2024\n"
     ]
    }
   ],
   "source": [
    "year ,month, day = '05.02.2024'.split('.')\n",
    "print(year,month,day)"
   ]
  },
  {
   "cell_type": "markdown",
   "metadata": {},
   "source": [
    "note : <br>\n",
    "<br>\"isdigit\" statement checks each character of the given string and returns Ture or False, indicating whether it consists only of numeric characters "
   ]
  },
  {
   "cell_type": "code",
   "execution_count": 75,
   "metadata": {},
   "outputs": [
    {
     "name": "stdout",
     "output_type": "stream",
     "text": [
      "True\n",
      "False\n",
      "False\n"
     ]
    }
   ],
   "source": [
    "String1='12345'\n",
    "print(String1.isdigit())\n",
    "String2=\"Hello\"\n",
    "print(String2.isdigit())\n",
    "String3='3.14'\n",
    "print(String3.isdigit())\n"
   ]
  },
  {
   "cell_type": "code",
   "execution_count": 76,
   "metadata": {},
   "outputs": [
    {
     "ename": "ValueError",
     "evalue": "invalid literal for int() with base 10: 'Hello'",
     "output_type": "error",
     "traceback": [
      "\u001b[0;31m---------------------------------------------------------------------------\u001b[0m",
      "\u001b[0;31mValueError\u001b[0m                                Traceback (most recent call last)",
      "Cell \u001b[0;32mIn[76], line 1\u001b[0m\n\u001b[0;32m----> 1\u001b[0m \u001b[38;5;28;43mint\u001b[39;49m\u001b[43m(\u001b[49m\u001b[38;5;124;43m\"\u001b[39;49m\u001b[38;5;124;43mHello\u001b[39;49m\u001b[38;5;124;43m\"\u001b[39;49m\u001b[43m)\u001b[49m\n",
      "\u001b[0;31mValueError\u001b[0m: invalid literal for int() with base 10: 'Hello'"
     ]
    }
   ],
   "source": [
    "int(\"Hello\")"
   ]
  },
  {
   "cell_type": "markdown",
   "metadata": {},
   "source": [
    "#### 2.Writing input statement \n",
    "##### 2.1 Basic Usage of the input statment "
   ]
  },
  {
   "cell_type": "code",
   "execution_count": 77,
   "metadata": {},
   "outputs": [
    {
     "name": "stdout",
     "output_type": "stream",
     "text": [
      "hello Dararaksmey\n"
     ]
    }
   ],
   "source": [
    "name = input('Plase input your name')\n",
    "print(\"hello\",name)"
   ]
  },
  {
   "cell_type": "markdown",
   "metadata": {},
   "source": [
    "##### 2.2Getting a number input from the user "
   ]
  },
  {
   "cell_type": "code",
   "execution_count": 79,
   "metadata": {},
   "outputs": [
    {
     "name": "stdout",
     "output_type": "stream",
     "text": [
      "10 and 20 sum up to 30\n"
     ]
    }
   ],
   "source": [
    "x = int(input(\"Enter the first integer\"))\n",
    "y = int(input(\"Enter the second iteger\"))\n",
    "s = x + y \n",
    "print(f\"{x} and {y} sum up to {s}\")"
   ]
  },
  {
   "cell_type": "code",
   "execution_count": 86,
   "metadata": {},
   "outputs": [
    {
     "name": "stdout",
     "output_type": "stream",
     "text": [
      "Your BMI = 22.857142857142858\n"
     ]
    }
   ],
   "source": [
    "weight = float(input(\"Enter your weight in kilograms(kg)\"))\n",
    "high = float(input(\"Enter your hgiht in meters(m)\"))\n",
    "\n",
    "bmi = (weight / (high ** 2))\n",
    "print(\"Your BMI =\" , bmi)"
   ]
  },
  {
   "cell_type": "markdown",
   "metadata": {},
   "source": [
    "##### 2.3 Spliting and input string from the user "
   ]
  },
  {
   "cell_type": "code",
   "execution_count": 87,
   "metadata": {},
   "outputs": [
    {
     "name": "stdout",
     "output_type": "stream",
     "text": [
      "1 2 3\n"
     ]
    }
   ],
   "source": [
    "number1,number2,number3 = input('Enter three integer sparate by space').split()\n",
    "print(number1,number2,number3)"
   ]
  },
  {
   "cell_type": "markdown",
   "metadata": {},
   "source": [
    "##### 2.4 Writing input satements with string formatting "
   ]
  },
  {
   "cell_type": "code",
   "execution_count": 88,
   "metadata": {},
   "outputs": [
    {
     "name": "stdout",
     "output_type": "stream",
     "text": [
      "Emcast\n"
     ]
    }
   ],
   "source": [
    "number = 1 \n",
    "text = 'name'\n",
    "name = input('Q{}. Plase enter your{}:'.format(number , text))\n",
    "print(name)"
   ]
  },
  {
   "cell_type": "markdown",
   "metadata": {},
   "source": [
    "##### 2.5 Change Calculator program"
   ]
  },
  {
   "cell_type": "code",
   "execution_count": 89,
   "metadata": {},
   "outputs": [
    {
     "name": "stdout",
     "output_type": "stream",
     "text": [
      "Change: 4700\n",
      "The number of 500 won coins: 9\n",
      "The number of 100 won coins: 2\n"
     ]
    }
   ],
   "source": [
    "money = int(input(\"Your input Money :\"))\n",
    "price = int(input(\"Price of goods: \"))\n",
    "\n",
    "change = money - price\n",
    "print(\"Change:\", change)\n",
    "coin500s = change // 500\n",
    "change = change % 500 \n",
    "coin100s = change // 100\n",
    "\n",
    "print(\"The number of 500 won coins:\", coin500s)\n",
    "print(\"The number of 100 won coins:\",coin100s)"
   ]
  },
  {
   "cell_type": "markdown",
   "metadata": {},
   "source": [
    "#### 3.String and output \n",
    "##### 3.1The print statement and commas "
   ]
  },
  {
   "cell_type": "code",
   "execution_count": 92,
   "metadata": {},
   "outputs": [
    {
     "name": "stdout",
     "output_type": "stream",
     "text": [
      "I am  23 year olds!\n",
      "I really really really  love python!\n"
     ]
    }
   ],
   "source": [
    "print('I am ', 23 ,'year olds!')\n",
    "print('I','really '  * 3 ,'love','python!')\n"
   ]
  },
  {
   "cell_type": "markdown",
   "metadata": {},
   "source": [
    "##### 3.2The print statemetn and the end parameter "
   ]
  },
  {
   "cell_type": "code",
   "execution_count": 93,
   "metadata": {},
   "outputs": [
    {
     "name": "stdout",
     "output_type": "stream",
     "text": [
      "HelloWorld!\n"
     ]
    }
   ],
   "source": [
    "print('Hello',end = '')\n",
    "print('World!')"
   ]
  },
  {
   "cell_type": "code",
   "execution_count": 95,
   "metadata": {},
   "outputs": [
    {
     "name": "stdout",
     "output_type": "stream",
     "text": [
      "12\n"
     ]
    }
   ],
   "source": [
    "print(1,end ='')\n",
    "print(2)"
   ]
  },
  {
   "cell_type": "code",
   "execution_count": 96,
   "metadata": {},
   "outputs": [
    {
     "name": "stdout",
     "output_type": "stream",
     "text": [
      "Hello,World!\n"
     ]
    }
   ],
   "source": [
    "print('Hello',end = ',')\n",
    "print('World!')"
   ]
  },
  {
   "cell_type": "code",
   "execution_count": 97,
   "metadata": {},
   "outputs": [
    {
     "name": "stdout",
     "output_type": "stream",
     "text": [
      "Hello World!\n"
     ]
    }
   ],
   "source": [
    "print('Hello',end = ' ')\n",
    "print('World!')"
   ]
  },
  {
   "cell_type": "markdown",
   "metadata": {},
   "source": [
    "##### 3.3Print statment and separator "
   ]
  },
  {
   "cell_type": "code",
   "execution_count": 98,
   "metadata": {},
   "outputs": [
    {
     "name": "stdout",
     "output_type": "stream",
     "text": [
      "Hello,world\n"
     ]
    }
   ],
   "source": [
    "print(\"Hello\", \"world\", sep=',')"
   ]
  },
  {
   "cell_type": "markdown",
   "metadata": {},
   "source": [
    "##### 3.4Output Using String Formatting "
   ]
  },
  {
   "cell_type": "code",
   "execution_count": 101,
   "metadata": {},
   "outputs": [
    {
     "name": "stdout",
     "output_type": "stream",
     "text": [
      "Your name is Phem Dararaksmey,and 22 year old m job isStudent\n"
     ]
    }
   ],
   "source": [
    "name = input(\"Enter your name:\")\n",
    "age = input(\"Enter your age:\")\n",
    "job = input(\"Enter your job\")\n",
    "\n",
    "print('Your name is {},and {} year old m job is{}'.format(name,age,job))"
   ]
  },
  {
   "cell_type": "markdown",
   "metadata": {},
   "source": [
    "#### 5 Built-in Function "
   ]
  },
  {
   "cell_type": "code",
   "execution_count": 106,
   "metadata": {},
   "outputs": [
    {
     "data": {
      "text/plain": [
       "3"
      ]
     },
     "execution_count": 106,
     "metadata": {},
     "output_type": "execute_result"
    }
   ],
   "source": [
    "String1 = \"Foo\"\n",
    "len(String1) # the len function is return the length of string stored in the variables "
   ]
  },
  {
   "cell_type": "code",
   "execution_count": 107,
   "metadata": {},
   "outputs": [
    {
     "data": {
      "text/plain": [
       "str"
      ]
     },
     "execution_count": 107,
     "metadata": {},
     "output_type": "execute_result"
    }
   ],
   "source": [
    "type(String1) # return the type of variable "
   ]
  },
  {
   "cell_type": "code",
   "execution_count": 104,
   "metadata": {},
   "outputs": [
    {
     "data": {
      "text/plain": [
       "4363979120"
      ]
     },
     "execution_count": 104,
     "metadata": {},
     "output_type": "execute_result"
    }
   ],
   "source": [
    "id(String1) # The id function returns the identity of the variable string that sotres the string \" Foo\""
   ]
  },
  {
   "cell_type": "code",
   "execution_count": 108,
   "metadata": {},
   "outputs": [
    {
     "data": {
      "text/plain": [
       "600"
      ]
     },
     "execution_count": 108,
     "metadata": {},
     "output_type": "execute_result"
    }
   ],
   "source": [
    "eval(\"100  + 200 + 300\") # the eval function takse a sring , evaluates the contents of the string as an expression and return the evaluated value "
   ]
  },
  {
   "cell_type": "code",
   "execution_count": 112,
   "metadata": {},
   "outputs": [
    {
     "data": {
      "text/plain": [
       "100"
      ]
     },
     "execution_count": 112,
     "metadata": {},
     "output_type": "execute_result"
    }
   ],
   "source": [
    "abs(-100) # the abs function take the integer -100 as input and returns its absoulte value 100"
   ]
  },
  {
   "cell_type": "code",
   "execution_count": 110,
   "metadata": {},
   "outputs": [
    {
     "data": {
      "text/plain": [
       "10"
      ]
     },
     "execution_count": 110,
     "metadata": {},
     "output_type": "execute_result"
    }
   ],
   "source": [
    "min(20,10,30,40)"
   ]
  },
  {
   "cell_type": "code",
   "execution_count": 111,
   "metadata": {},
   "outputs": [
    {
     "data": {
      "text/plain": [
       "400"
      ]
     },
     "execution_count": 111,
     "metadata": {},
     "output_type": "execute_result"
    }
   ],
   "source": [
    "max(200,100,300,400)"
   ]
  },
  {
   "cell_type": "code",
   "execution_count": 113,
   "metadata": {},
   "outputs": [
    {
     "data": {
      "text/plain": [
       "['A', 'B', 'D', 'E', 'F']"
      ]
     },
     "execution_count": 113,
     "metadata": {},
     "output_type": "execute_result"
    }
   ],
   "source": [
    "sorted(\"EABFD\")"
   ]
  },
  {
   "cell_type": "code",
   "execution_count": 114,
   "metadata": {},
   "outputs": [
    {
     "data": {
      "text/plain": [
       "['F', 'E', 'D', 'B', 'A']"
      ]
     },
     "execution_count": 114,
     "metadata": {},
     "output_type": "execute_result"
    }
   ],
   "source": [
    "sorted(\"EABFD\",reverse=True)"
   ]
  },
  {
   "cell_type": "markdown",
   "metadata": {},
   "source": [
    "methods cannot be called independently becasue it's belong to specific object. "
   ]
  },
  {
   "cell_type": "markdown",
   "metadata": {},
   "source": [
    "#### 6.Built-in Modules \n",
    "\n"
   ]
  },
  {
   "cell_type": "code",
   "execution_count": 116,
   "metadata": {},
   "outputs": [
    {
     "name": "stdout",
     "output_type": "stream",
     "text": [
      "Enter your information:\n",
      "Here is your information\n",
      "Your name is  Smey\n",
      "your employee id is : id = 1 \n",
      "And your age is :  22\n"
     ]
    }
   ],
   "source": [
    "print(\"Enter your information:\")\n",
    "id = input(\"Enter your id:\")\n",
    "name = input(\"Enter your name\")\n",
    "age = int(input(\"Age : \"))\n",
    "\n",
    "print(\"Here is your information\")\n",
    "print('Your name is ',name)\n",
    "print(\"your employee id is :\", id)\n",
    "print(\"And your age is : \", age)\n",
    "\n"
   ]
  },
  {
   "cell_type": "code",
   "execution_count": 122,
   "metadata": {},
   "outputs": [
    {
     "name": "stdout",
     "output_type": "stream",
     "text": [
      "The total of 20 +  20 = 40\n"
     ]
    }
   ],
   "source": [
    "a = int(input(\"Enter the value of a :\"))\n",
    "b = int(input(\"Enter the value of b :\"))\n",
    "\n",
    "total = a + b #opeartion \n",
    "\n",
    "print(f\"The total of {a} +  {b} = {total}\")"
   ]
  },
  {
   "cell_type": "markdown",
   "metadata": {},
   "source": [
    "##### 6.1 "
   ]
  },
  {
   "cell_type": "code",
   "execution_count": 124,
   "metadata": {},
   "outputs": [
    {
     "data": {
      "text/plain": [
       "datetime.datetime(2024, 12, 25, 13, 15, 20, 334934)"
      ]
     },
     "execution_count": 124,
     "metadata": {},
     "output_type": "execute_result"
    }
   ],
   "source": [
    "import datetime as dt\n",
    "start_time = dt.datetime.now()\n",
    "start_time.replace(month=12,day=25)"
   ]
  },
  {
   "cell_type": "markdown",
   "metadata": {},
   "source": [
    "Note : from-import statment is a way to import only what is needed from a module"
   ]
  },
  {
   "cell_type": "code",
   "execution_count": 129,
   "metadata": {},
   "outputs": [
    {
     "data": {
      "text/plain": [
       "datetime.datetime(2024, 12, 25, 13, 24, 32, 66548)"
      ]
     },
     "execution_count": 129,
     "metadata": {},
     "output_type": "execute_result"
    }
   ],
   "source": [
    "from datetime import datetime \n",
    "start_time = datetime.now()\n",
    "start_time.replace(month=12,day=25)\n"
   ]
  },
  {
   "cell_type": "markdown",
   "metadata": {},
   "source": [
    "##### 6.2  The Dateime Module for Receiving and Maniplulating Dates and time "
   ]
  },
  {
   "cell_type": "code",
   "execution_count": 137,
   "metadata": {},
   "outputs": [
    {
     "name": "stdout",
     "output_type": "stream",
     "text": [
      "2024-02-05 13:26:46.696511\n"
     ]
    }
   ],
   "source": [
    "Today = datetime.today()\n",
    "print(Today)"
   ]
  },
  {
   "cell_type": "code",
   "execution_count": 138,
   "metadata": {},
   "outputs": [
    {
     "data": {
      "text/plain": [
       "datetime.datetime(2024, 2, 5, 13, 26, 46, 696511)"
      ]
     },
     "execution_count": 138,
     "metadata": {},
     "output_type": "execute_result"
    }
   ],
   "source": [
    "Today"
   ]
  },
  {
   "cell_type": "code",
   "execution_count": 139,
   "metadata": {},
   "outputs": [
    {
     "data": {
      "text/plain": [
       "2024"
      ]
     },
     "execution_count": 139,
     "metadata": {},
     "output_type": "execute_result"
    }
   ],
   "source": [
    "Today.year"
   ]
  },
  {
   "cell_type": "code",
   "execution_count": 140,
   "metadata": {},
   "outputs": [
    {
     "data": {
      "text/plain": [
       "2"
      ]
     },
     "execution_count": 140,
     "metadata": {},
     "output_type": "execute_result"
    }
   ],
   "source": [
    "Today.month"
   ]
  },
  {
   "cell_type": "markdown",
   "metadata": {},
   "source": [
    "Use the dir function to print the functions and variables that the module has "
   ]
  },
  {
   "cell_type": "code",
   "execution_count": 149,
   "metadata": {},
   "outputs": [
    {
     "name": "stdout",
     "output_type": "stream",
     "text": [
      "['__add__', '__class__', '__delattr__', '__dir__', '__doc__', '__eq__', '__format__', '__ge__', '__getattribute__', '__gt__', '__hash__', '__init__', '__init_subclass__', '__le__', '__lt__', '__ne__', '__new__', '__radd__', '__reduce__', '__reduce_ex__', '__repr__', '__rsub__', '__setattr__', '__sizeof__', '__str__', '__sub__', '__subclasshook__', 'astimezone', 'combine', 'ctime', 'date', 'day', 'dst', 'fold', 'fromisocalendar', 'fromisoformat', 'fromordinal', 'fromtimestamp', 'hour', 'isocalendar', 'isoformat', 'isoweekday', 'max', 'microsecond', 'min', 'minute', 'month', 'now', 'replace', 'resolution', 'second', 'strftime', 'strptime', 'time', 'timestamp', 'timetuple', 'timetz', 'today', 'toordinal', 'tzinfo', 'tzname', 'utcfromtimestamp', 'utcnow', 'utcoffset', 'utctimetuple', 'weekday', 'year']\n"
     ]
    }
   ],
   "source": [
    "print(dir(datetime),sep=\",\")\n"
   ]
  },
  {
   "cell_type": "markdown",
   "metadata": {},
   "source": [
    "##### 6.3 The time module<br>\n",
    "<br>\n",
    "The following code indicates the elasped time in seconds since the eoicg time(january 1, 1970, 0:00:00)"
   ]
  },
  {
   "cell_type": "code",
   "execution_count": 151,
   "metadata": {},
   "outputs": [
    {
     "name": "stdout",
     "output_type": "stream",
     "text": [
      "Time after epoch =  1707114746.3860009\n"
     ]
    }
   ],
   "source": [
    "import time \n",
    "second = time.time()\n",
    "print('Time after epoch = ',second)\n"
   ]
  },
  {
   "cell_type": "markdown",
   "metadata": {},
   "source": [
    "6.3 The time module<br>\n",
    "<br>\n",
    "localtime method of the ime modeuls <br>\n",
    "<br>\n",
    "The localtime method takes and epoch time value and returns the local time as a date and time format"
   ]
  },
  {
   "cell_type": "code",
   "execution_count": 153,
   "metadata": {},
   "outputs": [
    {
     "data": {
      "text/plain": [
       "time.struct_time(tm_year=2024, tm_mon=2, tm_mday=5, tm_hour=13, tm_min=33, tm_sec=16, tm_wday=0, tm_yday=36, tm_isdst=0)"
      ]
     },
     "execution_count": 153,
     "metadata": {},
     "output_type": "execute_result"
    }
   ],
   "source": [
    "import time \n",
    "unix_timestamp = time.time()\n",
    "local_time = time.localtime(unix_timestamp)\n",
    "local_time"
   ]
  },
  {
   "cell_type": "markdown",
   "metadata": {},
   "source": [
    "6.3 The time module<br>\n",
    "<br>\n",
    "The strftime method allows us to format the time obtanined from localtime according to the desired date/time format\n",
    "\n",
    "Note :<br>\n",
    "<br>\n",
    "%y = year %m = month %d = day %H = Hour %M= Minet %S = second <br>\n",
    "<br>\n",
    "for %y-%m-%d %H-%M-%S \"-\" it's use to put the - between the year month and day"
   ]
  },
  {
   "cell_type": "code",
   "execution_count": 155,
   "metadata": {},
   "outputs": [
    {
     "name": "stdout",
     "output_type": "stream",
     "text": [
      "24-02-05 13-41-46\n"
     ]
    }
   ],
   "source": [
    "import time \n",
    "unix_timestamp = time.time()\n",
    "local_time = time.localtime(unix_timestamp)\n",
    "print(time.strftime('%y-%m-%d %H-%M-%S',local_time))"
   ]
  },
  {
   "cell_type": "markdown",
   "metadata": {},
   "source": [
    "##### 6.4 The Math Module <br>\n",
    "<br>\n",
    "The math module allow us ti use mathematical functions <br>\n",
    "<br>\n",
    "math module\n",
    "    it include mathmatical functions like sin,con,tan,log,pow,ceild,floor,trunc,fabs, and copysign(x,y)"
   ]
  },
  {
   "cell_type": "code",
   "execution_count": 157,
   "metadata": {},
   "outputs": [
    {
     "name": "stdout",
     "output_type": "stream",
     "text": [
      "['__doc__', '__file__', '__loader__', '__name__', '__package__', '__spec__', 'acos', 'acosh', 'asin', 'asinh', 'atan', 'atan2', 'atanh', 'ceil', 'comb', 'copysign', 'cos', 'cosh', 'degrees', 'dist', 'e', 'erf', 'erfc', 'exp', 'expm1', 'fabs', 'factorial', 'floor', 'fmod', 'frexp', 'fsum', 'gamma', 'gcd', 'hypot', 'inf', 'isclose', 'isfinite', 'isinf', 'isnan', 'isqrt', 'ldexp', 'lgamma', 'log', 'log10', 'log1p', 'log2', 'modf', 'nan', 'perm', 'pi', 'pow', 'prod', 'radians', 'remainder', 'sin', 'sinh', 'sqrt', 'tan', 'tanh', 'tau', 'trunc']\n"
     ]
    }
   ],
   "source": [
    "import math\n",
    "print(dir(math))"
   ]
  },
  {
   "cell_type": "code",
   "execution_count": 158,
   "metadata": {},
   "outputs": [
    {
     "data": {
      "text/plain": [
       "27.0"
      ]
     },
     "execution_count": 158,
     "metadata": {},
     "output_type": "execute_result"
    }
   ],
   "source": [
    "import math as m \n",
    "m.pow(3,3)\n"
   ]
  },
  {
   "cell_type": "code",
   "execution_count": 159,
   "metadata": {},
   "outputs": [
    {
     "data": {
      "text/plain": [
       "99.0"
      ]
     },
     "execution_count": 159,
     "metadata": {},
     "output_type": "execute_result"
    }
   ],
   "source": [
    "m.fabs(-99)"
   ]
  },
  {
   "cell_type": "code",
   "execution_count": 160,
   "metadata": {},
   "outputs": [
    {
     "data": {
      "text/plain": [
       "3"
      ]
     },
     "execution_count": 160,
     "metadata": {},
     "output_type": "execute_result"
    }
   ],
   "source": [
    "m.ceil(2.1)"
   ]
  },
  {
   "cell_type": "code",
   "execution_count": 161,
   "metadata": {},
   "outputs": [
    {
     "data": {
      "text/plain": [
       "-2"
      ]
     },
     "execution_count": 161,
     "metadata": {},
     "output_type": "execute_result"
    }
   ],
   "source": [
    "m.ceil(-2.1)"
   ]
  },
  {
   "cell_type": "code",
   "execution_count": 162,
   "metadata": {},
   "outputs": [
    {
     "data": {
      "text/plain": [
       "2"
      ]
     },
     "execution_count": 162,
     "metadata": {},
     "output_type": "execute_result"
    }
   ],
   "source": [
    "m.floor(2.1)"
   ]
  },
  {
   "cell_type": "code",
   "execution_count": 163,
   "metadata": {},
   "outputs": [
    {
     "data": {
      "text/plain": [
       "0.999999327347282"
      ]
     },
     "execution_count": 163,
     "metadata": {},
     "output_type": "execute_result"
    }
   ],
   "source": [
    "m.log(2.71828)"
   ]
  },
  {
   "cell_type": "code",
   "execution_count": 164,
   "metadata": {},
   "outputs": [
    {
     "data": {
      "text/plain": [
       "2.0"
      ]
     },
     "execution_count": 164,
     "metadata": {},
     "output_type": "execute_result"
    }
   ],
   "source": [
    "m.log(100,10)"
   ]
  },
  {
   "cell_type": "code",
   "execution_count": 165,
   "metadata": {},
   "outputs": [
    {
     "data": {
      "text/plain": [
       "0.0"
      ]
     },
     "execution_count": 165,
     "metadata": {},
     "output_type": "execute_result"
    }
   ],
   "source": [
    "m.sin(0.0)"
   ]
  },
  {
   "cell_type": "code",
   "execution_count": 166,
   "metadata": {},
   "outputs": [
    {
     "data": {
      "text/plain": [
       "0.8939966636005579"
      ]
     },
     "execution_count": 166,
     "metadata": {},
     "output_type": "execute_result"
    }
   ],
   "source": [
    "m.sin(90.0)"
   ]
  },
  {
   "cell_type": "code",
   "execution_count": 167,
   "metadata": {},
   "outputs": [
    {
     "data": {
      "text/plain": [
       "1.0"
      ]
     },
     "execution_count": 167,
     "metadata": {},
     "output_type": "execute_result"
    }
   ],
   "source": [
    "m.sin(m.pi / 2)"
   ]
  },
  {
   "cell_type": "markdown",
   "metadata": {},
   "source": [
    "##### The random module "
   ]
  },
  {
   "cell_type": "code",
   "execution_count": 168,
   "metadata": {},
   "outputs": [
    {
     "name": "stdout",
     "output_type": "stream",
     "text": [
      "0.3274829434918505\n",
      "0.10726370306529054\n",
      "1\n",
      "2\n",
      "6\n"
     ]
    }
   ],
   "source": [
    "import random as rd \n",
    "print(rd.random())\n",
    "print(rd.random())\n",
    "print(rd.randrange(1,7))\n",
    "print(rd.randrange(0,10,2))\n",
    "print(rd.randint(1,10))"
   ]
  },
  {
   "cell_type": "markdown",
   "metadata": {},
   "source": [
    "##### The shuffle() : Return sequence with its elements shuffled in a differnet order each time "
   ]
  },
  {
   "cell_type": "code",
   "execution_count": 169,
   "metadata": {},
   "outputs": [
    {
     "name": "stdout",
     "output_type": "stream",
     "text": [
      "[50, 30, 20, 40, 10]\n"
     ]
    }
   ],
   "source": [
    "numlist = [10,20,30,40,50]\n",
    "\n",
    "rd.shuffle(numlist)\n",
    "print(numlist)"
   ]
  },
  {
   "cell_type": "code",
   "execution_count": 170,
   "metadata": {},
   "outputs": [
    {
     "name": "stdout",
     "output_type": "stream",
     "text": [
      "[5, 8, 3, 2, 10, 9, 6, 1, 7, 4]\n"
     ]
    }
   ],
   "source": [
    "a = list(range(1,11))\n",
    "rd.shuffle(a)\n",
    "print(a)"
   ]
  },
  {
   "cell_type": "markdown",
   "metadata": {},
   "source": [
    "##### choice() : Extracts a randowm element from the give sequence "
   ]
  },
  {
   "cell_type": "code",
   "execution_count": 171,
   "metadata": {},
   "outputs": [
    {
     "name": "stdout",
     "output_type": "stream",
     "text": [
      "10\n"
     ]
    }
   ],
   "source": [
    "print(rd.choice(numlist))"
   ]
  },
  {
   "cell_type": "markdown",
   "metadata": {},
   "source": [
    "##### sample(): Return elements randomly. The number of element to be returned can be specified as an argument"
   ]
  },
  {
   "cell_type": "code",
   "execution_count": 172,
   "metadata": {},
   "outputs": [
    {
     "name": "stdout",
     "output_type": "stream",
     "text": [
      "[10, 40, 50]\n"
     ]
    }
   ],
   "source": [
    "print(rd.sample(numlist,3))"
   ]
  },
  {
   "cell_type": "code",
   "execution_count": 174,
   "metadata": {},
   "outputs": [
    {
     "name": "stdout",
     "output_type": "stream",
     "text": [
      "[8, 5, 1]\n"
     ]
    }
   ],
   "source": [
    "a = list(range(1,11))\n",
    "b= rd.sample(a,3)\n",
    "print(b)"
   ]
  },
  {
   "cell_type": "markdown",
   "metadata": {},
   "source": [
    "#### Paper code "
   ]
  },
  {
   "cell_type": "markdown",
   "metadata": {},
   "source": [
    "#### Let code the mission "
   ]
  },
  {
   "cell_type": "markdown",
   "metadata": {},
   "source": [
    "##### Q1 "
   ]
  },
  {
   "cell_type": "markdown",
   "metadata": {},
   "source": [
    "![alt text](images/Lession%203/Paper%20coding%20Q1.png)"
   ]
  },
  {
   "cell_type": "code",
   "execution_count": null,
   "metadata": {},
   "outputs": [],
   "source": []
  },
  {
   "cell_type": "markdown",
   "metadata": {},
   "source": [
    "##### Q2 \n",
    "![alt text](images/Lession%203/Paper%20coding%20Q2.png)"
   ]
  },
  {
   "cell_type": "code",
   "execution_count": null,
   "metadata": {},
   "outputs": [],
   "source": []
  },
  {
   "cell_type": "markdown",
   "metadata": {},
   "source": [
    "##### Mission\n",
    "BMI Calculator <br>\n",
    "1. Calculate and ouput the BMI(Body Mass index) by obtaining the user's name height and weight\n",
    "2. BMI is calculate by dividing on's weight by the square of their height and the formulat is kg/m2"
   ]
  },
  {
   "cell_type": "markdown",
   "metadata": {},
   "source": [
    "![alt text](images/Lession%203/Mission.png)"
   ]
  },
  {
   "cell_type": "code",
   "execution_count": 181,
   "metadata": {},
   "outputs": [
    {
     "name": "stdout",
     "output_type": "stream",
     "text": [
      "Your BMI is  22.03856749311295\n"
     ]
    }
   ],
   "source": [
    "# Setp one obtaning the user's name hight and weight \n",
    "name = input(\"Enter your name :\")\n",
    "hight = int(input(\"Enter your hight in cm :\"))\n",
    "#convert it to m\n",
    "high_m = hight/ 100\n",
    "weight = int(input(\"Enter your weight in kg :\"))\n",
    "# Setp two calculate the BMI (formulat is weigt / hgiht ** 2)\n",
    "BMI = (weight/(high_m ** 2))\n",
    "print(\"Your BMI is \",BMI)"
   ]
  },
  {
   "cell_type": "markdown",
   "metadata": {},
   "source": [
    "#### Pairs programming "
   ]
  },
  {
   "cell_type": "markdown",
   "metadata": {},
   "source": [
    "##### Q1 Receive a radius value from the user and ouput the circumference and rea of a circle with that radius as follows <br>\n",
    "To calculate these values use the variable PI = 3.141592 "
   ]
  },
  {
   "cell_type": "markdown",
   "metadata": {},
   "source": [
    "![alt text](images/Lession%203/Pair%20programming%20Q1.png)"
   ]
  },
  {
   "cell_type": "code",
   "execution_count": 182,
   "metadata": {},
   "outputs": [
    {
     "name": "stdout",
     "output_type": "stream",
     "text": [
      "Circumerence of the circle =  69.115024\n",
      "Area of the circle =  380.13263200000006\n"
     ]
    }
   ],
   "source": [
    "# Setp one receive the radius value from user \n",
    "radius = int(input(\"Enter the radius :\"))\n",
    "# Setp two define variable PI = 3.141592\n",
    "PI = 3.141592\n",
    "# Setp three calculate circumference and the area\n",
    "circumference_result = 2 * PI * radius\n",
    "Area_result = PI * radius *radius\n",
    "# Setp four output the result of circumference and area of a circle \n",
    "print(\"Circumerence of the circle = \",circumference_result)\n",
    "print(\"Area of the circle = \", Area_result)"
   ]
  },
  {
   "cell_type": "markdown",
   "metadata": {},
   "source": [
    "#### Q2 Write code in square_table.py to display a table of squared values from 2 to 6"
   ]
  },
  {
   "cell_type": "markdown",
   "metadata": {},
   "source": [
    "![alt text](images/Lession%203/Pair%20programming%20Q2.png)"
   ]
  },
  {
   "cell_type": "code",
   "execution_count": 195,
   "metadata": {},
   "outputs": [
    {
     "name": "stdout",
     "output_type": "stream",
     "text": [
      "4\n",
      "9\n",
      "16\n",
      "25\n",
      "36\n"
     ]
    }
   ],
   "source": [
    "#Using math module \n",
    "import math as m \n",
    "\n",
    "# define n = 2\n",
    "n = 2 \n",
    "a = {}\n",
    "for number in range(2,7):\n",
    "    print(number ** n)\n",
    "\n"
   ]
  },
  {
   "cell_type": "markdown",
   "metadata": {},
   "source": [
    "###### Q3 Lets store your name and address in variable named = \"name\" amd \"address\" and then display them"
   ]
  },
  {
   "cell_type": "markdown",
   "metadata": {},
   "source": [
    "![alt text](images/Lession%203/pair%20programm%20q3.png)"
   ]
  },
  {
   "cell_type": "code",
   "execution_count": 1,
   "metadata": {},
   "outputs": [
    {
     "name": "stdout",
     "output_type": "stream",
     "text": [
      "Phem Dararaksmey\n",
      "Phnom Penh\n"
     ]
    }
   ],
   "source": [
    "#sotre name and adress in variable name\n",
    "name =\"Phem Dararaksmey\"\n",
    "address =\"Phnom Penh\"\n",
    "print(name)\n",
    "print(address)"
   ]
  },
  {
   "cell_type": "markdown",
   "metadata": {},
   "source": [
    "## Tuesday : 06/ 02/ 2024\n",
    "### Lession 4 : Boolean expression \n",
    "<br>\n",
    "learning object : bool data type , comparison operator , logic operator , identity operator, membership operator , operator precedence "
   ]
  },
  {
   "cell_type": "markdown",
   "metadata": {},
   "source": [
    "#### 1.Mission "
   ]
  },
  {
   "cell_type": "markdown",
   "metadata": {},
   "source": [
    "Leap Year Calculator Operation Process \n",
    "formulate :"
   ]
  },
  {
   "cell_type": "markdown",
   "metadata": {},
   "source": [
    "bool data type consists of True and False which represent true and false resoctively"
   ]
  },
  {
   "cell_type": "code",
   "execution_count": 5,
   "metadata": {},
   "outputs": [
    {
     "name": "stdout",
     "output_type": "stream",
     "text": [
      "True\n",
      "False\n",
      "False\n",
      "False\n"
     ]
    }
   ],
   "source": [
    "# Data of non-bool type can be also be converted to bool type \n",
    "print(bool(1))\n",
    "print(bool(0))\n",
    "print(bool(''))\n",
    "print(bool(None))"
   ]
  },
  {
   "cell_type": "markdown",
   "metadata": {},
   "source": [
    "#### 2.Comparison Operators \n",
    "##### 2.1What is the Comparison Operator? <br>\n",
    "<br>\n",
    "<b>Comparison Operators </b> is compares two operands, and return True or Flase as the result "
   ]
  },
  {
   "cell_type": "code",
   "execution_count": 1,
   "metadata": {},
   "outputs": [
    {
     "name": "stdout",
     "output_type": "stream",
     "text": [
      "Result of 10 > 5 : True\n",
      "Result of a > b : False\n",
      "Result of 5 < 1 : False\n",
      "Result of 5 == 5 : True\n",
      "Result of 5 != 5 : False\n"
     ]
    }
   ],
   "source": [
    "print(\"Result of 10 > 5 :\", 10 > 5)\n",
    "print(\"Result of a > b :\", 'a' > 'b')\n",
    "print(\"Result of 5 < 1 :\", 5 < 1)\n",
    "print(\"Result of 5 == 5 :\", 5 == 5)\n",
    "print(\"Result of 5 != 5 :\", 5 != 5)"
   ]
  },
  {
   "cell_type": "markdown",
   "metadata": {},
   "source": [
    "##### 2.2Numeric Type and Comparison Operator "
   ]
  },
  {
   "cell_type": "code",
   "execution_count": 2,
   "metadata": {},
   "outputs": [
    {
     "name": "stdout",
     "output_type": "stream",
     "text": [
      "False\n",
      "True\n",
      "True\n",
      "False\n",
      "False\n",
      "True\n"
     ]
    }
   ],
   "source": [
    "a = 100 \n",
    "b = 200 \n",
    "print(a == b)\n",
    "print(a != b)\n",
    "print(a < b)\n",
    "print(a > b)\n",
    "print(a >= b)\n",
    "print(a <= b)"
   ]
  },
  {
   "cell_type": "code",
   "execution_count": 3,
   "metadata": {},
   "outputs": [
    {
     "name": "stdout",
     "output_type": "stream",
     "text": [
      "Is this an even number  True\n"
     ]
    }
   ],
   "source": [
    "n = int(input(\"Enter an integer \"))\n",
    "print(\"Is this an even number \", n % 2  == 0)"
   ]
  },
  {
   "cell_type": "markdown",
   "metadata": {},
   "source": [
    "Python allows the use of more than onc comparison operator"
   ]
  },
  {
   "cell_type": "code",
   "execution_count": 4,
   "metadata": {},
   "outputs": [
    {
     "name": "stdout",
     "output_type": "stream",
     "text": [
      "n = 100\n",
      "True\n"
     ]
    }
   ],
   "source": [
    "n = 100 \n",
    "print('n =', n)\n",
    "print(0 < n < 200)"
   ]
  },
  {
   "cell_type": "markdown",
   "metadata": {},
   "source": [
    "##### 2.3String and Comparison Operator <br>\n",
    "<br>\n",
    "The == operator for strings return Ture only if the two string are exactly the same \n"
   ]
  },
  {
   "cell_type": "code",
   "execution_count": 6,
   "metadata": {},
   "outputs": [
    {
     "name": "stdout",
     "output_type": "stream",
     "text": [
      "True\n",
      "False\n"
     ]
    }
   ],
   "source": [
    "print('aaa' == 'aaa')\n",
    "print('bbb' == 'aaa')"
   ]
  },
  {
   "cell_type": "markdown",
   "metadata": {},
   "source": [
    "The != operator for strings returns True if the two strings are not exactly the same "
   ]
  },
  {
   "cell_type": "code",
   "execution_count": 7,
   "metadata": {},
   "outputs": [
    {
     "name": "stdout",
     "output_type": "stream",
     "text": [
      "False\n",
      "True\n"
     ]
    }
   ],
   "source": [
    "print('aaa' != 'aaa')\n",
    "print('bbb' != 'aaa')"
   ]
  },
  {
   "cell_type": "markdown",
   "metadata": {},
   "source": [
    "##### 2.4Precaitopms when using Comparison Operator "
   ]
  },
  {
   "cell_type": "code",
   "execution_count": 9,
   "metadata": {},
   "outputs": [
    {
     "ename": "SyntaxError",
     "evalue": "invalid syntax (171220688.py, line 3)",
     "output_type": "error",
     "traceback": [
      "\u001b[0;36m  Cell \u001b[0;32mIn[9], line 3\u001b[0;36m\u001b[0m\n\u001b[0;31m    number1 =< number2\u001b[0m\n\u001b[0m             ^\u001b[0m\n\u001b[0;31mSyntaxError\u001b[0m\u001b[0;31m:\u001b[0m invalid syntax\n"
     ]
    }
   ],
   "source": [
    "number1 = 100\n",
    "number2 = 200\n",
    "number1 =< number2"
   ]
  },
  {
   "cell_type": "markdown",
   "metadata": {},
   "source": [
    "####  3 Logical Operators \n",
    "##### 3.1 What is a Logical Operator ?<br>\n",
    "<br>\n",
    "<b> Logical operators</b> evaluate logical expressions and return True or False"
   ]
  },
  {
   "cell_type": "code",
   "execution_count": 10,
   "metadata": {},
   "outputs": [
    {
     "name": "stdout",
     "output_type": "stream",
     "text": [
      "False\n",
      "True\n",
      "False\n",
      "True\n"
     ]
    }
   ],
   "source": [
    "x = True\n",
    "y =False \n",
    "print(x and y)\n",
    "print(x or y)\n",
    "print(not x)\n",
    "print(not y)"
   ]
  },
  {
   "cell_type": "markdown",
   "metadata": {},
   "source": [
    "##### 3.1 Logical Operation <br>\n",
    "<br>\n",
    "<b>Logical Operation</b>combine bol value to create a new bool value "
   ]
  },
  {
   "cell_type": "code",
   "execution_count": 13,
   "metadata": {},
   "outputs": [
    {
     "name": "stdout",
     "output_type": "stream",
     "text": [
      "Is this integer an even number within the range of 0 to 100 ? False\n"
     ]
    }
   ],
   "source": [
    "num = int(input(\"Enter integer\"))\n",
    "result = num >= 0 and num <= 100 and num % 2 == 0\n",
    "print('Is this integer an even number within the range of 0 to 100 ?' ,result)"
   ]
  },
  {
   "cell_type": "markdown",
   "metadata": {},
   "source": [
    "##### 3.2Logical Opeartion and Parentheses "
   ]
  },
  {
   "cell_type": "code",
   "execution_count": 14,
   "metadata": {},
   "outputs": [
    {
     "data": {
      "text/plain": [
       "False"
      ]
     },
     "execution_count": 14,
     "metadata": {},
     "output_type": "execute_result"
    }
   ],
   "source": [
    "num = 2023 \n",
    "(num % 4 == 0 and num % 100 != 0) or num % 400 == 0"
   ]
  },
  {
   "cell_type": "markdown",
   "metadata": {},
   "source": [
    "#### 4.Identity Operators \n",
    "##### 4.1The difference between the 'is' operator and the == Operator <br>\n",
    "<br>\n",
    "The 'is' Operator compares the identity of the objects by comparing their identifiers and return True of False indicating whether the tow variable refer to the same object"
   ]
  },
  {
   "cell_type": "code",
   "execution_count": 15,
   "metadata": {},
   "outputs": [
    {
     "name": "stdout",
     "output_type": "stream",
     "text": [
      "True\n",
      "False\n"
     ]
    }
   ],
   "source": [
    "a = 1\n",
    "b = 1.0\n",
    "print(a == b)\n",
    "print(a is b)"
   ]
  },
  {
   "cell_type": "markdown",
   "metadata": {},
   "source": [
    "#### 5.Membership Operators \n",
    "The 'in' Operator determines whether the left value is present in the right data and returns True or False "
   ]
  },
  {
   "cell_type": "code",
   "execution_count": 17,
   "metadata": {},
   "outputs": [
    {
     "name": "stdout",
     "output_type": "stream",
     "text": [
      "True\n",
      "True\n",
      "False\n"
     ]
    }
   ],
   "source": [
    "print('aaa' in 'aaa-bbb-ccc')\n",
    "print('bbb' in 'aaa-bbb-ccc')\n",
    "print('ddd' in 'aaa-bbb-ccc')"
   ]
  },
  {
   "cell_type": "markdown",
   "metadata": {},
   "source": [
    "#### 6.Order of operation "
   ]
  },
  {
   "cell_type": "code",
   "execution_count": 18,
   "metadata": {},
   "outputs": [
    {
     "name": "stdout",
     "output_type": "stream",
     "text": [
      "Average =  20.0\n"
     ]
    }
   ],
   "source": [
    "x = int(input(\"Enter the first number :\"))\n",
    "y = int(input(\"Enter the second number :\"))\n",
    "z = int(input(\"Enter the third numbr:\"))\n",
    "\n",
    "avg = (x + y + z) / 3\n",
    "print(\"Average = \", avg)"
   ]
  },
  {
   "cell_type": "markdown",
   "metadata": {},
   "source": [
    "#### Paper Coding "
   ]
  },
  {
   "cell_type": "markdown",
   "metadata": {},
   "source": [
    "##### Write a code that receives that value of n throught the user's keyword <br>\n",
    "input and print True if the given integer n is odd and false if it is even"
   ]
  },
  {
   "cell_type": "markdown",
   "metadata": {},
   "source": [
    "![alt text](images/Lession%204/paper%20code%20Q1.png)"
   ]
  },
  {
   "cell_type": "code",
   "execution_count": 21,
   "metadata": {},
   "outputs": [
    {
     "name": "stdout",
     "output_type": "stream",
     "text": [
      "Enter an integer :  21\n",
      "is this number odd ? True\n"
     ]
    }
   ],
   "source": [
    "n = int(input(\"Enter number :\"))\n",
    "result = n >= 0 and n % 2 != 0\n",
    "print(\"Enter an integer : \", n)\n",
    "print(\"is this number odd ?\",result)\n"
   ]
  },
  {
   "cell_type": "markdown",
   "metadata": {},
   "source": [
    "##### Q2 Write a code that determines whether the integer value n received from the user is an even number within the range of o to 10."
   ]
  },
  {
   "cell_type": "markdown",
   "metadata": {},
   "source": [
    "![alt text](images/Lession%204/paird%20programm%20q2.png)"
   ]
  },
  {
   "cell_type": "code",
   "execution_count": 22,
   "metadata": {},
   "outputs": [
    {
     "name": "stdout",
     "output_type": "stream",
     "text": [
      "Enter an integer : 12\n",
      "Is the entered integer an even number within the range of 0 to 10 ? : False\n"
     ]
    }
   ],
   "source": [
    "n = int(input(\"Enter number\"))\n",
    "result = n >= 0 and n <= 10 and n % 2 == 0\n",
    "print(\"Enter an integer :\", n)\n",
    "print(\"Is the entered integer an even number within the range of 0 to 10 ? :\" , result)"
   ]
  },
  {
   "cell_type": "markdown",
   "metadata": {},
   "source": [
    "#### Let Code \n",
    "##### Mission leap year "
   ]
  },
  {
   "cell_type": "markdown",
   "metadata": {},
   "source": [
    "![alt text](images/Lession%204/Mission.png)"
   ]
  },
  {
   "cell_type": "code",
   "execution_count": 26,
   "metadata": {},
   "outputs": [
    {
     "name": "stdout",
     "output_type": "stream",
     "text": [
      "The user's input year :  300\n",
      "The user's input year is a leap year ? :  False\n"
     ]
    }
   ],
   "source": [
    "#setp one take input form user\n",
    "year = int(input(\"Enter number of year \"))\n",
    "#determine if it true or false by using the \n",
    "leap_year = (year > 0 and year % 4 == 0 and year % 100 != 0 ) or year % 400 == 0 \n",
    "#print the leap year \n",
    "print(\"The user's input year : \", year)\n",
    "print(\"The user's input year is a leap year ? : \", leap_year)\n"
   ]
  },
  {
   "cell_type": "markdown",
   "metadata": {},
   "source": [
    "#### Pair Programming \n",
    "##### Q1. Plase input a three-digit integer from the user if the hundreds digit of the input teger n is 3 <br>\n",
    "output Ture ,otherwies output flase "
   ]
  },
  {
   "cell_type": "markdown",
   "metadata": {},
   "source": [
    "![alt text](images/Lession%204/paird%20programm%20Q1%20(1).png)"
   ]
  },
  {
   "cell_type": "code",
   "execution_count": 31,
   "metadata": {},
   "outputs": [
    {
     "name": "stdout",
     "output_type": "stream",
     "text": [
      "Enter an integer 321\n",
      "True\n"
     ]
    }
   ],
   "source": [
    "three_digit = int(input(\"Enter three digit integer :\"))\n",
    "result = (three_digit > 0 and three_digit // 100 ) % 3 == 0\n",
    "print(\"Enter an integer\",three_digit)\n",
    "print(result)"
   ]
  },
  {
   "cell_type": "markdown",
   "metadata": {},
   "source": [
    "##### Q2 input a signle integer and output True if it is a multiple of 5 otherwise output false"
   ]
  },
  {
   "cell_type": "markdown",
   "metadata": {},
   "source": [
    "![alt text](images/Lession%204/paird%20programm%20q2.png)"
   ]
  },
  {
   "cell_type": "code",
   "execution_count": 32,
   "metadata": {},
   "outputs": [
    {
     "name": "stdout",
     "output_type": "stream",
     "text": [
      "Enter an integer : 125\n",
      "True\n"
     ]
    }
   ],
   "source": [
    "Single_integer = int(input(\"Enter an integer :\"))\n",
    "result = (Single_integer > 0 and Single_integer % 5 == 0)\n",
    "print(\"Enter an integer :\", Single_integer)\n",
    "print(result)"
   ]
  },
  {
   "cell_type": "code",
   "execution_count": 34,
   "metadata": {},
   "outputs": [
    {
     "name": "stdout",
     "output_type": "stream",
     "text": [
      "True\n",
      "True\n"
     ]
    }
   ],
   "source": [
    "print(bool('string'))\n",
    "print(bool(-1))"
   ]
  },
  {
   "cell_type": "code",
   "execution_count": 36,
   "metadata": {},
   "outputs": [
    {
     "name": "stdout",
     "output_type": "stream",
     "text": [
      "True\n"
     ]
    }
   ],
   "source": [
    "a = 2 \n",
    "b = 2.0\n",
    "c = a == b \n",
    "print(c)"
   ]
  },
  {
   "cell_type": "code",
   "execution_count": 1,
   "metadata": {},
   "outputs": [],
   "source": [
    "a = 2 \n",
    "b = 2 "
   ]
  },
  {
   "cell_type": "markdown",
   "metadata": {},
   "source": [
    "### Lession 5 Conditional Statement-1: Condition and Decision Making"
   ]
  },
  {
   "cell_type": "markdown",
   "metadata": {},
   "source": [
    "#### 1.Programming with different flows depending on conditions "
   ]
  },
  {
   "cell_type": "markdown",
   "metadata": {},
   "source": [
    "There are three type of contro satement :<br>\n",
    " 1.Conditional stament <br>\n",
    " 2.Loop statement <br>\n",
    " 3.Flow-altering command<br> "
   ]
  },
  {
   "cell_type": "markdown",
   "metadata": {},
   "source": [
    "##### 1.2The need for conditional selective flow \n",
    "<br> Why do we need conditional statements \n",
    " <br> if there is more than one possible path to processd, we need to decide whic path to choose<br>\n",
    " <br> without selection structures, we cannot determine which path to choose resulting in the program always a signle path"
   ]
  },
  {
   "cell_type": "markdown",
   "metadata": {},
   "source": [
    "#### 2.2if statment syntax "
   ]
  },
  {
   "cell_type": "code",
   "execution_count": 3,
   "metadata": {},
   "outputs": [
    {
     "name": "stdout",
     "output_type": "stream",
     "text": [
      "Youth discount\n"
     ]
    }
   ],
   "source": [
    "#situaltion 1 \n",
    "# if the age is under 20,output 'Youth discount '\n",
    "age = 18\n",
    "if age<20:\n",
    "    print(\"Youth discount\")"
   ]
  },
  {
   "cell_type": "code",
   "execution_count": 10,
   "metadata": {},
   "outputs": [
    {
     "name": "stdout",
     "output_type": "stream",
     "text": [
      "How many step you done to day1000\n",
      "Achieved the goal\n"
     ]
    }
   ],
   "source": [
    "#situaltion 2 \n",
    "# if the step count is over 1000 output 'Goal achiveved'\n",
    "walk_count= int(input(\"How many step you done to day\"))\n",
    "if walk_count >= 1000:\n",
    "    print(\"Achieved the goal\")"
   ]
  },
  {
   "cell_type": "markdown",
   "metadata": {},
   "source": [
    "#### 2.3Blocks and Python's indentation"
   ]
  },
  {
   "cell_type": "code",
   "execution_count": 11,
   "metadata": {},
   "outputs": [
    {
     "ename": "IndentationError",
     "evalue": "expected an indented block after 'if' statement on line 2 (1810150639.py, line 3)",
     "output_type": "error",
     "traceback": [
      "\u001b[0;36m  Cell \u001b[0;32mIn[11], line 3\u001b[0;36m\u001b[0m\n\u001b[0;31m    print('youth discount')\u001b[0m\n\u001b[0m    ^\u001b[0m\n\u001b[0;31mIndentationError\u001b[0m\u001b[0;31m:\u001b[0m expected an indented block after 'if' statement on line 2\n"
     ]
    }
   ],
   "source": [
    "age = 18 \n",
    "if age < 20:\n",
    "print('youth discount')"
   ]
  },
  {
   "cell_type": "markdown",
   "metadata": {},
   "source": [
    "Note : Python is a programming language where indentation holds significant importance.\n",
    "<br> Different results are produced based on the indentation"
   ]
  },
  {
   "cell_type": "code",
   "execution_count": 13,
   "metadata": {},
   "outputs": [
    {
     "name": "stdout",
     "output_type": "stream",
     "text": [
      "Age : 24\n",
      "Welcome\n"
     ]
    }
   ],
   "source": [
    "age = 24 \n",
    "print('Age :', age)\n",
    "if age < 20:\n",
    "    print('Youth age')\n",
    "    print('Youth discount')\n",
    "print('Welcome')"
   ]
  },
  {
   "cell_type": "code",
   "execution_count": 14,
   "metadata": {},
   "outputs": [
    {
     "name": "stdout",
     "output_type": "stream",
     "text": [
      "Age : 24\n",
      "Youth discount\n",
      "Welcome\n"
     ]
    }
   ],
   "source": [
    "age = 24 \n",
    "print('Age :', age)\n",
    "if age < 20:\n",
    "    print('Youth age')\n",
    "print('Youth discount')\n",
    "print('Welcome')"
   ]
  },
  {
   "cell_type": "markdown",
   "metadata": {},
   "source": [
    "##### 2.4The pass keyword\n",
    "<br> The pass statement in python is used to skip the code within a block\n",
    "<br> It is primaryily used when you want to write the code later because the precise processibgdetails are not yet available "
   ]
  },
  {
   "cell_type": "code",
   "execution_count": 15,
   "metadata": {},
   "outputs": [],
   "source": [
    "age = 18 \n",
    "if age <20 :\n",
    "    pass \n"
   ]
  },
  {
   "cell_type": "markdown",
   "metadata": {},
   "source": [
    "#### 3Various Conditional Statement Examples \n",
    "##### 3.1Checking for value equality "
   ]
  },
  {
   "cell_type": "code",
   "execution_count": 20,
   "metadata": {},
   "outputs": [
    {
     "name": "stdout",
     "output_type": "stream",
     "text": [
      "Enter your id :david\n",
      "ID match :\n"
     ]
    }
   ],
   "source": [
    "my_id = 'david'\n",
    "s = input(\"Enter your id :\")\n",
    "if s == my_id:\n",
    "    print('ID match :')"
   ]
  },
  {
   "cell_type": "markdown",
   "metadata": {},
   "source": [
    "##### 3.2Checking for multiples of 3 "
   ]
  },
  {
   "cell_type": "code",
   "execution_count": 22,
   "metadata": {},
   "outputs": [
    {
     "name": "stdout",
     "output_type": "stream",
     "text": [
      "Enter an integer :6\n",
      "6 is a multiple of 3\n"
     ]
    }
   ],
   "source": [
    "number = int(input(\"Enter an integer :\"))\n",
    "if (number % 3 ) == 0 :\n",
    "        print(number,\"is a multiple of 3\")"
   ]
  },
  {
   "cell_type": "markdown",
   "metadata": {},
   "source": [
    "##### 3.3checking for multiples of 3 and 5 imulanously"
   ]
  },
  {
   "cell_type": "code",
   "execution_count": 25,
   "metadata": {},
   "outputs": [
    {
     "name": "stdout",
     "output_type": "stream",
     "text": [
      "Enter an integer :15\n",
      "15 is a multiple of 3 and 5\n"
     ]
    }
   ],
   "source": [
    "number = int(input(\"Enter an integer :\"))\n",
    "if (number % 3 ) == 0 and (number % 5)== 0 :\n",
    "        print(number,\"is a multiple of 3 and 5\")"
   ]
  },
  {
   "cell_type": "markdown",
   "metadata": {},
   "source": [
    "##### 3.4Checking for even number "
   ]
  },
  {
   "cell_type": "code",
   "execution_count": 26,
   "metadata": {},
   "outputs": [
    {
     "name": "stdout",
     "output_type": "stream",
     "text": [
      "Enter an integer :50 \n",
      "n =  50\n",
      "50 is an even number\n"
     ]
    }
   ],
   "source": [
    "n = int(input(\"Enter an integer :\"))\n",
    "print(\"n = \", n)\n",
    "if n % 2 == 0:\n",
    "    print(n, \"is an even number\")"
   ]
  },
  {
   "cell_type": "markdown",
   "metadata": {},
   "source": [
    "##### 3.5Checking for string equlity \n"
   ]
  },
  {
   "cell_type": "code",
   "execution_count": 27,
   "metadata": {},
   "outputs": [
    {
     "name": "stdout",
     "output_type": "stream",
     "text": [
      "The two string are not the same\n"
     ]
    }
   ],
   "source": [
    "String1='aaa'\n",
    "String2='bbb'\n",
    "if(String1 == String2):\n",
    "    print(\"The two string are the same\")\n",
    "if(String1 != String2):\n",
    "    print(\"The two string are not the same\")"
   ]
  },
  {
   "cell_type": "markdown",
   "metadata": {},
   "source": [
    "##### 3.6Determining pass or fail based on score "
   ]
  },
  {
   "cell_type": "code",
   "execution_count": 28,
   "metadata": {},
   "outputs": [
    {
     "name": "stdout",
     "output_type": "stream",
     "text": [
      "Enter your scoure : 90\n",
      "Congratulations.\n",
      "You passed.\n",
      "You can also get a scholarship\n"
     ]
    }
   ],
   "source": [
    "score = int(input(\"Enter your scoure : \"))\n",
    "if score >= 90:\n",
    "    print(\"Congratulations.\")\n",
    "    print(\"You passed.\")\n",
    "    print(\"You can also get a scholarship\")"
   ]
  },
  {
   "cell_type": "markdown",
   "metadata": {},
   "source": [
    "##### 3.7Example using logical operator \n",
    "<br>when you combine comparison operators and logical operators. This is called \"logical operation\""
   ]
  },
  {
   "cell_type": "code",
   "execution_count": 30,
   "metadata": {},
   "outputs": [
    {
     "name": "stdout",
     "output_type": "stream",
     "text": [
      "both numbers are even numbers\n",
      "One or more of the two numbers are even\n"
     ]
    }
   ],
   "source": [
    "a = 10\n",
    "b = 14\n",
    "if (a%2 == 0) and (b % 2 == 0):\n",
    "    print(\"both numbers are even numbers\")\n",
    "if (a % 2 == 0) or (b % 2 == 0):\n",
    "    print(\"One or more of the two numbers are even\")"
   ]
  },
  {
   "cell_type": "code",
   "execution_count": 31,
   "metadata": {},
   "outputs": [
    {
     "name": "stdout",
     "output_type": "stream",
     "text": [
      "One or more of the two numbers are even\n"
     ]
    }
   ],
   "source": [
    "a = 10\n",
    "b = 13\n",
    "if (a%2 == 0) and (b % 2 == 0):\n",
    "    print(\"both numbers are even numbers\")\n",
    "if (a % 2 == 0) or (b % 2 == 0):\n",
    "    print(\"One or more of the two numbers are even\")"
   ]
  },
  {
   "cell_type": "markdown",
   "metadata": {},
   "source": [
    "#### Paper Code "
   ]
  },
  {
   "cell_type": "markdown",
   "metadata": {},
   "source": [
    "##### Q1.if the game score of game user is 1000 or more , print(\"you are a pro\")\n",
    "\n",
    "write the entircode and the expected output result on the note <br>\n"
   ]
  },
  {
   "cell_type": "markdown",
   "metadata": {},
   "source": [
    "![alt text](images/Lession%205/paper%20code%20Q1.png)"
   ]
  },
  {
   "cell_type": "code",
   "execution_count": 37,
   "metadata": {},
   "outputs": [
    {
     "name": "stdout",
     "output_type": "stream",
     "text": [
      "Enter game_score :100\n",
      "Your game score =  100 you still need score about  900 more to be a pro\n"
     ]
    }
   ],
   "source": [
    "game_score = int(input(\"Enter game_score :\"))\n",
    "if game_score >= 1000:\n",
    "    print(\"Your are a pro\")\n",
    "else:\n",
    "    print(\"Your game score = \",game_score,\"you still need score about \", 1000 - game_score,\"more to be a pro\")"
   ]
  },
  {
   "cell_type": "markdown",
   "metadata": {},
   "source": [
    "##### Q2.Write a program that takes a random integer x between -100 and 100 and performs the following taksk\n",
    "<br>1 print x on the screen\n",
    "<br>2 if x is a positive integer and print is a natural number\n",
    "\n"
   ]
  },
  {
   "cell_type": "markdown",
   "metadata": {},
   "source": [
    "![alt text](images/Lession%205/paper%20code%202.png)"
   ]
  },
  {
   "cell_type": "code",
   "execution_count": 41,
   "metadata": {},
   "outputs": [
    {
     "name": "stdout",
     "output_type": "stream",
     "text": [
      "69 is a natural number.\n"
     ]
    }
   ],
   "source": [
    "import random \n",
    "#generation x random number for -100 to 100\n",
    "x = random.randint(-100 , 100)\n",
    "\n",
    "if 0 < x <= 100:\n",
    "    print(f\"{x} is a natural number.\")\n",
    "else:\n",
    "    print(\"the number of x = \", x)\n",
    "i0"
   ]
  },
  {
   "cell_type": "markdown",
   "metadata": {},
   "source": [
    "#### Mission : Lottery Winning Simulation"
   ]
  },
  {
   "cell_type": "markdown",
   "metadata": {},
   "source": [
    "![alt text](images/Lession%205/Mission.png)"
   ]
  },
  {
   "cell_type": "code",
   "execution_count": 53,
   "metadata": {},
   "outputs": [
    {
     "name": "stdout",
     "output_type": "stream",
     "text": [
      "Enter three number a : 2\n",
      "Enter three number b : 3\n",
      "Enter three number c : 9\n",
      "you won \n"
     ]
    }
   ],
   "source": [
    "# step one initialize \n",
    "n1 = 2\n",
    "n2 = 3\n",
    "n3 = 9\n",
    "# step two initialize n as 0 \n",
    "n = 0 \n",
    "# setp three take input a ,b ,c as number (int)\n",
    "a = int(input(\"Enter three number a : \"))\n",
    "b = int(input(\"Enter three number b : \"))\n",
    "c = int(input(\"Enter three number c : \"))\n",
    "#if n match one of 2,3,9\n",
    "if (a == n1 or a == n2 or a == n3):\n",
    "    n+=1\n",
    "    if (b== n1 or b == n2 or b == n3):\n",
    "        n+=1\n",
    "        if(c == n1 or c == n2 or c == n3):\n",
    "            n+= 1\n",
    "if n == 3 :\n",
    "    print(\"you won \")\n",
    "else:\n",
    "    print(\"you lose\")\n",
    "    "
   ]
  },
  {
   "cell_type": "code",
   "execution_count": 54,
   "metadata": {},
   "outputs": [
    {
     "name": "stdout",
     "output_type": "stream",
     "text": [
      "Enter three number a : 9\n",
      "Enter three number b : 3\n",
      "Enter three number c : 2\n",
      "you won \n"
     ]
    }
   ],
   "source": [
    "# step one initialize \n",
    "n1 = 2\n",
    "n2 = 3\n",
    "n3 = 9\n",
    "# step two initialize n as 0 \n",
    "n = 0 \n",
    "# setp three take input a ,b ,c as number (int)\n",
    "a = int(input(\"Enter three number a : \"))\n",
    "b = int(input(\"Enter three number b : \"))\n",
    "c = int(input(\"Enter three number c : \"))\n",
    "#if n match one of 2,3,9\n",
    "if (a == n1 or a == n2 or a == n3):\n",
    "    n+=1\n",
    "    if (b== n1 or b == n2 or b == n3):\n",
    "        n+=1\n",
    "        if(c == n1 or c == n2 or c == n3):\n",
    "            n+= 1\n",
    "if n == 3 :\n",
    "    print(\"you won \")\n",
    "else:\n",
    "    print(\"you lose\")"
   ]
  },
  {
   "cell_type": "markdown",
   "metadata": {},
   "source": [
    "#### Piar Programming "
   ]
  },
  {
   "cell_type": "markdown",
   "metadata": {},
   "source": [
    "##### Q1  \n",
    "Write code what prompts the user to enter their age and prints \"Adult\" if the age is 20 or above ,\"Youth\" if the age is 10 or above <br>\n",
    "but less than 20 and \"kid\" if the age is below 10 "
   ]
  },
  {
   "cell_type": "markdown",
   "metadata": {},
   "source": [
    "\n",
    "![alt text](images/Lession%205/Lession%205%20Pair%20Q1.png)\n"
   ]
  },
  {
   "cell_type": "code",
   "execution_count": 5,
   "metadata": {},
   "outputs": [
    {
     "name": "stdout",
     "output_type": "stream",
     "text": [
      "True\n"
     ]
    }
   ],
   "source": [
    "#write code "
   ]
  },
  {
   "cell_type": "markdown",
   "metadata": {},
   "source": [
    "##### Q2"
   ]
  },
  {
   "cell_type": "markdown",
   "metadata": {},
   "source": [
    "![alt text](images/Lession%205/Lession%205%20Pair%20Q2.png)"
   ]
  },
  {
   "cell_type": "markdown",
   "metadata": {},
   "source": []
  }
 ],
 "metadata": {
  "kernelspec": {
   "display_name": "Python 3 (ipykernel)",
   "language": "python",
   "name": "python3"
  },
  "language_info": {
   "codemirror_mode": {
    "name": "ipython",
    "version": 3
   },
   "file_extension": ".py",
   "mimetype": "text/x-python",
   "name": "python",
   "nbconvert_exporter": "python",
   "pygments_lexer": "ipython3",
   "version": "3.10.4"
  }
 },
 "nbformat": 4,
 "nbformat_minor": 2
}
