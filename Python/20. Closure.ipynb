{
 "cells": [
  {
   "cell_type": "markdown",
   "metadata": {},
   "source": [
    "#  20. Closure\n",
    "Learning Objective\n",
    "1. Learners understand the scope rules to determine the available range of variables.\n",
    "2. Learners can modify the values of golbal variables outside a function using the global keyword within the function.\n",
    "3. Learners can use user-define functions as variables.\n",
    "4. Learners can call and execute function with in a function using outer and nested function\n",
    "5. Learners can use the nonlocal keyword in nested functions to access the nearset variable \n",
    "6. Learners can continuously use the values of local variable in nested function throught the concepts of closures.\n",
    "7. Learners can create function clousures using nested function and lambda \n",
    "8. Learners can modify the local variables of closures using the nonlocal keyword \n",
    "* Concepts you will need to know from previous units \n",
    "    - Section 2 <FONT color ='yellow'>Variables and Data Types Operators</FONT> : Naming convention\n",
    "    - Section 17 <FONT color ='yellow'>User-defined Function</FONT> : user-defined Function, Usage of local variable and global variable \n",
    "    - Section 19 <FONT color ='yellow'>Lambda</FONT> : Lambda Function\n",
    "    - Section 20 <FONT color ='yellow'>Section 2</FONT> : \n",
    "* Main keywords:\n",
    "   - Scope rule\n",
    "   - First-class function\n",
    "   - Nested function\n",
    "   - Closure\n",
    "   - nonlocal\n",
    "\n",
    "### 1.Real world problem \n",
    "### 1.1 Isues of industrialization and urban concentration \n",
    "![alt text](images/Lession%2020/Real%20world%20problem%20.png)\n",
    "![alt text](images/Lession%2020//Real%20world%20problem1.png)\n",
    "### 1.2 Urbanization\n",
    "![alt text](images/Lession%2020/Urbanization.png)\n",
    "![alt text](images/Lession%2020/Urbanization%20(1).png)\n",
    "### 1.3 Additional resources related to urbanization\n",
    "Here the line to  **[Urbanization](https://en.wikipedia.org/wiki/Urbanization)**.\n",
    "![alt text](images/Lession%2020/Additional%20resources%20related%20to%20urbanization.png)\n",
    "### 2.Solution \n",
    "#### 2.1 Urbanization analysis\n",
    "![alt text](images/Lession%2020/Urbanization%20analysis.png)\n",
    "![alt text](images/Lession%2020/Urbanization%20analysis1.png)\n",
    "- We are planing to analyze a country in Asia. We will gather population information for the country's four major cities and analyze it.\n",
    "### 3.Plan\n",
    "#### 3.1 Urbanization analysis operation process \n",
    "![alt text](images/Lession%2020/Urbanization%20analysis%20process.png)\n",
    "#### 3.2 Programming Plan \n",
    "![alt text](images/Lession%2020/Programming%20plan%201.png)\n",
    "![alt text](images/Lession%2020/Programming%20plan%202.png)"
   ]
  },
  {
   "cell_type": "markdown",
   "metadata": {},
   "source": [
    "## Key Concept\n",
    "### "
   ]
  },
  {
   "cell_type": "markdown",
   "metadata": {},
   "source": [
    "### 1.Scoping rule in Python\n",
    "#### 1.1 What is a scoping rule?\n",
    "* In this unit, we will focus on examining the extent to which the names of variables or function are vlid \n",
    "* Programming languages, including Python, have the rule for determining the scope of variable accessibility and the scope of the context in which variables are valid. This is called <FONT color = 'yellow'>scoping rule</FONT>.\n",
    "- In Python, the scope of variables can be divided as follows.\n",
    "![alt text](images/Lession%2020/What%20is%20a%20scoping%20rule%201.png)\n",
    "![alt text](images/Lession%2020/What%20is%20a%20scoping%20rule%202.png)\n",
    "* When a vairables is defined within a function,it becomes a local variables,and when it is defined outside of a function, it becomes a global variable.\n",
    "- Let's examine the L,G,and E variable through the following examples.\n",
    "- B, a varriable in the built-in scope, is not in the code provided.\n",
    "- Understanding the chararcteistics of these variables requires careful examination."
   ]
  },
  {
   "cell_type": "code",
   "execution_count": 6,
   "metadata": {},
   "outputs": [
    {
     "name": "stdout",
     "output_type": "stream",
     "text": [
      "30 20 11\n",
      "30 40 11\n"
     ]
    }
   ],
   "source": [
    "x = 10 # G scope variable\n",
    "y = 11 # G scope variable\n",
    "def foo():\n",
    "    x = 20 # L scope variable\n",
    "    def bar ():\n",
    "        a = 30 # E scope variable\n",
    "        print(a,x,y) # E scope variable\n",
    "    bar()\n",
    "    x = 40 # Le scope variable\n",
    "    bar()\n",
    "\n",
    "foo()"
   ]
  },
  {
   "cell_type": "code",
   "execution_count": 7,
   "metadata": {},
   "outputs": [
    {
     "name": "stdout",
     "output_type": "stream",
     "text": [
      "counter =  200\n",
      "Conter =  100\n"
     ]
    }
   ],
   "source": [
    "def print_counter():\n",
    "    counter = 200 #Local variable\n",
    "    print('counter = ',counter)\n",
    "\n",
    "counter = 100 # global variable\n",
    "print_counter()\n",
    "print('Conter = ',counter)"
   ]
  },
  {
   "cell_type": "markdown",
   "metadata": {},
   "source": [
    "* We learned what reserved words or keywords, including the name of built-in functions, should not be used when naming variables according to the naming convention.\n",
    "![alt text](images/Lession%2020/Error%20type%20in%20what%20is%20a%20scoping%20.png)\n",
    "#### 1.2 Local variables and global variables \n",
    "* Let's compare local variables, which are variables within a functionm with global variables that are used throughout the code "
   ]
  },
  {
   "cell_type": "code",
   "execution_count": 9,
   "metadata": {},
   "outputs": [
    {
     "name": "stdout",
     "output_type": "stream",
     "text": [
      "counter =  200\n",
      "Conter =  100\n"
     ]
    }
   ],
   "source": [
    "def print_counter():\n",
    "    counter = 200 #Local variable \n",
    "    print('counter = ',counter)\n",
    "    \"\"\"\n",
    "        Local variables (L) are created when the function is called and disappeared from memeroy when the\n",
    "        call is completed.\n",
    "    \"\"\"\n",
    "\n",
    "counter = 100 # global variable\n",
    "\"\"\"\n",
    "    global variables (L) are persisted in memory regardless of the invocation of the \n",
    "    print_counter function.\n",
    "\"\"\"\n",
    "print_counter()\n",
    "print('Conter = ',counter)"
   ]
  },
  {
   "cell_type": "markdown",
   "metadata": {},
   "source": [
    "![alt text](images/Lession%2020/%20Local%20variables%20and%20global%20variables%20.png)\n",
    "![alt text](images/Lession%2020/%20Local%20variables%20and%20global%20variables%201%20.png)"
   ]
  },
  {
   "cell_type": "code",
   "execution_count": 11,
   "metadata": {},
   "outputs": [
    {
     "name": "stdout",
     "output_type": "stream",
     "text": [
      "counter =  200\n",
      "Conter =  200\n"
     ]
    }
   ],
   "source": [
    "def print_counter():\n",
    "    global counter #Local variable \n",
    "    counter = 200\n",
    "    print('counter = ',counter)\n",
    "    \"\"\"\n",
    "        Local variables (L) are created when the function is called and disappeared from memeroy when the\n",
    "        call is completed.\n",
    "    \"\"\"\n",
    "\n",
    "counter = 100 # global variable\n",
    "\"\"\"\n",
    "    global variables (L) are persisted in memory regardless of the invocation of the \n",
    "    print_counter function.\n",
    "\"\"\"\n",
    "print_counter()\n",
    "print('Conter = ',counter)"
   ]
  },
  {
   "cell_type": "markdown",
   "metadata": {},
   "source": [
    "### 2.First-class function \n",
    "#### 2.1 What is a first-class fnction?\n",
    "* Let's learn about the term <FONT color = 'yellow'>first-class function</FONT>.\n",
    "    - The concept of a \"first-class function' in programming languages means that <FONT color ='yellow'>functions can be treated as variables</FONT>\n",
    "    - Just like we assign numbers or string to variables, we can also treat function in the same way \n",
    "* Functions can be passed as arguments, assigned to other variables, and even used as return **values**. They can also be stored in data structures like likst or dictionaries.\n",
    "* The following code shows that the 'callfunc' function takes a function as a parameter and executes it."
   ]
  },
  {
   "cell_type": "code",
   "execution_count": 13,
   "metadata": {},
   "outputs": [
    {
     "name": "stdout",
     "output_type": "stream",
     "text": [
      "Calling the function callfunc(greet)\n",
      "Hello\n"
     ]
    }
   ],
   "source": [
    "def callfunc(func):\n",
    "    func()\n",
    "def greet():\n",
    "    print(\"Hello\")\n",
    "print(\"Calling the function callfunc(greet)\")\n",
    "callfunc(greet) # When calling the 'callfunc'function, the 'greet function' is passed as an argument."
   ]
  },
  {
   "cell_type": "markdown",
   "metadata": {},
   "source": [
    "* In python, function can be stored in lists and called using indexes,just like variables."
   ]
  },
  {
   "cell_type": "code",
   "execution_count": 14,
   "metadata": {},
   "outputs": [
    {
     "name": "stdout",
     "output_type": "stream",
     "text": [
      "a =  300\n",
      "b = -100\n"
     ]
    }
   ],
   "source": [
    "def plus(a,b):\n",
    "    return a + b\n",
    "def minus (a,b):\n",
    "    return a - b\n",
    "l_list = [plus, minus] # it is also possible to store the function name in a list and call it using an index \n",
    "a = l_list[0](100,200)\n",
    "b = l_list[1](100,200)\n",
    "print('a = ',a)\n",
    "print('b =', b)\n"
   ]
  },
  {
   "cell_type": "markdown",
   "metadata": {},
   "source": [
    "#### 2.2 Advanced features implemented using first-class functions\n",
    "* Using the characteristics of first-class functions , we can perform complex tasks like the following.\n",
    "    * Function can be passed as arguments to other functions.\n",
    "        - > Function can be stored in variables.\n",
    "    * Function can be passed as return value from functions.\n",
    "        - > Function can be used as return value.\n",
    "    * Function can be stored in variables or data structures."
   ]
  },
  {
   "cell_type": "code",
   "execution_count": 15,
   "metadata": {},
   "outputs": [
    {
     "data": {
      "text/plain": [
       "7"
      ]
     },
     "execution_count": 15,
     "metadata": {},
     "output_type": "execute_result"
    }
   ],
   "source": [
    "def add(a,b):\n",
    "    return a + b \n",
    "\n",
    "def f (g,a,b):\n",
    "    return g(a,b)\n",
    "f(add,3,4)"
   ]
  },
  {
   "cell_type": "markdown",
   "metadata": {},
   "source": [
    "* The ability to use functions as arguments and return values in various forms is possible because all functions in Python are first-class function\n",
    "### 3.Nested function \n",
    "#### 3.1 what is a nested function ?\n",
    "<table>\n",
    "    <tr>\n",
    "        <td>\n",
    "            <li> A nested function is another function located within a function</li>\n",
    "            <li> In python, it is possible to define functions like 'italic' and 'bold' within the 'decorate'function,as shown in the following code.</li>\n",
    "            <li> it also has the characteristic of passing a function as a return value of a function </li>\n",
    "            <li> This is an example utilizing the characteristic that ''Python allows defining functions within function and passing function as return values''.</li>\n",
    "            <li> It allows for more structured code writing compared to other languages where similar code would be written using control statements.</li>\n",
    "            <li> It reduces the frequency of using control statements and enables concise code writing.</li>\n",
    "        <td>\n",
    "        <td>\n",
    "            <img src=\"./images/Lession 20/nested function 1.png\">\n",
    "        <td>\n",
    "    </tr>\n",
    "</table>\n",
    "\n",
    "#### 3.2 Reasons for using nested functions\n",
    "* Nested functions have the advantage of being able to frely access variables from the parent function,unlike functios located outside.\n",
    "* Additionaly, they can enhance readability.\n",
    "* However, if the purpose is impley to improve readability, functions can be defined externally instead of within the function. Let's consider the following code."
   ]
  },
  {
   "cell_type": "code",
   "execution_count": 16,
   "metadata": {},
   "outputs": [
    {
     "name": "stdout",
     "output_type": "stream",
     "text": [
      "Hello\n"
     ]
    }
   ],
   "source": [
    "def another_function():\n",
    "    print(\"Hello\")\n",
    "def outer_func():\n",
    "    return another_function()\n",
    "\n",
    "outer_func()"
   ]
  },
  {
   "cell_type": "markdown",
   "metadata": {},
   "source": [
    "* The more important reason for using nested functions is to utilize the concept referred to as the 'closure'.\n",
    "* 'Closure' has the characteristic what when an outer function and an inner nested function are defined, the inner function can still access the variables within the outer function even after the execution of the function has enaded.\n",
    "* We will learn about cloures in this lession.\n",
    "* One of the necessary conditions for implementing cloures is the implementation of nested functions.\n",
    "* Therefore , nested functions are an important concept to understand closures.\n",
    "### 4. Nonlocal keyword\n",
    "#### 4.1 Global keyword and global variables\n",
    "* when 'n1' is declared as a global variable and you want to modify it with in a function, you can declare '' I will use the global variable'n1', not the 'n1' inside the function''\n",
    "by using 'global n1'.Then it can be used without any issues. "
   ]
  },
  {
   "cell_type": "code",
   "execution_count": 17,
   "metadata": {},
   "outputs": [
    {
     "name": "stdout",
     "output_type": "stream",
     "text": [
      "2\n"
     ]
    }
   ],
   "source": [
    "n1=1 \n",
    "def func1():\n",
    "    def func2():\n",
    "        global n1 # the global variable is searched from the global variable namespace.\n",
    "        n1 += 1\n",
    "        print(n1)\n",
    "    func2()\n",
    "func1()"
   ]
  },
  {
   "cell_type": "markdown",
   "metadata": {},
   "source": [
    "#### 4.2 Necessity of the nonlocal keyword\n",
    "![alt text](images/Lession%2020/Necessity%20of%20the%20nonlocal%20keyword%201.png)\n",
    "![alt text](images/Lession%2020/Necessity%20of%20the%20nonlocal%20keyword.png)\n",
    "![alt text](images/Lession%2020/Necessity%20of%20the%20nonlocal%20keyword%202.png)\n",
    "\n",
    "* When using the varialbe 'n3', which is neither a local variable in the current scope nor a global variable, the nonlocal keyword is used.\n",
    "* By spcifying 'nonlocal n3', it means ' i will use the 'n3' variable defined in the closest scope that is not a local variable\". In this way , the 'n3' variable can be used without any issues\n",
    "* This connection with the closest variable is called <FONT color = 'yellow'> binding.</FONT>\n",
    "\n",
    "#### 4.3 Nonlocal keyword and binding \n"
   ]
  },
  {
   "cell_type": "code",
   "execution_count": 18,
   "metadata": {},
   "outputs": [
    {
     "name": "stdout",
     "output_type": "stream",
     "text": [
      "80\n",
      "20\n"
     ]
    }
   ],
   "source": [
    "x = 20\n",
    "def f ():\n",
    "    x = 40 \n",
    "    def g ():\n",
    "        nonlocal x \n",
    "        x = 80\n",
    "\n",
    "    g() # Executes function g to apply nonlocal\n",
    "    print(x) # print the value of x in function f(the variable has ben change to 80 due to the \n",
    "    # influence of nonlocal in function g)\n",
    "\n",
    "f()\n",
    "print(x) # prints the variable 'x' after all function executions have finsihed \n",
    "#(the output value is the initail value of 20). The process of \"connecting the variable x with an actual value is called binding.\""
   ]
  },
  {
   "cell_type": "markdown",
   "metadata": {},
   "source": [
    "<FONT color = \"red\">Focus</FONT>: The nonlocal keyword can be used to bind a variable located one level outside of a function where nonlocal is used.\n",
    "\n",
    "* The nonlocal keyword used here declares that x is not a local variable.\n",
    "![alt text](images/Lession%2020/4.3%20Nonlocal%20keyword%20and%20binding%20.png)\n",
    "\n",
    "#### 4.4 Relationship between nonlocal and global variables\n",
    "* It is not allowed to define only one function and then use the nonlocal declaration to affect global variables.\n",
    "![alt text](images/Lession%2020/Relationship%20between%20nonlocal%20and%20global%20variables.png)\n",
    "#### 4.5 Order of searching for nonlocal variables\n",
    "<table>\n",
    "    <tr>\n",
    "        <td>\n",
    "            <li> Let's consider a case where the function 'g' is defined inside the function'f',and the function 'h' is define insde the function'g'. </li>\n",
    "            <li> After the execution of the function 'h' within 'g', the value of'a' change because it references'a' of 'g' through nonlocal.</li>\n",
    "            <li> After the execution of the function 'g' within 'f','a' dones not changes. This is because it dones not reference'a' of 'f' through nonlocal</li>\n",
    "        <td>\n",
    "        <td>\n",
    "            <img src=\"./images/Lession 20/Order of searching for nonlocal variables.png\">\n",
    "        <td>\n",
    "    </tr>\n",
    "</table>\n",
    "\n",
    "### 5.Closure \n",
    "#### 5.1 What is a closure?\n",
    "- The basic form of a function closure is when you create an inner function within a single function and then return the inner function as a return value.\n",
    "- When the inner function is used in this way, we said that 'it have become a functon closure'.\n",
    "- Onec a function becomes a 'function closure', even if the outer function is terminated, the variable inside it do not dispaaer from memory you can be used by the inner function in the next invocation.\n",
    "- Let's understand the concept of closure throught the following simple code.\n"
   ]
  },
  {
   "cell_type": "code",
   "execution_count": 2,
   "metadata": {},
   "outputs": [
    {
     "name": "stdout",
     "output_type": "stream",
     "text": [
      "2 4 6\n"
     ]
    }
   ],
   "source": [
    "def clouser_calc():\n",
    "    a = 2 # a is just a local varialbe\n",
    "    def mult(x):\n",
    "        return a * x #that variable'a' becomes a free variable.\n",
    "    return mult\n",
    "c = clouser_calc()\n",
    "print(c(1),c(2),c(3))"
   ]
  },
  {
   "cell_type": "markdown",
   "metadata": {},
   "source": [
    "- Let's briefly touch on the concept of 'free variable'\n",
    "\n",
    "a <FONT color = 'yellow'>free variable</FONT> is a vriable that is used within a  code block but is not a global variable and is not defined within that block\n",
    "This is a <FONT color = 'yellow'>relative concept</FONT>.\n",
    "<br><br>\n",
    "\n",
    "* However, even though the variable 'a', which 'c' need to utilize, is a local variable of 'closure_cals', the fact that 'mult' has been executed means that the variable'a', which 'mult' possesses, does not disppear from the memory even after the execution of'mult'is completed.\n",
    "<br><br>\n",
    "![alt text](images/Lession%2020/What%20is%20a%20enclose%20functio.png)\n",
    "\n",
    "* In traditional programming, if you want to use a variable in multiple functions regardless of the termination of a specific function, you need to declare that variable as a global variable.\n",
    "* However,blindly creating global variables can lead to side effects.\n",
    "* While using global variables make programming easier, when the frequency of use increases, interference can occur ,making it difficult to debug when problems arise in the program.\n",
    "* To create a function closure,you define the variable and the function area you want to makea closure,for and then wrap it witn another function.\n",
    "* if there is an outer function what wraps the function closure, the type returned by this outer function becomes the closure.\n",
    "* This  way, you can reduce the frequency of using globl variables and hid the internal functionality of the function.\n",
    "#### 5.2 Main uses of closures\n",
    "* The miain uses of using function clsoures are as follows.\n",
    " - > 1 Limiting the use of global variables \n",
    " - > 2 Purpose of data hiding \n",
    "* From the perspective of memory operation efficiency, closures may be inefficient. however, they can be effective in reducing the use of global variables.\n",
    "* If you want to hide data,declare it as a local variable of the function that wraps the closure.\n",
    "* Function closures have the advantage of providing independent namespace of each function. This allows defining function with the same name but with separate operations.\n",
    "* Closures have separate memory for each variables. "
   ]
  },
  {
   "cell_type": "code",
   "execution_count": 3,
   "metadata": {},
   "outputs": [
    {
     "name": "stdout",
     "output_type": "stream",
     "text": [
      "c1 1\n",
      "c1 2\n",
      "c2 1\n"
     ]
    }
   ],
   "source": [
    "def makecounter():\n",
    "    count = 0\n",
    "    def counter():\n",
    "        nonlocal count \n",
    "        count += 1 \n",
    "        return count\n",
    "    return counter\n",
    "\n",
    "c1 = makecounter()\n",
    "c2 = makecounter()\n",
    "print('c1',c1())\n",
    "print('c1',c1()) # the count used by 'c1' and the 'count' help by 'c2' each have their own memory space\n",
    "print('c2',c2()) #"
   ]
  },
  {
   "cell_type": "markdown",
   "metadata": {},
   "source": [
    "#### 5.3 Approach 1 to create a closure: nested functions \n",
    "* The approach to creating a closure involves writing nested function and returning the nested function.\n"
   ]
  },
  {
   "cell_type": "code",
   "execution_count": 4,
   "metadata": {},
   "outputs": [
    {
     "name": "stdout",
     "output_type": "stream",
     "text": [
      "8 11 14 17 20\n"
     ]
    }
   ],
   "source": [
    "def cals():\n",
    "    a = 3\n",
    "    b = 5\n",
    "    def mul_add(x):\n",
    "        return a * x + b   # Perform calculatios using the local variables 'a' and 'b' outside the function.\n",
    "    return mul_add # return the (mul_add)function\n",
    "c = cals()\n",
    "print(c(1),c(2),c(3),c(4),c(5))"
   ]
  },
  {
   "cell_type": "markdown",
   "metadata": {},
   "source": [
    "#### 5.4 Approach 2 to create a closure: lambda"
   ]
  },
  {
   "cell_type": "code",
   "execution_count": 5,
   "metadata": {},
   "outputs": [
    {
     "name": "stdout",
     "output_type": "stream",
     "text": [
      "8 11 14 17 20\n"
     ]
    }
   ],
   "source": [
    "def clouser_calc():\n",
    "    a = 2 \n",
    "    b = 3\n",
    "    return lambda x : a * x + b\n",
    "c = cals()\n",
    "print(c(1),c(2),c(3),c(4),c(5))"
   ]
  },
  {
   "cell_type": "markdown",
   "metadata": {},
   "source": [
    "* The closure is created by returning the lambda expression itself,as in'return lambda x : a * x + b.\n",
    "* Using lambda expression makes closures simpler.\n",
    "* Lambda expression and closures are ofthen used together, which can lead to confusion.\n",
    "* Lambda refers to an anonymous function without a nanem wguke ckisyre refers to a function that retains the enclosing enviroment and can be used later.\n",
    "#### 5.5 Modifying local variables in closures: nonlocal keyword\n",
    "* To modify the local variables of a closurem you can use the nonlocal keyword.\n",
    "* The following example accumulates the result of ' a * x + b' in the local variable 'total' of the 'calc'function."
   ]
  },
  {
   "cell_type": "code",
   "execution_count": 7,
   "metadata": {},
   "outputs": [
    {
     "name": "stdout",
     "output_type": "stream",
     "text": [
      "8 11 14\n"
     ]
    }
   ],
   "source": [
    "def cal():\n",
    "    a = 2\n",
    "    b = 3\n",
    "    total = 0 \n",
    "    def mult_add(x):\n",
    "        nonlocal total \n",
    "        total = total + a * x + b \n",
    "        return total\n",
    "    return mult_add\n",
    "c = cals()\n",
    "print(c(1),c(2),c(3))"
   ]
  },
  {
   "cell_type": "markdown",
   "metadata": {},
   "source": [
    "## Paper Coding\n",
    "Q1 \n",
    "![alt text](images/Lession%2020/Paper%20code%20Q1.png)"
   ]
  },
  {
   "cell_type": "code",
   "execution_count": 39,
   "metadata": {},
   "outputs": [
    {
     "name": "stdout",
     "output_type": "stream",
     "text": [
      "Hello\n"
     ]
    }
   ],
   "source": [
    "#Q1\n",
    "def greetings():\n",
    "    def say_hi():\n",
    "        print('Hello')\n",
    "    return say_hi()\n",
    "greetings()\n"
   ]
  },
  {
   "cell_type": "markdown",
   "metadata": {},
   "source": [
    "Q2 \n",
    "![alt text](images/Lession%2020/Paper%20code%20Q2.png)"
   ]
  },
  {
   "cell_type": "code",
   "execution_count": 43,
   "metadata": {},
   "outputs": [
    {
     "name": "stdout",
     "output_type": "stream",
     "text": [
      "14\n"
     ]
    }
   ],
   "source": [
    "#Q2\n",
    "def calc():\n",
    "    a = 3\n",
    "    b = 5\n",
    "    def mul_add(num):\n",
    "        return a * num + b \n",
    "    return mul_add\n",
    "\n",
    "c = calc()\n",
    "print(c(3))"
   ]
  },
  {
   "cell_type": "markdown",
   "metadata": {},
   "source": [
    "Q3\n",
    "![alt text](images/Lession%2020/Paper%20code%20Q3.png)"
   ]
  },
  {
   "cell_type": "code",
   "execution_count": 45,
   "metadata": {},
   "outputs": [
    {
     "name": "stdout",
     "output_type": "stream",
     "text": [
      "14\n"
     ]
    }
   ],
   "source": [
    "#Q3\n",
    "def calc():\n",
    "    a = 3\n",
    "    b = 5\n",
    "    return lambda num : a * num + b \n",
    "c = calc()\n",
    "print(c(3))"
   ]
  },
  {
   "cell_type": "markdown",
   "metadata": {},
   "source": [
    "## Let Code\n",
    "Mission \n",
    "![alt text](images/Lession%2020/Mission.png)"
   ]
  },
  {
   "cell_type": "code",
   "execution_count": 11,
   "metadata": {},
   "outputs": [],
   "source": [
    "#Mission"
   ]
  },
  {
   "cell_type": "markdown",
   "metadata": {},
   "source": [
    "Pair programming\n",
    "![alt text](images/Lession%2020/Paper%20programming%20Q1.png)\n",
    "![alt text](images/Lession%2020/Paper%20programming%20Q%201%20output.png)"
   ]
  },
  {
   "cell_type": "code",
   "execution_count": null,
   "metadata": {},
   "outputs": [],
   "source": [
    "#Pair programming\n"
   ]
  },
  {
   "cell_type": "markdown",
   "metadata": {},
   "source": [
    "## Python Test 20\n",
    "Test 1\n",
    "![alt text](images/Lession%2020/Python%20test%2020.1.png)\n",
    "The answer is correct = <FONT color = 'green'> 5 </FONT>"
   ]
  },
  {
   "cell_type": "code",
   "execution_count": 12,
   "metadata": {},
   "outputs": [
    {
     "name": "stdout",
     "output_type": "stream",
     "text": [
      "5\n"
     ]
    }
   ],
   "source": [
    "#Test 1 \n",
    "def add(a,b):\n",
    "    return a + b \n",
    "def mult(a,b):\n",
    "    return a * b \n",
    "\n",
    "calculation = [add,mult]\n",
    "resutlt = 0 \n",
    "for x in range(2):\n",
    "    for y in range(2):\n",
    "        for operator in calculation:\n",
    "           resutlt += operator ( x, y)\n",
    "\n",
    "print(resutlt)\n"
   ]
  },
  {
   "cell_type": "markdown",
   "metadata": {},
   "source": [
    "Test 2\n",
    "![alt text](images/Lession%2020/Python%20test%2020.2.png)\n",
    "The answer is correct = <FONT color = 'green'>  1 </FONT>"
   ]
  },
  {
   "cell_type": "code",
   "execution_count": 13,
   "metadata": {},
   "outputs": [
    {
     "name": "stdout",
     "output_type": "stream",
     "text": [
      "1\n"
     ]
    }
   ],
   "source": [
    "# Test 2\n",
    "def func():\n",
    "    n = 100 \n",
    "    def nested_func():\n",
    "        global n \n",
    "        n +=1 \n",
    "    return nested_func()\n",
    "\n",
    "n = 0 \n",
    "func()\n",
    "print(n)"
   ]
  },
  {
   "cell_type": "markdown",
   "metadata": {},
   "source": [
    "Test 3\n",
    "![alt text](images/Lession%2020/Python%20test%2020.3.png)\n",
    "The answer is correct = <FONT color = 'green'> 101 </FONT>"
   ]
  },
  {
   "cell_type": "code",
   "execution_count": 14,
   "metadata": {},
   "outputs": [
    {
     "name": "stdout",
     "output_type": "stream",
     "text": [
      "101\n"
     ]
    }
   ],
   "source": [
    "# Test 3 \n",
    "def func():\n",
    "    n = 100 \n",
    "    def nested_func():\n",
    "        nonlocal n \n",
    "        n +=1 \n",
    "        return n\n",
    "    return print(nested_func())\n",
    "\n",
    "n = 0 \n",
    "func()"
   ]
  },
  {
   "cell_type": "markdown",
   "metadata": {},
   "source": [
    "Test 4\n",
    "![alt text](images/Lession%2020/Python%20test%2020.4.png)\n",
    "The answer is correct = <FONT color = 'green'>3 4 5  </FONT>"
   ]
  },
  {
   "cell_type": "code",
   "execution_count": 17,
   "metadata": {},
   "outputs": [
    {
     "name": "stdout",
     "output_type": "stream",
     "text": [
      "3 4 5\n"
     ]
    }
   ],
   "source": [
    "# Test 4\n",
    "def funct():\n",
    "    n = 2 \n",
    "    def add(x):\n",
    "        return n + x\n",
    "    return add \n",
    "\n",
    "calc = funct()\n",
    "print(calc(1), calc(2),calc(3))"
   ]
  },
  {
   "cell_type": "markdown",
   "metadata": {},
   "source": [
    "Test 5\n",
    "![alt text](images/Lession%2020/Python%20test%2020.5.png)\n",
    "The answer is correct = <FONT color = 'green'> 3.14 12.56 28.26  </FONT>"
   ]
  },
  {
   "cell_type": "code",
   "execution_count": 18,
   "metadata": {},
   "outputs": [
    {
     "name": "stdout",
     "output_type": "stream",
     "text": [
      "3.14 12.56 28.26\n"
     ]
    }
   ],
   "source": [
    "# Test 5\n",
    "def func():\n",
    "    pi = 3.14\n",
    "    return lambda x : pi * x ** 2 \n",
    "\n",
    "calc = func()\n",
    "print(calc(1), calc(2),calc(3))"
   ]
  },
  {
   "cell_type": "markdown",
   "metadata": {},
   "source": [
    "# END OF THE 20 clsoure"
   ]
  }
 ],
 "metadata": {
  "kernelspec": {
   "display_name": "Python 3",
   "language": "python",
   "name": "python3"
  },
  "language_info": {
   "codemirror_mode": {
    "name": "ipython",
    "version": 3
   },
   "file_extension": ".py",
   "mimetype": "text/x-python",
   "name": "python",
   "nbconvert_exporter": "python",
   "pygments_lexer": "ipython3",
   "version": "3.9.6"
  }
 },
 "nbformat": 4,
 "nbformat_minor": 2
}
