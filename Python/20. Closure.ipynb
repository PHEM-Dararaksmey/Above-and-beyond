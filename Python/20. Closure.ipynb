{
 "cells": [
  {
   "cell_type": "markdown",
   "metadata": {},
   "source": [
    "#  20. Closure\n",
    "Learning Objective\n",
    "1. Learners understand the scope rules to determine the available range of variables.\n",
    "2. Learners can modify the values of golbal variables outside a function using the global keyword within the function.\n",
    "3. Learners can use user-define functions as variables.\n",
    "4. Learners can call and execute function with in a function using outer and nested function\n",
    "5. Learners can use the nonlocal keyword in nested functions to access the nearset variable \n",
    "6. Learners can continuously use the values of local variable in nested function throught the concepts of closures.\n",
    "7. Learners can create function clousures using nested function and lambda \n",
    "8. Learners can modify the local variables of closures using the nonlocal keyword \n",
    "* Concepts you will need to know from previous units \n",
    "    - Section 2 <FONT color ='yellow'>Variables and Data Types Operators</FONT> : Naming convention\n",
    "    - Section 17 <FONT color ='yellow'>User-defined Function</FONT> : user-defined Function, Usage of local variable and global variable \n",
    "    - Section 19 <FONT color ='yellow'>Lambda</FONT> : Lambda Function\n",
    "    - Section 20 <FONT color ='yellow'>Section 2</FONT> : \n",
    "* Main keywords:\n",
    "   - Scope rule\n",
    "   - First-class function\n",
    "   - Nested function\n",
    "   - Closure\n",
    "   - nonlocal\n",
    "\n",
    "### 1.Real world problem \n",
    "### 1.1 Isues of industrialization and urban concentration \n",
    "![alt text](images/Lession%2020/Real%20world%20problem%20.png)\n",
    "![alt text](images/Lession%2020//Real%20world%20problem1.png)\n",
    "### 1.2 Urbanization\n",
    "![alt text](images/Lession%2020/Urbanization.png)\n",
    "![alt text](images/Lession%2020/Urbanization%20(1).png)\n",
    "### 1.3 Additional resources related to urbanization\n",
    "Here the line to  **[Urbanization](https://en.wikipedia.org/wiki/Urbanization)**.\n",
    "![alt text](images/Lession%2020/Additional%20resources%20related%20to%20urbanization.png)\n",
    "### 2.Solution \n",
    "#### 2.1 Urbanization analysis\n",
    "![alt text](images/Lession%2020/Urbanization%20analysis.png)\n",
    "![alt text](images/Lession%2020/Urbanization%20analysis1.png)\n",
    "- We are planing to analyze a country in Asia. We will gather population information for the country's four major cities and analyze it.\n",
    "### 3.Plan\n",
    "#### 3.1 Urbanization analysis operation process \n",
    "![alt text](images/Lession%2020/Urbanization%20analysis%20process.png)\n",
    "#### 3.2 Programming Plan \n",
    "![alt text](images/Lession%2020/Programming%20plan%201.png)\n",
    "![alt text](images/Lession%2020/Programming%20plan%202.png)"
   ]
  },
  {
   "cell_type": "markdown",
   "metadata": {},
   "source": [
    "## Key Concept\n",
    "### "
   ]
  },
  {
   "cell_type": "markdown",
   "metadata": {},
   "source": [
    "### 1.Scoping rule in Python\n",
    "#### 1.1 What is a scoping rule?\n",
    "* In this unit, we will focus on examining the extent to which the names of variables or function are vlid \n",
    "* Programming languages, including Python, have the rule for determining the scope of variable accessibility and the scope of the context in which variables are valid. This is called <FONT color = 'yellow'>scoping rule</FONT>.\n",
    "- In Python, the scope of variables can be divided as follows.\n",
    "![alt text](images/Lession%2020/What%20is%20a%20scoping%20rule%201.png)\n",
    "![alt text](images/Lession%2020/What%20is%20a%20scoping%20rule%202.png)\n",
    "* When a vairables is defined within a function,it becomes a local variables,and when it is defined outside of a function, it becomes a global variable.\n",
    "- Let's examine the L,G,and E variable through the following examples.\n",
    "- B, a varriable in the built-in scope, is not in the code provided.\n",
    "- Understanding the chararcteistics of these variables requires careful examination."
   ]
  },
  {
   "cell_type": "code",
   "execution_count": 6,
   "metadata": {},
   "outputs": [
    {
     "name": "stdout",
     "output_type": "stream",
     "text": [
      "30 20 11\n",
      "30 40 11\n"
     ]
    }
   ],
   "source": [
    "x = 10 # G scope variable\n",
    "y = 11 # G scope variable\n",
    "def foo():\n",
    "    x = 20 # L scope variable\n",
    "    def bar ():\n",
    "        a = 30 # E scope variable\n",
    "        print(a,x,y) # E scope variable\n",
    "    bar()\n",
    "    x = 40 # Le scope variable\n",
    "    bar()\n",
    "\n",
    "foo()"
   ]
  },
  {
   "cell_type": "code",
   "execution_count": 7,
   "metadata": {},
   "outputs": [
    {
     "name": "stdout",
     "output_type": "stream",
     "text": [
      "counter =  200\n",
      "Conter =  100\n"
     ]
    }
   ],
   "source": [
    "def print_counter():\n",
    "    counter = 200 #Local variable\n",
    "    print('counter = ',counter)\n",
    "\n",
    "counter = 100 # global variable\n",
    "print_counter()\n",
    "print('Conter = ',counter)"
   ]
  },
  {
   "cell_type": "markdown",
   "metadata": {},
   "source": [
    "* We learned what reserved words or keywords, including the name of built-in functions, should not be used when naming variables according to the naming convention.\n",
    "![alt text](images/Lession%2020/Error%20type%20in%20what%20is%20a%20scoping%20.png)\n",
    "#### 1.2 Local variables and global variables \n",
    "* Let's compare local variables, which are variables within a functionm with global variables that are used throughout the code "
   ]
  },
  {
   "cell_type": "code",
   "execution_count": 8,
   "metadata": {},
   "outputs": [
    {
     "name": "stdout",
     "output_type": "stream",
     "text": [
      "counter =  200\n",
      "Conter =  100\n"
     ]
    }
   ],
   "source": [
    "def print_counter():\n",
    "    counter = 200 #Local variable \n",
    "    print('counter = ',counter)\n",
    "    \"\"\"\n",
    "        Local variables (L) are created when the function is called and disappeared from memeroy when the\n",
    "        call is completed.\n",
    "    \"\"\"\n",
    "\n",
    "counter = 100 # global variable\n",
    "\"\"\"\n",
    "    global variables (L) are persisted in memory regardless of the invocation of the \n",
    "    print_counter function.\n",
    "\"\"\"\n",
    "print_counter()\n",
    "print('Conter = ',counter)"
   ]
  },
  {
   "cell_type": "code",
   "execution_count": null,
   "metadata": {},
   "outputs": [],
   "source": []
  }
 ],
 "metadata": {
  "kernelspec": {
   "display_name": "Python 3",
   "language": "python",
   "name": "python3"
  },
  "language_info": {
   "codemirror_mode": {
    "name": "ipython",
    "version": 3
   },
   "file_extension": ".py",
   "mimetype": "text/x-python",
   "name": "python",
   "nbconvert_exporter": "python",
   "pygments_lexer": "ipython3",
   "version": "3.9.6"
  }
 },
 "nbformat": 4,
 "nbformat_minor": 2
}
