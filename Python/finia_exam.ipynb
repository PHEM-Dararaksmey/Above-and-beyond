{
 "cells": [
  {
   "cell_type": "code",
   "execution_count": 12,
   "metadata": {},
   "outputs": [
    {
     "name": "stdout",
     "output_type": "stream",
     "text": [
      "[5, 18, 1]\n"
     ]
    }
   ],
   "source": [
    "import random as rd \n",
    "list_var = list(range(1,21))\n",
    "print(rd.sample(list_var,3))"
   ]
  },
  {
   "cell_type": "code",
   "execution_count": 13,
   "metadata": {},
   "outputs": [
    {
     "name": "stdout",
     "output_type": "stream",
     "text": [
      "['a', 'b', 'c', 1, 2]\n"
     ]
    }
   ],
   "source": [
    "list_var = ['b']\n",
    "list_var.append('c')\n",
    "list_var.insert(0, 'a')\n",
    "list_var.extend([1,2])\n",
    "print(list_var)"
   ]
  },
  {
   "cell_type": "code",
   "execution_count": 14,
   "metadata": {},
   "outputs": [
    {
     "name": "stdout",
     "output_type": "stream",
     "text": [
      "29\n"
     ]
    }
   ],
   "source": [
    "my_list = [2,5,8,3,10,7,6,4]\n",
    "my_list.pop()\n",
    "min_value = min(my_list)\n",
    "if min_value in my_list:\n",
    "    my_list.remove(min_value)\n",
    "\n",
    "max_index = my_list.index(max(my_list))\n",
    "del my_list[max_index]\n",
    "\n",
    "print(sum(my_list))"
   ]
  },
  {
   "cell_type": "code",
   "execution_count": 15,
   "metadata": {},
   "outputs": [
    {
     "name": "stdout",
     "output_type": "stream",
     "text": [
      "20\n"
     ]
    }
   ],
   "source": [
    "numbers = list(range(1,21))\n",
    "\n",
    "odd_number = []\n",
    "even_number = []\n",
    "\n",
    "for num in numbers:\n",
    "    if num % 2 == 0:\n",
    "        even_number.append(num)\n",
    "    else:\n",
    "        odd_number.append(numbers)\n",
    "\n",
    "odd_number = len(odd_number)\n",
    "even_number = len(even_number)\n",
    "\n",
    "print(odd_number + even_number)"
   ]
  },
  {
   "cell_type": "code",
   "execution_count": 16,
   "metadata": {},
   "outputs": [
    {
     "name": "stdout",
     "output_type": "stream",
     "text": [
      "720\n"
     ]
    }
   ],
   "source": [
    "n = 6 \n",
    "fact = 1 \n",
    "for i in range(1, n+ 1):\n",
    "    fact *= i\n",
    "print(fact)"
   ]
  },
  {
   "cell_type": "code",
   "execution_count": 17,
   "metadata": {},
   "outputs": [
    {
     "name": "stdout",
     "output_type": "stream",
     "text": [
      "1100\n"
     ]
    }
   ],
   "source": [
    "rest = 0 \n",
    "stop = 10 \n",
    "under = True \n",
    "\n",
    "while under:\n",
    "    rest += 1 \n",
    "    if rest == stop:\n",
    "        under = False \n",
    "        rest *= sum(range(stop + 1 )) * 2 \n",
    "        \n",
    "print(rest)"
   ]
  },
  {
   "cell_type": "code",
   "execution_count": 18,
   "metadata": {},
   "outputs": [
    {
     "ename": "KeyboardInterrupt",
     "evalue": "",
     "output_type": "error",
     "traceback": [
      "\u001b[0;31m---------------------------------------------------------------------------\u001b[0m",
      "\u001b[0;31mKeyboardInterrupt\u001b[0m                         Traceback (most recent call last)",
      "Cell \u001b[0;32mIn[18], line 6\u001b[0m\n\u001b[1;32m      4\u001b[0m k , r \u001b[38;5;241m=\u001b[39m i , \u001b[38;5;241m0\u001b[39m\n\u001b[1;32m      5\u001b[0m \u001b[38;5;28;01mwhile\u001b[39;00m k \u001b[38;5;241m!=\u001b[39m \u001b[38;5;241m0\u001b[39m:\n\u001b[0;32m----> 6\u001b[0m     r \u001b[38;5;241m=\u001b[39m r \u001b[38;5;241m*\u001b[39m \u001b[38;5;241m10\u001b[39m \u001b[38;5;241m+\u001b[39m k \u001b[38;5;241m%\u001b[39m \u001b[38;5;241m10\u001b[39m\n\u001b[1;32m      7\u001b[0m     k \u001b[38;5;241m/\u001b[39m\u001b[38;5;241m/\u001b[39m \u001b[38;5;241m10\u001b[39m \n\u001b[1;32m      9\u001b[0m \u001b[38;5;28;01mif\u001b[39;00m i \u001b[38;5;241m==\u001b[39m r :\n",
      "\u001b[0;31mKeyboardInterrupt\u001b[0m: "
     ]
    }
   ],
   "source": [
    "input_a , input_b = 100, 200\n",
    "cnt = 0\n",
    "for i in range(input_a,input_b + 1):\n",
    "    k , r = i , 0\n",
    "    while k != 0:\n",
    "        r = r * 10 + k % 10\n",
    "        k // 10 \n",
    "        \n",
    "    if i == r :\n",
    "        cnt += 1\n",
    "        \n",
    "\n",
    "print(cnt)"
   ]
  },
  {
   "cell_type": "code",
   "execution_count": null,
   "metadata": {},
   "outputs": [],
   "source": []
  }
 ],
 "metadata": {
  "kernelspec": {
   "display_name": "python_work",
   "language": "python",
   "name": "python3"
  },
  "language_info": {
   "codemirror_mode": {
    "name": "ipython",
    "version": 3
   },
   "file_extension": ".py",
   "mimetype": "text/x-python",
   "name": "python",
   "nbconvert_exporter": "python",
   "pygments_lexer": "ipython3",
   "version": "3.8.18"
  }
 },
 "nbformat": 4,
 "nbformat_minor": 2
}
