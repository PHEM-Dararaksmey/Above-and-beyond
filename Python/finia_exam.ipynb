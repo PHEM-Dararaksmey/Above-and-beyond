{
 "cells": [
  {
   "cell_type": "code",
   "execution_count": 2,
   "metadata": {},
   "outputs": [
    {
     "name": "stdout",
     "output_type": "stream",
     "text": [
      "[19, 7, 10]\n"
     ]
    }
   ],
   "source": [
    "import random as rd \n",
    "list_var = list(range(1,21))\n",
    "print(rd.sample(list_var,3))"
   ]
  },
  {
   "cell_type": "code",
   "execution_count": 3,
   "metadata": {},
   "outputs": [
    {
     "name": "stdout",
     "output_type": "stream",
     "text": [
      "['a', 'b', 'c', 1, 2]\n"
     ]
    }
   ],
   "source": [
    "list_var = ['b']\n",
    "list_var.append('c')\n",
    "list_var.insert(0, 'a')\n",
    "list_var.extend([1,2])\n",
    "print(list_var)"
   ]
  },
  {
   "cell_type": "code",
   "execution_count": 4,
   "metadata": {},
   "outputs": [
    {
     "name": "stdout",
     "output_type": "stream",
     "text": [
      "29\n"
     ]
    }
   ],
   "source": [
    "my_list = [2,5,8,3,10,7,6,4]\n",
    "my_list.pop()\n",
    "min_value = min(my_list)\n",
    "if min_value in my_list:\n",
    "    my_list.remove(min_value)\n",
    "\n",
    "max_index = my_list.index(max(my_list))\n",
    "del my_list[max_index]\n",
    "\n",
    "print(sum(my_list))"
   ]
  },
  {
   "cell_type": "code",
   "execution_count": 8,
   "metadata": {},
   "outputs": [
    {
     "name": "stdout",
     "output_type": "stream",
     "text": [
      "20\n"
     ]
    }
   ],
   "source": [
    "numbers = list(range(1,21))\n",
    "\n",
    "odd_number = []\n",
    "even_number = []\n",
    "\n",
    "for num in numbers:\n",
    "    if num % 2 == 0:\n",
    "        even_number.append(num)\n",
    "    else:\n",
    "        odd_number.append(numbers)\n",
    "\n",
    "odd_number = len(odd_number)\n",
    "even_number = len(even_number)\n",
    "\n",
    "print(odd_number + even_number)"
   ]
  },
  {
   "cell_type": "code",
   "execution_count": 5,
   "metadata": {},
   "outputs": [
    {
     "name": "stdout",
     "output_type": "stream",
     "text": [
      "720\n"
     ]
    }
   ],
   "source": [
    "n = 6 \n",
    "fact = 1 \n",
    "for i in range(1, n+ 1):\n",
    "    fact *= i\n",
    "print(fact)"
   ]
  },
  {
   "cell_type": "code",
   "execution_count": 10,
   "metadata": {},
   "outputs": [
    {
     "name": "stdout",
     "output_type": "stream",
     "text": [
      "1100\n"
     ]
    }
   ],
   "source": [
    "rest = 0 \n",
    "stop = 10 \n",
    "under = True \n",
    "\n",
    "while under:\n",
    "    rest += 1 \n",
    "    if rest == stop:\n",
    "        under = False \n",
    "        rest *= sum(range(stop + 1 )) * 2 \n",
    "        \n",
    "print(rest)"
   ]
  },
  {
   "cell_type": "code",
   "execution_count": 6,
   "metadata": {},
   "outputs": [
    {
     "name": "stdout",
     "output_type": "stream",
     "text": [
      "10\n"
     ]
    }
   ],
   "source": [
    "input_a , input_b = 100, 200\n",
    "cnt = 0\n",
    "for i in range(input_a,input_b + 1):\n",
    "    k, r =i, 0\n",
    "    while k != 0:\n",
    "        r = r * 10 + k % 10\n",
    "        k //=10 \n",
    "        \n",
    "    if i == r :\n",
    "        cnt += 1\n",
    "        \n",
    "print(cnt)"
   ]
  },
  {
   "cell_type": "code",
   "execution_count": 7,
   "metadata": {},
   "outputs": [
    {
     "name": "stdout",
     "output_type": "stream",
     "text": [
      "2\n"
     ]
    }
   ],
   "source": [
    "list1 = [10, 20, 30]\n",
    "list2 = [10, 20, 30]\n",
    "string1 = 'ABC'\n",
    "string2 = 'ABC'\n",
    "if list1 == list2:\n",
    "    if list1 is list2:\n",
    "        print(1)\n",
    "    else:\n",
    "        if string1 == string2:\n",
    "            if string1 is string2:\n",
    "                print(2)\n",
    "            else:\n",
    "                print(3)\n",
    "        else:\n",
    "            print(4)\n",
    "else:\n",
    "    print(5)"
   ]
  },
  {
   "cell_type": "code",
   "execution_count": 8,
   "metadata": {},
   "outputs": [
    {
     "data": {
      "text/plain": [
       "False"
      ]
     },
     "execution_count": 8,
     "metadata": {},
     "output_type": "execute_result"
    }
   ],
   "source": [
    "list1 is list2 "
   ]
  },
  {
   "cell_type": "code",
   "execution_count": 9,
   "metadata": {},
   "outputs": [
    {
     "data": {
      "text/plain": [
       "True"
      ]
     },
     "execution_count": 9,
     "metadata": {},
     "output_type": "execute_result"
    }
   ],
   "source": [
    "string1 is string2"
   ]
  },
  {
   "cell_type": "code",
   "execution_count": 13,
   "metadata": {},
   "outputs": [
    {
     "name": "stdout",
     "output_type": "stream",
     "text": [
      "1050\n"
     ]
    }
   ],
   "source": [
    "numbers = list(range(1,101))\n",
    "multiple5 = [num for num in numbers if num % 5 == 0]\n",
    "if any(multiple5):\n",
    "    total= sum(multiple5)\n",
    "else:\n",
    "    total = 0\n",
    "\n",
    "print(total)"
   ]
  },
  {
   "cell_type": "code",
   "execution_count": 15,
   "metadata": {},
   "outputs": [
    {
     "name": "stdout",
     "output_type": "stream",
     "text": [
      "45\n"
     ]
    }
   ],
   "source": [
    "matrix = [\n",
    "    [1,2,3],\n",
    "    [4,5,6],\n",
    "    [7,8,9]\n",
    "]\n",
    "print(sum(sum(row) for row in matrix))"
   ]
  },
  {
   "cell_type": "code",
   "execution_count": 16,
   "metadata": {},
   "outputs": [
    {
     "name": "stdout",
     "output_type": "stream",
     "text": [
      "34\n"
     ]
    }
   ],
   "source": [
    "matrix = [[i + j for j in range(3)]for i in range(3,6)]\n",
    "threstold = 5 \n",
    "result = [element for row in matrix for element in row if element >= threstold]\n",
    "\n",
    "print(sum(result))"
   ]
  },
  {
   "cell_type": "code",
   "execution_count": 26,
   "metadata": {},
   "outputs": [
    {
     "name": "stdout",
     "output_type": "stream",
     "text": [
      "False\n"
     ]
    }
   ],
   "source": [
    "import copy \n",
    "array1 = [[1,2,3],[4,5,6],[7,8,9]]\n",
    "array2 = copy.copy(array1)\n",
    "print(array1 is array2 ) "
   ]
  },
  {
   "cell_type": "code",
   "execution_count": 23,
   "metadata": {},
   "outputs": [
    {
     "name": "stdout",
     "output_type": "stream",
     "text": [
      "False\n"
     ]
    }
   ],
   "source": [
    "import copy \n",
    "array1 = [[1,2,3],[4,5,6],[7,8,9]]\n",
    "array2 = copy.deepcopy(array1)\n",
    "print(array1 is array2 ) "
   ]
  },
  {
   "cell_type": "code",
   "execution_count": 27,
   "metadata": {},
   "outputs": [
    {
     "name": "stdout",
     "output_type": "stream",
     "text": [
      "3\n"
     ]
    }
   ],
   "source": [
    "array = []\n",
    "for i in range(1, 6):\n",
    "    inner_list = []\n",
    "    for j in range(i):\n",
    "        inner_list.append(j)\n",
    "    array.append(inner_list)\n",
    "print(array[4][3])"
   ]
  },
  {
   "cell_type": "code",
   "execution_count": 30,
   "metadata": {},
   "outputs": [
    {
     "name": "stdout",
     "output_type": "stream",
     "text": [
      "10\n"
     ]
    }
   ],
   "source": [
    "array = [[10 * i]* i for i in range(1, 6)]\n",
    "\n",
    "thresshold = 300 \n",
    "\n",
    "total_sum = sum(element for sublist in array for element in sublist)\n",
    "\n",
    "result = array[0][0] if total_sum > thresshold else None \n",
    "print(result) # Answer is None"
   ]
  },
  {
   "cell_type": "code",
   "execution_count": 31,
   "metadata": {},
   "outputs": [
    {
     "name": "stdout",
     "output_type": "stream",
     "text": [
      "Success.\n",
      "Exit.\n"
     ]
    }
   ],
   "source": [
    "try: \n",
    "    with open(\"example.text\",\"w\") as file:\n",
    "        for _ in range(5):\n",
    "            file.write(\"Hello, world!\\n\")\n",
    "    with open(\"example.text\",\"r\") as file:\n",
    "        content = file.read()\n",
    "\n",
    "except FileNotFoundErrorr:\n",
    "    print(\"File not found.\", end=' ')\n",
    "except PermissionError:\n",
    "    print(\"Permission denied.\", end=' ')\n",
    "except Exception as e:\n",
    "    print(\"Error occurred:\",e , end=' ')\n",
    "else:\n",
    "    print(\"Success.\")\n",
    "finally:\n",
    "    print(\"Exit.\")"
   ]
  },
  {
   "cell_type": "code",
   "execution_count": 34,
   "metadata": {},
   "outputs": [
    {
     "name": "stdout",
     "output_type": "stream",
     "text": [
      "File content:\n",
      "Hello, world!\n",
      "Hello, world!\n",
      "Hello, world!\n",
      "Hello, world!\n",
      "Hello, world!\n",
      "\n",
      "Exit.\n"
     ]
    }
   ],
   "source": [
    "try: \n",
    "    with open(\"example.text\",\"w+\") as file:\n",
    "        for _ in range(5):\n",
    "            file.write(\"Hello, world!\\n\")\n",
    "        file.seek(0)\n",
    "        content = file.read()\n",
    "\n",
    "except FileNotFoundErrorr:\n",
    "    print(\"File not found.\", end=' ')\n",
    "except PermissionError:\n",
    "    print(\"Permission denied.\", end=' ')\n",
    "except Exception as e:\n",
    "    print(\"Error occurred:\",e , end=' ')\n",
    "else:\n",
    "    print(\"File content:\")\n",
    "    print(content)\n",
    "finally:\n",
    "    print(\"Exit.\")"
   ]
  },
  {
   "cell_type": "code",
   "execution_count": null,
   "metadata": {},
   "outputs": [],
   "source": [
    "while True:\n",
    "    filename = input(\"Enter file name : \")\n",
    "    try:\n",
    "        with open(filename,\"x\") as file:\n",
    "            for _ in range(5):\n",
    "                file.write(\"Hello, world!\\n\")\n",
    "    except"
   ]
  },
  {
   "cell_type": "code",
   "execution_count": 37,
   "metadata": {},
   "outputs": [
    {
     "name": "stdout",
     "output_type": "stream",
     "text": [
      "{'o1': {'i1': 1, 'i2': 4}, 'o2': {'i3': 'updated', 'i4': 4}}\n"
     ]
    }
   ],
   "source": [
    "nested_dic = {}\n",
    "nested_dic.setdefault('o1', {'i1':1, 'i2': 4})\n",
    "nested_dic.setdefault('o2', {'i3':3, 'i4': 4})\n",
    "\n",
    "nested_dic['o2']['i3'] = 'updated'\n",
    "\n",
    "print(nested_dic)"
   ]
  },
  {
   "cell_type": "code",
   "execution_count": 39,
   "metadata": {},
   "outputs": [
    {
     "name": "stdout",
     "output_type": "stream",
     "text": [
      "{'o1': {'i1': 1, 'i2': 2}, 'o2': {'i3': 2}, 'o3': {'i4': 4}}\n"
     ]
    }
   ],
   "source": [
    "nested_dict = {\n",
    "    'o1' : {\n",
    "        'i1' : 1,\n",
    "        'i2' : 2 \n",
    "    },\n",
    "    'o2':{\n",
    "        'i3': 2\n",
    "    }\n",
    "}\n",
    "\n",
    "nested_dict.setdefault('o3',{})['i4'] = 4 \n",
    "print(nested_dict)"
   ]
  },
  {
   "cell_type": "code",
   "execution_count": 41,
   "metadata": {},
   "outputs": [
    {
     "name": "stdout",
     "output_type": "stream",
     "text": [
      ",olleH!dlroW"
     ]
    }
   ],
   "source": [
    "text = \"  Hello, World! \"\n",
    "\n",
    "words = text.strip().split()\n",
    "\n",
    "for word in words:\n",
    "    print(word[::-1], end= '')"
   ]
  },
  {
   "cell_type": "code",
   "execution_count": 42,
   "metadata": {},
   "outputs": [
    {
     "name": "stdout",
     "output_type": "stream",
     "text": [
      "E\n"
     ]
    }
   ],
   "source": [
    "sentence = \"This is a simple sentence to demonstrate the frequency counting of a alphabets\"\n",
    "\n",
    "letter_count = { }\n",
    "\n",
    "for char in sentence :\n",
    "    if char.isalpha():\n",
    "        char = char.lower()\n",
    "        if char in letter_count:\n",
    "            letter_count[char] += 1 \n",
    "        else:\n",
    "            letter_count[char] = 1\n",
    "\n",
    "max_letter = max(letter_count , key = letter_count.get)\n",
    "\n",
    "print(max_letter.upper())"
   ]
  },
  {
   "cell_type": "code",
   "execution_count": 44,
   "metadata": {},
   "outputs": [
    {
     "name": "stdout",
     "output_type": "stream",
     "text": [
      "{3}\n"
     ]
    }
   ],
   "source": [
    "def my_func(num):\n",
    "    divisors = set()\n",
    "    for i in range(2, num):\n",
    "        if  num % i == 0:\n",
    "            divisors.add(i)\n",
    "    return divisors \n",
    "\n",
    "print(my_func(33) & my_func(12))"
   ]
  },
  {
   "cell_type": "code",
   "execution_count": 46,
   "metadata": {},
   "outputs": [
    {
     "name": "stdout",
     "output_type": "stream",
     "text": [
      "1 2 4 5 6 end\n"
     ]
    }
   ],
   "source": [
    "values = 4,2,6,1,3,5\n",
    "my_set = set(iter(values))\n",
    "my_set.add(6)\n",
    "my_set.remove(3)\n",
    "for value in sorted(my_set):\n",
    "    print(value, end=' ')\n",
    "print('end')"
   ]
  },
  {
   "cell_type": "code",
   "execution_count": 48,
   "metadata": {},
   "outputs": [
    {
     "name": "stdout",
     "output_type": "stream",
     "text": [
      "nan\n"
     ]
    }
   ],
   "source": [
    "import pandas as pd \n",
    "\n",
    "seried1 = pd.Series([10,20,30], index = ['a','b','c'])\n",
    "seried2 = pd.Series([1,2,3,4], index = ['a','b','c','d'])\n",
    "\n",
    "result = seried1 + seried2\n",
    "result = result / seried2\n",
    "result = result ** 2\n",
    "\n",
    "print(result['d'])\n"
   ]
  },
  {
   "cell_type": "code",
   "execution_count": null,
   "metadata": {},
   "outputs": [],
   "source": []
  }
 ],
 "metadata": {
  "kernelspec": {
   "display_name": "Python 3 (ipykernel)",
   "language": "python",
   "name": "python3"
  },
  "language_info": {
   "codemirror_mode": {
    "name": "ipython",
    "version": 3
   },
   "file_extension": ".py",
   "mimetype": "text/x-python",
   "name": "python",
   "nbconvert_exporter": "python",
   "pygments_lexer": "ipython3",
   "version": "3.8.18"
  }
 },
 "nbformat": 4,
 "nbformat_minor": 4
}
