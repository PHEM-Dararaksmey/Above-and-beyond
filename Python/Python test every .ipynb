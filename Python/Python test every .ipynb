{
 "cells": [
  {
   "cell_type": "markdown",
   "metadata": {},
   "source": [
    "# Every Section Python Test  In Python course\n",
    "(Above and beyond schools)"
   ]
  },
  {
   "cell_type": "markdown",
   "metadata": {},
   "source": [
    "#### Python Test Section 1 : Sequential Programming Plan"
   ]
  },
  {
   "cell_type": "markdown",
   "metadata": {},
   "source": [
    "__Test 1__\n",
    "\n",
    "![alt text](images/Lession%201/Python%20Test%201.png)\n",
    "\n",
    "The correct answer is = <FONT color ='green'>print</FONT>"
   ]
  },
  {
   "cell_type": "code",
   "execution_count": null,
   "metadata": {},
   "outputs": [],
   "source": [
    "print(\"Hello!\")"
   ]
  },
  {
   "cell_type": "markdown",
   "metadata": {},
   "source": [
    "__Test 2__ <br>\n",
    "\n",
    "![alt text](images/Lession%201/Python%20Test%202.png)\n",
    "\n",
    "* Test 3 <br>\n",
    "\n",
    "![alt text](images/Lession%201/Python%20Test%203.png)\n",
    "\n",
    "* Test 4 <br>\n",
    "\n",
    "![alt text](images/Lession%201/Python%20Test%204.png)\n",
    "\n",
    "* Test 5 <br>\n",
    "![alt text](images/Lession%201/Python%20Test%205.png)"
   ]
  },
  {
   "cell_type": "markdown",
   "metadata": {},
   "source": [
    "#### Python Test Section 2 : Sequential Programming Plan"
   ]
  },
  {
   "cell_type": "markdown",
   "metadata": {},
   "source": []
  }
 ],
 "metadata": {
  "language_info": {
   "name": "python"
  }
 },
 "nbformat": 4,
 "nbformat_minor": 2
}
