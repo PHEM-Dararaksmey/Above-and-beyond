{
 "cells": [
  {
   "cell_type": "markdown",
   "metadata": {},
   "source": [
    "# 19. Lambd \n",
    "Learning Objective\n",
    "\n",
    "* 1 Learners can use lambda functions to utilize functional capabilities without using the def statment\n",
    "* 2 Learners can use the filter function to extract elements from a list that satisfy specific conditions \n",
    "* 3 Learners can use the map function to change the value of elements in a list \n",
    "* 4 Learners can use the reduce function to perform cumulative aggregation on multiple data poin \n",
    "* 5 Learners can create lambda functions as the set comprehension or list comprehension of one-liner expression\n",
    "## Main Keywords \n",
    "- lamda\n",
    "- filter \n",
    "- map \n",
    "- reduce\n",
    "\n",
    "## 1.Real world problem \n",
    "### 1.1 Digital Content and Copy right\n",
    "![alt text](images/Lession%2018/Digital%20Content%20and%20Copy%20right.png)\n",
    "![alt text](images/Lession%2018/Digital%20Content%20and%20Copy%20right%201.png)\n",
    "### 1.2 Sherlock Holmes Series \n",
    "![alt text](images/Lession%2018/Sherlock%20Holmes%20Series.png)\n",
    "![alt text](images/Lession%2018/Sherlock%20Holmes%20Series%201.png)\n",
    "* We intend to write a program that takes a date input in the format of \"1887.11.20\" from the user and checks if the input year matches the year when Conan Doyle published the book\n",
    "* The process of breaking down and interpreting the given string into meaningful unites is called <FONT color =\"yellow\">parshing</FONT>\n",
    "### 1.3 Additional Resources Related to the Sherlock Holmes Series \n",
    "![alt text](images/Lession%2018/Additional%20Resources%20Related%20to%20the%20Sherlock%20Holmes%20Series%20.png)\n",
    "## 2.Soultions\n",
    "### 2.1 Parsing the data and comparing it with the publication year of the Sherlock Holmes series\n",
    "![alt text](images/Lession%2018/Parsing%20the%20data%20and%20comparing%20it%20with%20the%20publication%20year%20of%20the%20Sherlock%20Holmes%20series.png)\n",
    "![alt text](images/Lession%2018/Parsing%20the%20data%20and%20comparing%20it%20with%20the%20publication%20year%20of%20the%20Sherlock%20Holmes%20series%20(1).png)\n",
    "## 3.Mission\n",
    "### 3.1 Sherlock Holmes Operation Process\n",
    "![alt text](images/Lession%2018/3.1%20Sherlock%20Holmes%20Operation%20Process%201.png)\n",
    "![alt text](images/Lession%2018//%203.1%20Sherlock%20Holmes%20Operation%20Process%201.png)\n",
    "### 3.2 Programming Plan \n",
    "![alt text](images/Lession%2018/Programming%20Plan%201.png)\n",
    "![alt text](images/Lession%2018/Programming%20Plan%202.png)"
   ]
  },
  {
   "cell_type": "markdown",
   "metadata": {},
   "source": []
  },
  {
   "cell_type": "markdown",
   "metadata": {},
   "source": []
  },
  {
   "cell_type": "markdown",
   "metadata": {},
   "source": []
  }
 ],
 "metadata": {
  "language_info": {
   "name": "python"
  }
 },
 "nbformat": 4,
 "nbformat_minor": 2
}
