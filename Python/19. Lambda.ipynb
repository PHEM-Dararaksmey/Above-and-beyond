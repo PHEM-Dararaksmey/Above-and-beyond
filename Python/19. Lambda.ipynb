{
 "cells": [
  {
   "cell_type": "markdown",
   "metadata": {},
   "source": [
    "# 19. Lambd \n",
    "Learning Objective\n",
    "\n",
    "* 1 Learners can use lambda functions to utilize functional capabilities without using the def statment\n",
    "* 2 Learners can use the filter function to extract elements from a list that satisfy specific conditions \n",
    "* 3 Learners can use the map function to change the value of elements in a list \n",
    "* 4 Learners can use the reduce function to perform cumulative aggregation on multiple data poin \n",
    "* 5 Learners can create lambda functions as the set comprehension or list comprehension of one-liner expression\n",
    "## Main Keywords \n",
    "- lamda\n",
    "- filter \n",
    "- map \n",
    "- reduce\n",
    "\n",
    "## 1.Real world problem \n",
    "### 1.1 Digital Content and Copy right\n",
    "![alt text](images/Lession%2018/Digital%20Content%20and%20Copy%20right.png)\n",
    "![alt text](images/Lession%2018/Digital%20Content%20and%20Copy%20right%201.png)\n",
    "### 1.2 Sherlock Holmes Series \n",
    "![alt text](images/Lession%2018/Sherlock%20Holmes%20Series.png)\n",
    "![alt text](images/Lession%2018/Sherlock%20Holmes%20Series%201.png)\n",
    "* We intend to write a program that takes a date input in the format of \"1887.11.20\" from the user and checks if the input year matches the year when Conan Doyle published the book\n",
    "* The process of breaking down and interpreting the given string into meaningful unites is called <FONT color =\"yellow\">parshing</FONT>\n",
    "### 1.3 Additional Resources Related to the Sherlock Holmes Series \n",
    "![alt text](images/Lession%2018/Additional%20Resources%20Related%20to%20the%20Sherlock%20Holmes%20Series%20.png)\n",
    "## 2.Soultions\n",
    "### 2.1 Parsing the data and comparing it with the publication year of the Sherlock Holmes series\n",
    "![alt text](images/Lession%2018/Parsing%20the%20data%20and%20comparing%20it%20with%20the%20publication%20year%20of%20the%20Sherlock%20Holmes%20series.png)\n",
    "![alt text](images/Lession%2018/Parsing%20the%20data%20and%20comparing%20it%20with%20the%20publication%20year%20of%20the%20Sherlock%20Holmes%20series%20(1).png)\n",
    "## 3.Mission\n",
    "### 3.1 Sherlock Holmes Operation Process\n",
    "![alt text](images/Lession%2018/3.1%20Sherlock%20Holmes%20Operation%20Process%201.png)\n",
    "![alt text](images/Lession%2018//%203.1%20Sherlock%20Holmes%20Operation%20Process%201.png)\n",
    "### 3.2 Programming Plan \n",
    "![alt text](images/Lession%2018/Programming%20Plan%201.png)\n",
    "![alt text](images/Lession%2018/Programming%20Plan%202.png)"
   ]
  },
  {
   "cell_type": "markdown",
   "metadata": {},
   "source": [
    "## 2.Key concept\n",
    "### 1. Lamda Function \n",
    "#### 1.1 What is a lambda function ?\n",
    "* First,let's create a function called <FONT color =\"yellow\">\"add\"</FONT>using the <FONT color =\"yellow\">\"def\"</FONT> statement to define it,which takes parameters x and y and returns their sum.\n",
    "* It may feel cumbersome to use the syntax ofa user-defined function,starting with the def keyword,giving the function a name,implementing its body, and specifying the return value using the return statement.\n",
    "* In such cases,it is possible to create a disposable and simple function,which is called a <FONT color =\"yellow\">lambda function</FONT>\n",
    "* A lambda expression, also referred to an anonymous function,due to its nature of having <FONT color =\"lightblue\">no name.</FONT>\n",
    "* <FONT color =\"lightblue\">Comparison between regular functions and lambda function.</FONT>: Regular functions are expressed with the def keyword, function name , parameters,a colon, and a body consisting of two or more lime,while lamda function on the right-hand side can be expressd with just one line separated by a colon between the parameters and the function body.\n",
    "![alt text](images/Lession%2018/What%20is%20lamda.png)\n",
    "#### 1.2 Defining lambda function\n",
    "* Let's learn how to define lambda functions and pass arguments.Simply define using the keyword 'lambda' and put the arguments in parantheses \n",
    "![alt text](images/Lession%2018/Define%20lambda%20function%201.png)\n",
    "#### 1.3 Converting a regular function to lambda\n",
    "* The code below shows the addition of integers using the add function \n",
    "* Despite being a simple function that adds two numbers, it still needs to follow all the syntaxes such as the 'def' keyword,function name,function body, and the 'return' keyword for returning.\n",
    "\n"
   ]
  },
  {
   "cell_type": "code",
   "execution_count": 1,
   "metadata": {},
   "outputs": [
    {
     "name": "stdout",
     "output_type": "stream",
     "text": [
      "The sum of 100 and 200 : 300\n"
     ]
    }
   ],
   "source": [
    "def add (x,y):\n",
    "    return x + y \n",
    "\n",
    "print('The sum of 100 and 200 :',add(100,200))"
   ]
  },
  {
   "cell_type": "markdown",
   "metadata": {},
   "source": [
    "* Now,let's create the following code using a lambda function instead of defining a function called add "
   ]
  },
  {
   "cell_type": "code",
   "execution_count": 2,
   "metadata": {},
   "outputs": [
    {
     "name": "stdout",
     "output_type": "stream",
     "text": [
      "The sum of 100 and 200 300\n"
     ]
    }
   ],
   "source": [
    "add = lambda x , y : x + y\n",
    "print('The sum of 100 and 200 =',add(100,200))"
   ]
  },
  {
   "cell_type": "markdown",
   "metadata": {},
   "source": [
    "* The lambda function can even be simplified as follows and still work fine,without the need for a variable like 'add' to reference this lambda expression"
   ]
  },
  {
   "cell_type": "code",
   "execution_count": 3,
   "metadata": {},
   "outputs": [
    {
     "name": "stdout",
     "output_type": "stream",
     "text": [
      "The sum of 100 and 200 : 300\n"
     ]
    }
   ],
   "source": [
    "print('The sum of 100 and 200 :',(lambda x,y : x + y)(100,200))"
   ]
  },
  {
   "cell_type": "markdown",
   "metadata": {},
   "source": [
    "#### 1.4 Functions that take 'iterable data type' and 'function' as parameters \n",
    "* Python provides built-in functions called 'filter' and 'map', which take two parameters that are the iterable data type and a function referred to as 'mapping function'.\n",
    "The mapping function is applied to each elemetn of the iterable data type.\n",
    "![alt text](images/Lession%2018/Map%20function.png)\n",
    "* The filter and map functions return an 'iterator'form, and they need to be converted back to the desired iterable data type using the type conversion function like 'list','tuple','set',etc.\n",
    "![alt text](images/Lession%2018/Filter%20function.png)\n",
    "![alt text](images/Lession%2018/Focus%201.4.png)\n",
    "* However, there is a drawback if there are many function calls. Storing the state before a function call and restoring the previous state after the function call occurs frequently \n",
    "This slows down the program's execution"
   ]
  },
  {
   "cell_type": "markdown",
   "metadata": {},
   "source": [
    "### 2.Lambda used as an argument in the filter function \n",
    "#### 2.1 What is the filter function?\n",
    "* Python provides various types of functions.Let's learn about the filter function.\n",
    "* The filter function takes iterable elements, applies a function to them, and returns only\n",
    "the elements for which the function returns Ture.\n",
    "* The syntax of the filter function is as follows:\n",
    "![alt text](images/Lession%2018/%20What%20is%20the%20filter%20function.png)\n",
    "#### 2.2 Example of using the filter function : Regular function "
   ]
  },
  {
   "cell_type": "code",
   "execution_count": 1,
   "metadata": {},
   "outputs": [
    {
     "name": "stdout",
     "output_type": "stream",
     "text": [
      "The list of adutl : \n",
      "34 39 20 54 "
     ]
    }
   ],
   "source": [
    "def adult_func(n):\n",
    "    if n >= 19:\n",
    "        return True\n",
    "    else:\n",
    "        return False\n",
    "    '''\n",
    "    line 1 ~ 5 \n",
    "        a function called adult_func is created, which take a variables n reperesenting the age passed as \n",
    "        as a parameter and returns True if the age is 19 or older considered an adult and Flase otherwise.\n",
    "    '''\n",
    "ages = [34,39,20,18,13,54] # Line 7 there is a list called 'ages'outside the function which contains arbitrary age value\n",
    "print(\"The list of adutl : \")\n",
    "for a in filter(adult_func,ages): # The filter function is used with the adult_func function as the first argument and the \n",
    "                                  # the iterable list variable 'ages' as the second argument.\n",
    "                                  # This filter function returns a list containing only the elements from ages\n",
    "                                  # for which the adult_func function returns True.\n",
    "    print(a,end=' ')"
   ]
  },
  {
   "cell_type": "markdown",
   "metadata": {},
   "source": [
    "* The adult_func function used here has the following characteristics:\n",
    "1. The algorithm is relatively simple.\n",
    "2. It does not require any separate internal variables.\n",
    "3. There is no need to reuse the filtered adult list.\n",
    "* When the functionality is simple and does not need to be reused, it is better to use lambda functions, as learned earlier.\n",
    "#### 2.3 Example of using the filter function : lambda\n",
    "* The adult_func function with these characteristice can be simplified even further by using the lambda keyword to create an anonymous function.\n",
    "* By modifying the adult_func functin to use a one-liner lambda function, the code becomes much shorter and simpler.\n",
    "* The filter function used here takes a filter condition function and an iterable data type as parameters."
   ]
  },
  {
   "cell_type": "code",
   "execution_count": 2,
   "metadata": {},
   "outputs": [
    {
     "name": "stdout",
     "output_type": "stream",
     "text": [
      "The list of adult:\n",
      "34 39 20 54 "
     ]
    }
   ],
   "source": [
    "ages = [34,39,20,18,13,54]\n",
    "print('The list of adult:')\n",
    "for a in filter(lambda x : x >= 19, ages): #  if x is 19 or older, it returns true and prints only value in ages\n",
    "                                           # that are 19 or older \n",
    "                                           # The lambda function lambda x:x>=19 is the filter condition.\n",
    "    print(a,end=' ')"
   ]
  },
  {
   "cell_type": "markdown",
   "metadata": {},
   "source": [
    "* Let's examine the owrking process of the lambda function using a diagram.\n",
    "![alt text](images/Lession%2018/Example%20of%20lamba%20function%20by%20digram.png)\n",
    "### 3.Lambda used as an argument in the map function \n",
    "#### 3.1 What is the map function ?\n",
    "* The map function applies a specified mapping function each elements of an iterable data type and returns an iterable data type.\n",
    "* Supposint there is a list named 'a' with item value [1,2,3,4,5,6,7], let's consider the case where we want to apply the square operation to each of these values and obtain the resulting list [1,4,9,16,25,36,49]\n",
    "![alt text](images/Lession%2018/What%20is%20a%20mapping%20function.png)\n",
    "#### 3.2 Example without using the map function \n",
    "*  <FONT color=\"lightblue\">e.g.</FONT>Let's consider adding the square of each element in list'a' when the elements of'a' are as follow \n",
    "* let's solve this problem using the approach we have already learned.\n",
    "* We have alreay leanred to create code that performs the square operation on each individual element'x' in list 'a' using the for statmetn and appends the result to the 'square_a' list using the append method.\n"
   ]
  },
  {
   "cell_type": "code",
   "execution_count": 4,
   "metadata": {},
   "outputs": [
    {
     "name": "stdout",
     "output_type": "stream",
     "text": [
      "[1, 4, 9, 16, 25, 36, 49]\n"
     ]
    }
   ],
   "source": [
    "a = [1,2,3,4,5,6,7]\n",
    "square_a = []\n",
    "for n in a :\n",
    "    \"\"\"\n",
    "        - Squares each element of 'a' and adds them individually to the 'square_a' list\n",
    "    \"\"\"\n",
    "    square_a.append(n ** 2) \n",
    "print(square_a)"
   ]
  },
  {
   "cell_type": "markdown",
   "metadata": {},
   "source": [
    "#### 3.3 Example using the map function : Regular function \n",
    "*  By using the map function and the square function, the previos code can be simplified as follows.They syntax of the map function is as follows:\n",
    " ![alt text](images/Lession%2018/Example%20using%20the%20map%20function%20_%20Regular%20function%20.png)\n",
    "* The map function takes two or more arguments. The first agument is the mapping function, and the second argument is an iterable data type such as a list that will be inputted into the mapping function.\n",
    "- Using this map function, the individual values of iterable data types like lists are sequentially applied to the mapping function, resulting in a list [1,4,9,16,25,36,49]\n",
    "that has the squared values of [1,2,3,4,5,6,7]."
   ]
  },
  {
   "cell_type": "code",
   "execution_count": 6,
   "metadata": {},
   "outputs": [
    {
     "name": "stdout",
     "output_type": "stream",
     "text": [
      "[1, 4, 9, 16, 25, 36, 49]\n"
     ]
    }
   ],
   "source": [
    "def square(x):\n",
    "    return x ** 2\n",
    "\n",
    "a=[1,2,3,4,5,6,7]\n",
    "square_a = list(map(square,a))\n",
    "print(square_a)"
   ]
  },
  {
   "cell_type": "markdown",
   "metadata": {},
   "source": [
    "#### 3.4 Example using the map function : lambda \n",
    "- By using the map function and lambda function, it is possible to transform the elements of a list into a more concise expression.\n",
    "\n",
    "- The lambda function used here is a disposable function that performs simple functions,making it more efficeient than defuning a function using the def statemente from outside \n"
   ]
  },
  {
   "cell_type": "code",
   "execution_count": 7,
   "metadata": {},
   "outputs": [
    {
     "name": "stdout",
     "output_type": "stream",
     "text": [
      "[1, 4, 9, 16, 25, 36, 49]\n"
     ]
    }
   ],
   "source": [
    "a=[1,2,3,4,5,6,7]\n",
    "square_a = list(map(lambda x : x ** 2 ,a))\n",
    "print(square_a)"
   ]
  },
  {
   "cell_type": "markdown",
   "metadata": {},
   "source": [
    "- explain of code above \n",
    "![alt text](images/Lession%2018/Example%20using%20the%20map%20function%20_%20lambda%20.png)\n",
    "### 4.Using lambda as an argument for the reduce function \n",
    "#### 4.1 What is the reduce function?\n",
    "* The'reduce'function is included in a module called 'functools'and can be used to perform operations on the items of an iterable data type using a given function and obtain a single value.\n",
    "<table>\n",
    "    <tr>\n",
    "        <td>\n",
    "        <img src=\"./images/Lession 18/What is the reduce function.png\">\n",
    "        <td>\n",
    "        <td>\n",
    "            <li> Let's try to understand this concept throught the following example</li>\n",
    "            <li> Suppose there is a lise seq = [S1,S2,S3,S4], and the reduce(func,seq) function is called. The following operations take place.</li>\n",
    "            <li> First, the first and second elements of the seq list , s1 and s2, are apssed as parameters to the func function in the reduce function.</li>\n",
    "            <li> The func function returns a specific value , which is then combined with the next element of seq,s3,as arguments to put the func function again.</li>\n",
    "            <li> This process can be represented as 'func(func(..),..)'.</li>\n",
    "            <li> It repeats this process recursively until the last elements is passed as the argument to put the func function</li>\n",
    "            <li> In the end,it returns only one value.</li>\n",
    "        <td>\n",
    "    </tr>\n",
    "</table>\n",
    "\n",
    "#### 4.2 Example of using the reduce function \n",
    "\n"
   ]
  },
  {
   "cell_type": "code",
   "execution_count": 9,
   "metadata": {},
   "outputs": [
    {
     "name": "stdout",
     "output_type": "stream",
     "text": [
      "10\n"
     ]
    }
   ],
   "source": [
    "from functools import reduce\n",
    "a = [1,2,3,4]\n",
    "n = reduce(lambda x , y : x + y ,a)\n",
    "print(n)"
   ]
  },
  {
   "cell_type": "markdown",
   "metadata": {},
   "source": [
    "- Line 2 : The list variable 'a' has elements 1,2,3,4.\n",
    "- Line 3 : The lambda function 'lambda x , y : x + y , which adds two input values, is applied to the first two value , 1 and 2 , resulting is 3 , The reduce function applies this process to all elements of the list.\n",
    "- There fore, the return value of 3 is then passed along with the third elemet, 3 , as the argument to put the lambda function, which returns the sum of the two numbers, 6.\n",
    "- This 7 value is then passed along with the final element, 4 as the argument to put the lambda function, which returs in a final return value of 10.\n",
    "\n",
    "### 5. One-liners and lambda \n",
    "#### 5.1 One-liners \n",
    "* Let's  review one-liners.\n",
    "* Among the syntaxes of one-liners, list comprehensions are as follows : \n",
    "![alt text](images/Lession%2018/One-liners.png)\n",
    "* Among the syntaxes of one-liners, set comprehensions are as follows : \n",
    "![alt text](images/Lession%2018/%20set%20comprehensions.png)\n",
    "- The if condition expression in a one-liner can be omitted if not needed.\n",
    "* One-liners have similarities with lambda function in terms of reducing code length \n"
   ]
  },
  {
   "cell_type": "code",
   "execution_count": 10,
   "metadata": {},
   "outputs": [
    {
     "data": {
      "text/plain": [
       "[0, 1, 2, 3, 4, 5, 6, 7, 8, 9]"
      ]
     },
     "execution_count": 10,
     "metadata": {},
     "output_type": "execute_result"
    }
   ],
   "source": [
    "[x for x in range(10)]"
   ]
  },
  {
   "cell_type": "code",
   "execution_count": 11,
   "metadata": {},
   "outputs": [
    {
     "data": {
      "text/plain": [
       "[0, 1, 4, 9, 16, 25, 36, 49, 64, 81]"
      ]
     },
     "execution_count": 11,
     "metadata": {},
     "output_type": "execute_result"
    }
   ],
   "source": [
    "[x * x for x in range(10)]"
   ]
  },
  {
   "cell_type": "code",
   "execution_count": 15,
   "metadata": {},
   "outputs": [
    {
     "data": {
      "text/plain": [
       "[1, 3, 5, 7, 9]"
      ]
     },
     "execution_count": 15,
     "metadata": {},
     "output_type": "execute_result"
    }
   ],
   "source": [
    "[x for x in range(10) if x % 2 == 1]"
   ]
  },
  {
   "cell_type": "code",
   "execution_count": 13,
   "metadata": {},
   "outputs": [
    {
     "data": {
      "text/plain": [
       "[0, 4, 16, 36, 64]"
      ]
     },
     "execution_count": 13,
     "metadata": {},
     "output_type": "execute_result"
    }
   ],
   "source": [
    "[x * x for x in range(10) if x % 2 == 0]"
   ]
  },
  {
   "cell_type": "code",
   "execution_count": 14,
   "metadata": {},
   "outputs": [
    {
     "data": {
      "text/plain": [
       "[1, 9, 25, 49, 81]"
      ]
     },
     "execution_count": 14,
     "metadata": {},
     "output_type": "execute_result"
    }
   ],
   "source": [
    "[x * x for x in range(10) if x % 2 == 1]"
   ]
  },
  {
   "cell_type": "markdown",
   "metadata": {},
   "source": [
    "<FONT color = \"red\">Focus</FONT> with one-liners, it is possible to express the following coding tasks in a single line."
   ]
  },
  {
   "cell_type": "code",
   "execution_count": 17,
   "metadata": {},
   "outputs": [
    {
     "data": {
      "text/plain": [
       "['10', '20', '30', '40']"
      ]
     },
     "execution_count": 17,
     "metadata": {},
     "output_type": "execute_result"
    }
   ],
   "source": [
    "s = input(\"Enter multiple integers : \").split()\n",
    "s "
   ]
  },
  {
   "cell_type": "code",
   "execution_count": 18,
   "metadata": {},
   "outputs": [
    {
     "data": {
      "text/plain": [
       "[10, 20, 30, 40]"
      ]
     },
     "execution_count": 18,
     "metadata": {},
     "output_type": "execute_result"
    }
   ],
   "source": [
    "lst = [int(x)for x in s]\n",
    "lst"
   ]
  },
  {
   "cell_type": "code",
   "execution_count": 20,
   "metadata": {},
   "outputs": [
    {
     "data": {
      "text/plain": [
       "[1, 2, 3]"
      ]
     },
     "execution_count": 20,
     "metadata": {},
     "output_type": "execute_result"
    }
   ],
   "source": [
    "[int(x)for x in input(\"Enter multiple inters : \").split()]"
   ]
  },
  {
   "cell_type": "markdown",
   "metadata": {},
   "source": [
    "* Thie code generates a new list by multiplying two lists. it uses a nestd for loop/"
   ]
  },
  {
   "cell_type": "code",
   "execution_count": 21,
   "metadata": {},
   "outputs": [
    {
     "name": "stdout",
     "output_type": "stream",
     "text": [
      "[2, 4, 6, 4, 8, 12, 6, 12, 18]\n"
     ]
    }
   ],
   "source": [
    "product_xy = []\n",
    "for x in [1,2,3]:\n",
    "    for y in [2,4,6]:\n",
    "        product_xy.append(x * y)\n",
    "print(product_xy)"
   ]
  },
  {
   "cell_type": "markdown",
   "metadata": {},
   "source": [
    "- by using a one-liner, a single line of code can be expressed as follows:\n"
   ]
  },
  {
   "cell_type": "code",
   "execution_count": 22,
   "metadata": {},
   "outputs": [
    {
     "name": "stdout",
     "output_type": "stream",
     "text": [
      "[2, 4, 6, 4, 8, 12, 6, 12, 18]\n"
     ]
    }
   ],
   "source": [
    "product_xy = [ x * y for x in [1,2,3]for y in[2,4,6]]\n",
    "print(product_xy)"
   ]
  },
  {
   "cell_type": "markdown",
   "metadata": {},
   "source": [
    "#### 5.2 Comparing one-liners and lambda function \n",
    "* Calculating the squares of a list using the map and <FONT color = 'yellow'>lambda function</FONT>.\n"
   ]
  },
  {
   "cell_type": "code",
   "execution_count": 23,
   "metadata": {},
   "outputs": [
    {
     "name": "stdout",
     "output_type": "stream",
     "text": [
      "[1, 4, 9, 16, 25, 36, 49]\n"
     ]
    }
   ],
   "source": [
    "a = [1,2,3,4,5,6,7]\n",
    "a = list(map(lambda x : x ** 2,a))\n",
    "print(a)"
   ]
  },
  {
   "cell_type": "markdown",
   "metadata": {},
   "source": [
    "* Calculating the squares of a list uinsg the one-liner "
   ]
  },
  {
   "cell_type": "code",
   "execution_count": 24,
   "metadata": {},
   "outputs": [
    {
     "name": "stdout",
     "output_type": "stream",
     "text": [
      "[1, 4, 9, 16, 25, 36, 49]\n"
     ]
    }
   ],
   "source": [
    "a = [1,2,3,4,5,6,7]\n",
    "a = [x ** 2 for x in a]\n",
    "print(a)"
   ]
  },
  {
   "cell_type": "code",
   "execution_count": 25,
   "metadata": {},
   "outputs": [
    {
     "name": "stdout",
     "output_type": "stream",
     "text": [
      "[1, 4, 9, 16, 25, 36, 49]\n"
     ]
    }
   ],
   "source": [
    "a = [x ** 2 for x in range(1,8)]\n",
    "print(a)"
   ]
  },
  {
   "cell_type": "markdown",
   "metadata": {},
   "source": [
    "* Let's take another look at filtering using the 'list' function , 'filter' function and lambda function."
   ]
  },
  {
   "cell_type": "code",
   "execution_count": 26,
   "metadata": {},
   "outputs": [
    {
     "name": "stdout",
     "output_type": "stream",
     "text": [
      "The list of adult : [34, 39, 20, 54]\n"
     ]
    }
   ],
   "source": [
    "ages = [34,39,20,18,13,54]\n",
    "adult_ages = list(filter(lambda x : x >= 19, ages))\n",
    "print('The list of adult :',adult_ages)"
   ]
  },
  {
   "cell_type": "code",
   "execution_count": 27,
   "metadata": {},
   "outputs": [
    {
     "name": "stdout",
     "output_type": "stream",
     "text": [
      "The list of adult : [34, 39, 20, 54]\n"
     ]
    }
   ],
   "source": [
    "ages = [34,39,20,18,13,54]\n",
    "print('The list of adult :',[x for x in ages if x >= 19])"
   ]
  },
  {
   "cell_type": "markdown",
   "metadata": {},
   "source": [
    "<FONT color = 'blue'>e.g.</FONT> Using one-liners and lambda function to get a list of multiples of 2,3 and 5 "
   ]
  },
  {
   "cell_type": "code",
   "execution_count": 28,
   "metadata": {},
   "outputs": [
    {
     "data": {
      "text/plain": [
       "[30]"
      ]
     },
     "execution_count": 28,
     "metadata": {},
     "output_type": "execute_result"
    }
   ],
   "source": [
    "[n for n in range(1,31) if n % 2 ==0 if n % 3 == 0 if n % 5 ==0]"
   ]
  },
  {
   "cell_type": "code",
   "execution_count": 30,
   "metadata": {},
   "outputs": [
    {
     "data": {
      "text/plain": [
       "[30]"
      ]
     },
     "execution_count": 30,
     "metadata": {},
     "output_type": "execute_result"
    }
   ],
   "source": [
    "list(filter(lambda x : (x % 2 ==0 and x %3 == 0 and x % 5 == 0), range(1,31)))"
   ]
  },
  {
   "cell_type": "markdown",
   "metadata": {},
   "source": [
    "## Paper Code :\n"
   ]
  },
  {
   "cell_type": "markdown",
   "metadata": {},
   "source": [
    "## Let code "
   ]
  },
  {
   "cell_type": "markdown",
   "metadata": {},
   "source": [
    "## Pair Programming "
   ]
  },
  {
   "cell_type": "code",
   "execution_count": null,
   "metadata": {},
   "outputs": [],
   "source": []
  }
 ],
 "metadata": {
  "kernelspec": {
   "display_name": "Python 3",
   "language": "python",
   "name": "python3"
  },
  "language_info": {
   "codemirror_mode": {
    "name": "ipython",
    "version": 3
   },
   "file_extension": ".py",
   "mimetype": "text/x-python",
   "name": "python",
   "nbconvert_exporter": "python",
   "pygments_lexer": "ipython3",
   "version": "3.9.6"
  }
 },
 "nbformat": 4,
 "nbformat_minor": 2
}
