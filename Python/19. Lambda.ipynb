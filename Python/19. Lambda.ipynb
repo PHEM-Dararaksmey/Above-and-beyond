{
 "cells": [
  {
   "cell_type": "markdown",
   "metadata": {},
   "source": [
    "# 19. Lambd \n",
    "Learning Objective\n",
    "\n",
    "* 1 Learners can use lambda functions to utilize functional capabilities without using the def statment\n",
    "* 2 Learners can use the filter function to extract elements from a list that satisfy specific conditions \n",
    "* 3 Learners can use the map function to change the value of elements in a list \n",
    "* 4 Learners can use the reduce function to perform cumulative aggregation on multiple data poin \n",
    "* 5 Learners can create lambda functions as the set comprehension or list comprehension of one-liner expression\n",
    "## Main Keywords \n",
    "- lamda\n",
    "- filter \n",
    "- map \n",
    "- reduce\n",
    "\n",
    "## 1.Real world problem \n",
    "### 1.1 Digital Content and Copy right\n",
    "![alt text](images/Lession%2018/Digital%20Content%20and%20Copy%20right.png)\n",
    "![alt text](images/Lession%2018/Digital%20Content%20and%20Copy%20right%201.png)\n",
    "### 1.2 Sherlock Holmes Series \n",
    "![alt text](images/Lession%2018/Sherlock%20Holmes%20Series.png)\n",
    "![alt text](images/Lession%2018/Sherlock%20Holmes%20Series%201.png)\n",
    "* We intend to write a program that takes a date input in the format of \"1887.11.20\" from the user and checks if the input year matches the year when Conan Doyle published the book\n",
    "* The process of breaking down and interpreting the given string into meaningful unites is called <FONT color =\"yellow\">parshing</FONT>\n",
    "### 1.3 Additional Resources Related to the Sherlock Holmes Series \n",
    "![alt text](images/Lession%2018/Additional%20Resources%20Related%20to%20the%20Sherlock%20Holmes%20Series%20.png)\n",
    "## 2.Soultions\n",
    "### 2.1 Parsing the data and comparing it with the publication year of the Sherlock Holmes series\n",
    "![alt text](images/Lession%2018/Parsing%20the%20data%20and%20comparing%20it%20with%20the%20publication%20year%20of%20the%20Sherlock%20Holmes%20series.png)\n",
    "![alt text](images/Lession%2018/Parsing%20the%20data%20and%20comparing%20it%20with%20the%20publication%20year%20of%20the%20Sherlock%20Holmes%20series%20(1).png)\n",
    "## 3.Mission\n",
    "### 3.1 Sherlock Holmes Operation Process\n",
    "![alt text](images/Lession%2018/3.1%20Sherlock%20Holmes%20Operation%20Process%201.png)\n",
    "![alt text](images/Lession%2018//%203.1%20Sherlock%20Holmes%20Operation%20Process%201.png)\n",
    "### 3.2 Programming Plan \n",
    "![alt text](images/Lession%2018/Programming%20Plan%201.png)\n",
    "![alt text](images/Lession%2018/Programming%20Plan%202.png)"
   ]
  },
  {
   "cell_type": "markdown",
   "metadata": {},
   "source": [
    "## 2.Key concept\n",
    "### 1. Lamda Function \n",
    "#### 1.1 What is a lambda function ?\n",
    "* First,let's create a function called <FONT color =\"yellow\">\"add\"</FONT>using the <FONT color =\"yellow\">\"def\"</FONT> statement to define it,which takes parameters x and y and returns their sum.\n",
    "* It may feel cumbersome to use the syntax ofa user-defined function,starting with the def keyword,giving the function a name,implementing its body, and specifying the return value using the return statement.\n",
    "* In such cases,it is possible to create a disposable and simple function,which is called a <FONT color =\"yellow\">lambda function</FONT>\n",
    "* A lambda expression, also referred to an anonymous function,due to its nature of having <FONT color =\"lightblue\">no name.</FONT>\n",
    "* <FONT color =\"lightblue\">Comparison between regular functions and lambda function.</FONT>: Regular functions are expressed with the def keyword, function name , parameters,a colon, and a body consisting of two or more lime,while lamda function on the right-hand side can be expressd with just one line separated by a colon between the parameters and the function body.\n",
    "![alt text](images/Lession%2018/What%20is%20lamda.png)\n",
    "#### 1.2 Defining lambda function\n",
    "* Let's learn how to define lambda functions and pass arguments.Simply define using the keyword 'lambda' and put the arguments in parantheses \n",
    "![alt text](images/Lession%2018/Define%20lambda%20function%201.png)\n",
    "#### 1.3 Converting a regular function to lambda\n",
    "* The code below shows the addition of integers using the add function \n",
    "* Despite being a simple function that adds two numbers, it still needs to follow all the syntaxes such as the 'def' keyword,function name,function body, and the 'return' keyword for returning.\n",
    "\n"
   ]
  },
  {
   "cell_type": "code",
   "execution_count": 1,
   "metadata": {},
   "outputs": [
    {
     "name": "stdout",
     "output_type": "stream",
     "text": [
      "The sum of 100 and 200 : 300\n"
     ]
    }
   ],
   "source": [
    "def add (x,y):\n",
    "    return x + y \n",
    "\n",
    "print('The sum of 100 and 200 :',add(100,200))"
   ]
  },
  {
   "cell_type": "markdown",
   "metadata": {},
   "source": [
    "* Now,let's create the following code using a lambda function instead of defining a function called add "
   ]
  },
  {
   "cell_type": "code",
   "execution_count": 2,
   "metadata": {},
   "outputs": [
    {
     "name": "stdout",
     "output_type": "stream",
     "text": [
      "The sum of 100 and 200 300\n"
     ]
    }
   ],
   "source": [
    "add = lambda x , y : x + y\n",
    "print('The sum of 100 and 200 =',add(100,200))"
   ]
  },
  {
   "cell_type": "markdown",
   "metadata": {},
   "source": [
    "* The lambda function can even be simplified as follows and still work fine,without the need for a variable like 'add' to reference this lambda expression"
   ]
  },
  {
   "cell_type": "code",
   "execution_count": 3,
   "metadata": {},
   "outputs": [
    {
     "name": "stdout",
     "output_type": "stream",
     "text": [
      "The sum of 100 and 200 : 300\n"
     ]
    }
   ],
   "source": [
    "print('The sum of 100 and 200 :',(lambda x,y : x + y)(100,200))"
   ]
  },
  {
   "cell_type": "markdown",
   "metadata": {},
   "source": [
    "#### 1.4 Functions that take 'iterable data type' and 'function' as parameters \n",
    "* Python provides built-in functions called 'filter' and 'map', which take two parameters that are the iterable data type and a function referred to as 'mapping function'.\n",
    "The mapping function is applied to each elemetn of the iterable data type.\n",
    "![alt text](images/Lession%2018/Map%20function.png)\n",
    "* The filter and map functions return an 'iterator'form, and they need to be converted back to the desired iterable data type using the type conversion function like 'list','tuple','set',etc.\n",
    "![alt text](images/Lession%2018/Filter%20function.png)\n",
    "![alt text](images/Lession%2018/Focus%201.4.png)\n",
    "* However, there is a drawback if there are many function calls. Storing the state before a function call and restoring the previous state after the function call occurs frequently \n",
    "This slows down the program's execution"
   ]
  },
  {
   "cell_type": "markdown",
   "metadata": {},
   "source": [
    "### 2.Lambda used as an argument in the filter function \n",
    "#### 2.1 What is the filter function?\n",
    "* Python provides various types of functions.Let's learn about the filter function.\n",
    "* The filter function takes iterable elements, applies a function to them, and returns only\n",
    "the elements for which the function returns Ture.\n",
    "* The syntax of the filter function is as follows:\n",
    "![alt text](images/Lession%2018/%20What%20is%20the%20filter%20function.png)"
   ]
  },
  {
   "cell_type": "markdown",
   "metadata": {},
   "source": []
  },
  {
   "cell_type": "code",
   "execution_count": null,
   "metadata": {},
   "outputs": [],
   "source": []
  },
  {
   "cell_type": "code",
   "execution_count": null,
   "metadata": {},
   "outputs": [],
   "source": []
  },
  {
   "cell_type": "markdown",
   "metadata": {},
   "source": []
  }
 ],
 "metadata": {
  "kernelspec": {
   "display_name": "Python 3",
   "language": "python",
   "name": "python3"
  },
  "language_info": {
   "codemirror_mode": {
    "name": "ipython",
    "version": 3
   },
   "file_extension": ".py",
   "mimetype": "text/x-python",
   "name": "python",
   "nbconvert_exporter": "python",
   "pygments_lexer": "ipython3",
   "version": "3.9.6"
  }
 },
 "nbformat": 4,
 "nbformat_minor": 2
}
